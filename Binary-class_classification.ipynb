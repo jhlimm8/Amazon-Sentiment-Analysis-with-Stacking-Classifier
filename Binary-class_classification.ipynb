{
 "cells": [
  {
   "cell_type": "markdown",
   "metadata": {},
   "source": [
    "Main reference:\n",
    "\n",
    "https://medium.com/swlh/natural-language-processing-nlp-analysis-with-amazon-review-data-part-i-data-engineering-6573b782e4dc\n",
    "https://melaniesoek0120.medium.com/natural-language-processing-nlp-amazon-review-data-part-ii-eda-data-preprocessing-and-model-3866dcbdbb77 \n"
   ]
  },
  {
   "cell_type": "markdown",
   "metadata": {},
   "source": [
    "## Read and DropNan"
   ]
  },
  {
   "cell_type": "code",
   "execution_count": 1,
   "metadata": {},
   "outputs": [
    {
     "name": "stdout",
     "output_type": "stream",
     "text": [
      "93907\n",
      "   overall                                         reviewText\n",
      "0        5  This is awesome to listen to, A must-have for ...\n",
      "1        5                                               bien\n",
      "2        5  It was great to hear the old stuff again and I...\n",
      "3        4  well best of's are a bit poison normally but t...\n",
      "4        5  What can I say? This is Casting Crowns!!!This ...\n",
      "[2165, 54714]\n"
     ]
    }
   ],
   "source": [
    "import pandas as pd\n",
    "import numpy as np\n",
    "\n",
    "\n",
    "df = pd.read_csv(r\"C:\\Users\\Lim Jia Hui\\Desktop\\songsdata.csv\")\n",
    "print(len(df.reviewText))\n",
    "print(df.head())\n",
    "nanlist = []\n",
    "for text in range(len(df.reviewText)):\n",
    "    if type(df.reviewText[text])!= str:\n",
    "        nanlist.append(int(text))\n",
    "print(nanlist)\n",
    "df.drop(index=nanlist, axis=0,inplace=True)\n",
    "df.reset_index(inplace=True)\n"
   ]
  },
  {
   "cell_type": "markdown",
   "metadata": {},
   "source": [
    "## Change Labels to Binary"
   ]
  },
  {
   "cell_type": "code",
   "execution_count": 2,
   "metadata": {},
   "outputs": [
    {
     "name": "stdout",
     "output_type": "stream",
     "text": [
      "0    1\n",
      "1    1\n",
      "2    1\n",
      "3    1\n",
      "4    1\n",
      "Name: overall, dtype: int64\n"
     ]
    }
   ],
   "source": [
    "for idx in range(df.shape[0]):\n",
    "    if df.loc[idx,'overall'] <= 3:\n",
    "        df.loc[idx,'overall'] = 0\n",
    "    if df.loc[idx,'overall'] > 3:\n",
    "        df.loc[idx,'overall'] = 1\n",
    "print(df['overall'].head())"
   ]
  },
  {
   "cell_type": "markdown",
   "metadata": {},
   "source": [
    "# Feature Extraction"
   ]
  },
  {
   "cell_type": "markdown",
   "metadata": {},
   "source": [
    "## Stopwords"
   ]
  },
  {
   "cell_type": "code",
   "execution_count": 3,
   "metadata": {},
   "outputs": [],
   "source": [
    "from nltk.corpus import stopwords\n",
    "import string\n",
    "\n",
    "sw_list = stopwords.words('english')\n",
    "sw_list += list(string.punctuation)\n",
    "sw_list += [\"''\", '\"\"', '...', '``', '’', '“', '’', '”', '‘', '‘',\"'\", '©','said',\"'s\", \"also\",'one',\"n't\",'com', '-', '–', '—', '_',\"/\",'..']"
   ]
  },
  {
   "cell_type": "markdown",
   "metadata": {},
   "source": [
    "## Tokenizer, Stemmer, and Lemmatizer"
   ]
  },
  {
   "cell_type": "code",
   "execution_count": 4,
   "metadata": {},
   "outputs": [
    {
     "name": "stdout",
     "output_type": "stream",
     "text": [
      "[['awesom', 'listen', 'must-hav', 'slayer', 'fan', 'sadli', 'need', 'tripl', 'disc', 'set', 'mani', 'hit'], ['bien'], ['great', 'hear', 'old', 'stuff', 'like', 'new', 'stuff', 'recommend', 'slayer', 'fan'], ['well', 'best', 'bite', 'poison', 'normal', 'bad', 'pretti', 'good', \"'d\", 'put', 'hell', 'await', 'reign', 'blood', 'south', 'season', 'divin', 'coupl', 'musica', 'track', 'everyth', 'god', 'hate', '-at', 'point', 'best', 'mean', 'everi', 'cd', 'mainli', 'bad', 'dose', 'put', 'great', 'track', 'live', 'show', 'play', 'much', 'like', 'skeleton', 'societi', 'sex', 'murder', 'art', 'gemini', 'rare', 'track', 'final', 'six', 'bonu', 'track', 'christ', 'illus', 'mysteri', 'cover', 'song', 'unditstput', 'attitud', 'cd', 'would', 'greatest', 'hit', 'collect', 'know', 'put', 'coupl', 'live', 'track', 'too.al', 'could', 'much', 'wors', 'great', 'car'], ['say', 'cast', 'crown', 'good', 'bless', 'fill', 'cd']]\n"
     ]
    }
   ],
   "source": [
    "import nltk\n",
    "from nltk.stem import PorterStemmer as ps\n",
    "from nltk.stem.wordnet import WordNetLemmatizer\n",
    "import re\n",
    "\n",
    "def Numbers_remover(text):\n",
    "    numless_data = re.sub(r'\\d+', '', text)\n",
    "    return numless_data\n",
    "\n",
    "def Tokenizer(data):\n",
    "    tokens = nltk.word_tokenize(data)\n",
    "    tokenized_data= []\n",
    "    for i in tokens:\n",
    "        if i.lower() not in sw_list:\n",
    "            tokenized_data.append(i.lower())\n",
    "    return tokenized_data\n",
    "\n",
    "def Stemmer(data2):\n",
    "    stemmed_data =[]\n",
    "    for j in data2:\n",
    "        stemmed_data.append(ps().stem(j))\n",
    "    return stemmed_data\n",
    "\n",
    "def Lemmatizer(data3):\n",
    "    lemmatized_data = []\n",
    "    for k in data3:\n",
    "        lemmatized_data.append(WordNetLemmatizer().lemmatize(k, pos='v'))\n",
    "    return lemmatized_data\n",
    "\n",
    "\n",
    "\n",
    "lemmatized_reviews = list(map(Lemmatizer,(map(Stemmer, (map(Tokenizer,map(Numbers_remover, df['reviewText'])))))))\n",
    "\n",
    "print(lemmatized_reviews[:5])\n",
    "\n"
   ]
  },
  {
   "cell_type": "markdown",
   "metadata": {},
   "source": [
    "## Post Lemmatized Nan Drops"
   ]
  },
  {
   "cell_type": "code",
   "execution_count": 5,
   "metadata": {},
   "outputs": [
    {
     "name": "stdout",
     "output_type": "stream",
     "text": [
      "[293, 1792, 1942, 2035, 2578, 2652, 3560, 3857, 5025, 5122, 5568, 6552, 6571, 7846, 8136, 9071, 9464, 10069, 11448, 11803, 12422, 12825, 13354, 14195, 14932, 16557, 18283, 28588, 30450, 30547, 30973, 32356, 32601, 33455, 35223, 35698, 35703, 37831, 37910, 39228, 40752, 42037, 43383, 44559, 45716, 48627, 50097, 52295, 52380, 52690, 54104, 55256, 56502, 59297, 59520, 60623, 60805, 61150, 61165, 62528, 65639, 66416, 68010, 69224, 69310, 70043, 70091, 70892, 71015, 71677, 72711, 73298, 73509, 73897, 75240, 75327, 75406, 76099, 76477, 77468, 77836, 77867, 80751, 81848, 82071, 82732, 82843, 85562, 86105, 86398, 88067, 88161, 88665, 89174, 89212, 90531, 90811, 90973, 91022, 91086, 91136, 91580, 92817]\n",
      "103\n",
      "93905\n",
      "93802\n"
     ]
    }
   ],
   "source": [
    "nanlist2 = []\n",
    "for word in range(len(lemmatized_reviews)):\n",
    "    if len(lemmatized_reviews[word]) == 0:\n",
    "        nanlist2.append(word)\n",
    "print(nanlist2)\n",
    "print(len(nanlist2))\n",
    "print(len(lemmatized_reviews))\n",
    "for nan in nanlist2:\n",
    "    lemmatized_reviews.remove([])\n",
    "print(len(lemmatized_reviews))\n",
    "\n"
   ]
  },
  {
   "cell_type": "markdown",
   "metadata": {},
   "source": [
    "### Removal from original df"
   ]
  },
  {
   "cell_type": "code",
   "execution_count": 6,
   "metadata": {},
   "outputs": [],
   "source": [
    "df.drop(index=nanlist2, axis=0,inplace=True)\n",
    "df.reset_index(inplace=True)\n"
   ]
  },
  {
   "cell_type": "markdown",
   "metadata": {},
   "source": [
    "## Train-Test and Train-Val-Test Split"
   ]
  },
  {
   "cell_type": "code",
   "execution_count": 7,
   "metadata": {},
   "outputs": [
    {
     "name": "stdout",
     "output_type": "stream",
     "text": [
      "Train set features array shape: (75041, 1)\n",
      "Test set features array shape: (18761, 1)\n",
      "Train set labels array shape: (75041, 1)\n",
      "Test set labels array shape: (18761, 1)\n",
      "Validation Train set features array shape: (60032, 1)\n",
      "Validation Test set features array shape: (15009, 1)\n",
      "Validation Train set labels array shape: (60032, 1)\n",
      "Validation Test set labels array shape: (15009, 1)\n"
     ]
    }
   ],
   "source": [
    "from sklearn.model_selection import train_test_split\n",
    "\n",
    "\n",
    "x_train, x_test, y_train, y_test = train_test_split(pd.DataFrame({'processed_reviews':lemmatized_reviews}), df['overall'].to_frame(name='overall'), test_size=0.2, random_state=0)\n",
    "\n",
    "x_val_train, x_val_test, y_val_train, y_val_test = train_test_split(x_train,y_train,test_size=0.2,stratify=y_train, random_state=0)\n",
    "\n",
    "print(\"Train set features array shape: {}\".format(x_train.shape))\n",
    "print(\"Test set features array shape: {}\".format(x_test.shape))\n",
    "print(\"Train set labels array shape: {}\".format(x_train.shape))\n",
    "print(\"Test set labels array shape: {}\".format(x_test.shape))\n",
    "print(\"Validation Train set features array shape: {}\".format(x_val_train.shape))\n",
    "print(\"Validation Test set features array shape: {}\".format(x_val_test.shape))\n",
    "print(\"Validation Train set labels array shape: {}\".format(y_val_train.shape))\n",
    "print(\"Validation Test set labels array shape: {}\".format(y_val_test.shape))\n",
    "\n"
   ]
  },
  {
   "cell_type": "code",
   "execution_count": 8,
   "metadata": {},
   "outputs": [
    {
     "name": "stdout",
     "output_type": "stream",
     "text": [
      "   overall  label_freq\n",
      "1        0        5877\n",
      "0        1       69164\n"
     ]
    }
   ],
   "source": [
    "print(pd.DataFrame({'label_freq' : y_train.value_counts()}).reset_index().sort_values(by='overall',ascending=True))"
   ]
  },
  {
   "cell_type": "markdown",
   "metadata": {},
   "source": [
    "## Visualising Label Imbalance"
   ]
  },
  {
   "cell_type": "code",
   "execution_count": 9,
   "metadata": {},
   "outputs": [
    {
     "data": {
      "image/png": "[encoded data removed]",
      "text/plain": [
       "<Figure size 432x288 with 1 Axes>"
      ]
     },
     "metadata": {
      "needs_background": "light"
     },
     "output_type": "display_data"
    }
   ],
   "source": [
    "import seaborn as sns\n",
    "import matplotlib.pyplot as plt\n",
    "\n",
    "sns.set_theme()\n",
    "\n",
    "label_freq_plot = pd.DataFrame({'label_freq' : y_train.value_counts()}).reset_index().sort_values(by='overall',ascending=True)\n",
    "\n",
    "sns.barplot(x=label_freq_plot['overall'],y=label_freq_plot['label_freq']).set_title('Labels by Frequency')\n",
    "\n",
    "plt.show()"
   ]
  },
  {
   "cell_type": "markdown",
   "metadata": {},
   "source": [
    "## Resampling\n"
   ]
  },
  {
   "cell_type": "code",
   "execution_count": 10,
   "metadata": {},
   "outputs": [],
   "source": [
    "# optional \"manual\" resampler with sklearn.utils.resample\n",
    "\n",
    "# from sklearn.utils import resample\n",
    "\n",
    "# xy_train = pd.concat([x_train,y_train], axis=1)\n",
    "# xy_val_train = pd.concat([x_val_train,y_val_train], axis=1)\n",
    "\n",
    "# def resampling(minority):\n",
    "#    resampled_minority = resample(minority, replace=True, n_samples= len(xy_train[xy_train.overall==5]), random_state=0)\n",
    "#    return resampled_minority\n",
    "\n",
    "# resampled_xy_train = xy_train[xy_train.overall==5]\n",
    "# resampled_xy_val_train = xy_val_train[xy_val_train.overall==5]\n",
    "\n",
    "# for i in range (1,5):\n",
    "#    resampled_xy_train = pd.concat([resampled_xy_train,resampling(xy_train[xy_train.overall==i])])\n",
    "\n",
    "# for i in range (1,5):\n",
    "#    resampled_xy_val_train = pd.concat([resampled_xy_val_train,resampling(xy_val_train[xy_val_train.overall==i])])\n",
    "\n",
    "# resampled_shuffled_xy_train = resampled_xy_train.sample(frac=1)\n",
    "# x_train = resampled_shuffled_xy_train['processed_reviews'].to_frame()\n",
    "# y_train = resampled_shuffled_xy_train['overall'].to_frame()\n",
    "\n",
    "# resampled_shuffled_xy_val_train = resampled_xy_val_train.sample(frac=1)\n",
    "# x_val_train = resampled_shuffled_xy_val_train['processed_reviews'].to_frame()\n",
    "# y_val_train = resampled_shuffled_xy_val_train['overall'].to_frame()"
   ]
  },
  {
   "cell_type": "code",
   "execution_count": 11,
   "metadata": {},
   "outputs": [],
   "source": [
    "from sklearn.utils import resample\n",
    "from imblearn.over_sampling import RandomOverSampler\n",
    "\n",
    "x_train, y_train = RandomOverSampler(random_state=0).fit_resample(x_train,y_train)\n",
    "\n",
    "x_val_train, y_val_train = RandomOverSampler(random_state=0).fit_resample(x_val_train,y_val_train)\n",
    "\n"
   ]
  },
  {
   "cell_type": "code",
   "execution_count": 12,
   "metadata": {},
   "outputs": [
    {
     "data": {
      "image/png": "[encoded data removed]",
      "text/plain": [
       "<Figure size 432x288 with 1 Axes>"
      ]
     },
     "metadata": {},
     "output_type": "display_data"
    }
   ],
   "source": [
    "sns.set_theme()\n",
    "\n",
    "label_freq_plot = pd.DataFrame({'label_freq' : y_train.value_counts()}).reset_index().sort_values(by='overall',ascending=True)\n",
    "\n",
    "sns.barplot(x=label_freq_plot['overall'],y=label_freq_plot['label_freq']).set_title('Labels by Frequency')\n",
    "\n",
    "plt.show()"
   ]
  },
  {
   "cell_type": "markdown",
   "metadata": {},
   "source": [
    "## Tf-Idf Vectorization"
   ]
  },
  {
   "cell_type": "code",
   "execution_count": 13,
   "metadata": {},
   "outputs": [],
   "source": [
    "from sklearn.feature_extraction.text import TfidfVectorizer\n",
    "from sklearn.feature_extraction.text import CountVectorizer\n",
    "\n",
    "def dummy_token_and_pre(doc):\n",
    "    return doc\n",
    "\n",
    "tfidf = TfidfVectorizer(analyzer='word', tokenizer=dummy_token_and_pre, preprocessor=dummy_token_and_pre, token_pattern=None)\n",
    "\n",
    "tfidf_val = TfidfVectorizer(analyzer='word', tokenizer=dummy_token_and_pre, preprocessor=dummy_token_and_pre, token_pattern=None)\n",
    "\n",
    "x_trainvec = tfidf.fit_transform(x_train.processed_reviews).sorted_indices()\n",
    "x_testvec = tfidf.transform(x_test.processed_reviews).sorted_indices()\n",
    "\n",
    "x_val_trainvec = tfidf_val.fit_transform(x_val_train.processed_reviews).sorted_indices()\n",
    "x_val_testvec = tfidf_val.transform(x_val_test.processed_reviews).sorted_indices()"
   ]
  },
  {
   "cell_type": "markdown",
   "metadata": {},
   "source": [
    "## Stacking"
   ]
  },
  {
   "cell_type": "markdown",
   "metadata": {},
   "source": [
    "### TF MLP"
   ]
  },
  {
   "cell_type": "code",
   "execution_count": 14,
   "metadata": {},
   "outputs": [],
   "source": [
    "#pseudocode for mlp hyperparam tuning\n",
    "\n",
    "#obj()\n",
    "    #param = suggest()\n",
    "\n",
    "    #model = model()\n",
    "\n",
    "    #for epochs in range()\n",
    "    #            agg_f1 = []\n",
    "\n",
    "    #    for train_index, val_index in StratifiedKFold(n_splits=5).split(x_trainvec,y_train): \n",
    "\n",
    "    #        x_trainvec_resd, y_train_resd = RandomOverSampler(random_state=0).fit_resample(x_trainvec.iloc[train_index], y_train.iloc[train_index])    \n",
    "\n",
    "    #        model.fit(x=x_trainvec_resd, y=y_train_resd, epochs =(5^(rung)), verbose=0, batch_size= 100, random_state=0, callbacks=es)\n",
    "\n",
    "    #        agg_f1.append(f1_score(y_pred=model.predict(pd.DataFrame.sparse.from_spmatrix(x_trainvec).iloc[val_index]), y_true=y_train.iloc[val_index].to_numpy().ravel(), average = 'macro'))\n",
    "\n",
    "    #    intermediate_value = statistics.mean(agg_f1)\n",
    "\n",
    "\n",
    "\n",
    "#rant: The challenge in implementing cross-validation for a tf model is the use of a tf model with (a lack of)sklearn functionalities\n",
    "#      In this case, tf models have some hyperparams that need do be defined in .fit(), which clashes with sklearn functionalities \n",
    "#      as some sklearn functions have .fit() implicit in them. The important one here is cross_val_score(). Without this, one has to\n",
    "#      resort to manually implementing the (stratified)cross_val function. This is a further issue when the data is imbalanced.\n",
    "#      From googling it seems that the way to treat imbalanced data in cross-validation is to oversample the training folds\n",
    "#      for each cross-validation split. This can normally be combined into a sklearn/imblearn pipeline and then passed to the\n",
    "#      cross-validation function as seen in the random forest model. However, as mentioned this is a tf model with sklearn functionalities,\n",
    "#      hence one has to implement this part manually as well. This is a bigger conundrum that one might initially expect.\n",
    "#      As the method used is usually to slice out the training part of each cross-validation fold and then apply an oversampling function.\n",
    "#      However, slicing a sparse matrix with a 1d np array as input is something that googling doesnt show how to do.\n",
    "#      Now, you might think of transforming the sparse matrix into a pd df so that you could slice it with say iloc, but  \n",
    "#      because of an unknown reason while the oversampling function as mentioned previously is supposed to be able to take \n",
    "#      both pandas df and sparse matrix as inputs, the pandas df version of a sparse matrix is not a valid input. This is vile shenanigans \n",
    "#      and I am utterly repulsed by it. Yet, given all this there is still the option of moving the tf-idf vectorization into the \n",
    "#      cross-validation part so that the sparse matrix is only made post oversampling, or making your own cross-validation\n",
    "#      function with libraries using an updated version of pandas/scipy(both of which I will NOT do).\n",
    "#  \n",
    "\n",
    "#      Now one might be wondering why one should use a tf model anyways given its imperfect compatabiities(at least in cross-validation).  \n",
    "#      The answer is GPU. Sklearn does not offer GPU support for training its models. The increase in training speed given GPU support is  \n",
    "#      highly considerable, especially if you can parellelize your processes. However, given that cross-validation is such a pain to implement, \n",
    "#      one might ask whether its still worth using even  if you have to redo the tf-idf vectorization every split for every epoch \n",
    "#      for every set of hyperparameters. The answer is something I do not know and will not attempt to know. Hence, the question is then\n",
    "#      rephrased into whether the extra speed from using the GPU is worth the decrease in samples used for the training set as some samples need\n",
    "#      to be separated into a validation set. Admittedly, I personally  answered this question rather arbitrarily and perhaps personally biased to the\n",
    "#      supposed superiority of Optuna in flexibility and (maybe)speed over sklearn hyperparameter tuning.\n",
    "#      Hence, I can't exactly justify my choice here, and what I do here is best treated just as a proof of concept from a tired individual.\n",
    "            \n"
   ]
  },
  {
   "cell_type": "code",
   "execution_count": 15,
   "metadata": {},
   "outputs": [
    {
     "name": "stderr",
     "output_type": "stream",
     "text": [
      "\u001b[32m[I 2022-09-08 23:34:40,133]\u001b[0m A new study created in memory with name: no-name-d1033c85-18a7-41f9-938d-1cd5a06c10fb\u001b[0m\n"
     ]
    },
    {
     "name": "stdout",
     "output_type": "stream",
     "text": [
      "Epoch 1/50\n"
     ]
    },
    {
     "name": "stderr",
     "output_type": "stream",
     "text": [
      "c:\\Users\\Lim Jia Hui\\Desktop\\Python\\lib\\site-packages\\tensorflow\\python\\framework\\indexed_slices.py:444: UserWarning: Converting sparse IndexedSlices(IndexedSlices(indices=Tensor(\"gradient_tape/sequential/dense/embedding_lookup_sparse/Reshape_1:0\", shape=(None,), dtype=int32), values=Tensor(\"gradient_tape/sequential/dense/embedding_lookup_sparse/Reshape:0\", shape=(None, 36), dtype=float32), dense_shape=Tensor(\"gradient_tape/sequential/dense/embedding_lookup_sparse/Cast:0\", shape=(2,), dtype=int32))) to a dense Tensor of unknown shape. This may consume a large amount of memory.\n",
      "  warnings.warn(\n"
     ]
    },
    {
     "name": "stdout",
     "output_type": "stream",
     "text": [
      "2214/2214 [==============================] - 13s 5ms/step - loss: 0.4303 - accuracy: 0.8013 - tf_f1: 0.7350 - val_loss: 0.2297 - val_accuracy: 0.9227 - val_tf_f1: 0.8165\n",
      "Epoch 2/50\n",
      "2214/2214 [==============================] - 11s 5ms/step - loss: 0.2974 - accuracy: 0.8786 - tf_f1: 0.8420 - val_loss: 0.2567 - val_accuracy: 0.9001 - val_tf_f1: 0.8566\n",
      "Epoch 3/50\n",
      "2214/2214 [==============================] - 12s 5ms/step - loss: 0.2242 - accuracy: 0.9139 - tf_f1: 0.8685 - val_loss: 0.3297 - val_accuracy: 0.8722 - val_tf_f1: 0.8774\n",
      "Epoch 4/50\n",
      "2214/2214 [==============================] - 11s 5ms/step - loss: 0.1628 - accuracy: 0.9426 - tf_f1: 0.8860 - val_loss: 0.6856 - val_accuracy: 0.7603 - val_tf_f1: 0.8914\n",
      "Epoch 5/50\n",
      "2214/2214 [==============================] - 12s 5ms/step - loss: 0.1199 - accuracy: 0.9596 - tf_f1: 0.8965 - val_loss: 0.4167 - val_accuracy: 0.8662 - val_tf_f1: 0.9024\n",
      "Epoch 6/50\n",
      "2214/2214 [==============================] - 11s 5ms/step - loss: 0.0890 - accuracy: 0.9714 - tf_f1: 0.9079 - val_loss: 0.3351 - val_accuracy: 0.9054 - val_tf_f1: 0.9130\n",
      "Epoch 7/50\n",
      "2214/2214 [==============================] - 12s 5ms/step - loss: 0.0731 - accuracy: 0.9766 - tf_f1: 0.9175 - val_loss: 0.3463 - val_accuracy: 0.9167 - val_tf_f1: 0.9215\n",
      "Epoch 8/50\n",
      "2214/2214 [==============================] - 12s 5ms/step - loss: 0.0638 - accuracy: 0.9792 - tf_f1: 0.9251 - val_loss: 0.3537 - val_accuracy: 0.9136 - val_tf_f1: 0.9282\n",
      "Epoch 9/50\n",
      "2214/2214 [==============================] - 11s 5ms/step - loss: 0.0546 - accuracy: 0.9825 - tf_f1: 0.9311 - val_loss: 0.3802 - val_accuracy: 0.9174 - val_tf_f1: 0.9337\n",
      "Epoch 10/50\n",
      "2214/2214 [==============================] - 12s 5ms/step - loss: 0.0468 - accuracy: 0.9851 - tf_f1: 0.9362 - val_loss: 0.4179 - val_accuracy: 0.9240 - val_tf_f1: 0.9384\n",
      "Epoch 11/50\n",
      "2214/2214 [==============================] - 12s 5ms/step - loss: 0.0459 - accuracy: 0.9851 - tf_f1: 0.9404 - val_loss: 0.4226 - val_accuracy: 0.9038 - val_tf_f1: 0.9421\n",
      "Epoch 12/50\n",
      "2214/2214 [==============================] - 12s 5ms/step - loss: 0.0422 - accuracy: 0.9864 - tf_f1: 0.9438 - val_loss: 0.4455 - val_accuracy: 0.9035 - val_tf_f1: 0.9452\n",
      "Epoch 13/50\n",
      "2214/2214 [==============================] - 12s 5ms/step - loss: 0.0395 - accuracy: 0.9872 - tf_f1: 0.9466 - val_loss: 0.4970 - val_accuracy: 0.8869 - val_tf_f1: 0.9478\n"
     ]
    },
    {
     "name": "stderr",
     "output_type": "stream",
     "text": [
      "\u001b[32m[I 2022-09-08 23:37:12,134]\u001b[0m Trial 0 finished with value: 0.9477841258049011 and parameters: {'lr': 0.06549819432887552, 'units': 36}. Best is trial 0 with value: 0.9477841258049011.\u001b[0m\n"
     ]
    },
    {
     "name": "stdout",
     "output_type": "stream",
     "text": [
      "Epoch 00013: early stopping\n",
      "Epoch 1/50\n"
     ]
    },
    {
     "name": "stderr",
     "output_type": "stream",
     "text": [
      "c:\\Users\\Lim Jia Hui\\Desktop\\Python\\lib\\site-packages\\tensorflow\\python\\framework\\indexed_slices.py:444: UserWarning: Converting sparse IndexedSlices(IndexedSlices(indices=Tensor(\"gradient_tape/sequential_1/dense_2/embedding_lookup_sparse/Reshape_1:0\", shape=(None,), dtype=int32), values=Tensor(\"gradient_tape/sequential_1/dense_2/embedding_lookup_sparse/Reshape:0\", shape=(None, 22), dtype=float32), dense_shape=Tensor(\"gradient_tape/sequential_1/dense_2/embedding_lookup_sparse/Cast:0\", shape=(2,), dtype=int32))) to a dense Tensor of unknown shape. This may consume a large amount of memory.\n",
      "  warnings.warn(\n"
     ]
    },
    {
     "name": "stdout",
     "output_type": "stream",
     "text": [
      "2214/2214 [==============================] - 12s 5ms/step - loss: 0.5132 - accuracy: 0.7632 - tf_f1: 0.6926 - val_loss: 0.4251 - val_accuracy: 0.8072 - val_tf_f1: 0.7696\n",
      "Epoch 2/50\n",
      "2214/2214 [==============================] - 12s 5ms/step - loss: 0.3752 - accuracy: 0.8406 - tf_f1: 0.7955 - val_loss: 0.2464 - val_accuracy: 0.9067 - val_tf_f1: 0.8150\n",
      "Epoch 3/50\n",
      "2214/2214 [==============================] - 11s 5ms/step - loss: 0.3194 - accuracy: 0.8704 - tf_f1: 0.8288 - val_loss: 0.2568 - val_accuracy: 0.8981 - val_tf_f1: 0.8392\n",
      "Epoch 4/50\n",
      "2214/2214 [==============================] - 11s 5ms/step - loss: 0.2788 - accuracy: 0.8911 - tf_f1: 0.8477 - val_loss: 0.2896 - val_accuracy: 0.8848 - val_tf_f1: 0.8547\n",
      "Epoch 5/50\n",
      "2214/2214 [==============================] - 12s 5ms/step - loss: 0.2456 - accuracy: 0.9067 - tf_f1: 0.8608 - val_loss: 0.3205 - val_accuracy: 0.8680 - val_tf_f1: 0.8660\n",
      "Epoch 6/50\n",
      "2214/2214 [==============================] - 12s 5ms/step - loss: 0.2191 - accuracy: 0.9195 - tf_f1: 0.8709 - val_loss: 0.2775 - val_accuracy: 0.8920 - val_tf_f1: 0.8753\n",
      "Epoch 7/50\n",
      "2214/2214 [==============================] - 12s 5ms/step - loss: 0.1971 - accuracy: 0.9283 - tf_f1: 0.8795 - val_loss: 0.2972 - val_accuracy: 0.8864 - val_tf_f1: 0.8832\n",
      "Epoch 8/50\n",
      "2214/2214 [==============================] - 12s 5ms/step - loss: 0.1770 - accuracy: 0.9379 - tf_f1: 0.8867 - val_loss: 0.3752 - val_accuracy: 0.8496 - val_tf_f1: 0.8896\n",
      "Epoch 9/50\n",
      "2214/2214 [==============================] - 12s 5ms/step - loss: 0.1577 - accuracy: 0.9459 - tf_f1: 0.8925 - val_loss: 0.2538 - val_accuracy: 0.9139 - val_tf_f1: 0.8956\n",
      "Epoch 10/50\n",
      "2214/2214 [==============================] - 12s 5ms/step - loss: 0.1424 - accuracy: 0.9519 - tf_f1: 0.8986 - val_loss: 0.3236 - val_accuracy: 0.8843 - val_tf_f1: 0.9011\n",
      "Epoch 11/50\n",
      "2214/2214 [==============================] - 12s 5ms/step - loss: 0.1284 - accuracy: 0.9577 - tf_f1: 0.9036 - val_loss: 0.2945 - val_accuracy: 0.8997 - val_tf_f1: 0.9059\n",
      "Epoch 12/50\n",
      "2214/2214 [==============================] - 12s 5ms/step - loss: 0.1153 - accuracy: 0.9634 - tf_f1: 0.9083 - val_loss: 0.2904 - val_accuracy: 0.9025 - val_tf_f1: 0.9104\n",
      "Epoch 13/50\n",
      "2214/2214 [==============================] - 12s 5ms/step - loss: 0.1068 - accuracy: 0.9657 - tf_f1: 0.9125 - val_loss: 0.3662 - val_accuracy: 0.8793 - val_tf_f1: 0.9143\n",
      "Epoch 14/50\n",
      "2214/2214 [==============================] - 12s 5ms/step - loss: 0.0969 - accuracy: 0.9698 - tf_f1: 0.9161 - val_loss: 0.3358 - val_accuracy: 0.8953 - val_tf_f1: 0.9178\n",
      "Epoch 15/50\n",
      "2214/2214 [==============================] - 11s 5ms/step - loss: 0.0907 - accuracy: 0.9712 - tf_f1: 0.9195 - val_loss: 0.3083 - val_accuracy: 0.9158 - val_tf_f1: 0.9211\n",
      "Epoch 16/50\n",
      "2214/2214 [==============================] - 12s 5ms/step - loss: 0.0822 - accuracy: 0.9745 - tf_f1: 0.9227 - val_loss: 0.3186 - val_accuracy: 0.9128 - val_tf_f1: 0.9242\n",
      "Epoch 17/50\n",
      "2214/2214 [==============================] - 12s 5ms/step - loss: 0.0763 - accuracy: 0.9765 - tf_f1: 0.9257 - val_loss: 0.4014 - val_accuracy: 0.8751 - val_tf_f1: 0.9269\n"
     ]
    },
    {
     "name": "stderr",
     "output_type": "stream",
     "text": [
      "\u001b[32m[I 2022-09-08 23:40:31,266]\u001b[0m Trial 1 finished with value: 0.9268858432769775 and parameters: {'lr': 0.018025217128644112, 'units': 22}. Best is trial 0 with value: 0.9477841258049011.\u001b[0m\n"
     ]
    },
    {
     "name": "stdout",
     "output_type": "stream",
     "text": [
      "Epoch 00017: early stopping\n",
      "Epoch 1/50\n"
     ]
    },
    {
     "name": "stderr",
     "output_type": "stream",
     "text": [
      "c:\\Users\\Lim Jia Hui\\Desktop\\Python\\lib\\site-packages\\tensorflow\\python\\framework\\indexed_slices.py:444: UserWarning: Converting sparse IndexedSlices(IndexedSlices(indices=Tensor(\"gradient_tape/sequential_2/dense_4/embedding_lookup_sparse/Reshape_1:0\", shape=(None,), dtype=int32), values=Tensor(\"gradient_tape/sequential_2/dense_4/embedding_lookup_sparse/Reshape:0\", shape=(None, 36), dtype=float32), dense_shape=Tensor(\"gradient_tape/sequential_2/dense_4/embedding_lookup_sparse/Cast:0\", shape=(2,), dtype=int32))) to a dense Tensor of unknown shape. This may consume a large amount of memory.\n",
      "  warnings.warn(\n"
     ]
    },
    {
     "name": "stdout",
     "output_type": "stream",
     "text": [
      "2214/2214 [==============================] - 12s 5ms/step - loss: 0.4280 - accuracy: 0.8024 - tf_f1: 0.7239 - val_loss: 0.2407 - val_accuracy: 0.9094 - val_tf_f1: 0.8156\n",
      "Epoch 2/50\n",
      "2214/2214 [==============================] - 12s 5ms/step - loss: 0.3007 - accuracy: 0.8764 - tf_f1: 0.8400 - val_loss: 0.3415 - val_accuracy: 0.8606 - val_tf_f1: 0.8534\n",
      "Epoch 3/50\n",
      "2214/2214 [==============================] - 11s 5ms/step - loss: 0.2288 - accuracy: 0.9130 - tf_f1: 0.8649 - val_loss: 0.3298 - val_accuracy: 0.8738 - val_tf_f1: 0.8744\n",
      "Epoch 4/50\n",
      "2214/2214 [==============================] - 11s 5ms/step - loss: 0.1633 - accuracy: 0.9434 - tf_f1: 0.8836 - val_loss: 0.3026 - val_accuracy: 0.8924 - val_tf_f1: 0.8915\n",
      "Epoch 5/50\n",
      "2214/2214 [==============================] - 12s 5ms/step - loss: 0.1206 - accuracy: 0.9600 - tf_f1: 0.8986 - val_loss: 0.2894 - val_accuracy: 0.9269 - val_tf_f1: 0.9051\n",
      "Epoch 6/50\n",
      "2214/2214 [==============================] - 12s 5ms/step - loss: 0.0916 - accuracy: 0.9705 - tf_f1: 0.9109 - val_loss: 0.3151 - val_accuracy: 0.9075 - val_tf_f1: 0.9156\n",
      "Epoch 7/50\n",
      "2214/2214 [==============================] - 11s 5ms/step - loss: 0.0746 - accuracy: 0.9759 - tf_f1: 0.9199 - val_loss: 0.3299 - val_accuracy: 0.9180 - val_tf_f1: 0.9237\n",
      "Epoch 8/50\n",
      "2214/2214 [==============================] - 12s 5ms/step - loss: 0.0592 - accuracy: 0.9815 - tf_f1: 0.9273 - val_loss: 0.3732 - val_accuracy: 0.8984 - val_tf_f1: 0.9303\n",
      "Epoch 9/50\n",
      "2214/2214 [==============================] - 12s 5ms/step - loss: 0.0515 - accuracy: 0.9835 - tf_f1: 0.9329 - val_loss: 0.3817 - val_accuracy: 0.9120 - val_tf_f1: 0.9355\n",
      "Epoch 10/50\n",
      "2214/2214 [==============================] - 12s 5ms/step - loss: 0.0459 - accuracy: 0.9855 - tf_f1: 0.9378 - val_loss: 0.4131 - val_accuracy: 0.9087 - val_tf_f1: 0.9399\n",
      "Epoch 11/50\n",
      "2214/2214 [==============================] - 11s 5ms/step - loss: 0.0443 - accuracy: 0.9858 - tf_f1: 0.9417 - val_loss: 0.4267 - val_accuracy: 0.9228 - val_tf_f1: 0.9435\n",
      "Epoch 12/50\n",
      "2214/2214 [==============================] - 12s 5ms/step - loss: 0.0417 - accuracy: 0.9864 - tf_f1: 0.9451 - val_loss: 0.4396 - val_accuracy: 0.9092 - val_tf_f1: 0.9466\n",
      "Epoch 13/50\n",
      "2214/2214 [==============================] - 12s 5ms/step - loss: 0.0392 - accuracy: 0.9876 - tf_f1: 0.9480 - val_loss: 0.4762 - val_accuracy: 0.8933 - val_tf_f1: 0.9491\n",
      "Epoch 14/50\n",
      "2214/2214 [==============================] - 11s 5ms/step - loss: 0.0389 - accuracy: 0.9873 - tf_f1: 0.9502 - val_loss: 0.4548 - val_accuracy: 0.9150 - val_tf_f1: 0.9513\n"
     ]
    },
    {
     "name": "stderr",
     "output_type": "stream",
     "text": [
      "\u001b[32m[I 2022-09-08 23:43:14,941]\u001b[0m Trial 2 finished with value: 0.9513375163078308 and parameters: {'lr': 0.06530172481132393, 'units': 36}. Best is trial 2 with value: 0.9513375163078308.\u001b[0m\n"
     ]
    },
    {
     "name": "stdout",
     "output_type": "stream",
     "text": [
      "Epoch 00014: early stopping\n",
      "Epoch 1/50\n"
     ]
    },
    {
     "name": "stderr",
     "output_type": "stream",
     "text": [
      "c:\\Users\\Lim Jia Hui\\Desktop\\Python\\lib\\site-packages\\tensorflow\\python\\framework\\indexed_slices.py:444: UserWarning: Converting sparse IndexedSlices(IndexedSlices(indices=Tensor(\"gradient_tape/sequential_3/dense_6/embedding_lookup_sparse/Reshape_1:0\", shape=(None,), dtype=int32), values=Tensor(\"gradient_tape/sequential_3/dense_6/embedding_lookup_sparse/Reshape:0\", shape=(None, 18), dtype=float32), dense_shape=Tensor(\"gradient_tape/sequential_3/dense_6/embedding_lookup_sparse/Cast:0\", shape=(2,), dtype=int32))) to a dense Tensor of unknown shape. This may consume a large amount of memory.\n",
      "  warnings.warn(\n"
     ]
    },
    {
     "name": "stdout",
     "output_type": "stream",
     "text": [
      "2214/2214 [==============================] - 13s 5ms/step - loss: 0.4459 - accuracy: 0.7922 - tf_f1: 0.7044 - val_loss: 0.3753 - val_accuracy: 0.8368 - val_tf_f1: 0.7999\n",
      "Epoch 2/50\n",
      "2214/2214 [==============================] - 12s 5ms/step - loss: 0.3200 - accuracy: 0.8669 - tf_f1: 0.8240 - val_loss: 0.3045 - val_accuracy: 0.8769 - val_tf_f1: 0.8402\n"
     ]
    },
    {
     "name": "stderr",
     "output_type": "stream",
     "text": [
      "\u001b[32m[I 2022-09-08 23:43:39,708]\u001b[0m Trial 3 pruned. Trial was pruned at epoch 1.\u001b[0m\n"
     ]
    },
    {
     "name": "stdout",
     "output_type": "stream",
     "text": [
      "Epoch 1/50\n"
     ]
    },
    {
     "name": "stderr",
     "output_type": "stream",
     "text": [
      "c:\\Users\\Lim Jia Hui\\Desktop\\Python\\lib\\site-packages\\tensorflow\\python\\framework\\indexed_slices.py:444: UserWarning: Converting sparse IndexedSlices(IndexedSlices(indices=Tensor(\"gradient_tape/sequential_4/dense_8/embedding_lookup_sparse/Reshape_1:0\", shape=(None,), dtype=int32), values=Tensor(\"gradient_tape/sequential_4/dense_8/embedding_lookup_sparse/Reshape:0\", shape=(None, 46), dtype=float32), dense_shape=Tensor(\"gradient_tape/sequential_4/dense_8/embedding_lookup_sparse/Cast:0\", shape=(2,), dtype=int32))) to a dense Tensor of unknown shape. This may consume a large amount of memory.\n",
      "  warnings.warn(\n"
     ]
    },
    {
     "name": "stdout",
     "output_type": "stream",
     "text": [
      "2214/2214 [==============================] - 13s 6ms/step - loss: 0.5032 - accuracy: 0.7705 - tf_f1: 0.6783 - val_loss: 0.4034 - val_accuracy: 0.8228 - val_tf_f1: 0.7755\n",
      "Epoch 2/50\n",
      "2214/2214 [==============================] - 12s 5ms/step - loss: 0.3734 - accuracy: 0.8416 - tf_f1: 0.8003 - val_loss: 0.3161 - val_accuracy: 0.8691 - val_tf_f1: 0.8173\n"
     ]
    },
    {
     "name": "stderr",
     "output_type": "stream",
     "text": [
      "\u001b[32m[I 2022-09-08 23:44:04,734]\u001b[0m Trial 4 pruned. Trial was pruned at epoch 1.\u001b[0m\n"
     ]
    },
    {
     "name": "stdout",
     "output_type": "stream",
     "text": [
      "Epoch 1/50\n"
     ]
    },
    {
     "name": "stderr",
     "output_type": "stream",
     "text": [
      "c:\\Users\\Lim Jia Hui\\Desktop\\Python\\lib\\site-packages\\tensorflow\\python\\framework\\indexed_slices.py:444: UserWarning: Converting sparse IndexedSlices(IndexedSlices(indices=Tensor(\"gradient_tape/sequential_5/dense_10/embedding_lookup_sparse/Reshape_1:0\", shape=(None,), dtype=int32), values=Tensor(\"gradient_tape/sequential_5/dense_10/embedding_lookup_sparse/Reshape:0\", shape=(None, 47), dtype=float32), dense_shape=Tensor(\"gradient_tape/sequential_5/dense_10/embedding_lookup_sparse/Cast:0\", shape=(2,), dtype=int32))) to a dense Tensor of unknown shape. This may consume a large amount of memory.\n",
      "  warnings.warn(\n"
     ]
    },
    {
     "name": "stdout",
     "output_type": "stream",
     "text": [
      "2214/2214 [==============================] - 12s 5ms/step - loss: 0.4481 - accuracy: 0.7931 - tf_f1: 0.7131 - val_loss: 0.2927 - val_accuracy: 0.8850 - val_tf_f1: 0.8044\n",
      "Epoch 2/50\n",
      "2214/2214 [==============================] - 12s 5ms/step - loss: 0.3199 - accuracy: 0.8675 - tf_f1: 0.8293 - val_loss: 0.2347 - val_accuracy: 0.9099 - val_tf_f1: 0.8454\n"
     ]
    },
    {
     "name": "stderr",
     "output_type": "stream",
     "text": [
      "\u001b[32m[I 2022-09-08 23:44:28,797]\u001b[0m Trial 5 pruned. Trial was pruned at epoch 1.\u001b[0m\n"
     ]
    },
    {
     "name": "stdout",
     "output_type": "stream",
     "text": [
      "Epoch 1/50\n"
     ]
    },
    {
     "name": "stderr",
     "output_type": "stream",
     "text": [
      "c:\\Users\\Lim Jia Hui\\Desktop\\Python\\lib\\site-packages\\tensorflow\\python\\framework\\indexed_slices.py:444: UserWarning: Converting sparse IndexedSlices(IndexedSlices(indices=Tensor(\"gradient_tape/sequential_6/dense_12/embedding_lookup_sparse/Reshape_1:0\", shape=(None,), dtype=int32), values=Tensor(\"gradient_tape/sequential_6/dense_12/embedding_lookup_sparse/Reshape:0\", shape=(None, 42), dtype=float32), dense_shape=Tensor(\"gradient_tape/sequential_6/dense_12/embedding_lookup_sparse/Cast:0\", shape=(2,), dtype=int32))) to a dense Tensor of unknown shape. This may consume a large amount of memory.\n",
      "  warnings.warn(\n"
     ]
    },
    {
     "name": "stdout",
     "output_type": "stream",
     "text": [
      "2214/2214 [==============================] - 12s 5ms/step - loss: 0.4903 - accuracy: 0.7720 - tf_f1: 0.7141 - val_loss: 0.3604 - val_accuracy: 0.8508 - val_tf_f1: 0.7844\n",
      "Epoch 2/50\n",
      "2214/2214 [==============================] - 11s 5ms/step - loss: 0.3581 - accuracy: 0.8495 - tf_f1: 0.8098 - val_loss: 0.3321 - val_accuracy: 0.8633 - val_tf_f1: 0.8253\n"
     ]
    },
    {
     "name": "stderr",
     "output_type": "stream",
     "text": [
      "\u001b[32m[I 2022-09-08 23:44:52,509]\u001b[0m Trial 6 pruned. Trial was pruned at epoch 1.\u001b[0m\n"
     ]
    },
    {
     "name": "stdout",
     "output_type": "stream",
     "text": [
      "Epoch 1/50\n"
     ]
    },
    {
     "name": "stderr",
     "output_type": "stream",
     "text": [
      "c:\\Users\\Lim Jia Hui\\Desktop\\Python\\lib\\site-packages\\tensorflow\\python\\framework\\indexed_slices.py:444: UserWarning: Converting sparse IndexedSlices(IndexedSlices(indices=Tensor(\"gradient_tape/sequential_7/dense_14/embedding_lookup_sparse/Reshape_1:0\", shape=(None,), dtype=int32), values=Tensor(\"gradient_tape/sequential_7/dense_14/embedding_lookup_sparse/Reshape:0\", shape=(None, 43), dtype=float32), dense_shape=Tensor(\"gradient_tape/sequential_7/dense_14/embedding_lookup_sparse/Cast:0\", shape=(2,), dtype=int32))) to a dense Tensor of unknown shape. This may consume a large amount of memory.\n",
      "  warnings.warn(\n"
     ]
    },
    {
     "name": "stdout",
     "output_type": "stream",
     "text": [
      "2214/2214 [==============================] - 13s 5ms/step - loss: 0.4371 - accuracy: 0.7938 - tf_f1: 0.7285 - val_loss: 0.3058 - val_accuracy: 0.8780 - val_tf_f1: 0.8068\n",
      "Epoch 2/50\n",
      "2214/2214 [==============================] - 11s 5ms/step - loss: 0.3133 - accuracy: 0.8699 - tf_f1: 0.8309 - val_loss: 0.2666 - val_accuracy: 0.8951 - val_tf_f1: 0.8464\n"
     ]
    },
    {
     "name": "stderr",
     "output_type": "stream",
     "text": [
      "\u001b[32m[I 2022-09-08 23:45:17,189]\u001b[0m Trial 7 pruned. Trial was pruned at epoch 1.\u001b[0m\n"
     ]
    },
    {
     "name": "stdout",
     "output_type": "stream",
     "text": [
      "Epoch 1/50\n"
     ]
    },
    {
     "name": "stderr",
     "output_type": "stream",
     "text": [
      "c:\\Users\\Lim Jia Hui\\Desktop\\Python\\lib\\site-packages\\tensorflow\\python\\framework\\indexed_slices.py:444: UserWarning: Converting sparse IndexedSlices(IndexedSlices(indices=Tensor(\"gradient_tape/sequential_8/dense_16/embedding_lookup_sparse/Reshape_1:0\", shape=(None,), dtype=int32), values=Tensor(\"gradient_tape/sequential_8/dense_16/embedding_lookup_sparse/Reshape:0\", shape=(None, 50), dtype=float32), dense_shape=Tensor(\"gradient_tape/sequential_8/dense_16/embedding_lookup_sparse/Cast:0\", shape=(2,), dtype=int32))) to a dense Tensor of unknown shape. This may consume a large amount of memory.\n",
      "  warnings.warn(\n"
     ]
    },
    {
     "name": "stdout",
     "output_type": "stream",
     "text": [
      "2214/2214 [==============================] - 12s 5ms/step - loss: 0.4630 - accuracy: 0.7860 - tf_f1: 0.7078 - val_loss: 0.4890 - val_accuracy: 0.7683 - val_tf_f1: 0.7899\n",
      "Epoch 2/50\n",
      "2214/2214 [==============================] - 12s 5ms/step - loss: 0.3373 - accuracy: 0.8588 - tf_f1: 0.8121 - val_loss: 0.3131 - val_accuracy: 0.8707 - val_tf_f1: 0.8294\n"
     ]
    },
    {
     "name": "stderr",
     "output_type": "stream",
     "text": [
      "\u001b[32m[I 2022-09-08 23:45:41,383]\u001b[0m Trial 8 pruned. Trial was pruned at epoch 1.\u001b[0m\n"
     ]
    },
    {
     "name": "stdout",
     "output_type": "stream",
     "text": [
      "Epoch 1/50\n"
     ]
    },
    {
     "name": "stderr",
     "output_type": "stream",
     "text": [
      "c:\\Users\\Lim Jia Hui\\Desktop\\Python\\lib\\site-packages\\tensorflow\\python\\framework\\indexed_slices.py:444: UserWarning: Converting sparse IndexedSlices(IndexedSlices(indices=Tensor(\"gradient_tape/sequential_9/dense_18/embedding_lookup_sparse/Reshape_1:0\", shape=(None,), dtype=int32), values=Tensor(\"gradient_tape/sequential_9/dense_18/embedding_lookup_sparse/Reshape:0\", shape=(None, 22), dtype=float32), dense_shape=Tensor(\"gradient_tape/sequential_9/dense_18/embedding_lookup_sparse/Cast:0\", shape=(2,), dtype=int32))) to a dense Tensor of unknown shape. This may consume a large amount of memory.\n",
      "  warnings.warn(\n"
     ]
    },
    {
     "name": "stdout",
     "output_type": "stream",
     "text": [
      "2214/2214 [==============================] - 13s 5ms/step - loss: 0.4526 - accuracy: 0.7926 - tf_f1: 0.7030 - val_loss: 0.3722 - val_accuracy: 0.8416 - val_tf_f1: 0.8004\n",
      "Epoch 2/50\n",
      "2214/2214 [==============================] - 12s 5ms/step - loss: 0.3285 - accuracy: 0.8645 - tf_f1: 0.8243 - val_loss: 0.3460 - val_accuracy: 0.8580 - val_tf_f1: 0.8392\n"
     ]
    },
    {
     "name": "stderr",
     "output_type": "stream",
     "text": [
      "\u001b[32m[I 2022-09-08 23:46:06,165]\u001b[0m Trial 9 pruned. Trial was pruned at epoch 1.\u001b[0m\n"
     ]
    },
    {
     "name": "stdout",
     "output_type": "stream",
     "text": [
      "Epoch 1/50\n"
     ]
    },
    {
     "name": "stderr",
     "output_type": "stream",
     "text": [
      "c:\\Users\\Lim Jia Hui\\Desktop\\Python\\lib\\site-packages\\tensorflow\\python\\framework\\indexed_slices.py:444: UserWarning: Converting sparse IndexedSlices(IndexedSlices(indices=Tensor(\"gradient_tape/sequential_10/dense_20/embedding_lookup_sparse/Reshape_1:0\", shape=(None,), dtype=int32), values=Tensor(\"gradient_tape/sequential_10/dense_20/embedding_lookup_sparse/Reshape:0\", shape=(None, 31), dtype=float32), dense_shape=Tensor(\"gradient_tape/sequential_10/dense_20/embedding_lookup_sparse/Cast:0\", shape=(2,), dtype=int32))) to a dense Tensor of unknown shape. This may consume a large amount of memory.\n",
      "  warnings.warn(\n"
     ]
    },
    {
     "name": "stdout",
     "output_type": "stream",
     "text": [
      "2214/2214 [==============================] - 12s 5ms/step - loss: 0.4203 - accuracy: 0.8052 - tf_f1: 0.7366 - val_loss: 0.4661 - val_accuracy: 0.7757 - val_tf_f1: 0.8093\n",
      "Epoch 2/50\n",
      "2214/2214 [==============================] - 12s 5ms/step - loss: 0.2901 - accuracy: 0.8811 - tf_f1: 0.8309 - val_loss: 0.5616 - val_accuracy: 0.7645 - val_tf_f1: 0.8446\n"
     ]
    },
    {
     "name": "stderr",
     "output_type": "stream",
     "text": [
      "\u001b[32m[I 2022-09-08 23:46:30,442]\u001b[0m Trial 10 pruned. Trial was pruned at epoch 1.\u001b[0m\n"
     ]
    },
    {
     "name": "stdout",
     "output_type": "stream",
     "text": [
      "Epoch 1/50\n"
     ]
    },
    {
     "name": "stderr",
     "output_type": "stream",
     "text": [
      "c:\\Users\\Lim Jia Hui\\Desktop\\Python\\lib\\site-packages\\tensorflow\\python\\framework\\indexed_slices.py:444: UserWarning: Converting sparse IndexedSlices(IndexedSlices(indices=Tensor(\"gradient_tape/sequential_11/dense_22/embedding_lookup_sparse/Reshape_1:0\", shape=(None,), dtype=int32), values=Tensor(\"gradient_tape/sequential_11/dense_22/embedding_lookup_sparse/Reshape:0\", shape=(None, 33), dtype=float32), dense_shape=Tensor(\"gradient_tape/sequential_11/dense_22/embedding_lookup_sparse/Cast:0\", shape=(2,), dtype=int32))) to a dense Tensor of unknown shape. This may consume a large amount of memory.\n",
      "  warnings.warn(\n"
     ]
    },
    {
     "name": "stdout",
     "output_type": "stream",
     "text": [
      "2214/2214 [==============================] - 12s 5ms/step - loss: 0.4289 - accuracy: 0.8044 - tf_f1: 0.7502 - val_loss: 0.4789 - val_accuracy: 0.7751 - val_tf_f1: 0.8084\n",
      "Epoch 2/50\n",
      "2214/2214 [==============================] - 12s 5ms/step - loss: 0.3093 - accuracy: 0.8719 - tf_f1: 0.8278 - val_loss: 0.2722 - val_accuracy: 0.8910 - val_tf_f1: 0.8442\n"
     ]
    },
    {
     "name": "stderr",
     "output_type": "stream",
     "text": [
      "\u001b[32m[I 2022-09-08 23:46:54,722]\u001b[0m Trial 11 pruned. Trial was pruned at epoch 1.\u001b[0m\n"
     ]
    },
    {
     "name": "stdout",
     "output_type": "stream",
     "text": [
      "Epoch 1/50\n"
     ]
    },
    {
     "name": "stderr",
     "output_type": "stream",
     "text": [
      "c:\\Users\\Lim Jia Hui\\Desktop\\Python\\lib\\site-packages\\tensorflow\\python\\framework\\indexed_slices.py:444: UserWarning: Converting sparse IndexedSlices(IndexedSlices(indices=Tensor(\"gradient_tape/sequential_12/dense_24/embedding_lookup_sparse/Reshape_1:0\", shape=(None,), dtype=int32), values=Tensor(\"gradient_tape/sequential_12/dense_24/embedding_lookup_sparse/Reshape:0\", shape=(None, 36), dtype=float32), dense_shape=Tensor(\"gradient_tape/sequential_12/dense_24/embedding_lookup_sparse/Cast:0\", shape=(2,), dtype=int32))) to a dense Tensor of unknown shape. This may consume a large amount of memory.\n",
      "  warnings.warn(\n"
     ]
    },
    {
     "name": "stdout",
     "output_type": "stream",
     "text": [
      "2214/2214 [==============================] - 12s 5ms/step - loss: 0.4279 - accuracy: 0.7992 - tf_f1: 0.7254 - val_loss: 0.2424 - val_accuracy: 0.9061 - val_tf_f1: 0.8126\n",
      "Epoch 2/50\n",
      "2214/2214 [==============================] - 11s 5ms/step - loss: 0.2941 - accuracy: 0.8791 - tf_f1: 0.8386 - val_loss: 0.2847 - val_accuracy: 0.8890 - val_tf_f1: 0.8539\n",
      "Epoch 3/50\n",
      "2214/2214 [==============================] - 11s 5ms/step - loss: 0.2170 - accuracy: 0.9189 - tf_f1: 0.8671 - val_loss: 0.3132 - val_accuracy: 0.8825 - val_tf_f1: 0.8771\n",
      "Epoch 4/50\n",
      "2214/2214 [==============================] - 12s 5ms/step - loss: 0.1565 - accuracy: 0.9457 - tf_f1: 0.8861 - val_loss: 0.3990 - val_accuracy: 0.8506 - val_tf_f1: 0.8934\n",
      "Epoch 5/50\n",
      "2214/2214 [==============================] - 12s 5ms/step - loss: 0.1098 - accuracy: 0.9634 - tf_f1: 0.9000 - val_loss: 0.3893 - val_accuracy: 0.8773 - val_tf_f1: 0.9060\n",
      "Epoch 6/50\n",
      "2214/2214 [==============================] - 12s 5ms/step - loss: 0.0858 - accuracy: 0.9720 - tf_f1: 0.9113 - val_loss: 0.4378 - val_accuracy: 0.8703 - val_tf_f1: 0.9157\n",
      "Epoch 7/50\n",
      "2214/2214 [==============================] - 11s 5ms/step - loss: 0.0680 - accuracy: 0.9781 - tf_f1: 0.9198 - val_loss: 0.3600 - val_accuracy: 0.8998 - val_tf_f1: 0.9236\n",
      "Epoch 8/50\n",
      "2214/2214 [==============================] - 12s 5ms/step - loss: 0.0558 - accuracy: 0.9819 - tf_f1: 0.9270 - val_loss: 0.4007 - val_accuracy: 0.9084 - val_tf_f1: 0.9301\n",
      "Epoch 9/50\n",
      "2214/2214 [==============================] - 12s 5ms/step - loss: 0.0472 - accuracy: 0.9852 - tf_f1: 0.9330 - val_loss: 0.3923 - val_accuracy: 0.9088 - val_tf_f1: 0.9356\n",
      "Epoch 10/50\n",
      "2214/2214 [==============================] - 12s 5ms/step - loss: 0.0443 - accuracy: 0.9863 - tf_f1: 0.9379 - val_loss: 0.4366 - val_accuracy: 0.8969 - val_tf_f1: 0.9399\n",
      "Epoch 11/50\n",
      "2214/2214 [==============================] - 12s 5ms/step - loss: 0.0422 - accuracy: 0.9864 - tf_f1: 0.9418 - val_loss: 0.4165 - val_accuracy: 0.9152 - val_tf_f1: 0.9435\n",
      "Epoch 12/50\n",
      "2214/2214 [==============================] - 12s 5ms/step - loss: 0.0401 - accuracy: 0.9872 - tf_f1: 0.9452 - val_loss: 0.4311 - val_accuracy: 0.9121 - val_tf_f1: 0.9466\n",
      "Epoch 13/50\n",
      "2214/2214 [==============================] - 11s 5ms/step - loss: 0.0375 - accuracy: 0.9877 - tf_f1: 0.9480 - val_loss: 0.4312 - val_accuracy: 0.9208 - val_tf_f1: 0.9493\n",
      "Epoch 14/50\n",
      "2214/2214 [==============================] - 12s 5ms/step - loss: 0.0351 - accuracy: 0.9889 - tf_f1: 0.9506 - val_loss: 0.4458 - val_accuracy: 0.9157 - val_tf_f1: 0.9517\n",
      "Epoch 15/50\n",
      "2214/2214 [==============================] - 12s 5ms/step - loss: 0.0351 - accuracy: 0.9889 - tf_f1: 0.9528 - val_loss: 0.4822 - val_accuracy: 0.8970 - val_tf_f1: 0.9537\n"
     ]
    },
    {
     "name": "stderr",
     "output_type": "stream",
     "text": [
      "\u001b[32m[I 2022-09-08 23:49:50,509]\u001b[0m Trial 12 finished with value: 0.9536921381950378 and parameters: {'lr': 0.06976106979207661, 'units': 36}. Best is trial 12 with value: 0.9536921381950378.\u001b[0m\n"
     ]
    },
    {
     "name": "stdout",
     "output_type": "stream",
     "text": [
      "Epoch 00015: early stopping\n",
      "Epoch 1/50\n"
     ]
    },
    {
     "name": "stderr",
     "output_type": "stream",
     "text": [
      "c:\\Users\\Lim Jia Hui\\Desktop\\Python\\lib\\site-packages\\tensorflow\\python\\framework\\indexed_slices.py:444: UserWarning: Converting sparse IndexedSlices(IndexedSlices(indices=Tensor(\"gradient_tape/sequential_13/dense_26/embedding_lookup_sparse/Reshape_1:0\", shape=(None,), dtype=int32), values=Tensor(\"gradient_tape/sequential_13/dense_26/embedding_lookup_sparse/Reshape:0\", shape=(None, 37), dtype=float32), dense_shape=Tensor(\"gradient_tape/sequential_13/dense_26/embedding_lookup_sparse/Cast:0\", shape=(2,), dtype=int32))) to a dense Tensor of unknown shape. This may consume a large amount of memory.\n",
      "  warnings.warn(\n"
     ]
    },
    {
     "name": "stdout",
     "output_type": "stream",
     "text": [
      "2214/2214 [==============================] - 12s 5ms/step - loss: 0.4238 - accuracy: 0.8048 - tf_f1: 0.7423 - val_loss: 0.3580 - val_accuracy: 0.8514 - val_tf_f1: 0.8144\n",
      "Epoch 2/50\n",
      "2214/2214 [==============================] - 12s 5ms/step - loss: 0.2908 - accuracy: 0.8813 - tf_f1: 0.8379 - val_loss: 0.2219 - val_accuracy: 0.9170 - val_tf_f1: 0.8549\n",
      "Epoch 3/50\n",
      "2214/2214 [==============================] - 11s 5ms/step - loss: 0.2004 - accuracy: 0.9265 - tf_f1: 0.8698 - val_loss: 0.3121 - val_accuracy: 0.8847 - val_tf_f1: 0.8806\n",
      "Epoch 4/50\n",
      "2214/2214 [==============================] - 11s 5ms/step - loss: 0.1389 - accuracy: 0.9526 - tf_f1: 0.8902 - val_loss: 0.3387 - val_accuracy: 0.8899 - val_tf_f1: 0.8981\n",
      "Epoch 5/50\n",
      "2214/2214 [==============================] - 11s 5ms/step - loss: 0.1041 - accuracy: 0.9656 - tf_f1: 0.9051 - val_loss: 0.3189 - val_accuracy: 0.9254 - val_tf_f1: 0.9112\n",
      "Epoch 6/50\n",
      "2214/2214 [==============================] - 11s 5ms/step - loss: 0.0753 - accuracy: 0.9759 - tf_f1: 0.9168 - val_loss: 0.4154 - val_accuracy: 0.8802 - val_tf_f1: 0.9212\n",
      "Epoch 7/50\n",
      "2214/2214 [==============================] - 12s 5ms/step - loss: 0.0619 - accuracy: 0.9803 - tf_f1: 0.9251 - val_loss: 0.3510 - val_accuracy: 0.9194 - val_tf_f1: 0.9288\n",
      "Epoch 8/50\n",
      "2214/2214 [==============================] - 11s 5ms/step - loss: 0.0532 - accuracy: 0.9827 - tf_f1: 0.9321 - val_loss: 0.4684 - val_accuracy: 0.8782 - val_tf_f1: 0.9347\n",
      "Epoch 9/50\n",
      "2214/2214 [==============================] - 12s 5ms/step - loss: 0.0525 - accuracy: 0.9829 - tf_f1: 0.9369 - val_loss: 0.4176 - val_accuracy: 0.9103 - val_tf_f1: 0.9392\n",
      "Epoch 10/50\n",
      "2214/2214 [==============================] - 12s 5ms/step - loss: 0.0450 - accuracy: 0.9854 - tf_f1: 0.9413 - val_loss: 0.4309 - val_accuracy: 0.9093 - val_tf_f1: 0.9432\n",
      "Epoch 11/50\n",
      "2214/2214 [==============================] - 11s 5ms/step - loss: 0.0424 - accuracy: 0.9864 - tf_f1: 0.9449 - val_loss: 0.4615 - val_accuracy: 0.8969 - val_tf_f1: 0.9464\n",
      "Epoch 12/50\n",
      "2214/2214 [==============================] - 12s 5ms/step - loss: 0.0393 - accuracy: 0.9873 - tf_f1: 0.9478 - val_loss: 0.4491 - val_accuracy: 0.9178 - val_tf_f1: 0.9493\n",
      "Epoch 13/50\n",
      "2214/2214 [==============================] - 11s 5ms/step - loss: 0.0387 - accuracy: 0.9877 - tf_f1: 0.9505 - val_loss: 0.5336 - val_accuracy: 0.8882 - val_tf_f1: 0.9516\n",
      "Epoch 14/50\n",
      "2214/2214 [==============================] - 12s 5ms/step - loss: 0.0378 - accuracy: 0.9879 - tf_f1: 0.9526 - val_loss: 0.4862 - val_accuracy: 0.9027 - val_tf_f1: 0.9536\n",
      "Epoch 15/50\n",
      "2214/2214 [==============================] - 11s 5ms/step - loss: 0.0352 - accuracy: 0.9885 - tf_f1: 0.9545 - val_loss: 0.5223 - val_accuracy: 0.8895 - val_tf_f1: 0.9553\n"
     ]
    },
    {
     "name": "stderr",
     "output_type": "stream",
     "text": [
      "\u001b[32m[I 2022-09-08 23:52:44,966]\u001b[0m Trial 13 finished with value: 0.9553180932998657 and parameters: {'lr': 0.08854051902644125, 'units': 37}. Best is trial 13 with value: 0.9553180932998657.\u001b[0m\n"
     ]
    },
    {
     "name": "stdout",
     "output_type": "stream",
     "text": [
      "Epoch 00015: early stopping\n",
      "Epoch 1/50\n"
     ]
    },
    {
     "name": "stderr",
     "output_type": "stream",
     "text": [
      "c:\\Users\\Lim Jia Hui\\Desktop\\Python\\lib\\site-packages\\tensorflow\\python\\framework\\indexed_slices.py:444: UserWarning: Converting sparse IndexedSlices(IndexedSlices(indices=Tensor(\"gradient_tape/sequential_14/dense_28/embedding_lookup_sparse/Reshape_1:0\", shape=(None,), dtype=int32), values=Tensor(\"gradient_tape/sequential_14/dense_28/embedding_lookup_sparse/Reshape:0\", shape=(None, 26), dtype=float32), dense_shape=Tensor(\"gradient_tape/sequential_14/dense_28/embedding_lookup_sparse/Cast:0\", shape=(2,), dtype=int32))) to a dense Tensor of unknown shape. This may consume a large amount of memory.\n",
      "  warnings.warn(\n"
     ]
    },
    {
     "name": "stdout",
     "output_type": "stream",
     "text": [
      "2214/2214 [==============================] - 12s 5ms/step - loss: 0.4144 - accuracy: 0.8096 - tf_f1: 0.7511 - val_loss: 0.4309 - val_accuracy: 0.8099 - val_tf_f1: 0.8163\n",
      "Epoch 2/50\n",
      "2214/2214 [==============================] - 12s 5ms/step - loss: 0.2859 - accuracy: 0.8840 - tf_f1: 0.8374 - val_loss: 0.3360 - val_accuracy: 0.8627 - val_tf_f1: 0.8535\n",
      "Epoch 3/50\n",
      "2214/2214 [==============================] - 12s 5ms/step - loss: 0.2080 - accuracy: 0.9234 - tf_f1: 0.8668 - val_loss: 0.2948 - val_accuracy: 0.8975 - val_tf_f1: 0.8779\n",
      "Epoch 4/50\n",
      "2214/2214 [==============================] - 12s 5ms/step - loss: 0.1433 - accuracy: 0.9501 - tf_f1: 0.8878 - val_loss: 0.3236 - val_accuracy: 0.8971 - val_tf_f1: 0.8960\n",
      "Epoch 5/50\n",
      "2214/2214 [==============================] - 12s 5ms/step - loss: 0.1092 - accuracy: 0.9632 - tf_f1: 0.9030 - val_loss: 0.3754 - val_accuracy: 0.8913 - val_tf_f1: 0.9088\n"
     ]
    },
    {
     "name": "stderr",
     "output_type": "stream",
     "text": [
      "\u001b[32m[I 2022-09-08 23:53:44,053]\u001b[0m Trial 14 pruned. Trial was pruned at epoch 4.\u001b[0m\n"
     ]
    },
    {
     "name": "stdout",
     "output_type": "stream",
     "text": [
      "Epoch 1/50\n"
     ]
    },
    {
     "name": "stderr",
     "output_type": "stream",
     "text": [
      "c:\\Users\\Lim Jia Hui\\Desktop\\Python\\lib\\site-packages\\tensorflow\\python\\framework\\indexed_slices.py:444: UserWarning: Converting sparse IndexedSlices(IndexedSlices(indices=Tensor(\"gradient_tape/sequential_15/dense_30/embedding_lookup_sparse/Reshape_1:0\", shape=(None,), dtype=int32), values=Tensor(\"gradient_tape/sequential_15/dense_30/embedding_lookup_sparse/Reshape:0\", shape=(None, 39), dtype=float32), dense_shape=Tensor(\"gradient_tape/sequential_15/dense_30/embedding_lookup_sparse/Cast:0\", shape=(2,), dtype=int32))) to a dense Tensor of unknown shape. This may consume a large amount of memory.\n",
      "  warnings.warn(\n"
     ]
    },
    {
     "name": "stdout",
     "output_type": "stream",
     "text": [
      "2214/2214 [==============================] - 12s 5ms/step - loss: 0.4230 - accuracy: 0.8037 - tf_f1: 0.7456 - val_loss: 0.4231 - val_accuracy: 0.8101 - val_tf_f1: 0.8113\n",
      "Epoch 2/50\n",
      "2214/2214 [==============================] - 11s 5ms/step - loss: 0.2929 - accuracy: 0.8809 - tf_f1: 0.8337 - val_loss: 0.2732 - val_accuracy: 0.8928 - val_tf_f1: 0.8508\n"
     ]
    },
    {
     "name": "stderr",
     "output_type": "stream",
     "text": [
      "\u001b[32m[I 2022-09-08 23:54:07,993]\u001b[0m Trial 15 pruned. Trial was pruned at epoch 1.\u001b[0m\n"
     ]
    },
    {
     "name": "stdout",
     "output_type": "stream",
     "text": [
      "Epoch 1/50\n"
     ]
    },
    {
     "name": "stderr",
     "output_type": "stream",
     "text": [
      "c:\\Users\\Lim Jia Hui\\Desktop\\Python\\lib\\site-packages\\tensorflow\\python\\framework\\indexed_slices.py:444: UserWarning: Converting sparse IndexedSlices(IndexedSlices(indices=Tensor(\"gradient_tape/sequential_16/dense_32/embedding_lookup_sparse/Reshape_1:0\", shape=(None,), dtype=int32), values=Tensor(\"gradient_tape/sequential_16/dense_32/embedding_lookup_sparse/Reshape:0\", shape=(None, 13), dtype=float32), dense_shape=Tensor(\"gradient_tape/sequential_16/dense_32/embedding_lookup_sparse/Cast:0\", shape=(2,), dtype=int32))) to a dense Tensor of unknown shape. This may consume a large amount of memory.\n",
      "  warnings.warn(\n"
     ]
    },
    {
     "name": "stdout",
     "output_type": "stream",
     "text": [
      "2214/2214 [==============================] - 12s 5ms/step - loss: 0.4358 - accuracy: 0.7975 - tf_f1: 0.7350 - val_loss: 0.4333 - val_accuracy: 0.8010 - val_tf_f1: 0.8039\n",
      "Epoch 2/50\n",
      "2214/2214 [==============================] - 12s 5ms/step - loss: 0.3112 - accuracy: 0.8715 - tf_f1: 0.8259 - val_loss: 0.3456 - val_accuracy: 0.8366 - val_tf_f1: 0.8405\n"
     ]
    },
    {
     "name": "stderr",
     "output_type": "stream",
     "text": [
      "\u001b[32m[I 2022-09-08 23:54:31,822]\u001b[0m Trial 16 pruned. Trial was pruned at epoch 1.\u001b[0m\n"
     ]
    },
    {
     "name": "stdout",
     "output_type": "stream",
     "text": [
      "Epoch 1/50\n"
     ]
    },
    {
     "name": "stderr",
     "output_type": "stream",
     "text": [
      "c:\\Users\\Lim Jia Hui\\Desktop\\Python\\lib\\site-packages\\tensorflow\\python\\framework\\indexed_slices.py:444: UserWarning: Converting sparse IndexedSlices(IndexedSlices(indices=Tensor(\"gradient_tape/sequential_17/dense_34/embedding_lookup_sparse/Reshape_1:0\", shape=(None,), dtype=int32), values=Tensor(\"gradient_tape/sequential_17/dense_34/embedding_lookup_sparse/Reshape:0\", shape=(None, 28), dtype=float32), dense_shape=Tensor(\"gradient_tape/sequential_17/dense_34/embedding_lookup_sparse/Cast:0\", shape=(2,), dtype=int32))) to a dense Tensor of unknown shape. This may consume a large amount of memory.\n",
      "  warnings.warn(\n"
     ]
    },
    {
     "name": "stdout",
     "output_type": "stream",
     "text": [
      "2214/2214 [==============================] - 12s 5ms/step - loss: 0.6311 - accuracy: 0.7222 - tf_f1: 0.6184 - val_loss: 0.5444 - val_accuracy: 0.7386 - val_tf_f1: 0.7075\n",
      "Epoch 2/50\n",
      "2214/2214 [==============================] - 12s 5ms/step - loss: 0.4996 - accuracy: 0.7849 - tf_f1: 0.7337 - val_loss: 0.4478 - val_accuracy: 0.7929 - val_tf_f1: 0.7531\n"
     ]
    },
    {
     "name": "stderr",
     "output_type": "stream",
     "text": [
      "\u001b[32m[I 2022-09-08 23:54:55,790]\u001b[0m Trial 17 pruned. Trial was pruned at epoch 1.\u001b[0m\n"
     ]
    },
    {
     "name": "stdout",
     "output_type": "stream",
     "text": [
      "Epoch 1/50\n"
     ]
    },
    {
     "name": "stderr",
     "output_type": "stream",
     "text": [
      "c:\\Users\\Lim Jia Hui\\Desktop\\Python\\lib\\site-packages\\tensorflow\\python\\framework\\indexed_slices.py:444: UserWarning: Converting sparse IndexedSlices(IndexedSlices(indices=Tensor(\"gradient_tape/sequential_18/dense_36/embedding_lookup_sparse/Reshape_1:0\", shape=(None,), dtype=int32), values=Tensor(\"gradient_tape/sequential_18/dense_36/embedding_lookup_sparse/Reshape:0\", shape=(None, 38), dtype=float32), dense_shape=Tensor(\"gradient_tape/sequential_18/dense_36/embedding_lookup_sparse/Cast:0\", shape=(2,), dtype=int32))) to a dense Tensor of unknown shape. This may consume a large amount of memory.\n",
      "  warnings.warn(\n"
     ]
    },
    {
     "name": "stdout",
     "output_type": "stream",
     "text": [
      "2214/2214 [==============================] - 12s 5ms/step - loss: 0.4322 - accuracy: 0.7993 - tf_f1: 0.7476 - val_loss: 0.2192 - val_accuracy: 0.9164 - val_tf_f1: 0.8148\n",
      "Epoch 2/50\n",
      "2214/2214 [==============================] - 12s 5ms/step - loss: 0.3053 - accuracy: 0.8742 - tf_f1: 0.8396 - val_loss: 0.3537 - val_accuracy: 0.8504 - val_tf_f1: 0.8517\n"
     ]
    },
    {
     "name": "stderr",
     "output_type": "stream",
     "text": [
      "\u001b[32m[I 2022-09-08 23:55:20,115]\u001b[0m Trial 18 pruned. Trial was pruned at epoch 1.\u001b[0m\n"
     ]
    },
    {
     "name": "stdout",
     "output_type": "stream",
     "text": [
      "Epoch 1/50\n"
     ]
    },
    {
     "name": "stderr",
     "output_type": "stream",
     "text": [
      "c:\\Users\\Lim Jia Hui\\Desktop\\Python\\lib\\site-packages\\tensorflow\\python\\framework\\indexed_slices.py:444: UserWarning: Converting sparse IndexedSlices(IndexedSlices(indices=Tensor(\"gradient_tape/sequential_19/dense_38/embedding_lookup_sparse/Reshape_1:0\", shape=(None,), dtype=int32), values=Tensor(\"gradient_tape/sequential_19/dense_38/embedding_lookup_sparse/Reshape:0\", shape=(None, 32), dtype=float32), dense_shape=Tensor(\"gradient_tape/sequential_19/dense_38/embedding_lookup_sparse/Cast:0\", shape=(2,), dtype=int32))) to a dense Tensor of unknown shape. This may consume a large amount of memory.\n",
      "  warnings.warn(\n"
     ]
    },
    {
     "name": "stdout",
     "output_type": "stream",
     "text": [
      "2214/2214 [==============================] - 12s 5ms/step - loss: 0.4244 - accuracy: 0.8037 - tf_f1: 0.7539 - val_loss: 0.5221 - val_accuracy: 0.7579 - val_tf_f1: 0.8082\n",
      "Epoch 2/50\n",
      "2214/2214 [==============================] - 12s 5ms/step - loss: 0.2997 - accuracy: 0.8754 - tf_f1: 0.8271 - val_loss: 0.2855 - val_accuracy: 0.8883 - val_tf_f1: 0.8448\n"
     ]
    },
    {
     "name": "stderr",
     "output_type": "stream",
     "text": [
      "\u001b[32m[I 2022-09-08 23:55:44,765]\u001b[0m Trial 19 pruned. Trial was pruned at epoch 1.\u001b[0m\n"
     ]
    },
    {
     "name": "stdout",
     "output_type": "stream",
     "text": [
      "Epoch 1/50\n"
     ]
    },
    {
     "name": "stderr",
     "output_type": "stream",
     "text": [
      "c:\\Users\\Lim Jia Hui\\Desktop\\Python\\lib\\site-packages\\tensorflow\\python\\framework\\indexed_slices.py:444: UserWarning: Converting sparse IndexedSlices(IndexedSlices(indices=Tensor(\"gradient_tape/sequential_20/dense_40/embedding_lookup_sparse/Reshape_1:0\", shape=(None,), dtype=int32), values=Tensor(\"gradient_tape/sequential_20/dense_40/embedding_lookup_sparse/Reshape:0\", shape=(None, 41), dtype=float32), dense_shape=Tensor(\"gradient_tape/sequential_20/dense_40/embedding_lookup_sparse/Cast:0\", shape=(2,), dtype=int32))) to a dense Tensor of unknown shape. This may consume a large amount of memory.\n",
      "  warnings.warn(\n"
     ]
    },
    {
     "name": "stdout",
     "output_type": "stream",
     "text": [
      "2214/2214 [==============================] - 12s 5ms/step - loss: 0.4360 - accuracy: 0.7982 - tf_f1: 0.7377 - val_loss: 0.3693 - val_accuracy: 0.8426 - val_tf_f1: 0.8078\n",
      "Epoch 2/50\n",
      "2214/2214 [==============================] - 12s 5ms/step - loss: 0.3074 - accuracy: 0.8730 - tf_f1: 0.8306 - val_loss: 0.2480 - val_accuracy: 0.9015 - val_tf_f1: 0.8474\n"
     ]
    },
    {
     "name": "stderr",
     "output_type": "stream",
     "text": [
      "\u001b[32m[I 2022-09-08 23:56:09,084]\u001b[0m Trial 20 pruned. Trial was pruned at epoch 1.\u001b[0m\n"
     ]
    },
    {
     "name": "stdout",
     "output_type": "stream",
     "text": [
      "Epoch 1/50\n"
     ]
    },
    {
     "name": "stderr",
     "output_type": "stream",
     "text": [
      "c:\\Users\\Lim Jia Hui\\Desktop\\Python\\lib\\site-packages\\tensorflow\\python\\framework\\indexed_slices.py:444: UserWarning: Converting sparse IndexedSlices(IndexedSlices(indices=Tensor(\"gradient_tape/sequential_21/dense_42/embedding_lookup_sparse/Reshape_1:0\", shape=(None,), dtype=int32), values=Tensor(\"gradient_tape/sequential_21/dense_42/embedding_lookup_sparse/Reshape:0\", shape=(None, 36), dtype=float32), dense_shape=Tensor(\"gradient_tape/sequential_21/dense_42/embedding_lookup_sparse/Cast:0\", shape=(2,), dtype=int32))) to a dense Tensor of unknown shape. This may consume a large amount of memory.\n",
      "  warnings.warn(\n"
     ]
    },
    {
     "name": "stdout",
     "output_type": "stream",
     "text": [
      "2214/2214 [==============================] - 12s 5ms/step - loss: 0.4227 - accuracy: 0.8058 - tf_f1: 0.7541 - val_loss: 0.2461 - val_accuracy: 0.9044 - val_tf_f1: 0.8196\n",
      "Epoch 2/50\n",
      "2214/2214 [==============================] - 12s 5ms/step - loss: 0.2969 - accuracy: 0.8780 - tf_f1: 0.8425 - val_loss: 0.2574 - val_accuracy: 0.8971 - val_tf_f1: 0.8570\n",
      "Epoch 3/50\n",
      "2214/2214 [==============================] - 12s 5ms/step - loss: 0.2223 - accuracy: 0.9169 - tf_f1: 0.8692 - val_loss: 0.4302 - val_accuracy: 0.8348 - val_tf_f1: 0.8777\n",
      "Epoch 4/50\n",
      "2214/2214 [==============================] - 12s 5ms/step - loss: 0.1615 - accuracy: 0.9421 - tf_f1: 0.8854 - val_loss: 0.2892 - val_accuracy: 0.9100 - val_tf_f1: 0.8933\n",
      "Epoch 5/50\n",
      "2214/2214 [==============================] - 12s 5ms/step - loss: 0.1176 - accuracy: 0.9603 - tf_f1: 0.9004 - val_loss: 0.3279 - val_accuracy: 0.8942 - val_tf_f1: 0.9063\n"
     ]
    },
    {
     "name": "stderr",
     "output_type": "stream",
     "text": [
      "\u001b[32m[I 2022-09-08 23:57:08,784]\u001b[0m Trial 21 pruned. Trial was pruned at epoch 4.\u001b[0m\n"
     ]
    },
    {
     "name": "stdout",
     "output_type": "stream",
     "text": [
      "Epoch 1/50\n"
     ]
    },
    {
     "name": "stderr",
     "output_type": "stream",
     "text": [
      "c:\\Users\\Lim Jia Hui\\Desktop\\Python\\lib\\site-packages\\tensorflow\\python\\framework\\indexed_slices.py:444: UserWarning: Converting sparse IndexedSlices(IndexedSlices(indices=Tensor(\"gradient_tape/sequential_22/dense_44/embedding_lookup_sparse/Reshape_1:0\", shape=(None,), dtype=int32), values=Tensor(\"gradient_tape/sequential_22/dense_44/embedding_lookup_sparse/Reshape:0\", shape=(None, 34), dtype=float32), dense_shape=Tensor(\"gradient_tape/sequential_22/dense_44/embedding_lookup_sparse/Cast:0\", shape=(2,), dtype=int32))) to a dense Tensor of unknown shape. This may consume a large amount of memory.\n",
      "  warnings.warn(\n"
     ]
    },
    {
     "name": "stdout",
     "output_type": "stream",
     "text": [
      "2214/2214 [==============================] - 12s 5ms/step - loss: 0.4222 - accuracy: 0.8048 - tf_f1: 0.7482 - val_loss: 0.4698 - val_accuracy: 0.7857 - val_tf_f1: 0.8097\n",
      "Epoch 2/50\n",
      "2214/2214 [==============================] - 12s 5ms/step - loss: 0.2959 - accuracy: 0.8766 - tf_f1: 0.8300 - val_loss: 0.4751 - val_accuracy: 0.7940 - val_tf_f1: 0.8438\n"
     ]
    },
    {
     "name": "stderr",
     "output_type": "stream",
     "text": [
      "\u001b[32m[I 2022-09-08 23:57:33,089]\u001b[0m Trial 22 pruned. Trial was pruned at epoch 1.\u001b[0m\n"
     ]
    },
    {
     "name": "stdout",
     "output_type": "stream",
     "text": [
      "Epoch 1/50\n"
     ]
    },
    {
     "name": "stderr",
     "output_type": "stream",
     "text": [
      "c:\\Users\\Lim Jia Hui\\Desktop\\Python\\lib\\site-packages\\tensorflow\\python\\framework\\indexed_slices.py:444: UserWarning: Converting sparse IndexedSlices(IndexedSlices(indices=Tensor(\"gradient_tape/sequential_23/dense_46/embedding_lookup_sparse/Reshape_1:0\", shape=(None,), dtype=int32), values=Tensor(\"gradient_tape/sequential_23/dense_46/embedding_lookup_sparse/Reshape:0\", shape=(None, 28), dtype=float32), dense_shape=Tensor(\"gradient_tape/sequential_23/dense_46/embedding_lookup_sparse/Cast:0\", shape=(2,), dtype=int32))) to a dense Tensor of unknown shape. This may consume a large amount of memory.\n",
      "  warnings.warn(\n"
     ]
    },
    {
     "name": "stdout",
     "output_type": "stream",
     "text": [
      "2214/2214 [==============================] - 12s 5ms/step - loss: 0.4306 - accuracy: 0.8011 - tf_f1: 0.7496 - val_loss: 0.2717 - val_accuracy: 0.8938 - val_tf_f1: 0.8148\n",
      "Epoch 2/50\n",
      "2214/2214 [==============================] - 12s 5ms/step - loss: 0.3081 - accuracy: 0.8722 - tf_f1: 0.8374 - val_loss: 0.2616 - val_accuracy: 0.9016 - val_tf_f1: 0.8519\n"
     ]
    },
    {
     "name": "stderr",
     "output_type": "stream",
     "text": [
      "\u001b[32m[I 2022-09-08 23:57:57,335]\u001b[0m Trial 23 pruned. Trial was pruned at epoch 1.\u001b[0m\n"
     ]
    },
    {
     "name": "stdout",
     "output_type": "stream",
     "text": [
      "Epoch 1/50\n"
     ]
    },
    {
     "name": "stderr",
     "output_type": "stream",
     "text": [
      "c:\\Users\\Lim Jia Hui\\Desktop\\Python\\lib\\site-packages\\tensorflow\\python\\framework\\indexed_slices.py:444: UserWarning: Converting sparse IndexedSlices(IndexedSlices(indices=Tensor(\"gradient_tape/sequential_24/dense_48/embedding_lookup_sparse/Reshape_1:0\", shape=(None,), dtype=int32), values=Tensor(\"gradient_tape/sequential_24/dense_48/embedding_lookup_sparse/Reshape:0\", shape=(None, 38), dtype=float32), dense_shape=Tensor(\"gradient_tape/sequential_24/dense_48/embedding_lookup_sparse/Cast:0\", shape=(2,), dtype=int32))) to a dense Tensor of unknown shape. This may consume a large amount of memory.\n",
      "  warnings.warn(\n"
     ]
    },
    {
     "name": "stdout",
     "output_type": "stream",
     "text": [
      "2214/2214 [==============================] - 12s 5ms/step - loss: 0.4220 - accuracy: 0.8049 - tf_f1: 0.7361 - val_loss: 0.2402 - val_accuracy: 0.9123 - val_tf_f1: 0.8190\n",
      "Epoch 2/50\n",
      "2214/2214 [==============================] - 12s 5ms/step - loss: 0.2945 - accuracy: 0.8797 - tf_f1: 0.8432 - val_loss: 0.2403 - val_accuracy: 0.9109 - val_tf_f1: 0.8584\n",
      "Epoch 3/50\n",
      "2214/2214 [==============================] - 12s 5ms/step - loss: 0.2185 - accuracy: 0.9175 - tf_f1: 0.8707 - val_loss: 0.2875 - val_accuracy: 0.9022 - val_tf_f1: 0.8806\n",
      "Epoch 4/50\n",
      "2214/2214 [==============================] - 12s 5ms/step - loss: 0.1556 - accuracy: 0.9448 - tf_f1: 0.8896 - val_loss: 0.3537 - val_accuracy: 0.8857 - val_tf_f1: 0.8967\n",
      "Epoch 5/50\n",
      "2214/2214 [==============================] - 12s 5ms/step - loss: 0.1146 - accuracy: 0.9607 - tf_f1: 0.9032 - val_loss: 0.3511 - val_accuracy: 0.8993 - val_tf_f1: 0.9089\n"
     ]
    },
    {
     "name": "stderr",
     "output_type": "stream",
     "text": [
      "\u001b[32m[I 2022-09-08 23:58:56,949]\u001b[0m Trial 24 pruned. Trial was pruned at epoch 4.\u001b[0m\n"
     ]
    },
    {
     "name": "stdout",
     "output_type": "stream",
     "text": [
      "Epoch 1/50\n"
     ]
    },
    {
     "name": "stderr",
     "output_type": "stream",
     "text": [
      "c:\\Users\\Lim Jia Hui\\Desktop\\Python\\lib\\site-packages\\tensorflow\\python\\framework\\indexed_slices.py:444: UserWarning: Converting sparse IndexedSlices(IndexedSlices(indices=Tensor(\"gradient_tape/sequential_25/dense_50/embedding_lookup_sparse/Reshape_1:0\", shape=(None,), dtype=int32), values=Tensor(\"gradient_tape/sequential_25/dense_50/embedding_lookup_sparse/Reshape:0\", shape=(None, 43), dtype=float32), dense_shape=Tensor(\"gradient_tape/sequential_25/dense_50/embedding_lookup_sparse/Cast:0\", shape=(2,), dtype=int32))) to a dense Tensor of unknown shape. This may consume a large amount of memory.\n",
      "  warnings.warn(\n"
     ]
    },
    {
     "name": "stdout",
     "output_type": "stream",
     "text": [
      "2214/2214 [==============================] - 12s 5ms/step - loss: 0.4267 - accuracy: 0.8021 - tf_f1: 0.7545 - val_loss: 0.3336 - val_accuracy: 0.8550 - val_tf_f1: 0.8129\n",
      "Epoch 2/50\n",
      "2214/2214 [==============================] - 12s 5ms/step - loss: 0.3053 - accuracy: 0.8722 - tf_f1: 0.8344 - val_loss: 0.4460 - val_accuracy: 0.8082 - val_tf_f1: 0.8464\n"
     ]
    },
    {
     "name": "stderr",
     "output_type": "stream",
     "text": [
      "\u001b[32m[I 2022-09-08 23:59:21,163]\u001b[0m Trial 25 pruned. Trial was pruned at epoch 1.\u001b[0m\n"
     ]
    },
    {
     "name": "stdout",
     "output_type": "stream",
     "text": [
      "Epoch 1/50\n"
     ]
    },
    {
     "name": "stderr",
     "output_type": "stream",
     "text": [
      "c:\\Users\\Lim Jia Hui\\Desktop\\Python\\lib\\site-packages\\tensorflow\\python\\framework\\indexed_slices.py:444: UserWarning: Converting sparse IndexedSlices(IndexedSlices(indices=Tensor(\"gradient_tape/sequential_26/dense_52/embedding_lookup_sparse/Reshape_1:0\", shape=(None,), dtype=int32), values=Tensor(\"gradient_tape/sequential_26/dense_52/embedding_lookup_sparse/Reshape:0\", shape=(None, 35), dtype=float32), dense_shape=Tensor(\"gradient_tape/sequential_26/dense_52/embedding_lookup_sparse/Cast:0\", shape=(2,), dtype=int32))) to a dense Tensor of unknown shape. This may consume a large amount of memory.\n",
      "  warnings.warn(\n"
     ]
    },
    {
     "name": "stdout",
     "output_type": "stream",
     "text": [
      "2214/2214 [==============================] - 12s 5ms/step - loss: 0.4402 - accuracy: 0.7965 - tf_f1: 0.7434 - val_loss: 0.3154 - val_accuracy: 0.8683 - val_tf_f1: 0.8082\n",
      "Epoch 2/50\n",
      "2214/2214 [==============================] - 12s 5ms/step - loss: 0.3156 - accuracy: 0.8688 - tf_f1: 0.8309 - val_loss: 0.2470 - val_accuracy: 0.9051 - val_tf_f1: 0.8465\n"
     ]
    },
    {
     "name": "stderr",
     "output_type": "stream",
     "text": [
      "\u001b[32m[I 2022-09-08 23:59:45,485]\u001b[0m Trial 26 pruned. Trial was pruned at epoch 1.\u001b[0m\n"
     ]
    },
    {
     "name": "stdout",
     "output_type": "stream",
     "text": [
      "Epoch 1/50\n"
     ]
    },
    {
     "name": "stderr",
     "output_type": "stream",
     "text": [
      "c:\\Users\\Lim Jia Hui\\Desktop\\Python\\lib\\site-packages\\tensorflow\\python\\framework\\indexed_slices.py:444: UserWarning: Converting sparse IndexedSlices(IndexedSlices(indices=Tensor(\"gradient_tape/sequential_27/dense_54/embedding_lookup_sparse/Reshape_1:0\", shape=(None,), dtype=int32), values=Tensor(\"gradient_tape/sequential_27/dense_54/embedding_lookup_sparse/Reshape:0\", shape=(None, 29), dtype=float32), dense_shape=Tensor(\"gradient_tape/sequential_27/dense_54/embedding_lookup_sparse/Cast:0\", shape=(2,), dtype=int32))) to a dense Tensor of unknown shape. This may consume a large amount of memory.\n",
      "  warnings.warn(\n"
     ]
    },
    {
     "name": "stdout",
     "output_type": "stream",
     "text": [
      "2214/2214 [==============================] - 12s 5ms/step - loss: 0.4304 - accuracy: 0.8026 - tf_f1: 0.7395 - val_loss: 0.3998 - val_accuracy: 0.8244 - val_tf_f1: 0.8101\n",
      "Epoch 2/50\n",
      "2214/2214 [==============================] - 12s 5ms/step - loss: 0.2991 - accuracy: 0.8778 - tf_f1: 0.8323 - val_loss: 0.2633 - val_accuracy: 0.8997 - val_tf_f1: 0.8498\n"
     ]
    },
    {
     "name": "stderr",
     "output_type": "stream",
     "text": [
      "\u001b[32m[I 2022-09-09 00:00:09,406]\u001b[0m Trial 27 pruned. Trial was pruned at epoch 1.\u001b[0m\n"
     ]
    },
    {
     "name": "stdout",
     "output_type": "stream",
     "text": [
      "Epoch 1/50\n"
     ]
    },
    {
     "name": "stderr",
     "output_type": "stream",
     "text": [
      "c:\\Users\\Lim Jia Hui\\Desktop\\Python\\lib\\site-packages\\tensorflow\\python\\framework\\indexed_slices.py:444: UserWarning: Converting sparse IndexedSlices(IndexedSlices(indices=Tensor(\"gradient_tape/sequential_28/dense_56/embedding_lookup_sparse/Reshape_1:0\", shape=(None,), dtype=int32), values=Tensor(\"gradient_tape/sequential_28/dense_56/embedding_lookup_sparse/Reshape:0\", shape=(None, 24), dtype=float32), dense_shape=Tensor(\"gradient_tape/sequential_28/dense_56/embedding_lookup_sparse/Cast:0\", shape=(2,), dtype=int32))) to a dense Tensor of unknown shape. This may consume a large amount of memory.\n",
      "  warnings.warn(\n"
     ]
    },
    {
     "name": "stdout",
     "output_type": "stream",
     "text": [
      "2214/2214 [==============================] - 12s 5ms/step - loss: 0.4150 - accuracy: 0.8095 - tf_f1: 0.7461 - val_loss: 0.4629 - val_accuracy: 0.7947 - val_tf_f1: 0.8141\n",
      "Epoch 2/50\n",
      "2214/2214 [==============================] - 12s 5ms/step - loss: 0.2891 - accuracy: 0.8808 - tf_f1: 0.8348 - val_loss: 0.2857 - val_accuracy: 0.8888 - val_tf_f1: 0.8516\n"
     ]
    },
    {
     "name": "stderr",
     "output_type": "stream",
     "text": [
      "\u001b[32m[I 2022-09-09 00:00:33,250]\u001b[0m Trial 28 pruned. Trial was pruned at epoch 1.\u001b[0m\n"
     ]
    },
    {
     "name": "stdout",
     "output_type": "stream",
     "text": [
      "Epoch 1/50\n"
     ]
    },
    {
     "name": "stderr",
     "output_type": "stream",
     "text": [
      "c:\\Users\\Lim Jia Hui\\Desktop\\Python\\lib\\site-packages\\tensorflow\\python\\framework\\indexed_slices.py:444: UserWarning: Converting sparse IndexedSlices(IndexedSlices(indices=Tensor(\"gradient_tape/sequential_29/dense_58/embedding_lookup_sparse/Reshape_1:0\", shape=(None,), dtype=int32), values=Tensor(\"gradient_tape/sequential_29/dense_58/embedding_lookup_sparse/Reshape:0\", shape=(None, 39), dtype=float32), dense_shape=Tensor(\"gradient_tape/sequential_29/dense_58/embedding_lookup_sparse/Cast:0\", shape=(2,), dtype=int32))) to a dense Tensor of unknown shape. This may consume a large amount of memory.\n",
      "  warnings.warn(\n"
     ]
    },
    {
     "name": "stdout",
     "output_type": "stream",
     "text": [
      "2214/2214 [==============================] - 12s 5ms/step - loss: 0.4309 - accuracy: 0.7983 - tf_f1: 0.7161 - val_loss: 0.2874 - val_accuracy: 0.8800 - val_tf_f1: 0.8100\n",
      "Epoch 2/50\n",
      "2214/2214 [==============================] - 12s 5ms/step - loss: 0.3002 - accuracy: 0.8764 - tf_f1: 0.8342 - val_loss: 0.3645 - val_accuracy: 0.8506 - val_tf_f1: 0.8493\n"
     ]
    },
    {
     "name": "stderr",
     "output_type": "stream",
     "text": [
      "\u001b[32m[I 2022-09-09 00:00:57,641]\u001b[0m Trial 29 pruned. Trial was pruned at epoch 1.\u001b[0m\n"
     ]
    },
    {
     "name": "stdout",
     "output_type": "stream",
     "text": [
      "Epoch 1/50\n"
     ]
    },
    {
     "name": "stderr",
     "output_type": "stream",
     "text": [
      "c:\\Users\\Lim Jia Hui\\Desktop\\Python\\lib\\site-packages\\tensorflow\\python\\framework\\indexed_slices.py:444: UserWarning: Converting sparse IndexedSlices(IndexedSlices(indices=Tensor(\"gradient_tape/sequential_30/dense_60/embedding_lookup_sparse/Reshape_1:0\", shape=(None,), dtype=int32), values=Tensor(\"gradient_tape/sequential_30/dense_60/embedding_lookup_sparse/Reshape:0\", shape=(None, 36), dtype=float32), dense_shape=Tensor(\"gradient_tape/sequential_30/dense_60/embedding_lookup_sparse/Cast:0\", shape=(2,), dtype=int32))) to a dense Tensor of unknown shape. This may consume a large amount of memory.\n",
      "  warnings.warn(\n"
     ]
    },
    {
     "name": "stdout",
     "output_type": "stream",
     "text": [
      "2214/2214 [==============================] - 12s 5ms/step - loss: 0.4234 - accuracy: 0.8052 - tf_f1: 0.7510 - val_loss: 0.3986 - val_accuracy: 0.8189 - val_tf_f1: 0.8124\n",
      "Epoch 2/50\n",
      "2214/2214 [==============================] - 11s 5ms/step - loss: 0.2967 - accuracy: 0.8768 - tf_f1: 0.8331 - val_loss: 0.4492 - val_accuracy: 0.8057 - val_tf_f1: 0.8469\n"
     ]
    },
    {
     "name": "stderr",
     "output_type": "stream",
     "text": [
      "\u001b[32m[I 2022-09-09 00:01:21,541]\u001b[0m Trial 30 pruned. Trial was pruned at epoch 1.\u001b[0m\n"
     ]
    },
    {
     "name": "stdout",
     "output_type": "stream",
     "text": [
      "Epoch 1/50\n"
     ]
    },
    {
     "name": "stderr",
     "output_type": "stream",
     "text": [
      "c:\\Users\\Lim Jia Hui\\Desktop\\Python\\lib\\site-packages\\tensorflow\\python\\framework\\indexed_slices.py:444: UserWarning: Converting sparse IndexedSlices(IndexedSlices(indices=Tensor(\"gradient_tape/sequential_31/dense_62/embedding_lookup_sparse/Reshape_1:0\", shape=(None,), dtype=int32), values=Tensor(\"gradient_tape/sequential_31/dense_62/embedding_lookup_sparse/Reshape:0\", shape=(None, 31), dtype=float32), dense_shape=Tensor(\"gradient_tape/sequential_31/dense_62/embedding_lookup_sparse/Cast:0\", shape=(2,), dtype=int32))) to a dense Tensor of unknown shape. This may consume a large amount of memory.\n",
      "  warnings.warn(\n"
     ]
    },
    {
     "name": "stdout",
     "output_type": "stream",
     "text": [
      "2214/2214 [==============================] - 12s 5ms/step - loss: 0.4288 - accuracy: 0.8022 - tf_f1: 0.7499 - val_loss: 0.7311 - val_accuracy: 0.6362 - val_tf_f1: 0.7969\n",
      "Epoch 2/50\n",
      "2214/2214 [==============================] - 12s 5ms/step - loss: 0.3005 - accuracy: 0.8765 - tf_f1: 0.8142 - val_loss: 0.2907 - val_accuracy: 0.8830 - val_tf_f1: 0.8358\n"
     ]
    },
    {
     "name": "stderr",
     "output_type": "stream",
     "text": [
      "\u001b[32m[I 2022-09-09 00:01:46,015]\u001b[0m Trial 31 pruned. Trial was pruned at epoch 1.\u001b[0m\n"
     ]
    },
    {
     "name": "stdout",
     "output_type": "stream",
     "text": [
      "Epoch 1/50\n"
     ]
    },
    {
     "name": "stderr",
     "output_type": "stream",
     "text": [
      "c:\\Users\\Lim Jia Hui\\Desktop\\Python\\lib\\site-packages\\tensorflow\\python\\framework\\indexed_slices.py:444: UserWarning: Converting sparse IndexedSlices(IndexedSlices(indices=Tensor(\"gradient_tape/sequential_32/dense_64/embedding_lookup_sparse/Reshape_1:0\", shape=(None,), dtype=int32), values=Tensor(\"gradient_tape/sequential_32/dense_64/embedding_lookup_sparse/Reshape:0\", shape=(None, 36), dtype=float32), dense_shape=Tensor(\"gradient_tape/sequential_32/dense_64/embedding_lookup_sparse/Cast:0\", shape=(2,), dtype=int32))) to a dense Tensor of unknown shape. This may consume a large amount of memory.\n",
      "  warnings.warn(\n"
     ]
    },
    {
     "name": "stdout",
     "output_type": "stream",
     "text": [
      "2214/2214 [==============================] - 12s 5ms/step - loss: 0.4378 - accuracy: 0.7945 - tf_f1: 0.7189 - val_loss: 0.3209 - val_accuracy: 0.8683 - val_tf_f1: 0.8055\n",
      "Epoch 2/50\n",
      "2214/2214 [==============================] - 12s 5ms/step - loss: 0.3096 - accuracy: 0.8718 - tf_f1: 0.8301 - val_loss: 0.3452 - val_accuracy: 0.8555 - val_tf_f1: 0.8450\n"
     ]
    },
    {
     "name": "stderr",
     "output_type": "stream",
     "text": [
      "\u001b[32m[I 2022-09-09 00:02:10,208]\u001b[0m Trial 32 pruned. Trial was pruned at epoch 1.\u001b[0m\n"
     ]
    },
    {
     "name": "stdout",
     "output_type": "stream",
     "text": [
      "Epoch 1/50\n"
     ]
    },
    {
     "name": "stderr",
     "output_type": "stream",
     "text": [
      "c:\\Users\\Lim Jia Hui\\Desktop\\Python\\lib\\site-packages\\tensorflow\\python\\framework\\indexed_slices.py:444: UserWarning: Converting sparse IndexedSlices(IndexedSlices(indices=Tensor(\"gradient_tape/sequential_33/dense_66/embedding_lookup_sparse/Reshape_1:0\", shape=(None,), dtype=int32), values=Tensor(\"gradient_tape/sequential_33/dense_66/embedding_lookup_sparse/Reshape:0\", shape=(None, 40), dtype=float32), dense_shape=Tensor(\"gradient_tape/sequential_33/dense_66/embedding_lookup_sparse/Cast:0\", shape=(2,), dtype=int32))) to a dense Tensor of unknown shape. This may consume a large amount of memory.\n",
      "  warnings.warn(\n"
     ]
    },
    {
     "name": "stdout",
     "output_type": "stream",
     "text": [
      "2214/2214 [==============================] - 13s 5ms/step - loss: 0.4298 - accuracy: 0.7988 - tf_f1: 0.7399 - val_loss: 0.2498 - val_accuracy: 0.9071 - val_tf_f1: 0.8132\n",
      "Epoch 2/50\n",
      "2214/2214 [==============================] - 12s 5ms/step - loss: 0.3005 - accuracy: 0.8760 - tf_f1: 0.8375 - val_loss: 0.4732 - val_accuracy: 0.8056 - val_tf_f1: 0.8498\n"
     ]
    },
    {
     "name": "stderr",
     "output_type": "stream",
     "text": [
      "\u001b[32m[I 2022-09-09 00:02:35,089]\u001b[0m Trial 33 pruned. Trial was pruned at epoch 1.\u001b[0m\n"
     ]
    },
    {
     "name": "stdout",
     "output_type": "stream",
     "text": [
      "Epoch 1/50\n"
     ]
    },
    {
     "name": "stderr",
     "output_type": "stream",
     "text": [
      "c:\\Users\\Lim Jia Hui\\Desktop\\Python\\lib\\site-packages\\tensorflow\\python\\framework\\indexed_slices.py:444: UserWarning: Converting sparse IndexedSlices(IndexedSlices(indices=Tensor(\"gradient_tape/sequential_34/dense_68/embedding_lookup_sparse/Reshape_1:0\", shape=(None,), dtype=int32), values=Tensor(\"gradient_tape/sequential_34/dense_68/embedding_lookup_sparse/Reshape:0\", shape=(None, 45), dtype=float32), dense_shape=Tensor(\"gradient_tape/sequential_34/dense_68/embedding_lookup_sparse/Cast:0\", shape=(2,), dtype=int32))) to a dense Tensor of unknown shape. This may consume a large amount of memory.\n",
      "  warnings.warn(\n"
     ]
    },
    {
     "name": "stdout",
     "output_type": "stream",
     "text": [
      "2214/2214 [==============================] - 12s 5ms/step - loss: 0.4400 - accuracy: 0.7974 - tf_f1: 0.7371 - val_loss: 0.3773 - val_accuracy: 0.8344 - val_tf_f1: 0.8062\n",
      "Epoch 2/50\n",
      "2214/2214 [==============================] - 11s 5ms/step - loss: 0.3102 - accuracy: 0.8721 - tf_f1: 0.8297 - val_loss: 0.3075 - val_accuracy: 0.8759 - val_tf_f1: 0.8450\n"
     ]
    },
    {
     "name": "stderr",
     "output_type": "stream",
     "text": [
      "\u001b[32m[I 2022-09-09 00:02:58,728]\u001b[0m Trial 34 pruned. Trial was pruned at epoch 1.\u001b[0m\n"
     ]
    },
    {
     "name": "stdout",
     "output_type": "stream",
     "text": [
      "Epoch 1/50\n"
     ]
    },
    {
     "name": "stderr",
     "output_type": "stream",
     "text": [
      "c:\\Users\\Lim Jia Hui\\Desktop\\Python\\lib\\site-packages\\tensorflow\\python\\framework\\indexed_slices.py:444: UserWarning: Converting sparse IndexedSlices(IndexedSlices(indices=Tensor(\"gradient_tape/sequential_35/dense_70/embedding_lookup_sparse/Reshape_1:0\", shape=(None,), dtype=int32), values=Tensor(\"gradient_tape/sequential_35/dense_70/embedding_lookup_sparse/Reshape:0\", shape=(None, 33), dtype=float32), dense_shape=Tensor(\"gradient_tape/sequential_35/dense_70/embedding_lookup_sparse/Cast:0\", shape=(2,), dtype=int32))) to a dense Tensor of unknown shape. This may consume a large amount of memory.\n",
      "  warnings.warn(\n"
     ]
    },
    {
     "name": "stdout",
     "output_type": "stream",
     "text": [
      "2214/2214 [==============================] - 12s 5ms/step - loss: 0.4435 - accuracy: 0.7945 - tf_f1: 0.7033 - val_loss: 0.6924 - val_accuracy: 0.6614 - val_tf_f1: 0.7889\n",
      "Epoch 2/50\n",
      "2214/2214 [==============================] - 11s 5ms/step - loss: 0.3139 - accuracy: 0.8698 - tf_f1: 0.8083 - val_loss: 0.3943 - val_accuracy: 0.8314 - val_tf_f1: 0.8286\n"
     ]
    },
    {
     "name": "stderr",
     "output_type": "stream",
     "text": [
      "\u001b[32m[I 2022-09-09 00:03:22,666]\u001b[0m Trial 35 pruned. Trial was pruned at epoch 1.\u001b[0m\n"
     ]
    },
    {
     "name": "stdout",
     "output_type": "stream",
     "text": [
      "Epoch 1/50\n"
     ]
    },
    {
     "name": "stderr",
     "output_type": "stream",
     "text": [
      "c:\\Users\\Lim Jia Hui\\Desktop\\Python\\lib\\site-packages\\tensorflow\\python\\framework\\indexed_slices.py:444: UserWarning: Converting sparse IndexedSlices(IndexedSlices(indices=Tensor(\"gradient_tape/sequential_36/dense_72/embedding_lookup_sparse/Reshape_1:0\", shape=(None,), dtype=int32), values=Tensor(\"gradient_tape/sequential_36/dense_72/embedding_lookup_sparse/Reshape:0\", shape=(None, 44), dtype=float32), dense_shape=Tensor(\"gradient_tape/sequential_36/dense_72/embedding_lookup_sparse/Cast:0\", shape=(2,), dtype=int32))) to a dense Tensor of unknown shape. This may consume a large amount of memory.\n",
      "  warnings.warn(\n"
     ]
    },
    {
     "name": "stdout",
     "output_type": "stream",
     "text": [
      "2214/2214 [==============================] - 12s 5ms/step - loss: 0.4220 - accuracy: 0.8061 - tf_f1: 0.7474 - val_loss: 0.2654 - val_accuracy: 0.8933 - val_tf_f1: 0.8188\n",
      "Epoch 2/50\n",
      "2214/2214 [==============================] - 12s 5ms/step - loss: 0.2888 - accuracy: 0.8816 - tf_f1: 0.8424 - val_loss: 0.2217 - val_accuracy: 0.9226 - val_tf_f1: 0.8586\n",
      "Epoch 3/50\n",
      "2214/2214 [==============================] - 12s 5ms/step - loss: 0.2126 - accuracy: 0.9187 - tf_f1: 0.8717 - val_loss: 0.3614 - val_accuracy: 0.8663 - val_tf_f1: 0.8805\n",
      "Epoch 4/50\n",
      "2214/2214 [==============================] - 12s 5ms/step - loss: 0.1435 - accuracy: 0.9500 - tf_f1: 0.8894 - val_loss: 0.3136 - val_accuracy: 0.9057 - val_tf_f1: 0.8975\n",
      "Epoch 5/50\n",
      "2214/2214 [==============================] - 12s 5ms/step - loss: 0.0992 - accuracy: 0.9672 - tf_f1: 0.9048 - val_loss: 0.3159 - val_accuracy: 0.9227 - val_tf_f1: 0.9111\n",
      "Epoch 6/50\n",
      "2214/2214 [==============================] - 12s 5ms/step - loss: 0.0753 - accuracy: 0.9752 - tf_f1: 0.9166 - val_loss: 0.3904 - val_accuracy: 0.8952 - val_tf_f1: 0.9211\n",
      "Epoch 7/50\n",
      "2214/2214 [==============================] - 12s 5ms/step - loss: 0.0623 - accuracy: 0.9796 - tf_f1: 0.9251 - val_loss: 0.3656 - val_accuracy: 0.9163 - val_tf_f1: 0.9287\n",
      "Epoch 8/50\n",
      "2214/2214 [==============================] - 12s 5ms/step - loss: 0.0503 - accuracy: 0.9839 - tf_f1: 0.9320 - val_loss: 0.3974 - val_accuracy: 0.9071 - val_tf_f1: 0.9349\n",
      "Epoch 9/50\n",
      "2214/2214 [==============================] - 12s 5ms/step - loss: 0.0463 - accuracy: 0.9850 - tf_f1: 0.9375 - val_loss: 0.4253 - val_accuracy: 0.9147 - val_tf_f1: 0.9398\n",
      "Epoch 10/50\n",
      "2214/2214 [==============================] - 12s 5ms/step - loss: 0.0439 - accuracy: 0.9860 - tf_f1: 0.9419 - val_loss: 0.4722 - val_accuracy: 0.9277 - val_tf_f1: 0.9439\n",
      "Epoch 11/50\n",
      "2214/2214 [==============================] - 12s 5ms/step - loss: 0.0404 - accuracy: 0.9875 - tf_f1: 0.9458 - val_loss: 0.4249 - val_accuracy: 0.9153 - val_tf_f1: 0.9474\n",
      "Epoch 12/50\n",
      "2214/2214 [==============================] - 12s 5ms/step - loss: 0.0360 - accuracy: 0.9884 - tf_f1: 0.9489 - val_loss: 0.4716 - val_accuracy: 0.9267 - val_tf_f1: 0.9504\n",
      "Epoch 13/50\n",
      "2214/2214 [==============================] - 12s 5ms/step - loss: 0.0366 - accuracy: 0.9881 - tf_f1: 0.9517 - val_loss: 0.4456 - val_accuracy: 0.9146 - val_tf_f1: 0.9528\n",
      "Epoch 14/50\n",
      "2214/2214 [==============================] - 12s 5ms/step - loss: 0.0354 - accuracy: 0.9886 - tf_f1: 0.9539 - val_loss: 0.4590 - val_accuracy: 0.9078 - val_tf_f1: 0.9549\n"
     ]
    },
    {
     "name": "stderr",
     "output_type": "stream",
     "text": [
      "\u001b[32m[I 2022-09-09 00:06:07,398]\u001b[0m Trial 36 finished with value: 0.9548611640930176 and parameters: {'lr': 0.09134447809425014, 'units': 44}. Best is trial 13 with value: 0.9553180932998657.\u001b[0m\n"
     ]
    },
    {
     "name": "stdout",
     "output_type": "stream",
     "text": [
      "Epoch 00014: early stopping\n",
      "Epoch 1/50\n"
     ]
    },
    {
     "name": "stderr",
     "output_type": "stream",
     "text": [
      "c:\\Users\\Lim Jia Hui\\Desktop\\Python\\lib\\site-packages\\tensorflow\\python\\framework\\indexed_slices.py:444: UserWarning: Converting sparse IndexedSlices(IndexedSlices(indices=Tensor(\"gradient_tape/sequential_37/dense_74/embedding_lookup_sparse/Reshape_1:0\", shape=(None,), dtype=int32), values=Tensor(\"gradient_tape/sequential_37/dense_74/embedding_lookup_sparse/Reshape:0\", shape=(None, 50), dtype=float32), dense_shape=Tensor(\"gradient_tape/sequential_37/dense_74/embedding_lookup_sparse/Cast:0\", shape=(2,), dtype=int32))) to a dense Tensor of unknown shape. This may consume a large amount of memory.\n",
      "  warnings.warn(\n"
     ]
    },
    {
     "name": "stdout",
     "output_type": "stream",
     "text": [
      "2214/2214 [==============================] - 12s 5ms/step - loss: 0.4199 - accuracy: 0.8066 - tf_f1: 0.7377 - val_loss: 0.3040 - val_accuracy: 0.8785 - val_tf_f1: 0.8170\n",
      "Epoch 2/50\n",
      "2214/2214 [==============================] - 12s 5ms/step - loss: 0.2943 - accuracy: 0.8788 - tf_f1: 0.8400 - val_loss: 0.2963 - val_accuracy: 0.8787 - val_tf_f1: 0.8545\n",
      "Epoch 3/50\n",
      "2214/2214 [==============================] - 12s 5ms/step - loss: 0.2091 - accuracy: 0.9216 - tf_f1: 0.8677 - val_loss: 0.2800 - val_accuracy: 0.8929 - val_tf_f1: 0.8784\n",
      "Epoch 4/50\n",
      "2214/2214 [==============================] - 12s 5ms/step - loss: 0.1495 - accuracy: 0.9473 - tf_f1: 0.8878 - val_loss: 0.2874 - val_accuracy: 0.9190 - val_tf_f1: 0.8960\n",
      "Epoch 5/50\n",
      "2214/2214 [==============================] - 12s 5ms/step - loss: 0.1048 - accuracy: 0.9644 - tf_f1: 0.9033 - val_loss: 0.3118 - val_accuracy: 0.9194 - val_tf_f1: 0.9097\n"
     ]
    },
    {
     "name": "stderr",
     "output_type": "stream",
     "text": [
      "\u001b[32m[I 2022-09-09 00:07:06,600]\u001b[0m Trial 37 pruned. Trial was pruned at epoch 4.\u001b[0m\n"
     ]
    },
    {
     "name": "stdout",
     "output_type": "stream",
     "text": [
      "Epoch 1/50\n"
     ]
    },
    {
     "name": "stderr",
     "output_type": "stream",
     "text": [
      "c:\\Users\\Lim Jia Hui\\Desktop\\Python\\lib\\site-packages\\tensorflow\\python\\framework\\indexed_slices.py:444: UserWarning: Converting sparse IndexedSlices(IndexedSlices(indices=Tensor(\"gradient_tape/sequential_38/dense_76/embedding_lookup_sparse/Reshape_1:0\", shape=(None,), dtype=int32), values=Tensor(\"gradient_tape/sequential_38/dense_76/embedding_lookup_sparse/Reshape:0\", shape=(None, 46), dtype=float32), dense_shape=Tensor(\"gradient_tape/sequential_38/dense_76/embedding_lookup_sparse/Cast:0\", shape=(2,), dtype=int32))) to a dense Tensor of unknown shape. This may consume a large amount of memory.\n",
      "  warnings.warn(\n"
     ]
    },
    {
     "name": "stdout",
     "output_type": "stream",
     "text": [
      "2214/2214 [==============================] - 12s 5ms/step - loss: 0.4237 - accuracy: 0.8050 - tf_f1: 0.7544 - val_loss: 0.3874 - val_accuracy: 0.8270 - val_tf_f1: 0.8135\n",
      "Epoch 2/50\n",
      "2214/2214 [==============================] - 12s 5ms/step - loss: 0.3027 - accuracy: 0.8743 - tf_f1: 0.8340 - val_loss: 0.2958 - val_accuracy: 0.8789 - val_tf_f1: 0.8491\n"
     ]
    },
    {
     "name": "stderr",
     "output_type": "stream",
     "text": [
      "\u001b[32m[I 2022-09-09 00:07:30,828]\u001b[0m Trial 38 pruned. Trial was pruned at epoch 1.\u001b[0m\n"
     ]
    },
    {
     "name": "stdout",
     "output_type": "stream",
     "text": [
      "Epoch 1/50\n"
     ]
    },
    {
     "name": "stderr",
     "output_type": "stream",
     "text": [
      "c:\\Users\\Lim Jia Hui\\Desktop\\Python\\lib\\site-packages\\tensorflow\\python\\framework\\indexed_slices.py:444: UserWarning: Converting sparse IndexedSlices(IndexedSlices(indices=Tensor(\"gradient_tape/sequential_39/dense_78/embedding_lookup_sparse/Reshape_1:0\", shape=(None,), dtype=int32), values=Tensor(\"gradient_tape/sequential_39/dense_78/embedding_lookup_sparse/Reshape:0\", shape=(None, 44), dtype=float32), dense_shape=Tensor(\"gradient_tape/sequential_39/dense_78/embedding_lookup_sparse/Cast:0\", shape=(2,), dtype=int32))) to a dense Tensor of unknown shape. This may consume a large amount of memory.\n",
      "  warnings.warn(\n"
     ]
    },
    {
     "name": "stdout",
     "output_type": "stream",
     "text": [
      "2214/2214 [==============================] - 12s 5ms/step - loss: 0.4592 - accuracy: 0.7887 - tf_f1: 0.7290 - val_loss: 0.4266 - val_accuracy: 0.8054 - val_tf_f1: 0.7965\n",
      "Epoch 2/50\n",
      "2214/2214 [==============================] - 12s 5ms/step - loss: 0.3301 - accuracy: 0.8614 - tf_f1: 0.8183 - val_loss: 0.4442 - val_accuracy: 0.8007 - val_tf_f1: 0.8321\n"
     ]
    },
    {
     "name": "stderr",
     "output_type": "stream",
     "text": [
      "\u001b[32m[I 2022-09-09 00:07:55,036]\u001b[0m Trial 39 pruned. Trial was pruned at epoch 1.\u001b[0m\n"
     ]
    },
    {
     "name": "stdout",
     "output_type": "stream",
     "text": [
      "Epoch 1/50\n"
     ]
    },
    {
     "name": "stderr",
     "output_type": "stream",
     "text": [
      "c:\\Users\\Lim Jia Hui\\Desktop\\Python\\lib\\site-packages\\tensorflow\\python\\framework\\indexed_slices.py:444: UserWarning: Converting sparse IndexedSlices(IndexedSlices(indices=Tensor(\"gradient_tape/sequential_40/dense_80/embedding_lookup_sparse/Reshape_1:0\", shape=(None,), dtype=int32), values=Tensor(\"gradient_tape/sequential_40/dense_80/embedding_lookup_sparse/Reshape:0\", shape=(None, 48), dtype=float32), dense_shape=Tensor(\"gradient_tape/sequential_40/dense_80/embedding_lookup_sparse/Cast:0\", shape=(2,), dtype=int32))) to a dense Tensor of unknown shape. This may consume a large amount of memory.\n",
      "  warnings.warn(\n"
     ]
    },
    {
     "name": "stdout",
     "output_type": "stream",
     "text": [
      "2214/2214 [==============================] - 12s 5ms/step - loss: 0.4247 - accuracy: 0.8040 - tf_f1: 0.7510 - val_loss: 0.3433 - val_accuracy: 0.8519 - val_tf_f1: 0.8139\n",
      "Epoch 2/50\n",
      "2214/2214 [==============================] - 12s 5ms/step - loss: 0.2986 - accuracy: 0.8761 - tf_f1: 0.8362 - val_loss: 0.3795 - val_accuracy: 0.8360 - val_tf_f1: 0.8495\n"
     ]
    },
    {
     "name": "stderr",
     "output_type": "stream",
     "text": [
      "\u001b[32m[I 2022-09-09 00:08:19,063]\u001b[0m Trial 40 pruned. Trial was pruned at epoch 1.\u001b[0m\n"
     ]
    },
    {
     "name": "stdout",
     "output_type": "stream",
     "text": [
      "Epoch 1/50\n"
     ]
    },
    {
     "name": "stderr",
     "output_type": "stream",
     "text": [
      "c:\\Users\\Lim Jia Hui\\Desktop\\Python\\lib\\site-packages\\tensorflow\\python\\framework\\indexed_slices.py:444: UserWarning: Converting sparse IndexedSlices(IndexedSlices(indices=Tensor(\"gradient_tape/sequential_41/dense_82/embedding_lookup_sparse/Reshape_1:0\", shape=(None,), dtype=int32), values=Tensor(\"gradient_tape/sequential_41/dense_82/embedding_lookup_sparse/Reshape:0\", shape=(None, 42), dtype=float32), dense_shape=Tensor(\"gradient_tape/sequential_41/dense_82/embedding_lookup_sparse/Cast:0\", shape=(2,), dtype=int32))) to a dense Tensor of unknown shape. This may consume a large amount of memory.\n",
      "  warnings.warn(\n"
     ]
    },
    {
     "name": "stdout",
     "output_type": "stream",
     "text": [
      "2214/2214 [==============================] - 12s 5ms/step - loss: 0.4341 - accuracy: 0.7986 - tf_f1: 0.7375 - val_loss: 0.3096 - val_accuracy: 0.8765 - val_tf_f1: 0.8104\n",
      "Epoch 2/50\n",
      "2214/2214 [==============================] - 12s 5ms/step - loss: 0.3064 - accuracy: 0.8734 - tf_f1: 0.8339 - val_loss: 0.2656 - val_accuracy: 0.8957 - val_tf_f1: 0.8498\n"
     ]
    },
    {
     "name": "stderr",
     "output_type": "stream",
     "text": [
      "\u001b[32m[I 2022-09-09 00:08:43,398]\u001b[0m Trial 41 pruned. Trial was pruned at epoch 1.\u001b[0m\n"
     ]
    },
    {
     "name": "stdout",
     "output_type": "stream",
     "text": [
      "Epoch 1/50\n"
     ]
    },
    {
     "name": "stderr",
     "output_type": "stream",
     "text": [
      "c:\\Users\\Lim Jia Hui\\Desktop\\Python\\lib\\site-packages\\tensorflow\\python\\framework\\indexed_slices.py:444: UserWarning: Converting sparse IndexedSlices(IndexedSlices(indices=Tensor(\"gradient_tape/sequential_42/dense_84/embedding_lookup_sparse/Reshape_1:0\", shape=(None,), dtype=int32), values=Tensor(\"gradient_tape/sequential_42/dense_84/embedding_lookup_sparse/Reshape:0\", shape=(None, 37), dtype=float32), dense_shape=Tensor(\"gradient_tape/sequential_42/dense_84/embedding_lookup_sparse/Cast:0\", shape=(2,), dtype=int32))) to a dense Tensor of unknown shape. This may consume a large amount of memory.\n",
      "  warnings.warn(\n"
     ]
    },
    {
     "name": "stdout",
     "output_type": "stream",
     "text": [
      "2214/2214 [==============================] - 12s 5ms/step - loss: 0.4217 - accuracy: 0.8036 - tf_f1: 0.7535 - val_loss: 0.2398 - val_accuracy: 0.9036 - val_tf_f1: 0.8181\n",
      "Epoch 2/50\n",
      "2214/2214 [==============================] - 12s 5ms/step - loss: 0.2876 - accuracy: 0.8827 - tf_f1: 0.8430 - val_loss: 0.3018 - val_accuracy: 0.8815 - val_tf_f1: 0.8577\n",
      "Epoch 3/50\n",
      "2214/2214 [==============================] - 12s 5ms/step - loss: 0.2027 - accuracy: 0.9255 - tf_f1: 0.8706 - val_loss: 0.2710 - val_accuracy: 0.9057 - val_tf_f1: 0.8817\n",
      "Epoch 4/50\n",
      "2214/2214 [==============================] - 12s 5ms/step - loss: 0.1391 - accuracy: 0.9526 - tf_f1: 0.8917 - val_loss: 0.4121 - val_accuracy: 0.8592 - val_tf_f1: 0.8988\n",
      "Epoch 5/50\n",
      "2214/2214 [==============================] - 12s 5ms/step - loss: 0.1013 - accuracy: 0.9662 - tf_f1: 0.9053 - val_loss: 0.3088 - val_accuracy: 0.9231 - val_tf_f1: 0.9114\n",
      "Epoch 6/50\n",
      "2214/2214 [==============================] - 13s 6ms/step - loss: 0.0739 - accuracy: 0.9762 - tf_f1: 0.9170 - val_loss: 0.3553 - val_accuracy: 0.9148 - val_tf_f1: 0.9218\n",
      "Epoch 7/50\n",
      "2214/2214 [==============================] - 12s 5ms/step - loss: 0.0593 - accuracy: 0.9809 - tf_f1: 0.9259 - val_loss: 0.3691 - val_accuracy: 0.9095 - val_tf_f1: 0.9295\n",
      "Epoch 8/50\n",
      "2214/2214 [==============================] - 12s 5ms/step - loss: 0.0497 - accuracy: 0.9841 - tf_f1: 0.9327 - val_loss: 0.3964 - val_accuracy: 0.9139 - val_tf_f1: 0.9357\n",
      "Epoch 9/50\n",
      "2214/2214 [==============================] - 12s 5ms/step - loss: 0.0474 - accuracy: 0.9847 - tf_f1: 0.9382 - val_loss: 0.4260 - val_accuracy: 0.9184 - val_tf_f1: 0.9405\n",
      "Epoch 10/50\n",
      "2214/2214 [==============================] - 12s 5ms/step - loss: 0.0425 - accuracy: 0.9862 - tf_f1: 0.9426 - val_loss: 0.4062 - val_accuracy: 0.9126 - val_tf_f1: 0.9445\n",
      "Epoch 11/50\n",
      "2214/2214 [==============================] - 12s 5ms/step - loss: 0.0395 - accuracy: 0.9874 - tf_f1: 0.9462 - val_loss: 0.4454 - val_accuracy: 0.9039 - val_tf_f1: 0.9478\n",
      "Epoch 12/50\n",
      "2214/2214 [==============================] - 12s 5ms/step - loss: 0.0374 - accuracy: 0.9881 - tf_f1: 0.9492 - val_loss: 0.4566 - val_accuracy: 0.9272 - val_tf_f1: 0.9506\n",
      "Epoch 13/50\n",
      "2214/2214 [==============================] - 12s 5ms/step - loss: 0.0366 - accuracy: 0.9880 - tf_f1: 0.9519 - val_loss: 0.5536 - val_accuracy: 0.8765 - val_tf_f1: 0.9529\n",
      "Epoch 14/50\n",
      "2214/2214 [==============================] - 12s 5ms/step - loss: 0.0358 - accuracy: 0.9886 - tf_f1: 0.9538 - val_loss: 0.4691 - val_accuracy: 0.9137 - val_tf_f1: 0.9548\n"
     ]
    },
    {
     "name": "stderr",
     "output_type": "stream",
     "text": [
      "\u001b[32m[I 2022-09-09 00:11:32,753]\u001b[0m Trial 42 finished with value: 0.9547662734985352 and parameters: {'lr': 0.09278281391597315, 'units': 37}. Best is trial 13 with value: 0.9553180932998657.\u001b[0m\n"
     ]
    },
    {
     "name": "stdout",
     "output_type": "stream",
     "text": [
      "Epoch 00014: early stopping\n",
      "Epoch 1/50\n"
     ]
    },
    {
     "name": "stderr",
     "output_type": "stream",
     "text": [
      "c:\\Users\\Lim Jia Hui\\Desktop\\Python\\lib\\site-packages\\tensorflow\\python\\framework\\indexed_slices.py:444: UserWarning: Converting sparse IndexedSlices(IndexedSlices(indices=Tensor(\"gradient_tape/sequential_43/dense_86/embedding_lookup_sparse/Reshape_1:0\", shape=(None,), dtype=int32), values=Tensor(\"gradient_tape/sequential_43/dense_86/embedding_lookup_sparse/Reshape:0\", shape=(None, 37), dtype=float32), dense_shape=Tensor(\"gradient_tape/sequential_43/dense_86/embedding_lookup_sparse/Cast:0\", shape=(2,), dtype=int32))) to a dense Tensor of unknown shape. This may consume a large amount of memory.\n",
      "  warnings.warn(\n"
     ]
    },
    {
     "name": "stdout",
     "output_type": "stream",
     "text": [
      "2214/2214 [==============================] - 13s 5ms/step - loss: 0.4201 - accuracy: 0.8052 - tf_f1: 0.7433 - val_loss: 0.2971 - val_accuracy: 0.8779 - val_tf_f1: 0.8158\n",
      "Epoch 2/50\n",
      "2214/2214 [==============================] - 12s 5ms/step - loss: 0.2889 - accuracy: 0.8818 - tf_f1: 0.8403 - val_loss: 0.3733 - val_accuracy: 0.8350 - val_tf_f1: 0.8537\n",
      "Epoch 3/50\n",
      "2214/2214 [==============================] - 12s 5ms/step - loss: 0.2145 - accuracy: 0.9190 - tf_f1: 0.8655 - val_loss: 0.3137 - val_accuracy: 0.8807 - val_tf_f1: 0.8758\n",
      "Epoch 4/50\n",
      "2214/2214 [==============================] - 12s 5ms/step - loss: 0.1484 - accuracy: 0.9485 - tf_f1: 0.8855 - val_loss: 0.2782 - val_accuracy: 0.9121 - val_tf_f1: 0.8941\n",
      "Epoch 5/50\n",
      "2214/2214 [==============================] - 12s 5ms/step - loss: 0.1087 - accuracy: 0.9636 - tf_f1: 0.9016 - val_loss: 0.3178 - val_accuracy: 0.9047 - val_tf_f1: 0.9078\n"
     ]
    },
    {
     "name": "stderr",
     "output_type": "stream",
     "text": [
      "\u001b[32m[I 2022-09-09 00:12:33,445]\u001b[0m Trial 43 pruned. Trial was pruned at epoch 4.\u001b[0m\n"
     ]
    },
    {
     "name": "stdout",
     "output_type": "stream",
     "text": [
      "Epoch 1/50\n"
     ]
    },
    {
     "name": "stderr",
     "output_type": "stream",
     "text": [
      "c:\\Users\\Lim Jia Hui\\Desktop\\Python\\lib\\site-packages\\tensorflow\\python\\framework\\indexed_slices.py:444: UserWarning: Converting sparse IndexedSlices(IndexedSlices(indices=Tensor(\"gradient_tape/sequential_44/dense_88/embedding_lookup_sparse/Reshape_1:0\", shape=(None,), dtype=int32), values=Tensor(\"gradient_tape/sequential_44/dense_88/embedding_lookup_sparse/Reshape:0\", shape=(None, 34), dtype=float32), dense_shape=Tensor(\"gradient_tape/sequential_44/dense_88/embedding_lookup_sparse/Cast:0\", shape=(2,), dtype=int32))) to a dense Tensor of unknown shape. This may consume a large amount of memory.\n",
      "  warnings.warn(\n"
     ]
    },
    {
     "name": "stdout",
     "output_type": "stream",
     "text": [
      "2214/2214 [==============================] - 13s 5ms/step - loss: 0.4185 - accuracy: 0.8071 - tf_f1: 0.7495 - val_loss: 0.2611 - val_accuracy: 0.9009 - val_tf_f1: 0.8205\n",
      "Epoch 2/50\n",
      "2214/2214 [==============================] - 12s 5ms/step - loss: 0.2879 - accuracy: 0.8829 - tf_f1: 0.8445 - val_loss: 0.2710 - val_accuracy: 0.8971 - val_tf_f1: 0.8593\n",
      "Epoch 3/50\n",
      "2214/2214 [==============================] - 12s 5ms/step - loss: 0.2031 - accuracy: 0.9253 - tf_f1: 0.8723 - val_loss: 0.3106 - val_accuracy: 0.8861 - val_tf_f1: 0.8827\n",
      "Epoch 4/50\n",
      "2214/2214 [==============================] - 12s 5ms/step - loss: 0.1405 - accuracy: 0.9504 - tf_f1: 0.8917 - val_loss: 0.2918 - val_accuracy: 0.9087 - val_tf_f1: 0.8995\n",
      "Epoch 5/50\n",
      "2214/2214 [==============================] - 12s 5ms/step - loss: 0.1006 - accuracy: 0.9664 - tf_f1: 0.9066 - val_loss: 0.3276 - val_accuracy: 0.9098 - val_tf_f1: 0.9125\n",
      "Epoch 6/50\n",
      "2214/2214 [==============================] - 12s 5ms/step - loss: 0.0780 - accuracy: 0.9742 - tf_f1: 0.9178 - val_loss: 0.3573 - val_accuracy: 0.9161 - val_tf_f1: 0.9223\n",
      "Epoch 7/50\n",
      "2214/2214 [==============================] - 12s 5ms/step - loss: 0.0612 - accuracy: 0.9801 - tf_f1: 0.9264 - val_loss: 0.3910 - val_accuracy: 0.9000 - val_tf_f1: 0.9298\n",
      "Epoch 8/50\n",
      "2214/2214 [==============================] - 12s 5ms/step - loss: 0.0545 - accuracy: 0.9825 - tf_f1: 0.9328 - val_loss: 0.3944 - val_accuracy: 0.9148 - val_tf_f1: 0.9356\n",
      "Epoch 9/50\n",
      "2214/2214 [==============================] - 12s 5ms/step - loss: 0.0465 - accuracy: 0.9850 - tf_f1: 0.9382 - val_loss: 0.4209 - val_accuracy: 0.9183 - val_tf_f1: 0.9405\n",
      "Epoch 10/50\n",
      "2214/2214 [==============================] - 12s 5ms/step - loss: 0.0438 - accuracy: 0.9858 - tf_f1: 0.9426 - val_loss: 0.4105 - val_accuracy: 0.9183 - val_tf_f1: 0.9445\n",
      "Epoch 11/50\n",
      "2214/2214 [==============================] - 12s 5ms/step - loss: 0.0393 - accuracy: 0.9873 - tf_f1: 0.9463 - val_loss: 0.4353 - val_accuracy: 0.9129 - val_tf_f1: 0.9479\n",
      "Epoch 12/50\n",
      "2214/2214 [==============================] - 12s 5ms/step - loss: 0.0402 - accuracy: 0.9870 - tf_f1: 0.9493 - val_loss: 0.4279 - val_accuracy: 0.9178 - val_tf_f1: 0.9506\n",
      "Epoch 13/50\n",
      "2214/2214 [==============================] - 12s 5ms/step - loss: 0.0358 - accuracy: 0.9883 - tf_f1: 0.9519 - val_loss: 0.4552 - val_accuracy: 0.9165 - val_tf_f1: 0.9530\n",
      "Epoch 14/50\n",
      "2214/2214 [==============================] - 12s 5ms/step - loss: 0.0341 - accuracy: 0.9890 - tf_f1: 0.9541 - val_loss: 0.4730 - val_accuracy: 0.9151 - val_tf_f1: 0.9551\n",
      "Epoch 15/50\n",
      "2214/2214 [==============================] - 12s 5ms/step - loss: 0.0333 - accuracy: 0.9890 - tf_f1: 0.9561 - val_loss: 0.4598 - val_accuracy: 0.9072 - val_tf_f1: 0.9569\n"
     ]
    },
    {
     "name": "stderr",
     "output_type": "stream",
     "text": [
      "\u001b[32m[I 2022-09-09 00:15:33,541]\u001b[0m Trial 44 finished with value: 0.9569110870361328 and parameters: {'lr': 0.09509262497112882, 'units': 34}. Best is trial 44 with value: 0.9569110870361328.\u001b[0m\n"
     ]
    },
    {
     "name": "stdout",
     "output_type": "stream",
     "text": [
      "Epoch 00015: early stopping\n",
      "Epoch 1/50\n"
     ]
    },
    {
     "name": "stderr",
     "output_type": "stream",
     "text": [
      "c:\\Users\\Lim Jia Hui\\Desktop\\Python\\lib\\site-packages\\tensorflow\\python\\framework\\indexed_slices.py:444: UserWarning: Converting sparse IndexedSlices(IndexedSlices(indices=Tensor(\"gradient_tape/sequential_45/dense_90/embedding_lookup_sparse/Reshape_1:0\", shape=(None,), dtype=int32), values=Tensor(\"gradient_tape/sequential_45/dense_90/embedding_lookup_sparse/Reshape:0\", shape=(None, 41), dtype=float32), dense_shape=Tensor(\"gradient_tape/sequential_45/dense_90/embedding_lookup_sparse/Cast:0\", shape=(2,), dtype=int32))) to a dense Tensor of unknown shape. This may consume a large amount of memory.\n",
      "  warnings.warn(\n"
     ]
    },
    {
     "name": "stdout",
     "output_type": "stream",
     "text": [
      "2214/2214 [==============================] - 13s 5ms/step - loss: 0.4202 - accuracy: 0.8058 - tf_f1: 0.7413 - val_loss: 0.2825 - val_accuracy: 0.8855 - val_tf_f1: 0.8174\n",
      "Epoch 2/50\n",
      "2214/2214 [==============================] - 12s 5ms/step - loss: 0.2972 - accuracy: 0.8778 - tf_f1: 0.8404 - val_loss: 0.5187 - val_accuracy: 0.7879 - val_tf_f1: 0.8514\n"
     ]
    },
    {
     "name": "stderr",
     "output_type": "stream",
     "text": [
      "\u001b[32m[I 2022-09-09 00:15:58,303]\u001b[0m Trial 45 pruned. Trial was pruned at epoch 1.\u001b[0m\n"
     ]
    },
    {
     "name": "stdout",
     "output_type": "stream",
     "text": [
      "Epoch 1/50\n"
     ]
    },
    {
     "name": "stderr",
     "output_type": "stream",
     "text": [
      "c:\\Users\\Lim Jia Hui\\Desktop\\Python\\lib\\site-packages\\tensorflow\\python\\framework\\indexed_slices.py:444: UserWarning: Converting sparse IndexedSlices(IndexedSlices(indices=Tensor(\"gradient_tape/sequential_46/dense_92/embedding_lookup_sparse/Reshape_1:0\", shape=(None,), dtype=int32), values=Tensor(\"gradient_tape/sequential_46/dense_92/embedding_lookup_sparse/Reshape:0\", shape=(None, 34), dtype=float32), dense_shape=Tensor(\"gradient_tape/sequential_46/dense_92/embedding_lookup_sparse/Cast:0\", shape=(2,), dtype=int32))) to a dense Tensor of unknown shape. This may consume a large amount of memory.\n",
      "  warnings.warn(\n"
     ]
    },
    {
     "name": "stdout",
     "output_type": "stream",
     "text": [
      "2214/2214 [==============================] - 13s 5ms/step - loss: 0.4228 - accuracy: 0.8032 - tf_f1: 0.7463 - val_loss: 0.3870 - val_accuracy: 0.8309 - val_tf_f1: 0.8120\n",
      "Epoch 2/50\n",
      "2214/2214 [==============================] - 12s 5ms/step - loss: 0.2922 - accuracy: 0.8799 - tf_f1: 0.8341 - val_loss: 0.3764 - val_accuracy: 0.8506 - val_tf_f1: 0.8498\n"
     ]
    },
    {
     "name": "stderr",
     "output_type": "stream",
     "text": [
      "\u001b[32m[I 2022-09-09 00:16:23,048]\u001b[0m Trial 46 pruned. Trial was pruned at epoch 1.\u001b[0m\n"
     ]
    },
    {
     "name": "stdout",
     "output_type": "stream",
     "text": [
      "Epoch 1/50\n"
     ]
    },
    {
     "name": "stderr",
     "output_type": "stream",
     "text": [
      "c:\\Users\\Lim Jia Hui\\Desktop\\Python\\lib\\site-packages\\tensorflow\\python\\framework\\indexed_slices.py:444: UserWarning: Converting sparse IndexedSlices(IndexedSlices(indices=Tensor(\"gradient_tape/sequential_47/dense_94/embedding_lookup_sparse/Reshape_1:0\", shape=(None,), dtype=int32), values=Tensor(\"gradient_tape/sequential_47/dense_94/embedding_lookup_sparse/Reshape:0\", shape=(None, 26), dtype=float32), dense_shape=Tensor(\"gradient_tape/sequential_47/dense_94/embedding_lookup_sparse/Cast:0\", shape=(2,), dtype=int32))) to a dense Tensor of unknown shape. This may consume a large amount of memory.\n",
      "  warnings.warn(\n"
     ]
    },
    {
     "name": "stdout",
     "output_type": "stream",
     "text": [
      "2214/2214 [==============================] - 13s 5ms/step - loss: 0.4175 - accuracy: 0.8068 - tf_f1: 0.7460 - val_loss: 0.2692 - val_accuracy: 0.8960 - val_tf_f1: 0.8197\n",
      "Epoch 2/50\n",
      "2214/2214 [==============================] - 12s 5ms/step - loss: 0.2887 - accuracy: 0.8807 - tf_f1: 0.8428 - val_loss: 0.3668 - val_accuracy: 0.8474 - val_tf_f1: 0.8562\n",
      "Epoch 3/50\n",
      "2214/2214 [==============================] - 12s 5ms/step - loss: 0.2135 - accuracy: 0.9188 - tf_f1: 0.8679 - val_loss: 0.4520 - val_accuracy: 0.8250 - val_tf_f1: 0.8764\n",
      "Epoch 4/50\n",
      "2214/2214 [==============================] - 12s 5ms/step - loss: 0.1534 - accuracy: 0.9456 - tf_f1: 0.8847 - val_loss: 0.3066 - val_accuracy: 0.9027 - val_tf_f1: 0.8929\n",
      "Epoch 5/50\n",
      "2214/2214 [==============================] - 12s 5ms/step - loss: 0.1202 - accuracy: 0.9581 - tf_f1: 0.8999 - val_loss: 0.3839 - val_accuracy: 0.8746 - val_tf_f1: 0.9053\n"
     ]
    },
    {
     "name": "stderr",
     "output_type": "stream",
     "text": [
      "\u001b[32m[I 2022-09-09 00:17:24,049]\u001b[0m Trial 47 pruned. Trial was pruned at epoch 4.\u001b[0m\n"
     ]
    },
    {
     "name": "stdout",
     "output_type": "stream",
     "text": [
      "Epoch 1/50\n"
     ]
    },
    {
     "name": "stderr",
     "output_type": "stream",
     "text": [
      "c:\\Users\\Lim Jia Hui\\Desktop\\Python\\lib\\site-packages\\tensorflow\\python\\framework\\indexed_slices.py:444: UserWarning: Converting sparse IndexedSlices(IndexedSlices(indices=Tensor(\"gradient_tape/sequential_48/dense_96/embedding_lookup_sparse/Reshape_1:0\", shape=(None,), dtype=int32), values=Tensor(\"gradient_tape/sequential_48/dense_96/embedding_lookup_sparse/Reshape:0\", shape=(None, 30), dtype=float32), dense_shape=Tensor(\"gradient_tape/sequential_48/dense_96/embedding_lookup_sparse/Cast:0\", shape=(2,), dtype=int32))) to a dense Tensor of unknown shape. This may consume a large amount of memory.\n",
      "  warnings.warn(\n"
     ]
    },
    {
     "name": "stdout",
     "output_type": "stream",
     "text": [
      "2214/2214 [==============================] - 13s 5ms/step - loss: 0.4272 - accuracy: 0.8018 - tf_f1: 0.7285 - val_loss: 0.3914 - val_accuracy: 0.8240 - val_tf_f1: 0.8087\n",
      "Epoch 2/50\n",
      "2214/2214 [==============================] - 12s 5ms/step - loss: 0.2970 - accuracy: 0.8771 - tf_f1: 0.8317 - val_loss: 0.6130 - val_accuracy: 0.7202 - val_tf_f1: 0.8424\n"
     ]
    },
    {
     "name": "stderr",
     "output_type": "stream",
     "text": [
      "\u001b[32m[I 2022-09-09 00:17:48,660]\u001b[0m Trial 48 pruned. Trial was pruned at epoch 1.\u001b[0m\n"
     ]
    },
    {
     "name": "stdout",
     "output_type": "stream",
     "text": [
      "Epoch 1/50\n"
     ]
    },
    {
     "name": "stderr",
     "output_type": "stream",
     "text": [
      "c:\\Users\\Lim Jia Hui\\Desktop\\Python\\lib\\site-packages\\tensorflow\\python\\framework\\indexed_slices.py:444: UserWarning: Converting sparse IndexedSlices(IndexedSlices(indices=Tensor(\"gradient_tape/sequential_49/dense_98/embedding_lookup_sparse/Reshape_1:0\", shape=(None,), dtype=int32), values=Tensor(\"gradient_tape/sequential_49/dense_98/embedding_lookup_sparse/Reshape:0\", shape=(None, 12), dtype=float32), dense_shape=Tensor(\"gradient_tape/sequential_49/dense_98/embedding_lookup_sparse/Cast:0\", shape=(2,), dtype=int32))) to a dense Tensor of unknown shape. This may consume a large amount of memory.\n",
      "  warnings.warn(\n"
     ]
    },
    {
     "name": "stdout",
     "output_type": "stream",
     "text": [
      "2214/2214 [==============================] - 12s 5ms/step - loss: 0.4219 - accuracy: 0.8052 - tf_f1: 0.7529 - val_loss: 0.3170 - val_accuracy: 0.8690 - val_tf_f1: 0.8175\n",
      "Epoch 2/50\n",
      "2214/2214 [==============================] - 12s 5ms/step - loss: 0.2964 - accuracy: 0.8800 - tf_f1: 0.8399 - val_loss: 0.3123 - val_accuracy: 0.8799 - val_tf_f1: 0.8549\n",
      "Epoch 3/50\n",
      "2214/2214 [==============================] - 12s 5ms/step - loss: 0.2286 - accuracy: 0.9114 - tf_f1: 0.8665 - val_loss: 0.4359 - val_accuracy: 0.8488 - val_tf_f1: 0.8748\n",
      "Epoch 4/50\n",
      "2214/2214 [==============================] - 12s 5ms/step - loss: 0.1734 - accuracy: 0.9376 - tf_f1: 0.8827 - val_loss: 0.3569 - val_accuracy: 0.8700 - val_tf_f1: 0.8897\n",
      "Epoch 5/50\n",
      "2214/2214 [==============================] - 12s 5ms/step - loss: 0.1377 - accuracy: 0.9526 - tf_f1: 0.8961 - val_loss: 0.3035 - val_accuracy: 0.9103 - val_tf_f1: 0.9019\n"
     ]
    },
    {
     "name": "stderr",
     "output_type": "stream",
     "text": [
      "\u001b[32m[I 2022-09-09 00:18:48,532]\u001b[0m Trial 49 pruned. Trial was pruned at epoch 4.\u001b[0m\n"
     ]
    },
    {
     "name": "stdout",
     "output_type": "stream",
     "text": [
      "Epoch 1/50\n"
     ]
    },
    {
     "name": "stderr",
     "output_type": "stream",
     "text": [
      "c:\\Users\\Lim Jia Hui\\Desktop\\Python\\lib\\site-packages\\tensorflow\\python\\framework\\indexed_slices.py:444: UserWarning: Converting sparse IndexedSlices(IndexedSlices(indices=Tensor(\"gradient_tape/sequential_50/dense_100/embedding_lookup_sparse/Reshape_1:0\", shape=(None,), dtype=int32), values=Tensor(\"gradient_tape/sequential_50/dense_100/embedding_lookup_sparse/Reshape:0\", shape=(None, 16), dtype=float32), dense_shape=Tensor(\"gradient_tape/sequential_50/dense_100/embedding_lookup_sparse/Cast:0\", shape=(2,), dtype=int32))) to a dense Tensor of unknown shape. This may consume a large amount of memory.\n",
      "  warnings.warn(\n"
     ]
    },
    {
     "name": "stdout",
     "output_type": "stream",
     "text": [
      "2214/2214 [==============================] - 13s 5ms/step - loss: 0.4212 - accuracy: 0.8044 - tf_f1: 0.7265 - val_loss: 0.3149 - val_accuracy: 0.8679 - val_tf_f1: 0.8143\n",
      "Epoch 2/50\n",
      "2214/2214 [==============================] - 12s 5ms/step - loss: 0.3006 - accuracy: 0.8755 - tf_f1: 0.8374 - val_loss: 0.3279 - val_accuracy: 0.8691 - val_tf_f1: 0.8514\n"
     ]
    },
    {
     "name": "stderr",
     "output_type": "stream",
     "text": [
      "\u001b[32m[I 2022-09-09 00:19:13,398]\u001b[0m Trial 50 pruned. Trial was pruned at epoch 1.\u001b[0m\n"
     ]
    },
    {
     "name": "stdout",
     "output_type": "stream",
     "text": [
      "Epoch 1/50\n"
     ]
    },
    {
     "name": "stderr",
     "output_type": "stream",
     "text": [
      "c:\\Users\\Lim Jia Hui\\Desktop\\Python\\lib\\site-packages\\tensorflow\\python\\framework\\indexed_slices.py:444: UserWarning: Converting sparse IndexedSlices(IndexedSlices(indices=Tensor(\"gradient_tape/sequential_51/dense_102/embedding_lookup_sparse/Reshape_1:0\", shape=(None,), dtype=int32), values=Tensor(\"gradient_tape/sequential_51/dense_102/embedding_lookup_sparse/Reshape:0\", shape=(None, 38), dtype=float32), dense_shape=Tensor(\"gradient_tape/sequential_51/dense_102/embedding_lookup_sparse/Cast:0\", shape=(2,), dtype=int32))) to a dense Tensor of unknown shape. This may consume a large amount of memory.\n",
      "  warnings.warn(\n"
     ]
    },
    {
     "name": "stdout",
     "output_type": "stream",
     "text": [
      "2214/2214 [==============================] - 13s 5ms/step - loss: 0.4246 - accuracy: 0.8030 - tf_f1: 0.7362 - val_loss: 0.5301 - val_accuracy: 0.7603 - val_tf_f1: 0.8064\n",
      "Epoch 2/50\n",
      "2214/2214 [==============================] - 12s 5ms/step - loss: 0.2957 - accuracy: 0.8774 - tf_f1: 0.8262 - val_loss: 0.2759 - val_accuracy: 0.8929 - val_tf_f1: 0.8456\n"
     ]
    },
    {
     "name": "stderr",
     "output_type": "stream",
     "text": [
      "\u001b[32m[I 2022-09-09 00:19:38,125]\u001b[0m Trial 51 pruned. Trial was pruned at epoch 1.\u001b[0m\n"
     ]
    },
    {
     "name": "stdout",
     "output_type": "stream",
     "text": [
      "Epoch 1/50\n"
     ]
    },
    {
     "name": "stderr",
     "output_type": "stream",
     "text": [
      "c:\\Users\\Lim Jia Hui\\Desktop\\Python\\lib\\site-packages\\tensorflow\\python\\framework\\indexed_slices.py:444: UserWarning: Converting sparse IndexedSlices(IndexedSlices(indices=Tensor(\"gradient_tape/sequential_52/dense_104/embedding_lookup_sparse/Reshape_1:0\", shape=(None,), dtype=int32), values=Tensor(\"gradient_tape/sequential_52/dense_104/embedding_lookup_sparse/Reshape:0\", shape=(None, 32), dtype=float32), dense_shape=Tensor(\"gradient_tape/sequential_52/dense_104/embedding_lookup_sparse/Cast:0\", shape=(2,), dtype=int32))) to a dense Tensor of unknown shape. This may consume a large amount of memory.\n",
      "  warnings.warn(\n"
     ]
    },
    {
     "name": "stdout",
     "output_type": "stream",
     "text": [
      "2214/2214 [==============================] - 13s 5ms/step - loss: 0.4249 - accuracy: 0.8046 - tf_f1: 0.7234 - val_loss: 0.4825 - val_accuracy: 0.7776 - val_tf_f1: 0.8075\n",
      "Epoch 2/50\n",
      "2214/2214 [==============================] - 12s 5ms/step - loss: 0.3016 - accuracy: 0.8758 - tf_f1: 0.8278 - val_loss: 0.2330 - val_accuracy: 0.9121 - val_tf_f1: 0.8469\n"
     ]
    },
    {
     "name": "stderr",
     "output_type": "stream",
     "text": [
      "\u001b[32m[I 2022-09-09 00:20:02,951]\u001b[0m Trial 52 pruned. Trial was pruned at epoch 1.\u001b[0m\n"
     ]
    },
    {
     "name": "stdout",
     "output_type": "stream",
     "text": [
      "Epoch 1/50\n"
     ]
    },
    {
     "name": "stderr",
     "output_type": "stream",
     "text": [
      "c:\\Users\\Lim Jia Hui\\Desktop\\Python\\lib\\site-packages\\tensorflow\\python\\framework\\indexed_slices.py:444: UserWarning: Converting sparse IndexedSlices(IndexedSlices(indices=Tensor(\"gradient_tape/sequential_53/dense_106/embedding_lookup_sparse/Reshape_1:0\", shape=(None,), dtype=int32), values=Tensor(\"gradient_tape/sequential_53/dense_106/embedding_lookup_sparse/Reshape:0\", shape=(None, 40), dtype=float32), dense_shape=Tensor(\"gradient_tape/sequential_53/dense_106/embedding_lookup_sparse/Cast:0\", shape=(2,), dtype=int32))) to a dense Tensor of unknown shape. This may consume a large amount of memory.\n",
      "  warnings.warn(\n"
     ]
    },
    {
     "name": "stdout",
     "output_type": "stream",
     "text": [
      "2214/2214 [==============================] - 13s 5ms/step - loss: 0.4185 - accuracy: 0.8077 - tf_f1: 0.7607 - val_loss: 0.3297 - val_accuracy: 0.8625 - val_tf_f1: 0.8190\n",
      "Epoch 2/50\n",
      "2214/2214 [==============================] - 12s 5ms/step - loss: 0.3024 - accuracy: 0.8755 - tf_f1: 0.8395 - val_loss: 0.2819 - val_accuracy: 0.8905 - val_tf_f1: 0.8538\n",
      "Epoch 3/50\n",
      "2214/2214 [==============================] - 12s 5ms/step - loss: 0.2223 - accuracy: 0.9155 - tf_f1: 0.8665 - val_loss: 0.3417 - val_accuracy: 0.8704 - val_tf_f1: 0.8758\n",
      "Epoch 4/50\n",
      "2214/2214 [==============================] - 12s 5ms/step - loss: 0.1610 - accuracy: 0.9437 - tf_f1: 0.8846 - val_loss: 0.2918 - val_accuracy: 0.9017 - val_tf_f1: 0.8927\n",
      "Epoch 5/50\n",
      "2214/2214 [==============================] - 12s 5ms/step - loss: 0.1178 - accuracy: 0.9607 - tf_f1: 0.8998 - val_loss: 0.3329 - val_accuracy: 0.8951 - val_tf_f1: 0.9058\n"
     ]
    },
    {
     "name": "stderr",
     "output_type": "stream",
     "text": [
      "\u001b[32m[I 2022-09-09 00:21:03,767]\u001b[0m Trial 53 pruned. Trial was pruned at epoch 4.\u001b[0m\n"
     ]
    },
    {
     "name": "stdout",
     "output_type": "stream",
     "text": [
      "Epoch 1/50\n"
     ]
    },
    {
     "name": "stderr",
     "output_type": "stream",
     "text": [
      "c:\\Users\\Lim Jia Hui\\Desktop\\Python\\lib\\site-packages\\tensorflow\\python\\framework\\indexed_slices.py:444: UserWarning: Converting sparse IndexedSlices(IndexedSlices(indices=Tensor(\"gradient_tape/sequential_54/dense_108/embedding_lookup_sparse/Reshape_1:0\", shape=(None,), dtype=int32), values=Tensor(\"gradient_tape/sequential_54/dense_108/embedding_lookup_sparse/Reshape:0\", shape=(None, 34), dtype=float32), dense_shape=Tensor(\"gradient_tape/sequential_54/dense_108/embedding_lookup_sparse/Cast:0\", shape=(2,), dtype=int32))) to a dense Tensor of unknown shape. This may consume a large amount of memory.\n",
      "  warnings.warn(\n"
     ]
    },
    {
     "name": "stdout",
     "output_type": "stream",
     "text": [
      "2214/2214 [==============================] - 13s 5ms/step - loss: 0.4227 - accuracy: 0.8040 - tf_f1: 0.7543 - val_loss: 0.2140 - val_accuracy: 0.9267 - val_tf_f1: 0.8203\n",
      "Epoch 2/50\n",
      "2214/2214 [==============================] - 12s 5ms/step - loss: 0.2950 - accuracy: 0.8780 - tf_f1: 0.8444 - val_loss: 0.5798 - val_accuracy: 0.7427 - val_tf_f1: 0.8528\n"
     ]
    },
    {
     "name": "stderr",
     "output_type": "stream",
     "text": [
      "\u001b[32m[I 2022-09-09 00:21:28,556]\u001b[0m Trial 54 pruned. Trial was pruned at epoch 1.\u001b[0m\n"
     ]
    },
    {
     "name": "stdout",
     "output_type": "stream",
     "text": [
      "Epoch 1/50\n"
     ]
    },
    {
     "name": "stderr",
     "output_type": "stream",
     "text": [
      "c:\\Users\\Lim Jia Hui\\Desktop\\Python\\lib\\site-packages\\tensorflow\\python\\framework\\indexed_slices.py:444: UserWarning: Converting sparse IndexedSlices(IndexedSlices(indices=Tensor(\"gradient_tape/sequential_55/dense_110/embedding_lookup_sparse/Reshape_1:0\", shape=(None,), dtype=int32), values=Tensor(\"gradient_tape/sequential_55/dense_110/embedding_lookup_sparse/Reshape:0\", shape=(None, 36), dtype=float32), dense_shape=Tensor(\"gradient_tape/sequential_55/dense_110/embedding_lookup_sparse/Cast:0\", shape=(2,), dtype=int32))) to a dense Tensor of unknown shape. This may consume a large amount of memory.\n",
      "  warnings.warn(\n"
     ]
    },
    {
     "name": "stdout",
     "output_type": "stream",
     "text": [
      "2214/2214 [==============================] - 13s 5ms/step - loss: 0.4210 - accuracy: 0.8056 - tf_f1: 0.7504 - val_loss: 0.2874 - val_accuracy: 0.8797 - val_tf_f1: 0.8174\n",
      "Epoch 2/50\n",
      "2214/2214 [==============================] - 12s 5ms/step - loss: 0.2896 - accuracy: 0.8813 - tf_f1: 0.8416 - val_loss: 0.4117 - val_accuracy: 0.8149 - val_tf_f1: 0.8536\n",
      "Epoch 3/50\n",
      "2214/2214 [==============================] - 12s 5ms/step - loss: 0.2086 - accuracy: 0.9222 - tf_f1: 0.8654 - val_loss: 0.2748 - val_accuracy: 0.9009 - val_tf_f1: 0.8767\n",
      "Epoch 4/50\n",
      "2214/2214 [==============================] - 12s 5ms/step - loss: 0.1458 - accuracy: 0.9492 - tf_f1: 0.8868 - val_loss: 0.2817 - val_accuracy: 0.9165 - val_tf_f1: 0.8953\n",
      "Epoch 5/50\n",
      "2214/2214 [==============================] - 12s 5ms/step - loss: 0.1126 - accuracy: 0.9618 - tf_f1: 0.9024 - val_loss: 0.3140 - val_accuracy: 0.9155 - val_tf_f1: 0.9086\n"
     ]
    },
    {
     "name": "stderr",
     "output_type": "stream",
     "text": [
      "\u001b[32m[I 2022-09-09 00:22:29,246]\u001b[0m Trial 55 pruned. Trial was pruned at epoch 4.\u001b[0m\n"
     ]
    },
    {
     "name": "stdout",
     "output_type": "stream",
     "text": [
      "Epoch 1/50\n"
     ]
    },
    {
     "name": "stderr",
     "output_type": "stream",
     "text": [
      "c:\\Users\\Lim Jia Hui\\Desktop\\Python\\lib\\site-packages\\tensorflow\\python\\framework\\indexed_slices.py:444: UserWarning: Converting sparse IndexedSlices(IndexedSlices(indices=Tensor(\"gradient_tape/sequential_56/dense_112/embedding_lookup_sparse/Reshape_1:0\", shape=(None,), dtype=int32), values=Tensor(\"gradient_tape/sequential_56/dense_112/embedding_lookup_sparse/Reshape:0\", shape=(None, 48), dtype=float32), dense_shape=Tensor(\"gradient_tape/sequential_56/dense_112/embedding_lookup_sparse/Cast:0\", shape=(2,), dtype=int32))) to a dense Tensor of unknown shape. This may consume a large amount of memory.\n",
      "  warnings.warn(\n"
     ]
    },
    {
     "name": "stdout",
     "output_type": "stream",
     "text": [
      "2214/2214 [==============================] - 13s 5ms/step - loss: 0.4188 - accuracy: 0.8060 - tf_f1: 0.7390 - val_loss: 0.5706 - val_accuracy: 0.7449 - val_tf_f1: 0.8071\n",
      "Epoch 2/50\n",
      "2214/2214 [==============================] - 12s 5ms/step - loss: 0.2899 - accuracy: 0.8818 - tf_f1: 0.8275 - val_loss: 0.2760 - val_accuracy: 0.8904 - val_tf_f1: 0.8469\n"
     ]
    },
    {
     "name": "stderr",
     "output_type": "stream",
     "text": [
      "\u001b[32m[I 2022-09-09 00:22:54,034]\u001b[0m Trial 56 pruned. Trial was pruned at epoch 1.\u001b[0m\n"
     ]
    },
    {
     "name": "stdout",
     "output_type": "stream",
     "text": [
      "Epoch 1/50\n"
     ]
    },
    {
     "name": "stderr",
     "output_type": "stream",
     "text": [
      "c:\\Users\\Lim Jia Hui\\Desktop\\Python\\lib\\site-packages\\tensorflow\\python\\framework\\indexed_slices.py:444: UserWarning: Converting sparse IndexedSlices(IndexedSlices(indices=Tensor(\"gradient_tape/sequential_57/dense_114/embedding_lookup_sparse/Reshape_1:0\", shape=(None,), dtype=int32), values=Tensor(\"gradient_tape/sequential_57/dense_114/embedding_lookup_sparse/Reshape:0\", shape=(None, 43), dtype=float32), dense_shape=Tensor(\"gradient_tape/sequential_57/dense_114/embedding_lookup_sparse/Cast:0\", shape=(2,), dtype=int32))) to a dense Tensor of unknown shape. This may consume a large amount of memory.\n",
      "  warnings.warn(\n"
     ]
    },
    {
     "name": "stdout",
     "output_type": "stream",
     "text": [
      "2214/2214 [==============================] - 13s 5ms/step - loss: 0.6780 - accuracy: 0.6931 - tf_f1: 0.5363 - val_loss: 0.6560 - val_accuracy: 0.7145 - val_tf_f1: 0.6546\n",
      "Epoch 2/50\n",
      "2214/2214 [==============================] - 12s 5ms/step - loss: 0.6333 - accuracy: 0.7519 - tf_f1: 0.6867 - val_loss: 0.6068 - val_accuracy: 0.6953 - val_tf_f1: 0.7026\n"
     ]
    },
    {
     "name": "stderr",
     "output_type": "stream",
     "text": [
      "\u001b[32m[I 2022-09-09 00:23:19,425]\u001b[0m Trial 57 pruned. Trial was pruned at epoch 1.\u001b[0m\n"
     ]
    },
    {
     "name": "stdout",
     "output_type": "stream",
     "text": [
      "Epoch 1/50\n"
     ]
    },
    {
     "name": "stderr",
     "output_type": "stream",
     "text": [
      "c:\\Users\\Lim Jia Hui\\Desktop\\Python\\lib\\site-packages\\tensorflow\\python\\framework\\indexed_slices.py:444: UserWarning: Converting sparse IndexedSlices(IndexedSlices(indices=Tensor(\"gradient_tape/sequential_58/dense_116/embedding_lookup_sparse/Reshape_1:0\", shape=(None,), dtype=int32), values=Tensor(\"gradient_tape/sequential_58/dense_116/embedding_lookup_sparse/Reshape:0\", shape=(None, 39), dtype=float32), dense_shape=Tensor(\"gradient_tape/sequential_58/dense_116/embedding_lookup_sparse/Cast:0\", shape=(2,), dtype=int32))) to a dense Tensor of unknown shape. This may consume a large amount of memory.\n",
      "  warnings.warn(\n"
     ]
    },
    {
     "name": "stdout",
     "output_type": "stream",
     "text": [
      "2214/2214 [==============================] - 13s 5ms/step - loss: 0.4318 - accuracy: 0.8005 - tf_f1: 0.7522 - val_loss: 0.5792 - val_accuracy: 0.7187 - val_tf_f1: 0.8012\n",
      "Epoch 2/50\n",
      "2214/2214 [==============================] - 12s 5ms/step - loss: 0.3030 - accuracy: 0.8758 - tf_f1: 0.8210 - val_loss: 0.3455 - val_accuracy: 0.8488 - val_tf_f1: 0.8390\n"
     ]
    },
    {
     "name": "stderr",
     "output_type": "stream",
     "text": [
      "\u001b[32m[I 2022-09-09 00:23:44,190]\u001b[0m Trial 58 pruned. Trial was pruned at epoch 1.\u001b[0m\n"
     ]
    },
    {
     "name": "stdout",
     "output_type": "stream",
     "text": [
      "Epoch 1/50\n"
     ]
    },
    {
     "name": "stderr",
     "output_type": "stream",
     "text": [
      "c:\\Users\\Lim Jia Hui\\Desktop\\Python\\lib\\site-packages\\tensorflow\\python\\framework\\indexed_slices.py:444: UserWarning: Converting sparse IndexedSlices(IndexedSlices(indices=Tensor(\"gradient_tape/sequential_59/dense_118/embedding_lookup_sparse/Reshape_1:0\", shape=(None,), dtype=int32), values=Tensor(\"gradient_tape/sequential_59/dense_118/embedding_lookup_sparse/Reshape:0\", shape=(None, 37), dtype=float32), dense_shape=Tensor(\"gradient_tape/sequential_59/dense_118/embedding_lookup_sparse/Cast:0\", shape=(2,), dtype=int32))) to a dense Tensor of unknown shape. This may consume a large amount of memory.\n",
      "  warnings.warn(\n"
     ]
    },
    {
     "name": "stdout",
     "output_type": "stream",
     "text": [
      "2214/2214 [==============================] - 13s 5ms/step - loss: 0.4249 - accuracy: 0.8033 - tf_f1: 0.7347 - val_loss: 0.2994 - val_accuracy: 0.8765 - val_tf_f1: 0.8149\n",
      "Epoch 2/50\n",
      "2214/2214 [==============================] - 12s 5ms/step - loss: 0.2934 - accuracy: 0.8809 - tf_f1: 0.8390 - val_loss: 0.3086 - val_accuracy: 0.8750 - val_tf_f1: 0.8542\n",
      "Epoch 3/50\n",
      "2214/2214 [==============================] - 12s 5ms/step - loss: 0.2140 - accuracy: 0.9209 - tf_f1: 0.8672 - val_loss: 0.2839 - val_accuracy: 0.8940 - val_tf_f1: 0.8778\n",
      "Epoch 4/50\n",
      "2214/2214 [==============================] - 12s 5ms/step - loss: 0.1579 - accuracy: 0.9450 - tf_f1: 0.8870 - val_loss: 0.2929 - val_accuracy: 0.9037 - val_tf_f1: 0.8948\n",
      "Epoch 5/50\n",
      "2214/2214 [==============================] - 12s 5ms/step - loss: 0.1177 - accuracy: 0.9607 - tf_f1: 0.9018 - val_loss: 0.3246 - val_accuracy: 0.8967 - val_tf_f1: 0.9076\n"
     ]
    },
    {
     "name": "stderr",
     "output_type": "stream",
     "text": [
      "\u001b[32m[I 2022-09-09 00:24:44,781]\u001b[0m Trial 59 pruned. Trial was pruned at epoch 4.\u001b[0m\n"
     ]
    },
    {
     "name": "stdout",
     "output_type": "stream",
     "text": [
      "Epoch 1/50\n"
     ]
    },
    {
     "name": "stderr",
     "output_type": "stream",
     "text": [
      "c:\\Users\\Lim Jia Hui\\Desktop\\Python\\lib\\site-packages\\tensorflow\\python\\framework\\indexed_slices.py:444: UserWarning: Converting sparse IndexedSlices(IndexedSlices(indices=Tensor(\"gradient_tape/sequential_60/dense_120/embedding_lookup_sparse/Reshape_1:0\", shape=(None,), dtype=int32), values=Tensor(\"gradient_tape/sequential_60/dense_120/embedding_lookup_sparse/Reshape:0\", shape=(None, 33), dtype=float32), dense_shape=Tensor(\"gradient_tape/sequential_60/dense_120/embedding_lookup_sparse/Cast:0\", shape=(2,), dtype=int32))) to a dense Tensor of unknown shape. This may consume a large amount of memory.\n",
      "  warnings.warn(\n"
     ]
    },
    {
     "name": "stdout",
     "output_type": "stream",
     "text": [
      "2214/2214 [==============================] - 13s 5ms/step - loss: 0.4229 - accuracy: 0.8040 - tf_f1: 0.7373 - val_loss: 0.2743 - val_accuracy: 0.8983 - val_tf_f1: 0.8171\n",
      "Epoch 2/50\n",
      "2214/2214 [==============================] - 12s 5ms/step - loss: 0.2919 - accuracy: 0.8810 - tf_f1: 0.8416 - val_loss: 0.3135 - val_accuracy: 0.8719 - val_tf_f1: 0.8561\n",
      "Epoch 3/50\n",
      "2214/2214 [==============================] - 12s 5ms/step - loss: 0.2164 - accuracy: 0.9184 - tf_f1: 0.8683 - val_loss: 0.2388 - val_accuracy: 0.9186 - val_tf_f1: 0.8789\n",
      "Epoch 4/50\n",
      "2214/2214 [==============================] - 12s 5ms/step - loss: 0.1523 - accuracy: 0.9464 - tf_f1: 0.8884 - val_loss: 0.2984 - val_accuracy: 0.9152 - val_tf_f1: 0.8965\n",
      "Epoch 5/50\n",
      "2214/2214 [==============================] - 12s 5ms/step - loss: 0.1116 - accuracy: 0.9620 - tf_f1: 0.9036 - val_loss: 0.4675 - val_accuracy: 0.8462 - val_tf_f1: 0.9087\n"
     ]
    },
    {
     "name": "stderr",
     "output_type": "stream",
     "text": [
      "\u001b[32m[I 2022-09-09 00:25:45,163]\u001b[0m Trial 60 pruned. Trial was pruned at epoch 4.\u001b[0m\n"
     ]
    },
    {
     "name": "stdout",
     "output_type": "stream",
     "text": [
      "Epoch 1/50\n"
     ]
    },
    {
     "name": "stderr",
     "output_type": "stream",
     "text": [
      "c:\\Users\\Lim Jia Hui\\Desktop\\Python\\lib\\site-packages\\tensorflow\\python\\framework\\indexed_slices.py:444: UserWarning: Converting sparse IndexedSlices(IndexedSlices(indices=Tensor(\"gradient_tape/sequential_61/dense_122/embedding_lookup_sparse/Reshape_1:0\", shape=(None,), dtype=int32), values=Tensor(\"gradient_tape/sequential_61/dense_122/embedding_lookup_sparse/Reshape:0\", shape=(None, 35), dtype=float32), dense_shape=Tensor(\"gradient_tape/sequential_61/dense_122/embedding_lookup_sparse/Cast:0\", shape=(2,), dtype=int32))) to a dense Tensor of unknown shape. This may consume a large amount of memory.\n",
      "  warnings.warn(\n"
     ]
    },
    {
     "name": "stdout",
     "output_type": "stream",
     "text": [
      "2214/2214 [==============================] - 12s 5ms/step - loss: 0.5235 - accuracy: 0.7645 - tf_f1: 0.7097 - val_loss: 0.4009 - val_accuracy: 0.8248 - val_tf_f1: 0.7734\n",
      "Epoch 2/50\n",
      "2214/2214 [==============================] - 12s 5ms/step - loss: 0.3908 - accuracy: 0.8340 - tf_f1: 0.7969 - val_loss: 0.4084 - val_accuracy: 0.8194 - val_tf_f1: 0.8112\n"
     ]
    },
    {
     "name": "stderr",
     "output_type": "stream",
     "text": [
      "\u001b[32m[I 2022-09-09 00:26:09,467]\u001b[0m Trial 61 pruned. Trial was pruned at epoch 1.\u001b[0m\n"
     ]
    },
    {
     "name": "stdout",
     "output_type": "stream",
     "text": [
      "Epoch 1/50\n"
     ]
    },
    {
     "name": "stderr",
     "output_type": "stream",
     "text": [
      "c:\\Users\\Lim Jia Hui\\Desktop\\Python\\lib\\site-packages\\tensorflow\\python\\framework\\indexed_slices.py:444: UserWarning: Converting sparse IndexedSlices(IndexedSlices(indices=Tensor(\"gradient_tape/sequential_62/dense_124/embedding_lookup_sparse/Reshape_1:0\", shape=(None,), dtype=int32), values=Tensor(\"gradient_tape/sequential_62/dense_124/embedding_lookup_sparse/Reshape:0\", shape=(None, 31), dtype=float32), dense_shape=Tensor(\"gradient_tape/sequential_62/dense_124/embedding_lookup_sparse/Cast:0\", shape=(2,), dtype=int32))) to a dense Tensor of unknown shape. This may consume a large amount of memory.\n",
      "  warnings.warn(\n"
     ]
    },
    {
     "name": "stdout",
     "output_type": "stream",
     "text": [
      "2214/2214 [==============================] - 13s 5ms/step - loss: 0.4276 - accuracy: 0.8024 - tf_f1: 0.7441 - val_loss: 0.2746 - val_accuracy: 0.8890 - val_tf_f1: 0.8150\n",
      "Epoch 2/50\n",
      "2214/2214 [==============================] - 12s 5ms/step - loss: 0.3013 - accuracy: 0.8768 - tf_f1: 0.8390 - val_loss: 0.4559 - val_accuracy: 0.8004 - val_tf_f1: 0.8502\n"
     ]
    },
    {
     "name": "stderr",
     "output_type": "stream",
     "text": [
      "\u001b[32m[I 2022-09-09 00:26:34,197]\u001b[0m Trial 62 pruned. Trial was pruned at epoch 1.\u001b[0m\n"
     ]
    },
    {
     "name": "stdout",
     "output_type": "stream",
     "text": [
      "Epoch 1/50\n"
     ]
    },
    {
     "name": "stderr",
     "output_type": "stream",
     "text": [
      "c:\\Users\\Lim Jia Hui\\Desktop\\Python\\lib\\site-packages\\tensorflow\\python\\framework\\indexed_slices.py:444: UserWarning: Converting sparse IndexedSlices(IndexedSlices(indices=Tensor(\"gradient_tape/sequential_63/dense_126/embedding_lookup_sparse/Reshape_1:0\", shape=(None,), dtype=int32), values=Tensor(\"gradient_tape/sequential_63/dense_126/embedding_lookup_sparse/Reshape:0\", shape=(None, 41), dtype=float32), dense_shape=Tensor(\"gradient_tape/sequential_63/dense_126/embedding_lookup_sparse/Cast:0\", shape=(2,), dtype=int32))) to a dense Tensor of unknown shape. This may consume a large amount of memory.\n",
      "  warnings.warn(\n"
     ]
    },
    {
     "name": "stdout",
     "output_type": "stream",
     "text": [
      "2214/2214 [==============================] - 13s 5ms/step - loss: 0.4372 - accuracy: 0.7982 - tf_f1: 0.7389 - val_loss: 0.4024 - val_accuracy: 0.8154 - val_tf_f1: 0.8049\n",
      "Epoch 2/50\n",
      "2214/2214 [==============================] - 12s 5ms/step - loss: 0.3173 - accuracy: 0.8687 - tf_f1: 0.8263 - val_loss: 0.2452 - val_accuracy: 0.9031 - val_tf_f1: 0.8431\n"
     ]
    },
    {
     "name": "stderr",
     "output_type": "stream",
     "text": [
      "\u001b[32m[I 2022-09-09 00:26:59,098]\u001b[0m Trial 63 pruned. Trial was pruned at epoch 1.\u001b[0m\n"
     ]
    },
    {
     "name": "stdout",
     "output_type": "stream",
     "text": [
      "Epoch 1/50\n"
     ]
    },
    {
     "name": "stderr",
     "output_type": "stream",
     "text": [
      "c:\\Users\\Lim Jia Hui\\Desktop\\Python\\lib\\site-packages\\tensorflow\\python\\framework\\indexed_slices.py:444: UserWarning: Converting sparse IndexedSlices(IndexedSlices(indices=Tensor(\"gradient_tape/sequential_64/dense_128/embedding_lookup_sparse/Reshape_1:0\", shape=(None,), dtype=int32), values=Tensor(\"gradient_tape/sequential_64/dense_128/embedding_lookup_sparse/Reshape:0\", shape=(None, 38), dtype=float32), dense_shape=Tensor(\"gradient_tape/sequential_64/dense_128/embedding_lookup_sparse/Cast:0\", shape=(2,), dtype=int32))) to a dense Tensor of unknown shape. This may consume a large amount of memory.\n",
      "  warnings.warn(\n"
     ]
    },
    {
     "name": "stdout",
     "output_type": "stream",
     "text": [
      "2214/2214 [==============================] - 13s 5ms/step - loss: 0.4262 - accuracy: 0.8035 - tf_f1: 0.7476 - val_loss: 0.2907 - val_accuracy: 0.8845 - val_tf_f1: 0.8157\n",
      "Epoch 2/50\n",
      "2214/2214 [==============================] - 12s 5ms/step - loss: 0.2960 - accuracy: 0.8796 - tf_f1: 0.8397 - val_loss: 0.2995 - val_accuracy: 0.8770 - val_tf_f1: 0.8542\n",
      "Epoch 3/50\n",
      "2214/2214 [==============================] - 12s 5ms/step - loss: 0.2239 - accuracy: 0.9161 - tf_f1: 0.8664 - val_loss: 0.2997 - val_accuracy: 0.8864 - val_tf_f1: 0.8764\n",
      "Epoch 4/50\n",
      "2214/2214 [==============================] - 12s 5ms/step - loss: 0.1652 - accuracy: 0.9426 - tf_f1: 0.8854 - val_loss: 0.3578 - val_accuracy: 0.8722 - val_tf_f1: 0.8926\n",
      "Epoch 5/50\n",
      "2214/2214 [==============================] - 12s 5ms/step - loss: 0.1129 - accuracy: 0.9625 - tf_f1: 0.8994 - val_loss: 0.3657 - val_accuracy: 0.8807 - val_tf_f1: 0.9055\n"
     ]
    },
    {
     "name": "stderr",
     "output_type": "stream",
     "text": [
      "\u001b[32m[I 2022-09-09 00:27:58,588]\u001b[0m Trial 64 pruned. Trial was pruned at epoch 4.\u001b[0m\n"
     ]
    },
    {
     "name": "stdout",
     "output_type": "stream",
     "text": [
      "Epoch 1/50\n"
     ]
    },
    {
     "name": "stderr",
     "output_type": "stream",
     "text": [
      "c:\\Users\\Lim Jia Hui\\Desktop\\Python\\lib\\site-packages\\tensorflow\\python\\framework\\indexed_slices.py:444: UserWarning: Converting sparse IndexedSlices(IndexedSlices(indices=Tensor(\"gradient_tape/sequential_65/dense_130/embedding_lookup_sparse/Reshape_1:0\", shape=(None,), dtype=int32), values=Tensor(\"gradient_tape/sequential_65/dense_130/embedding_lookup_sparse/Reshape:0\", shape=(None, 35), dtype=float32), dense_shape=Tensor(\"gradient_tape/sequential_65/dense_130/embedding_lookup_sparse/Cast:0\", shape=(2,), dtype=int32))) to a dense Tensor of unknown shape. This may consume a large amount of memory.\n",
      "  warnings.warn(\n"
     ]
    },
    {
     "name": "stdout",
     "output_type": "stream",
     "text": [
      "2214/2214 [==============================] - 13s 5ms/step - loss: 0.4237 - accuracy: 0.8054 - tf_f1: 0.7428 - val_loss: 0.3275 - val_accuracy: 0.8655 - val_tf_f1: 0.8154\n",
      "Epoch 2/50\n",
      "2214/2214 [==============================] - 12s 5ms/step - loss: 0.2989 - accuracy: 0.8764 - tf_f1: 0.8379 - val_loss: 0.2316 - val_accuracy: 0.9143 - val_tf_f1: 0.8536\n"
     ]
    },
    {
     "name": "stderr",
     "output_type": "stream",
     "text": [
      "\u001b[32m[I 2022-09-09 00:28:23,298]\u001b[0m Trial 65 pruned. Trial was pruned at epoch 1.\u001b[0m\n"
     ]
    },
    {
     "name": "stdout",
     "output_type": "stream",
     "text": [
      "Epoch 1/50\n"
     ]
    },
    {
     "name": "stderr",
     "output_type": "stream",
     "text": [
      "c:\\Users\\Lim Jia Hui\\Desktop\\Python\\lib\\site-packages\\tensorflow\\python\\framework\\indexed_slices.py:444: UserWarning: Converting sparse IndexedSlices(IndexedSlices(indices=Tensor(\"gradient_tape/sequential_66/dense_132/embedding_lookup_sparse/Reshape_1:0\", shape=(None,), dtype=int32), values=Tensor(\"gradient_tape/sequential_66/dense_132/embedding_lookup_sparse/Reshape:0\", shape=(None, 29), dtype=float32), dense_shape=Tensor(\"gradient_tape/sequential_66/dense_132/embedding_lookup_sparse/Cast:0\", shape=(2,), dtype=int32))) to a dense Tensor of unknown shape. This may consume a large amount of memory.\n",
      "  warnings.warn(\n"
     ]
    },
    {
     "name": "stdout",
     "output_type": "stream",
     "text": [
      "2214/2214 [==============================] - 13s 5ms/step - loss: 0.4352 - accuracy: 0.7981 - tf_f1: 0.7119 - val_loss: 0.4359 - val_accuracy: 0.8009 - val_tf_f1: 0.8024\n",
      "Epoch 2/50\n",
      "2214/2214 [==============================] - 12s 5ms/step - loss: 0.3051 - accuracy: 0.8741 - tf_f1: 0.8258 - val_loss: 0.2394 - val_accuracy: 0.9089 - val_tf_f1: 0.8444\n"
     ]
    },
    {
     "name": "stderr",
     "output_type": "stream",
     "text": [
      "\u001b[32m[I 2022-09-09 00:28:48,098]\u001b[0m Trial 66 pruned. Trial was pruned at epoch 1.\u001b[0m\n"
     ]
    },
    {
     "name": "stdout",
     "output_type": "stream",
     "text": [
      "Epoch 1/50\n"
     ]
    },
    {
     "name": "stderr",
     "output_type": "stream",
     "text": [
      "c:\\Users\\Lim Jia Hui\\Desktop\\Python\\lib\\site-packages\\tensorflow\\python\\framework\\indexed_slices.py:444: UserWarning: Converting sparse IndexedSlices(IndexedSlices(indices=Tensor(\"gradient_tape/sequential_67/dense_134/embedding_lookup_sparse/Reshape_1:0\", shape=(None,), dtype=int32), values=Tensor(\"gradient_tape/sequential_67/dense_134/embedding_lookup_sparse/Reshape:0\", shape=(None, 37), dtype=float32), dense_shape=Tensor(\"gradient_tape/sequential_67/dense_134/embedding_lookup_sparse/Cast:0\", shape=(2,), dtype=int32))) to a dense Tensor of unknown shape. This may consume a large amount of memory.\n",
      "  warnings.warn(\n"
     ]
    },
    {
     "name": "stdout",
     "output_type": "stream",
     "text": [
      "2214/2214 [==============================] - 13s 5ms/step - loss: 0.4136 - accuracy: 0.8107 - tf_f1: 0.7639 - val_loss: 0.3398 - val_accuracy: 0.8595 - val_tf_f1: 0.8210\n",
      "Epoch 2/50\n",
      "2214/2214 [==============================] - 12s 5ms/step - loss: 0.2924 - accuracy: 0.8793 - tf_f1: 0.8419 - val_loss: 0.4655 - val_accuracy: 0.8011 - val_tf_f1: 0.8533\n"
     ]
    },
    {
     "name": "stderr",
     "output_type": "stream",
     "text": [
      "\u001b[32m[I 2022-09-09 00:29:12,847]\u001b[0m Trial 67 pruned. Trial was pruned at epoch 1.\u001b[0m\n"
     ]
    },
    {
     "name": "stdout",
     "output_type": "stream",
     "text": [
      "Epoch 1/50\n"
     ]
    },
    {
     "name": "stderr",
     "output_type": "stream",
     "text": [
      "c:\\Users\\Lim Jia Hui\\Desktop\\Python\\lib\\site-packages\\tensorflow\\python\\framework\\indexed_slices.py:444: UserWarning: Converting sparse IndexedSlices(IndexedSlices(indices=Tensor(\"gradient_tape/sequential_68/dense_136/embedding_lookup_sparse/Reshape_1:0\", shape=(None,), dtype=int32), values=Tensor(\"gradient_tape/sequential_68/dense_136/embedding_lookup_sparse/Reshape:0\", shape=(None, 32), dtype=float32), dense_shape=Tensor(\"gradient_tape/sequential_68/dense_136/embedding_lookup_sparse/Cast:0\", shape=(2,), dtype=int32))) to a dense Tensor of unknown shape. This may consume a large amount of memory.\n",
      "  warnings.warn(\n"
     ]
    },
    {
     "name": "stdout",
     "output_type": "stream",
     "text": [
      "2214/2214 [==============================] - 12s 5ms/step - loss: 0.4218 - accuracy: 0.8031 - tf_f1: 0.7501 - val_loss: 0.3169 - val_accuracy: 0.8619 - val_tf_f1: 0.8143\n",
      "Epoch 2/50\n",
      "2214/2214 [==============================] - 12s 5ms/step - loss: 0.2875 - accuracy: 0.8838 - tf_f1: 0.8387 - val_loss: 0.4383 - val_accuracy: 0.8206 - val_tf_f1: 0.8527\n"
     ]
    },
    {
     "name": "stderr",
     "output_type": "stream",
     "text": [
      "\u001b[32m[I 2022-09-09 00:29:37,303]\u001b[0m Trial 68 pruned. Trial was pruned at epoch 1.\u001b[0m\n"
     ]
    },
    {
     "name": "stdout",
     "output_type": "stream",
     "text": [
      "Epoch 1/50\n"
     ]
    },
    {
     "name": "stderr",
     "output_type": "stream",
     "text": [
      "c:\\Users\\Lim Jia Hui\\Desktop\\Python\\lib\\site-packages\\tensorflow\\python\\framework\\indexed_slices.py:444: UserWarning: Converting sparse IndexedSlices(IndexedSlices(indices=Tensor(\"gradient_tape/sequential_69/dense_138/embedding_lookup_sparse/Reshape_1:0\", shape=(None,), dtype=int32), values=Tensor(\"gradient_tape/sequential_69/dense_138/embedding_lookup_sparse/Reshape:0\", shape=(None, 40), dtype=float32), dense_shape=Tensor(\"gradient_tape/sequential_69/dense_138/embedding_lookup_sparse/Cast:0\", shape=(2,), dtype=int32))) to a dense Tensor of unknown shape. This may consume a large amount of memory.\n",
      "  warnings.warn(\n"
     ]
    },
    {
     "name": "stdout",
     "output_type": "stream",
     "text": [
      "2214/2214 [==============================] - 13s 5ms/step - loss: 0.4432 - accuracy: 0.7962 - tf_f1: 0.7274 - val_loss: 0.4217 - val_accuracy: 0.8030 - val_tf_f1: 0.8026\n",
      "Epoch 2/50\n",
      "2214/2214 [==============================] - 12s 5ms/step - loss: 0.3149 - accuracy: 0.8693 - tf_f1: 0.8244 - val_loss: 0.2570 - val_accuracy: 0.8991 - val_tf_f1: 0.8418\n"
     ]
    },
    {
     "name": "stderr",
     "output_type": "stream",
     "text": [
      "\u001b[32m[I 2022-09-09 00:30:02,262]\u001b[0m Trial 69 pruned. Trial was pruned at epoch 1.\u001b[0m\n"
     ]
    },
    {
     "name": "stdout",
     "output_type": "stream",
     "text": [
      "Epoch 1/50\n"
     ]
    },
    {
     "name": "stderr",
     "output_type": "stream",
     "text": [
      "c:\\Users\\Lim Jia Hui\\Desktop\\Python\\lib\\site-packages\\tensorflow\\python\\framework\\indexed_slices.py:444: UserWarning: Converting sparse IndexedSlices(IndexedSlices(indices=Tensor(\"gradient_tape/sequential_70/dense_140/embedding_lookup_sparse/Reshape_1:0\", shape=(None,), dtype=int32), values=Tensor(\"gradient_tape/sequential_70/dense_140/embedding_lookup_sparse/Reshape:0\", shape=(None, 34), dtype=float32), dense_shape=Tensor(\"gradient_tape/sequential_70/dense_140/embedding_lookup_sparse/Cast:0\", shape=(2,), dtype=int32))) to a dense Tensor of unknown shape. This may consume a large amount of memory.\n",
      "  warnings.warn(\n"
     ]
    },
    {
     "name": "stdout",
     "output_type": "stream",
     "text": [
      "2214/2214 [==============================] - 13s 5ms/step - loss: 0.4396 - accuracy: 0.7982 - tf_f1: 0.7402 - val_loss: 0.2596 - val_accuracy: 0.8984 - val_tf_f1: 0.8116\n",
      "Epoch 2/50\n",
      "2214/2214 [==============================] - 12s 5ms/step - loss: 0.3153 - accuracy: 0.8677 - tf_f1: 0.8346 - val_loss: 0.4204 - val_accuracy: 0.8185 - val_tf_f1: 0.8457\n"
     ]
    },
    {
     "name": "stderr",
     "output_type": "stream",
     "text": [
      "\u001b[32m[I 2022-09-09 00:30:26,937]\u001b[0m Trial 70 pruned. Trial was pruned at epoch 1.\u001b[0m\n"
     ]
    },
    {
     "name": "stdout",
     "output_type": "stream",
     "text": [
      "Epoch 1/50\n"
     ]
    },
    {
     "name": "stderr",
     "output_type": "stream",
     "text": [
      "c:\\Users\\Lim Jia Hui\\Desktop\\Python\\lib\\site-packages\\tensorflow\\python\\framework\\indexed_slices.py:444: UserWarning: Converting sparse IndexedSlices(IndexedSlices(indices=Tensor(\"gradient_tape/sequential_71/dense_142/embedding_lookup_sparse/Reshape_1:0\", shape=(None,), dtype=int32), values=Tensor(\"gradient_tape/sequential_71/dense_142/embedding_lookup_sparse/Reshape:0\", shape=(None, 21), dtype=float32), dense_shape=Tensor(\"gradient_tape/sequential_71/dense_142/embedding_lookup_sparse/Cast:0\", shape=(2,), dtype=int32))) to a dense Tensor of unknown shape. This may consume a large amount of memory.\n",
      "  warnings.warn(\n"
     ]
    },
    {
     "name": "stdout",
     "output_type": "stream",
     "text": [
      "2214/2214 [==============================] - 13s 5ms/step - loss: 0.4812 - accuracy: 0.7804 - tf_f1: 0.7074 - val_loss: 0.6147 - val_accuracy: 0.6837 - val_tf_f1: 0.7768\n",
      "Epoch 2/50\n",
      "2214/2214 [==============================] - 12s 5ms/step - loss: 0.3539 - accuracy: 0.8512 - tf_f1: 0.7962 - val_loss: 0.5637 - val_accuracy: 0.7335 - val_tf_f1: 0.8121\n"
     ]
    },
    {
     "name": "stderr",
     "output_type": "stream",
     "text": [
      "\u001b[32m[I 2022-09-09 00:30:51,834]\u001b[0m Trial 71 pruned. Trial was pruned at epoch 1.\u001b[0m\n"
     ]
    },
    {
     "name": "stdout",
     "output_type": "stream",
     "text": [
      "Epoch 1/50\n"
     ]
    },
    {
     "name": "stderr",
     "output_type": "stream",
     "text": [
      "c:\\Users\\Lim Jia Hui\\Desktop\\Python\\lib\\site-packages\\tensorflow\\python\\framework\\indexed_slices.py:444: UserWarning: Converting sparse IndexedSlices(IndexedSlices(indices=Tensor(\"gradient_tape/sequential_72/dense_144/embedding_lookup_sparse/Reshape_1:0\", shape=(None,), dtype=int32), values=Tensor(\"gradient_tape/sequential_72/dense_144/embedding_lookup_sparse/Reshape:0\", shape=(None, 26), dtype=float32), dense_shape=Tensor(\"gradient_tape/sequential_72/dense_144/embedding_lookup_sparse/Cast:0\", shape=(2,), dtype=int32))) to a dense Tensor of unknown shape. This may consume a large amount of memory.\n",
      "  warnings.warn(\n"
     ]
    },
    {
     "name": "stdout",
     "output_type": "stream",
     "text": [
      "2214/2214 [==============================] - 13s 5ms/step - loss: 0.5718 - accuracy: 0.7410 - tf_f1: 0.6467 - val_loss: 0.4569 - val_accuracy: 0.7855 - val_tf_f1: 0.7383\n",
      "Epoch 2/50\n",
      "2214/2214 [==============================] - 12s 5ms/step - loss: 0.4354 - accuracy: 0.8126 - tf_f1: 0.7652 - val_loss: 0.4016 - val_accuracy: 0.8209 - val_tf_f1: 0.7839\n"
     ]
    },
    {
     "name": "stderr",
     "output_type": "stream",
     "text": [
      "\u001b[32m[I 2022-09-09 00:31:16,807]\u001b[0m Trial 72 pruned. Trial was pruned at epoch 1.\u001b[0m\n"
     ]
    },
    {
     "name": "stdout",
     "output_type": "stream",
     "text": [
      "Epoch 1/50\n"
     ]
    },
    {
     "name": "stderr",
     "output_type": "stream",
     "text": [
      "c:\\Users\\Lim Jia Hui\\Desktop\\Python\\lib\\site-packages\\tensorflow\\python\\framework\\indexed_slices.py:444: UserWarning: Converting sparse IndexedSlices(IndexedSlices(indices=Tensor(\"gradient_tape/sequential_73/dense_146/embedding_lookup_sparse/Reshape_1:0\", shape=(None,), dtype=int32), values=Tensor(\"gradient_tape/sequential_73/dense_146/embedding_lookup_sparse/Reshape:0\", shape=(None, 14), dtype=float32), dense_shape=Tensor(\"gradient_tape/sequential_73/dense_146/embedding_lookup_sparse/Cast:0\", shape=(2,), dtype=int32))) to a dense Tensor of unknown shape. This may consume a large amount of memory.\n",
      "  warnings.warn(\n"
     ]
    },
    {
     "name": "stdout",
     "output_type": "stream",
     "text": [
      "2214/2214 [==============================] - 12s 5ms/step - loss: 0.4629 - accuracy: 0.7870 - tf_f1: 0.7143 - val_loss: 0.2897 - val_accuracy: 0.8843 - val_tf_f1: 0.7989\n",
      "Epoch 2/50\n",
      "2214/2214 [==============================] - 12s 5ms/step - loss: 0.3358 - accuracy: 0.8603 - tf_f1: 0.8236 - val_loss: 0.3434 - val_accuracy: 0.8511 - val_tf_f1: 0.8373\n"
     ]
    },
    {
     "name": "stderr",
     "output_type": "stream",
     "text": [
      "\u001b[32m[I 2022-09-09 00:31:41,115]\u001b[0m Trial 73 pruned. Trial was pruned at epoch 1.\u001b[0m\n"
     ]
    },
    {
     "name": "stdout",
     "output_type": "stream",
     "text": [
      "Epoch 1/50\n"
     ]
    },
    {
     "name": "stderr",
     "output_type": "stream",
     "text": [
      "c:\\Users\\Lim Jia Hui\\Desktop\\Python\\lib\\site-packages\\tensorflow\\python\\framework\\indexed_slices.py:444: UserWarning: Converting sparse IndexedSlices(IndexedSlices(indices=Tensor(\"gradient_tape/sequential_74/dense_148/embedding_lookup_sparse/Reshape_1:0\", shape=(None,), dtype=int32), values=Tensor(\"gradient_tape/sequential_74/dense_148/embedding_lookup_sparse/Reshape:0\", shape=(None, 20), dtype=float32), dense_shape=Tensor(\"gradient_tape/sequential_74/dense_148/embedding_lookup_sparse/Cast:0\", shape=(2,), dtype=int32))) to a dense Tensor of unknown shape. This may consume a large amount of memory.\n",
      "  warnings.warn(\n"
     ]
    },
    {
     "name": "stdout",
     "output_type": "stream",
     "text": [
      "2214/2214 [==============================] - 13s 5ms/step - loss: 0.4330 - accuracy: 0.7974 - tf_f1: 0.7461 - val_loss: 0.2801 - val_accuracy: 0.8832 - val_tf_f1: 0.8115\n",
      "Epoch 2/50\n",
      "2214/2214 [==============================] - 12s 5ms/step - loss: 0.3214 - accuracy: 0.8656 - tf_f1: 0.8328 - val_loss: 0.3294 - val_accuracy: 0.8582 - val_tf_f1: 0.8450\n"
     ]
    },
    {
     "name": "stderr",
     "output_type": "stream",
     "text": [
      "\u001b[32m[I 2022-09-09 00:32:06,053]\u001b[0m Trial 74 pruned. Trial was pruned at epoch 1.\u001b[0m\n"
     ]
    },
    {
     "name": "stdout",
     "output_type": "stream",
     "text": [
      "Epoch 1/50\n"
     ]
    },
    {
     "name": "stderr",
     "output_type": "stream",
     "text": [
      "c:\\Users\\Lim Jia Hui\\Desktop\\Python\\lib\\site-packages\\tensorflow\\python\\framework\\indexed_slices.py:444: UserWarning: Converting sparse IndexedSlices(IndexedSlices(indices=Tensor(\"gradient_tape/sequential_75/dense_150/embedding_lookup_sparse/Reshape_1:0\", shape=(None,), dtype=int32), values=Tensor(\"gradient_tape/sequential_75/dense_150/embedding_lookup_sparse/Reshape:0\", shape=(None, 24), dtype=float32), dense_shape=Tensor(\"gradient_tape/sequential_75/dense_150/embedding_lookup_sparse/Cast:0\", shape=(2,), dtype=int32))) to a dense Tensor of unknown shape. This may consume a large amount of memory.\n",
      "  warnings.warn(\n"
     ]
    },
    {
     "name": "stdout",
     "output_type": "stream",
     "text": [
      "2214/2214 [==============================] - 13s 5ms/step - loss: 0.4759 - accuracy: 0.7829 - tf_f1: 0.7307 - val_loss: 0.4840 - val_accuracy: 0.7672 - val_tf_f1: 0.7880\n",
      "Epoch 2/50\n",
      "2214/2214 [==============================] - 12s 5ms/step - loss: 0.3543 - accuracy: 0.8527 - tf_f1: 0.8088 - val_loss: 0.4231 - val_accuracy: 0.8098 - val_tf_f1: 0.8233\n"
     ]
    },
    {
     "name": "stderr",
     "output_type": "stream",
     "text": [
      "\u001b[32m[I 2022-09-09 00:32:30,892]\u001b[0m Trial 75 pruned. Trial was pruned at epoch 1.\u001b[0m\n"
     ]
    },
    {
     "name": "stdout",
     "output_type": "stream",
     "text": [
      "Epoch 1/50\n"
     ]
    },
    {
     "name": "stderr",
     "output_type": "stream",
     "text": [
      "c:\\Users\\Lim Jia Hui\\Desktop\\Python\\lib\\site-packages\\tensorflow\\python\\framework\\indexed_slices.py:444: UserWarning: Converting sparse IndexedSlices(IndexedSlices(indices=Tensor(\"gradient_tape/sequential_76/dense_152/embedding_lookup_sparse/Reshape_1:0\", shape=(None,), dtype=int32), values=Tensor(\"gradient_tape/sequential_76/dense_152/embedding_lookup_sparse/Reshape:0\", shape=(None, 37), dtype=float32), dense_shape=Tensor(\"gradient_tape/sequential_76/dense_152/embedding_lookup_sparse/Cast:0\", shape=(2,), dtype=int32))) to a dense Tensor of unknown shape. This may consume a large amount of memory.\n",
      "  warnings.warn(\n"
     ]
    },
    {
     "name": "stdout",
     "output_type": "stream",
     "text": [
      "2214/2214 [==============================] - 13s 5ms/step - loss: 0.4185 - accuracy: 0.8076 - tf_f1: 0.7518 - val_loss: 0.3152 - val_accuracy: 0.8691 - val_tf_f1: 0.8191\n",
      "Epoch 2/50\n",
      "2214/2214 [==============================] - 12s 5ms/step - loss: 0.2895 - accuracy: 0.8826 - tf_f1: 0.8416 - val_loss: 0.2327 - val_accuracy: 0.9133 - val_tf_f1: 0.8580\n",
      "Epoch 3/50\n",
      "2214/2214 [==============================] - 12s 5ms/step - loss: 0.2123 - accuracy: 0.9207 - tf_f1: 0.8707 - val_loss: 0.2427 - val_accuracy: 0.9175 - val_tf_f1: 0.8816\n",
      "Epoch 4/50\n",
      "2214/2214 [==============================] - 12s 5ms/step - loss: 0.1513 - accuracy: 0.9466 - tf_f1: 0.8910 - val_loss: 0.3112 - val_accuracy: 0.8953 - val_tf_f1: 0.8982\n",
      "Epoch 5/50\n",
      "2214/2214 [==============================] - 12s 5ms/step - loss: 0.1064 - accuracy: 0.9640 - tf_f1: 0.9049 - val_loss: 0.3330 - val_accuracy: 0.9041 - val_tf_f1: 0.9108\n",
      "Epoch 6/50\n",
      "2214/2214 [==============================] - 12s 5ms/step - loss: 0.0814 - accuracy: 0.9732 - tf_f1: 0.9160 - val_loss: 0.3472 - val_accuracy: 0.9019 - val_tf_f1: 0.9205\n",
      "Epoch 7/50\n",
      "2214/2214 [==============================] - 12s 5ms/step - loss: 0.0671 - accuracy: 0.9781 - tf_f1: 0.9245 - val_loss: 0.4093 - val_accuracy: 0.8921 - val_tf_f1: 0.9278\n",
      "Epoch 8/50\n",
      "2214/2214 [==============================] - 12s 5ms/step - loss: 0.0600 - accuracy: 0.9801 - tf_f1: 0.9308 - val_loss: 0.4609 - val_accuracy: 0.8745 - val_tf_f1: 0.9333\n",
      "Epoch 9/50\n",
      "2214/2214 [==============================] - 12s 5ms/step - loss: 0.0519 - accuracy: 0.9828 - tf_f1: 0.9356 - val_loss: 0.4499 - val_accuracy: 0.8916 - val_tf_f1: 0.9378\n",
      "Epoch 10/50\n",
      "2214/2214 [==============================] - 12s 5ms/step - loss: 0.0443 - accuracy: 0.9851 - tf_f1: 0.9399 - val_loss: 0.4016 - val_accuracy: 0.9081 - val_tf_f1: 0.9418\n",
      "Epoch 11/50\n",
      "2214/2214 [==============================] - 12s 5ms/step - loss: 0.0429 - accuracy: 0.9861 - tf_f1: 0.9436 - val_loss: 0.4463 - val_accuracy: 0.9107 - val_tf_f1: 0.9452\n",
      "Epoch 12/50\n",
      "2214/2214 [==============================] - 12s 5ms/step - loss: 0.0386 - accuracy: 0.9876 - tf_f1: 0.9468 - val_loss: 0.4434 - val_accuracy: 0.9067 - val_tf_f1: 0.9482\n",
      "Epoch 13/50\n",
      "2214/2214 [==============================] - 12s 5ms/step - loss: 0.0362 - accuracy: 0.9883 - tf_f1: 0.9495 - val_loss: 0.4535 - val_accuracy: 0.9111 - val_tf_f1: 0.9507\n"
     ]
    },
    {
     "name": "stderr",
     "output_type": "stream",
     "text": [
      "\u001b[32m[I 2022-09-09 00:35:08,442]\u001b[0m Trial 76 finished with value: 0.9507119059562683 and parameters: {'lr': 0.08896317383897509, 'units': 37}. Best is trial 44 with value: 0.9569110870361328.\u001b[0m\n"
     ]
    },
    {
     "name": "stdout",
     "output_type": "stream",
     "text": [
      "Epoch 00013: early stopping\n",
      "Epoch 1/50\n"
     ]
    },
    {
     "name": "stderr",
     "output_type": "stream",
     "text": [
      "c:\\Users\\Lim Jia Hui\\Desktop\\Python\\lib\\site-packages\\tensorflow\\python\\framework\\indexed_slices.py:444: UserWarning: Converting sparse IndexedSlices(IndexedSlices(indices=Tensor(\"gradient_tape/sequential_77/dense_154/embedding_lookup_sparse/Reshape_1:0\", shape=(None,), dtype=int32), values=Tensor(\"gradient_tape/sequential_77/dense_154/embedding_lookup_sparse/Reshape:0\", shape=(None, 39), dtype=float32), dense_shape=Tensor(\"gradient_tape/sequential_77/dense_154/embedding_lookup_sparse/Cast:0\", shape=(2,), dtype=int32))) to a dense Tensor of unknown shape. This may consume a large amount of memory.\n",
      "  warnings.warn(\n"
     ]
    },
    {
     "name": "stdout",
     "output_type": "stream",
     "text": [
      "2214/2214 [==============================] - 13s 5ms/step - loss: 0.4232 - accuracy: 0.8033 - tf_f1: 0.7552 - val_loss: 0.2625 - val_accuracy: 0.8942 - val_tf_f1: 0.8175\n",
      "Epoch 2/50\n",
      "2214/2214 [==============================] - 12s 5ms/step - loss: 0.2925 - accuracy: 0.8801 - tf_f1: 0.8411 - val_loss: 0.2884 - val_accuracy: 0.8850 - val_tf_f1: 0.8558\n",
      "Epoch 3/50\n",
      "2214/2214 [==============================] - 12s 5ms/step - loss: 0.2108 - accuracy: 0.9205 - tf_f1: 0.8684 - val_loss: 0.4519 - val_accuracy: 0.8281 - val_tf_f1: 0.8775\n",
      "Epoch 4/50\n",
      "2214/2214 [==============================] - 12s 5ms/step - loss: 0.1433 - accuracy: 0.9516 - tf_f1: 0.8863 - val_loss: 0.2848 - val_accuracy: 0.9222 - val_tf_f1: 0.8952\n",
      "Epoch 5/50\n",
      "2214/2214 [==============================] - 12s 5ms/step - loss: 0.1051 - accuracy: 0.9657 - tf_f1: 0.9029 - val_loss: 0.4296 - val_accuracy: 0.8631 - val_tf_f1: 0.9085\n"
     ]
    },
    {
     "name": "stderr",
     "output_type": "stream",
     "text": [
      "\u001b[32m[I 2022-09-09 00:36:09,408]\u001b[0m Trial 77 pruned. Trial was pruned at epoch 4.\u001b[0m\n"
     ]
    },
    {
     "name": "stdout",
     "output_type": "stream",
     "text": [
      "Epoch 1/50\n"
     ]
    },
    {
     "name": "stderr",
     "output_type": "stream",
     "text": [
      "c:\\Users\\Lim Jia Hui\\Desktop\\Python\\lib\\site-packages\\tensorflow\\python\\framework\\indexed_slices.py:444: UserWarning: Converting sparse IndexedSlices(IndexedSlices(indices=Tensor(\"gradient_tape/sequential_78/dense_156/embedding_lookup_sparse/Reshape_1:0\", shape=(None,), dtype=int32), values=Tensor(\"gradient_tape/sequential_78/dense_156/embedding_lookup_sparse/Reshape:0\", shape=(None, 36), dtype=float32), dense_shape=Tensor(\"gradient_tape/sequential_78/dense_156/embedding_lookup_sparse/Cast:0\", shape=(2,), dtype=int32))) to a dense Tensor of unknown shape. This may consume a large amount of memory.\n",
      "  warnings.warn(\n"
     ]
    },
    {
     "name": "stdout",
     "output_type": "stream",
     "text": [
      "2214/2214 [==============================] - 13s 5ms/step - loss: 0.4212 - accuracy: 0.8051 - tf_f1: 0.7449 - val_loss: 0.2680 - val_accuracy: 0.8979 - val_tf_f1: 0.8182\n",
      "Epoch 2/50\n",
      "2214/2214 [==============================] - 13s 6ms/step - loss: 0.2845 - accuracy: 0.8849 - tf_f1: 0.8434 - val_loss: 0.3672 - val_accuracy: 0.8410 - val_tf_f1: 0.8571\n",
      "Epoch 3/50\n",
      "2214/2214 [==============================] - 12s 5ms/step - loss: 0.2043 - accuracy: 0.9231 - tf_f1: 0.8689 - val_loss: 0.3623 - val_accuracy: 0.8684 - val_tf_f1: 0.8791\n",
      "Epoch 4/50\n",
      "2214/2214 [==============================] - 12s 5ms/step - loss: 0.1421 - accuracy: 0.9507 - tf_f1: 0.8883 - val_loss: 0.3070 - val_accuracy: 0.9001 - val_tf_f1: 0.8965\n",
      "Epoch 5/50\n",
      "2214/2214 [==============================] - 12s 5ms/step - loss: 0.1035 - accuracy: 0.9655 - tf_f1: 0.9037 - val_loss: 0.4959 - val_accuracy: 0.8554 - val_tf_f1: 0.9091\n"
     ]
    },
    {
     "name": "stderr",
     "output_type": "stream",
     "text": [
      "\u001b[32m[I 2022-09-09 00:37:10,792]\u001b[0m Trial 78 pruned. Trial was pruned at epoch 4.\u001b[0m\n"
     ]
    },
    {
     "name": "stdout",
     "output_type": "stream",
     "text": [
      "Epoch 1/50\n"
     ]
    },
    {
     "name": "stderr",
     "output_type": "stream",
     "text": [
      "c:\\Users\\Lim Jia Hui\\Desktop\\Python\\lib\\site-packages\\tensorflow\\python\\framework\\indexed_slices.py:444: UserWarning: Converting sparse IndexedSlices(IndexedSlices(indices=Tensor(\"gradient_tape/sequential_79/dense_158/embedding_lookup_sparse/Reshape_1:0\", shape=(None,), dtype=int32), values=Tensor(\"gradient_tape/sequential_79/dense_158/embedding_lookup_sparse/Reshape:0\", shape=(None, 38), dtype=float32), dense_shape=Tensor(\"gradient_tape/sequential_79/dense_158/embedding_lookup_sparse/Cast:0\", shape=(2,), dtype=int32))) to a dense Tensor of unknown shape. This may consume a large amount of memory.\n",
      "  warnings.warn(\n"
     ]
    },
    {
     "name": "stdout",
     "output_type": "stream",
     "text": [
      "2214/2214 [==============================] - 13s 5ms/step - loss: 0.4277 - accuracy: 0.8031 - tf_f1: 0.7524 - val_loss: 0.4361 - val_accuracy: 0.8029 - val_tf_f1: 0.8095\n",
      "Epoch 2/50\n",
      "2214/2214 [==============================] - 12s 5ms/step - loss: 0.3058 - accuracy: 0.8725 - tf_f1: 0.8297 - val_loss: 0.3421 - val_accuracy: 0.8534 - val_tf_f1: 0.8448\n"
     ]
    },
    {
     "name": "stderr",
     "output_type": "stream",
     "text": [
      "\u001b[32m[I 2022-09-09 00:37:35,271]\u001b[0m Trial 79 pruned. Trial was pruned at epoch 1.\u001b[0m\n"
     ]
    },
    {
     "name": "stdout",
     "output_type": "stream",
     "text": [
      "Epoch 1/50\n"
     ]
    },
    {
     "name": "stderr",
     "output_type": "stream",
     "text": [
      "c:\\Users\\Lim Jia Hui\\Desktop\\Python\\lib\\site-packages\\tensorflow\\python\\framework\\indexed_slices.py:444: UserWarning: Converting sparse IndexedSlices(IndexedSlices(indices=Tensor(\"gradient_tape/sequential_80/dense_160/embedding_lookup_sparse/Reshape_1:0\", shape=(None,), dtype=int32), values=Tensor(\"gradient_tape/sequential_80/dense_160/embedding_lookup_sparse/Reshape:0\", shape=(None, 42), dtype=float32), dense_shape=Tensor(\"gradient_tape/sequential_80/dense_160/embedding_lookup_sparse/Cast:0\", shape=(2,), dtype=int32))) to a dense Tensor of unknown shape. This may consume a large amount of memory.\n",
      "  warnings.warn(\n"
     ]
    },
    {
     "name": "stdout",
     "output_type": "stream",
     "text": [
      "2214/2214 [==============================] - 12s 5ms/step - loss: 0.4211 - accuracy: 0.8053 - tf_f1: 0.7512 - val_loss: 0.3236 - val_accuracy: 0.8620 - val_tf_f1: 0.8159\n",
      "Epoch 2/50\n",
      "2214/2214 [==============================] - 12s 5ms/step - loss: 0.2976 - accuracy: 0.8767 - tf_f1: 0.8383 - val_loss: 0.3062 - val_accuracy: 0.8774 - val_tf_f1: 0.8523\n"
     ]
    },
    {
     "name": "stderr",
     "output_type": "stream",
     "text": [
      "\u001b[32m[I 2022-09-09 00:37:59,481]\u001b[0m Trial 80 pruned. Trial was pruned at epoch 1.\u001b[0m\n"
     ]
    },
    {
     "name": "stdout",
     "output_type": "stream",
     "text": [
      "Epoch 1/50\n"
     ]
    },
    {
     "name": "stderr",
     "output_type": "stream",
     "text": [
      "c:\\Users\\Lim Jia Hui\\Desktop\\Python\\lib\\site-packages\\tensorflow\\python\\framework\\indexed_slices.py:444: UserWarning: Converting sparse IndexedSlices(IndexedSlices(indices=Tensor(\"gradient_tape/sequential_81/dense_162/embedding_lookup_sparse/Reshape_1:0\", shape=(None,), dtype=int32), values=Tensor(\"gradient_tape/sequential_81/dense_162/embedding_lookup_sparse/Reshape:0\", shape=(None, 33), dtype=float32), dense_shape=Tensor(\"gradient_tape/sequential_81/dense_162/embedding_lookup_sparse/Cast:0\", shape=(2,), dtype=int32))) to a dense Tensor of unknown shape. This may consume a large amount of memory.\n",
      "  warnings.warn(\n"
     ]
    },
    {
     "name": "stdout",
     "output_type": "stream",
     "text": [
      "2214/2214 [==============================] - 13s 5ms/step - loss: 0.4174 - accuracy: 0.8080 - tf_f1: 0.7552 - val_loss: 0.2966 - val_accuracy: 0.8771 - val_tf_f1: 0.8199\n",
      "Epoch 2/50\n",
      "2214/2214 [==============================] - 12s 5ms/step - loss: 0.2955 - accuracy: 0.8779 - tf_f1: 0.8420 - val_loss: 0.2483 - val_accuracy: 0.9049 - val_tf_f1: 0.8561\n",
      "Epoch 3/50\n",
      "2214/2214 [==============================] - 12s 5ms/step - loss: 0.2180 - accuracy: 0.9168 - tf_f1: 0.8687 - val_loss: 0.2837 - val_accuracy: 0.8989 - val_tf_f1: 0.8787\n",
      "Epoch 4/50\n",
      "2214/2214 [==============================] - 12s 5ms/step - loss: 0.1574 - accuracy: 0.9444 - tf_f1: 0.8876 - val_loss: 0.2751 - val_accuracy: 0.9227 - val_tf_f1: 0.8958\n",
      "Epoch 5/50\n",
      "2214/2214 [==============================] - 12s 5ms/step - loss: 0.1164 - accuracy: 0.9608 - tf_f1: 0.9029 - val_loss: 0.3583 - val_accuracy: 0.8899 - val_tf_f1: 0.9085\n"
     ]
    },
    {
     "name": "stderr",
     "output_type": "stream",
     "text": [
      "\u001b[32m[I 2022-09-09 00:39:01,306]\u001b[0m Trial 81 pruned. Trial was pruned at epoch 4.\u001b[0m\n"
     ]
    },
    {
     "name": "stdout",
     "output_type": "stream",
     "text": [
      "Epoch 1/50\n"
     ]
    },
    {
     "name": "stderr",
     "output_type": "stream",
     "text": [
      "c:\\Users\\Lim Jia Hui\\Desktop\\Python\\lib\\site-packages\\tensorflow\\python\\framework\\indexed_slices.py:444: UserWarning: Converting sparse IndexedSlices(IndexedSlices(indices=Tensor(\"gradient_tape/sequential_82/dense_164/embedding_lookup_sparse/Reshape_1:0\", shape=(None,), dtype=int32), values=Tensor(\"gradient_tape/sequential_82/dense_164/embedding_lookup_sparse/Reshape:0\", shape=(None, 35), dtype=float32), dense_shape=Tensor(\"gradient_tape/sequential_82/dense_164/embedding_lookup_sparse/Cast:0\", shape=(2,), dtype=int32))) to a dense Tensor of unknown shape. This may consume a large amount of memory.\n",
      "  warnings.warn(\n"
     ]
    },
    {
     "name": "stdout",
     "output_type": "stream",
     "text": [
      "2214/2214 [==============================] - 13s 5ms/step - loss: 0.4198 - accuracy: 0.8061 - tf_f1: 0.7482 - val_loss: 0.2982 - val_accuracy: 0.8753 - val_tf_f1: 0.8179\n",
      "Epoch 2/50\n",
      "2214/2214 [==============================] - 12s 5ms/step - loss: 0.2928 - accuracy: 0.8794 - tf_f1: 0.8407 - val_loss: 0.4134 - val_accuracy: 0.8316 - val_tf_f1: 0.8535\n"
     ]
    },
    {
     "name": "stderr",
     "output_type": "stream",
     "text": [
      "\u001b[32m[I 2022-09-09 00:39:25,908]\u001b[0m Trial 82 pruned. Trial was pruned at epoch 1.\u001b[0m\n"
     ]
    },
    {
     "name": "stdout",
     "output_type": "stream",
     "text": [
      "Epoch 1/50\n"
     ]
    },
    {
     "name": "stderr",
     "output_type": "stream",
     "text": [
      "c:\\Users\\Lim Jia Hui\\Desktop\\Python\\lib\\site-packages\\tensorflow\\python\\framework\\indexed_slices.py:444: UserWarning: Converting sparse IndexedSlices(IndexedSlices(indices=Tensor(\"gradient_tape/sequential_83/dense_166/embedding_lookup_sparse/Reshape_1:0\", shape=(None,), dtype=int32), values=Tensor(\"gradient_tape/sequential_83/dense_166/embedding_lookup_sparse/Reshape:0\", shape=(None, 37), dtype=float32), dense_shape=Tensor(\"gradient_tape/sequential_83/dense_166/embedding_lookup_sparse/Cast:0\", shape=(2,), dtype=int32))) to a dense Tensor of unknown shape. This may consume a large amount of memory.\n",
      "  warnings.warn(\n"
     ]
    },
    {
     "name": "stdout",
     "output_type": "stream",
     "text": [
      "2214/2214 [==============================] - 12s 5ms/step - loss: 0.4285 - accuracy: 0.8030 - tf_f1: 0.7485 - val_loss: 0.5431 - val_accuracy: 0.7434 - val_tf_f1: 0.8043\n",
      "Epoch 2/50\n",
      "2214/2214 [==============================] - 12s 5ms/step - loss: 0.3071 - accuracy: 0.8725 - tf_f1: 0.8234 - val_loss: 0.3993 - val_accuracy: 0.8267 - val_tf_f1: 0.8391\n"
     ]
    },
    {
     "name": "stderr",
     "output_type": "stream",
     "text": [
      "\u001b[32m[I 2022-09-09 00:39:50,393]\u001b[0m Trial 83 pruned. Trial was pruned at epoch 1.\u001b[0m\n"
     ]
    },
    {
     "name": "stdout",
     "output_type": "stream",
     "text": [
      "Epoch 1/50\n"
     ]
    },
    {
     "name": "stderr",
     "output_type": "stream",
     "text": [
      "c:\\Users\\Lim Jia Hui\\Desktop\\Python\\lib\\site-packages\\tensorflow\\python\\framework\\indexed_slices.py:444: UserWarning: Converting sparse IndexedSlices(IndexedSlices(indices=Tensor(\"gradient_tape/sequential_84/dense_168/embedding_lookup_sparse/Reshape_1:0\", shape=(None,), dtype=int32), values=Tensor(\"gradient_tape/sequential_84/dense_168/embedding_lookup_sparse/Reshape:0\", shape=(None, 32), dtype=float32), dense_shape=Tensor(\"gradient_tape/sequential_84/dense_168/embedding_lookup_sparse/Cast:0\", shape=(2,), dtype=int32))) to a dense Tensor of unknown shape. This may consume a large amount of memory.\n",
      "  warnings.warn(\n"
     ]
    },
    {
     "name": "stdout",
     "output_type": "stream",
     "text": [
      "2214/2214 [==============================] - 13s 5ms/step - loss: 0.4241 - accuracy: 0.8026 - tf_f1: 0.7377 - val_loss: 0.4849 - val_accuracy: 0.7791 - val_tf_f1: 0.8076\n",
      "Epoch 2/50\n",
      "2214/2214 [==============================] - 12s 5ms/step - loss: 0.2950 - accuracy: 0.8792 - tf_f1: 0.8296 - val_loss: 0.4232 - val_accuracy: 0.8266 - val_tf_f1: 0.8451\n"
     ]
    },
    {
     "name": "stderr",
     "output_type": "stream",
     "text": [
      "\u001b[32m[I 2022-09-09 00:40:15,251]\u001b[0m Trial 84 pruned. Trial was pruned at epoch 1.\u001b[0m\n"
     ]
    },
    {
     "name": "stdout",
     "output_type": "stream",
     "text": [
      "Epoch 1/50\n"
     ]
    },
    {
     "name": "stderr",
     "output_type": "stream",
     "text": [
      "c:\\Users\\Lim Jia Hui\\Desktop\\Python\\lib\\site-packages\\tensorflow\\python\\framework\\indexed_slices.py:444: UserWarning: Converting sparse IndexedSlices(IndexedSlices(indices=Tensor(\"gradient_tape/sequential_85/dense_170/embedding_lookup_sparse/Reshape_1:0\", shape=(None,), dtype=int32), values=Tensor(\"gradient_tape/sequential_85/dense_170/embedding_lookup_sparse/Reshape:0\", shape=(None, 18), dtype=float32), dense_shape=Tensor(\"gradient_tape/sequential_85/dense_170/embedding_lookup_sparse/Cast:0\", shape=(2,), dtype=int32))) to a dense Tensor of unknown shape. This may consume a large amount of memory.\n",
      "  warnings.warn(\n"
     ]
    },
    {
     "name": "stdout",
     "output_type": "stream",
     "text": [
      "2214/2214 [==============================] - 13s 5ms/step - loss: 0.4999 - accuracy: 0.7686 - tf_f1: 0.6933 - val_loss: 0.4407 - val_accuracy: 0.7967 - val_tf_f1: 0.7738\n",
      "Epoch 2/50\n",
      "2214/2214 [==============================] - 12s 5ms/step - loss: 0.3716 - accuracy: 0.8429 - tf_f1: 0.7987 - val_loss: 0.3129 - val_accuracy: 0.8725 - val_tf_f1: 0.8163\n"
     ]
    },
    {
     "name": "stderr",
     "output_type": "stream",
     "text": [
      "\u001b[32m[I 2022-09-09 00:40:40,220]\u001b[0m Trial 85 pruned. Trial was pruned at epoch 1.\u001b[0m\n"
     ]
    },
    {
     "name": "stdout",
     "output_type": "stream",
     "text": [
      "Epoch 1/50\n"
     ]
    },
    {
     "name": "stderr",
     "output_type": "stream",
     "text": [
      "c:\\Users\\Lim Jia Hui\\Desktop\\Python\\lib\\site-packages\\tensorflow\\python\\framework\\indexed_slices.py:444: UserWarning: Converting sparse IndexedSlices(IndexedSlices(indices=Tensor(\"gradient_tape/sequential_86/dense_172/embedding_lookup_sparse/Reshape_1:0\", shape=(None,), dtype=int32), values=Tensor(\"gradient_tape/sequential_86/dense_172/embedding_lookup_sparse/Reshape:0\", shape=(None, 30), dtype=float32), dense_shape=Tensor(\"gradient_tape/sequential_86/dense_172/embedding_lookup_sparse/Cast:0\", shape=(2,), dtype=int32))) to a dense Tensor of unknown shape. This may consume a large amount of memory.\n",
      "  warnings.warn(\n"
     ]
    },
    {
     "name": "stdout",
     "output_type": "stream",
     "text": [
      "2214/2214 [==============================] - 13s 5ms/step - loss: 0.4237 - accuracy: 0.8045 - tf_f1: 0.7345 - val_loss: 0.3426 - val_accuracy: 0.8524 - val_tf_f1: 0.8136\n",
      "Epoch 2/50\n",
      "2214/2214 [==============================] - 12s 5ms/step - loss: 0.2975 - accuracy: 0.8775 - tf_f1: 0.8361 - val_loss: 0.5808 - val_accuracy: 0.7634 - val_tf_f1: 0.8476\n"
     ]
    },
    {
     "name": "stderr",
     "output_type": "stream",
     "text": [
      "\u001b[32m[I 2022-09-09 00:41:05,061]\u001b[0m Trial 86 pruned. Trial was pruned at epoch 1.\u001b[0m\n"
     ]
    },
    {
     "name": "stdout",
     "output_type": "stream",
     "text": [
      "Epoch 1/50\n"
     ]
    },
    {
     "name": "stderr",
     "output_type": "stream",
     "text": [
      "c:\\Users\\Lim Jia Hui\\Desktop\\Python\\lib\\site-packages\\tensorflow\\python\\framework\\indexed_slices.py:444: UserWarning: Converting sparse IndexedSlices(IndexedSlices(indices=Tensor(\"gradient_tape/sequential_87/dense_174/embedding_lookup_sparse/Reshape_1:0\", shape=(None,), dtype=int32), values=Tensor(\"gradient_tape/sequential_87/dense_174/embedding_lookup_sparse/Reshape:0\", shape=(None, 44), dtype=float32), dense_shape=Tensor(\"gradient_tape/sequential_87/dense_174/embedding_lookup_sparse/Cast:0\", shape=(2,), dtype=int32))) to a dense Tensor of unknown shape. This may consume a large amount of memory.\n",
      "  warnings.warn(\n"
     ]
    },
    {
     "name": "stdout",
     "output_type": "stream",
     "text": [
      "2214/2214 [==============================] - 13s 5ms/step - loss: 0.4418 - accuracy: 0.7956 - tf_f1: 0.7485 - val_loss: 0.4272 - val_accuracy: 0.8101 - val_tf_f1: 0.8046\n",
      "Epoch 2/50\n",
      "2214/2214 [==============================] - 12s 5ms/step - loss: 0.3134 - accuracy: 0.8703 - tf_f1: 0.8260 - val_loss: 0.2648 - val_accuracy: 0.8957 - val_tf_f1: 0.8431\n"
     ]
    },
    {
     "name": "stderr",
     "output_type": "stream",
     "text": [
      "\u001b[32m[I 2022-09-09 00:41:29,838]\u001b[0m Trial 87 pruned. Trial was pruned at epoch 1.\u001b[0m\n"
     ]
    },
    {
     "name": "stdout",
     "output_type": "stream",
     "text": [
      "Epoch 1/50\n"
     ]
    },
    {
     "name": "stderr",
     "output_type": "stream",
     "text": [
      "c:\\Users\\Lim Jia Hui\\Desktop\\Python\\lib\\site-packages\\tensorflow\\python\\framework\\indexed_slices.py:444: UserWarning: Converting sparse IndexedSlices(IndexedSlices(indices=Tensor(\"gradient_tape/sequential_88/dense_176/embedding_lookup_sparse/Reshape_1:0\", shape=(None,), dtype=int32), values=Tensor(\"gradient_tape/sequential_88/dense_176/embedding_lookup_sparse/Reshape:0\", shape=(None, 40), dtype=float32), dense_shape=Tensor(\"gradient_tape/sequential_88/dense_176/embedding_lookup_sparse/Cast:0\", shape=(2,), dtype=int32))) to a dense Tensor of unknown shape. This may consume a large amount of memory.\n",
      "  warnings.warn(\n"
     ]
    },
    {
     "name": "stdout",
     "output_type": "stream",
     "text": [
      "2214/2214 [==============================] - 13s 5ms/step - loss: 0.4284 - accuracy: 0.8039 - tf_f1: 0.7419 - val_loss: 0.3367 - val_accuracy: 0.8557 - val_tf_f1: 0.8133\n",
      "Epoch 2/50\n",
      "2214/2214 [==============================] - 12s 5ms/step - loss: 0.2992 - accuracy: 0.8772 - tf_f1: 0.8358 - val_loss: 0.2261 - val_accuracy: 0.9163 - val_tf_f1: 0.8528\n"
     ]
    },
    {
     "name": "stderr",
     "output_type": "stream",
     "text": [
      "\u001b[32m[I 2022-09-09 00:41:54,646]\u001b[0m Trial 88 pruned. Trial was pruned at epoch 1.\u001b[0m\n"
     ]
    },
    {
     "name": "stdout",
     "output_type": "stream",
     "text": [
      "Epoch 1/50\n"
     ]
    },
    {
     "name": "stderr",
     "output_type": "stream",
     "text": [
      "c:\\Users\\Lim Jia Hui\\Desktop\\Python\\lib\\site-packages\\tensorflow\\python\\framework\\indexed_slices.py:444: UserWarning: Converting sparse IndexedSlices(IndexedSlices(indices=Tensor(\"gradient_tape/sequential_89/dense_178/embedding_lookup_sparse/Reshape_1:0\", shape=(None,), dtype=int32), values=Tensor(\"gradient_tape/sequential_89/dense_178/embedding_lookup_sparse/Reshape:0\", shape=(None, 35), dtype=float32), dense_shape=Tensor(\"gradient_tape/sequential_89/dense_178/embedding_lookup_sparse/Cast:0\", shape=(2,), dtype=int32))) to a dense Tensor of unknown shape. This may consume a large amount of memory.\n",
      "  warnings.warn(\n"
     ]
    },
    {
     "name": "stdout",
     "output_type": "stream",
     "text": [
      "2214/2214 [==============================] - 13s 5ms/step - loss: 0.4540 - accuracy: 0.7907 - tf_f1: 0.7247 - val_loss: 0.3152 - val_accuracy: 0.8671 - val_tf_f1: 0.8019\n",
      "Epoch 2/50\n",
      "2214/2214 [==============================] - 12s 5ms/step - loss: 0.3245 - accuracy: 0.8642 - tf_f1: 0.8258 - val_loss: 0.3276 - val_accuracy: 0.8631 - val_tf_f1: 0.8404\n"
     ]
    },
    {
     "name": "stderr",
     "output_type": "stream",
     "text": [
      "\u001b[32m[I 2022-09-09 00:42:19,444]\u001b[0m Trial 89 pruned. Trial was pruned at epoch 1.\u001b[0m\n"
     ]
    },
    {
     "name": "stdout",
     "output_type": "stream",
     "text": [
      "Epoch 1/50\n"
     ]
    },
    {
     "name": "stderr",
     "output_type": "stream",
     "text": [
      "c:\\Users\\Lim Jia Hui\\Desktop\\Python\\lib\\site-packages\\tensorflow\\python\\framework\\indexed_slices.py:444: UserWarning: Converting sparse IndexedSlices(IndexedSlices(indices=Tensor(\"gradient_tape/sequential_90/dense_180/embedding_lookup_sparse/Reshape_1:0\", shape=(None,), dtype=int32), values=Tensor(\"gradient_tape/sequential_90/dense_180/embedding_lookup_sparse/Reshape:0\", shape=(None, 36), dtype=float32), dense_shape=Tensor(\"gradient_tape/sequential_90/dense_180/embedding_lookup_sparse/Cast:0\", shape=(2,), dtype=int32))) to a dense Tensor of unknown shape. This may consume a large amount of memory.\n",
      "  warnings.warn(\n"
     ]
    },
    {
     "name": "stdout",
     "output_type": "stream",
     "text": [
      "2214/2214 [==============================] - 13s 5ms/step - loss: 0.4304 - accuracy: 0.7986 - tf_f1: 0.7291 - val_loss: 0.2409 - val_accuracy: 0.9063 - val_tf_f1: 0.8122\n",
      "Epoch 2/50\n",
      "2214/2214 [==============================] - 12s 5ms/step - loss: 0.2993 - accuracy: 0.8775 - tf_f1: 0.8379 - val_loss: 0.4897 - val_accuracy: 0.7929 - val_tf_f1: 0.8496\n"
     ]
    },
    {
     "name": "stderr",
     "output_type": "stream",
     "text": [
      "\u001b[32m[I 2022-09-09 00:42:44,253]\u001b[0m Trial 90 pruned. Trial was pruned at epoch 1.\u001b[0m\n"
     ]
    },
    {
     "name": "stdout",
     "output_type": "stream",
     "text": [
      "Epoch 1/50\n"
     ]
    },
    {
     "name": "stderr",
     "output_type": "stream",
     "text": [
      "c:\\Users\\Lim Jia Hui\\Desktop\\Python\\lib\\site-packages\\tensorflow\\python\\framework\\indexed_slices.py:444: UserWarning: Converting sparse IndexedSlices(IndexedSlices(indices=Tensor(\"gradient_tape/sequential_91/dense_182/embedding_lookup_sparse/Reshape_1:0\", shape=(None,), dtype=int32), values=Tensor(\"gradient_tape/sequential_91/dense_182/embedding_lookup_sparse/Reshape:0\", shape=(None, 50), dtype=float32), dense_shape=Tensor(\"gradient_tape/sequential_91/dense_182/embedding_lookup_sparse/Cast:0\", shape=(2,), dtype=int32))) to a dense Tensor of unknown shape. This may consume a large amount of memory.\n",
      "  warnings.warn(\n"
     ]
    },
    {
     "name": "stdout",
     "output_type": "stream",
     "text": [
      "2214/2214 [==============================] - 12s 5ms/step - loss: 0.4249 - accuracy: 0.8019 - tf_f1: 0.7390 - val_loss: 0.3279 - val_accuracy: 0.8665 - val_tf_f1: 0.8128\n",
      "Epoch 2/50\n",
      "2214/2214 [==============================] - 12s 5ms/step - loss: 0.2905 - accuracy: 0.8819 - tf_f1: 0.8369 - val_loss: 0.2684 - val_accuracy: 0.8921 - val_tf_f1: 0.8537\n",
      "Epoch 3/50\n",
      "2214/2214 [==============================] - 12s 5ms/step - loss: 0.2176 - accuracy: 0.9178 - tf_f1: 0.8670 - val_loss: 0.2543 - val_accuracy: 0.9115 - val_tf_f1: 0.8775\n",
      "Epoch 4/50\n",
      "2214/2214 [==============================] - 12s 5ms/step - loss: 0.1576 - accuracy: 0.9448 - tf_f1: 0.8871 - val_loss: 0.3731 - val_accuracy: 0.8739 - val_tf_f1: 0.8944\n",
      "Epoch 5/50\n",
      "2214/2214 [==============================] - 12s 5ms/step - loss: 0.1164 - accuracy: 0.9604 - tf_f1: 0.9009 - val_loss: 0.4826 - val_accuracy: 0.8426 - val_tf_f1: 0.9061\n"
     ]
    },
    {
     "name": "stderr",
     "output_type": "stream",
     "text": [
      "\u001b[32m[I 2022-09-09 00:43:44,197]\u001b[0m Trial 91 pruned. Trial was pruned at epoch 4.\u001b[0m\n"
     ]
    },
    {
     "name": "stdout",
     "output_type": "stream",
     "text": [
      "Epoch 1/50\n"
     ]
    },
    {
     "name": "stderr",
     "output_type": "stream",
     "text": [
      "c:\\Users\\Lim Jia Hui\\Desktop\\Python\\lib\\site-packages\\tensorflow\\python\\framework\\indexed_slices.py:444: UserWarning: Converting sparse IndexedSlices(IndexedSlices(indices=Tensor(\"gradient_tape/sequential_92/dense_184/embedding_lookup_sparse/Reshape_1:0\", shape=(None,), dtype=int32), values=Tensor(\"gradient_tape/sequential_92/dense_184/embedding_lookup_sparse/Reshape:0\", shape=(None, 48), dtype=float32), dense_shape=Tensor(\"gradient_tape/sequential_92/dense_184/embedding_lookup_sparse/Cast:0\", shape=(2,), dtype=int32))) to a dense Tensor of unknown shape. This may consume a large amount of memory.\n",
      "  warnings.warn(\n"
     ]
    },
    {
     "name": "stdout",
     "output_type": "stream",
     "text": [
      "2214/2214 [==============================] - 13s 5ms/step - loss: 0.4194 - accuracy: 0.8056 - tf_f1: 0.7487 - val_loss: 0.3640 - val_accuracy: 0.8456 - val_tf_f1: 0.8151\n",
      "Epoch 2/50\n",
      "2214/2214 [==============================] - 12s 5ms/step - loss: 0.2888 - accuracy: 0.8813 - tf_f1: 0.8381 - val_loss: 0.3487 - val_accuracy: 0.8569 - val_tf_f1: 0.8528\n"
     ]
    },
    {
     "name": "stderr",
     "output_type": "stream",
     "text": [
      "\u001b[32m[I 2022-09-09 00:44:08,885]\u001b[0m Trial 92 pruned. Trial was pruned at epoch 1.\u001b[0m\n"
     ]
    },
    {
     "name": "stdout",
     "output_type": "stream",
     "text": [
      "Epoch 1/50\n"
     ]
    },
    {
     "name": "stderr",
     "output_type": "stream",
     "text": [
      "c:\\Users\\Lim Jia Hui\\Desktop\\Python\\lib\\site-packages\\tensorflow\\python\\framework\\indexed_slices.py:444: UserWarning: Converting sparse IndexedSlices(IndexedSlices(indices=Tensor(\"gradient_tape/sequential_93/dense_186/embedding_lookup_sparse/Reshape_1:0\", shape=(None,), dtype=int32), values=Tensor(\"gradient_tape/sequential_93/dense_186/embedding_lookup_sparse/Reshape:0\", shape=(None, 46), dtype=float32), dense_shape=Tensor(\"gradient_tape/sequential_93/dense_186/embedding_lookup_sparse/Cast:0\", shape=(2,), dtype=int32))) to a dense Tensor of unknown shape. This may consume a large amount of memory.\n",
      "  warnings.warn(\n"
     ]
    },
    {
     "name": "stdout",
     "output_type": "stream",
     "text": [
      "2214/2214 [==============================] - 13s 5ms/step - loss: 0.4171 - accuracy: 0.8069 - tf_f1: 0.7424 - val_loss: 0.3258 - val_accuracy: 0.8623 - val_tf_f1: 0.8168\n",
      "Epoch 2/50\n",
      "2214/2214 [==============================] - 12s 5ms/step - loss: 0.2867 - accuracy: 0.8821 - tf_f1: 0.8396 - val_loss: 0.4748 - val_accuracy: 0.7975 - val_tf_f1: 0.8526\n"
     ]
    },
    {
     "name": "stderr",
     "output_type": "stream",
     "text": [
      "\u001b[32m[I 2022-09-09 00:44:33,664]\u001b[0m Trial 93 pruned. Trial was pruned at epoch 1.\u001b[0m\n"
     ]
    },
    {
     "name": "stdout",
     "output_type": "stream",
     "text": [
      "Epoch 1/50\n"
     ]
    },
    {
     "name": "stderr",
     "output_type": "stream",
     "text": [
      "c:\\Users\\Lim Jia Hui\\Desktop\\Python\\lib\\site-packages\\tensorflow\\python\\framework\\indexed_slices.py:444: UserWarning: Converting sparse IndexedSlices(IndexedSlices(indices=Tensor(\"gradient_tape/sequential_94/dense_188/embedding_lookup_sparse/Reshape_1:0\", shape=(None,), dtype=int32), values=Tensor(\"gradient_tape/sequential_94/dense_188/embedding_lookup_sparse/Reshape:0\", shape=(None, 47), dtype=float32), dense_shape=Tensor(\"gradient_tape/sequential_94/dense_188/embedding_lookup_sparse/Cast:0\", shape=(2,), dtype=int32))) to a dense Tensor of unknown shape. This may consume a large amount of memory.\n",
      "  warnings.warn(\n"
     ]
    },
    {
     "name": "stdout",
     "output_type": "stream",
     "text": [
      "2214/2214 [==============================] - 13s 5ms/step - loss: 0.4341 - accuracy: 0.8000 - tf_f1: 0.7288 - val_loss: 0.2561 - val_accuracy: 0.9011 - val_tf_f1: 0.8131\n",
      "Epoch 2/50\n",
      "2214/2214 [==============================] - 12s 5ms/step - loss: 0.3038 - accuracy: 0.8748 - tf_f1: 0.8373 - val_loss: 0.3844 - val_accuracy: 0.8364 - val_tf_f1: 0.8505\n"
     ]
    },
    {
     "name": "stderr",
     "output_type": "stream",
     "text": [
      "\u001b[32m[I 2022-09-09 00:44:58,636]\u001b[0m Trial 94 pruned. Trial was pruned at epoch 1.\u001b[0m\n"
     ]
    },
    {
     "name": "stdout",
     "output_type": "stream",
     "text": [
      "Epoch 1/50\n"
     ]
    },
    {
     "name": "stderr",
     "output_type": "stream",
     "text": [
      "c:\\Users\\Lim Jia Hui\\Desktop\\Python\\lib\\site-packages\\tensorflow\\python\\framework\\indexed_slices.py:444: UserWarning: Converting sparse IndexedSlices(IndexedSlices(indices=Tensor(\"gradient_tape/sequential_95/dense_190/embedding_lookup_sparse/Reshape_1:0\", shape=(None,), dtype=int32), values=Tensor(\"gradient_tape/sequential_95/dense_190/embedding_lookup_sparse/Reshape:0\", shape=(None, 37), dtype=float32), dense_shape=Tensor(\"gradient_tape/sequential_95/dense_190/embedding_lookup_sparse/Cast:0\", shape=(2,), dtype=int32))) to a dense Tensor of unknown shape. This may consume a large amount of memory.\n",
      "  warnings.warn(\n"
     ]
    },
    {
     "name": "stdout",
     "output_type": "stream",
     "text": [
      "2214/2214 [==============================] - 13s 5ms/step - loss: 0.4193 - accuracy: 0.8082 - tf_f1: 0.7427 - val_loss: 0.2562 - val_accuracy: 0.8975 - val_tf_f1: 0.8205\n",
      "Epoch 2/50\n",
      "2214/2214 [==============================] - 12s 5ms/step - loss: 0.2919 - accuracy: 0.8806 - tf_f1: 0.8437 - val_loss: 0.3022 - val_accuracy: 0.8793 - val_tf_f1: 0.8577\n",
      "Epoch 3/50\n",
      "2214/2214 [==============================] - 12s 5ms/step - loss: 0.2081 - accuracy: 0.9228 - tf_f1: 0.8701 - val_loss: 0.3007 - val_accuracy: 0.8859 - val_tf_f1: 0.8806\n",
      "Epoch 4/50\n",
      "2214/2214 [==============================] - 12s 5ms/step - loss: 0.1450 - accuracy: 0.9502 - tf_f1: 0.8899 - val_loss: 0.2810 - val_accuracy: 0.9133 - val_tf_f1: 0.8980\n",
      "Epoch 5/50\n",
      "2214/2214 [==============================] - 12s 5ms/step - loss: 0.1030 - accuracy: 0.9668 - tf_f1: 0.9052 - val_loss: 0.3243 - val_accuracy: 0.9078 - val_tf_f1: 0.9114\n",
      "Epoch 6/50\n",
      "2214/2214 [==============================] - 12s 5ms/step - loss: 0.0786 - accuracy: 0.9746 - tf_f1: 0.9166 - val_loss: 0.3428 - val_accuracy: 0.9277 - val_tf_f1: 0.9215\n",
      "Epoch 7/50\n",
      "2214/2214 [==============================] - 12s 5ms/step - loss: 0.0643 - accuracy: 0.9795 - tf_f1: 0.9257 - val_loss: 0.3607 - val_accuracy: 0.9143 - val_tf_f1: 0.9293\n",
      "Epoch 8/50\n",
      "2214/2214 [==============================] - 12s 5ms/step - loss: 0.0552 - accuracy: 0.9821 - tf_f1: 0.9324 - val_loss: 0.3869 - val_accuracy: 0.9099 - val_tf_f1: 0.9352\n",
      "Epoch 9/50\n",
      "2214/2214 [==============================] - 12s 5ms/step - loss: 0.0481 - accuracy: 0.9842 - tf_f1: 0.9377 - val_loss: 0.3874 - val_accuracy: 0.9130 - val_tf_f1: 0.9400\n",
      "Epoch 10/50\n",
      "2214/2214 [==============================] - 12s 5ms/step - loss: 0.0446 - accuracy: 0.9856 - tf_f1: 0.9421 - val_loss: 0.4363 - val_accuracy: 0.9021 - val_tf_f1: 0.9439\n",
      "Epoch 11/50\n",
      "2214/2214 [==============================] - 12s 5ms/step - loss: 0.0393 - accuracy: 0.9874 - tf_f1: 0.9456 - val_loss: 0.4302 - val_accuracy: 0.9015 - val_tf_f1: 0.9472\n",
      "Epoch 12/50\n",
      "2214/2214 [==============================] - 12s 5ms/step - loss: 0.0392 - accuracy: 0.9873 - tf_f1: 0.9486 - val_loss: 0.4493 - val_accuracy: 0.8986 - val_tf_f1: 0.9498\n",
      "Epoch 13/50\n",
      "2214/2214 [==============================] - 12s 5ms/step - loss: 0.0381 - accuracy: 0.9875 - tf_f1: 0.9510 - val_loss: 0.4530 - val_accuracy: 0.9149 - val_tf_f1: 0.9522\n",
      "Epoch 14/50\n",
      "2214/2214 [==============================] - 12s 5ms/step - loss: 0.0364 - accuracy: 0.9883 - tf_f1: 0.9533 - val_loss: 0.4513 - val_accuracy: 0.9108 - val_tf_f1: 0.9543\n"
     ]
    },
    {
     "name": "stderr",
     "output_type": "stream",
     "text": [
      "\u001b[32m[I 2022-09-09 00:47:47,044]\u001b[0m Trial 95 finished with value: 0.9542750120162964 and parameters: {'lr': 0.08121930508327119, 'units': 37}. Best is trial 44 with value: 0.9569110870361328.\u001b[0m\n"
     ]
    },
    {
     "name": "stdout",
     "output_type": "stream",
     "text": [
      "Epoch 00014: early stopping\n",
      "Epoch 1/50\n"
     ]
    },
    {
     "name": "stderr",
     "output_type": "stream",
     "text": [
      "c:\\Users\\Lim Jia Hui\\Desktop\\Python\\lib\\site-packages\\tensorflow\\python\\framework\\indexed_slices.py:444: UserWarning: Converting sparse IndexedSlices(IndexedSlices(indices=Tensor(\"gradient_tape/sequential_96/dense_192/embedding_lookup_sparse/Reshape_1:0\", shape=(None,), dtype=int32), values=Tensor(\"gradient_tape/sequential_96/dense_192/embedding_lookup_sparse/Reshape:0\", shape=(None, 37), dtype=float32), dense_shape=Tensor(\"gradient_tape/sequential_96/dense_192/embedding_lookup_sparse/Cast:0\", shape=(2,), dtype=int32))) to a dense Tensor of unknown shape. This may consume a large amount of memory.\n",
      "  warnings.warn(\n"
     ]
    },
    {
     "name": "stdout",
     "output_type": "stream",
     "text": [
      "2214/2214 [==============================] - 13s 5ms/step - loss: 0.4195 - accuracy: 0.8065 - tf_f1: 0.7425 - val_loss: 0.5953 - val_accuracy: 0.7172 - val_tf_f1: 0.8059\n",
      "Epoch 2/50\n",
      "2214/2214 [==============================] - 12s 5ms/step - loss: 0.2941 - accuracy: 0.8790 - tf_f1: 0.8247 - val_loss: 0.3059 - val_accuracy: 0.8765 - val_tf_f1: 0.8439\n"
     ]
    },
    {
     "name": "stderr",
     "output_type": "stream",
     "text": [
      "\u001b[32m[I 2022-09-09 00:48:11,956]\u001b[0m Trial 96 pruned. Trial was pruned at epoch 1.\u001b[0m\n"
     ]
    },
    {
     "name": "stdout",
     "output_type": "stream",
     "text": [
      "Epoch 1/50\n"
     ]
    },
    {
     "name": "stderr",
     "output_type": "stream",
     "text": [
      "c:\\Users\\Lim Jia Hui\\Desktop\\Python\\lib\\site-packages\\tensorflow\\python\\framework\\indexed_slices.py:444: UserWarning: Converting sparse IndexedSlices(IndexedSlices(indices=Tensor(\"gradient_tape/sequential_97/dense_194/embedding_lookup_sparse/Reshape_1:0\", shape=(None,), dtype=int32), values=Tensor(\"gradient_tape/sequential_97/dense_194/embedding_lookup_sparse/Reshape:0\", shape=(None, 39), dtype=float32), dense_shape=Tensor(\"gradient_tape/sequential_97/dense_194/embedding_lookup_sparse/Cast:0\", shape=(2,), dtype=int32))) to a dense Tensor of unknown shape. This may consume a large amount of memory.\n",
      "  warnings.warn(\n"
     ]
    },
    {
     "name": "stdout",
     "output_type": "stream",
     "text": [
      "2214/2214 [==============================] - 13s 5ms/step - loss: 0.4253 - accuracy: 0.8032 - tf_f1: 0.7354 - val_loss: 0.4696 - val_accuracy: 0.7821 - val_tf_f1: 0.8073\n",
      "Epoch 2/50\n",
      "2214/2214 [==============================] - 12s 5ms/step - loss: 0.2966 - accuracy: 0.8779 - tf_f1: 0.8282 - val_loss: 0.2725 - val_accuracy: 0.8949 - val_tf_f1: 0.8468\n"
     ]
    },
    {
     "name": "stderr",
     "output_type": "stream",
     "text": [
      "\u001b[32m[I 2022-09-09 00:48:36,958]\u001b[0m Trial 97 pruned. Trial was pruned at epoch 1.\u001b[0m\n"
     ]
    },
    {
     "name": "stdout",
     "output_type": "stream",
     "text": [
      "Epoch 1/50\n"
     ]
    },
    {
     "name": "stderr",
     "output_type": "stream",
     "text": [
      "c:\\Users\\Lim Jia Hui\\Desktop\\Python\\lib\\site-packages\\tensorflow\\python\\framework\\indexed_slices.py:444: UserWarning: Converting sparse IndexedSlices(IndexedSlices(indices=Tensor(\"gradient_tape/sequential_98/dense_196/embedding_lookup_sparse/Reshape_1:0\", shape=(None,), dtype=int32), values=Tensor(\"gradient_tape/sequential_98/dense_196/embedding_lookup_sparse/Reshape:0\", shape=(None, 42), dtype=float32), dense_shape=Tensor(\"gradient_tape/sequential_98/dense_196/embedding_lookup_sparse/Cast:0\", shape=(2,), dtype=int32))) to a dense Tensor of unknown shape. This may consume a large amount of memory.\n",
      "  warnings.warn(\n"
     ]
    },
    {
     "name": "stdout",
     "output_type": "stream",
     "text": [
      "2214/2214 [==============================] - 13s 5ms/step - loss: 0.4248 - accuracy: 0.8021 - tf_f1: 0.7441 - val_loss: 0.3068 - val_accuracy: 0.8740 - val_tf_f1: 0.8136\n",
      "Epoch 2/50\n",
      "2214/2214 [==============================] - 12s 5ms/step - loss: 0.2939 - accuracy: 0.8799 - tf_f1: 0.8376 - val_loss: 0.3165 - val_accuracy: 0.8708 - val_tf_f1: 0.8530\n"
     ]
    },
    {
     "name": "stderr",
     "output_type": "stream",
     "text": [
      "\u001b[32m[I 2022-09-09 00:49:01,842]\u001b[0m Trial 98 pruned. Trial was pruned at epoch 1.\u001b[0m\n"
     ]
    },
    {
     "name": "stdout",
     "output_type": "stream",
     "text": [
      "Epoch 1/50\n"
     ]
    },
    {
     "name": "stderr",
     "output_type": "stream",
     "text": [
      "c:\\Users\\Lim Jia Hui\\Desktop\\Python\\lib\\site-packages\\tensorflow\\python\\framework\\indexed_slices.py:444: UserWarning: Converting sparse IndexedSlices(IndexedSlices(indices=Tensor(\"gradient_tape/sequential_99/dense_198/embedding_lookup_sparse/Reshape_1:0\", shape=(None,), dtype=int32), values=Tensor(\"gradient_tape/sequential_99/dense_198/embedding_lookup_sparse/Reshape:0\", shape=(None, 33), dtype=float32), dense_shape=Tensor(\"gradient_tape/sequential_99/dense_198/embedding_lookup_sparse/Cast:0\", shape=(2,), dtype=int32))) to a dense Tensor of unknown shape. This may consume a large amount of memory.\n",
      "  warnings.warn(\n"
     ]
    },
    {
     "name": "stdout",
     "output_type": "stream",
     "text": [
      "2214/2214 [==============================] - 13s 5ms/step - loss: 0.4183 - accuracy: 0.8051 - tf_f1: 0.7396 - val_loss: 0.9233 - val_accuracy: 0.5046 - val_tf_f1: 0.7887\n",
      "Epoch 2/50\n",
      "2214/2214 [==============================] - 12s 5ms/step - loss: 0.2930 - accuracy: 0.8796 - tf_f1: 0.8031 - val_loss: 0.3697 - val_accuracy: 0.8502 - val_tf_f1: 0.8278\n"
     ]
    },
    {
     "name": "stderr",
     "output_type": "stream",
     "text": [
      "\u001b[32m[I 2022-09-09 00:49:26,828]\u001b[0m Trial 99 pruned. Trial was pruned at epoch 1.\u001b[0m\n"
     ]
    },
    {
     "name": "stdout",
     "output_type": "stream",
     "text": [
      "Trial 0 completed rungs: {}\n",
      "Trial 1 completed rungs: {'completed_rung_0': 0.8149955868721008, 'completed_rung_1': 0.8660354614257812, 'completed_rung_2': 0.9268858432769775}\n",
      "Trial 2 completed rungs: {'completed_rung_0': 0.8534441590309143, 'completed_rung_1': 0.9050552248954773}\n",
      "Trial 3 completed rungs: {'completed_rung_0': 0.8401951193809509}\n",
      "Trial 4 completed rungs: {'completed_rung_0': 0.8173145055770874}\n",
      "Trial 5 completed rungs: {'completed_rung_0': 0.8453848958015442}\n",
      "Trial 6 completed rungs: {'completed_rung_0': 0.825300931930542}\n",
      "Trial 7 completed rungs: {'completed_rung_0': 0.8463975191116333}\n",
      "Trial 8 completed rungs: {'completed_rung_0': 0.8293904662132263}\n",
      "Trial 9 completed rungs: {'completed_rung_0': 0.8391672372817993}\n",
      "Trial 10 completed rungs: {'completed_rung_0': 0.8445930480957031}\n",
      "Trial 11 completed rungs: {'completed_rung_0': 0.8442173600196838}\n",
      "Trial 12 completed rungs: {'completed_rung_0': 0.8538768887519836, 'completed_rung_1': 0.9059750437736511}\n",
      "Trial 13 completed rungs: {'completed_rung_0': 0.8548975586891174, 'completed_rung_1': 0.9112302660942078}\n",
      "Trial 14 completed rungs: {'completed_rung_0': 0.8535231351852417, 'completed_rung_1': 0.9088123440742493}\n",
      "Trial 15 completed rungs: {'completed_rung_0': 0.8508257269859314}\n",
      "Trial 16 completed rungs: {'completed_rung_0': 0.8405150771141052}\n",
      "Trial 17 completed rungs: {'completed_rung_0': 0.7531028389930725}\n",
      "Trial 18 completed rungs: {'completed_rung_0': 0.8516891598701477}\n",
      "Trial 19 completed rungs: {'completed_rung_0': 0.8448007702827454}\n",
      "Trial 20 completed rungs: {'completed_rung_0': 0.8474095463752747}\n",
      "Trial 21 completed rungs: {'completed_rung_0': 0.8569868206977844, 'completed_rung_1': 0.9063172936439514}\n",
      "Trial 22 completed rungs: {'completed_rung_0': 0.8438261151313782}\n",
      "Trial 23 completed rungs: {'completed_rung_0': 0.8518894910812378}\n",
      "Trial 24 completed rungs: {'completed_rung_0': 0.8583745956420898, 'completed_rung_1': 0.9088549613952637}\n",
      "Trial 25 completed rungs: {'completed_rung_0': 0.846409022808075}\n",
      "Trial 26 completed rungs: {'completed_rung_0': 0.8464623689651489}\n",
      "Trial 27 completed rungs: {'completed_rung_0': 0.8498473167419434}\n",
      "Trial 28 completed rungs: {'completed_rung_0': 0.8515765070915222}\n",
      "Trial 29 completed rungs: {'completed_rung_0': 0.8493022918701172}\n",
      "Trial 30 completed rungs: {'completed_rung_0': 0.8468819260597229}\n",
      "Trial 31 completed rungs: {'completed_rung_0': 0.8358096480369568}\n",
      "Trial 32 completed rungs: {'completed_rung_0': 0.8450161218643188}\n",
      "Trial 33 completed rungs: {'completed_rung_0': 0.8497774004936218}\n",
      "Trial 34 completed rungs: {'completed_rung_0': 0.8450276255607605}\n",
      "Trial 35 completed rungs: {'completed_rung_0': 0.8285860419273376}\n",
      "Trial 36 completed rungs: {'completed_rung_0': 0.8585622906684875, 'completed_rung_1': 0.9111206531524658}\n",
      "Trial 37 completed rungs: {'completed_rung_0': 0.8545173406600952, 'completed_rung_1': 0.9097016453742981}\n",
      "Trial 38 completed rungs: {'completed_rung_0': 0.8491197228431702}\n",
      "Trial 39 completed rungs: {'completed_rung_0': 0.8320838212966919}\n",
      "Trial 40 completed rungs: {'completed_rung_0': 0.8495234251022339}\n",
      "Trial 41 completed rungs: {'completed_rung_0': 0.8497582674026489}\n",
      "Trial 42 completed rungs: {'completed_rung_0': 0.857656717300415, 'completed_rung_1': 0.9114284515380859}\n",
      "Trial 43 completed rungs: {'completed_rung_0': 0.8536560535430908, 'completed_rung_1': 0.9077652096748352}\n",
      "Trial 44 completed rungs: {'completed_rung_0': 0.8592918515205383, 'completed_rung_1': 0.9125480055809021}\n",
      "Trial 45 completed rungs: {'completed_rung_0': 0.8513783812522888}\n",
      "Trial 46 completed rungs: {'completed_rung_0': 0.8498156666755676}\n",
      "Trial 47 completed rungs: {'completed_rung_0': 0.8562073707580566, 'completed_rung_1': 0.9053353667259216}\n",
      "Trial 48 completed rungs: {'completed_rung_0': 0.8424068093299866}\n",
      "Trial 49 completed rungs: {'completed_rung_0': 0.8549385070800781, 'completed_rung_1': 0.9019036293029785}\n",
      "Trial 50 completed rungs: {'completed_rung_0': 0.8514302968978882}\n",
      "Trial 51 completed rungs: {'completed_rung_0': 0.8455776572227478}\n",
      "Trial 52 completed rungs: {'completed_rung_0': 0.846886932849884}\n",
      "Trial 53 completed rungs: {'completed_rung_0': 0.8537728190422058, 'completed_rung_1': 0.9058260917663574}\n",
      "Trial 54 completed rungs: {'completed_rung_0': 0.8527937531471252}\n",
      "Trial 55 completed rungs: {'completed_rung_0': 0.8536121249198914, 'completed_rung_1': 0.9085671901702881}\n",
      "Trial 56 completed rungs: {'completed_rung_0': 0.8469381332397461}\n",
      "Trial 57 completed rungs: {'completed_rung_0': 0.7026075720787048}\n",
      "Trial 58 completed rungs: {'completed_rung_0': 0.8389936685562134}\n",
      "Trial 59 completed rungs: {'completed_rung_0': 0.8542371988296509, 'completed_rung_1': 0.907573401927948}\n",
      "Trial 60 completed rungs: {'completed_rung_0': 0.8561087250709534, 'completed_rung_1': 0.9086504578590393}\n",
      "Trial 61 completed rungs: {'completed_rung_0': 0.8112422823905945}\n",
      "Trial 62 completed rungs: {'completed_rung_0': 0.8501718640327454}\n",
      "Trial 63 completed rungs: {'completed_rung_0': 0.8431013226509094}\n",
      "Trial 64 completed rungs: {'completed_rung_0': 0.8542324304580688, 'completed_rung_1': 0.9054851531982422}\n",
      "Trial 65 completed rungs: {'completed_rung_0': 0.8535740375518799}\n",
      "Trial 66 completed rungs: {'completed_rung_0': 0.8443661332130432}\n",
      "Trial 67 completed rungs: {'completed_rung_0': 0.8532769680023193}\n",
      "Trial 68 completed rungs: {'completed_rung_0': 0.8526543378829956}\n",
      "Trial 69 completed rungs: {'completed_rung_0': 0.8418295979499817}\n",
      "Trial 70 completed rungs: {'completed_rung_0': 0.8457410335540771}\n",
      "Trial 71 completed rungs: {'completed_rung_0': 0.812113344669342}\n",
      "Trial 72 completed rungs: {'completed_rung_0': 0.7839457988739014}\n",
      "Trial 73 completed rungs: {'completed_rung_0': 0.8373441100120544}\n",
      "Trial 74 completed rungs: {'completed_rung_0': 0.8450236320495605}\n",
      "Trial 75 completed rungs: {'completed_rung_0': 0.8233034014701843}\n",
      "Trial 76 completed rungs: {'completed_rung_0': 0.8579879999160767, 'completed_rung_1': 0.910801887512207}\n",
      "Trial 77 completed rungs: {'completed_rung_0': 0.8558089137077332, 'completed_rung_1': 0.9085248112678528}\n",
      "Trial 78 completed rungs: {'completed_rung_0': 0.8570546507835388, 'completed_rung_1': 0.9091438055038452}\n",
      "Trial 79 completed rungs: {'completed_rung_0': 0.8447964191436768}\n",
      "Trial 80 completed rungs: {'completed_rung_0': 0.852321982383728}\n",
      "Trial 81 completed rungs: {'completed_rung_0': 0.8561325073242188, 'completed_rung_1': 0.9084955453872681}\n",
      "Trial 82 completed rungs: {'completed_rung_0': 0.8534571528434753}\n",
      "Trial 83 completed rungs: {'completed_rung_0': 0.8390992879867554}\n",
      "Trial 84 completed rungs: {'completed_rung_0': 0.8451098203659058}\n",
      "Trial 85 completed rungs: {'completed_rung_0': 0.8162681460380554}\n",
      "Trial 86 completed rungs: {'completed_rung_0': 0.8475999236106873}\n",
      "Trial 87 completed rungs: {'completed_rung_0': 0.8431057333946228}\n",
      "Trial 88 completed rungs: {'completed_rung_0': 0.8527588844299316}\n",
      "Trial 89 completed rungs: {'completed_rung_0': 0.8403793573379517}\n",
      "Trial 90 completed rungs: {'completed_rung_0': 0.8495503067970276}\n",
      "Trial 91 completed rungs: {'completed_rung_0': 0.8537377715110779, 'completed_rung_1': 0.9060950875282288}\n",
      "Trial 92 completed rungs: {'completed_rung_0': 0.8527792692184448}\n",
      "Trial 93 completed rungs: {'completed_rung_0': 0.8525881171226501}\n",
      "Trial 94 completed rungs: {'completed_rung_0': 0.8504664301872253}\n",
      "Trial 95 completed rungs: {'completed_rung_0': 0.8576775789260864, 'completed_rung_1': 0.9113542437553406}\n",
      "Trial 96 completed rungs: {'completed_rung_0': 0.8438981771469116}\n",
      "Trial 97 completed rungs: {'completed_rung_0': 0.8467656373977661}\n",
      "Trial 98 completed rungs: {'completed_rung_0': 0.8529674410820007}\n",
      "Trial 99 completed rungs: {'completed_rung_0': 0.8277586102485657}\n",
      "Study statistics: \n",
      "  Number of finished trials:  100\n",
      "  Number of pruned trials:  90\n",
      "  Number of complete trials:  10\n",
      "Best trial:\n",
      "  Value:  0.9569110870361328\n",
      "  Params: \n",
      "    lr: 0.09509262497112882\n",
      "    units: 34\n"
     ]
    }
   ],
   "source": [
    "import tensorflow as tf\n",
    "from tensorflow.python.keras import Sequential\n",
    "from tensorflow.python.keras.callbacks import EarlyStopping\n",
    "from tensorflow.python.keras.layers import Dense\n",
    "from tensorflow.python.keras.optimizer_v2.gradient_descent import SGD\n",
    "from scikeras.wrappers import KerasClassifier\n",
    "from imblearn.over_sampling import RandomOverSampler\n",
    "import optuna\n",
    "from optuna.samplers import TPESampler\n",
    "from optuna.pruners import SuccessiveHalvingPruner\n",
    "from optuna.integration import TFKerasPruningCallback\n",
    "from optuna.trial import TrialState\n",
    "from tensorflow_addons.metrics import F1Score\n",
    "from keras.utils import to_categorical\n",
    "import scipy\n",
    "\n",
    "\n",
    "\n",
    "def convert_sparse_matrix_to_sparse_tensor(X):\n",
    "    coo = X.tocoo()\n",
    "    indices = np.mat([coo.row, coo.col]).transpose()\n",
    "    return tf.SparseTensor(indices, coo.data, coo.shape)\n",
    "\n",
    "tf_x_val_trainvec = convert_sparse_matrix_to_sparse_tensor(x_val_trainvec)\n",
    "tf_x_val_testvec = convert_sparse_matrix_to_sparse_tensor(x_val_testvec)\n",
    "tf_x_trainvec = convert_sparse_matrix_to_sparse_tensor(x_trainvec)\n",
    "\n",
    "def create_model(trial, X):\n",
    "    lr = trial.suggest_uniform('lr', 0.00001, 0.1)\n",
    "    units = trial.suggest_int('units', 10, 50)\n",
    "    input_dim = X\n",
    "\n",
    "    model = Sequential()\n",
    "    model.add(Dense(units, input_dim=input_dim, activation = 'relu', kernel_initializer='he_uniform'))\n",
    "    model.add(Dense(1, activation='sigmoid'))\n",
    "\n",
    "    optimizer = SGD(learning_rate=lr, momentum=0.9)\n",
    "\n",
    "    \n",
    "\n",
    "    model.compile(loss='binary_crossentropy', \n",
    "                    optimizer=optimizer, \n",
    "                    metrics=['accuracy', F1Score(num_classes=1, average= 'micro',threshold=0.5, name='tf_f1')])\n",
    "    return model\n",
    "            \n",
    "\n",
    "def objective_mlp(trial):\n",
    "\n",
    "    model = create_model(trial, x_val_trainvec.shape[1])\n",
    "\n",
    "    callbacks = [EarlyStopping(monitor='val_tf_f1', mode='max', min_delta=0.01, patience=3, verbose=1), TFKerasPruningCallback(trial,'val_tf_f1')]\n",
    "\n",
    "    fit_model = model.fit(x=tf_x_val_trainvec, y=tf.convert_to_tensor(y_val_train), epochs =50, verbose=1, batch_size= 50, callbacks=callbacks, validation_data=(tf_x_val_testvec,tf.convert_to_tensor(y_val_test)))\n",
    "\n",
    "    return fit_model.history['val_tf_f1'][-1]\n",
    "\n",
    "def show_result(study):\n",
    "\n",
    "    pruned_trials = study.get_trials(deepcopy=False, states=[TrialState.PRUNED])\n",
    "    complete_trials = study.get_trials(deepcopy=False, states=[TrialState.COMPLETE])\n",
    "\n",
    "    trial_idx = 0\n",
    "    for frozen_trial in study.get_trials(deepcopy=False):\n",
    "\n",
    "        print(\"Trial {} completed rungs: {}\".format(trial_idx, frozen_trial.system_attrs))\n",
    "        trial_idx +=1\n",
    "\n",
    "    print(\"Study statistics: \")\n",
    "    print(\"  Number of finished trials: \", len(study.trials))\n",
    "    print(\"  Number of pruned trials: \", len(pruned_trials))\n",
    "    print(\"  Number of complete trials: \", len(complete_trials))\n",
    "\n",
    "    print(\"Best trial:\")\n",
    "    trial = study.best_trial\n",
    "\n",
    "    print(\"  Value: \", trial.value)\n",
    "\n",
    "    print(\"  Params: \")\n",
    "    for key, value in trial.params.items():\n",
    "        print(\"    {}: {}\".format(key, value))\n",
    "\n",
    "study = optuna.create_study(\n",
    "    direction=\"maximize\",sampler= TPESampler(),  pruner=SuccessiveHalvingPruner()\n",
    ")\n",
    "study.optimize(objective_mlp, n_trials=100)\n",
    "\n",
    "show_result(study)\n",
    "\n"
   ]
  },
  {
   "cell_type": "code",
   "execution_count": 16,
   "metadata": {},
   "outputs": [
    {
     "name": "stdout",
     "output_type": "stream",
     "text": [
      "Epoch 1/50\n"
     ]
    },
    {
     "name": "stderr",
     "output_type": "stream",
     "text": [
      "c:\\Users\\Lim Jia Hui\\Desktop\\Python\\lib\\site-packages\\tensorflow\\python\\framework\\indexed_slices.py:444: UserWarning: Converting sparse IndexedSlices(IndexedSlices(indices=Tensor(\"gradient_tape/sequential_100/dense_200/embedding_lookup_sparse/Reshape_1:0\", shape=(None,), dtype=int32), values=Tensor(\"gradient_tape/sequential_100/dense_200/embedding_lookup_sparse/Reshape:0\", shape=(None, 34), dtype=float32), dense_shape=Tensor(\"gradient_tape/sequential_100/dense_200/embedding_lookup_sparse/Cast:0\", shape=(2,), dtype=int32))) to a dense Tensor of unknown shape. This may consume a large amount of memory.\n",
      "  warnings.warn(\n"
     ]
    },
    {
     "name": "stdout",
     "output_type": "stream",
     "text": [
      "2214/2214 [==============================] - 11s 5ms/step - loss: 0.4229 - accuracy: 0.8044 - tf_f1: 0.7439\n",
      "Epoch 2/50\n",
      "2214/2214 [==============================] - 11s 5ms/step - loss: 0.3017 - accuracy: 0.8754 - tf_f1: 0.8236\n",
      "Epoch 3/50\n",
      "2214/2214 [==============================] - 11s 5ms/step - loss: 0.2226 - accuracy: 0.9156 - tf_f1: 0.8528\n",
      "Epoch 4/50\n",
      "2214/2214 [==============================] - 11s 5ms/step - loss: 0.1693 - accuracy: 0.9391 - tf_f1: 0.8742\n",
      "Epoch 5/50\n",
      "2214/2214 [==============================] - 11s 5ms/step - loss: 0.1285 - accuracy: 0.9557 - tf_f1: 0.8902\n",
      "Epoch 6/50\n",
      "2214/2214 [==============================] - 11s 5ms/step - loss: 0.1007 - accuracy: 0.9662 - tf_f1: 0.9032\n",
      "Epoch 7/50\n",
      "2214/2214 [==============================] - 11s 5ms/step - loss: 0.0821 - accuracy: 0.9726 - tf_f1: 0.9132\n",
      "Epoch 8/50\n",
      "2214/2214 [==============================] - 11s 5ms/step - loss: 0.0711 - accuracy: 0.9766 - tf_f1: 0.9215\n",
      "Epoch 9/50\n",
      "2214/2214 [==============================] - 11s 5ms/step - loss: 0.0647 - accuracy: 0.9786 - tf_f1: 0.9281\n",
      "Epoch 10/50\n",
      "2214/2214 [==============================] - 11s 5ms/step - loss: 0.0575 - accuracy: 0.9810 - tf_f1: 0.9336\n",
      "Epoch 11/50\n",
      "2214/2214 [==============================] - 11s 5ms/step - loss: 0.0527 - accuracy: 0.9825 - tf_f1: 0.9382\n",
      "Epoch 12/50\n",
      "2214/2214 [==============================] - 11s 5ms/step - loss: 0.0497 - accuracy: 0.9834 - tf_f1: 0.9421\n",
      "Epoch 13/50\n",
      "2214/2214 [==============================] - 11s 5ms/step - loss: 0.0459 - accuracy: 0.9849 - tf_f1: 0.9455\n",
      "Epoch 14/50\n",
      "2214/2214 [==============================] - 11s 5ms/step - loss: 0.0426 - accuracy: 0.9856 - tf_f1: 0.9484\n",
      "Epoch 15/50\n",
      "2214/2214 [==============================] - 11s 5ms/step - loss: 0.0408 - accuracy: 0.9865 - tf_f1: 0.9510\n",
      "Epoch 16/50\n",
      "2214/2214 [==============================] - 11s 5ms/step - loss: 0.0394 - accuracy: 0.9866 - tf_f1: 0.9533\n",
      "Epoch 17/50\n",
      "2214/2214 [==============================] - 11s 5ms/step - loss: 0.0382 - accuracy: 0.9872 - tf_f1: 0.9554\n",
      "Epoch 00017: early stopping\n",
      "Epoch 1/50\n"
     ]
    },
    {
     "name": "stderr",
     "output_type": "stream",
     "text": [
      "c:\\Users\\Lim Jia Hui\\Desktop\\Python\\lib\\site-packages\\tensorflow\\python\\framework\\indexed_slices.py:444: UserWarning: Converting sparse IndexedSlices(IndexedSlices(indices=Tensor(\"gradient_tape/sequential_101/dense_202/embedding_lookup_sparse/Reshape_1:0\", shape=(None,), dtype=int32), values=Tensor(\"gradient_tape/sequential_101/dense_202/embedding_lookup_sparse/Reshape:0\", shape=(None, 34), dtype=float32), dense_shape=Tensor(\"gradient_tape/sequential_101/dense_202/embedding_lookup_sparse/Cast:0\", shape=(2,), dtype=int32))) to a dense Tensor of unknown shape. This may consume a large amount of memory.\n",
      "  warnings.warn(\n"
     ]
    },
    {
     "name": "stdout",
     "output_type": "stream",
     "text": [
      "2767/2767 [==============================] - 14s 5ms/step - loss: 0.4175 - accuracy: 0.8074 - tf_f1: 0.7543\n",
      "Epoch 2/50\n",
      "2767/2767 [==============================] - 13s 5ms/step - loss: 0.2945 - accuracy: 0.8789 - tf_f1: 0.8269\n",
      "Epoch 3/50\n",
      "2767/2767 [==============================] - 13s 5ms/step - loss: 0.2253 - accuracy: 0.9127 - tf_f1: 0.8547\n",
      "Epoch 4/50\n",
      "2767/2767 [==============================] - 13s 5ms/step - loss: 0.1766 - accuracy: 0.9342 - tf_f1: 0.8743\n",
      "Epoch 5/50\n",
      "2767/2767 [==============================] - 13s 5ms/step - loss: 0.1399 - accuracy: 0.9504 - tf_f1: 0.8894\n",
      "Epoch 6/50\n",
      "2767/2767 [==============================] - 13s 5ms/step - loss: 0.1149 - accuracy: 0.9606 - tf_f1: 0.9016\n",
      "Epoch 7/50\n",
      "2767/2767 [==============================] - 13s 5ms/step - loss: 0.0955 - accuracy: 0.9674 - tf_f1: 0.9111\n",
      "Epoch 8/50\n",
      "2767/2767 [==============================] - 13s 5ms/step - loss: 0.0851 - accuracy: 0.9712 - tf_f1: 0.9189\n",
      "Epoch 9/50\n",
      "2767/2767 [==============================] - 13s 5ms/step - loss: 0.0744 - accuracy: 0.9753 - tf_f1: 0.9253\n",
      "Epoch 10/50\n",
      "2767/2767 [==============================] - 13s 5ms/step - loss: 0.0652 - accuracy: 0.9783 - tf_f1: 0.9307\n",
      "Epoch 11/50\n",
      "2767/2767 [==============================] - 13s 5ms/step - loss: 0.0601 - accuracy: 0.9805 - tf_f1: 0.9354\n",
      "Epoch 12/50\n",
      "2767/2767 [==============================] - 13s 5ms/step - loss: 0.0549 - accuracy: 0.9820 - tf_f1: 0.9394\n",
      "Epoch 13/50\n",
      "2767/2767 [==============================] - 13s 5ms/step - loss: 0.0547 - accuracy: 0.9815 - tf_f1: 0.9428\n",
      "Epoch 14/50\n",
      "2767/2767 [==============================] - 13s 5ms/step - loss: 0.0497 - accuracy: 0.9836 - tf_f1: 0.9457\n",
      "Epoch 15/50\n",
      "2767/2767 [==============================] - 13s 5ms/step - loss: 0.0477 - accuracy: 0.9846 - tf_f1: 0.9483\n",
      "Epoch 16/50\n",
      "2767/2767 [==============================] - 13s 5ms/step - loss: 0.0444 - accuracy: 0.9853 - tf_f1: 0.9507\n",
      "Epoch 00016: early stopping\n"
     ]
    }
   ],
   "source": [
    "from sklearn.metrics import accuracy_score\n",
    "from sklearn.metrics import f1_score\n",
    "from sklearn.metrics import confusion_matrix\n",
    "from sklearn.metrics import classification_report\n",
    "\n",
    "best_mlp_model_val = create_model(study.best_trial, x_val_trainvec.shape[1])\n",
    "best_mlp_model_test = create_model(study.best_trial, x_trainvec.shape[1])\n",
    "\n",
    "best_mlp_model_val.fit(x=x_val_trainvec, y=tf.convert_to_tensor(y_val_train), epochs =50, verbose=1, batch_size= 50, callbacks=EarlyStopping(monitor='tf_f1', mode='max', min_delta=0.01, patience=3, verbose=1))\n",
    "best_mlp_model_test.fit(x=x_trainvec, y=tf.convert_to_tensor(y_train), epochs =50, verbose=1, batch_size= 50, callbacks=EarlyStopping(monitor='tf_f1', mode='max', min_delta=0.01, patience=3, verbose=1))\n",
    "\n",
    "mlp_val_train_predictions = best_mlp_model_val.predict(x_val_trainvec)\n",
    "mlp_val_test_predictions = best_mlp_model_val.predict(x_val_testvec)\n",
    "mlp_test_predictions = best_mlp_model_test.predict(x_testvec)\n",
    "\n",
    "mlp_val_train_predictions [mlp_val_train_predictions  <= 0.5] = 0\n",
    "mlp_val_train_predictions [mlp_val_train_predictions  > 0.5] = 1\n",
    "mlp_val_test_predictions[mlp_val_test_predictions <= 0.5] = 0\n",
    "mlp_val_test_predictions[mlp_val_test_predictions > 0.5] = 1\n",
    "mlp_test_predictions[mlp_test_predictions <= 0.5] = 0\n",
    "mlp_test_predictions[mlp_test_predictions > 0.5] = 1\n",
    "\n"
   ]
  },
  {
   "cell_type": "markdown",
   "metadata": {},
   "source": [
    "### MLP Validation Set Evaluation"
   ]
  },
  {
   "cell_type": "code",
   "execution_count": 17,
   "metadata": {},
   "outputs": [
    {
     "name": "stdout",
     "output_type": "stream",
     "text": [
      "MLP Validation Train Accuracy Score : 0.987104644858124\n",
      "MLP Validation Test Accuracy Score : 0.9219135185555334\n",
      "MLP Validation Train F1 Score : 0.9871996124900208\n",
      "MLP Validation Test F1 Score : 0.9579988532110093\n",
      "MLP Validation Confusion matrix:\n",
      "[[  471   704]\n",
      " [  468 13366]]\n",
      "MLP Validation Classification report:\n",
      "               precision    recall  f1-score   support\n",
      "\n",
      "           0       0.50      0.40      0.45      1175\n",
      "           1       0.95      0.97      0.96     13834\n",
      "\n",
      "    accuracy                           0.92     15009\n",
      "   macro avg       0.73      0.68      0.70     15009\n",
      "weighted avg       0.91      0.92      0.92     15009\n",
      "\n"
     ]
    }
   ],
   "source": [
    "print(\"MLP Validation Train Accuracy Score :\",accuracy_score(y_pred=mlp_val_train_predictions, y_true=y_val_train.to_numpy().ravel()))\n",
    "print(\"MLP Validation Test Accuracy Score :\",accuracy_score(y_pred=mlp_val_test_predictions, y_true= y_val_test.to_numpy().ravel()))\n",
    "\n",
    "print(\"MLP Validation Train F1 Score :\",f1_score(y_pred=mlp_val_train_predictions, y_true=y_val_train.to_numpy().ravel(), average = 'binary'))\n",
    "print(\"MLP Validation Test F1 Score :\",f1_score(y_pred=mlp_val_test_predictions, y_true=y_val_test.to_numpy().ravel(), average = 'binary'))\n",
    "\n",
    "print(\"MLP Validation Confusion matrix:\\n{}\".format(confusion_matrix(y_pred=mlp_val_test_predictions,y_true= y_val_test.to_numpy().ravel())))\n",
    "print(\"MLP Validation Classification report:\\n\",classification_report(y_pred=mlp_val_test_predictions,  y_true= y_val_test.to_numpy().ravel()))"
   ]
  },
  {
   "cell_type": "markdown",
   "metadata": {},
   "source": [
    "### Random Forest Classifier"
   ]
  },
  {
   "cell_type": "code",
   "execution_count": 18,
   "metadata": {},
   "outputs": [
    {
     "name": "stdout",
     "output_type": "stream",
     "text": [
      "n_iterations: 3\n",
      "n_required_iterations: 3\n",
      "n_possible_iterations: 3\n",
      "min_resources_: 5533\n",
      "max_resources_: 138328\n",
      "aggressive_elimination: False\n",
      "factor: 5\n",
      "----------\n",
      "iter: 0\n",
      "n_candidates: 100\n",
      "n_resources: 5533\n",
      "Fitting 5 folds for each of 100 candidates, totalling 500 fits\n",
      "[CV 1/5; 1/100] START rfc__max_depth=1, rfc__n_estimators=1.....................\n",
      "[CV 1/5; 1/100] END rfc__max_depth=1, rfc__n_estimators=1;, score=(train=0.680, test=0.665) total time=   0.8s\n",
      "[CV 2/5; 1/100] START rfc__max_depth=1, rfc__n_estimators=1.....................\n",
      "[CV 2/5; 1/100] END rfc__max_depth=1, rfc__n_estimators=1;, score=(train=0.669, test=0.676) total time=   0.5s\n",
      "[CV 3/5; 1/100] START rfc__max_depth=1, rfc__n_estimators=1.....................\n",
      "[CV 3/5; 1/100] END rfc__max_depth=1, rfc__n_estimators=1;, score=(train=0.000, test=0.000) total time=   0.5s\n",
      "[CV 4/5; 1/100] START rfc__max_depth=1, rfc__n_estimators=1.....................\n",
      "[CV 4/5; 1/100] END rfc__max_depth=1, rfc__n_estimators=1;, score=(train=0.672, test=0.663) total time=   0.0s\n",
      "[CV 5/5; 1/100] START rfc__max_depth=1, rfc__n_estimators=1.....................\n",
      "[CV 5/5; 1/100] END rfc__max_depth=1, rfc__n_estimators=1;, score=(train=0.665, test=0.659) total time=   0.0s\n",
      "[CV 1/5; 2/100] START rfc__max_depth=1, rfc__n_estimators=51....................\n",
      "[CV 1/5; 2/100] END rfc__max_depth=1, rfc__n_estimators=51;, score=(train=0.683, test=0.669) total time=   0.0s\n",
      "[CV 2/5; 2/100] START rfc__max_depth=1, rfc__n_estimators=51....................\n",
      "[CV 2/5; 2/100] END rfc__max_depth=1, rfc__n_estimators=51;, score=(train=0.692, test=0.695) total time=   0.0s\n",
      "[CV 3/5; 2/100] START rfc__max_depth=1, rfc__n_estimators=51....................\n",
      "[CV 3/5; 2/100] END rfc__max_depth=1, rfc__n_estimators=51;, score=(train=0.668, test=0.684) total time=   0.0s\n",
      "[CV 4/5; 2/100] START rfc__max_depth=1, rfc__n_estimators=51....................\n",
      "[CV 4/5; 2/100] END rfc__max_depth=1, rfc__n_estimators=51;, score=(train=0.695, test=0.695) total time=   0.0s\n",
      "[CV 5/5; 2/100] START rfc__max_depth=1, rfc__n_estimators=51....................\n",
      "[CV 5/5; 2/100] END rfc__max_depth=1, rfc__n_estimators=51;, score=(train=0.699, test=0.674) total time=   0.0s\n",
      "[CV 1/5; 3/100] START rfc__max_depth=1, rfc__n_estimators=101...................\n",
      "[CV 1/5; 3/100] END rfc__max_depth=1, rfc__n_estimators=101;, score=(train=0.706, test=0.695) total time=   0.1s\n",
      "[CV 2/5; 3/100] START rfc__max_depth=1, rfc__n_estimators=101...................\n",
      "[CV 2/5; 3/100] END rfc__max_depth=1, rfc__n_estimators=101;, score=(train=0.700, test=0.702) total time=   0.1s\n",
      "[CV 3/5; 3/100] START rfc__max_depth=1, rfc__n_estimators=101...................\n",
      "[CV 3/5; 3/100] END rfc__max_depth=1, rfc__n_estimators=101;, score=(train=0.679, test=0.695) total time=   0.1s\n",
      "[CV 4/5; 3/100] START rfc__max_depth=1, rfc__n_estimators=101...................\n",
      "[CV 4/5; 3/100] END rfc__max_depth=1, rfc__n_estimators=101;, score=(train=0.719, test=0.703) total time=   0.1s\n",
      "[CV 5/5; 3/100] START rfc__max_depth=1, rfc__n_estimators=101...................\n",
      "[CV 5/5; 3/100] END rfc__max_depth=1, rfc__n_estimators=101;, score=(train=0.707, test=0.665) total time=   0.1s\n",
      "[CV 1/5; 4/100] START rfc__max_depth=1, rfc__n_estimators=151...................\n",
      "[CV 1/5; 4/100] END rfc__max_depth=1, rfc__n_estimators=151;, score=(train=0.730, test=0.712) total time=   0.2s\n",
      "[CV 2/5; 4/100] START rfc__max_depth=1, rfc__n_estimators=151...................\n",
      "[CV 2/5; 4/100] END rfc__max_depth=1, rfc__n_estimators=151;, score=(train=0.699, test=0.703) total time=   0.2s\n",
      "[CV 3/5; 4/100] START rfc__max_depth=1, rfc__n_estimators=151...................\n",
      "[CV 3/5; 4/100] END rfc__max_depth=1, rfc__n_estimators=151;, score=(train=0.686, test=0.708) total time=   0.2s\n",
      "[CV 4/5; 4/100] START rfc__max_depth=1, rfc__n_estimators=151...................\n",
      "[CV 4/5; 4/100] END rfc__max_depth=1, rfc__n_estimators=151;, score=(train=0.724, test=0.712) total time=   0.1s\n",
      "[CV 5/5; 4/100] START rfc__max_depth=1, rfc__n_estimators=151...................\n",
      "[CV 5/5; 4/100] END rfc__max_depth=1, rfc__n_estimators=151;, score=(train=0.711, test=0.683) total time=   0.1s\n",
      "[CV 1/5; 5/100] START rfc__max_depth=1, rfc__n_estimators=201...................\n",
      "[CV 1/5; 5/100] END rfc__max_depth=1, rfc__n_estimators=201;, score=(train=0.731, test=0.706) total time=   0.2s\n",
      "[CV 2/5; 5/100] START rfc__max_depth=1, rfc__n_estimators=201...................\n",
      "[CV 2/5; 5/100] END rfc__max_depth=1, rfc__n_estimators=201;, score=(train=0.703, test=0.723) total time=   0.2s\n",
      "[CV 3/5; 5/100] START rfc__max_depth=1, rfc__n_estimators=201...................\n",
      "[CV 3/5; 5/100] END rfc__max_depth=1, rfc__n_estimators=201;, score=(train=0.698, test=0.708) total time=   0.2s\n",
      "[CV 4/5; 5/100] START rfc__max_depth=1, rfc__n_estimators=201...................\n",
      "[CV 4/5; 5/100] END rfc__max_depth=1, rfc__n_estimators=201;, score=(train=0.732, test=0.720) total time=   0.2s\n",
      "[CV 5/5; 5/100] START rfc__max_depth=1, rfc__n_estimators=201...................\n",
      "[CV 5/5; 5/100] END rfc__max_depth=1, rfc__n_estimators=201;, score=(train=0.713, test=0.686) total time=   0.2s\n",
      "[CV 1/5; 6/100] START rfc__max_depth=1, rfc__n_estimators=251...................\n",
      "[CV 1/5; 6/100] END rfc__max_depth=1, rfc__n_estimators=251;, score=(train=0.732, test=0.717) total time=   0.3s\n",
      "[CV 2/5; 6/100] START rfc__max_depth=1, rfc__n_estimators=251...................\n",
      "[CV 2/5; 6/100] END rfc__max_depth=1, rfc__n_estimators=251;, score=(train=0.706, test=0.710) total time=   0.3s\n",
      "[CV 3/5; 6/100] START rfc__max_depth=1, rfc__n_estimators=251...................\n",
      "[CV 3/5; 6/100] END rfc__max_depth=1, rfc__n_estimators=251;, score=(train=0.697, test=0.722) total time=   0.3s\n",
      "[CV 4/5; 6/100] START rfc__max_depth=1, rfc__n_estimators=251...................\n",
      "[CV 4/5; 6/100] END rfc__max_depth=1, rfc__n_estimators=251;, score=(train=0.724, test=0.717) total time=   0.3s\n",
      "[CV 5/5; 6/100] START rfc__max_depth=1, rfc__n_estimators=251...................\n",
      "[CV 5/5; 6/100] END rfc__max_depth=1, rfc__n_estimators=251;, score=(train=0.713, test=0.689) total time=   0.3s\n",
      "[CV 1/5; 7/100] START rfc__max_depth=1, rfc__n_estimators=301...................\n",
      "[CV 1/5; 7/100] END rfc__max_depth=1, rfc__n_estimators=301;, score=(train=0.728, test=0.710) total time=   0.3s\n",
      "[CV 2/5; 7/100] START rfc__max_depth=1, rfc__n_estimators=301...................\n",
      "[CV 2/5; 7/100] END rfc__max_depth=1, rfc__n_estimators=301;, score=(train=0.716, test=0.715) total time=   0.3s\n",
      "[CV 3/5; 7/100] START rfc__max_depth=1, rfc__n_estimators=301...................\n",
      "[CV 3/5; 7/100] END rfc__max_depth=1, rfc__n_estimators=301;, score=(train=0.701, test=0.710) total time=   0.3s\n",
      "[CV 4/5; 7/100] START rfc__max_depth=1, rfc__n_estimators=301...................\n",
      "[CV 4/5; 7/100] END rfc__max_depth=1, rfc__n_estimators=301;, score=(train=0.724, test=0.717) total time=   0.3s\n",
      "[CV 5/5; 7/100] START rfc__max_depth=1, rfc__n_estimators=301...................\n",
      "[CV 5/5; 7/100] END rfc__max_depth=1, rfc__n_estimators=301;, score=(train=0.720, test=0.696) total time=   0.3s\n",
      "[CV 1/5; 8/100] START rfc__max_depth=1, rfc__n_estimators=351...................\n",
      "[CV 1/5; 8/100] END rfc__max_depth=1, rfc__n_estimators=351;, score=(train=0.735, test=0.717) total time=   0.4s\n",
      "[CV 2/5; 8/100] START rfc__max_depth=1, rfc__n_estimators=351...................\n",
      "[CV 2/5; 8/100] END rfc__max_depth=1, rfc__n_estimators=351;, score=(train=0.719, test=0.720) total time=   0.4s\n",
      "[CV 3/5; 8/100] START rfc__max_depth=1, rfc__n_estimators=351...................\n",
      "[CV 3/5; 8/100] END rfc__max_depth=1, rfc__n_estimators=351;, score=(train=0.705, test=0.712) total time=   0.4s\n",
      "[CV 4/5; 8/100] START rfc__max_depth=1, rfc__n_estimators=351...................\n",
      "[CV 4/5; 8/100] END rfc__max_depth=1, rfc__n_estimators=351;, score=(train=0.725, test=0.712) total time=   0.4s\n",
      "[CV 5/5; 8/100] START rfc__max_depth=1, rfc__n_estimators=351...................\n",
      "[CV 5/5; 8/100] END rfc__max_depth=1, rfc__n_estimators=351;, score=(train=0.719, test=0.700) total time=   0.4s\n",
      "[CV 1/5; 9/100] START rfc__max_depth=1, rfc__n_estimators=401...................\n",
      "[CV 1/5; 9/100] END rfc__max_depth=1, rfc__n_estimators=401;, score=(train=0.735, test=0.724) total time=   0.5s\n",
      "[CV 2/5; 9/100] START rfc__max_depth=1, rfc__n_estimators=401...................\n",
      "[CV 2/5; 9/100] END rfc__max_depth=1, rfc__n_estimators=401;, score=(train=0.721, test=0.723) total time=   0.5s\n",
      "[CV 3/5; 9/100] START rfc__max_depth=1, rfc__n_estimators=401...................\n",
      "[CV 3/5; 9/100] END rfc__max_depth=1, rfc__n_estimators=401;, score=(train=0.703, test=0.705) total time=   0.5s\n",
      "[CV 4/5; 9/100] START rfc__max_depth=1, rfc__n_estimators=401...................\n",
      "[CV 4/5; 9/100] END rfc__max_depth=1, rfc__n_estimators=401;, score=(train=0.727, test=0.711) total time=   0.4s\n",
      "[CV 5/5; 9/100] START rfc__max_depth=1, rfc__n_estimators=401...................\n",
      "[CV 5/5; 9/100] END rfc__max_depth=1, rfc__n_estimators=401;, score=(train=0.719, test=0.701) total time=   0.4s\n",
      "[CV 1/5; 10/100] START rfc__max_depth=1, rfc__n_estimators=451..................\n",
      "[CV 1/5; 10/100] END rfc__max_depth=1, rfc__n_estimators=451;, score=(train=0.737, test=0.724) total time=   0.5s\n",
      "[CV 2/5; 10/100] START rfc__max_depth=1, rfc__n_estimators=451..................\n",
      "[CV 2/5; 10/100] END rfc__max_depth=1, rfc__n_estimators=451;, score=(train=0.718, test=0.717) total time=   0.5s\n",
      "[CV 3/5; 10/100] START rfc__max_depth=1, rfc__n_estimators=451..................\n",
      "[CV 3/5; 10/100] END rfc__max_depth=1, rfc__n_estimators=451;, score=(train=0.702, test=0.711) total time=   0.5s\n",
      "[CV 4/5; 10/100] START rfc__max_depth=1, rfc__n_estimators=451..................\n",
      "[CV 4/5; 10/100] END rfc__max_depth=1, rfc__n_estimators=451;, score=(train=0.724, test=0.705) total time=   0.5s\n",
      "[CV 5/5; 10/100] START rfc__max_depth=1, rfc__n_estimators=451..................\n",
      "[CV 5/5; 10/100] END rfc__max_depth=1, rfc__n_estimators=451;, score=(train=0.721, test=0.704) total time=   0.5s\n",
      "[CV 1/5; 11/100] START rfc__max_depth=6, rfc__n_estimators=1....................\n",
      "[CV 1/5; 11/100] END rfc__max_depth=6, rfc__n_estimators=1;, score=(train=0.684, test=0.676) total time=   0.0s\n",
      "[CV 2/5; 11/100] START rfc__max_depth=6, rfc__n_estimators=1....................\n",
      "[CV 2/5; 11/100] END rfc__max_depth=6, rfc__n_estimators=1;, score=(train=0.685, test=0.685) total time=   0.0s\n",
      "[CV 3/5; 11/100] START rfc__max_depth=6, rfc__n_estimators=1....................\n",
      "[CV 3/5; 11/100] END rfc__max_depth=6, rfc__n_estimators=1;, score=(train=0.666, test=0.681) total time=   0.0s\n",
      "[CV 4/5; 11/100] START rfc__max_depth=6, rfc__n_estimators=1....................\n",
      "[CV 4/5; 11/100] END rfc__max_depth=6, rfc__n_estimators=1;, score=(train=0.370, test=0.328) total time=   0.0s\n",
      "[CV 5/5; 11/100] START rfc__max_depth=6, rfc__n_estimators=1....................\n",
      "[CV 5/5; 11/100] END rfc__max_depth=6, rfc__n_estimators=1;, score=(train=0.673, test=0.662) total time=   0.0s\n",
      "[CV 1/5; 12/100] START rfc__max_depth=6, rfc__n_estimators=51...................\n",
      "[CV 1/5; 12/100] END rfc__max_depth=6, rfc__n_estimators=51;, score=(train=0.743, test=0.712) total time=   0.1s\n",
      "[CV 2/5; 12/100] START rfc__max_depth=6, rfc__n_estimators=51...................\n",
      "[CV 2/5; 12/100] END rfc__max_depth=6, rfc__n_estimators=51;, score=(train=0.749, test=0.734) total time=   0.1s\n",
      "[CV 3/5; 12/100] START rfc__max_depth=6, rfc__n_estimators=51...................\n",
      "[CV 3/5; 12/100] END rfc__max_depth=6, rfc__n_estimators=51;, score=(train=0.729, test=0.720) total time=   0.1s\n",
      "[CV 4/5; 12/100] START rfc__max_depth=6, rfc__n_estimators=51...................\n",
      "[CV 4/5; 12/100] END rfc__max_depth=6, rfc__n_estimators=51;, score=(train=0.764, test=0.722) total time=   0.0s\n",
      "[CV 5/5; 12/100] START rfc__max_depth=6, rfc__n_estimators=51...................\n",
      "[CV 5/5; 12/100] END rfc__max_depth=6, rfc__n_estimators=51;, score=(train=0.737, test=0.702) total time=   0.1s\n",
      "[CV 1/5; 13/100] START rfc__max_depth=6, rfc__n_estimators=101..................\n",
      "[CV 1/5; 13/100] END rfc__max_depth=6, rfc__n_estimators=101;, score=(train=0.751, test=0.715) total time=   0.2s\n",
      "[CV 2/5; 13/100] START rfc__max_depth=6, rfc__n_estimators=101..................\n",
      "[CV 2/5; 13/100] END rfc__max_depth=6, rfc__n_estimators=101;, score=(train=0.749, test=0.732) total time=   0.2s\n",
      "[CV 3/5; 13/100] START rfc__max_depth=6, rfc__n_estimators=101..................\n",
      "[CV 3/5; 13/100] END rfc__max_depth=6, rfc__n_estimators=101;, score=(train=0.742, test=0.741) total time=   0.2s\n",
      "[CV 4/5; 13/100] START rfc__max_depth=6, rfc__n_estimators=101..................\n",
      "[CV 4/5; 13/100] END rfc__max_depth=6, rfc__n_estimators=101;, score=(train=0.757, test=0.724) total time=   0.2s\n",
      "[CV 5/5; 13/100] START rfc__max_depth=6, rfc__n_estimators=101..................\n",
      "[CV 5/5; 13/100] END rfc__max_depth=6, rfc__n_estimators=101;, score=(train=0.749, test=0.703) total time=   0.2s\n",
      "[CV 1/5; 14/100] START rfc__max_depth=6, rfc__n_estimators=151..................\n",
      "[CV 1/5; 14/100] END rfc__max_depth=6, rfc__n_estimators=151;, score=(train=0.761, test=0.722) total time=   0.3s\n",
      "[CV 2/5; 14/100] START rfc__max_depth=6, rfc__n_estimators=151..................\n",
      "[CV 2/5; 14/100] END rfc__max_depth=6, rfc__n_estimators=151;, score=(train=0.754, test=0.731) total time=   0.3s\n",
      "[CV 3/5; 14/100] START rfc__max_depth=6, rfc__n_estimators=151..................\n",
      "[CV 3/5; 14/100] END rfc__max_depth=6, rfc__n_estimators=151;, score=(train=0.740, test=0.738) total time=   0.3s\n",
      "[CV 4/5; 14/100] START rfc__max_depth=6, rfc__n_estimators=151..................\n",
      "[CV 4/5; 14/100] END rfc__max_depth=6, rfc__n_estimators=151;, score=(train=0.760, test=0.714) total time=   0.3s\n",
      "[CV 5/5; 14/100] START rfc__max_depth=6, rfc__n_estimators=151..................\n",
      "[CV 5/5; 14/100] END rfc__max_depth=6, rfc__n_estimators=151;, score=(train=0.749, test=0.698) total time=   0.3s\n",
      "[CV 1/5; 15/100] START rfc__max_depth=6, rfc__n_estimators=201..................\n",
      "[CV 1/5; 15/100] END rfc__max_depth=6, rfc__n_estimators=201;, score=(train=0.761, test=0.720) total time=   0.4s\n",
      "[CV 2/5; 15/100] START rfc__max_depth=6, rfc__n_estimators=201..................\n",
      "[CV 2/5; 15/100] END rfc__max_depth=6, rfc__n_estimators=201;, score=(train=0.755, test=0.736) total time=   0.4s\n",
      "[CV 3/5; 15/100] START rfc__max_depth=6, rfc__n_estimators=201..................\n",
      "[CV 3/5; 15/100] END rfc__max_depth=6, rfc__n_estimators=201;, score=(train=0.745, test=0.737) total time=   0.4s\n",
      "[CV 4/5; 15/100] START rfc__max_depth=6, rfc__n_estimators=201..................\n",
      "[CV 4/5; 15/100] END rfc__max_depth=6, rfc__n_estimators=201;, score=(train=0.762, test=0.716) total time=   0.4s\n",
      "[CV 5/5; 15/100] START rfc__max_depth=6, rfc__n_estimators=201..................\n",
      "[CV 5/5; 15/100] END rfc__max_depth=6, rfc__n_estimators=201;, score=(train=0.748, test=0.704) total time=   0.4s\n",
      "[CV 1/5; 16/100] START rfc__max_depth=6, rfc__n_estimators=251..................\n",
      "[CV 1/5; 16/100] END rfc__max_depth=6, rfc__n_estimators=251;, score=(train=0.763, test=0.721) total time=   0.5s\n",
      "[CV 2/5; 16/100] START rfc__max_depth=6, rfc__n_estimators=251..................\n",
      "[CV 2/5; 16/100] END rfc__max_depth=6, rfc__n_estimators=251;, score=(train=0.758, test=0.738) total time=   0.5s\n",
      "[CV 3/5; 16/100] START rfc__max_depth=6, rfc__n_estimators=251..................\n",
      "[CV 3/5; 16/100] END rfc__max_depth=6, rfc__n_estimators=251;, score=(train=0.746, test=0.741) total time=   0.5s\n",
      "[CV 4/5; 16/100] START rfc__max_depth=6, rfc__n_estimators=251..................\n",
      "[CV 4/5; 16/100] END rfc__max_depth=6, rfc__n_estimators=251;, score=(train=0.765, test=0.717) total time=   0.4s\n",
      "[CV 5/5; 16/100] START rfc__max_depth=6, rfc__n_estimators=251..................\n",
      "[CV 5/5; 16/100] END rfc__max_depth=6, rfc__n_estimators=251;, score=(train=0.749, test=0.703) total time=   0.5s\n",
      "[CV 1/5; 17/100] START rfc__max_depth=6, rfc__n_estimators=301..................\n",
      "[CV 1/5; 17/100] END rfc__max_depth=6, rfc__n_estimators=301;, score=(train=0.761, test=0.722) total time=   0.6s\n",
      "[CV 2/5; 17/100] START rfc__max_depth=6, rfc__n_estimators=301..................\n",
      "[CV 2/5; 17/100] END rfc__max_depth=6, rfc__n_estimators=301;, score=(train=0.757, test=0.738) total time=   0.6s\n",
      "[CV 3/5; 17/100] START rfc__max_depth=6, rfc__n_estimators=301..................\n",
      "[CV 3/5; 17/100] END rfc__max_depth=6, rfc__n_estimators=301;, score=(train=0.744, test=0.740) total time=   0.6s\n",
      "[CV 4/5; 17/100] START rfc__max_depth=6, rfc__n_estimators=301..................\n",
      "[CV 4/5; 17/100] END rfc__max_depth=6, rfc__n_estimators=301;, score=(train=0.763, test=0.725) total time=   0.5s\n",
      "[CV 5/5; 17/100] START rfc__max_depth=6, rfc__n_estimators=301..................\n",
      "[CV 5/5; 17/100] END rfc__max_depth=6, rfc__n_estimators=301;, score=(train=0.753, test=0.703) total time=   0.5s\n",
      "[CV 1/5; 18/100] START rfc__max_depth=6, rfc__n_estimators=351..................\n",
      "[CV 1/5; 18/100] END rfc__max_depth=6, rfc__n_estimators=351;, score=(train=0.762, test=0.729) total time=   0.7s\n",
      "[CV 2/5; 18/100] START rfc__max_depth=6, rfc__n_estimators=351..................\n",
      "[CV 2/5; 18/100] END rfc__max_depth=6, rfc__n_estimators=351;, score=(train=0.758, test=0.736) total time=   0.6s\n",
      "[CV 3/5; 18/100] START rfc__max_depth=6, rfc__n_estimators=351..................\n",
      "[CV 3/5; 18/100] END rfc__max_depth=6, rfc__n_estimators=351;, score=(train=0.747, test=0.740) total time=   0.7s\n",
      "[CV 4/5; 18/100] START rfc__max_depth=6, rfc__n_estimators=351..................\n",
      "[CV 4/5; 18/100] END rfc__max_depth=6, rfc__n_estimators=351;, score=(train=0.761, test=0.725) total time=   0.6s\n",
      "[CV 5/5; 18/100] START rfc__max_depth=6, rfc__n_estimators=351..................\n",
      "[CV 5/5; 18/100] END rfc__max_depth=6, rfc__n_estimators=351;, score=(train=0.754, test=0.705) total time=   0.7s\n",
      "[CV 1/5; 19/100] START rfc__max_depth=6, rfc__n_estimators=401..................\n",
      "[CV 1/5; 19/100] END rfc__max_depth=6, rfc__n_estimators=401;, score=(train=0.762, test=0.726) total time=   0.7s\n",
      "[CV 2/5; 19/100] START rfc__max_depth=6, rfc__n_estimators=401..................\n",
      "[CV 2/5; 19/100] END rfc__max_depth=6, rfc__n_estimators=401;, score=(train=0.757, test=0.742) total time=   0.8s\n",
      "[CV 3/5; 19/100] START rfc__max_depth=6, rfc__n_estimators=401..................\n",
      "[CV 3/5; 19/100] END rfc__max_depth=6, rfc__n_estimators=401;, score=(train=0.744, test=0.741) total time=   0.8s\n",
      "[CV 4/5; 19/100] START rfc__max_depth=6, rfc__n_estimators=401..................\n",
      "[CV 4/5; 19/100] END rfc__max_depth=6, rfc__n_estimators=401;, score=(train=0.759, test=0.726) total time=   0.7s\n",
      "[CV 5/5; 19/100] START rfc__max_depth=6, rfc__n_estimators=401..................\n",
      "[CV 5/5; 19/100] END rfc__max_depth=6, rfc__n_estimators=401;, score=(train=0.751, test=0.702) total time=   0.8s\n",
      "[CV 1/5; 20/100] START rfc__max_depth=6, rfc__n_estimators=451..................\n",
      "[CV 1/5; 20/100] END rfc__max_depth=6, rfc__n_estimators=451;, score=(train=0.763, test=0.724) total time=   0.8s\n",
      "[CV 2/5; 20/100] START rfc__max_depth=6, rfc__n_estimators=451..................\n",
      "[CV 2/5; 20/100] END rfc__max_depth=6, rfc__n_estimators=451;, score=(train=0.757, test=0.742) total time=   0.9s\n",
      "[CV 3/5; 20/100] START rfc__max_depth=6, rfc__n_estimators=451..................\n",
      "[CV 3/5; 20/100] END rfc__max_depth=6, rfc__n_estimators=451;, score=(train=0.743, test=0.741) total time=   0.9s\n",
      "[CV 4/5; 20/100] START rfc__max_depth=6, rfc__n_estimators=451..................\n",
      "[CV 4/5; 20/100] END rfc__max_depth=6, rfc__n_estimators=451;, score=(train=0.759, test=0.717) total time=   0.9s\n",
      "[CV 5/5; 20/100] START rfc__max_depth=6, rfc__n_estimators=451..................\n",
      "[CV 5/5; 20/100] END rfc__max_depth=6, rfc__n_estimators=451;, score=(train=0.751, test=0.701) total time=   0.8s\n",
      "[CV 1/5; 21/100] START rfc__max_depth=11, rfc__n_estimators=1...................\n",
      "[CV 1/5; 21/100] END rfc__max_depth=11, rfc__n_estimators=1;, score=(train=0.686, test=0.668) total time=   0.0s\n",
      "[CV 2/5; 21/100] START rfc__max_depth=11, rfc__n_estimators=1...................\n",
      "[CV 2/5; 21/100] END rfc__max_depth=11, rfc__n_estimators=1;, score=(train=0.693, test=0.685) total time=   0.0s\n",
      "[CV 3/5; 21/100] START rfc__max_depth=11, rfc__n_estimators=1...................\n",
      "[CV 3/5; 21/100] END rfc__max_depth=11, rfc__n_estimators=1;, score=(train=0.674, test=0.677) total time=   0.0s\n",
      "[CV 4/5; 21/100] START rfc__max_depth=11, rfc__n_estimators=1...................\n",
      "[CV 4/5; 21/100] END rfc__max_depth=11, rfc__n_estimators=1;, score=(train=0.392, test=0.343) total time=   0.0s\n",
      "[CV 5/5; 21/100] START rfc__max_depth=11, rfc__n_estimators=1...................\n",
      "[CV 5/5; 21/100] END rfc__max_depth=11, rfc__n_estimators=1;, score=(train=0.672, test=0.658) total time=   0.0s\n",
      "[CV 1/5; 22/100] START rfc__max_depth=11, rfc__n_estimators=51..................\n",
      "[CV 1/5; 22/100] END rfc__max_depth=11, rfc__n_estimators=51;, score=(train=0.794, test=0.728) total time=   0.1s\n",
      "[CV 2/5; 22/100] START rfc__max_depth=11, rfc__n_estimators=51..................\n",
      "[CV 2/5; 22/100] END rfc__max_depth=11, rfc__n_estimators=51;, score=(train=0.794, test=0.747) total time=   0.1s\n",
      "[CV 3/5; 22/100] START rfc__max_depth=11, rfc__n_estimators=51..................\n",
      "[CV 3/5; 22/100] END rfc__max_depth=11, rfc__n_estimators=51;, score=(train=0.765, test=0.728) total time=   0.1s\n",
      "[CV 4/5; 22/100] START rfc__max_depth=11, rfc__n_estimators=51..................\n",
      "[CV 4/5; 22/100] END rfc__max_depth=11, rfc__n_estimators=51;, score=(train=0.800, test=0.716) total time=   0.1s\n",
      "[CV 5/5; 22/100] START rfc__max_depth=11, rfc__n_estimators=51..................\n",
      "[CV 5/5; 22/100] END rfc__max_depth=11, rfc__n_estimators=51;, score=(train=0.788, test=0.706) total time=   0.1s\n",
      "[CV 1/5; 23/100] START rfc__max_depth=11, rfc__n_estimators=101.................\n",
      "[CV 1/5; 23/100] END rfc__max_depth=11, rfc__n_estimators=101;, score=(train=0.798, test=0.729) total time=   0.3s\n",
      "[CV 2/5; 23/100] START rfc__max_depth=11, rfc__n_estimators=101.................\n",
      "[CV 2/5; 23/100] END rfc__max_depth=11, rfc__n_estimators=101;, score=(train=0.801, test=0.750) total time=   0.3s\n",
      "[CV 3/5; 23/100] START rfc__max_depth=11, rfc__n_estimators=101.................\n",
      "[CV 3/5; 23/100] END rfc__max_depth=11, rfc__n_estimators=101;, score=(train=0.776, test=0.741) total time=   0.3s\n",
      "[CV 4/5; 23/100] START rfc__max_depth=11, rfc__n_estimators=101.................\n",
      "[CV 4/5; 23/100] END rfc__max_depth=11, rfc__n_estimators=101;, score=(train=0.792, test=0.724) total time=   0.2s\n",
      "[CV 5/5; 23/100] START rfc__max_depth=11, rfc__n_estimators=101.................\n",
      "[CV 5/5; 23/100] END rfc__max_depth=11, rfc__n_estimators=101;, score=(train=0.798, test=0.710) total time=   0.3s\n",
      "[CV 1/5; 24/100] START rfc__max_depth=11, rfc__n_estimators=151.................\n",
      "[CV 1/5; 24/100] END rfc__max_depth=11, rfc__n_estimators=151;, score=(train=0.808, test=0.730) total time=   0.4s\n",
      "[CV 2/5; 24/100] START rfc__max_depth=11, rfc__n_estimators=151.................\n",
      "[CV 2/5; 24/100] END rfc__max_depth=11, rfc__n_estimators=151;, score=(train=0.806, test=0.752) total time=   0.4s\n",
      "[CV 3/5; 24/100] START rfc__max_depth=11, rfc__n_estimators=151.................\n",
      "[CV 3/5; 24/100] END rfc__max_depth=11, rfc__n_estimators=151;, score=(train=0.785, test=0.745) total time=   0.4s\n",
      "[CV 4/5; 24/100] START rfc__max_depth=11, rfc__n_estimators=151.................\n",
      "[CV 4/5; 24/100] END rfc__max_depth=11, rfc__n_estimators=151;, score=(train=0.801, test=0.722) total time=   0.4s\n",
      "[CV 5/5; 24/100] START rfc__max_depth=11, rfc__n_estimators=151.................\n",
      "[CV 5/5; 24/100] END rfc__max_depth=11, rfc__n_estimators=151;, score=(train=0.799, test=0.715) total time=   0.4s\n",
      "[CV 1/5; 25/100] START rfc__max_depth=11, rfc__n_estimators=201.................\n",
      "[CV 1/5; 25/100] END rfc__max_depth=11, rfc__n_estimators=201;, score=(train=0.804, test=0.728) total time=   0.6s\n",
      "[CV 2/5; 25/100] START rfc__max_depth=11, rfc__n_estimators=201.................\n",
      "[CV 2/5; 25/100] END rfc__max_depth=11, rfc__n_estimators=201;, score=(train=0.802, test=0.746) total time=   0.6s\n",
      "[CV 3/5; 25/100] START rfc__max_depth=11, rfc__n_estimators=201.................\n",
      "[CV 3/5; 25/100] END rfc__max_depth=11, rfc__n_estimators=201;, score=(train=0.790, test=0.750) total time=   0.6s\n",
      "[CV 4/5; 25/100] START rfc__max_depth=11, rfc__n_estimators=201.................\n",
      "[CV 4/5; 25/100] END rfc__max_depth=11, rfc__n_estimators=201;, score=(train=0.803, test=0.724) total time=   0.5s\n",
      "[CV 5/5; 25/100] START rfc__max_depth=11, rfc__n_estimators=201.................\n",
      "[CV 5/5; 25/100] END rfc__max_depth=11, rfc__n_estimators=201;, score=(train=0.796, test=0.714) total time=   0.5s\n",
      "[CV 1/5; 26/100] START rfc__max_depth=11, rfc__n_estimators=251.................\n",
      "[CV 1/5; 26/100] END rfc__max_depth=11, rfc__n_estimators=251;, score=(train=0.800, test=0.724) total time=   0.7s\n",
      "[CV 2/5; 26/100] START rfc__max_depth=11, rfc__n_estimators=251.................\n",
      "[CV 2/5; 26/100] END rfc__max_depth=11, rfc__n_estimators=251;, score=(train=0.804, test=0.751) total time=   0.7s\n",
      "[CV 3/5; 26/100] START rfc__max_depth=11, rfc__n_estimators=251.................\n",
      "[CV 3/5; 26/100] END rfc__max_depth=11, rfc__n_estimators=251;, score=(train=0.791, test=0.749) total time=   0.7s\n",
      "[CV 4/5; 26/100] START rfc__max_depth=11, rfc__n_estimators=251.................\n",
      "[CV 4/5; 26/100] END rfc__max_depth=11, rfc__n_estimators=251;, score=(train=0.809, test=0.723) total time=   0.7s\n",
      "[CV 5/5; 26/100] START rfc__max_depth=11, rfc__n_estimators=251.................\n",
      "[CV 5/5; 26/100] END rfc__max_depth=11, rfc__n_estimators=251;, score=(train=0.799, test=0.711) total time=   0.7s\n",
      "[CV 1/5; 27/100] START rfc__max_depth=11, rfc__n_estimators=301.................\n",
      "[CV 1/5; 27/100] END rfc__max_depth=11, rfc__n_estimators=301;, score=(train=0.802, test=0.732) total time=   0.9s\n",
      "[CV 2/5; 27/100] START rfc__max_depth=11, rfc__n_estimators=301.................\n",
      "[CV 2/5; 27/100] END rfc__max_depth=11, rfc__n_estimators=301;, score=(train=0.802, test=0.746) total time=   0.9s\n",
      "[CV 3/5; 27/100] START rfc__max_depth=11, rfc__n_estimators=301.................\n",
      "[CV 3/5; 27/100] END rfc__max_depth=11, rfc__n_estimators=301;, score=(train=0.789, test=0.746) total time=   0.9s\n",
      "[CV 4/5; 27/100] START rfc__max_depth=11, rfc__n_estimators=301.................\n",
      "[CV 4/5; 27/100] END rfc__max_depth=11, rfc__n_estimators=301;, score=(train=0.809, test=0.723) total time=   1.8s\n",
      "[CV 5/5; 27/100] START rfc__max_depth=11, rfc__n_estimators=301.................\n",
      "[CV 5/5; 27/100] END rfc__max_depth=11, rfc__n_estimators=301;, score=(train=0.794, test=0.716) total time=   1.0s\n",
      "[CV 1/5; 28/100] START rfc__max_depth=11, rfc__n_estimators=351.................\n",
      "[CV 1/5; 28/100] END rfc__max_depth=11, rfc__n_estimators=351;, score=(train=0.803, test=0.735) total time=   1.2s\n",
      "[CV 2/5; 28/100] START rfc__max_depth=11, rfc__n_estimators=351.................\n",
      "[CV 2/5; 28/100] END rfc__max_depth=11, rfc__n_estimators=351;, score=(train=0.807, test=0.750) total time=   1.2s\n",
      "[CV 3/5; 28/100] START rfc__max_depth=11, rfc__n_estimators=351.................\n",
      "[CV 3/5; 28/100] END rfc__max_depth=11, rfc__n_estimators=351;, score=(train=0.788, test=0.751) total time=   1.2s\n",
      "[CV 4/5; 28/100] START rfc__max_depth=11, rfc__n_estimators=351.................\n",
      "[CV 4/5; 28/100] END rfc__max_depth=11, rfc__n_estimators=351;, score=(train=0.807, test=0.728) total time=   1.2s\n",
      "[CV 5/5; 28/100] START rfc__max_depth=11, rfc__n_estimators=351.................\n",
      "[CV 5/5; 28/100] END rfc__max_depth=11, rfc__n_estimators=351;, score=(train=0.795, test=0.710) total time=   1.2s\n",
      "[CV 1/5; 29/100] START rfc__max_depth=11, rfc__n_estimators=401.................\n",
      "[CV 1/5; 29/100] END rfc__max_depth=11, rfc__n_estimators=401;, score=(train=0.802, test=0.735) total time=   1.4s\n",
      "[CV 2/5; 29/100] START rfc__max_depth=11, rfc__n_estimators=401.................\n",
      "[CV 2/5; 29/100] END rfc__max_depth=11, rfc__n_estimators=401;, score=(train=0.807, test=0.752) total time=   1.4s\n",
      "[CV 3/5; 29/100] START rfc__max_depth=11, rfc__n_estimators=401.................\n",
      "[CV 3/5; 29/100] END rfc__max_depth=11, rfc__n_estimators=401;, score=(train=0.788, test=0.751) total time=   1.4s\n",
      "[CV 4/5; 29/100] START rfc__max_depth=11, rfc__n_estimators=401.................\n",
      "[CV 4/5; 29/100] END rfc__max_depth=11, rfc__n_estimators=401;, score=(train=0.807, test=0.730) total time=   1.4s\n",
      "[CV 5/5; 29/100] START rfc__max_depth=11, rfc__n_estimators=401.................\n",
      "[CV 5/5; 29/100] END rfc__max_depth=11, rfc__n_estimators=401;, score=(train=0.795, test=0.708) total time=   1.4s\n",
      "[CV 1/5; 30/100] START rfc__max_depth=11, rfc__n_estimators=451.................\n",
      "[CV 1/5; 30/100] END rfc__max_depth=11, rfc__n_estimators=451;, score=(train=0.803, test=0.737) total time=   1.5s\n",
      "[CV 2/5; 30/100] START rfc__max_depth=11, rfc__n_estimators=451.................\n",
      "[CV 2/5; 30/100] END rfc__max_depth=11, rfc__n_estimators=451;, score=(train=0.807, test=0.755) total time=   1.5s\n",
      "[CV 3/5; 30/100] START rfc__max_depth=11, rfc__n_estimators=451.................\n",
      "[CV 3/5; 30/100] END rfc__max_depth=11, rfc__n_estimators=451;, score=(train=0.788, test=0.747) total time=   1.5s\n",
      "[CV 4/5; 30/100] START rfc__max_depth=11, rfc__n_estimators=451.................\n",
      "[CV 4/5; 30/100] END rfc__max_depth=11, rfc__n_estimators=451;, score=(train=0.805, test=0.723) total time=   1.5s\n",
      "[CV 5/5; 30/100] START rfc__max_depth=11, rfc__n_estimators=451.................\n",
      "[CV 5/5; 30/100] END rfc__max_depth=11, rfc__n_estimators=451;, score=(train=0.794, test=0.712) total time=   1.5s\n",
      "[CV 1/5; 31/100] START rfc__max_depth=16, rfc__n_estimators=1...................\n",
      "[CV 1/5; 31/100] END rfc__max_depth=16, rfc__n_estimators=1;, score=(train=0.704, test=0.680) total time=   0.0s\n",
      "[CV 2/5; 31/100] START rfc__max_depth=16, rfc__n_estimators=1...................\n",
      "[CV 2/5; 31/100] END rfc__max_depth=16, rfc__n_estimators=1;, score=(train=0.703, test=0.687) total time=   0.0s\n",
      "[CV 3/5; 31/100] START rfc__max_depth=16, rfc__n_estimators=1...................\n",
      "[CV 3/5; 31/100] END rfc__max_depth=16, rfc__n_estimators=1;, score=(train=0.686, test=0.686) total time=   0.0s\n",
      "[CV 4/5; 31/100] START rfc__max_depth=16, rfc__n_estimators=1...................\n",
      "[CV 4/5; 31/100] END rfc__max_depth=16, rfc__n_estimators=1;, score=(train=0.398, test=0.343) total time=   0.0s\n",
      "[CV 5/5; 31/100] START rfc__max_depth=16, rfc__n_estimators=1...................\n",
      "[CV 5/5; 31/100] END rfc__max_depth=16, rfc__n_estimators=1;, score=(train=0.681, test=0.663) total time=   0.0s\n",
      "[CV 1/5; 32/100] START rfc__max_depth=16, rfc__n_estimators=51..................\n",
      "[CV 1/5; 32/100] END rfc__max_depth=16, rfc__n_estimators=51;, score=(train=0.828, test=0.754) total time=   0.2s\n",
      "[CV 2/5; 32/100] START rfc__max_depth=16, rfc__n_estimators=51..................\n",
      "[CV 2/5; 32/100] END rfc__max_depth=16, rfc__n_estimators=51;, score=(train=0.826, test=0.762) total time=   0.2s\n",
      "[CV 3/5; 32/100] START rfc__max_depth=16, rfc__n_estimators=51..................\n",
      "[CV 3/5; 32/100] END rfc__max_depth=16, rfc__n_estimators=51;, score=(train=0.800, test=0.749) total time=   0.2s\n",
      "[CV 4/5; 32/100] START rfc__max_depth=16, rfc__n_estimators=51..................\n",
      "[CV 4/5; 32/100] END rfc__max_depth=16, rfc__n_estimators=51;, score=(train=0.834, test=0.729) total time=   0.2s\n",
      "[CV 5/5; 32/100] START rfc__max_depth=16, rfc__n_estimators=51..................\n",
      "[CV 5/5; 32/100] END rfc__max_depth=16, rfc__n_estimators=51;, score=(train=0.820, test=0.717) total time=   0.2s\n",
      "[CV 1/5; 33/100] START rfc__max_depth=16, rfc__n_estimators=101.................\n",
      "[CV 1/5; 33/100] END rfc__max_depth=16, rfc__n_estimators=101;, score=(train=0.833, test=0.744) total time=   0.4s\n",
      "[CV 2/5; 33/100] START rfc__max_depth=16, rfc__n_estimators=101.................\n",
      "[CV 2/5; 33/100] END rfc__max_depth=16, rfc__n_estimators=101;, score=(train=0.837, test=0.754) total time=   0.4s\n",
      "[CV 3/5; 33/100] START rfc__max_depth=16, rfc__n_estimators=101.................\n",
      "[CV 3/5; 33/100] END rfc__max_depth=16, rfc__n_estimators=101;, score=(train=0.811, test=0.749) total time=   0.4s\n",
      "[CV 4/5; 33/100] START rfc__max_depth=16, rfc__n_estimators=101.................\n",
      "[CV 4/5; 33/100] END rfc__max_depth=16, rfc__n_estimators=101;, score=(train=0.830, test=0.728) total time=   0.4s\n",
      "[CV 5/5; 33/100] START rfc__max_depth=16, rfc__n_estimators=101.................\n",
      "[CV 5/5; 33/100] END rfc__max_depth=16, rfc__n_estimators=101;, score=(train=0.826, test=0.726) total time=   0.5s\n",
      "[CV 1/5; 34/100] START rfc__max_depth=16, rfc__n_estimators=151.................\n",
      "[CV 1/5; 34/100] END rfc__max_depth=16, rfc__n_estimators=151;, score=(train=0.835, test=0.742) total time=   0.7s\n",
      "[CV 2/5; 34/100] START rfc__max_depth=16, rfc__n_estimators=151.................\n",
      "[CV 2/5; 34/100] END rfc__max_depth=16, rfc__n_estimators=151;, score=(train=0.843, test=0.759) total time=   0.7s\n",
      "[CV 3/5; 34/100] START rfc__max_depth=16, rfc__n_estimators=151.................\n",
      "[CV 3/5; 34/100] END rfc__max_depth=16, rfc__n_estimators=151;, score=(train=0.821, test=0.754) total time=   0.7s\n",
      "[CV 4/5; 34/100] START rfc__max_depth=16, rfc__n_estimators=151.................\n",
      "[CV 4/5; 34/100] END rfc__max_depth=16, rfc__n_estimators=151;, score=(train=0.839, test=0.739) total time=   0.6s\n",
      "[CV 5/5; 34/100] START rfc__max_depth=16, rfc__n_estimators=151.................\n",
      "[CV 5/5; 34/100] END rfc__max_depth=16, rfc__n_estimators=151;, score=(train=0.832, test=0.728) total time=   0.6s\n",
      "[CV 1/5; 35/100] START rfc__max_depth=16, rfc__n_estimators=201.................\n",
      "[CV 1/5; 35/100] END rfc__max_depth=16, rfc__n_estimators=201;, score=(train=0.838, test=0.736) total time=   0.9s\n",
      "[CV 2/5; 35/100] START rfc__max_depth=16, rfc__n_estimators=201.................\n",
      "[CV 2/5; 35/100] END rfc__max_depth=16, rfc__n_estimators=201;, score=(train=0.843, test=0.755) total time=   0.9s\n",
      "[CV 3/5; 35/100] START rfc__max_depth=16, rfc__n_estimators=201.................\n",
      "[CV 3/5; 35/100] END rfc__max_depth=16, rfc__n_estimators=201;, score=(train=0.825, test=0.752) total time=   0.9s\n",
      "[CV 4/5; 35/100] START rfc__max_depth=16, rfc__n_estimators=201.................\n",
      "[CV 4/5; 35/100] END rfc__max_depth=16, rfc__n_estimators=201;, score=(train=0.841, test=0.734) total time=   0.8s\n",
      "[CV 5/5; 35/100] START rfc__max_depth=16, rfc__n_estimators=201.................\n",
      "[CV 5/5; 35/100] END rfc__max_depth=16, rfc__n_estimators=201;, score=(train=0.835, test=0.733) total time=   0.8s\n",
      "[CV 1/5; 36/100] START rfc__max_depth=16, rfc__n_estimators=251.................\n",
      "[CV 1/5; 36/100] END rfc__max_depth=16, rfc__n_estimators=251;, score=(train=0.838, test=0.740) total time=   1.2s\n",
      "[CV 2/5; 36/100] START rfc__max_depth=16, rfc__n_estimators=251.................\n",
      "[CV 2/5; 36/100] END rfc__max_depth=16, rfc__n_estimators=251;, score=(train=0.840, test=0.750) total time=   1.2s\n",
      "[CV 3/5; 36/100] START rfc__max_depth=16, rfc__n_estimators=251.................\n",
      "[CV 3/5; 36/100] END rfc__max_depth=16, rfc__n_estimators=251;, score=(train=0.828, test=0.749) total time=   1.1s\n",
      "[CV 4/5; 36/100] START rfc__max_depth=16, rfc__n_estimators=251.................\n",
      "[CV 4/5; 36/100] END rfc__max_depth=16, rfc__n_estimators=251;, score=(train=0.846, test=0.738) total time=   1.1s\n",
      "[CV 5/5; 36/100] START rfc__max_depth=16, rfc__n_estimators=251.................\n",
      "[CV 5/5; 36/100] END rfc__max_depth=16, rfc__n_estimators=251;, score=(train=0.837, test=0.731) total time=   1.1s\n",
      "[CV 1/5; 37/100] START rfc__max_depth=16, rfc__n_estimators=301.................\n",
      "[CV 1/5; 37/100] END rfc__max_depth=16, rfc__n_estimators=301;, score=(train=0.839, test=0.738) total time=   1.4s\n",
      "[CV 2/5; 37/100] START rfc__max_depth=16, rfc__n_estimators=301.................\n",
      "[CV 2/5; 37/100] END rfc__max_depth=16, rfc__n_estimators=301;, score=(train=0.842, test=0.754) total time=   1.3s\n",
      "[CV 3/5; 37/100] START rfc__max_depth=16, rfc__n_estimators=301.................\n",
      "[CV 3/5; 37/100] END rfc__max_depth=16, rfc__n_estimators=301;, score=(train=0.825, test=0.749) total time=   1.3s\n",
      "[CV 4/5; 37/100] START rfc__max_depth=16, rfc__n_estimators=301.................\n",
      "[CV 4/5; 37/100] END rfc__max_depth=16, rfc__n_estimators=301;, score=(train=0.848, test=0.734) total time=   1.3s\n",
      "[CV 5/5; 37/100] START rfc__max_depth=16, rfc__n_estimators=301.................\n",
      "[CV 5/5; 37/100] END rfc__max_depth=16, rfc__n_estimators=301;, score=(train=0.837, test=0.729) total time=   1.3s\n",
      "[CV 1/5; 38/100] START rfc__max_depth=16, rfc__n_estimators=351.................\n",
      "[CV 1/5; 38/100] END rfc__max_depth=16, rfc__n_estimators=351;, score=(train=0.838, test=0.743) total time=   1.5s\n",
      "[CV 2/5; 38/100] START rfc__max_depth=16, rfc__n_estimators=351.................\n",
      "[CV 2/5; 38/100] END rfc__max_depth=16, rfc__n_estimators=351;, score=(train=0.845, test=0.762) total time=   1.5s\n",
      "[CV 3/5; 38/100] START rfc__max_depth=16, rfc__n_estimators=351.................\n",
      "[CV 3/5; 38/100] END rfc__max_depth=16, rfc__n_estimators=351;, score=(train=0.827, test=0.754) total time=   1.6s\n",
      "[CV 4/5; 38/100] START rfc__max_depth=16, rfc__n_estimators=351.................\n",
      "[CV 4/5; 38/100] END rfc__max_depth=16, rfc__n_estimators=351;, score=(train=0.844, test=0.734) total time=   1.5s\n",
      "[CV 5/5; 38/100] START rfc__max_depth=16, rfc__n_estimators=351.................\n",
      "[CV 5/5; 38/100] END rfc__max_depth=16, rfc__n_estimators=351;, score=(train=0.835, test=0.724) total time=   1.5s\n",
      "[CV 1/5; 39/100] START rfc__max_depth=16, rfc__n_estimators=401.................\n",
      "[CV 1/5; 39/100] END rfc__max_depth=16, rfc__n_estimators=401;, score=(train=0.840, test=0.739) total time=   1.7s\n",
      "[CV 2/5; 39/100] START rfc__max_depth=16, rfc__n_estimators=401.................\n",
      "[CV 2/5; 39/100] END rfc__max_depth=16, rfc__n_estimators=401;, score=(train=0.843, test=0.763) total time=   1.8s\n",
      "[CV 3/5; 39/100] START rfc__max_depth=16, rfc__n_estimators=401.................\n",
      "[CV 3/5; 39/100] END rfc__max_depth=16, rfc__n_estimators=401;, score=(train=0.827, test=0.754) total time=   1.8s\n",
      "[CV 4/5; 39/100] START rfc__max_depth=16, rfc__n_estimators=401.................\n",
      "[CV 4/5; 39/100] END rfc__max_depth=16, rfc__n_estimators=401;, score=(train=0.844, test=0.733) total time=   1.7s\n",
      "[CV 5/5; 39/100] START rfc__max_depth=16, rfc__n_estimators=401.................\n",
      "[CV 5/5; 39/100] END rfc__max_depth=16, rfc__n_estimators=401;, score=(train=0.836, test=0.724) total time=   1.8s\n",
      "[CV 1/5; 40/100] START rfc__max_depth=16, rfc__n_estimators=451.................\n",
      "[CV 1/5; 40/100] END rfc__max_depth=16, rfc__n_estimators=451;, score=(train=0.841, test=0.744) total time=   1.9s\n",
      "[CV 2/5; 40/100] START rfc__max_depth=16, rfc__n_estimators=451.................\n",
      "[CV 2/5; 40/100] END rfc__max_depth=16, rfc__n_estimators=451;, score=(train=0.844, test=0.765) total time=   2.0s\n",
      "[CV 3/5; 40/100] START rfc__max_depth=16, rfc__n_estimators=451.................\n",
      "[CV 3/5; 40/100] END rfc__max_depth=16, rfc__n_estimators=451;, score=(train=0.827, test=0.753) total time=   2.0s\n",
      "[CV 4/5; 40/100] START rfc__max_depth=16, rfc__n_estimators=451.................\n",
      "[CV 4/5; 40/100] END rfc__max_depth=16, rfc__n_estimators=451;, score=(train=0.843, test=0.732) total time=   2.0s\n",
      "[CV 5/5; 40/100] START rfc__max_depth=16, rfc__n_estimators=451.................\n",
      "[CV 5/5; 40/100] END rfc__max_depth=16, rfc__n_estimators=451;, score=(train=0.836, test=0.724) total time=   2.0s\n",
      "[CV 1/5; 41/100] START rfc__max_depth=21, rfc__n_estimators=1...................\n",
      "[CV 1/5; 41/100] END rfc__max_depth=21, rfc__n_estimators=1;, score=(train=0.720, test=0.679) total time=   0.0s\n",
      "[CV 2/5; 41/100] START rfc__max_depth=21, rfc__n_estimators=1...................\n",
      "[CV 2/5; 41/100] END rfc__max_depth=21, rfc__n_estimators=1;, score=(train=0.708, test=0.680) total time=   0.0s\n",
      "[CV 3/5; 41/100] START rfc__max_depth=21, rfc__n_estimators=1...................\n",
      "[CV 3/5; 41/100] END rfc__max_depth=21, rfc__n_estimators=1;, score=(train=0.692, test=0.681) total time=   0.0s\n",
      "[CV 4/5; 41/100] START rfc__max_depth=21, rfc__n_estimators=1...................\n",
      "[CV 4/5; 41/100] END rfc__max_depth=21, rfc__n_estimators=1;, score=(train=0.421, test=0.361) total time=   0.0s\n",
      "[CV 5/5; 41/100] START rfc__max_depth=21, rfc__n_estimators=1...................\n",
      "[CV 5/5; 41/100] END rfc__max_depth=21, rfc__n_estimators=1;, score=(train=0.687, test=0.660) total time=   0.0s\n",
      "[CV 1/5; 42/100] START rfc__max_depth=21, rfc__n_estimators=51..................\n",
      "[CV 1/5; 42/100] END rfc__max_depth=21, rfc__n_estimators=51;, score=(train=0.853, test=0.761) total time=   0.3s\n",
      "[CV 2/5; 42/100] START rfc__max_depth=21, rfc__n_estimators=51..................\n",
      "[CV 2/5; 42/100] END rfc__max_depth=21, rfc__n_estimators=51;, score=(train=0.848, test=0.758) total time=   0.3s\n",
      "[CV 3/5; 42/100] START rfc__max_depth=21, rfc__n_estimators=51..................\n",
      "[CV 3/5; 42/100] END rfc__max_depth=21, rfc__n_estimators=51;, score=(train=0.836, test=0.751) total time=   0.3s\n",
      "[CV 4/5; 42/100] START rfc__max_depth=21, rfc__n_estimators=51..................\n",
      "[CV 4/5; 42/100] END rfc__max_depth=21, rfc__n_estimators=51;, score=(train=0.853, test=0.739) total time=   0.2s\n",
      "[CV 5/5; 42/100] START rfc__max_depth=21, rfc__n_estimators=51..................\n",
      "[CV 5/5; 42/100] END rfc__max_depth=21, rfc__n_estimators=51;, score=(train=0.847, test=0.729) total time=   0.2s\n",
      "[CV 1/5; 43/100] START rfc__max_depth=21, rfc__n_estimators=101.................\n",
      "[CV 1/5; 43/100] END rfc__max_depth=21, rfc__n_estimators=101;, score=(train=0.860, test=0.752) total time=   0.5s\n",
      "[CV 2/5; 43/100] START rfc__max_depth=21, rfc__n_estimators=101.................\n",
      "[CV 2/5; 43/100] END rfc__max_depth=21, rfc__n_estimators=101;, score=(train=0.857, test=0.766) total time=   0.6s\n",
      "[CV 3/5; 43/100] START rfc__max_depth=21, rfc__n_estimators=101.................\n",
      "[CV 3/5; 43/100] END rfc__max_depth=21, rfc__n_estimators=101;, score=(train=0.847, test=0.762) total time=   0.5s\n",
      "[CV 4/5; 43/100] START rfc__max_depth=21, rfc__n_estimators=101.................\n",
      "[CV 4/5; 43/100] END rfc__max_depth=21, rfc__n_estimators=101;, score=(train=0.852, test=0.735) total time=   0.6s\n",
      "[CV 5/5; 43/100] START rfc__max_depth=21, rfc__n_estimators=101.................\n",
      "[CV 5/5; 43/100] END rfc__max_depth=21, rfc__n_estimators=101;, score=(train=0.856, test=0.735) total time=   0.6s\n",
      "[CV 1/5; 44/100] START rfc__max_depth=21, rfc__n_estimators=151.................\n",
      "[CV 1/5; 44/100] END rfc__max_depth=21, rfc__n_estimators=151;, score=(train=0.860, test=0.751) total time=   0.8s\n",
      "[CV 2/5; 44/100] START rfc__max_depth=21, rfc__n_estimators=151.................\n",
      "[CV 2/5; 44/100] END rfc__max_depth=21, rfc__n_estimators=151;, score=(train=0.863, test=0.772) total time=   0.8s\n",
      "[CV 3/5; 44/100] START rfc__max_depth=21, rfc__n_estimators=151.................\n",
      "[CV 3/5; 44/100] END rfc__max_depth=21, rfc__n_estimators=151;, score=(train=0.850, test=0.761) total time=   0.9s\n",
      "[CV 4/5; 44/100] START rfc__max_depth=21, rfc__n_estimators=151.................\n",
      "[CV 4/5; 44/100] END rfc__max_depth=21, rfc__n_estimators=151;, score=(train=0.860, test=0.741) total time=   0.8s\n",
      "[CV 5/5; 44/100] START rfc__max_depth=21, rfc__n_estimators=151.................\n",
      "[CV 5/5; 44/100] END rfc__max_depth=21, rfc__n_estimators=151;, score=(train=0.856, test=0.731) total time=   0.9s\n",
      "[CV 1/5; 45/100] START rfc__max_depth=21, rfc__n_estimators=201.................\n",
      "[CV 1/5; 45/100] END rfc__max_depth=21, rfc__n_estimators=201;, score=(train=0.858, test=0.751) total time=   1.1s\n",
      "[CV 2/5; 45/100] START rfc__max_depth=21, rfc__n_estimators=201.................\n",
      "[CV 2/5; 45/100] END rfc__max_depth=21, rfc__n_estimators=201;, score=(train=0.866, test=0.766) total time=   1.2s\n",
      "[CV 3/5; 45/100] START rfc__max_depth=21, rfc__n_estimators=201.................\n",
      "[CV 3/5; 45/100] END rfc__max_depth=21, rfc__n_estimators=201;, score=(train=0.851, test=0.765) total time=   1.1s\n",
      "[CV 4/5; 45/100] START rfc__max_depth=21, rfc__n_estimators=201.................\n",
      "[CV 4/5; 45/100] END rfc__max_depth=21, rfc__n_estimators=201;, score=(train=0.861, test=0.746) total time=   1.1s\n",
      "[CV 5/5; 45/100] START rfc__max_depth=21, rfc__n_estimators=201.................\n",
      "[CV 5/5; 45/100] END rfc__max_depth=21, rfc__n_estimators=201;, score=(train=0.857, test=0.730) total time=   1.1s\n",
      "[CV 1/5; 46/100] START rfc__max_depth=21, rfc__n_estimators=251.................\n",
      "[CV 1/5; 46/100] END rfc__max_depth=21, rfc__n_estimators=251;, score=(train=0.862, test=0.747) total time=   1.4s\n",
      "[CV 2/5; 46/100] START rfc__max_depth=21, rfc__n_estimators=251.................\n",
      "[CV 2/5; 46/100] END rfc__max_depth=21, rfc__n_estimators=251;, score=(train=0.868, test=0.771) total time=   1.5s\n",
      "[CV 3/5; 46/100] START rfc__max_depth=21, rfc__n_estimators=251.................\n",
      "[CV 3/5; 46/100] END rfc__max_depth=21, rfc__n_estimators=251;, score=(train=0.853, test=0.760) total time=   1.4s\n",
      "[CV 4/5; 46/100] START rfc__max_depth=21, rfc__n_estimators=251.................\n",
      "[CV 4/5; 46/100] END rfc__max_depth=21, rfc__n_estimators=251;, score=(train=0.864, test=0.752) total time=   1.4s\n",
      "[CV 5/5; 46/100] START rfc__max_depth=21, rfc__n_estimators=251.................\n",
      "[CV 5/5; 46/100] END rfc__max_depth=21, rfc__n_estimators=251;, score=(train=0.858, test=0.728) total time=   1.4s\n",
      "[CV 1/5; 47/100] START rfc__max_depth=21, rfc__n_estimators=301.................\n",
      "[CV 1/5; 47/100] END rfc__max_depth=21, rfc__n_estimators=301;, score=(train=0.861, test=0.752) total time=   1.7s\n",
      "[CV 2/5; 47/100] START rfc__max_depth=21, rfc__n_estimators=301.................\n",
      "[CV 2/5; 47/100] END rfc__max_depth=21, rfc__n_estimators=301;, score=(train=0.870, test=0.765) total time=   1.7s\n",
      "[CV 3/5; 47/100] START rfc__max_depth=21, rfc__n_estimators=301.................\n",
      "[CV 3/5; 47/100] END rfc__max_depth=21, rfc__n_estimators=301;, score=(train=0.853, test=0.759) total time=   1.7s\n",
      "[CV 4/5; 47/100] START rfc__max_depth=21, rfc__n_estimators=301.................\n",
      "[CV 4/5; 47/100] END rfc__max_depth=21, rfc__n_estimators=301;, score=(train=0.862, test=0.746) total time=   1.6s\n",
      "[CV 5/5; 47/100] START rfc__max_depth=21, rfc__n_estimators=301.................\n",
      "[CV 5/5; 47/100] END rfc__max_depth=21, rfc__n_estimators=301;, score=(train=0.863, test=0.734) total time=   1.7s\n",
      "[CV 1/5; 48/100] START rfc__max_depth=21, rfc__n_estimators=351.................\n",
      "[CV 1/5; 48/100] END rfc__max_depth=21, rfc__n_estimators=351;, score=(train=0.862, test=0.752) total time=   2.0s\n",
      "[CV 2/5; 48/100] START rfc__max_depth=21, rfc__n_estimators=351.................\n",
      "[CV 2/5; 48/100] END rfc__max_depth=21, rfc__n_estimators=351;, score=(train=0.869, test=0.770) total time=   1.9s\n",
      "[CV 3/5; 48/100] START rfc__max_depth=21, rfc__n_estimators=351.................\n",
      "[CV 3/5; 48/100] END rfc__max_depth=21, rfc__n_estimators=351;, score=(train=0.854, test=0.764) total time=   2.0s\n",
      "[CV 4/5; 48/100] START rfc__max_depth=21, rfc__n_estimators=351.................\n",
      "[CV 4/5; 48/100] END rfc__max_depth=21, rfc__n_estimators=351;, score=(train=0.864, test=0.749) total time=   1.9s\n",
      "[CV 5/5; 48/100] START rfc__max_depth=21, rfc__n_estimators=351.................\n",
      "[CV 5/5; 48/100] END rfc__max_depth=21, rfc__n_estimators=351;, score=(train=0.862, test=0.732) total time=   2.0s\n",
      "[CV 1/5; 49/100] START rfc__max_depth=21, rfc__n_estimators=401.................\n",
      "[CV 1/5; 49/100] END rfc__max_depth=21, rfc__n_estimators=401;, score=(train=0.863, test=0.753) total time=   2.3s\n",
      "[CV 2/5; 49/100] START rfc__max_depth=21, rfc__n_estimators=401.................\n",
      "[CV 2/5; 49/100] END rfc__max_depth=21, rfc__n_estimators=401;, score=(train=0.869, test=0.773) total time=   2.3s\n",
      "[CV 3/5; 49/100] START rfc__max_depth=21, rfc__n_estimators=401.................\n",
      "[CV 3/5; 49/100] END rfc__max_depth=21, rfc__n_estimators=401;, score=(train=0.852, test=0.764) total time=   2.3s\n",
      "[CV 4/5; 49/100] START rfc__max_depth=21, rfc__n_estimators=401.................\n",
      "[CV 4/5; 49/100] END rfc__max_depth=21, rfc__n_estimators=401;, score=(train=0.865, test=0.752) total time=   2.2s\n",
      "[CV 5/5; 49/100] START rfc__max_depth=21, rfc__n_estimators=401.................\n",
      "[CV 5/5; 49/100] END rfc__max_depth=21, rfc__n_estimators=401;, score=(train=0.860, test=0.737) total time=   2.2s\n",
      "[CV 1/5; 50/100] START rfc__max_depth=21, rfc__n_estimators=451.................\n",
      "[CV 1/5; 50/100] END rfc__max_depth=21, rfc__n_estimators=451;, score=(train=0.864, test=0.757) total time=   2.5s\n",
      "[CV 2/5; 50/100] START rfc__max_depth=21, rfc__n_estimators=451.................\n",
      "[CV 2/5; 50/100] END rfc__max_depth=21, rfc__n_estimators=451;, score=(train=0.869, test=0.775) total time=   2.5s\n",
      "[CV 3/5; 50/100] START rfc__max_depth=21, rfc__n_estimators=451.................\n",
      "[CV 3/5; 50/100] END rfc__max_depth=21, rfc__n_estimators=451;, score=(train=0.851, test=0.764) total time=   2.7s\n",
      "[CV 4/5; 50/100] START rfc__max_depth=21, rfc__n_estimators=451.................\n",
      "[CV 4/5; 50/100] END rfc__max_depth=21, rfc__n_estimators=451;, score=(train=0.862, test=0.745) total time=   2.4s\n",
      "[CV 5/5; 50/100] START rfc__max_depth=21, rfc__n_estimators=451.................\n",
      "[CV 5/5; 50/100] END rfc__max_depth=21, rfc__n_estimators=451;, score=(train=0.864, test=0.733) total time=   2.5s\n",
      "[CV 1/5; 51/100] START rfc__max_depth=26, rfc__n_estimators=1...................\n",
      "[CV 1/5; 51/100] END rfc__max_depth=26, rfc__n_estimators=1;, score=(train=0.728, test=0.687) total time=   0.0s\n",
      "[CV 2/5; 51/100] START rfc__max_depth=26, rfc__n_estimators=1...................\n",
      "[CV 2/5; 51/100] END rfc__max_depth=26, rfc__n_estimators=1;, score=(train=0.717, test=0.695) total time=   0.0s\n",
      "[CV 3/5; 51/100] START rfc__max_depth=26, rfc__n_estimators=1...................\n",
      "[CV 3/5; 51/100] END rfc__max_depth=26, rfc__n_estimators=1;, score=(train=0.683, test=0.658) total time=   0.0s\n",
      "[CV 4/5; 51/100] START rfc__max_depth=26, rfc__n_estimators=1...................\n",
      "[CV 4/5; 51/100] END rfc__max_depth=26, rfc__n_estimators=1;, score=(train=0.441, test=0.370) total time=   0.0s\n",
      "[CV 5/5; 51/100] START rfc__max_depth=26, rfc__n_estimators=1...................\n",
      "[CV 5/5; 51/100] END rfc__max_depth=26, rfc__n_estimators=1;, score=(train=0.700, test=0.654) total time=   0.0s\n",
      "[CV 1/5; 52/100] START rfc__max_depth=26, rfc__n_estimators=51..................\n",
      "[CV 1/5; 52/100] END rfc__max_depth=26, rfc__n_estimators=51;, score=(train=0.871, test=0.758) total time=   0.3s\n",
      "[CV 2/5; 52/100] START rfc__max_depth=26, rfc__n_estimators=51..................\n",
      "[CV 2/5; 52/100] END rfc__max_depth=26, rfc__n_estimators=51;, score=(train=0.861, test=0.764) total time=   0.3s\n",
      "[CV 3/5; 52/100] START rfc__max_depth=26, rfc__n_estimators=51..................\n",
      "[CV 3/5; 52/100] END rfc__max_depth=26, rfc__n_estimators=51;, score=(train=0.860, test=0.743) total time=   0.3s\n",
      "[CV 4/5; 52/100] START rfc__max_depth=26, rfc__n_estimators=51..................\n",
      "[CV 4/5; 52/100] END rfc__max_depth=26, rfc__n_estimators=51;, score=(train=0.871, test=0.744) total time=   0.3s\n",
      "[CV 5/5; 52/100] START rfc__max_depth=26, rfc__n_estimators=51..................\n",
      "[CV 5/5; 52/100] END rfc__max_depth=26, rfc__n_estimators=51;, score=(train=0.865, test=0.727) total time=   0.3s\n",
      "[CV 1/5; 53/100] START rfc__max_depth=26, rfc__n_estimators=101.................\n",
      "[CV 1/5; 53/100] END rfc__max_depth=26, rfc__n_estimators=101;, score=(train=0.873, test=0.753) total time=   0.7s\n",
      "[CV 2/5; 53/100] START rfc__max_depth=26, rfc__n_estimators=101.................\n",
      "[CV 2/5; 53/100] END rfc__max_depth=26, rfc__n_estimators=101;, score=(train=0.874, test=0.776) total time=   0.7s\n",
      "[CV 3/5; 53/100] START rfc__max_depth=26, rfc__n_estimators=101.................\n",
      "[CV 3/5; 53/100] END rfc__max_depth=26, rfc__n_estimators=101;, score=(train=0.870, test=0.769) total time=   0.7s\n",
      "[CV 4/5; 53/100] START rfc__max_depth=26, rfc__n_estimators=101.................\n",
      "[CV 4/5; 53/100] END rfc__max_depth=26, rfc__n_estimators=101;, score=(train=0.870, test=0.748) total time=   0.7s\n",
      "[CV 5/5; 53/100] START rfc__max_depth=26, rfc__n_estimators=101.................\n",
      "[CV 5/5; 53/100] END rfc__max_depth=26, rfc__n_estimators=101;, score=(train=0.873, test=0.731) total time=   0.7s\n",
      "[CV 1/5; 54/100] START rfc__max_depth=26, rfc__n_estimators=151.................\n",
      "[CV 1/5; 54/100] END rfc__max_depth=26, rfc__n_estimators=151;, score=(train=0.877, test=0.760) total time=   1.1s\n",
      "[CV 2/5; 54/100] START rfc__max_depth=26, rfc__n_estimators=151.................\n",
      "[CV 2/5; 54/100] END rfc__max_depth=26, rfc__n_estimators=151;, score=(train=0.877, test=0.765) total time=   1.1s\n",
      "[CV 3/5; 54/100] START rfc__max_depth=26, rfc__n_estimators=151.................\n",
      "[CV 3/5; 54/100] END rfc__max_depth=26, rfc__n_estimators=151;, score=(train=0.870, test=0.771) total time=   1.1s\n",
      "[CV 4/5; 54/100] START rfc__max_depth=26, rfc__n_estimators=151.................\n",
      "[CV 4/5; 54/100] END rfc__max_depth=26, rfc__n_estimators=151;, score=(train=0.877, test=0.754) total time=   1.0s\n",
      "[CV 5/5; 54/100] START rfc__max_depth=26, rfc__n_estimators=151.................\n",
      "[CV 5/5; 54/100] END rfc__max_depth=26, rfc__n_estimators=151;, score=(train=0.874, test=0.735) total time=   1.1s\n",
      "[CV 1/5; 55/100] START rfc__max_depth=26, rfc__n_estimators=201.................\n",
      "[CV 1/5; 55/100] END rfc__max_depth=26, rfc__n_estimators=201;, score=(train=0.875, test=0.758) total time=   1.4s\n",
      "[CV 2/5; 55/100] START rfc__max_depth=26, rfc__n_estimators=201.................\n",
      "[CV 2/5; 55/100] END rfc__max_depth=26, rfc__n_estimators=201;, score=(train=0.878, test=0.769) total time=   1.4s\n",
      "[CV 3/5; 55/100] START rfc__max_depth=26, rfc__n_estimators=201.................\n",
      "[CV 3/5; 55/100] END rfc__max_depth=26, rfc__n_estimators=201;, score=(train=0.874, test=0.770) total time=   1.5s\n",
      "[CV 4/5; 55/100] START rfc__max_depth=26, rfc__n_estimators=201.................\n",
      "[CV 4/5; 55/100] END rfc__max_depth=26, rfc__n_estimators=201;, score=(train=0.879, test=0.750) total time=   1.4s\n",
      "[CV 5/5; 55/100] START rfc__max_depth=26, rfc__n_estimators=201.................\n",
      "[CV 5/5; 55/100] END rfc__max_depth=26, rfc__n_estimators=201;, score=(train=0.875, test=0.742) total time=   1.4s\n",
      "[CV 1/5; 56/100] START rfc__max_depth=26, rfc__n_estimators=251.................\n",
      "[CV 1/5; 56/100] END rfc__max_depth=26, rfc__n_estimators=251;, score=(train=0.879, test=0.764) total time=   1.8s\n",
      "[CV 2/5; 56/100] START rfc__max_depth=26, rfc__n_estimators=251.................\n",
      "[CV 2/5; 56/100] END rfc__max_depth=26, rfc__n_estimators=251;, score=(train=0.882, test=0.776) total time=   1.8s\n",
      "[CV 3/5; 56/100] START rfc__max_depth=26, rfc__n_estimators=251.................\n",
      "[CV 3/5; 56/100] END rfc__max_depth=26, rfc__n_estimators=251;, score=(train=0.872, test=0.765) total time=   1.8s\n",
      "[CV 4/5; 56/100] START rfc__max_depth=26, rfc__n_estimators=251.................\n",
      "[CV 4/5; 56/100] END rfc__max_depth=26, rfc__n_estimators=251;, score=(train=0.882, test=0.754) total time=   1.7s\n",
      "[CV 5/5; 56/100] START rfc__max_depth=26, rfc__n_estimators=251.................\n",
      "[CV 5/5; 56/100] END rfc__max_depth=26, rfc__n_estimators=251;, score=(train=0.876, test=0.743) total time=   1.8s\n",
      "[CV 1/5; 57/100] START rfc__max_depth=26, rfc__n_estimators=301.................\n",
      "[CV 1/5; 57/100] END rfc__max_depth=26, rfc__n_estimators=301;, score=(train=0.878, test=0.762) total time=   2.1s\n",
      "[CV 2/5; 57/100] START rfc__max_depth=26, rfc__n_estimators=301.................\n",
      "[CV 2/5; 57/100] END rfc__max_depth=26, rfc__n_estimators=301;, score=(train=0.883, test=0.774) total time=   2.2s\n",
      "[CV 3/5; 57/100] START rfc__max_depth=26, rfc__n_estimators=301.................\n",
      "[CV 3/5; 57/100] END rfc__max_depth=26, rfc__n_estimators=301;, score=(train=0.877, test=0.764) total time=   2.1s\n",
      "[CV 4/5; 57/100] START rfc__max_depth=26, rfc__n_estimators=301.................\n",
      "[CV 4/5; 57/100] END rfc__max_depth=26, rfc__n_estimators=301;, score=(train=0.882, test=0.753) total time=   2.1s\n",
      "[CV 5/5; 57/100] START rfc__max_depth=26, rfc__n_estimators=301.................\n",
      "[CV 5/5; 57/100] END rfc__max_depth=26, rfc__n_estimators=301;, score=(train=0.878, test=0.742) total time=   2.2s\n",
      "[CV 1/5; 58/100] START rfc__max_depth=26, rfc__n_estimators=351.................\n",
      "[CV 1/5; 58/100] END rfc__max_depth=26, rfc__n_estimators=351;, score=(train=0.879, test=0.764) total time=   2.5s\n",
      "[CV 2/5; 58/100] START rfc__max_depth=26, rfc__n_estimators=351.................\n",
      "[CV 2/5; 58/100] END rfc__max_depth=26, rfc__n_estimators=351;, score=(train=0.885, test=0.774) total time=   2.6s\n",
      "[CV 3/5; 58/100] START rfc__max_depth=26, rfc__n_estimators=351.................\n",
      "[CV 3/5; 58/100] END rfc__max_depth=26, rfc__n_estimators=351;, score=(train=0.878, test=0.769) total time=   2.5s\n",
      "[CV 4/5; 58/100] START rfc__max_depth=26, rfc__n_estimators=351.................\n",
      "[CV 4/5; 58/100] END rfc__max_depth=26, rfc__n_estimators=351;, score=(train=0.882, test=0.758) total time=   2.5s\n",
      "[CV 5/5; 58/100] START rfc__max_depth=26, rfc__n_estimators=351.................\n",
      "[CV 5/5; 58/100] END rfc__max_depth=26, rfc__n_estimators=351;, score=(train=0.878, test=0.747) total time=   2.5s\n",
      "[CV 1/5; 59/100] START rfc__max_depth=26, rfc__n_estimators=401.................\n",
      "[CV 1/5; 59/100] END rfc__max_depth=26, rfc__n_estimators=401;, score=(train=0.879, test=0.768) total time=   2.9s\n",
      "[CV 2/5; 59/100] START rfc__max_depth=26, rfc__n_estimators=401.................\n",
      "[CV 2/5; 59/100] END rfc__max_depth=26, rfc__n_estimators=401;, score=(train=0.885, test=0.777) total time=   2.9s\n",
      "[CV 3/5; 59/100] START rfc__max_depth=26, rfc__n_estimators=401.................\n",
      "[CV 3/5; 59/100] END rfc__max_depth=26, rfc__n_estimators=401;, score=(train=0.877, test=0.769) total time=   2.9s\n",
      "[CV 4/5; 59/100] START rfc__max_depth=26, rfc__n_estimators=401.................\n",
      "[CV 4/5; 59/100] END rfc__max_depth=26, rfc__n_estimators=401;, score=(train=0.882, test=0.755) total time=   2.8s\n",
      "[CV 5/5; 59/100] START rfc__max_depth=26, rfc__n_estimators=401.................\n",
      "[CV 5/5; 59/100] END rfc__max_depth=26, rfc__n_estimators=401;, score=(train=0.876, test=0.745) total time=   2.8s\n",
      "[CV 1/5; 60/100] START rfc__max_depth=26, rfc__n_estimators=451.................\n",
      "[CV 1/5; 60/100] END rfc__max_depth=26, rfc__n_estimators=451;, score=(train=0.878, test=0.766) total time=   3.2s\n",
      "[CV 2/5; 60/100] START rfc__max_depth=26, rfc__n_estimators=451.................\n",
      "[CV 2/5; 60/100] END rfc__max_depth=26, rfc__n_estimators=451;, score=(train=0.887, test=0.777) total time=   3.3s\n",
      "[CV 3/5; 60/100] START rfc__max_depth=26, rfc__n_estimators=451.................\n",
      "[CV 3/5; 60/100] END rfc__max_depth=26, rfc__n_estimators=451;, score=(train=0.875, test=0.770) total time=   3.2s\n",
      "[CV 4/5; 60/100] START rfc__max_depth=26, rfc__n_estimators=451.................\n",
      "[CV 4/5; 60/100] END rfc__max_depth=26, rfc__n_estimators=451;, score=(train=0.883, test=0.753) total time=   3.1s\n",
      "[CV 5/5; 60/100] START rfc__max_depth=26, rfc__n_estimators=451.................\n",
      "[CV 5/5; 60/100] END rfc__max_depth=26, rfc__n_estimators=451;, score=(train=0.878, test=0.746) total time=   3.2s\n",
      "[CV 1/5; 61/100] START rfc__max_depth=31, rfc__n_estimators=1...................\n",
      "[CV 1/5; 61/100] END rfc__max_depth=31, rfc__n_estimators=1;, score=(train=0.706, test=0.666) total time=   0.0s\n",
      "[CV 2/5; 61/100] START rfc__max_depth=31, rfc__n_estimators=1...................\n",
      "[CV 2/5; 61/100] END rfc__max_depth=31, rfc__n_estimators=1;, score=(train=0.728, test=0.681) total time=   0.0s\n",
      "[CV 3/5; 61/100] START rfc__max_depth=31, rfc__n_estimators=1...................\n",
      "[CV 3/5; 61/100] END rfc__max_depth=31, rfc__n_estimators=1;, score=(train=0.694, test=0.667) total time=   0.0s\n",
      "[CV 4/5; 61/100] START rfc__max_depth=31, rfc__n_estimators=1...................\n",
      "[CV 4/5; 61/100] END rfc__max_depth=31, rfc__n_estimators=1;, score=(train=0.731, test=0.694) total time=   0.0s\n",
      "[CV 5/5; 61/100] START rfc__max_depth=31, rfc__n_estimators=1...................\n",
      "[CV 5/5; 61/100] END rfc__max_depth=31, rfc__n_estimators=1;, score=(train=0.720, test=0.668) total time=   0.0s\n",
      "[CV 1/5; 62/100] START rfc__max_depth=31, rfc__n_estimators=51..................\n",
      "[CV 1/5; 62/100] END rfc__max_depth=31, rfc__n_estimators=51;, score=(train=0.885, test=0.761) total time=   0.4s\n",
      "[CV 2/5; 62/100] START rfc__max_depth=31, rfc__n_estimators=51..................\n",
      "[CV 2/5; 62/100] END rfc__max_depth=31, rfc__n_estimators=51;, score=(train=0.885, test=0.779) total time=   0.4s\n",
      "[CV 3/5; 62/100] START rfc__max_depth=31, rfc__n_estimators=51..................\n",
      "[CV 3/5; 62/100] END rfc__max_depth=31, rfc__n_estimators=51;, score=(train=0.882, test=0.767) total time=   0.4s\n",
      "[CV 4/5; 62/100] START rfc__max_depth=31, rfc__n_estimators=51..................\n",
      "[CV 4/5; 62/100] END rfc__max_depth=31, rfc__n_estimators=51;, score=(train=0.894, test=0.765) total time=   0.4s\n",
      "[CV 5/5; 62/100] START rfc__max_depth=31, rfc__n_estimators=51..................\n",
      "[CV 5/5; 62/100] END rfc__max_depth=31, rfc__n_estimators=51;, score=(train=0.887, test=0.742) total time=   0.4s\n",
      "[CV 1/5; 63/100] START rfc__max_depth=31, rfc__n_estimators=101.................\n",
      "[CV 1/5; 63/100] END rfc__max_depth=31, rfc__n_estimators=101;, score=(train=0.889, test=0.769) total time=   0.9s\n",
      "[CV 2/5; 63/100] START rfc__max_depth=31, rfc__n_estimators=101.................\n",
      "[CV 2/5; 63/100] END rfc__max_depth=31, rfc__n_estimators=101;, score=(train=0.893, test=0.788) total time=   0.9s\n",
      "[CV 3/5; 63/100] START rfc__max_depth=31, rfc__n_estimators=101.................\n",
      "[CV 3/5; 63/100] END rfc__max_depth=31, rfc__n_estimators=101;, score=(train=0.887, test=0.768) total time=   0.9s\n",
      "[CV 4/5; 63/100] START rfc__max_depth=31, rfc__n_estimators=101.................\n",
      "[CV 4/5; 63/100] END rfc__max_depth=31, rfc__n_estimators=101;, score=(train=0.888, test=0.761) total time=   0.8s\n",
      "[CV 5/5; 63/100] START rfc__max_depth=31, rfc__n_estimators=101.................\n",
      "[CV 5/5; 63/100] END rfc__max_depth=31, rfc__n_estimators=101;, score=(train=0.888, test=0.745) total time=   0.8s\n",
      "[CV 1/5; 64/100] START rfc__max_depth=31, rfc__n_estimators=151.................\n",
      "[CV 1/5; 64/100] END rfc__max_depth=31, rfc__n_estimators=151;, score=(train=0.892, test=0.770) total time=   1.3s\n",
      "[CV 2/5; 64/100] START rfc__max_depth=31, rfc__n_estimators=151.................\n",
      "[CV 2/5; 64/100] END rfc__max_depth=31, rfc__n_estimators=151;, score=(train=0.894, test=0.788) total time=   1.3s\n",
      "[CV 3/5; 64/100] START rfc__max_depth=31, rfc__n_estimators=151.................\n",
      "[CV 3/5; 64/100] END rfc__max_depth=31, rfc__n_estimators=151;, score=(train=0.885, test=0.773) total time=   1.3s\n",
      "[CV 4/5; 64/100] START rfc__max_depth=31, rfc__n_estimators=151.................\n",
      "[CV 4/5; 64/100] END rfc__max_depth=31, rfc__n_estimators=151;, score=(train=0.893, test=0.757) total time=   1.3s\n",
      "[CV 5/5; 64/100] START rfc__max_depth=31, rfc__n_estimators=151.................\n",
      "[CV 5/5; 64/100] END rfc__max_depth=31, rfc__n_estimators=151;, score=(train=0.887, test=0.751) total time=   1.3s\n",
      "[CV 1/5; 65/100] START rfc__max_depth=31, rfc__n_estimators=201.................\n",
      "[CV 1/5; 65/100] END rfc__max_depth=31, rfc__n_estimators=201;, score=(train=0.892, test=0.770) total time=   1.7s\n",
      "[CV 2/5; 65/100] START rfc__max_depth=31, rfc__n_estimators=201.................\n",
      "[CV 2/5; 65/100] END rfc__max_depth=31, rfc__n_estimators=201;, score=(train=0.893, test=0.788) total time=   1.8s\n",
      "[CV 3/5; 65/100] START rfc__max_depth=31, rfc__n_estimators=201.................\n",
      "[CV 3/5; 65/100] END rfc__max_depth=31, rfc__n_estimators=201;, score=(train=0.887, test=0.772) total time=   1.7s\n",
      "[CV 4/5; 65/100] START rfc__max_depth=31, rfc__n_estimators=201.................\n",
      "[CV 4/5; 65/100] END rfc__max_depth=31, rfc__n_estimators=201;, score=(train=0.894, test=0.756) total time=   1.7s\n",
      "[CV 5/5; 65/100] START rfc__max_depth=31, rfc__n_estimators=201.................\n",
      "[CV 5/5; 65/100] END rfc__max_depth=31, rfc__n_estimators=201;, score=(train=0.889, test=0.749) total time=   1.8s\n",
      "[CV 1/5; 66/100] START rfc__max_depth=31, rfc__n_estimators=251.................\n",
      "[CV 1/5; 66/100] END rfc__max_depth=31, rfc__n_estimators=251;, score=(train=0.894, test=0.767) total time=   2.2s\n",
      "[CV 2/5; 66/100] START rfc__max_depth=31, rfc__n_estimators=251.................\n",
      "[CV 2/5; 66/100] END rfc__max_depth=31, rfc__n_estimators=251;, score=(train=0.893, test=0.781) total time=   2.2s\n",
      "[CV 3/5; 66/100] START rfc__max_depth=31, rfc__n_estimators=251.................\n",
      "[CV 3/5; 66/100] END rfc__max_depth=31, rfc__n_estimators=251;, score=(train=0.888, test=0.769) total time=   2.1s\n",
      "[CV 4/5; 66/100] START rfc__max_depth=31, rfc__n_estimators=251.................\n",
      "[CV 4/5; 66/100] END rfc__max_depth=31, rfc__n_estimators=251;, score=(train=0.895, test=0.755) total time=   2.2s\n",
      "[CV 5/5; 66/100] START rfc__max_depth=31, rfc__n_estimators=251.................\n",
      "[CV 5/5; 66/100] END rfc__max_depth=31, rfc__n_estimators=251;, score=(train=0.889, test=0.745) total time=   2.1s\n",
      "[CV 1/5; 67/100] START rfc__max_depth=31, rfc__n_estimators=301.................\n",
      "[CV 1/5; 67/100] END rfc__max_depth=31, rfc__n_estimators=301;, score=(train=0.893, test=0.763) total time=   2.7s\n",
      "[CV 2/5; 67/100] START rfc__max_depth=31, rfc__n_estimators=301.................\n",
      "[CV 2/5; 67/100] END rfc__max_depth=31, rfc__n_estimators=301;, score=(train=0.897, test=0.786) total time=   2.7s\n",
      "[CV 3/5; 67/100] START rfc__max_depth=31, rfc__n_estimators=301.................\n",
      "[CV 3/5; 67/100] END rfc__max_depth=31, rfc__n_estimators=301;, score=(train=0.888, test=0.769) total time=   2.7s\n",
      "[CV 4/5; 67/100] START rfc__max_depth=31, rfc__n_estimators=301.................\n",
      "[CV 4/5; 67/100] END rfc__max_depth=31, rfc__n_estimators=301;, score=(train=0.895, test=0.759) total time=   2.6s\n",
      "[CV 5/5; 67/100] START rfc__max_depth=31, rfc__n_estimators=301.................\n",
      "[CV 5/5; 67/100] END rfc__max_depth=31, rfc__n_estimators=301;, score=(train=0.890, test=0.743) total time=   2.6s\n",
      "[CV 1/5; 68/100] START rfc__max_depth=31, rfc__n_estimators=351.................\n",
      "[CV 1/5; 68/100] END rfc__max_depth=31, rfc__n_estimators=351;, score=(train=0.894, test=0.764) total time=   3.1s\n",
      "[CV 2/5; 68/100] START rfc__max_depth=31, rfc__n_estimators=351.................\n",
      "[CV 2/5; 68/100] END rfc__max_depth=31, rfc__n_estimators=351;, score=(train=0.898, test=0.783) total time=   3.0s\n",
      "[CV 3/5; 68/100] START rfc__max_depth=31, rfc__n_estimators=351.................\n",
      "[CV 3/5; 68/100] END rfc__max_depth=31, rfc__n_estimators=351;, score=(train=0.889, test=0.770) total time=   3.0s\n",
      "[CV 4/5; 68/100] START rfc__max_depth=31, rfc__n_estimators=351.................\n",
      "[CV 4/5; 68/100] END rfc__max_depth=31, rfc__n_estimators=351;, score=(train=0.894, test=0.755) total time=   2.9s\n",
      "[CV 5/5; 68/100] START rfc__max_depth=31, rfc__n_estimators=351.................\n",
      "[CV 5/5; 68/100] END rfc__max_depth=31, rfc__n_estimators=351;, score=(train=0.891, test=0.745) total time=   3.1s\n",
      "[CV 1/5; 69/100] START rfc__max_depth=31, rfc__n_estimators=401.................\n",
      "[CV 1/5; 69/100] END rfc__max_depth=31, rfc__n_estimators=401;, score=(train=0.896, test=0.764) total time=   3.5s\n",
      "[CV 2/5; 69/100] START rfc__max_depth=31, rfc__n_estimators=401.................\n",
      "[CV 2/5; 69/100] END rfc__max_depth=31, rfc__n_estimators=401;, score=(train=0.898, test=0.782) total time=   3.4s\n",
      "[CV 3/5; 69/100] START rfc__max_depth=31, rfc__n_estimators=401.................\n",
      "[CV 3/5; 69/100] END rfc__max_depth=31, rfc__n_estimators=401;, score=(train=0.889, test=0.772) total time=   3.6s\n",
      "[CV 4/5; 69/100] START rfc__max_depth=31, rfc__n_estimators=401.................\n",
      "[CV 4/5; 69/100] END rfc__max_depth=31, rfc__n_estimators=401;, score=(train=0.894, test=0.759) total time=   3.5s\n",
      "[CV 5/5; 69/100] START rfc__max_depth=31, rfc__n_estimators=401.................\n",
      "[CV 5/5; 69/100] END rfc__max_depth=31, rfc__n_estimators=401;, score=(train=0.892, test=0.746) total time=   3.4s\n",
      "[CV 1/5; 70/100] START rfc__max_depth=31, rfc__n_estimators=451.................\n",
      "[CV 1/5; 70/100] END rfc__max_depth=31, rfc__n_estimators=451;, score=(train=0.895, test=0.771) total time=   3.9s\n",
      "[CV 2/5; 70/100] START rfc__max_depth=31, rfc__n_estimators=451.................\n",
      "[CV 2/5; 70/100] END rfc__max_depth=31, rfc__n_estimators=451;, score=(train=0.897, test=0.788) total time=   4.0s\n",
      "[CV 3/5; 70/100] START rfc__max_depth=31, rfc__n_estimators=451.................\n",
      "[CV 3/5; 70/100] END rfc__max_depth=31, rfc__n_estimators=451;, score=(train=0.889, test=0.773) total time=   3.9s\n",
      "[CV 4/5; 70/100] START rfc__max_depth=31, rfc__n_estimators=451.................\n",
      "[CV 4/5; 70/100] END rfc__max_depth=31, rfc__n_estimators=451;, score=(train=0.895, test=0.758) total time=   3.7s\n",
      "[CV 5/5; 70/100] START rfc__max_depth=31, rfc__n_estimators=451.................\n",
      "[CV 5/5; 70/100] END rfc__max_depth=31, rfc__n_estimators=451;, score=(train=0.893, test=0.749) total time=   4.0s\n",
      "[CV 1/5; 71/100] START rfc__max_depth=36, rfc__n_estimators=1...................\n",
      "[CV 1/5; 71/100] END rfc__max_depth=36, rfc__n_estimators=1;, score=(train=0.720, test=0.674) total time=   0.0s\n",
      "[CV 2/5; 71/100] START rfc__max_depth=36, rfc__n_estimators=1...................\n",
      "[CV 2/5; 71/100] END rfc__max_depth=36, rfc__n_estimators=1;, score=(train=0.735, test=0.694) total time=   0.0s\n",
      "[CV 3/5; 71/100] START rfc__max_depth=36, rfc__n_estimators=1...................\n",
      "[CV 3/5; 71/100] END rfc__max_depth=36, rfc__n_estimators=1;, score=(train=0.700, test=0.659) total time=   0.0s\n",
      "[CV 4/5; 71/100] START rfc__max_depth=36, rfc__n_estimators=1...................\n",
      "[CV 4/5; 71/100] END rfc__max_depth=36, rfc__n_estimators=1;, score=(train=0.736, test=0.686) total time=   0.0s\n",
      "[CV 5/5; 71/100] START rfc__max_depth=36, rfc__n_estimators=1...................\n",
      "[CV 5/5; 71/100] END rfc__max_depth=36, rfc__n_estimators=1;, score=(train=0.728, test=0.676) total time=   0.0s\n",
      "[CV 1/5; 72/100] START rfc__max_depth=36, rfc__n_estimators=51..................\n",
      "[CV 1/5; 72/100] END rfc__max_depth=36, rfc__n_estimators=51;, score=(train=0.897, test=0.769) total time=   0.5s\n",
      "[CV 2/5; 72/100] START rfc__max_depth=36, rfc__n_estimators=51..................\n",
      "[CV 2/5; 72/100] END rfc__max_depth=36, rfc__n_estimators=51;, score=(train=0.898, test=0.776) total time=   0.5s\n",
      "[CV 3/5; 72/100] START rfc__max_depth=36, rfc__n_estimators=51..................\n",
      "[CV 3/5; 72/100] END rfc__max_depth=36, rfc__n_estimators=51;, score=(train=0.899, test=0.762) total time=   0.5s\n",
      "[CV 4/5; 72/100] START rfc__max_depth=36, rfc__n_estimators=51..................\n",
      "[CV 4/5; 72/100] END rfc__max_depth=36, rfc__n_estimators=51;, score=(train=0.905, test=0.762) total time=   0.4s\n",
      "[CV 5/5; 72/100] START rfc__max_depth=36, rfc__n_estimators=51..................\n",
      "[CV 5/5; 72/100] END rfc__max_depth=36, rfc__n_estimators=51;, score=(train=0.904, test=0.740) total time=   0.5s\n",
      "[CV 1/5; 73/100] START rfc__max_depth=36, rfc__n_estimators=101.................\n",
      "[CV 1/5; 73/100] END rfc__max_depth=36, rfc__n_estimators=101;, score=(train=0.902, test=0.768) total time=   1.0s\n",
      "[CV 2/5; 73/100] START rfc__max_depth=36, rfc__n_estimators=101.................\n",
      "[CV 2/5; 73/100] END rfc__max_depth=36, rfc__n_estimators=101;, score=(train=0.905, test=0.785) total time=   1.0s\n",
      "[CV 3/5; 73/100] START rfc__max_depth=36, rfc__n_estimators=101.................\n",
      "[CV 3/5; 73/100] END rfc__max_depth=36, rfc__n_estimators=101;, score=(train=0.901, test=0.769) total time=   1.0s\n",
      "[CV 4/5; 73/100] START rfc__max_depth=36, rfc__n_estimators=101.................\n",
      "[CV 4/5; 73/100] END rfc__max_depth=36, rfc__n_estimators=101;, score=(train=0.903, test=0.778) total time=   1.0s\n",
      "[CV 5/5; 73/100] START rfc__max_depth=36, rfc__n_estimators=101.................\n",
      "[CV 5/5; 73/100] END rfc__max_depth=36, rfc__n_estimators=101;, score=(train=0.907, test=0.749) total time=   1.0s\n",
      "[CV 1/5; 74/100] START rfc__max_depth=36, rfc__n_estimators=151.................\n",
      "[CV 1/5; 74/100] END rfc__max_depth=36, rfc__n_estimators=151;, score=(train=0.904, test=0.770) total time=   1.5s\n",
      "[CV 2/5; 74/100] START rfc__max_depth=36, rfc__n_estimators=151.................\n",
      "[CV 2/5; 74/100] END rfc__max_depth=36, rfc__n_estimators=151;, score=(train=0.904, test=0.782) total time=   1.6s\n",
      "[CV 3/5; 74/100] START rfc__max_depth=36, rfc__n_estimators=151.................\n",
      "[CV 3/5; 74/100] END rfc__max_depth=36, rfc__n_estimators=151;, score=(train=0.901, test=0.776) total time=   1.5s\n",
      "[CV 4/5; 74/100] START rfc__max_depth=36, rfc__n_estimators=151.................\n",
      "[CV 4/5; 74/100] END rfc__max_depth=36, rfc__n_estimators=151;, score=(train=0.905, test=0.771) total time=   1.4s\n",
      "[CV 5/5; 74/100] START rfc__max_depth=36, rfc__n_estimators=151.................\n",
      "[CV 5/5; 74/100] END rfc__max_depth=36, rfc__n_estimators=151;, score=(train=0.904, test=0.738) total time=   1.5s\n",
      "[CV 1/5; 75/100] START rfc__max_depth=36, rfc__n_estimators=201.................\n",
      "[CV 1/5; 75/100] END rfc__max_depth=36, rfc__n_estimators=201;, score=(train=0.906, test=0.773) total time=   2.0s\n",
      "[CV 2/5; 75/100] START rfc__max_depth=36, rfc__n_estimators=201.................\n",
      "[CV 2/5; 75/100] END rfc__max_depth=36, rfc__n_estimators=201;, score=(train=0.903, test=0.783) total time=   2.1s\n",
      "[CV 3/5; 75/100] START rfc__max_depth=36, rfc__n_estimators=201.................\n",
      "[CV 3/5; 75/100] END rfc__max_depth=36, rfc__n_estimators=201;, score=(train=0.903, test=0.776) total time=   2.0s\n",
      "[CV 4/5; 75/100] START rfc__max_depth=36, rfc__n_estimators=201.................\n",
      "[CV 4/5; 75/100] END rfc__max_depth=36, rfc__n_estimators=201;, score=(train=0.907, test=0.776) total time=   2.0s\n",
      "[CV 5/5; 75/100] START rfc__max_depth=36, rfc__n_estimators=201.................\n",
      "[CV 5/5; 75/100] END rfc__max_depth=36, rfc__n_estimators=201;, score=(train=0.903, test=0.751) total time=   2.0s\n",
      "[CV 1/5; 76/100] START rfc__max_depth=36, rfc__n_estimators=251.................\n",
      "[CV 1/5; 76/100] END rfc__max_depth=36, rfc__n_estimators=251;, score=(train=0.908, test=0.771) total time=   2.7s\n",
      "[CV 2/5; 76/100] START rfc__max_depth=36, rfc__n_estimators=251.................\n",
      "[CV 2/5; 76/100] END rfc__max_depth=36, rfc__n_estimators=251;, score=(train=0.906, test=0.793) total time=   2.6s\n",
      "[CV 3/5; 76/100] START rfc__max_depth=36, rfc__n_estimators=251.................\n",
      "[CV 3/5; 76/100] END rfc__max_depth=36, rfc__n_estimators=251;, score=(train=0.905, test=0.780) total time=   2.6s\n",
      "[CV 4/5; 76/100] START rfc__max_depth=36, rfc__n_estimators=251.................\n",
      "[CV 4/5; 76/100] END rfc__max_depth=36, rfc__n_estimators=251;, score=(train=0.908, test=0.780) total time=   2.4s\n",
      "[CV 5/5; 76/100] START rfc__max_depth=36, rfc__n_estimators=251.................\n",
      "[CV 5/5; 76/100] END rfc__max_depth=36, rfc__n_estimators=251;, score=(train=0.907, test=0.751) total time=   2.5s\n",
      "[CV 1/5; 77/100] START rfc__max_depth=36, rfc__n_estimators=301.................\n",
      "[CV 1/5; 77/100] END rfc__max_depth=36, rfc__n_estimators=301;, score=(train=0.908, test=0.771) total time=   3.1s\n",
      "[CV 2/5; 77/100] START rfc__max_depth=36, rfc__n_estimators=301.................\n",
      "[CV 2/5; 77/100] END rfc__max_depth=36, rfc__n_estimators=301;, score=(train=0.910, test=0.791) total time=   3.1s\n",
      "[CV 3/5; 77/100] START rfc__max_depth=36, rfc__n_estimators=301.................\n",
      "[CV 3/5; 77/100] END rfc__max_depth=36, rfc__n_estimators=301;, score=(train=0.904, test=0.784) total time=   3.2s\n",
      "[CV 4/5; 77/100] START rfc__max_depth=36, rfc__n_estimators=301.................\n",
      "[CV 4/5; 77/100] END rfc__max_depth=36, rfc__n_estimators=301;, score=(train=0.908, test=0.781) total time=   2.9s\n",
      "[CV 5/5; 77/100] START rfc__max_depth=36, rfc__n_estimators=301.................\n",
      "[CV 5/5; 77/100] END rfc__max_depth=36, rfc__n_estimators=301;, score=(train=0.907, test=0.749) total time=   3.0s\n",
      "[CV 1/5; 78/100] START rfc__max_depth=36, rfc__n_estimators=351.................\n",
      "[CV 1/5; 78/100] END rfc__max_depth=36, rfc__n_estimators=351;, score=(train=0.908, test=0.768) total time=   3.6s\n",
      "[CV 2/5; 78/100] START rfc__max_depth=36, rfc__n_estimators=351.................\n",
      "[CV 2/5; 78/100] END rfc__max_depth=36, rfc__n_estimators=351;, score=(train=0.910, test=0.791) total time=   3.8s\n",
      "[CV 3/5; 78/100] START rfc__max_depth=36, rfc__n_estimators=351.................\n",
      "[CV 3/5; 78/100] END rfc__max_depth=36, rfc__n_estimators=351;, score=(train=0.906, test=0.784) total time=   3.5s\n",
      "[CV 4/5; 78/100] START rfc__max_depth=36, rfc__n_estimators=351.................\n",
      "[CV 4/5; 78/100] END rfc__max_depth=36, rfc__n_estimators=351;, score=(train=0.909, test=0.776) total time=   3.4s\n",
      "[CV 5/5; 78/100] START rfc__max_depth=36, rfc__n_estimators=351.................\n",
      "[CV 5/5; 78/100] END rfc__max_depth=36, rfc__n_estimators=351;, score=(train=0.908, test=0.747) total time=   3.5s\n",
      "[CV 1/5; 79/100] START rfc__max_depth=36, rfc__n_estimators=401.................\n",
      "[CV 1/5; 79/100] END rfc__max_depth=36, rfc__n_estimators=401;, score=(train=0.908, test=0.772) total time=   4.2s\n",
      "[CV 2/5; 79/100] START rfc__max_depth=36, rfc__n_estimators=401.................\n",
      "[CV 2/5; 79/100] END rfc__max_depth=36, rfc__n_estimators=401;, score=(train=0.910, test=0.795) total time=   4.1s\n",
      "[CV 3/5; 79/100] START rfc__max_depth=36, rfc__n_estimators=401.................\n",
      "[CV 3/5; 79/100] END rfc__max_depth=36, rfc__n_estimators=401;, score=(train=0.904, test=0.780) total time=   4.2s\n",
      "[CV 4/5; 79/100] START rfc__max_depth=36, rfc__n_estimators=401.................\n",
      "[CV 4/5; 79/100] END rfc__max_depth=36, rfc__n_estimators=401;, score=(train=0.910, test=0.777) total time=   4.1s\n",
      "[CV 5/5; 79/100] START rfc__max_depth=36, rfc__n_estimators=401.................\n",
      "[CV 5/5; 79/100] END rfc__max_depth=36, rfc__n_estimators=401;, score=(train=0.909, test=0.747) total time=   4.1s\n",
      "[CV 1/5; 80/100] START rfc__max_depth=36, rfc__n_estimators=451.................\n",
      "[CV 1/5; 80/100] END rfc__max_depth=36, rfc__n_estimators=451;, score=(train=0.908, test=0.776) total time=   4.7s\n",
      "[CV 2/5; 80/100] START rfc__max_depth=36, rfc__n_estimators=451.................\n",
      "[CV 2/5; 80/100] END rfc__max_depth=36, rfc__n_estimators=451;, score=(train=0.911, test=0.795) total time=   4.6s\n",
      "[CV 3/5; 80/100] START rfc__max_depth=36, rfc__n_estimators=451.................\n",
      "[CV 3/5; 80/100] END rfc__max_depth=36, rfc__n_estimators=451;, score=(train=0.902, test=0.780) total time=   4.6s\n",
      "[CV 4/5; 80/100] START rfc__max_depth=36, rfc__n_estimators=451.................\n",
      "[CV 4/5; 80/100] END rfc__max_depth=36, rfc__n_estimators=451;, score=(train=0.910, test=0.775) total time=   4.4s\n",
      "[CV 5/5; 80/100] START rfc__max_depth=36, rfc__n_estimators=451.................\n",
      "[CV 5/5; 80/100] END rfc__max_depth=36, rfc__n_estimators=451;, score=(train=0.908, test=0.755) total time=   4.5s\n",
      "[CV 1/5; 81/100] START rfc__max_depth=41, rfc__n_estimators=1...................\n",
      "[CV 1/5; 81/100] END rfc__max_depth=41, rfc__n_estimators=1;, score=(train=0.726, test=0.670) total time=   0.0s\n",
      "[CV 2/5; 81/100] START rfc__max_depth=41, rfc__n_estimators=1...................\n",
      "[CV 2/5; 81/100] END rfc__max_depth=41, rfc__n_estimators=1;, score=(train=0.748, test=0.705) total time=   0.0s\n",
      "[CV 3/5; 81/100] START rfc__max_depth=41, rfc__n_estimators=1...................\n",
      "[CV 3/5; 81/100] END rfc__max_depth=41, rfc__n_estimators=1;, score=(train=0.710, test=0.653) total time=   0.0s\n",
      "[CV 4/5; 81/100] START rfc__max_depth=41, rfc__n_estimators=1...................\n",
      "[CV 4/5; 81/100] END rfc__max_depth=41, rfc__n_estimators=1;, score=(train=0.744, test=0.688) total time=   0.0s\n",
      "[CV 5/5; 81/100] START rfc__max_depth=41, rfc__n_estimators=1...................\n",
      "[CV 5/5; 81/100] END rfc__max_depth=41, rfc__n_estimators=1;, score=(train=0.731, test=0.677) total time=   0.0s\n",
      "[CV 1/5; 82/100] START rfc__max_depth=41, rfc__n_estimators=51..................\n",
      "[CV 1/5; 82/100] END rfc__max_depth=41, rfc__n_estimators=51;, score=(train=0.911, test=0.778) total time=   0.6s\n",
      "[CV 2/5; 82/100] START rfc__max_depth=41, rfc__n_estimators=51..................\n",
      "[CV 2/5; 82/100] END rfc__max_depth=41, rfc__n_estimators=51;, score=(train=0.910, test=0.785) total time=   0.6s\n",
      "[CV 3/5; 82/100] START rfc__max_depth=41, rfc__n_estimators=51..................\n",
      "[CV 3/5; 82/100] END rfc__max_depth=41, rfc__n_estimators=51;, score=(train=0.910, test=0.767) total time=   0.6s\n",
      "[CV 4/5; 82/100] START rfc__max_depth=41, rfc__n_estimators=51..................\n",
      "[CV 4/5; 82/100] END rfc__max_depth=41, rfc__n_estimators=51;, score=(train=0.914, test=0.771) total time=   0.6s\n",
      "[CV 5/5; 82/100] START rfc__max_depth=41, rfc__n_estimators=51..................\n",
      "[CV 5/5; 82/100] END rfc__max_depth=41, rfc__n_estimators=51;, score=(train=0.912, test=0.756) total time=   0.5s\n",
      "[CV 1/5; 83/100] START rfc__max_depth=41, rfc__n_estimators=101.................\n",
      "[CV 1/5; 83/100] END rfc__max_depth=41, rfc__n_estimators=101;, score=(train=0.914, test=0.774) total time=   1.2s\n",
      "[CV 2/5; 83/100] START rfc__max_depth=41, rfc__n_estimators=101.................\n",
      "[CV 2/5; 83/100] END rfc__max_depth=41, rfc__n_estimators=101;, score=(train=0.920, test=0.799) total time=   1.2s\n",
      "[CV 3/5; 83/100] START rfc__max_depth=41, rfc__n_estimators=101.................\n",
      "[CV 3/5; 83/100] END rfc__max_depth=41, rfc__n_estimators=101;, score=(train=0.910, test=0.772) total time=   1.1s\n",
      "[CV 4/5; 83/100] START rfc__max_depth=41, rfc__n_estimators=101.................\n",
      "[CV 4/5; 83/100] END rfc__max_depth=41, rfc__n_estimators=101;, score=(train=0.911, test=0.769) total time=   1.1s\n",
      "[CV 5/5; 83/100] START rfc__max_depth=41, rfc__n_estimators=101.................\n",
      "[CV 5/5; 83/100] END rfc__max_depth=41, rfc__n_estimators=101;, score=(train=0.918, test=0.759) total time=   1.1s\n",
      "[CV 1/5; 84/100] START rfc__max_depth=41, rfc__n_estimators=151.................\n",
      "[CV 1/5; 84/100] END rfc__max_depth=41, rfc__n_estimators=151;, score=(train=0.917, test=0.778) total time=   1.8s\n",
      "[CV 2/5; 84/100] START rfc__max_depth=41, rfc__n_estimators=151.................\n",
      "[CV 2/5; 84/100] END rfc__max_depth=41, rfc__n_estimators=151;, score=(train=0.917, test=0.793) total time=   1.7s\n",
      "[CV 3/5; 84/100] START rfc__max_depth=41, rfc__n_estimators=151.................\n",
      "[CV 3/5; 84/100] END rfc__max_depth=41, rfc__n_estimators=151;, score=(train=0.913, test=0.782) total time=   1.8s\n",
      "[CV 4/5; 84/100] START rfc__max_depth=41, rfc__n_estimators=151.................\n",
      "[CV 4/5; 84/100] END rfc__max_depth=41, rfc__n_estimators=151;, score=(train=0.914, test=0.776) total time=   1.7s\n",
      "[CV 5/5; 84/100] START rfc__max_depth=41, rfc__n_estimators=151.................\n",
      "[CV 5/5; 84/100] END rfc__max_depth=41, rfc__n_estimators=151;, score=(train=0.918, test=0.753) total time=   1.8s\n",
      "[CV 1/5; 85/100] START rfc__max_depth=41, rfc__n_estimators=201.................\n",
      "[CV 1/5; 85/100] END rfc__max_depth=41, rfc__n_estimators=201;, score=(train=0.916, test=0.778) total time=   2.3s\n",
      "[CV 2/5; 85/100] START rfc__max_depth=41, rfc__n_estimators=201.................\n",
      "[CV 2/5; 85/100] END rfc__max_depth=41, rfc__n_estimators=201;, score=(train=0.917, test=0.794) total time=   2.4s\n",
      "[CV 3/5; 85/100] START rfc__max_depth=41, rfc__n_estimators=201.................\n",
      "[CV 3/5; 85/100] END rfc__max_depth=41, rfc__n_estimators=201;, score=(train=0.913, test=0.783) total time=   2.4s\n",
      "[CV 4/5; 85/100] START rfc__max_depth=41, rfc__n_estimators=201.................\n",
      "[CV 4/5; 85/100] END rfc__max_depth=41, rfc__n_estimators=201;, score=(train=0.915, test=0.783) total time=   2.3s\n",
      "[CV 5/5; 85/100] START rfc__max_depth=41, rfc__n_estimators=201.................\n",
      "[CV 5/5; 85/100] END rfc__max_depth=41, rfc__n_estimators=201;, score=(train=0.917, test=0.751) total time=   2.3s\n",
      "[CV 1/5; 86/100] START rfc__max_depth=41, rfc__n_estimators=251.................\n",
      "[CV 1/5; 86/100] END rfc__max_depth=41, rfc__n_estimators=251;, score=(train=0.918, test=0.782) total time=   2.9s\n",
      "[CV 2/5; 86/100] START rfc__max_depth=41, rfc__n_estimators=251.................\n",
      "[CV 2/5; 86/100] END rfc__max_depth=41, rfc__n_estimators=251;, score=(train=0.920, test=0.797) total time=   3.1s\n",
      "[CV 3/5; 86/100] START rfc__max_depth=41, rfc__n_estimators=251.................\n",
      "[CV 3/5; 86/100] END rfc__max_depth=41, rfc__n_estimators=251;, score=(train=0.914, test=0.788) total time=   3.0s\n",
      "[CV 4/5; 86/100] START rfc__max_depth=41, rfc__n_estimators=251.................\n",
      "[CV 4/5; 86/100] END rfc__max_depth=41, rfc__n_estimators=251;, score=(train=0.916, test=0.780) total time=   2.9s\n",
      "[CV 5/5; 86/100] START rfc__max_depth=41, rfc__n_estimators=251.................\n",
      "[CV 5/5; 86/100] END rfc__max_depth=41, rfc__n_estimators=251;, score=(train=0.921, test=0.761) total time=   2.9s\n",
      "[CV 1/5; 87/100] START rfc__max_depth=41, rfc__n_estimators=301.................\n",
      "[CV 1/5; 87/100] END rfc__max_depth=41, rfc__n_estimators=301;, score=(train=0.919, test=0.782) total time=   3.8s\n",
      "[CV 2/5; 87/100] START rfc__max_depth=41, rfc__n_estimators=301.................\n",
      "[CV 2/5; 87/100] END rfc__max_depth=41, rfc__n_estimators=301;, score=(train=0.921, test=0.794) total time=   3.5s\n",
      "[CV 3/5; 87/100] START rfc__max_depth=41, rfc__n_estimators=301.................\n",
      "[CV 3/5; 87/100] END rfc__max_depth=41, rfc__n_estimators=301;, score=(train=0.914, test=0.787) total time=   3.6s\n",
      "[CV 4/5; 87/100] START rfc__max_depth=41, rfc__n_estimators=301.................\n",
      "[CV 4/5; 87/100] END rfc__max_depth=41, rfc__n_estimators=301;, score=(train=0.919, test=0.781) total time=   3.3s\n",
      "[CV 5/5; 87/100] START rfc__max_depth=41, rfc__n_estimators=301.................\n",
      "[CV 5/5; 87/100] END rfc__max_depth=41, rfc__n_estimators=301;, score=(train=0.920, test=0.755) total time=   3.6s\n",
      "[CV 1/5; 88/100] START rfc__max_depth=41, rfc__n_estimators=351.................\n",
      "[CV 1/5; 88/100] END rfc__max_depth=41, rfc__n_estimators=351;, score=(train=0.917, test=0.782) total time=   4.2s\n",
      "[CV 2/5; 88/100] START rfc__max_depth=41, rfc__n_estimators=351.................\n",
      "[CV 2/5; 88/100] END rfc__max_depth=41, rfc__n_estimators=351;, score=(train=0.920, test=0.793) total time=   4.2s\n",
      "[CV 3/5; 88/100] START rfc__max_depth=41, rfc__n_estimators=351.................\n",
      "[CV 3/5; 88/100] END rfc__max_depth=41, rfc__n_estimators=351;, score=(train=0.915, test=0.788) total time=   4.1s\n",
      "[CV 4/5; 88/100] START rfc__max_depth=41, rfc__n_estimators=351.................\n",
      "[CV 4/5; 88/100] END rfc__max_depth=41, rfc__n_estimators=351;, score=(train=0.919, test=0.779) total time=   3.9s\n",
      "[CV 5/5; 88/100] START rfc__max_depth=41, rfc__n_estimators=351.................\n",
      "[CV 5/5; 88/100] END rfc__max_depth=41, rfc__n_estimators=351;, score=(train=0.922, test=0.756) total time=   4.2s\n",
      "[CV 1/5; 89/100] START rfc__max_depth=41, rfc__n_estimators=401.................\n",
      "[CV 1/5; 89/100] END rfc__max_depth=41, rfc__n_estimators=401;, score=(train=0.918, test=0.782) total time=   5.0s\n",
      "[CV 2/5; 89/100] START rfc__max_depth=41, rfc__n_estimators=401.................\n",
      "[CV 2/5; 89/100] END rfc__max_depth=41, rfc__n_estimators=401;, score=(train=0.921, test=0.798) total time=   4.8s\n",
      "[CV 3/5; 89/100] START rfc__max_depth=41, rfc__n_estimators=401.................\n",
      "[CV 3/5; 89/100] END rfc__max_depth=41, rfc__n_estimators=401;, score=(train=0.915, test=0.787) total time=   4.9s\n",
      "[CV 4/5; 89/100] START rfc__max_depth=41, rfc__n_estimators=401.................\n",
      "[CV 4/5; 89/100] END rfc__max_depth=41, rfc__n_estimators=401;, score=(train=0.918, test=0.782) total time=   4.7s\n",
      "[CV 5/5; 89/100] START rfc__max_depth=41, rfc__n_estimators=401.................\n",
      "[CV 5/5; 89/100] END rfc__max_depth=41, rfc__n_estimators=401;, score=(train=0.920, test=0.756) total time=   4.7s\n",
      "[CV 1/5; 90/100] START rfc__max_depth=41, rfc__n_estimators=451.................\n",
      "[CV 1/5; 90/100] END rfc__max_depth=41, rfc__n_estimators=451;, score=(train=0.917, test=0.780) total time=   5.4s\n",
      "[CV 2/5; 90/100] START rfc__max_depth=41, rfc__n_estimators=451.................\n",
      "[CV 2/5; 90/100] END rfc__max_depth=41, rfc__n_estimators=451;, score=(train=0.921, test=0.800) total time=   5.4s\n",
      "[CV 3/5; 90/100] START rfc__max_depth=41, rfc__n_estimators=451.................\n",
      "[CV 3/5; 90/100] END rfc__max_depth=41, rfc__n_estimators=451;, score=(train=0.915, test=0.790) total time=   5.2s\n",
      "[CV 4/5; 90/100] START rfc__max_depth=41, rfc__n_estimators=451.................\n",
      "[CV 4/5; 90/100] END rfc__max_depth=41, rfc__n_estimators=451;, score=(train=0.919, test=0.778) total time=   5.4s\n",
      "[CV 5/5; 90/100] START rfc__max_depth=41, rfc__n_estimators=451.................\n",
      "[CV 5/5; 90/100] END rfc__max_depth=41, rfc__n_estimators=451;, score=(train=0.920, test=0.759) total time=   5.3s\n",
      "[CV 1/5; 91/100] START rfc__max_depth=46, rfc__n_estimators=1...................\n",
      "[CV 1/5; 91/100] END rfc__max_depth=46, rfc__n_estimators=1;, score=(train=0.758, test=0.675) total time=   0.0s\n",
      "[CV 2/5; 91/100] START rfc__max_depth=46, rfc__n_estimators=1...................\n",
      "[CV 2/5; 91/100] END rfc__max_depth=46, rfc__n_estimators=1;, score=(train=0.754, test=0.708) total time=   0.0s\n",
      "[CV 3/5; 91/100] START rfc__max_depth=46, rfc__n_estimators=1...................\n",
      "[CV 3/5; 91/100] END rfc__max_depth=46, rfc__n_estimators=1;, score=(train=0.713, test=0.660) total time=   0.0s\n",
      "[CV 4/5; 91/100] START rfc__max_depth=46, rfc__n_estimators=1...................\n",
      "[CV 4/5; 91/100] END rfc__max_depth=46, rfc__n_estimators=1;, score=(train=0.612, test=0.556) total time=   0.0s\n",
      "[CV 5/5; 91/100] START rfc__max_depth=46, rfc__n_estimators=1...................\n",
      "[CV 5/5; 91/100] END rfc__max_depth=46, rfc__n_estimators=1;, score=(train=0.740, test=0.683) total time=   0.0s\n",
      "[CV 1/5; 92/100] START rfc__max_depth=46, rfc__n_estimators=51..................\n",
      "[CV 1/5; 92/100] END rfc__max_depth=46, rfc__n_estimators=51;, score=(train=0.923, test=0.784) total time=   0.7s\n",
      "[CV 2/5; 92/100] START rfc__max_depth=46, rfc__n_estimators=51..................\n",
      "[CV 2/5; 92/100] END rfc__max_depth=46, rfc__n_estimators=51;, score=(train=0.920, test=0.795) total time=   0.6s\n",
      "[CV 3/5; 92/100] START rfc__max_depth=46, rfc__n_estimators=51..................\n",
      "[CV 3/5; 92/100] END rfc__max_depth=46, rfc__n_estimators=51;, score=(train=0.920, test=0.782) total time=   0.7s\n",
      "[CV 4/5; 92/100] START rfc__max_depth=46, rfc__n_estimators=51..................\n",
      "[CV 4/5; 92/100] END rfc__max_depth=46, rfc__n_estimators=51;, score=(train=0.920, test=0.770) total time=   0.6s\n",
      "[CV 5/5; 92/100] START rfc__max_depth=46, rfc__n_estimators=51..................\n",
      "[CV 5/5; 92/100] END rfc__max_depth=46, rfc__n_estimators=51;, score=(train=0.922, test=0.752) total time=   0.6s\n",
      "[CV 1/5; 93/100] START rfc__max_depth=46, rfc__n_estimators=101.................\n",
      "[CV 1/5; 93/100] END rfc__max_depth=46, rfc__n_estimators=101;, score=(train=0.924, test=0.774) total time=   1.3s\n",
      "[CV 2/5; 93/100] START rfc__max_depth=46, rfc__n_estimators=101.................\n",
      "[CV 2/5; 93/100] END rfc__max_depth=46, rfc__n_estimators=101;, score=(train=0.928, test=0.797) total time=   1.4s\n",
      "[CV 3/5; 93/100] START rfc__max_depth=46, rfc__n_estimators=101.................\n",
      "[CV 3/5; 93/100] END rfc__max_depth=46, rfc__n_estimators=101;, score=(train=0.923, test=0.786) total time=   1.3s\n",
      "[CV 4/5; 93/100] START rfc__max_depth=46, rfc__n_estimators=101.................\n",
      "[CV 4/5; 93/100] END rfc__max_depth=46, rfc__n_estimators=101;, score=(train=0.919, test=0.772) total time=   1.3s\n",
      "[CV 5/5; 93/100] START rfc__max_depth=46, rfc__n_estimators=101.................\n",
      "[CV 5/5; 93/100] END rfc__max_depth=46, rfc__n_estimators=101;, score=(train=0.931, test=0.758) total time=   1.3s\n",
      "[CV 1/5; 94/100] START rfc__max_depth=46, rfc__n_estimators=151.................\n",
      "[CV 1/5; 94/100] END rfc__max_depth=46, rfc__n_estimators=151;, score=(train=0.925, test=0.776) total time=   2.0s\n",
      "[CV 2/5; 94/100] START rfc__max_depth=46, rfc__n_estimators=151.................\n",
      "[CV 2/5; 94/100] END rfc__max_depth=46, rfc__n_estimators=151;, score=(train=0.925, test=0.806) total time=   2.1s\n",
      "[CV 3/5; 94/100] START rfc__max_depth=46, rfc__n_estimators=151.................\n",
      "[CV 3/5; 94/100] END rfc__max_depth=46, rfc__n_estimators=151;, score=(train=0.924, test=0.788) total time=   2.1s\n",
      "[CV 4/5; 94/100] START rfc__max_depth=46, rfc__n_estimators=151.................\n",
      "[CV 4/5; 94/100] END rfc__max_depth=46, rfc__n_estimators=151;, score=(train=0.922, test=0.779) total time=   2.0s\n",
      "[CV 5/5; 94/100] START rfc__max_depth=46, rfc__n_estimators=151.................\n",
      "[CV 5/5; 94/100] END rfc__max_depth=46, rfc__n_estimators=151;, score=(train=0.929, test=0.763) total time=   2.0s\n",
      "[CV 1/5; 95/100] START rfc__max_depth=46, rfc__n_estimators=201.................\n",
      "[CV 1/5; 95/100] END rfc__max_depth=46, rfc__n_estimators=201;, score=(train=0.925, test=0.777) total time=   2.8s\n",
      "[CV 2/5; 95/100] START rfc__max_depth=46, rfc__n_estimators=201.................\n",
      "[CV 2/5; 95/100] END rfc__max_depth=46, rfc__n_estimators=201;, score=(train=0.924, test=0.803) total time=   2.8s\n",
      "[CV 3/5; 95/100] START rfc__max_depth=46, rfc__n_estimators=201.................\n",
      "[CV 3/5; 95/100] END rfc__max_depth=46, rfc__n_estimators=201;, score=(train=0.924, test=0.788) total time=   2.7s\n",
      "[CV 4/5; 95/100] START rfc__max_depth=46, rfc__n_estimators=201.................\n",
      "[CV 4/5; 95/100] END rfc__max_depth=46, rfc__n_estimators=201;, score=(train=0.924, test=0.784) total time=   2.6s\n",
      "[CV 5/5; 95/100] START rfc__max_depth=46, rfc__n_estimators=201.................\n",
      "[CV 5/5; 95/100] END rfc__max_depth=46, rfc__n_estimators=201;, score=(train=0.928, test=0.764) total time=   2.6s\n",
      "[CV 1/5; 96/100] START rfc__max_depth=46, rfc__n_estimators=251.................\n",
      "[CV 1/5; 96/100] END rfc__max_depth=46, rfc__n_estimators=251;, score=(train=0.926, test=0.781) total time=   3.4s\n",
      "[CV 2/5; 96/100] START rfc__max_depth=46, rfc__n_estimators=251.................\n",
      "[CV 2/5; 96/100] END rfc__max_depth=46, rfc__n_estimators=251;, score=(train=0.929, test=0.804) total time=   3.3s\n",
      "[CV 3/5; 96/100] START rfc__max_depth=46, rfc__n_estimators=251.................\n",
      "[CV 3/5; 96/100] END rfc__max_depth=46, rfc__n_estimators=251;, score=(train=0.923, test=0.790) total time=   3.5s\n",
      "[CV 4/5; 96/100] START rfc__max_depth=46, rfc__n_estimators=251.................\n",
      "[CV 4/5; 96/100] END rfc__max_depth=46, rfc__n_estimators=251;, score=(train=0.925, test=0.786) total time=   3.2s\n",
      "[CV 5/5; 96/100] START rfc__max_depth=46, rfc__n_estimators=251.................\n",
      "[CV 5/5; 96/100] END rfc__max_depth=46, rfc__n_estimators=251;, score=(train=0.930, test=0.764) total time=   3.4s\n",
      "[CV 1/5; 97/100] START rfc__max_depth=46, rfc__n_estimators=301.................\n",
      "[CV 1/5; 97/100] END rfc__max_depth=46, rfc__n_estimators=301;, score=(train=0.927, test=0.786) total time=   4.2s\n",
      "[CV 2/5; 97/100] START rfc__max_depth=46, rfc__n_estimators=301.................\n",
      "[CV 2/5; 97/100] END rfc__max_depth=46, rfc__n_estimators=301;, score=(train=0.929, test=0.801) total time=   4.0s\n",
      "[CV 3/5; 97/100] START rfc__max_depth=46, rfc__n_estimators=301.................\n",
      "[CV 3/5; 97/100] END rfc__max_depth=46, rfc__n_estimators=301;, score=(train=0.927, test=0.787) total time=   4.0s\n",
      "[CV 4/5; 97/100] START rfc__max_depth=46, rfc__n_estimators=301.................\n",
      "[CV 4/5; 97/100] END rfc__max_depth=46, rfc__n_estimators=301;, score=(train=0.925, test=0.784) total time=   4.0s\n",
      "[CV 5/5; 97/100] START rfc__max_depth=46, rfc__n_estimators=301.................\n",
      "[CV 5/5; 97/100] END rfc__max_depth=46, rfc__n_estimators=301;, score=(train=0.932, test=0.765) total time=   3.9s\n",
      "[CV 1/5; 98/100] START rfc__max_depth=46, rfc__n_estimators=351.................\n",
      "[CV 1/5; 98/100] END rfc__max_depth=46, rfc__n_estimators=351;, score=(train=0.926, test=0.784) total time=   4.8s\n",
      "[CV 2/5; 98/100] START rfc__max_depth=46, rfc__n_estimators=351.................\n",
      "[CV 2/5; 98/100] END rfc__max_depth=46, rfc__n_estimators=351;, score=(train=0.930, test=0.802) total time=   4.7s\n",
      "[CV 3/5; 98/100] START rfc__max_depth=46, rfc__n_estimators=351.................\n",
      "[CV 3/5; 98/100] END rfc__max_depth=46, rfc__n_estimators=351;, score=(train=0.926, test=0.788) total time=   5.0s\n",
      "[CV 4/5; 98/100] START rfc__max_depth=46, rfc__n_estimators=351.................\n",
      "[CV 4/5; 98/100] END rfc__max_depth=46, rfc__n_estimators=351;, score=(train=0.925, test=0.785) total time=   4.5s\n",
      "[CV 5/5; 98/100] START rfc__max_depth=46, rfc__n_estimators=351.................\n",
      "[CV 5/5; 98/100] END rfc__max_depth=46, rfc__n_estimators=351;, score=(train=0.932, test=0.761) total time=   4.8s\n",
      "[CV 1/5; 99/100] START rfc__max_depth=46, rfc__n_estimators=401.................\n",
      "[CV 1/5; 99/100] END rfc__max_depth=46, rfc__n_estimators=401;, score=(train=0.925, test=0.788) total time=   5.7s\n",
      "[CV 2/5; 99/100] START rfc__max_depth=46, rfc__n_estimators=401.................\n",
      "[CV 2/5; 99/100] END rfc__max_depth=46, rfc__n_estimators=401;, score=(train=0.930, test=0.805) total time=   5.4s\n",
      "[CV 3/5; 99/100] START rfc__max_depth=46, rfc__n_estimators=401.................\n",
      "[CV 3/5; 99/100] END rfc__max_depth=46, rfc__n_estimators=401;, score=(train=0.926, test=0.787) total time=   5.6s\n",
      "[CV 4/5; 99/100] START rfc__max_depth=46, rfc__n_estimators=401.................\n",
      "[CV 4/5; 99/100] END rfc__max_depth=46, rfc__n_estimators=401;, score=(train=0.925, test=0.786) total time=   5.2s\n",
      "[CV 5/5; 99/100] START rfc__max_depth=46, rfc__n_estimators=401.................\n",
      "[CV 5/5; 99/100] END rfc__max_depth=46, rfc__n_estimators=401;, score=(train=0.932, test=0.763) total time=   5.3s\n",
      "[CV 1/5; 100/100] START rfc__max_depth=46, rfc__n_estimators=451................\n",
      "[CV 1/5; 100/100] END rfc__max_depth=46, rfc__n_estimators=451;, score=(train=0.925, test=0.788) total time=   6.2s\n",
      "[CV 2/5; 100/100] START rfc__max_depth=46, rfc__n_estimators=451................\n",
      "[CV 2/5; 100/100] END rfc__max_depth=46, rfc__n_estimators=451;, score=(train=0.929, test=0.804) total time=   6.1s\n",
      "[CV 3/5; 100/100] START rfc__max_depth=46, rfc__n_estimators=451................\n",
      "[CV 3/5; 100/100] END rfc__max_depth=46, rfc__n_estimators=451;, score=(train=0.925, test=0.793) total time=   6.3s\n",
      "[CV 4/5; 100/100] START rfc__max_depth=46, rfc__n_estimators=451................\n",
      "[CV 4/5; 100/100] END rfc__max_depth=46, rfc__n_estimators=451;, score=(train=0.925, test=0.787) total time=   6.0s\n",
      "[CV 5/5; 100/100] START rfc__max_depth=46, rfc__n_estimators=451................\n",
      "[CV 5/5; 100/100] END rfc__max_depth=46, rfc__n_estimators=451;, score=(train=0.931, test=0.763) total time=   6.0s\n",
      "----------\n",
      "iter: 1\n",
      "n_candidates: 20\n",
      "n_resources: 27665\n",
      "Fitting 5 folds for each of 20 candidates, totalling 100 fits\n",
      "[CV 1/5; 1/20] START rfc__max_depth=41, rfc__n_estimators=101...................\n",
      "[CV 1/5; 1/20] END rfc__max_depth=41, rfc__n_estimators=101;, score=(train=0.897, test=0.819) total time=   5.4s\n",
      "[CV 2/5; 1/20] START rfc__max_depth=41, rfc__n_estimators=101...................\n",
      "[CV 2/5; 1/20] END rfc__max_depth=41, rfc__n_estimators=101;, score=(train=0.895, test=0.821) total time=   5.1s\n",
      "[CV 3/5; 1/20] START rfc__max_depth=41, rfc__n_estimators=101...................\n",
      "[CV 3/5; 1/20] END rfc__max_depth=41, rfc__n_estimators=101;, score=(train=0.898, test=0.809) total time=   5.1s\n",
      "[CV 4/5; 1/20] START rfc__max_depth=41, rfc__n_estimators=101...................\n",
      "[CV 4/5; 1/20] END rfc__max_depth=41, rfc__n_estimators=101;, score=(train=0.889, test=0.812) total time=   5.2s\n",
      "[CV 5/5; 1/20] START rfc__max_depth=41, rfc__n_estimators=101...................\n",
      "[CV 5/5; 1/20] END rfc__max_depth=41, rfc__n_estimators=101;, score=(train=0.900, test=0.822) total time=   5.2s\n",
      "[CV 1/5; 2/20] START rfc__max_depth=36, rfc__n_estimators=251...................\n",
      "[CV 1/5; 2/20] END rfc__max_depth=36, rfc__n_estimators=251;, score=(train=0.886, test=0.809) total time=  10.9s\n",
      "[CV 2/5; 2/20] START rfc__max_depth=36, rfc__n_estimators=251...................\n",
      "[CV 2/5; 2/20] END rfc__max_depth=36, rfc__n_estimators=251;, score=(train=0.885, test=0.815) total time=  10.7s\n",
      "[CV 3/5; 2/20] START rfc__max_depth=36, rfc__n_estimators=251...................\n",
      "[CV 3/5; 2/20] END rfc__max_depth=36, rfc__n_estimators=251;, score=(train=0.883, test=0.793) total time=  10.7s\n",
      "[CV 4/5; 2/20] START rfc__max_depth=36, rfc__n_estimators=251...................\n",
      "[CV 4/5; 2/20] END rfc__max_depth=36, rfc__n_estimators=251;, score=(train=0.880, test=0.804) total time=  10.7s\n",
      "[CV 5/5; 2/20] START rfc__max_depth=36, rfc__n_estimators=251...................\n",
      "[CV 5/5; 2/20] END rfc__max_depth=36, rfc__n_estimators=251;, score=(train=0.885, test=0.811) total time=  10.9s\n",
      "[CV 1/5; 3/20] START rfc__max_depth=36, rfc__n_estimators=301...................\n",
      "[CV 1/5; 3/20] END rfc__max_depth=36, rfc__n_estimators=301;, score=(train=0.886, test=0.809) total time=  12.6s\n",
      "[CV 2/5; 3/20] START rfc__max_depth=36, rfc__n_estimators=301...................\n",
      "[CV 2/5; 3/20] END rfc__max_depth=36, rfc__n_estimators=301;, score=(train=0.887, test=0.815) total time=  12.7s\n",
      "[CV 3/5; 3/20] START rfc__max_depth=36, rfc__n_estimators=301...................\n",
      "[CV 3/5; 3/20] END rfc__max_depth=36, rfc__n_estimators=301;, score=(train=0.884, test=0.793) total time=  12.8s\n",
      "[CV 4/5; 3/20] START rfc__max_depth=36, rfc__n_estimators=301...................\n",
      "[CV 4/5; 3/20] END rfc__max_depth=36, rfc__n_estimators=301;, score=(train=0.881, test=0.804) total time=  13.2s\n",
      "[CV 5/5; 3/20] START rfc__max_depth=36, rfc__n_estimators=301...................\n",
      "[CV 5/5; 3/20] END rfc__max_depth=36, rfc__n_estimators=301;, score=(train=0.887, test=0.813) total time=  13.2s\n",
      "[CV 1/5; 4/20] START rfc__max_depth=36, rfc__n_estimators=451...................\n",
      "[CV 1/5; 4/20] END rfc__max_depth=36, rfc__n_estimators=451;, score=(train=0.888, test=0.811) total time=  18.9s\n",
      "[CV 2/5; 4/20] START rfc__max_depth=36, rfc__n_estimators=451...................\n",
      "[CV 2/5; 4/20] END rfc__max_depth=36, rfc__n_estimators=451;, score=(train=0.889, test=0.815) total time=  19.0s\n",
      "[CV 3/5; 4/20] START rfc__max_depth=36, rfc__n_estimators=451...................\n",
      "[CV 3/5; 4/20] END rfc__max_depth=36, rfc__n_estimators=451;, score=(train=0.885, test=0.796) total time=  19.2s\n",
      "[CV 4/5; 4/20] START rfc__max_depth=36, rfc__n_estimators=451...................\n",
      "[CV 4/5; 4/20] END rfc__max_depth=36, rfc__n_estimators=451;, score=(train=0.880, test=0.804) total time=  19.1s\n",
      "[CV 5/5; 4/20] START rfc__max_depth=36, rfc__n_estimators=451...................\n",
      "[CV 5/5; 4/20] END rfc__max_depth=36, rfc__n_estimators=451;, score=(train=0.888, test=0.813) total time=  19.5s\n",
      "[CV 1/5; 5/20] START rfc__max_depth=41, rfc__n_estimators=151...................\n",
      "[CV 1/5; 5/20] END rfc__max_depth=41, rfc__n_estimators=151;, score=(train=0.899, test=0.821) total time=   7.7s\n",
      "[CV 2/5; 5/20] START rfc__max_depth=41, rfc__n_estimators=151...................\n",
      "[CV 2/5; 5/20] END rfc__max_depth=41, rfc__n_estimators=151;, score=(train=0.897, test=0.825) total time=   7.5s\n",
      "[CV 3/5; 5/20] START rfc__max_depth=41, rfc__n_estimators=151...................\n",
      "[CV 3/5; 5/20] END rfc__max_depth=41, rfc__n_estimators=151;, score=(train=0.898, test=0.807) total time=   8.0s\n",
      "[CV 4/5; 5/20] START rfc__max_depth=41, rfc__n_estimators=151...................\n",
      "[CV 4/5; 5/20] END rfc__max_depth=41, rfc__n_estimators=151;, score=(train=0.891, test=0.814) total time=   7.8s\n",
      "[CV 5/5; 5/20] START rfc__max_depth=41, rfc__n_estimators=151...................\n",
      "[CV 5/5; 5/20] END rfc__max_depth=41, rfc__n_estimators=151;, score=(train=0.899, test=0.820) total time=   7.8s\n",
      "[CV 1/5; 6/20] START rfc__max_depth=46, rfc__n_estimators=51....................\n",
      "[CV 1/5; 6/20] END rfc__max_depth=46, rfc__n_estimators=51;, score=(train=0.904, test=0.822) total time=   3.2s\n",
      "[CV 2/5; 6/20] START rfc__max_depth=46, rfc__n_estimators=51....................\n",
      "[CV 2/5; 6/20] END rfc__max_depth=46, rfc__n_estimators=51;, score=(train=0.906, test=0.831) total time=   3.1s\n",
      "[CV 3/5; 6/20] START rfc__max_depth=46, rfc__n_estimators=51....................\n",
      "[CV 3/5; 6/20] END rfc__max_depth=46, rfc__n_estimators=51;, score=(train=0.904, test=0.814) total time=   3.1s\n",
      "[CV 4/5; 6/20] START rfc__max_depth=46, rfc__n_estimators=51....................\n",
      "[CV 4/5; 6/20] END rfc__max_depth=46, rfc__n_estimators=51;, score=(train=0.900, test=0.815) total time=   3.1s\n",
      "[CV 5/5; 6/20] START rfc__max_depth=46, rfc__n_estimators=51....................\n",
      "[CV 5/5; 6/20] END rfc__max_depth=46, rfc__n_estimators=51;, score=(train=0.906, test=0.827) total time=   3.1s\n",
      "[CV 1/5; 7/20] START rfc__max_depth=46, rfc__n_estimators=101...................\n",
      "[CV 1/5; 7/20] END rfc__max_depth=46, rfc__n_estimators=101;, score=(train=0.906, test=0.827) total time=   5.8s\n",
      "[CV 2/5; 7/20] START rfc__max_depth=46, rfc__n_estimators=101...................\n",
      "[CV 2/5; 7/20] END rfc__max_depth=46, rfc__n_estimators=101;, score=(train=0.908, test=0.836) total time=   6.1s\n",
      "[CV 3/5; 7/20] START rfc__max_depth=46, rfc__n_estimators=101...................\n",
      "[CV 3/5; 7/20] END rfc__max_depth=46, rfc__n_estimators=101;, score=(train=0.906, test=0.816) total time=   5.8s\n",
      "[CV 4/5; 7/20] START rfc__max_depth=46, rfc__n_estimators=101...................\n",
      "[CV 4/5; 7/20] END rfc__max_depth=46, rfc__n_estimators=101;, score=(train=0.903, test=0.822) total time=   6.0s\n",
      "[CV 5/5; 7/20] START rfc__max_depth=46, rfc__n_estimators=101...................\n",
      "[CV 5/5; 7/20] END rfc__max_depth=46, rfc__n_estimators=101;, score=(train=0.909, test=0.831) total time=   6.1s\n",
      "[CV 1/5; 8/20] START rfc__max_depth=41, rfc__n_estimators=201...................\n",
      "[CV 1/5; 8/20] END rfc__max_depth=41, rfc__n_estimators=201;, score=(train=0.898, test=0.821) total time=  10.2s\n",
      "[CV 2/5; 8/20] START rfc__max_depth=41, rfc__n_estimators=201...................\n",
      "[CV 2/5; 8/20] END rfc__max_depth=41, rfc__n_estimators=201;, score=(train=0.896, test=0.826) total time=  10.5s\n",
      "[CV 3/5; 8/20] START rfc__max_depth=41, rfc__n_estimators=201...................\n",
      "[CV 3/5; 8/20] END rfc__max_depth=41, rfc__n_estimators=201;, score=(train=0.896, test=0.807) total time=  10.1s\n",
      "[CV 4/5; 8/20] START rfc__max_depth=41, rfc__n_estimators=201...................\n",
      "[CV 4/5; 8/20] END rfc__max_depth=41, rfc__n_estimators=201;, score=(train=0.891, test=0.815) total time=  10.2s\n",
      "[CV 5/5; 8/20] START rfc__max_depth=41, rfc__n_estimators=201...................\n",
      "[CV 5/5; 8/20] END rfc__max_depth=41, rfc__n_estimators=201;, score=(train=0.899, test=0.820) total time=   9.9s\n",
      "[CV 1/5; 9/20] START rfc__max_depth=41, rfc__n_estimators=351...................\n",
      "[CV 1/5; 9/20] END rfc__max_depth=41, rfc__n_estimators=351;, score=(train=0.899, test=0.821) total time=  17.4s\n",
      "[CV 2/5; 9/20] START rfc__max_depth=41, rfc__n_estimators=351...................\n",
      "[CV 2/5; 9/20] END rfc__max_depth=41, rfc__n_estimators=351;, score=(train=0.899, test=0.828) total time=  17.5s\n",
      "[CV 3/5; 9/20] START rfc__max_depth=41, rfc__n_estimators=351...................\n",
      "[CV 3/5; 9/20] END rfc__max_depth=41, rfc__n_estimators=351;, score=(train=0.899, test=0.812) total time=  17.7s\n",
      "[CV 4/5; 9/20] START rfc__max_depth=41, rfc__n_estimators=351...................\n",
      "[CV 4/5; 9/20] END rfc__max_depth=41, rfc__n_estimators=351;, score=(train=0.893, test=0.817) total time=  17.7s\n",
      "[CV 5/5; 9/20] START rfc__max_depth=41, rfc__n_estimators=351...................\n",
      "[CV 5/5; 9/20] END rfc__max_depth=41, rfc__n_estimators=351;, score=(train=0.901, test=0.825) total time=  17.5s\n",
      "[CV 1/5; 10/20] START rfc__max_depth=41, rfc__n_estimators=301..................\n",
      "[CV 1/5; 10/20] END rfc__max_depth=41, rfc__n_estimators=301;, score=(train=0.899, test=0.821) total time=  14.8s\n",
      "[CV 2/5; 10/20] START rfc__max_depth=41, rfc__n_estimators=301..................\n",
      "[CV 2/5; 10/20] END rfc__max_depth=41, rfc__n_estimators=301;, score=(train=0.898, test=0.828) total time=  14.8s\n",
      "[CV 3/5; 10/20] START rfc__max_depth=41, rfc__n_estimators=301..................\n",
      "[CV 3/5; 10/20] END rfc__max_depth=41, rfc__n_estimators=301;, score=(train=0.898, test=0.808) total time=  14.9s\n",
      "[CV 4/5; 10/20] START rfc__max_depth=41, rfc__n_estimators=301..................\n",
      "[CV 4/5; 10/20] END rfc__max_depth=41, rfc__n_estimators=301;, score=(train=0.892, test=0.816) total time=  14.9s\n",
      "[CV 5/5; 10/20] START rfc__max_depth=41, rfc__n_estimators=301..................\n",
      "[CV 5/5; 10/20] END rfc__max_depth=41, rfc__n_estimators=301;, score=(train=0.901, test=0.823) total time=  15.1s\n",
      "[CV 1/5; 11/20] START rfc__max_depth=41, rfc__n_estimators=401..................\n",
      "[CV 1/5; 11/20] END rfc__max_depth=41, rfc__n_estimators=401;, score=(train=0.899, test=0.821) total time=  19.6s\n",
      "[CV 2/5; 11/20] START rfc__max_depth=41, rfc__n_estimators=401..................\n",
      "[CV 2/5; 11/20] END rfc__max_depth=41, rfc__n_estimators=401;, score=(train=0.899, test=0.828) total time=  20.0s\n",
      "[CV 3/5; 11/20] START rfc__max_depth=41, rfc__n_estimators=401..................\n",
      "[CV 3/5; 11/20] END rfc__max_depth=41, rfc__n_estimators=401;, score=(train=0.899, test=0.813) total time=  20.2s\n",
      "[CV 4/5; 11/20] START rfc__max_depth=41, rfc__n_estimators=401..................\n",
      "[CV 4/5; 11/20] END rfc__max_depth=41, rfc__n_estimators=401;, score=(train=0.892, test=0.815) total time=  19.9s\n",
      "[CV 5/5; 11/20] START rfc__max_depth=41, rfc__n_estimators=401..................\n",
      "[CV 5/5; 11/20] END rfc__max_depth=41, rfc__n_estimators=401;, score=(train=0.902, test=0.825) total time=  20.0s\n",
      "[CV 1/5; 12/20] START rfc__max_depth=41, rfc__n_estimators=451..................\n",
      "[CV 1/5; 12/20] END rfc__max_depth=41, rfc__n_estimators=451;, score=(train=0.900, test=0.823) total time=  22.2s\n",
      "[CV 2/5; 12/20] START rfc__max_depth=41, rfc__n_estimators=451..................\n",
      "[CV 2/5; 12/20] END rfc__max_depth=41, rfc__n_estimators=451;, score=(train=0.901, test=0.827) total time=  22.1s\n",
      "[CV 3/5; 12/20] START rfc__max_depth=41, rfc__n_estimators=451..................\n",
      "[CV 3/5; 12/20] END rfc__max_depth=41, rfc__n_estimators=451;, score=(train=0.899, test=0.814) total time=  22.7s\n",
      "[CV 4/5; 12/20] START rfc__max_depth=41, rfc__n_estimators=451..................\n",
      "[CV 4/5; 12/20] END rfc__max_depth=41, rfc__n_estimators=451;, score=(train=0.893, test=0.815) total time=  22.5s\n",
      "[CV 5/5; 12/20] START rfc__max_depth=41, rfc__n_estimators=451..................\n",
      "[CV 5/5; 12/20] END rfc__max_depth=41, rfc__n_estimators=451;, score=(train=0.901, test=0.822) total time=  22.6s\n",
      "[CV 1/5; 13/20] START rfc__max_depth=41, rfc__n_estimators=251..................\n",
      "[CV 1/5; 13/20] END rfc__max_depth=41, rfc__n_estimators=251;, score=(train=0.898, test=0.818) total time=  12.6s\n",
      "[CV 2/5; 13/20] START rfc__max_depth=41, rfc__n_estimators=251..................\n",
      "[CV 2/5; 13/20] END rfc__max_depth=41, rfc__n_estimators=251;, score=(train=0.897, test=0.829) total time=  12.7s\n",
      "[CV 3/5; 13/20] START rfc__max_depth=41, rfc__n_estimators=251..................\n",
      "[CV 3/5; 13/20] END rfc__max_depth=41, rfc__n_estimators=251;, score=(train=0.897, test=0.807) total time=  12.7s\n",
      "[CV 4/5; 13/20] START rfc__max_depth=41, rfc__n_estimators=251..................\n",
      "[CV 4/5; 13/20] END rfc__max_depth=41, rfc__n_estimators=251;, score=(train=0.892, test=0.814) total time=  12.7s\n",
      "[CV 5/5; 13/20] START rfc__max_depth=41, rfc__n_estimators=251..................\n",
      "[CV 5/5; 13/20] END rfc__max_depth=41, rfc__n_estimators=251;, score=(train=0.899, test=0.820) total time=  12.4s\n",
      "[CV 1/5; 14/20] START rfc__max_depth=46, rfc__n_estimators=151..................\n",
      "[CV 1/5; 14/20] END rfc__max_depth=46, rfc__n_estimators=151;, score=(train=0.907, test=0.830) total time=   8.6s\n",
      "[CV 2/5; 14/20] START rfc__max_depth=46, rfc__n_estimators=151..................\n",
      "[CV 2/5; 14/20] END rfc__max_depth=46, rfc__n_estimators=151;, score=(train=0.907, test=0.834) total time=   8.8s\n",
      "[CV 3/5; 14/20] START rfc__max_depth=46, rfc__n_estimators=151..................\n",
      "[CV 3/5; 14/20] END rfc__max_depth=46, rfc__n_estimators=151;, score=(train=0.908, test=0.817) total time=   8.8s\n",
      "[CV 4/5; 14/20] START rfc__max_depth=46, rfc__n_estimators=151..................\n",
      "[CV 4/5; 14/20] END rfc__max_depth=46, rfc__n_estimators=151;, score=(train=0.903, test=0.825) total time=   8.9s\n",
      "[CV 5/5; 14/20] START rfc__max_depth=46, rfc__n_estimators=151..................\n",
      "[CV 5/5; 14/20] END rfc__max_depth=46, rfc__n_estimators=151;, score=(train=0.908, test=0.829) total time=   8.8s\n",
      "[CV 1/5; 15/20] START rfc__max_depth=46, rfc__n_estimators=201..................\n",
      "[CV 1/5; 15/20] END rfc__max_depth=46, rfc__n_estimators=201;, score=(train=0.908, test=0.832) total time=  11.6s\n",
      "[CV 2/5; 15/20] START rfc__max_depth=46, rfc__n_estimators=201..................\n",
      "[CV 2/5; 15/20] END rfc__max_depth=46, rfc__n_estimators=201;, score=(train=0.908, test=0.836) total time=  11.8s\n",
      "[CV 3/5; 15/20] START rfc__max_depth=46, rfc__n_estimators=201..................\n",
      "[CV 3/5; 15/20] END rfc__max_depth=46, rfc__n_estimators=201;, score=(train=0.908, test=0.817) total time=  11.7s\n",
      "[CV 4/5; 15/20] START rfc__max_depth=46, rfc__n_estimators=201..................\n",
      "[CV 4/5; 15/20] END rfc__max_depth=46, rfc__n_estimators=201;, score=(train=0.904, test=0.825) total time=  11.4s\n",
      "[CV 5/5; 15/20] START rfc__max_depth=46, rfc__n_estimators=201..................\n",
      "[CV 5/5; 15/20] END rfc__max_depth=46, rfc__n_estimators=201;, score=(train=0.908, test=0.829) total time=  11.6s\n",
      "[CV 1/5; 16/20] START rfc__max_depth=46, rfc__n_estimators=351..................\n",
      "[CV 1/5; 16/20] END rfc__max_depth=46, rfc__n_estimators=351;, score=(train=0.908, test=0.832) total time=  20.2s\n",
      "[CV 2/5; 16/20] START rfc__max_depth=46, rfc__n_estimators=351..................\n",
      "[CV 2/5; 16/20] END rfc__max_depth=46, rfc__n_estimators=351;, score=(train=0.909, test=0.836) total time=  20.0s\n",
      "[CV 3/5; 16/20] START rfc__max_depth=46, rfc__n_estimators=351..................\n",
      "[CV 3/5; 16/20] END rfc__max_depth=46, rfc__n_estimators=351;, score=(train=0.909, test=0.820) total time=  20.1s\n",
      "[CV 4/5; 16/20] START rfc__max_depth=46, rfc__n_estimators=351..................\n",
      "[CV 4/5; 16/20] END rfc__max_depth=46, rfc__n_estimators=351;, score=(train=0.906, test=0.828) total time=  20.4s\n",
      "[CV 5/5; 16/20] START rfc__max_depth=46, rfc__n_estimators=351..................\n",
      "[CV 5/5; 16/20] END rfc__max_depth=46, rfc__n_estimators=351;, score=(train=0.911, test=0.832) total time=  20.6s\n",
      "[CV 1/5; 17/20] START rfc__max_depth=46, rfc__n_estimators=301..................\n",
      "[CV 1/5; 17/20] END rfc__max_depth=46, rfc__n_estimators=301;, score=(train=0.908, test=0.832) total time=  17.3s\n",
      "[CV 2/5; 17/20] START rfc__max_depth=46, rfc__n_estimators=301..................\n",
      "[CV 2/5; 17/20] END rfc__max_depth=46, rfc__n_estimators=301;, score=(train=0.909, test=0.838) total time=  17.4s\n",
      "[CV 3/5; 17/20] START rfc__max_depth=46, rfc__n_estimators=301..................\n",
      "[CV 3/5; 17/20] END rfc__max_depth=46, rfc__n_estimators=301;, score=(train=0.908, test=0.818) total time=  17.5s\n",
      "[CV 4/5; 17/20] START rfc__max_depth=46, rfc__n_estimators=301..................\n",
      "[CV 4/5; 17/20] END rfc__max_depth=46, rfc__n_estimators=301;, score=(train=0.907, test=0.828) total time=  17.5s\n",
      "[CV 5/5; 17/20] START rfc__max_depth=46, rfc__n_estimators=301..................\n",
      "[CV 5/5; 17/20] END rfc__max_depth=46, rfc__n_estimators=301;, score=(train=0.910, test=0.831) total time=  17.6s\n",
      "[CV 1/5; 18/20] START rfc__max_depth=46, rfc__n_estimators=251..................\n",
      "[CV 1/5; 18/20] END rfc__max_depth=46, rfc__n_estimators=251;, score=(train=0.907, test=0.832) total time=  14.6s\n",
      "[CV 2/5; 18/20] START rfc__max_depth=46, rfc__n_estimators=251..................\n",
      "[CV 2/5; 18/20] END rfc__max_depth=46, rfc__n_estimators=251;, score=(train=0.908, test=0.836) total time=  14.7s\n",
      "[CV 3/5; 18/20] START rfc__max_depth=46, rfc__n_estimators=251..................\n",
      "[CV 3/5; 18/20] END rfc__max_depth=46, rfc__n_estimators=251;, score=(train=0.907, test=0.819) total time=  14.7s\n",
      "[CV 4/5; 18/20] START rfc__max_depth=46, rfc__n_estimators=251..................\n",
      "[CV 4/5; 18/20] END rfc__max_depth=46, rfc__n_estimators=251;, score=(train=0.906, test=0.828) total time=  14.5s\n",
      "[CV 5/5; 18/20] START rfc__max_depth=46, rfc__n_estimators=251..................\n",
      "[CV 5/5; 18/20] END rfc__max_depth=46, rfc__n_estimators=251;, score=(train=0.909, test=0.829) total time=  14.3s\n",
      "[CV 1/5; 19/20] START rfc__max_depth=46, rfc__n_estimators=401..................\n",
      "[CV 1/5; 19/20] END rfc__max_depth=46, rfc__n_estimators=401;, score=(train=0.909, test=0.833) total time=  23.1s\n",
      "[CV 2/5; 19/20] START rfc__max_depth=46, rfc__n_estimators=401..................\n",
      "[CV 2/5; 19/20] END rfc__max_depth=46, rfc__n_estimators=401;, score=(train=0.909, test=0.836) total time=  23.5s\n",
      "[CV 3/5; 19/20] START rfc__max_depth=46, rfc__n_estimators=401..................\n",
      "[CV 3/5; 19/20] END rfc__max_depth=46, rfc__n_estimators=401;, score=(train=0.909, test=0.820) total time=  23.6s\n",
      "[CV 4/5; 19/20] START rfc__max_depth=46, rfc__n_estimators=401..................\n",
      "[CV 4/5; 19/20] END rfc__max_depth=46, rfc__n_estimators=401;, score=(train=0.906, test=0.828) total time=  23.2s\n",
      "[CV 5/5; 19/20] START rfc__max_depth=46, rfc__n_estimators=401..................\n",
      "[CV 5/5; 19/20] END rfc__max_depth=46, rfc__n_estimators=401;, score=(train=0.911, test=0.832) total time=  23.1s\n",
      "[CV 1/5; 20/20] START rfc__max_depth=46, rfc__n_estimators=451..................\n",
      "[CV 1/5; 20/20] END rfc__max_depth=46, rfc__n_estimators=451;, score=(train=0.908, test=0.831) total time=  25.6s\n",
      "[CV 2/5; 20/20] START rfc__max_depth=46, rfc__n_estimators=451..................\n",
      "[CV 2/5; 20/20] END rfc__max_depth=46, rfc__n_estimators=451;, score=(train=0.910, test=0.838) total time=  25.8s\n",
      "[CV 3/5; 20/20] START rfc__max_depth=46, rfc__n_estimators=451..................\n",
      "[CV 3/5; 20/20] END rfc__max_depth=46, rfc__n_estimators=451;, score=(train=0.909, test=0.822) total time=  25.8s\n",
      "[CV 4/5; 20/20] START rfc__max_depth=46, rfc__n_estimators=451..................\n",
      "[CV 4/5; 20/20] END rfc__max_depth=46, rfc__n_estimators=451;, score=(train=0.907, test=0.828) total time=  25.9s\n",
      "[CV 5/5; 20/20] START rfc__max_depth=46, rfc__n_estimators=451..................\n",
      "[CV 5/5; 20/20] END rfc__max_depth=46, rfc__n_estimators=451;, score=(train=0.910, test=0.832) total time=  26.5s\n",
      "----------\n",
      "iter: 2\n",
      "n_candidates: 4\n",
      "n_resources: 138325\n",
      "Fitting 5 folds for each of 4 candidates, totalling 20 fits\n",
      "[CV 1/5; 1/4] START rfc__max_depth=46, rfc__n_estimators=301....................\n",
      "[CV 1/5; 1/4] END rfc__max_depth=46, rfc__n_estimators=301;, score=(train=0.897, test=0.883) total time= 1.9min\n",
      "[CV 2/5; 1/4] START rfc__max_depth=46, rfc__n_estimators=301....................\n",
      "[CV 2/5; 1/4] END rfc__max_depth=46, rfc__n_estimators=301;, score=(train=0.897, test=0.879) total time= 1.8min\n",
      "[CV 3/5; 1/4] START rfc__max_depth=46, rfc__n_estimators=301....................\n",
      "[CV 3/5; 1/4] END rfc__max_depth=46, rfc__n_estimators=301;, score=(train=0.895, test=0.879) total time= 1.9min\n",
      "[CV 4/5; 1/4] START rfc__max_depth=46, rfc__n_estimators=301....................\n",
      "[CV 4/5; 1/4] END rfc__max_depth=46, rfc__n_estimators=301;, score=(train=0.898, test=0.884) total time= 1.9min\n",
      "[CV 5/5; 1/4] START rfc__max_depth=46, rfc__n_estimators=301....................\n",
      "[CV 5/5; 1/4] END rfc__max_depth=46, rfc__n_estimators=301;, score=(train=0.897, test=0.878) total time= 1.9min\n",
      "[CV 1/5; 2/4] START rfc__max_depth=46, rfc__n_estimators=351....................\n",
      "[CV 1/5; 2/4] END rfc__max_depth=46, rfc__n_estimators=351;, score=(train=0.897, test=0.883) total time= 2.2min\n",
      "[CV 2/5; 2/4] START rfc__max_depth=46, rfc__n_estimators=351....................\n",
      "[CV 2/5; 2/4] END rfc__max_depth=46, rfc__n_estimators=351;, score=(train=0.897, test=0.879) total time= 2.1min\n",
      "[CV 3/5; 2/4] START rfc__max_depth=46, rfc__n_estimators=351....................\n",
      "[CV 3/5; 2/4] END rfc__max_depth=46, rfc__n_estimators=351;, score=(train=0.897, test=0.879) total time= 2.1min\n",
      "[CV 4/5; 2/4] START rfc__max_depth=46, rfc__n_estimators=351....................\n",
      "[CV 4/5; 2/4] END rfc__max_depth=46, rfc__n_estimators=351;, score=(train=0.897, test=0.882) total time= 2.2min\n",
      "[CV 5/5; 2/4] START rfc__max_depth=46, rfc__n_estimators=351....................\n",
      "[CV 5/5; 2/4] END rfc__max_depth=46, rfc__n_estimators=351;, score=(train=0.897, test=0.877) total time= 2.2min\n",
      "[CV 1/5; 3/4] START rfc__max_depth=46, rfc__n_estimators=401....................\n",
      "[CV 1/5; 3/4] END rfc__max_depth=46, rfc__n_estimators=401;, score=(train=0.897, test=0.883) total time= 2.5min\n",
      "[CV 2/5; 3/4] START rfc__max_depth=46, rfc__n_estimators=401....................\n",
      "[CV 2/5; 3/4] END rfc__max_depth=46, rfc__n_estimators=401;, score=(train=0.897, test=0.879) total time= 2.5min\n",
      "[CV 3/5; 3/4] START rfc__max_depth=46, rfc__n_estimators=401....................\n",
      "[CV 3/5; 3/4] END rfc__max_depth=46, rfc__n_estimators=401;, score=(train=0.898, test=0.881) total time= 2.5min\n",
      "[CV 4/5; 3/4] START rfc__max_depth=46, rfc__n_estimators=401....................\n",
      "[CV 4/5; 3/4] END rfc__max_depth=46, rfc__n_estimators=401;, score=(train=0.897, test=0.883) total time= 2.5min\n",
      "[CV 5/5; 3/4] START rfc__max_depth=46, rfc__n_estimators=401....................\n",
      "[CV 5/5; 3/4] END rfc__max_depth=46, rfc__n_estimators=401;, score=(train=0.896, test=0.877) total time= 2.5min\n",
      "[CV 1/5; 4/4] START rfc__max_depth=46, rfc__n_estimators=451....................\n",
      "[CV 1/5; 4/4] END rfc__max_depth=46, rfc__n_estimators=451;, score=(train=0.897, test=0.883) total time= 2.8min\n",
      "[CV 2/5; 4/4] START rfc__max_depth=46, rfc__n_estimators=451....................\n",
      "[CV 2/5; 4/4] END rfc__max_depth=46, rfc__n_estimators=451;, score=(train=0.897, test=0.880) total time= 2.8min\n",
      "[CV 3/5; 4/4] START rfc__max_depth=46, rfc__n_estimators=451....................\n",
      "[CV 3/5; 4/4] END rfc__max_depth=46, rfc__n_estimators=451;, score=(train=0.898, test=0.881) total time= 2.8min\n",
      "[CV 4/5; 4/4] START rfc__max_depth=46, rfc__n_estimators=451....................\n",
      "[CV 4/5; 4/4] END rfc__max_depth=46, rfc__n_estimators=451;, score=(train=0.898, test=0.884) total time= 2.8min\n",
      "[CV 5/5; 4/4] START rfc__max_depth=46, rfc__n_estimators=451....................\n",
      "[CV 5/5; 4/4] END rfc__max_depth=46, rfc__n_estimators=451;, score=(train=0.896, test=0.877) total time= 2.8min\n",
      "0.8811099103990572\n",
      "{'rfc__max_depth': 46, 'rfc__n_estimators': 451}\n"
     ]
    }
   ],
   "source": [
    "from sklearn.ensemble import RandomForestClassifier\n",
    "from sklearn.metrics import make_scorer\n",
    "from sklearn.metrics import f1_score\n",
    "from sklearn.experimental import enable_halving_search_cv\n",
    "from sklearn.model_selection import HalvingGridSearchCV\n",
    "from imblearn.over_sampling import RandomOverSampler\n",
    "from imblearn.pipeline import Pipeline\n",
    "\n",
    "\n",
    "rfc = RandomForestClassifier(random_state=0, n_jobs=3)\n",
    "\n",
    "rfcgrid = {\n",
    "    'rfc__max_depth' : list(range(1,50,5)),\n",
    "    'rfc__n_estimators' : list(range(1,500,50)),\n",
    "}\n",
    "\n",
    "f1 = make_scorer(f1_score, average='binary', pos_label = 1) \n",
    "\n",
    "imba_pipe_rfc = Pipeline([\n",
    "    ('sampling', RandomOverSampler(random_state=0)), \n",
    "    ('rfc', rfc)\n",
    "    ])\n",
    "\n",
    "\n",
    "rfcrs = HalvingGridSearchCV(estimator=imba_pipe_rfc, param_grid=rfcgrid, factor=5, cv=5, scoring=f1, verbose=10, refit=False)\n",
    "\n",
    "rfcrs.fit(x_trainvec, y_train.to_numpy().ravel())\n",
    "\n",
    "print(rfcrs.best_score_)\n",
    "print(rfcrs.best_params_)"
   ]
  },
  {
   "cell_type": "markdown",
   "metadata": {},
   "source": [
    "### RFC Validation Set Evaluation"
   ]
  },
  {
   "cell_type": "code",
   "execution_count": 19,
   "metadata": {},
   "outputs": [
    {
     "name": "stdout",
     "output_type": "stream",
     "text": [
      "{'rfc__max_depth': 46, 'rfc__n_estimators': 451}\n"
     ]
    }
   ],
   "source": [
    "print(rfcrs.best_params_)\n",
    "\n",
    "rfcrs.best_params_['max_depth']=rfcrs.best_params_['rfc__max_depth']\n",
    "rfcrs.best_params_['n_estimators']=rfcrs.best_params_['rfc__n_estimators']"
   ]
  },
  {
   "cell_type": "code",
   "execution_count": 20,
   "metadata": {},
   "outputs": [],
   "source": [
    "del rfcrs.best_params_['rfc__max_depth']\n",
    "del rfcrs.best_params_['rfc__n_estimators']"
   ]
  },
  {
   "cell_type": "code",
   "execution_count": 21,
   "metadata": {},
   "outputs": [
    {
     "name": "stdout",
     "output_type": "stream",
     "text": [
      "{'max_depth': 46, 'n_estimators': 451}\n"
     ]
    }
   ],
   "source": [
    "print(rfcrs.best_params_)"
   ]
  },
  {
   "cell_type": "code",
   "execution_count": 22,
   "metadata": {},
   "outputs": [
    {
     "name": "stdout",
     "output_type": "stream",
     "text": [
      "RFC Validation Train Accuracy Score : 0.8934122537502259\n",
      "RFC Validation Test Accuracy Score : 0.9280431740955427\n",
      "RFC Validation Train F1 Score : 0.90278979684345\n",
      "RFC Validation Test F1 Score : 0.961439588688946\n",
      "RFC Validation Confusion matrix:\n",
      "[[  465   710]\n",
      " [  370 13464]]\n",
      "RFC Validation Classification report:\n",
      "               precision    recall  f1-score   support\n",
      "\n",
      "           0       0.56      0.40      0.46      1175\n",
      "           1       0.95      0.97      0.96     13834\n",
      "\n",
      "    accuracy                           0.93     15009\n",
      "   macro avg       0.75      0.68      0.71     15009\n",
      "weighted avg       0.92      0.93      0.92     15009\n",
      "\n"
     ]
    }
   ],
   "source": [
    "best_rfc_model_val = RandomForestClassifier(random_state=0, n_jobs=3).set_params(**rfcrs.best_params_)\n",
    "best_rfc_model_test = RandomForestClassifier(random_state=0, n_jobs=3).set_params(**rfcrs.best_params_)\n",
    "\n",
    "best_rfc_model_val.fit(x_val_trainvec, y_val_train.to_numpy().ravel())\n",
    "best_rfc_model_test.fit(x_trainvec, y_train.to_numpy().ravel())\n",
    "\n",
    "rfc_val_train_predictions = best_rfc_model_val.predict(x_val_trainvec)\n",
    "rfc_val_test_predictions = best_rfc_model_val.predict(x_val_testvec)\n",
    "rfc_test_predictions = best_rfc_model_test.predict(x_testvec)\n",
    "\n",
    "print(\"RFC Validation Train Accuracy Score :\",accuracy_score(y_pred=rfc_val_train_predictions, y_true=y_val_train.to_numpy().ravel()))\n",
    "print(\"RFC Validation Test Accuracy Score :\",accuracy_score(y_pred=rfc_val_test_predictions, y_true= y_val_test.to_numpy().ravel()))\n",
    "\n",
    "print(\"RFC Validation Train F1 Score :\",f1_score(y_pred=rfc_val_train_predictions, y_true=y_val_train.to_numpy().ravel(), average = 'binary'))\n",
    "print(\"RFC Validation Test F1 Score :\",f1_score(y_pred=rfc_val_test_predictions, y_true=y_val_test.to_numpy().ravel(), average = 'binary'))\n",
    "\n",
    "print(\"RFC Validation Confusion matrix:\\n{}\".format(confusion_matrix(y_pred=rfc_val_test_predictions, y_true=y_val_test.to_numpy().ravel())))\n",
    "print(\"RFC Validation Classification report:\\n\",classification_report(y_pred=rfc_val_test_predictions, y_true= y_val_test.to_numpy().ravel()))"
   ]
  },
  {
   "cell_type": "markdown",
   "metadata": {},
   "source": [
    "### Multinomial Naive Bayes Classifier"
   ]
  },
  {
   "cell_type": "code",
   "execution_count": 23,
   "metadata": {},
   "outputs": [
    {
     "name": "stdout",
     "output_type": "stream",
     "text": [
      "Fitting 5 folds for each of 20 candidates, totalling 100 fits\n",
      "[CV 1/5; 1/20] START mnbc__alpha=0.1, mnbc__fit_prior=True......................\n",
      "[CV 1/5; 1/20] END mnbc__alpha=0.1, mnbc__fit_prior=True;, score=0.860 total time=   0.0s\n",
      "[CV 2/5; 1/20] START mnbc__alpha=0.1, mnbc__fit_prior=True......................\n",
      "[CV 2/5; 1/20] END mnbc__alpha=0.1, mnbc__fit_prior=True;, score=0.855 total time=   0.0s\n",
      "[CV 3/5; 1/20] START mnbc__alpha=0.1, mnbc__fit_prior=True......................\n",
      "[CV 3/5; 1/20] END mnbc__alpha=0.1, mnbc__fit_prior=True;, score=0.857 total time=   0.0s\n",
      "[CV 4/5; 1/20] START mnbc__alpha=0.1, mnbc__fit_prior=True......................\n",
      "[CV 4/5; 1/20] END mnbc__alpha=0.1, mnbc__fit_prior=True;, score=0.858 total time=   0.0s\n",
      "[CV 5/5; 1/20] START mnbc__alpha=0.1, mnbc__fit_prior=True......................\n",
      "[CV 5/5; 1/20] END mnbc__alpha=0.1, mnbc__fit_prior=True;, score=0.853 total time=   0.0s\n",
      "[CV 1/5; 2/20] START mnbc__alpha=0.1, mnbc__fit_prior=False.....................\n",
      "[CV 1/5; 2/20] END mnbc__alpha=0.1, mnbc__fit_prior=False;, score=0.860 total time=   0.0s\n",
      "[CV 2/5; 2/20] START mnbc__alpha=0.1, mnbc__fit_prior=False.....................\n",
      "[CV 2/5; 2/20] END mnbc__alpha=0.1, mnbc__fit_prior=False;, score=0.855 total time=   0.0s\n",
      "[CV 3/5; 2/20] START mnbc__alpha=0.1, mnbc__fit_prior=False.....................\n",
      "[CV 3/5; 2/20] END mnbc__alpha=0.1, mnbc__fit_prior=False;, score=0.857 total time=   0.0s\n",
      "[CV 4/5; 2/20] START mnbc__alpha=0.1, mnbc__fit_prior=False.....................\n",
      "[CV 4/5; 2/20] END mnbc__alpha=0.1, mnbc__fit_prior=False;, score=0.858 total time=   0.0s\n",
      "[CV 5/5; 2/20] START mnbc__alpha=0.1, mnbc__fit_prior=False.....................\n",
      "[CV 5/5; 2/20] END mnbc__alpha=0.1, mnbc__fit_prior=False;, score=0.853 total time=   0.0s\n",
      "[CV 1/5; 3/20] START mnbc__alpha=0.2, mnbc__fit_prior=True......................\n",
      "[CV 1/5; 3/20] END mnbc__alpha=0.2, mnbc__fit_prior=True;, score=0.856 total time=   0.0s\n",
      "[CV 2/5; 3/20] START mnbc__alpha=0.2, mnbc__fit_prior=True......................\n",
      "[CV 2/5; 3/20] END mnbc__alpha=0.2, mnbc__fit_prior=True;, score=0.852 total time=   0.0s\n",
      "[CV 3/5; 3/20] START mnbc__alpha=0.2, mnbc__fit_prior=True......................\n",
      "[CV 3/5; 3/20] END mnbc__alpha=0.2, mnbc__fit_prior=True;, score=0.853 total time=   0.0s\n",
      "[CV 4/5; 3/20] START mnbc__alpha=0.2, mnbc__fit_prior=True......................\n",
      "[CV 4/5; 3/20] END mnbc__alpha=0.2, mnbc__fit_prior=True;, score=0.856 total time=   0.0s\n",
      "[CV 5/5; 3/20] START mnbc__alpha=0.2, mnbc__fit_prior=True......................\n",
      "[CV 5/5; 3/20] END mnbc__alpha=0.2, mnbc__fit_prior=True;, score=0.850 total time=   0.0s\n",
      "[CV 1/5; 4/20] START mnbc__alpha=0.2, mnbc__fit_prior=False.....................\n",
      "[CV 1/5; 4/20] END mnbc__alpha=0.2, mnbc__fit_prior=False;, score=0.856 total time=   0.0s\n",
      "[CV 2/5; 4/20] START mnbc__alpha=0.2, mnbc__fit_prior=False.....................\n",
      "[CV 2/5; 4/20] END mnbc__alpha=0.2, mnbc__fit_prior=False;, score=0.852 total time=   0.0s\n",
      "[CV 3/5; 4/20] START mnbc__alpha=0.2, mnbc__fit_prior=False.....................\n",
      "[CV 3/5; 4/20] END mnbc__alpha=0.2, mnbc__fit_prior=False;, score=0.853 total time=   0.0s\n",
      "[CV 4/5; 4/20] START mnbc__alpha=0.2, mnbc__fit_prior=False.....................\n",
      "[CV 4/5; 4/20] END mnbc__alpha=0.2, mnbc__fit_prior=False;, score=0.856 total time=   0.0s\n",
      "[CV 5/5; 4/20] START mnbc__alpha=0.2, mnbc__fit_prior=False.....................\n",
      "[CV 5/5; 4/20] END mnbc__alpha=0.2, mnbc__fit_prior=False;, score=0.850 total time=   0.0s\n",
      "[CV 1/5; 5/20] START mnbc__alpha=0.3, mnbc__fit_prior=True......................\n",
      "[CV 1/5; 5/20] END mnbc__alpha=0.3, mnbc__fit_prior=True;, score=0.854 total time=   0.0s\n",
      "[CV 2/5; 5/20] START mnbc__alpha=0.3, mnbc__fit_prior=True......................\n",
      "[CV 2/5; 5/20] END mnbc__alpha=0.3, mnbc__fit_prior=True;, score=0.849 total time=   0.0s\n",
      "[CV 3/5; 5/20] START mnbc__alpha=0.3, mnbc__fit_prior=True......................\n",
      "[CV 3/5; 5/20] END mnbc__alpha=0.3, mnbc__fit_prior=True;, score=0.851 total time=   0.0s\n",
      "[CV 4/5; 5/20] START mnbc__alpha=0.3, mnbc__fit_prior=True......................\n",
      "[CV 4/5; 5/20] END mnbc__alpha=0.3, mnbc__fit_prior=True;, score=0.854 total time=   0.0s\n",
      "[CV 5/5; 5/20] START mnbc__alpha=0.3, mnbc__fit_prior=True......................\n",
      "[CV 5/5; 5/20] END mnbc__alpha=0.3, mnbc__fit_prior=True;, score=0.848 total time=   0.0s\n",
      "[CV 1/5; 6/20] START mnbc__alpha=0.3, mnbc__fit_prior=False.....................\n",
      "[CV 1/5; 6/20] END mnbc__alpha=0.3, mnbc__fit_prior=False;, score=0.854 total time=   0.0s\n",
      "[CV 2/5; 6/20] START mnbc__alpha=0.3, mnbc__fit_prior=False.....................\n",
      "[CV 2/5; 6/20] END mnbc__alpha=0.3, mnbc__fit_prior=False;, score=0.849 total time=   0.0s\n",
      "[CV 3/5; 6/20] START mnbc__alpha=0.3, mnbc__fit_prior=False.....................\n",
      "[CV 3/5; 6/20] END mnbc__alpha=0.3, mnbc__fit_prior=False;, score=0.851 total time=   0.0s\n",
      "[CV 4/5; 6/20] START mnbc__alpha=0.3, mnbc__fit_prior=False.....................\n",
      "[CV 4/5; 6/20] END mnbc__alpha=0.3, mnbc__fit_prior=False;, score=0.854 total time=   0.0s\n",
      "[CV 5/5; 6/20] START mnbc__alpha=0.3, mnbc__fit_prior=False.....................\n",
      "[CV 5/5; 6/20] END mnbc__alpha=0.3, mnbc__fit_prior=False;, score=0.848 total time=   0.0s\n",
      "[CV 1/5; 7/20] START mnbc__alpha=0.4, mnbc__fit_prior=True......................\n",
      "[CV 1/5; 7/20] END mnbc__alpha=0.4, mnbc__fit_prior=True;, score=0.852 total time=   0.0s\n",
      "[CV 2/5; 7/20] START mnbc__alpha=0.4, mnbc__fit_prior=True......................\n",
      "[CV 2/5; 7/20] END mnbc__alpha=0.4, mnbc__fit_prior=True;, score=0.847 total time=   0.0s\n",
      "[CV 3/5; 7/20] START mnbc__alpha=0.4, mnbc__fit_prior=True......................\n",
      "[CV 3/5; 7/20] END mnbc__alpha=0.4, mnbc__fit_prior=True;, score=0.848 total time=   0.0s\n",
      "[CV 4/5; 7/20] START mnbc__alpha=0.4, mnbc__fit_prior=True......................\n",
      "[CV 4/5; 7/20] END mnbc__alpha=0.4, mnbc__fit_prior=True;, score=0.851 total time=   0.0s\n",
      "[CV 5/5; 7/20] START mnbc__alpha=0.4, mnbc__fit_prior=True......................\n",
      "[CV 5/5; 7/20] END mnbc__alpha=0.4, mnbc__fit_prior=True;, score=0.846 total time=   0.0s\n",
      "[CV 1/5; 8/20] START mnbc__alpha=0.4, mnbc__fit_prior=False.....................\n",
      "[CV 1/5; 8/20] END mnbc__alpha=0.4, mnbc__fit_prior=False;, score=0.852 total time=   0.0s\n",
      "[CV 2/5; 8/20] START mnbc__alpha=0.4, mnbc__fit_prior=False.....................\n",
      "[CV 2/5; 8/20] END mnbc__alpha=0.4, mnbc__fit_prior=False;, score=0.847 total time=   0.0s\n",
      "[CV 3/5; 8/20] START mnbc__alpha=0.4, mnbc__fit_prior=False.....................\n",
      "[CV 3/5; 8/20] END mnbc__alpha=0.4, mnbc__fit_prior=False;, score=0.848 total time=   0.0s\n",
      "[CV 4/5; 8/20] START mnbc__alpha=0.4, mnbc__fit_prior=False.....................\n",
      "[CV 4/5; 8/20] END mnbc__alpha=0.4, mnbc__fit_prior=False;, score=0.851 total time=   0.0s\n",
      "[CV 5/5; 8/20] START mnbc__alpha=0.4, mnbc__fit_prior=False.....................\n",
      "[CV 5/5; 8/20] END mnbc__alpha=0.4, mnbc__fit_prior=False;, score=0.846 total time=   0.0s\n",
      "[CV 1/5; 9/20] START mnbc__alpha=0.5, mnbc__fit_prior=True......................\n",
      "[CV 1/5; 9/20] END mnbc__alpha=0.5, mnbc__fit_prior=True;, score=0.850 total time=   0.0s\n",
      "[CV 2/5; 9/20] START mnbc__alpha=0.5, mnbc__fit_prior=True......................\n",
      "[CV 2/5; 9/20] END mnbc__alpha=0.5, mnbc__fit_prior=True;, score=0.845 total time=   0.0s\n",
      "[CV 3/5; 9/20] START mnbc__alpha=0.5, mnbc__fit_prior=True......................\n",
      "[CV 3/5; 9/20] END mnbc__alpha=0.5, mnbc__fit_prior=True;, score=0.847 total time=   0.0s\n",
      "[CV 4/5; 9/20] START mnbc__alpha=0.5, mnbc__fit_prior=True......................\n",
      "[CV 4/5; 9/20] END mnbc__alpha=0.5, mnbc__fit_prior=True;, score=0.849 total time=   0.0s\n",
      "[CV 5/5; 9/20] START mnbc__alpha=0.5, mnbc__fit_prior=True......................\n",
      "[CV 5/5; 9/20] END mnbc__alpha=0.5, mnbc__fit_prior=True;, score=0.845 total time=   0.0s\n",
      "[CV 1/5; 10/20] START mnbc__alpha=0.5, mnbc__fit_prior=False....................\n",
      "[CV 1/5; 10/20] END mnbc__alpha=0.5, mnbc__fit_prior=False;, score=0.850 total time=   0.0s\n",
      "[CV 2/5; 10/20] START mnbc__alpha=0.5, mnbc__fit_prior=False....................\n",
      "[CV 2/5; 10/20] END mnbc__alpha=0.5, mnbc__fit_prior=False;, score=0.845 total time=   0.0s\n",
      "[CV 3/5; 10/20] START mnbc__alpha=0.5, mnbc__fit_prior=False....................\n",
      "[CV 3/5; 10/20] END mnbc__alpha=0.5, mnbc__fit_prior=False;, score=0.847 total time=   0.0s\n",
      "[CV 4/5; 10/20] START mnbc__alpha=0.5, mnbc__fit_prior=False....................\n",
      "[CV 4/5; 10/20] END mnbc__alpha=0.5, mnbc__fit_prior=False;, score=0.849 total time=   0.0s\n",
      "[CV 5/5; 10/20] START mnbc__alpha=0.5, mnbc__fit_prior=False....................\n",
      "[CV 5/5; 10/20] END mnbc__alpha=0.5, mnbc__fit_prior=False;, score=0.845 total time=   0.0s\n",
      "[CV 1/5; 11/20] START mnbc__alpha=0.6, mnbc__fit_prior=True.....................\n",
      "[CV 1/5; 11/20] END mnbc__alpha=0.6, mnbc__fit_prior=True;, score=0.848 total time=   0.0s\n",
      "[CV 2/5; 11/20] START mnbc__alpha=0.6, mnbc__fit_prior=True.....................\n",
      "[CV 2/5; 11/20] END mnbc__alpha=0.6, mnbc__fit_prior=True;, score=0.843 total time=   0.0s\n",
      "[CV 3/5; 11/20] START mnbc__alpha=0.6, mnbc__fit_prior=True.....................\n",
      "[CV 3/5; 11/20] END mnbc__alpha=0.6, mnbc__fit_prior=True;, score=0.845 total time=   0.0s\n",
      "[CV 4/5; 11/20] START mnbc__alpha=0.6, mnbc__fit_prior=True.....................\n",
      "[CV 4/5; 11/20] END mnbc__alpha=0.6, mnbc__fit_prior=True;, score=0.848 total time=   0.0s\n",
      "[CV 5/5; 11/20] START mnbc__alpha=0.6, mnbc__fit_prior=True.....................\n",
      "[CV 5/5; 11/20] END mnbc__alpha=0.6, mnbc__fit_prior=True;, score=0.843 total time=   0.0s\n",
      "[CV 1/5; 12/20] START mnbc__alpha=0.6, mnbc__fit_prior=False....................\n",
      "[CV 1/5; 12/20] END mnbc__alpha=0.6, mnbc__fit_prior=False;, score=0.848 total time=   0.0s\n",
      "[CV 2/5; 12/20] START mnbc__alpha=0.6, mnbc__fit_prior=False....................\n",
      "[CV 2/5; 12/20] END mnbc__alpha=0.6, mnbc__fit_prior=False;, score=0.843 total time=   0.0s\n",
      "[CV 3/5; 12/20] START mnbc__alpha=0.6, mnbc__fit_prior=False....................\n",
      "[CV 3/5; 12/20] END mnbc__alpha=0.6, mnbc__fit_prior=False;, score=0.845 total time=   0.0s\n",
      "[CV 4/5; 12/20] START mnbc__alpha=0.6, mnbc__fit_prior=False....................\n",
      "[CV 4/5; 12/20] END mnbc__alpha=0.6, mnbc__fit_prior=False;, score=0.848 total time=   0.0s\n",
      "[CV 5/5; 12/20] START mnbc__alpha=0.6, mnbc__fit_prior=False....................\n",
      "[CV 5/5; 12/20] END mnbc__alpha=0.6, mnbc__fit_prior=False;, score=0.843 total time=   0.0s\n",
      "[CV 1/5; 13/20] START mnbc__alpha=0.7, mnbc__fit_prior=True.....................\n",
      "[CV 1/5; 13/20] END mnbc__alpha=0.7, mnbc__fit_prior=True;, score=0.847 total time=   0.0s\n",
      "[CV 2/5; 13/20] START mnbc__alpha=0.7, mnbc__fit_prior=True.....................\n",
      "[CV 2/5; 13/20] END mnbc__alpha=0.7, mnbc__fit_prior=True;, score=0.841 total time=   0.0s\n",
      "[CV 3/5; 13/20] START mnbc__alpha=0.7, mnbc__fit_prior=True.....................\n",
      "[CV 3/5; 13/20] END mnbc__alpha=0.7, mnbc__fit_prior=True;, score=0.843 total time=   0.0s\n",
      "[CV 4/5; 13/20] START mnbc__alpha=0.7, mnbc__fit_prior=True.....................\n",
      "[CV 4/5; 13/20] END mnbc__alpha=0.7, mnbc__fit_prior=True;, score=0.846 total time=   0.0s\n",
      "[CV 5/5; 13/20] START mnbc__alpha=0.7, mnbc__fit_prior=True.....................\n",
      "[CV 5/5; 13/20] END mnbc__alpha=0.7, mnbc__fit_prior=True;, score=0.841 total time=   0.0s\n",
      "[CV 1/5; 14/20] START mnbc__alpha=0.7, mnbc__fit_prior=False....................\n",
      "[CV 1/5; 14/20] END mnbc__alpha=0.7, mnbc__fit_prior=False;, score=0.847 total time=   0.0s\n",
      "[CV 2/5; 14/20] START mnbc__alpha=0.7, mnbc__fit_prior=False....................\n",
      "[CV 2/5; 14/20] END mnbc__alpha=0.7, mnbc__fit_prior=False;, score=0.841 total time=   0.0s\n",
      "[CV 3/5; 14/20] START mnbc__alpha=0.7, mnbc__fit_prior=False....................\n",
      "[CV 3/5; 14/20] END mnbc__alpha=0.7, mnbc__fit_prior=False;, score=0.843 total time=   0.0s\n",
      "[CV 4/5; 14/20] START mnbc__alpha=0.7, mnbc__fit_prior=False....................\n",
      "[CV 4/5; 14/20] END mnbc__alpha=0.7, mnbc__fit_prior=False;, score=0.846 total time=   0.0s\n",
      "[CV 5/5; 14/20] START mnbc__alpha=0.7, mnbc__fit_prior=False....................\n",
      "[CV 5/5; 14/20] END mnbc__alpha=0.7, mnbc__fit_prior=False;, score=0.841 total time=   0.0s\n",
      "[CV 1/5; 15/20] START mnbc__alpha=0.8, mnbc__fit_prior=True.....................\n",
      "[CV 1/5; 15/20] END mnbc__alpha=0.8, mnbc__fit_prior=True;, score=0.845 total time=   0.0s\n",
      "[CV 2/5; 15/20] START mnbc__alpha=0.8, mnbc__fit_prior=True.....................\n",
      "[CV 2/5; 15/20] END mnbc__alpha=0.8, mnbc__fit_prior=True;, score=0.840 total time=   0.0s\n",
      "[CV 3/5; 15/20] START mnbc__alpha=0.8, mnbc__fit_prior=True.....................\n",
      "[CV 3/5; 15/20] END mnbc__alpha=0.8, mnbc__fit_prior=True;, score=0.841 total time=   0.0s\n",
      "[CV 4/5; 15/20] START mnbc__alpha=0.8, mnbc__fit_prior=True.....................\n",
      "[CV 4/5; 15/20] END mnbc__alpha=0.8, mnbc__fit_prior=True;, score=0.845 total time=   0.0s\n",
      "[CV 5/5; 15/20] START mnbc__alpha=0.8, mnbc__fit_prior=True.....................\n",
      "[CV 5/5; 15/20] END mnbc__alpha=0.8, mnbc__fit_prior=True;, score=0.840 total time=   0.0s\n",
      "[CV 1/5; 16/20] START mnbc__alpha=0.8, mnbc__fit_prior=False....................\n",
      "[CV 1/5; 16/20] END mnbc__alpha=0.8, mnbc__fit_prior=False;, score=0.845 total time=   0.0s\n",
      "[CV 2/5; 16/20] START mnbc__alpha=0.8, mnbc__fit_prior=False....................\n",
      "[CV 2/5; 16/20] END mnbc__alpha=0.8, mnbc__fit_prior=False;, score=0.840 total time=   0.0s\n",
      "[CV 3/5; 16/20] START mnbc__alpha=0.8, mnbc__fit_prior=False....................\n",
      "[CV 3/5; 16/20] END mnbc__alpha=0.8, mnbc__fit_prior=False;, score=0.841 total time=   0.0s\n",
      "[CV 4/5; 16/20] START mnbc__alpha=0.8, mnbc__fit_prior=False....................\n",
      "[CV 4/5; 16/20] END mnbc__alpha=0.8, mnbc__fit_prior=False;, score=0.845 total time=   0.0s\n",
      "[CV 5/5; 16/20] START mnbc__alpha=0.8, mnbc__fit_prior=False....................\n",
      "[CV 5/5; 16/20] END mnbc__alpha=0.8, mnbc__fit_prior=False;, score=0.840 total time=   0.0s\n",
      "[CV 1/5; 17/20] START mnbc__alpha=0.9, mnbc__fit_prior=True.....................\n",
      "[CV 1/5; 17/20] END mnbc__alpha=0.9, mnbc__fit_prior=True;, score=0.843 total time=   0.0s\n",
      "[CV 2/5; 17/20] START mnbc__alpha=0.9, mnbc__fit_prior=True.....................\n",
      "[CV 2/5; 17/20] END mnbc__alpha=0.9, mnbc__fit_prior=True;, score=0.839 total time=   0.0s\n",
      "[CV 3/5; 17/20] START mnbc__alpha=0.9, mnbc__fit_prior=True.....................\n",
      "[CV 3/5; 17/20] END mnbc__alpha=0.9, mnbc__fit_prior=True;, score=0.839 total time=   0.0s\n",
      "[CV 4/5; 17/20] START mnbc__alpha=0.9, mnbc__fit_prior=True.....................\n",
      "[CV 4/5; 17/20] END mnbc__alpha=0.9, mnbc__fit_prior=True;, score=0.844 total time=   0.0s\n",
      "[CV 5/5; 17/20] START mnbc__alpha=0.9, mnbc__fit_prior=True.....................\n",
      "[CV 5/5; 17/20] END mnbc__alpha=0.9, mnbc__fit_prior=True;, score=0.838 total time=   0.0s\n",
      "[CV 1/5; 18/20] START mnbc__alpha=0.9, mnbc__fit_prior=False....................\n",
      "[CV 1/5; 18/20] END mnbc__alpha=0.9, mnbc__fit_prior=False;, score=0.843 total time=   0.0s\n",
      "[CV 2/5; 18/20] START mnbc__alpha=0.9, mnbc__fit_prior=False....................\n",
      "[CV 2/5; 18/20] END mnbc__alpha=0.9, mnbc__fit_prior=False;, score=0.839 total time=   0.0s\n",
      "[CV 3/5; 18/20] START mnbc__alpha=0.9, mnbc__fit_prior=False....................\n",
      "[CV 3/5; 18/20] END mnbc__alpha=0.9, mnbc__fit_prior=False;, score=0.839 total time=   0.0s\n",
      "[CV 4/5; 18/20] START mnbc__alpha=0.9, mnbc__fit_prior=False....................\n",
      "[CV 4/5; 18/20] END mnbc__alpha=0.9, mnbc__fit_prior=False;, score=0.844 total time=   0.0s\n",
      "[CV 5/5; 18/20] START mnbc__alpha=0.9, mnbc__fit_prior=False....................\n",
      "[CV 5/5; 18/20] END mnbc__alpha=0.9, mnbc__fit_prior=False;, score=0.838 total time=   0.0s\n",
      "[CV 1/5; 19/20] START mnbc__alpha=1, mnbc__fit_prior=True.......................\n",
      "[CV 1/5; 19/20] END mnbc__alpha=1, mnbc__fit_prior=True;, score=0.841 total time=   0.0s\n",
      "[CV 2/5; 19/20] START mnbc__alpha=1, mnbc__fit_prior=True.......................\n",
      "[CV 2/5; 19/20] END mnbc__alpha=1, mnbc__fit_prior=True;, score=0.837 total time=   0.0s\n",
      "[CV 3/5; 19/20] START mnbc__alpha=1, mnbc__fit_prior=True.......................\n",
      "[CV 3/5; 19/20] END mnbc__alpha=1, mnbc__fit_prior=True;, score=0.838 total time=   0.0s\n",
      "[CV 4/5; 19/20] START mnbc__alpha=1, mnbc__fit_prior=True.......................\n",
      "[CV 4/5; 19/20] END mnbc__alpha=1, mnbc__fit_prior=True;, score=0.843 total time=   0.0s\n",
      "[CV 5/5; 19/20] START mnbc__alpha=1, mnbc__fit_prior=True.......................\n",
      "[CV 5/5; 19/20] END mnbc__alpha=1, mnbc__fit_prior=True;, score=0.837 total time=   0.0s\n",
      "[CV 1/5; 20/20] START mnbc__alpha=1, mnbc__fit_prior=False......................\n",
      "[CV 1/5; 20/20] END mnbc__alpha=1, mnbc__fit_prior=False;, score=0.841 total time=   0.0s\n",
      "[CV 2/5; 20/20] START mnbc__alpha=1, mnbc__fit_prior=False......................\n",
      "[CV 2/5; 20/20] END mnbc__alpha=1, mnbc__fit_prior=False;, score=0.837 total time=   0.0s\n",
      "[CV 3/5; 20/20] START mnbc__alpha=1, mnbc__fit_prior=False......................\n",
      "[CV 3/5; 20/20] END mnbc__alpha=1, mnbc__fit_prior=False;, score=0.838 total time=   0.0s\n",
      "[CV 4/5; 20/20] START mnbc__alpha=1, mnbc__fit_prior=False......................\n",
      "[CV 4/5; 20/20] END mnbc__alpha=1, mnbc__fit_prior=False;, score=0.843 total time=   0.0s\n",
      "[CV 5/5; 20/20] START mnbc__alpha=1, mnbc__fit_prior=False......................\n",
      "[CV 5/5; 20/20] END mnbc__alpha=1, mnbc__fit_prior=False;, score=0.837 total time=   0.0s\n",
      "0.8564421276641909\n",
      "{'mnbc__alpha': 0.1, 'mnbc__fit_prior': True}\n"
     ]
    }
   ],
   "source": [
    "from sklearn.naive_bayes import MultinomialNB\n",
    "from sklearn.model_selection import GridSearchCV\n",
    "mnbc = MultinomialNB()\n",
    "\n",
    "mnbc.get_params()\n",
    "\n",
    "mnbc_grid = {\n",
    "    'mnbc__alpha' : [0.1,0.2,0.3,0.4,0.5,0.6,0.7,0.8,0.9,1],\n",
    "    'mnbc__fit_prior' : [True, False]\n",
    "}\n",
    "\n",
    "imba_pipe_mnbc = Pipeline([\n",
    "    ('sampling', RandomOverSampler(random_state=0)), \n",
    "    ('mnbc', mnbc)\n",
    "    ])\n",
    "\n",
    "mnbcgs = GridSearchCV(estimator=imba_pipe_mnbc, param_grid=mnbc_grid, cv=5, scoring=f1, verbose=10, refit=False)\n",
    "\n",
    "mnbcgs.fit(x_trainvec, y_train.to_numpy().ravel())\n",
    "\n",
    "print(mnbcgs.best_score_)\n",
    "print(mnbcgs.best_params_)"
   ]
  },
  {
   "cell_type": "markdown",
   "metadata": {},
   "source": [
    "### MNBC Evaluation"
   ]
  },
  {
   "cell_type": "code",
   "execution_count": 24,
   "metadata": {},
   "outputs": [
    {
     "name": "stdout",
     "output_type": "stream",
     "text": [
      "{'mnbc__alpha': 0.1, 'mnbc__fit_prior': True}\n"
     ]
    }
   ],
   "source": [
    "print(mnbcgs.best_params_)\n",
    "\n",
    "mnbcgs.best_params_['alpha']= mnbcgs.best_params_['mnbc__alpha']\n",
    "mnbcgs.best_params_['fit_prior']= mnbcgs.best_params_['mnbc__fit_prior']"
   ]
  },
  {
   "cell_type": "code",
   "execution_count": 25,
   "metadata": {},
   "outputs": [],
   "source": [
    "del mnbcgs.best_params_['mnbc__alpha']\n",
    "del mnbcgs.best_params_['mnbc__fit_prior']"
   ]
  },
  {
   "cell_type": "code",
   "execution_count": 26,
   "metadata": {},
   "outputs": [
    {
     "name": "stdout",
     "output_type": "stream",
     "text": [
      "{'alpha': 0.1, 'fit_prior': True}\n"
     ]
    }
   ],
   "source": [
    "print(mnbcgs.best_params_)"
   ]
  },
  {
   "cell_type": "code",
   "execution_count": 27,
   "metadata": {},
   "outputs": [
    {
     "name": "stdout",
     "output_type": "stream",
     "text": [
      "MNBC Validation Train Accuracy Score : 0.876495572022411\n",
      "MNBC Validation Test Accuracy Score : 0.8377640082617096\n",
      "MNBC Validation Train F1 Score : 0.8772222970848492\n",
      "MNBC Validation Test F1 Score : 0.9064073490410117\n",
      "MNBC Validation Confusion matrix:\n",
      "[[  783   392]\n",
      " [ 2043 11791]]\n",
      "MNBC Validation Classification report:\n",
      "               precision    recall  f1-score   support\n",
      "\n",
      "           0       0.28      0.67      0.39      1175\n",
      "           1       0.97      0.85      0.91     13834\n",
      "\n",
      "    accuracy                           0.84     15009\n",
      "   macro avg       0.62      0.76      0.65     15009\n",
      "weighted avg       0.91      0.84      0.87     15009\n",
      "\n"
     ]
    }
   ],
   "source": [
    "best_mnbc_model_val = MultinomialNB().set_params(**mnbcgs.best_params_)\n",
    "best_mnbc_model_test = MultinomialNB().set_params(**mnbcgs.best_params_)\n",
    "\n",
    "best_mnbc_model_val.fit(x_val_trainvec, y_val_train.to_numpy().ravel())\n",
    "best_mnbc_model_test.fit(x_trainvec, y_train.to_numpy().ravel())\n",
    "\n",
    "mnbc_val_train_predictions = best_mnbc_model_val.predict(x_val_trainvec)\n",
    "mnbc_val_test_predictions = best_mnbc_model_val.predict(x_val_testvec)\n",
    "mnbc_train_predictions = best_mnbc_model_test.predict(x_trainvec)\n",
    "mnbc_test_predictions = best_mnbc_model_test.predict(x_testvec)\n",
    "\n",
    "print(\"MNBC Validation Train Accuracy Score :\",accuracy_score(y_pred=mnbc_val_train_predictions, y_true=y_val_train.to_numpy().ravel()))\n",
    "print(\"MNBC Validation Test Accuracy Score :\",accuracy_score(y_pred=mnbc_val_test_predictions, y_true= y_val_test.to_numpy().ravel()))\n",
    "\n",
    "print(\"MNBC Validation Train F1 Score :\",f1_score(y_pred=mnbc_val_train_predictions, y_true=y_val_train.to_numpy().ravel(), average = 'binary'))\n",
    "print(\"MNBC Validation Test F1 Score :\",f1_score(y_pred=mnbc_val_test_predictions, y_true=y_val_test.to_numpy().ravel(), average = 'binary'))\n",
    "\n",
    "print(\"MNBC Validation Confusion matrix:\\n{}\".format(confusion_matrix(y_pred=mnbc_val_test_predictions, y_true=y_val_test.to_numpy().ravel())))\n",
    "print(\"MNBC Validation Classification report:\\n\",classification_report(y_pred=mnbc_val_test_predictions, y_true= y_val_test.to_numpy().ravel()))"
   ]
  },
  {
   "cell_type": "markdown",
   "metadata": {},
   "source": [
    "### Dataset for Stacking Classifier"
   ]
  },
  {
   "cell_type": "code",
   "execution_count": 28,
   "metadata": {},
   "outputs": [
    {
     "name": "stdout",
     "output_type": "stream",
     "text": [
      "        mlp       rfc      mnbc\n",
      "0  1.000000  0.685015  0.870154\n",
      "1  0.999917  0.805923  0.952614\n",
      "2  1.000000  0.590454  0.727349\n",
      "3  1.000000  0.669535  0.965533\n",
      "4  0.999960  0.650946  0.907666\n"
     ]
    }
   ],
   "source": [
    "def get_predict_probas(trainortest,data):\n",
    "    if trainortest == 'train':\n",
    "        mlp_proba = best_mlp_model_val.predict(data)\n",
    "        rfc_proba = np.delete(best_rfc_model_val.predict_proba(data),0,1)\n",
    "        mnbc_proba = np.delete(best_mnbc_model_val.predict_proba(data),0,1)\n",
    "        mlp_proba_df = pd.DataFrame(mlp_proba,columns=['mlp'])\n",
    "        rfc_proba_df = pd.DataFrame(rfc_proba,columns=['rfc'])\n",
    "        mnbc_proba_df = pd.DataFrame(mnbc_proba,columns=['mnbc'])\n",
    "    if trainortest == 'test':\n",
    "        mlp_proba = best_mlp_model_test.predict(data)\n",
    "        rfc_proba = np.delete(best_rfc_model_test.predict_proba(data),0,1)\n",
    "        mnbc_proba = np.delete(best_mnbc_model_test.predict_proba(data),0,1)\n",
    "        mlp_proba_df = pd.DataFrame(mlp_proba,columns=['mlp'])\n",
    "        rfc_proba_df = pd.DataFrame(rfc_proba,columns=['rfc'])\n",
    "        mnbc_proba_df = pd.DataFrame(mnbc_proba,columns=['mnbc'])\n",
    "\n",
    "    return pd.concat([mlp_proba_df,rfc_proba_df,mnbc_proba_df],axis=1)\n",
    "x_val_trainvec_stack = get_predict_probas('train',x_val_trainvec)\n",
    "x_val_testvec_stack = get_predict_probas('train',x_val_testvec)\n",
    "x_trainvec_stack = get_predict_probas('test',x_trainvec)\n",
    "x_testvec_stack = get_predict_probas('test',x_testvec)\n",
    "\n",
    "\n",
    "print(x_val_trainvec_stack.head())"
   ]
  },
  {
   "cell_type": "markdown",
   "metadata": {},
   "source": [
    "### Stacking Classifier(Logistic Regression)"
   ]
  },
  {
   "cell_type": "code",
   "execution_count": 29,
   "metadata": {},
   "outputs": [
    {
     "name": "stdout",
     "output_type": "stream",
     "text": [
      "n_iterations: 2\n",
      "n_required_iterations: 2\n",
      "n_possible_iterations: 2\n",
      "min_resources_: 27665\n",
      "max_resources_: 138328\n",
      "aggressive_elimination: False\n",
      "factor: 5\n",
      "----------\n",
      "iter: 0\n",
      "n_candidates: 10\n",
      "n_resources: 27665\n",
      "Fitting 5 folds for each of 10 candidates, totalling 50 fits\n",
      "----------\n",
      "iter: 1\n",
      "n_candidates: 2\n",
      "n_resources: 138325\n",
      "Fitting 5 folds for each of 2 candidates, totalling 10 fits\n"
     ]
    },
    {
     "data": {
      "text/html": [
       "<style>#sk-container-id-1 {color: black;background-color: white;}#sk-container-id-1 pre{padding: 0;}#sk-container-id-1 div.sk-toggleable {background-color: white;}#sk-container-id-1 label.sk-toggleable__label {cursor: pointer;display: block;width: 100%;margin-bottom: 0;padding: 0.3em;box-sizing: border-box;text-align: center;}#sk-container-id-1 label.sk-toggleable__label-arrow:before {content: \"▸\";float: left;margin-right: 0.25em;color: #696969;}#sk-container-id-1 label.sk-toggleable__label-arrow:hover:before {color: black;}#sk-container-id-1 div.sk-estimator:hover label.sk-toggleable__label-arrow:before {color: black;}#sk-container-id-1 div.sk-toggleable__content {max-height: 0;max-width: 0;overflow: hidden;text-align: left;background-color: #f0f8ff;}#sk-container-id-1 div.sk-toggleable__content pre {margin: 0.2em;color: black;border-radius: 0.25em;background-color: #f0f8ff;}#sk-container-id-1 input.sk-toggleable__control:checked~div.sk-toggleable__content {max-height: 200px;max-width: 100%;overflow: auto;}#sk-container-id-1 input.sk-toggleable__control:checked~label.sk-toggleable__label-arrow:before {content: \"▾\";}#sk-container-id-1 div.sk-estimator input.sk-toggleable__control:checked~label.sk-toggleable__label {background-color: #d4ebff;}#sk-container-id-1 div.sk-label input.sk-toggleable__control:checked~label.sk-toggleable__label {background-color: #d4ebff;}#sk-container-id-1 input.sk-hidden--visually {border: 0;clip: rect(1px 1px 1px 1px);clip: rect(1px, 1px, 1px, 1px);height: 1px;margin: -1px;overflow: hidden;padding: 0;position: absolute;width: 1px;}#sk-container-id-1 div.sk-estimator {font-family: monospace;background-color: #f0f8ff;border: 1px dotted black;border-radius: 0.25em;box-sizing: border-box;margin-bottom: 0.5em;}#sk-container-id-1 div.sk-estimator:hover {background-color: #d4ebff;}#sk-container-id-1 div.sk-parallel-item::after {content: \"\";width: 100%;border-bottom: 1px solid gray;flex-grow: 1;}#sk-container-id-1 div.sk-label:hover label.sk-toggleable__label {background-color: #d4ebff;}#sk-container-id-1 div.sk-serial::before {content: \"\";position: absolute;border-left: 1px solid gray;box-sizing: border-box;top: 0;bottom: 0;left: 50%;z-index: 0;}#sk-container-id-1 div.sk-serial {display: flex;flex-direction: column;align-items: center;background-color: white;padding-right: 0.2em;padding-left: 0.2em;position: relative;}#sk-container-id-1 div.sk-item {position: relative;z-index: 1;}#sk-container-id-1 div.sk-parallel {display: flex;align-items: stretch;justify-content: center;background-color: white;position: relative;}#sk-container-id-1 div.sk-item::before, #sk-container-id-1 div.sk-parallel-item::before {content: \"\";position: absolute;border-left: 1px solid gray;box-sizing: border-box;top: 0;bottom: 0;left: 50%;z-index: -1;}#sk-container-id-1 div.sk-parallel-item {display: flex;flex-direction: column;z-index: 1;position: relative;background-color: white;}#sk-container-id-1 div.sk-parallel-item:first-child::after {align-self: flex-end;width: 50%;}#sk-container-id-1 div.sk-parallel-item:last-child::after {align-self: flex-start;width: 50%;}#sk-container-id-1 div.sk-parallel-item:only-child::after {width: 0;}#sk-container-id-1 div.sk-dashed-wrapped {border: 1px dashed gray;margin: 0 0.4em 0.5em 0.4em;box-sizing: border-box;padding-bottom: 0.4em;background-color: white;}#sk-container-id-1 div.sk-label label {font-family: monospace;font-weight: bold;display: inline-block;line-height: 1.2em;}#sk-container-id-1 div.sk-label-container {text-align: center;}#sk-container-id-1 div.sk-container {/* jupyter's `normalize.less` sets `[hidden] { display: none; }` but bootstrap.min.css set `[hidden] { display: none !important; }` so we also need the `!important` here to be able to override the default hidden behavior on the sphinx rendered scikit-learn.org. See: https://github.com/scikit-learn/scikit-learn/issues/21755 */display: inline-block !important;position: relative;}#sk-container-id-1 div.sk-text-repr-fallback {display: none;}</style><div id=\"sk-container-id-1\" class=\"sk-top-container\"><div class=\"sk-text-repr-fallback\"><pre>HalvingGridSearchCV(estimator=Pipeline(steps=[(&#x27;sampling&#x27;,\n",
       "                                               RandomOverSampler(random_state=0)),\n",
       "                                              (&#x27;sclf&#x27;,\n",
       "                                               LogisticRegression(random_state=0))]),\n",
       "                    factor=5,\n",
       "                    param_grid={&#x27;sclf__C&#x27;: [100, 10, 1.0, 0.1, 0.01],\n",
       "                                &#x27;sclf__solver&#x27;: [&#x27;newton-cg&#x27;, &#x27;lbfgs&#x27;]},\n",
       "                    refit=False,\n",
       "                    scoring=make_scorer(f1_score, average=binary, pos_label=1),\n",
       "                    verbose=1)</pre><b>In a Jupyter environment, please rerun this cell to show the HTML representation or trust the notebook. <br />On GitHub, the HTML representation is unable to render, please try loading this page with nbviewer.org.</b></div><div class=\"sk-container\" hidden><div class=\"sk-item sk-dashed-wrapped\"><div class=\"sk-label-container\"><div class=\"sk-label sk-toggleable\"><input class=\"sk-toggleable__control sk-hidden--visually\" id=\"sk-estimator-id-1\" type=\"checkbox\" ><label for=\"sk-estimator-id-1\" class=\"sk-toggleable__label sk-toggleable__label-arrow\">HalvingGridSearchCV</label><div class=\"sk-toggleable__content\"><pre>HalvingGridSearchCV(estimator=Pipeline(steps=[(&#x27;sampling&#x27;,\n",
       "                                               RandomOverSampler(random_state=0)),\n",
       "                                              (&#x27;sclf&#x27;,\n",
       "                                               LogisticRegression(random_state=0))]),\n",
       "                    factor=5,\n",
       "                    param_grid={&#x27;sclf__C&#x27;: [100, 10, 1.0, 0.1, 0.01],\n",
       "                                &#x27;sclf__solver&#x27;: [&#x27;newton-cg&#x27;, &#x27;lbfgs&#x27;]},\n",
       "                    refit=False,\n",
       "                    scoring=make_scorer(f1_score, average=binary, pos_label=1),\n",
       "                    verbose=1)</pre></div></div></div><div class=\"sk-parallel\"><div class=\"sk-parallel-item\"><div class=\"sk-item\"><div class=\"sk-label-container\"><div class=\"sk-label sk-toggleable\"><input class=\"sk-toggleable__control sk-hidden--visually\" id=\"sk-estimator-id-2\" type=\"checkbox\" ><label for=\"sk-estimator-id-2\" class=\"sk-toggleable__label sk-toggleable__label-arrow\">estimator: Pipeline</label><div class=\"sk-toggleable__content\"><pre>Pipeline(steps=[(&#x27;sampling&#x27;, RandomOverSampler(random_state=0)),\n",
       "                (&#x27;sclf&#x27;, LogisticRegression(random_state=0))])</pre></div></div></div><div class=\"sk-serial\"><div class=\"sk-item\"><div class=\"sk-serial\"><div class=\"sk-item\"><div class=\"sk-estimator sk-toggleable\"><input class=\"sk-toggleable__control sk-hidden--visually\" id=\"sk-estimator-id-3\" type=\"checkbox\" ><label for=\"sk-estimator-id-3\" class=\"sk-toggleable__label sk-toggleable__label-arrow\">RandomOverSampler</label><div class=\"sk-toggleable__content\"><pre>RandomOverSampler(random_state=0)</pre></div></div></div><div class=\"sk-item\"><div class=\"sk-estimator sk-toggleable\"><input class=\"sk-toggleable__control sk-hidden--visually\" id=\"sk-estimator-id-4\" type=\"checkbox\" ><label for=\"sk-estimator-id-4\" class=\"sk-toggleable__label sk-toggleable__label-arrow\">LogisticRegression</label><div class=\"sk-toggleable__content\"><pre>LogisticRegression(random_state=0)</pre></div></div></div></div></div></div></div></div></div></div></div></div>"
      ],
      "text/plain": [
       "HalvingGridSearchCV(estimator=Pipeline(steps=[('sampling',\n",
       "                                               RandomOverSampler(random_state=0)),\n",
       "                                              ('sclf',\n",
       "                                               LogisticRegression(random_state=0))]),\n",
       "                    factor=5,\n",
       "                    param_grid={'sclf__C': [100, 10, 1.0, 0.1, 0.01],\n",
       "                                'sclf__solver': ['newton-cg', 'lbfgs']},\n",
       "                    refit=False,\n",
       "                    scoring=make_scorer(f1_score, average=binary, pos_label=1),\n",
       "                    verbose=1)"
      ]
     },
     "execution_count": 29,
     "metadata": {},
     "output_type": "execute_result"
    }
   ],
   "source": [
    "from sklearn.linear_model import LogisticRegression\n",
    "\n",
    "sclf = LogisticRegression(random_state=0)\n",
    "\n",
    "sclf_param_grid = {\n",
    "    'sclf__solver' : ['newton-cg', 'lbfgs'],\n",
    "    'sclf__C': [100, 10, 1.0, 0.1, 0.01]\n",
    "}\n",
    "\n",
    "imba_pipe_stack = Pipeline([\n",
    "    ('sampling', RandomOverSampler(random_state=0)), \n",
    "    ('sclf', sclf)\n",
    "    ])\n",
    "\n",
    "\n",
    "sclfgs = HalvingGridSearchCV(estimator=imba_pipe_stack , param_grid=sclf_param_grid, factor=5, cv=5, scoring=f1, verbose=1, refit=False)\n",
    "\n",
    "sclfgs.fit(x_trainvec_stack, y_train.to_numpy().ravel())"
   ]
  },
  {
   "cell_type": "markdown",
   "metadata": {},
   "source": [
    "### Stacking Classifier Validation Set Classifier"
   ]
  },
  {
   "cell_type": "code",
   "execution_count": 30,
   "metadata": {},
   "outputs": [
    {
     "name": "stdout",
     "output_type": "stream",
     "text": [
      "{'sclf__C': 100, 'sclf__solver': 'newton-cg'}\n"
     ]
    }
   ],
   "source": [
    "print(sclfgs.best_params_)\n",
    "sclfgs.best_params_['solver']=sclfgs.best_params_['sclf__solver']\n",
    "sclfgs.best_params_['C']=sclfgs.best_params_['sclf__C']"
   ]
  },
  {
   "cell_type": "code",
   "execution_count": 31,
   "metadata": {},
   "outputs": [],
   "source": [
    "del sclfgs.best_params_['sclf__solver']\n",
    "del sclfgs.best_params_['sclf__C']"
   ]
  },
  {
   "cell_type": "code",
   "execution_count": 32,
   "metadata": {},
   "outputs": [
    {
     "name": "stdout",
     "output_type": "stream",
     "text": [
      "{'solver': 'newton-cg', 'C': 100}\n"
     ]
    }
   ],
   "source": [
    "print(sclfgs.best_params_)"
   ]
  },
  {
   "cell_type": "code",
   "execution_count": 33,
   "metadata": {},
   "outputs": [
    {
     "name": "stdout",
     "output_type": "stream",
     "text": [
      "Stacked Classifier Validation Train Accuracy Score : 0.9886589553587566\n",
      "Stacked Classifier Validation Test Accuracy Score : 0.9201145979079219\n",
      "Stacked Classifier Validation Train F1 Score : 0.9887082407349091\n",
      "Stacked Classifier Validation Test F1 Score : 0.9569030588404442\n",
      "Stacked Classifier Validation Confusion matrix:\n",
      "[[  499   676]\n",
      " [  523 13311]]\n",
      "Stacked Classifier Validation Classification report:\n",
      "               precision    recall  f1-score   support\n",
      "\n",
      "           0       0.49      0.42      0.45      1175\n",
      "           1       0.95      0.96      0.96     13834\n",
      "\n",
      "    accuracy                           0.92     15009\n",
      "   macro avg       0.72      0.69      0.71     15009\n",
      "weighted avg       0.92      0.92      0.92     15009\n",
      "\n"
     ]
    }
   ],
   "source": [
    "best_stacked_model_val = LogisticRegression(random_state=0).set_params(**sclfgs.best_params_)\n",
    "best_stacked_model_test = LogisticRegression(random_state=0).set_params(**sclfgs.best_params_)\n",
    "\n",
    "best_stacked_model_val.fit(x_val_trainvec_stack, y_val_train.to_numpy().ravel())\n",
    "best_stacked_model_test.fit(x_trainvec_stack, y_train.to_numpy().ravel())\n",
    "\n",
    "stacked_val_train_predictions = best_stacked_model_val.predict(x_val_trainvec_stack)\n",
    "stacked_val_test_predictions = best_stacked_model_val.predict(x_val_testvec_stack)\n",
    "stacked_train_predictions = best_stacked_model_test.predict(x_trainvec_stack)\n",
    "stacked_test_predictions = best_stacked_model_test.predict(x_testvec_stack)\n",
    "\n",
    "print(\"Stacked Classifier Validation Train Accuracy Score :\",accuracy_score(y_pred=stacked_val_train_predictions, y_true=y_val_train.to_numpy().ravel()))\n",
    "print(\"Stacked Classifier Validation Test Accuracy Score :\",accuracy_score(y_pred=stacked_val_test_predictions, y_true= y_val_test.to_numpy().ravel()))\n",
    "\n",
    "print(\"Stacked Classifier Validation Train F1 Score :\",f1_score(y_pred=stacked_val_train_predictions, y_true=y_val_train.to_numpy().ravel(), average = 'binary'))\n",
    "print(\"Stacked Classifier Validation Test F1 Score :\",f1_score(y_pred=stacked_val_test_predictions, y_true=y_val_test.to_numpy().ravel(), average = 'binary'))\n",
    "\n",
    "print(\"Stacked Classifier Validation Confusion matrix:\\n{}\".format(confusion_matrix(y_pred=stacked_val_test_predictions, y_true=y_val_test.to_numpy().ravel())))\n",
    "print(\"Stacked Classifier Validation Classification report:\\n\",classification_report(y_pred=stacked_val_test_predictions, y_true= y_val_test.to_numpy().ravel()))"
   ]
  },
  {
   "cell_type": "markdown",
   "metadata": {},
   "source": [
    "## Evaluating"
   ]
  },
  {
   "cell_type": "code",
   "execution_count": 34,
   "metadata": {},
   "outputs": [
    {
     "name": "stdout",
     "output_type": "stream",
     "text": [
      "MLP Test Accuracy Score : 0.9008581632109163\n",
      "RFC Test Accuracy Score : 0.9252705079686584\n",
      "MNBC Model Test Accuracy Score : 0.8359362507329033\n",
      "Stacked Model Test Accuracy Score : 0.9086935664410213\n"
     ]
    }
   ],
   "source": [
    "print(\"MLP Test Accuracy Score :\",accuracy_score(y_pred=mlp_test_predictions, y_true= y_test.to_numpy().ravel()))\n",
    "print(\"RFC Test Accuracy Score :\",accuracy_score(y_pred=rfc_test_predictions, y_true= y_test.to_numpy().ravel()))\n",
    "print(\"MNBC Model Test Accuracy Score :\",accuracy_score(y_pred=mnbc_test_predictions,y_true= y_test.to_numpy().ravel()))\n",
    "print(\"Stacked Model Test Accuracy Score :\",accuracy_score(y_pred=stacked_test_predictions,y_true= y_test.to_numpy().ravel()))"
   ]
  },
  {
   "cell_type": "code",
   "execution_count": 35,
   "metadata": {},
   "outputs": [
    {
     "name": "stdout",
     "output_type": "stream",
     "text": [
      "MLP Test F1 Score : 0.9458767386370249\n",
      "RFC Test F1 Score : 0.9598648803389442\n",
      "MNBC Model Test F1 Score : 0.9052514929508096\n",
      "Stacked Model Test F1 Score : 0.9503291095195291\n"
     ]
    }
   ],
   "source": [
    "print(\"MLP Test F1 Score :\",f1_score(y_pred=mlp_test_predictions, y_true=y_test.to_numpy().ravel(), average = 'binary'))\n",
    "print(\"RFC Test F1 Score :\",f1_score(y_pred=rfc_test_predictions, y_true=y_test.to_numpy().ravel(), average = 'binary'))\n",
    "print(\"MNBC Model Test F1 Score :\",f1_score(mnbc_test_predictions, y_test.to_numpy().ravel(), average = 'binary'))\n",
    "print(\"Stacked Model Test F1 Score :\",f1_score(stacked_test_predictions, y_test.to_numpy().ravel(),average='binary'))"
   ]
  },
  {
   "cell_type": "code",
   "execution_count": 36,
   "metadata": {},
   "outputs": [
    {
     "name": "stdout",
     "output_type": "stream",
     "text": [
      "MLP Confusion matrix:\n",
      "[[  648  1056]\n",
      " [  804 16253]]\n",
      "RFC Confusion matrix:\n",
      "[[  594   544]\n",
      " [  858 16765]]\n",
      "MNBC Confusion matrix:\n",
      "[[  979  2605]\n",
      " [  473 14704]]\n",
      "Stacked Confusion matrix:\n",
      "[[  661   922]\n",
      " [  791 16387]]\n"
     ]
    }
   ],
   "source": [
    "print(\"MLP Confusion matrix:\\n{}\".format(confusion_matrix(y_pred=y_test.to_numpy().ravel(),y_true= mlp_test_predictions)))\n",
    "print(\"RFC Confusion matrix:\\n{}\".format(confusion_matrix(y_pred=y_test.to_numpy().ravel(),y_true= rfc_test_predictions)))\n",
    "print(\"MNBC Confusion matrix:\\n{}\".format(confusion_matrix(y_pred=y_test.to_numpy().ravel(),y_true= mnbc_test_predictions)))\n",
    "print(\"Stacked Confusion matrix:\\n{}\".format(confusion_matrix(y_pred=y_test.to_numpy().ravel(),y_true= stacked_test_predictions)))"
   ]
  },
  {
   "cell_type": "code",
   "execution_count": 37,
   "metadata": {},
   "outputs": [
    {
     "name": "stdout",
     "output_type": "stream",
     "text": [
      "MLP Classification report:\n",
      "               precision    recall  f1-score   support\n",
      "\n",
      "           0       0.38      0.45      0.41      1452\n",
      "           1       0.95      0.94      0.95     17309\n",
      "\n",
      "    accuracy                           0.90     18761\n",
      "   macro avg       0.67      0.69      0.68     18761\n",
      "weighted avg       0.91      0.90      0.90     18761\n",
      "\n",
      "RFC Classification report:\n",
      "               precision    recall  f1-score   support\n",
      "\n",
      "           0       0.52      0.41      0.46      1452\n",
      "           1       0.95      0.97      0.96     17309\n",
      "\n",
      "    accuracy                           0.93     18761\n",
      "   macro avg       0.74      0.69      0.71     18761\n",
      "weighted avg       0.92      0.93      0.92     18761\n",
      "\n"
     ]
    }
   ],
   "source": [
    "print(\"MLP Classification report:\\n\",classification_report(y_pred=mlp_test_predictions,  y_true= y_test.to_numpy().ravel()))\n",
    "print(\"RFC Classification report:\\n\",classification_report(y_pred=rfc_test_predictions,  y_true= y_test.to_numpy().ravel()))"
   ]
  },
  {
   "cell_type": "code",
   "execution_count": 38,
   "metadata": {},
   "outputs": [
    {
     "name": "stdout",
     "output_type": "stream",
     "text": [
      "MNBC Classification report:\n",
      "               precision    recall  f1-score   support\n",
      "\n",
      "           0       0.27      0.67      0.39      1452\n",
      "           1       0.97      0.85      0.91     17309\n",
      "\n",
      "    accuracy                           0.84     18761\n",
      "   macro avg       0.62      0.76      0.65     18761\n",
      "weighted avg       0.91      0.84      0.87     18761\n",
      "\n",
      "Stacked Classification report:\n",
      "               precision    recall  f1-score   support\n",
      "\n",
      "           0       0.42      0.46      0.44      1452\n",
      "           1       0.95      0.95      0.95     17309\n",
      "\n",
      "    accuracy                           0.91     18761\n",
      "   macro avg       0.69      0.70      0.69     18761\n",
      "weighted avg       0.91      0.91      0.91     18761\n",
      "\n"
     ]
    }
   ],
   "source": [
    "print(\"MNBC Classification report:\\n\",classification_report(y_pred=mnbc_test_predictions,  y_true= y_test.to_numpy().ravel()))\n",
    "print(\"Stacked Classification report:\\n\",classification_report(y_pred=stacked_test_predictions,  y_true= y_test.to_numpy().ravel()))"
   ]
  },
  {
   "cell_type": "markdown",
   "metadata": {},
   "source": [
    "## Visual Evaluation"
   ]
  },
  {
   "cell_type": "markdown",
   "metadata": {},
   "source": [
    "### Validation Set Visual Evaluation"
   ]
  },
  {
   "cell_type": "code",
   "execution_count": 39,
   "metadata": {},
   "outputs": [
    {
     "name": "stdout",
     "output_type": "stream",
     "text": [
      "           Accuracy Macro_Precision Macro_Recall Macro_F1 Weighted_Precision  \\\n",
      "Train_MLP      0.92            0.73         0.68     0.70               0.91   \n",
      "Train_RFC      0.93            0.75         0.68     0.71               0.92   \n",
      "Train_MNBC     0.84            0.62         0.76     0.65               0.91   \n",
      "Train_SCLF     0.92            0.72         0.69     0.71               0.92   \n",
      "\n",
      "           Weighted_Recalls Weighted_F1s  \n",
      "Train_MLP              0.92         0.92  \n",
      "Train_RFC              0.93         0.92  \n",
      "Train_MNBC             0.84         0.87  \n",
      "Train_SCLF             0.92         0.92  \n",
      "           Precision Recall    F1\n",
      "Train_MLP       0.50   0.40  0.45\n",
      "Train_RFC       0.56   0.40  0.46\n",
      "Train_MNBC      0.28   0.67  0.39\n",
      "Train_SCLF      0.49   0.42  0.45\n",
      "           Precision Recall    F1\n",
      "Train_MLP       0.95   0.97  0.96\n",
      "Train_RFC       0.95   0.97  0.96\n",
      "Train_MNBC      0.97   0.85  0.91\n",
      "Train_SCLF      0.95   0.96  0.96\n"
     ]
    }
   ],
   "source": [
    "model_names =[]\n",
    "labels= []\n",
    "accuracies = []\n",
    "precisions = []\n",
    "recalls = []\n",
    "f1s = []\n",
    "macro_precisions = []\n",
    "macro_recalls = []\n",
    "macro_f1s = []\n",
    "weighted_precisions = []\n",
    "weighted_recalls = []\n",
    "weighted_f1s = []\n",
    "\n",
    "def classification_report_to_df(report, num_labels, model_name):\n",
    "\n",
    "    report = report.split('\\n')\n",
    "    model_names.append(model_name)\n",
    "    a = 0\n",
    "    for line in report:\n",
    "        t = line.strip().split() \n",
    "        if len(t)>0:\n",
    "            a +=1\n",
    "            if a == 1:\n",
    "                pass\n",
    "            if a == 2+num_labels:\n",
    "                accuracies.append(t[1])\n",
    "            if a == 3+num_labels:\n",
    "                macro_precisions.append(t[2])\n",
    "                macro_recalls.append(t[3])\n",
    "                macro_f1s.append(t[4])\n",
    "\n",
    "            if a == 4+num_labels:\n",
    "                weighted_precisions.append(t[2])\n",
    "                weighted_recalls.append(t[3])\n",
    "                weighted_f1s.append(t[4])\n",
    "        \n",
    "            if a>1 and a< 2+num_labels:\n",
    "                labels.append(t[0])\n",
    "                precisions.append(t[1])\n",
    "                recalls.append(t[2])\n",
    "                f1s.append(t[3])\n",
    "#dictionary of lists-> append dict values -> df dic -> df\n",
    "    precision_dic = {}\n",
    "    recall_dic = {}\n",
    "    f1_dic = {}\n",
    "    for a_Label in range(num_labels):\n",
    "        precision_dic['Label {}'.format(a_Label)] = []\n",
    "        recall_dic['Label {}'.format(a_Label)] = []\n",
    "        f1_dic['Label {}'.format(a_Label)] = []\n",
    "        for num_models in range(len(model_names)):\n",
    "            precision_dic['Label {}'.format(a_Label)].append(precisions[num_labels*num_models+a_Label])\n",
    "            recall_dic['Label {}'.format(a_Label)].append(recalls[num_labels*num_models+a_Label])\n",
    "            f1_dic['Label {}'.format(a_Label)].append(f1s[num_labels*num_models+a_Label])\n",
    "        \n",
    "    labels_df_dic = {}\n",
    "    for a_Label in range(num_labels):\n",
    "        labels_df_dic['Label{} df'.format(a_Label)]=pd.DataFrame(data=\n",
    "        {'Precision': precision_dic['Label {}'.format(a_Label)],\n",
    "        'Recall': recall_dic['Label {}'.format(a_Label)],\n",
    "        'F1': f1_dic['Label {}'.format(a_Label)]}, index=model_names)\n",
    "\n",
    "    macro_and_weighted_df = pd.DataFrame(data=\n",
    "    {'Accuracy': accuracies,\n",
    "    'Macro_Precision': macro_precisions,\n",
    "    'Macro_Recall': macro_recalls,\n",
    "    'Macro_F1': macro_f1s,\n",
    "    'Weighted_Precision': weighted_precisions,\n",
    "    'Weighted_Recalls': weighted_recalls,\n",
    "    'Weighted_F1s': weighted_f1s}, index=model_names)\n",
    "\n",
    "    return_list = []\n",
    "    return_list.append(macro_and_weighted_df)\n",
    "    \n",
    "    for Label_df in range(len(labels_df_dic)):\n",
    "        return_list.append(labels_df_dic['Label{} df'.format(Label_df)])\n",
    "\n",
    "    return return_list\n",
    "\n",
    "classification_report_to_df(classification_report(y_pred=mlp_val_test_predictions,  y_true= y_val_test.to_numpy().ravel()), 2, 'Train_MLP')\n",
    "classification_report_to_df(classification_report(y_pred=rfc_val_test_predictions, y_true= y_val_test.to_numpy().ravel()), 2, 'Train_RFC')\n",
    "classification_report_to_df(classification_report(y_pred=mnbc_val_test_predictions, y_true= y_val_test.to_numpy().ravel()), 2, 'Train_MNBC')\n",
    "classification_reports_train_df = classification_report_to_df(classification_report(y_pred=stacked_val_test_predictions, y_true= y_val_test.to_numpy().ravel()), 2, 'Train_SCLF')\n",
    "\n",
    "def printer(reports):\n",
    "    for dataframe in reports:\n",
    "        print(dataframe)\n",
    "\n",
    "printer(classification_reports_train_df)"
   ]
  },
  {
   "cell_type": "code",
   "execution_count": 40,
   "metadata": {},
   "outputs": [
    {
     "data": {
      "image/png": "[encoded data removed]",
      "text/plain": [
       "<Figure size 432x288 with 1 Axes>"
      ]
     },
     "metadata": {},
     "output_type": "display_data"
    },
    {
     "data": {
      "image/png": "[encoded data removed]",
      "text/plain": [
       "<Figure size 432x288 with 1 Axes>"
      ]
     },
     "metadata": {},
     "output_type": "display_data"
    },
    {
     "data": {
      "image/png": "[encoded data removed]",
      "text/plain": [
       "<Figure size 432x288 with 1 Axes>"
      ]
     },
     "metadata": {},
     "output_type": "display_data"
    },
    {
     "data": {
      "image/png": "[encoded data removed]",
      "text/plain": [
       "<Figure size 432x288 with 1 Axes>"
      ]
     },
     "metadata": {},
     "output_type": "display_data"
    },
    {
     "data": {
      "image/png": "[encoded data removed]",
      "text/plain": [
       "<Figure size 432x288 with 1 Axes>"
      ]
     },
     "metadata": {},
     "output_type": "display_data"
    },
    {
     "data": {
      "image/png": "[encoded data removed]",
      "text/plain": [
       "<Figure size 432x288 with 1 Axes>"
      ]
     },
     "metadata": {},
     "output_type": "display_data"
    },
    {
     "data": {
      "image/png": "[encoded data removed]",
      "text/plain": [
       "<Figure size 432x288 with 1 Axes>"
      ]
     },
     "metadata": {},
     "output_type": "display_data"
    },
    {
     "data": {
      "image/png": "[encoded data removed]",
      "text/plain": [
       "<Figure size 432x288 with 1 Axes>"
      ]
     },
     "metadata": {},
     "output_type": "display_data"
    },
    {
     "data": {
      "image/png": "[encoded data removed]",
      "text/plain": [
       "<Figure size 432x288 with 1 Axes>"
      ]
     },
     "metadata": {},
     "output_type": "display_data"
    },
    {
     "data": {
      "image/png": "[encoded data removed]",
      "text/plain": [
       "<Figure size 432x288 with 1 Axes>"
      ]
     },
     "metadata": {},
     "output_type": "display_data"
    },
    {
     "data": {
      "image/png": "[encoded data removed]",
      "text/plain": [
       "<Figure size 432x288 with 1 Axes>"
      ]
     },
     "metadata": {},
     "output_type": "display_data"
    },
    {
     "data": {
      "image/png": "[encoded data removed]",
      "text/plain": [
       "<Figure size 432x288 with 1 Axes>"
      ]
     },
     "metadata": {},
     "output_type": "display_data"
    },
    {
     "data": {
      "image/png": "[encoded data removed]",
      "text/plain": [
       "<Figure size 432x288 with 1 Axes>"
      ]
     },
     "metadata": {},
     "output_type": "display_data"
    }
   ],
   "source": [
    "def plotter(df_list):\n",
    "    for dataframeidx in range(len(df_list)):\n",
    "        if dataframeidx == 0:\n",
    "            for metric in df_list[dataframeidx].columns:\n",
    "                sns.barplot(y=df_list[dataframeidx][str(metric)].astype('float'), x=df_list[0].index).set_title(str(metric) + ' by Models')\n",
    "                plt.show()\n",
    "        else: \n",
    "            for metric in df_list[dataframeidx].columns:\n",
    "                sns.barplot(y=df_list[dataframeidx][str(metric)].astype('float'), x=df_list[0].index).set_title(str(metric) + ' by Models ' + 'for Label {}'.format(labels[dataframeidx-1]))\n",
    "                plt.show()\n",
    "\n",
    "plotter(classification_reports_train_df)"
   ]
  },
  {
   "cell_type": "markdown",
   "metadata": {},
   "source": [
    "### Test Set Visual Evaluation"
   ]
  },
  {
   "cell_type": "code",
   "execution_count": 41,
   "metadata": {},
   "outputs": [
    {
     "name": "stdout",
     "output_type": "stream",
     "text": [
      "          Accuracy Macro_Precision Macro_Recall Macro_F1 Weighted_Precision  \\\n",
      "Test_MLP      0.90            0.67         0.69     0.68               0.91   \n",
      "Test_RFC      0.93            0.74         0.69     0.71               0.92   \n",
      "Test_MNBC     0.84            0.62         0.76     0.65               0.91   \n",
      "Test_SCLF     0.91            0.69         0.70     0.69               0.91   \n",
      "\n",
      "          Weighted_Recalls Weighted_F1s  \n",
      "Test_MLP              0.90         0.90  \n",
      "Test_RFC              0.93         0.92  \n",
      "Test_MNBC             0.84         0.87  \n",
      "Test_SCLF             0.91         0.91  \n",
      "          Precision Recall    F1\n",
      "Test_MLP       0.38   0.45  0.41\n",
      "Test_RFC       0.52   0.41  0.46\n",
      "Test_MNBC      0.27   0.67  0.39\n",
      "Test_SCLF      0.42   0.46  0.44\n",
      "          Precision Recall    F1\n",
      "Test_MLP       0.95   0.94  0.95\n",
      "Test_RFC       0.95   0.97  0.96\n",
      "Test_MNBC      0.97   0.85  0.91\n",
      "Test_SCLF      0.95   0.95  0.95\n"
     ]
    }
   ],
   "source": [
    "model_names =[]\n",
    "labels= []\n",
    "accuracies = []\n",
    "precisions = []\n",
    "recalls = []\n",
    "f1s = []\n",
    "macro_precisions = []\n",
    "macro_recalls = []\n",
    "macro_f1s = []\n",
    "weighted_precisions = []\n",
    "weighted_recalls = []\n",
    "weighted_f1s = []\n",
    "\n",
    "classification_report_to_df(classification_report(y_pred=mlp_test_predictions,  y_true= y_test.to_numpy().ravel()), 2, 'Test_MLP')\n",
    "classification_report_to_df(classification_report(y_pred=rfc_test_predictions, y_true= y_test.to_numpy().ravel()), 2, 'Test_RFC')\n",
    "classification_report_to_df(classification_report(y_pred=mnbc_test_predictions, y_true= y_test.to_numpy().ravel()), 2, 'Test_MNBC')\n",
    "classification_reports_test_df = classification_report_to_df(classification_report(y_pred=stacked_test_predictions, y_true= y_test.to_numpy().ravel()), 2, 'Test_SCLF')\n",
    "printer(classification_reports_test_df)"
   ]
  },
  {
   "cell_type": "code",
   "execution_count": 42,
   "metadata": {},
   "outputs": [
    {
     "data": {
      "image/png": "[encoded data removed]",
      "text/plain": [
       "<Figure size 432x288 with 1 Axes>"
      ]
     },
     "metadata": {},
     "output_type": "display_data"
    },
    {
     "data": {
      "image/png": "[encoded data removed]",
      "text/plain": [
       "<Figure size 432x288 with 1 Axes>"
      ]
     },
     "metadata": {},
     "output_type": "display_data"
    },
    {
     "data": {
      "image/png": "[encoded data removed]",
      "text/plain": [
       "<Figure size 432x288 with 1 Axes>"
      ]
     },
     "metadata": {},
     "output_type": "display_data"
    },
    {
     "data": {
      "image/png": "[encoded data removed]",
      "text/plain": [
       "<Figure size 432x288 with 1 Axes>"
      ]
     },
     "metadata": {},
     "output_type": "display_data"
    },
    {
     "data": {
      "image/png": "[encoded data removed]",
      "text/plain": [
       "<Figure size 432x288 with 1 Axes>"
      ]
     },
     "metadata": {},
     "output_type": "display_data"
    },
    {
     "data": {
      "image/png": "[encoded data removed]",
      "text/plain": [
       "<Figure size 432x288 with 1 Axes>"
      ]
     },
     "metadata": {},
     "output_type": "display_data"
    },
    {
     "data": {
      "image/png": "[encoded data removed]",
      "text/plain": [
       "<Figure size 432x288 with 1 Axes>"
      ]
     },
     "metadata": {},
     "output_type": "display_data"
    },
    {
     "data": {
      "image/png": "[encoded data removed]",
      "text/plain": [
       "<Figure size 432x288 with 1 Axes>"
      ]
     },
     "metadata": {},
     "output_type": "display_data"
    },
    {
     "data": {
      "image/png": "[encoded data removed]",
      "text/plain": [
       "<Figure size 432x288 with 1 Axes>"
      ]
     },
     "metadata": {},
     "output_type": "display_data"
    },
    {
     "data": {
      "image/png": "[encoded data removed]",
      "text/plain": [
       "<Figure size 432x288 with 1 Axes>"
      ]
     },
     "metadata": {},
     "output_type": "display_data"
    },
    {
     "data": {
      "image/png": "[encoded data removed]",
      "text/plain": [
       "<Figure size 432x288 with 1 Axes>"
      ]
     },
     "metadata": {},
     "output_type": "display_data"
    },
    {
     "data": {
      "image/png": "[encoded data removed]",
      "text/plain": [
       "<Figure size 432x288 with 1 Axes>"
      ]
     },
     "metadata": {},
     "output_type": "display_data"
    },
    {
     "data": {
      "image/png": "[encoded data removed]",
      "text/plain": [
       "<Figure size 432x288 with 1 Axes>"
      ]
     },
     "metadata": {},
     "output_type": "display_data"
    }
   ],
   "source": [
    "\n",
    "plotter(classification_reports_test_df)"
   ]
  }
 ],
 "metadata": {
  "kernelspec": {
   "display_name": "Python 3.9.4 64-bit",
   "language": "python",
   "name": "python3"
  },
  "language_info": {
   "codemirror_mode": {
    "name": "ipython",
    "version": 3
   },
   "file_extension": ".py",
   "mimetype": "text/x-python",
   "name": "python",
   "nbconvert_exporter": "python",
   "pygments_lexer": "ipython3",
   "version": "3.9.4"
  },
  "orig_nbformat": 4,
  "vscode": {
   "interpreter": {
    "hash": "11a3d9b85d5ef9eb303a3e0d0718105e342595a43d68d297ee0965f43b786655"
   }
  }
 },
 "nbformat": 4,
 "nbformat_minor": 2
}
