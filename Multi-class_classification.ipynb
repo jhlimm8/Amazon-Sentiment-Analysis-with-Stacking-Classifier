{
 "cells": [
  {
   "cell_type": "markdown",
   "metadata": {},
   "source": [
    "Main reference:\n",
    "\n",
    "https://medium.com/swlh/natural-language-processing-nlp-analysis-with-amazon-review-data-part-i-data-engineering-6573b782e4dc\n",
    "https://melaniesoek0120.medium.com/natural-language-processing-nlp-amazon-review-data-part-ii-eda-data-preprocessing-and-model-3866dcbdbb77 \n"
   ]
  },
  {
   "cell_type": "markdown",
   "metadata": {},
   "source": [
    "The main objective of this project is to compare the results of multiple types of models and their final stacked ensemble to find the model that performs the best."
   ]
  },
  {
   "cell_type": "markdown",
   "metadata": {},
   "source": [
    "## Read and DropNan"
   ]
  },
  {
   "cell_type": "markdown",
   "metadata": {},
   "source": [
    "This part reads the data into a pandas dataframe and drops the samples with NaN values."
   ]
  },
  {
   "cell_type": "code",
   "execution_count": 1,
   "metadata": {},
   "outputs": [
    {
     "name": "stdout",
     "output_type": "stream",
     "text": [
      "Number of samples : 93907\n",
      "   overall                                         reviewText\n",
      "0        5  This is awesome to listen to, A must-have for ...\n",
      "1        5                                               bien\n",
      "2        5  It was great to hear the old stuff again and I...\n",
      "3        4  well best of's are a bit poison normally but t...\n",
      "4        5  What can I say? This is Casting Crowns!!!This ...\n",
      "Number of samples after dropping samples with NaN values : 93905\n"
     ]
    }
   ],
   "source": [
    "import pandas as pd\n",
    "import numpy as np\n",
    "\n",
    "\n",
    "df = pd.read_csv(r\"C:\\Users\\Lim Jia Hui\\Desktop\\songsdata.csv\")\n",
    "print(\"Number of samples : {}\".format(len(df.reviewText)))\n",
    "print(df.head())\n",
    "nanlist = []\n",
    "for text in range(len(df.reviewText)):\n",
    "    if type(df.reviewText[text])!= str:\n",
    "        nanlist.append(int(text))\n",
    "df.drop(index=nanlist, axis=0,inplace=True)\n",
    "df.reset_index(inplace=True)\n",
    "print(\"Number of samples after dropping samples with NaN values : {}\".format(len(df.reviewText)))"
   ]
  },
  {
   "cell_type": "markdown",
   "metadata": {},
   "source": [
    "## Data Preprocessing"
   ]
  },
  {
   "cell_type": "markdown",
   "metadata": {},
   "source": [
    "Turning the raw data from samples into vectorisable lists with unhelpful parts removed."
   ]
  },
  {
   "cell_type": "markdown",
   "metadata": {},
   "source": [
    "### Stopwords"
   ]
  },
  {
   "cell_type": "markdown",
   "metadata": {},
   "source": [
    "A list of symbols and common words to not include as they do not provide information regarding a sample's label and hence  are unhelpful to a model learning the label from a given sample."
   ]
  },
  {
   "cell_type": "code",
   "execution_count": 2,
   "metadata": {},
   "outputs": [],
   "source": [
    "from nltk.corpus import stopwords\n",
    "import string\n",
    "\n",
    "sw_list = stopwords.words('english')\n",
    "sw_list += list(string.punctuation)\n",
    "sw_list += [\"''\", '\"\"', '...', '``', '’', '“', '’', '”', '‘', '‘',\"'\", '©','said',\"'s\", \"also\",'one',\"n't\",'com', '-', '–', '—', '_',\"/\",'..']"
   ]
  },
  {
   "cell_type": "markdown",
   "metadata": {},
   "source": [
    "### Tokenizer, Stemmer, and Lemmatizer"
   ]
  },
  {
   "cell_type": "markdown",
   "metadata": {},
   "source": [
    "Removing the numbers from the data (**Numbers_remover**), removing the stopwords from the data and splitting them into individual words based on an unsupervised algorithm called Punkt trained by NLTK on the english language(**Tokenizer**), dropping the prefixes and suffixes on words based on the Porter Stemmer algorithm (**Stemmer**), and extracting the \"base\"/lemma form of words (**Lemmatizer**)."
   ]
  },
  {
   "cell_type": "code",
   "execution_count": 3,
   "metadata": {},
   "outputs": [
    {
     "name": "stdout",
     "output_type": "stream",
     "text": [
      "[['awesom', 'listen', 'must-hav', 'slayer', 'fan', 'sadli', 'need', 'tripl', 'disc', 'set', 'mani', 'hit'], ['bien'], ['great', 'hear', 'old', 'stuff', 'like', 'new', 'stuff', 'recommend', 'slayer', 'fan'], ['well', 'best', 'bite', 'poison', 'normal', 'bad', 'pretti', 'good', \"'d\", 'put', 'hell', 'await', 'reign', 'blood', 'south', 'season', 'divin', 'coupl', 'musica', 'track', 'everyth', 'god', 'hate', '-at', 'point', 'best', 'mean', 'everi', 'cd', 'mainli', 'bad', 'dose', 'put', 'great', 'track', 'live', 'show', 'play', 'much', 'like', 'skeleton', 'societi', 'sex', 'murder', 'art', 'gemini', 'rare', 'track', 'final', 'six', 'bonu', 'track', 'christ', 'illus', 'mysteri', 'cover', 'song', 'unditstput', 'attitud', 'cd', 'would', 'greatest', 'hit', 'collect', 'know', 'put', 'coupl', 'live', 'track', 'too.al', 'could', 'much', 'wors', 'great', 'car'], ['say', 'cast', 'crown', 'good', 'bless', 'fill', 'cd']]\n"
     ]
    }
   ],
   "source": [
    "import nltk\n",
    "from nltk.stem import PorterStemmer as ps\n",
    "from nltk.stem.wordnet import WordNetLemmatizer\n",
    "import re\n",
    "\n",
    "def Numbers_remover(text):\n",
    "    numless_data = re.sub(r'\\d+', '', text)\n",
    "    return numless_data\n",
    "\n",
    "def Tokenizer(data):\n",
    "    tokens = nltk.word_tokenize(data)\n",
    "    tokenized_data= []\n",
    "    for i in tokens:\n",
    "        if i.lower() not in sw_list:\n",
    "            tokenized_data.append(i.lower())\n",
    "    return tokenized_data\n",
    "\n",
    "def Stemmer(data2):\n",
    "    stemmed_data =[]\n",
    "    for j in data2:\n",
    "        stemmed_data.append(ps().stem(j))\n",
    "    return stemmed_data\n",
    "\n",
    "def Lemmatizer(data3):\n",
    "    lemmatized_data = []\n",
    "    for k in data3:\n",
    "        lemmatized_data.append(WordNetLemmatizer().lemmatize(k, pos='v'))\n",
    "    return lemmatized_data\n",
    "\n",
    "\n",
    "\n",
    "lemmatized_reviews = list(map(Lemmatizer,(map(Stemmer, (map(Tokenizer,map(Numbers_remover, df['reviewText'])))))))\n",
    "\n",
    "print(lemmatized_reviews[:5])\n",
    "\n"
   ]
  },
  {
   "cell_type": "markdown",
   "metadata": {},
   "source": [
    "### Post Feature Extraction NaN Drops"
   ]
  },
  {
   "cell_type": "markdown",
   "metadata": {},
   "source": [
    "Drop the samples that are now NaN after Data Preprocessing."
   ]
  },
  {
   "cell_type": "code",
   "execution_count": 4,
   "metadata": {},
   "outputs": [
    {
     "name": "stdout",
     "output_type": "stream",
     "text": [
      "[293, 1792, 1942, 2035, 2578, 2652, 3560, 3857, 5025, 5122, 5568, 6552, 6571, 7846, 8136, 9071, 9464, 10069, 11448, 11803, 12422, 12825, 13354, 14195, 14932, 16557, 18283, 28588, 30450, 30547, 30973, 32356, 32601, 33455, 35223, 35698, 35703, 37831, 37910, 39228, 40752, 42037, 43383, 44559, 45716, 48627, 50097, 52295, 52380, 52690, 54104, 55256, 56502, 59297, 59520, 60623, 60805, 61150, 61165, 62528, 65639, 66416, 68010, 69224, 69310, 70043, 70091, 70892, 71015, 71677, 72711, 73298, 73509, 73897, 75240, 75327, 75406, 76099, 76477, 77468, 77836, 77867, 80751, 81848, 82071, 82732, 82843, 85562, 86105, 86398, 88067, 88161, 88665, 89174, 89212, 90531, 90811, 90973, 91022, 91086, 91136, 91580, 92817]\n",
      "Number of NaN samples : 103\n",
      "Number of samples before: 93905\n",
      "Number of samples after: 93802\n"
     ]
    }
   ],
   "source": [
    "nanlist2 = []\n",
    "for word in range(len(lemmatized_reviews)):\n",
    "    if len(lemmatized_reviews[word]) == 0:\n",
    "        nanlist2.append(word)\n",
    "print(nanlist2)\n",
    "print(\"Number of NaN samples : {}\".format(len(nanlist2)))\n",
    "print(\"Number of samples before: {}\".format(len(lemmatized_reviews)))\n",
    "for nan in nanlist2:\n",
    "    lemmatized_reviews.remove([])\n",
    "print(\"Number of samples after: {}\".format(len(lemmatized_reviews)))\n",
    "\n"
   ]
  },
  {
   "cell_type": "markdown",
   "metadata": {},
   "source": [
    "### Removal of NaN samples from the Dataframe"
   ]
  },
  {
   "cell_type": "code",
   "execution_count": 5,
   "metadata": {},
   "outputs": [],
   "source": [
    "df.drop(index=nanlist2, axis=0,inplace=True)\n",
    "df.reset_index(inplace=True)\n"
   ]
  },
  {
   "cell_type": "markdown",
   "metadata": {},
   "source": [
    "## Train-Test and Train-Val-Test Split"
   ]
  },
  {
   "cell_type": "markdown",
   "metadata": {},
   "source": [
    "Split the samples into **80% Train 20% Test sets** separately for both labels and features, and then further split the 80% Train set into **80%\\*80% Validation Train and 80%\\*20% Validation Test sets**, again separately for both labels and features. Note that the Train-Test split is not stratified but the Validation Train-Validation Test split is. This is because the test set should(to my knowledge) be kept as \"pure\" and untampered as possible; the test set should not be changed in any way shape or form for any part of the process. This ensures the evaluation on the test set is as unbiased as possible."
   ]
  },
  {
   "cell_type": "code",
   "execution_count": 6,
   "metadata": {},
   "outputs": [
    {
     "name": "stdout",
     "output_type": "stream",
     "text": [
      "Train set features array shape: (75041, 1)\n",
      "Test set features array shape: (18761, 1)\n",
      "Train set labels array shape: (75041, 1)\n",
      "Test set labels array shape: (18761, 1)\n",
      "Validation Train set features array shape: (60032, 1)\n",
      "Validation Test set features array shape: (15009, 1)\n",
      "Validation Train set labels array shape: (60032, 1)\n",
      "Validation Test set labels array shape: (15009, 1)\n"
     ]
    }
   ],
   "source": [
    "from sklearn.model_selection import train_test_split\n",
    "\n",
    "\n",
    "x_train, x_test, y_train, y_test = train_test_split(pd.DataFrame({'processed_reviews':lemmatized_reviews}), df['overall'].to_frame(name='overall'), test_size=0.2, random_state=0)\n",
    "\n",
    "x_val_train, x_val_test, y_val_train, y_val_test = train_test_split(x_train,y_train,test_size=0.2,stratify=y_train, random_state=0)\n",
    "\n",
    "print(\"Train set features array shape: {}\".format(x_train.shape))\n",
    "print(\"Test set features array shape: {}\".format(x_test.shape))\n",
    "print(\"Train set labels array shape: {}\".format(x_train.shape))\n",
    "print(\"Test set labels array shape: {}\".format(x_test.shape))\n",
    "print(\"Validation Train set features array shape: {}\".format(x_val_train.shape))\n",
    "print(\"Validation Test set features array shape: {}\".format(x_val_test.shape))\n",
    "print(\"Validation Train set labels array shape: {}\".format(y_val_train.shape))\n",
    "print(\"Validation Test set labels array shape: {}\".format(y_val_test.shape))\n",
    "\n"
   ]
  },
  {
   "cell_type": "markdown",
   "metadata": {},
   "source": [
    "## Visualising Label Imbalance"
   ]
  },
  {
   "cell_type": "markdown",
   "metadata": {},
   "source": [
    "Plotting a graph to visualise the disparity between the frequencies of each label."
   ]
  },
  {
   "cell_type": "code",
   "execution_count": 7,
   "metadata": {},
   "outputs": [
    {
     "data": {
      "image/png": "[encoded data removed]",
      "text/plain": [
       "<Figure size 432x288 with 1 Axes>"
      ]
     },
     "metadata": {
      "needs_background": "light"
     },
     "output_type": "display_data"
    }
   ],
   "source": [
    "import seaborn as sns\n",
    "import matplotlib.pyplot as plt\n",
    "\n",
    "sns.set_theme()\n",
    "\n",
    "label_freq_plot = pd.DataFrame({'label_freq' : y_train.value_counts()}).reset_index().sort_values(by='overall',ascending=True)\n",
    "\n",
    "sns.barplot(x=label_freq_plot['overall'],y=label_freq_plot['label_freq']).set_title('Labels by Frequency')\n",
    "\n",
    "plt.show()"
   ]
  },
  {
   "cell_type": "markdown",
   "metadata": {},
   "source": [
    "## Resampling\n"
   ]
  },
  {
   "cell_type": "markdown",
   "metadata": {},
   "source": [
    "Attempt to fix the imbalance in the labels by oversampling the samples with labels that appear less frequently to have the same frequency as the most frequent label."
   ]
  },
  {
   "cell_type": "code",
   "execution_count": 8,
   "metadata": {},
   "outputs": [],
   "source": [
    "# optional \"manual\" resampler with sklearn.utils.resample\n",
    "\n",
    "# from sklearn.utils import resample\n",
    "\n",
    "# xy_train = pd.concat([x_train,y_train], axis=1)\n",
    "# xy_val_train = pd.concat([x_val_train,y_val_train], axis=1)\n",
    "\n",
    "# def resampling(minority):\n",
    "#    resampled_minority = resample(minority, replace=True, n_samples= len(xy_train[xy_train.overall==5]), random_state=0)\n",
    "#    return resampled_minority\n",
    "\n",
    "# resampled_xy_train = xy_train[xy_train.overall==5]\n",
    "# resampled_xy_val_train = xy_val_train[xy_val_train.overall==5]\n",
    "\n",
    "# for i in range (1,5):\n",
    "#    resampled_xy_train = pd.concat([resampled_xy_train,resampling(xy_train[xy_train.overall==i])])\n",
    "\n",
    "# for i in range (1,5):\n",
    "#    resampled_xy_val_train = pd.concat([resampled_xy_val_train,resampling(xy_val_train[xy_val_train.overall==i])])\n",
    "\n",
    "# resampled_shuffled_xy_train = resampled_xy_train.sample(frac=1)\n",
    "# x_train = resampled_shuffled_xy_train['processed_reviews'].to_frame()\n",
    "# y_train = resampled_shuffled_xy_train['overall'].to_frame()\n",
    "\n",
    "# resampled_shuffled_xy_val_train = resampled_xy_val_train.sample(frac=1)\n",
    "# x_val_train = resampled_shuffled_xy_val_train['processed_reviews'].to_frame()\n",
    "# y_val_train = resampled_shuffled_xy_val_train['overall'].to_frame()"
   ]
  },
  {
   "cell_type": "code",
   "execution_count": 9,
   "metadata": {},
   "outputs": [],
   "source": [
    "from sklearn.utils import resample\n",
    "from imblearn.over_sampling import RandomOverSampler\n",
    "\n",
    "x_train, y_train = RandomOverSampler(random_state=0).fit_resample(x_train,y_train)\n",
    "\n",
    "x_val_train, y_val_train = RandomOverSampler(random_state=0).fit_resample(x_val_train,y_val_train)\n",
    "\n"
   ]
  },
  {
   "cell_type": "code",
   "execution_count": 10,
   "metadata": {},
   "outputs": [
    {
     "data": {
      "image/png": "[encoded data removed]",
      "text/plain": [
       "<Figure size 432x288 with 1 Axes>"
      ]
     },
     "metadata": {
      "needs_background": "light"
     },
     "output_type": "display_data"
    }
   ],
   "source": [
    "label_freq_plot = pd.DataFrame({'label_freq' : y_train.value_counts()}).reset_index().sort_values(by='overall',ascending=True)\n",
    "\n",
    "sns.barplot(x=label_freq_plot['overall'],y=label_freq_plot['label_freq']).set_title('Labels by Frequency')\n",
    "\n",
    "plt.show()"
   ]
  },
  {
   "cell_type": "markdown",
   "metadata": {},
   "source": [
    "## Feature Extraction"
   ]
  },
  {
   "cell_type": "markdown",
   "metadata": {},
   "source": [
    "Turning the processed data from samples into features that can be interpreted by a model."
   ]
  },
  {
   "cell_type": "markdown",
   "metadata": {},
   "source": [
    "## Tf-Idf Vectorization"
   ]
  },
  {
   "cell_type": "markdown",
   "metadata": {},
   "source": [
    "TF-IDF, short for Term Frequency-Inverse Document Frequency, vectorizes any given set of features/terms (a sentence) by dividing the proportion of times a feature (a word after preprocessing) appears in the given set of features (**Term Frequency**) by the proportion of times that feature/ appears in all sets of features (**Inverse Document Frequency**). This can be understood as the former scaling the frequency of each feature to be within the range [0,1], and the latter reducing the scale of feature(s) that are common amongst all samples as it is indication that the feature(s) appearing frequently in a given set of features is in part due to the feature(s) simply being a generally common one."
   ]
  },
  {
   "cell_type": "code",
   "execution_count": 11,
   "metadata": {},
   "outputs": [],
   "source": [
    "from sklearn.feature_extraction.text import TfidfVectorizer\n",
    "from sklearn.feature_extraction.text import CountVectorizer\n",
    "\n",
    "def dummy_token_and_pre(doc):\n",
    "    return doc\n",
    "\n",
    "tfidf = TfidfVectorizer(analyzer='word', tokenizer=dummy_token_and_pre, preprocessor=dummy_token_and_pre, token_pattern=None)\n",
    "\n",
    "tfidf_val = TfidfVectorizer(analyzer='word', tokenizer=dummy_token_and_pre, preprocessor=dummy_token_and_pre, token_pattern=None)\n",
    "\n",
    "x_trainvec = tfidf.fit_transform(x_train.processed_reviews).sorted_indices()\n",
    "x_testvec = tfidf.transform(x_test.processed_reviews).sorted_indices()\n",
    "\n",
    "x_val_trainvec = tfidf_val.fit_transform(x_val_train.processed_reviews).sorted_indices()\n",
    "x_val_testvec = tfidf_val.transform(x_val_test.processed_reviews).sorted_indices()"
   ]
  },
  {
   "cell_type": "markdown",
   "metadata": {},
   "source": [
    "## Models"
   ]
  },
  {
   "cell_type": "markdown",
   "metadata": {},
   "source": [
    "### TF MLP"
   ]
  },
  {
   "cell_type": "markdown",
   "metadata": {},
   "source": [
    "A Tensorflow Multilayer-Perceptron with Stochastic Gradient Descent as an optimizer and categorical cross entropy as a loss function ran without any advanced techniques. Hyperparameter tuned with Optuna using Tree Parzen Estimators + a modified version of Asynchronous Successive Halving (that was ran synchronously) with the validaiton macro F1-score as the valuation metric. The validation set was used instead of cross-validation for cross-library compatability issues."
   ]
  },
  {
   "cell_type": "code",
   "execution_count": 12,
   "metadata": {},
   "outputs": [],
   "source": [
    "#pseudocode for mlp hyperparam tuning\n",
    "\n",
    "#obj()\n",
    "    #param = suggest()\n",
    "\n",
    "    #model = model()\n",
    "\n",
    "    #for epochs in range()\n",
    "    #            agg_f1 = []\n",
    "\n",
    "    #    for train_index, val_index in StratifiedKFold(n_splits=5).split(x_trainvec,y_train): \n",
    "\n",
    "    #        x_trainvec_resd, y_train_resd = RandomOverSampler(random_state=0).fit_resample(x_trainvec.iloc[train_index], y_train.iloc[train_index])    \n",
    "\n",
    "    #        model.fit(x=x_trainvec_resd, y=y_train_resd, epochs =(5^(rung)), verbose=0, batch_size= 100, random_state=0, callbacks=es)\n",
    "\n",
    "    #        agg_f1.append(f1_score(y_pred=model.predict(pd.DataFrame.sparse.from_spmatrix(x_trainvec).iloc[val_index]), y_true=y_train.iloc[val_index].to_numpy().ravel(), average = 'macro'))\n",
    "\n",
    "    #    intermediate_value = statistics.mean(agg_f1)\n",
    "\n",
    "\n",
    "\n",
    "#rant: The challenge in implementing cross-validation for a tf model is the use of a tf model with (a lack of)sklearn functionalities\n",
    "#      In this case, tf models have some hyperparams that need do be defined in .fit(), which clashes with sklearn functionalities \n",
    "#      as some sklearn functions have .fit() implicit in them. The important one here is cross_val_score(). Without this, one has to\n",
    "#      resort to manually implementing the (stratified)cross_val function. This is a further issue when the data is imbalanced.\n",
    "#      From googling it seems that the way to treat imbalanced data in cross-validation is to oversample the training folds\n",
    "#      for each cross-validation split. This can normally be combined into a sklearn/imblearn pipeline and then passed to the\n",
    "#      cross-validation function as seen in the random forest model. However, as mentioned this is a tf model with sklearn functionalities,\n",
    "#      hence one has to implement this part manually as well. This is a bigger conundrum that one might initially expect.\n",
    "#      As the method used is usually to slice out the training part of each cross-validation fold and then apply an oversampling function.\n",
    "#      However, slicing a sparse matrix with a 1d np array as input is something that googling doesnt show how to do.\n",
    "#      Now, you might think of transforming the sparse matrix into a pd df so that you could slice it with say iloc, but  \n",
    "#      because of an unknown reason while the oversampling function as mentioned previously is supposed to be able to take \n",
    "#      both pandas df and sparse matrix as inputs, the pandas df version of a sparse matrix is not a valid input. This is vile shenanigans \n",
    "#      and I am utterly repulsed by it. Yet, given all this there is still the option of moving the tf-idf vectorization into the \n",
    "#      cross-validation part so that the sparse matrix is only made post oversampling, or making your own cross-validation\n",
    "#      function with libraries using an updated version of pandas/scipy(both of which I will NOT do).\n",
    "#  \n",
    "\n",
    "#      Now one might be wondering why one should use a tf model anyways given its imperfect compatabiities(at least in cross-validation).  \n",
    "#      The answer is GPU. Sklearn does not offer GPU support for training its models. The increase in training speed given GPU support is  \n",
    "#      highly considerable, especially if you can parellelize your processes. However, given that cross-validation is such a pain to implement, \n",
    "#      one might ask whether its still worth using even  if you have to redo the tf-idf vectorization every split for every epoch \n",
    "#      for every set of hyperparameters. The answer is something I do not know and will not attempt to know. Hence, the question is then\n",
    "#      rephrased into whether the extra speed from using the GPU is worth the decrease in samples used for the training set as some samples need\n",
    "#      to be separated into a validation set. Admittedly, I personally answered this question rather arbitrarily and perhaps personally biased to the\n",
    "#      supposed superiority of Optuna in flexibility and (maybe)speed over sklearn hyperparameter tuning.\n",
    "#      Hence, I can't exactly justify my choice here, and what I do here is best treated just as a proof of concept from a tired individual.\n",
    "            \n"
   ]
  },
  {
   "cell_type": "code",
   "execution_count": 13,
   "metadata": {},
   "outputs": [
    {
     "name": "stderr",
     "output_type": "stream",
     "text": [
      "\u001b[32m[I 2022-09-08 05:35:07,421]\u001b[0m A new study created in memory with name: no-name-ed472055-0804-4bb8-8544-fb1aadaeba72\u001b[0m\n"
     ]
    },
    {
     "name": "stdout",
     "output_type": "stream",
     "text": [
      "Epoch 1/50\n"
     ]
    },
    {
     "name": "stderr",
     "output_type": "stream",
     "text": [
      "c:\\Users\\Lim Jia Hui\\Desktop\\Python\\lib\\site-packages\\tensorflow\\python\\framework\\indexed_slices.py:444: UserWarning: Converting sparse IndexedSlices(IndexedSlices(indices=Tensor(\"gradient_tape/sequential/dense/embedding_lookup_sparse/Reshape_1:0\", shape=(None,), dtype=int32), values=Tensor(\"gradient_tape/sequential/dense/embedding_lookup_sparse/Reshape:0\", shape=(None, 19), dtype=float32), dense_shape=Tensor(\"gradient_tape/sequential/dense/embedding_lookup_sparse/Cast:0\", shape=(2,), dtype=int32))) to a dense Tensor of unknown shape. This may consume a large amount of memory.\n",
      "  warnings.warn(\n"
     ]
    },
    {
     "name": "stdout",
     "output_type": "stream",
     "text": [
      "4646/4646 [==============================] - 25s 5ms/step - loss: 0.7848 - accuracy: 0.6788 - tf_f1: 0.5525 - val_loss: 0.8993 - val_accuracy: 0.6737 - val_tf_f1: 0.6758\n",
      "Epoch 2/50\n",
      "4646/4646 [==============================] - 23s 5ms/step - loss: 0.4584 - accuracy: 0.8141 - tf_f1: 0.7161 - val_loss: 1.1703 - val_accuracy: 0.5047 - val_tf_f1: 0.7420\n",
      "Epoch 3/50\n",
      "4646/4646 [==============================] - 23s 5ms/step - loss: 0.3776 - accuracy: 0.8476 - tf_f1: 0.7590 - val_loss: 1.1661 - val_accuracy: 0.6204 - val_tf_f1: 0.7739\n",
      "Epoch 4/50\n",
      "4646/4646 [==============================] - 23s 5ms/step - loss: 0.3376 - accuracy: 0.8650 - tf_f1: 0.7849 - val_loss: 1.0628 - val_accuracy: 0.6633 - val_tf_f1: 0.7947\n",
      "Epoch 5/50\n",
      "4646/4646 [==============================] - 23s 5ms/step - loss: 0.3094 - accuracy: 0.8765 - tf_f1: 0.8027 - val_loss: 1.1421 - val_accuracy: 0.6543 - val_tf_f1: 0.8096\n",
      "Epoch 6/50\n",
      "4646/4646 [==============================] - 23s 5ms/step - loss: 0.2876 - accuracy: 0.8873 - tf_f1: 0.8157 - val_loss: 1.2261 - val_accuracy: 0.6139 - val_tf_f1: 0.8209\n",
      "Epoch 7/50\n",
      "4646/4646 [==============================] - 24s 5ms/step - loss: 0.2697 - accuracy: 0.8956 - tf_f1: 0.8257 - val_loss: 1.2757 - val_accuracy: 0.6106 - val_tf_f1: 0.8299\n",
      "Epoch 8/50\n",
      "4646/4646 [==============================] - 24s 5ms/step - loss: 0.2551 - accuracy: 0.9021 - tf_f1: 0.8338 - val_loss: 1.1550 - val_accuracy: 0.6938 - val_tf_f1: 0.8377\n",
      "Epoch 9/50\n",
      "4646/4646 [==============================] - 26s 5ms/step - loss: 0.2441 - accuracy: 0.9066 - tf_f1: 0.8412 - val_loss: 1.2906 - val_accuracy: 0.6684 - val_tf_f1: 0.8443\n",
      "Epoch 10/50\n",
      "4646/4646 [==============================] - 25s 5ms/step - loss: 0.2334 - accuracy: 0.9115 - tf_f1: 0.8473 - val_loss: 1.2000 - val_accuracy: 0.6928 - val_tf_f1: 0.8501\n",
      "Epoch 11/50\n",
      "4646/4646 [==============================] - 26s 5ms/step - loss: 0.2247 - accuracy: 0.9153 - tf_f1: 0.8527 - val_loss: 1.3381 - val_accuracy: 0.6491 - val_tf_f1: 0.8551\n",
      "Epoch 12/50\n",
      "4646/4646 [==============================] - 25s 5ms/step - loss: 0.2142 - accuracy: 0.9199 - tf_f1: 0.8573 - val_loss: 1.3603 - val_accuracy: 0.6559 - val_tf_f1: 0.8594\n",
      "Epoch 13/50\n",
      "4646/4646 [==============================] - 23s 5ms/step - loss: 0.2069 - accuracy: 0.9229 - tf_f1: 0.8615 - val_loss: 1.4082 - val_accuracy: 0.6566 - val_tf_f1: 0.8634\n",
      "Epoch 14/50\n",
      "4646/4646 [==============================] - 23s 5ms/step - loss: 0.2017 - accuracy: 0.9255 - tf_f1: 0.8652 - val_loss: 1.6561 - val_accuracy: 0.5559 - val_tf_f1: 0.8667\n",
      "Epoch 15/50\n",
      "4646/4646 [==============================] - 23s 5ms/step - loss: 0.1945 - accuracy: 0.9285 - tf_f1: 0.8682 - val_loss: 1.4690 - val_accuracy: 0.6486 - val_tf_f1: 0.8698\n",
      "Epoch 16/50\n",
      "4646/4646 [==============================] - 23s 5ms/step - loss: 0.1902 - accuracy: 0.9298 - tf_f1: 0.8713 - val_loss: 1.5698 - val_accuracy: 0.6140 - val_tf_f1: 0.8726\n"
     ]
    },
    {
     "name": "stderr",
     "output_type": "stream",
     "text": [
      "\u001b[32m[I 2022-09-08 05:41:30,762]\u001b[0m Trial 0 finished with value: 0.872645914554596 and parameters: {'lr': 0.07628637628525947, 'units': 19}. Best is trial 0 with value: 0.872645914554596.\u001b[0m\n"
     ]
    },
    {
     "name": "stdout",
     "output_type": "stream",
     "text": [
      "Epoch 00016: early stopping\n",
      "Epoch 1/50\n"
     ]
    },
    {
     "name": "stderr",
     "output_type": "stream",
     "text": [
      "c:\\Users\\Lim Jia Hui\\Desktop\\Python\\lib\\site-packages\\tensorflow\\python\\framework\\indexed_slices.py:444: UserWarning: Converting sparse IndexedSlices(IndexedSlices(indices=Tensor(\"gradient_tape/sequential_1/dense_2/embedding_lookup_sparse/Reshape_1:0\", shape=(None,), dtype=int32), values=Tensor(\"gradient_tape/sequential_1/dense_2/embedding_lookup_sparse/Reshape:0\", shape=(None, 46), dtype=float32), dense_shape=Tensor(\"gradient_tape/sequential_1/dense_2/embedding_lookup_sparse/Cast:0\", shape=(2,), dtype=int32))) to a dense Tensor of unknown shape. This may consume a large amount of memory.\n",
      "  warnings.warn(\n"
     ]
    },
    {
     "name": "stdout",
     "output_type": "stream",
     "text": [
      "4646/4646 [==============================] - 24s 5ms/step - loss: 0.9989 - accuracy: 0.6035 - tf_f1: 0.4671 - val_loss: 1.0096 - val_accuracy: 0.5727 - val_tf_f1: 0.5957\n",
      "Epoch 2/50\n",
      "4646/4646 [==============================] - 24s 5ms/step - loss: 0.5519 - accuracy: 0.7858 - tf_f1: 0.6485 - val_loss: 1.0470 - val_accuracy: 0.5433 - val_tf_f1: 0.6868\n",
      "Epoch 3/50\n",
      "4646/4646 [==============================] - 24s 5ms/step - loss: 0.4223 - accuracy: 0.8355 - tf_f1: 0.7123 - val_loss: 0.8601 - val_accuracy: 0.6868 - val_tf_f1: 0.7342\n",
      "Epoch 4/50\n",
      "4646/4646 [==============================] - 24s 5ms/step - loss: 0.3518 - accuracy: 0.8627 - tf_f1: 0.7509 - val_loss: 1.0999 - val_accuracy: 0.5958 - val_tf_f1: 0.7645\n",
      "Epoch 5/50\n",
      "4646/4646 [==============================] - 29s 6ms/step - loss: 0.3034 - accuracy: 0.8817 - tf_f1: 0.7757 - val_loss: 0.9254 - val_accuracy: 0.6994 - val_tf_f1: 0.7863\n",
      "Epoch 6/50\n",
      "4646/4646 [==============================] - 24s 5ms/step - loss: 0.2684 - accuracy: 0.8969 - tf_f1: 0.7954 - val_loss: 1.1204 - val_accuracy: 0.6006 - val_tf_f1: 0.8032\n",
      "Epoch 7/50\n",
      "4646/4646 [==============================] - 24s 5ms/step - loss: 0.2440 - accuracy: 0.9063 - tf_f1: 0.8100 - val_loss: 1.0540 - val_accuracy: 0.6606 - val_tf_f1: 0.8163\n",
      "Epoch 8/50\n",
      "4646/4646 [==============================] - 26s 5ms/step - loss: 0.2219 - accuracy: 0.9161 - tf_f1: 0.8221 - val_loss: 1.0950 - val_accuracy: 0.6504 - val_tf_f1: 0.8274\n",
      "Epoch 9/50\n",
      "4646/4646 [==============================] - 25s 5ms/step - loss: 0.2031 - accuracy: 0.9242 - tf_f1: 0.8324 - val_loss: 1.1169 - val_accuracy: 0.6635 - val_tf_f1: 0.8369\n",
      "Epoch 10/50\n",
      "4646/4646 [==============================] - 28s 6ms/step - loss: 0.1869 - accuracy: 0.9311 - tf_f1: 0.8412 - val_loss: 1.1230 - val_accuracy: 0.6912 - val_tf_f1: 0.8452\n",
      "Epoch 11/50\n",
      "4646/4646 [==============================] - 28s 6ms/step - loss: 0.1733 - accuracy: 0.9364 - tf_f1: 0.8489 - val_loss: 1.3456 - val_accuracy: 0.6014 - val_tf_f1: 0.8522\n",
      "Epoch 12/50\n",
      "4646/4646 [==============================] - 28s 6ms/step - loss: 0.1614 - accuracy: 0.9416 - tf_f1: 0.8553 - val_loss: 1.1646 - val_accuracy: 0.6891 - val_tf_f1: 0.8585\n",
      "Epoch 13/50\n",
      "4646/4646 [==============================] - 28s 6ms/step - loss: 0.1519 - accuracy: 0.9450 - tf_f1: 0.8614 - val_loss: 1.1912 - val_accuracy: 0.7182 - val_tf_f1: 0.8642\n",
      "Epoch 14/50\n",
      "4646/4646 [==============================] - 28s 6ms/step - loss: 0.1421 - accuracy: 0.9493 - tf_f1: 0.8670 - val_loss: 1.3463 - val_accuracy: 0.6388 - val_tf_f1: 0.8693\n",
      "Epoch 15/50\n",
      "4646/4646 [==============================] - 24s 5ms/step - loss: 0.1343 - accuracy: 0.9523 - tf_f1: 0.8716 - val_loss: 1.2741 - val_accuracy: 0.6855 - val_tf_f1: 0.8739\n",
      "Epoch 16/50\n",
      "4646/4646 [==============================] - 25s 5ms/step - loss: 0.1282 - accuracy: 0.9544 - tf_f1: 0.8760 - val_loss: 1.4478 - val_accuracy: 0.6346 - val_tf_f1: 0.8780\n",
      "Epoch 17/50\n",
      "4646/4646 [==============================] - 25s 5ms/step - loss: 0.1238 - accuracy: 0.9558 - tf_f1: 0.8799 - val_loss: 1.3084 - val_accuracy: 0.7150 - val_tf_f1: 0.8817\n",
      "Epoch 18/50\n",
      "4646/4646 [==============================] - 25s 5ms/step - loss: 0.1159 - accuracy: 0.9590 - tf_f1: 0.8836 - val_loss: 1.4486 - val_accuracy: 0.6518 - val_tf_f1: 0.8852\n",
      "Epoch 19/50\n",
      "4646/4646 [==============================] - 25s 5ms/step - loss: 0.1126 - accuracy: 0.9605 - tf_f1: 0.8868 - val_loss: 1.5607 - val_accuracy: 0.6098 - val_tf_f1: 0.8883\n",
      "Epoch 20/50\n",
      "4646/4646 [==============================] - 25s 5ms/step - loss: 0.1083 - accuracy: 0.9621 - tf_f1: 0.8897 - val_loss: 1.5081 - val_accuracy: 0.6442 - val_tf_f1: 0.8911\n"
     ]
    },
    {
     "name": "stderr",
     "output_type": "stream",
     "text": [
      "\u001b[32m[I 2022-09-08 05:50:02,264]\u001b[0m Trial 1 finished with value: 0.8910649418830872 and parameters: {'lr': 0.024353689348727035, 'units': 46}. Best is trial 1 with value: 0.8910649418830872.\u001b[0m\n"
     ]
    },
    {
     "name": "stdout",
     "output_type": "stream",
     "text": [
      "Epoch 00020: early stopping\n",
      "Epoch 1/50\n"
     ]
    },
    {
     "name": "stderr",
     "output_type": "stream",
     "text": [
      "c:\\Users\\Lim Jia Hui\\Desktop\\Python\\lib\\site-packages\\tensorflow\\python\\framework\\indexed_slices.py:444: UserWarning: Converting sparse IndexedSlices(IndexedSlices(indices=Tensor(\"gradient_tape/sequential_2/dense_4/embedding_lookup_sparse/Reshape_1:0\", shape=(None,), dtype=int32), values=Tensor(\"gradient_tape/sequential_2/dense_4/embedding_lookup_sparse/Reshape:0\", shape=(None, 34), dtype=float32), dense_shape=Tensor(\"gradient_tape/sequential_2/dense_4/embedding_lookup_sparse/Cast:0\", shape=(2,), dtype=int32))) to a dense Tensor of unknown shape. This may consume a large amount of memory.\n",
      "  warnings.warn(\n"
     ]
    },
    {
     "name": "stdout",
     "output_type": "stream",
     "text": [
      "4646/4646 [==============================] - 25s 5ms/step - loss: 1.3378 - accuracy: 0.4788 - tf_f1: 0.3799 - val_loss: 1.1395 - val_accuracy: 0.5554 - val_tf_f1: 0.4720\n",
      "Epoch 2/50\n",
      "4646/4646 [==============================] - 25s 5ms/step - loss: 0.9260 - accuracy: 0.6612 - tf_f1: 0.5215 - val_loss: 0.9352 - val_accuracy: 0.6359 - val_tf_f1: 0.5641\n"
     ]
    },
    {
     "name": "stderr",
     "output_type": "stream",
     "text": [
      "\u001b[32m[I 2022-09-08 05:50:53,192]\u001b[0m Trial 2 pruned. Trial was pruned at epoch 1.\u001b[0m\n"
     ]
    },
    {
     "name": "stdout",
     "output_type": "stream",
     "text": [
      "Epoch 1/50\n"
     ]
    },
    {
     "name": "stderr",
     "output_type": "stream",
     "text": [
      "c:\\Users\\Lim Jia Hui\\Desktop\\Python\\lib\\site-packages\\tensorflow\\python\\framework\\indexed_slices.py:444: UserWarning: Converting sparse IndexedSlices(IndexedSlices(indices=Tensor(\"gradient_tape/sequential_3/dense_6/embedding_lookup_sparse/Reshape_1:0\", shape=(None,), dtype=int32), values=Tensor(\"gradient_tape/sequential_3/dense_6/embedding_lookup_sparse/Reshape:0\", shape=(None, 21), dtype=float32), dense_shape=Tensor(\"gradient_tape/sequential_3/dense_6/embedding_lookup_sparse/Cast:0\", shape=(2,), dtype=int32))) to a dense Tensor of unknown shape. This may consume a large amount of memory.\n",
      "  warnings.warn(\n"
     ]
    },
    {
     "name": "stdout",
     "output_type": "stream",
     "text": [
      "4646/4646 [==============================] - 26s 5ms/step - loss: 1.0992 - accuracy: 0.5632 - tf_f1: 0.4350 - val_loss: 0.9161 - val_accuracy: 0.6613 - val_tf_f1: 0.5598\n",
      "Epoch 2/50\n",
      "4646/4646 [==============================] - 25s 5ms/step - loss: 0.6308 - accuracy: 0.7596 - tf_f1: 0.6170 - val_loss: 1.0151 - val_accuracy: 0.5809 - val_tf_f1: 0.6573\n"
     ]
    },
    {
     "name": "stderr",
     "output_type": "stream",
     "text": [
      "\u001b[32m[I 2022-09-08 05:51:44,101]\u001b[0m Trial 3 pruned. Trial was pruned at epoch 1.\u001b[0m\n"
     ]
    },
    {
     "name": "stdout",
     "output_type": "stream",
     "text": [
      "Epoch 1/50\n"
     ]
    },
    {
     "name": "stderr",
     "output_type": "stream",
     "text": [
      "c:\\Users\\Lim Jia Hui\\Desktop\\Python\\lib\\site-packages\\tensorflow\\python\\framework\\indexed_slices.py:444: UserWarning: Converting sparse IndexedSlices(IndexedSlices(indices=Tensor(\"gradient_tape/sequential_4/dense_8/embedding_lookup_sparse/Reshape_1:0\", shape=(None,), dtype=int32), values=Tensor(\"gradient_tape/sequential_4/dense_8/embedding_lookup_sparse/Reshape:0\", shape=(None, 17), dtype=float32), dense_shape=Tensor(\"gradient_tape/sequential_4/dense_8/embedding_lookup_sparse/Cast:0\", shape=(2,), dtype=int32))) to a dense Tensor of unknown shape. This may consume a large amount of memory.\n",
      "  warnings.warn(\n"
     ]
    },
    {
     "name": "stdout",
     "output_type": "stream",
     "text": [
      "4646/4646 [==============================] - 25s 5ms/step - loss: 0.8968 - accuracy: 0.6427 - tf_f1: 0.5065 - val_loss: 1.0516 - val_accuracy: 0.5433 - val_tf_f1: 0.6352\n",
      "Epoch 2/50\n",
      "4646/4646 [==============================] - 25s 5ms/step - loss: 0.5278 - accuracy: 0.7916 - tf_f1: 0.6788 - val_loss: 0.9906 - val_accuracy: 0.5934 - val_tf_f1: 0.7101\n",
      "Epoch 3/50\n",
      "4646/4646 [==============================] - 25s 5ms/step - loss: 0.4417 - accuracy: 0.8261 - tf_f1: 0.7303 - val_loss: 1.0164 - val_accuracy: 0.6449 - val_tf_f1: 0.7468\n",
      "Epoch 4/50\n",
      "4646/4646 [==============================] - 25s 5ms/step - loss: 0.3935 - accuracy: 0.8450 - tf_f1: 0.7590 - val_loss: 1.0172 - val_accuracy: 0.6336 - val_tf_f1: 0.7697\n",
      "Epoch 5/50\n",
      "4646/4646 [==============================] - 25s 5ms/step - loss: 0.3641 - accuracy: 0.8575 - tf_f1: 0.7784 - val_loss: 1.1039 - val_accuracy: 0.6026 - val_tf_f1: 0.7857\n"
     ]
    },
    {
     "name": "stderr",
     "output_type": "stream",
     "text": [
      "\u001b[32m[I 2022-09-08 05:53:50,893]\u001b[0m Trial 4 pruned. Trial was pruned at epoch 4.\u001b[0m\n"
     ]
    },
    {
     "name": "stdout",
     "output_type": "stream",
     "text": [
      "Epoch 1/50\n"
     ]
    },
    {
     "name": "stderr",
     "output_type": "stream",
     "text": [
      "c:\\Users\\Lim Jia Hui\\Desktop\\Python\\lib\\site-packages\\tensorflow\\python\\framework\\indexed_slices.py:444: UserWarning: Converting sparse IndexedSlices(IndexedSlices(indices=Tensor(\"gradient_tape/sequential_5/dense_10/embedding_lookup_sparse/Reshape_1:0\", shape=(None,), dtype=int32), values=Tensor(\"gradient_tape/sequential_5/dense_10/embedding_lookup_sparse/Reshape:0\", shape=(None, 43), dtype=float32), dense_shape=Tensor(\"gradient_tape/sequential_5/dense_10/embedding_lookup_sparse/Cast:0\", shape=(2,), dtype=int32))) to a dense Tensor of unknown shape. This may consume a large amount of memory.\n",
      "  warnings.warn(\n"
     ]
    },
    {
     "name": "stdout",
     "output_type": "stream",
     "text": [
      "4646/4646 [==============================] - 26s 5ms/step - loss: 1.0617 - accuracy: 0.5799 - tf_f1: 0.4487 - val_loss: 0.9942 - val_accuracy: 0.6190 - val_tf_f1: 0.5737\n",
      "Epoch 2/50\n",
      "4646/4646 [==============================] - 25s 5ms/step - loss: 0.5971 - accuracy: 0.7711 - tf_f1: 0.6293 - val_loss: 0.9485 - val_accuracy: 0.6282 - val_tf_f1: 0.6701\n"
     ]
    },
    {
     "name": "stderr",
     "output_type": "stream",
     "text": [
      "\u001b[32m[I 2022-09-08 05:54:42,354]\u001b[0m Trial 5 pruned. Trial was pruned at epoch 1.\u001b[0m\n"
     ]
    },
    {
     "name": "stdout",
     "output_type": "stream",
     "text": [
      "Epoch 1/50\n"
     ]
    },
    {
     "name": "stderr",
     "output_type": "stream",
     "text": [
      "c:\\Users\\Lim Jia Hui\\Desktop\\Python\\lib\\site-packages\\tensorflow\\python\\framework\\indexed_slices.py:444: UserWarning: Converting sparse IndexedSlices(IndexedSlices(indices=Tensor(\"gradient_tape/sequential_6/dense_12/embedding_lookup_sparse/Reshape_1:0\", shape=(None,), dtype=int32), values=Tensor(\"gradient_tape/sequential_6/dense_12/embedding_lookup_sparse/Reshape:0\", shape=(None, 46), dtype=float32), dense_shape=Tensor(\"gradient_tape/sequential_6/dense_12/embedding_lookup_sparse/Cast:0\", shape=(2,), dtype=int32))) to a dense Tensor of unknown shape. This may consume a large amount of memory.\n",
      "  warnings.warn(\n"
     ]
    },
    {
     "name": "stdout",
     "output_type": "stream",
     "text": [
      "4646/4646 [==============================] - 26s 5ms/step - loss: 0.8692 - accuracy: 0.6484 - tf_f1: 0.5137 - val_loss: 0.8847 - val_accuracy: 0.6458 - val_tf_f1: 0.6445\n",
      "Epoch 2/50\n",
      "4646/4646 [==============================] - 25s 5ms/step - loss: 0.4759 - accuracy: 0.8104 - tf_f1: 0.6921 - val_loss: 1.0184 - val_accuracy: 0.6289 - val_tf_f1: 0.7254\n",
      "Epoch 3/50\n",
      "4646/4646 [==============================] - 25s 5ms/step - loss: 0.3735 - accuracy: 0.8508 - tf_f1: 0.7472 - val_loss: 0.9471 - val_accuracy: 0.6807 - val_tf_f1: 0.7653\n",
      "Epoch 4/50\n",
      "4646/4646 [==============================] - 25s 5ms/step - loss: 0.3162 - accuracy: 0.8749 - tf_f1: 0.7794 - val_loss: 0.9994 - val_accuracy: 0.6731 - val_tf_f1: 0.7912\n",
      "Epoch 5/50\n",
      "4646/4646 [==============================] - 25s 5ms/step - loss: 0.2755 - accuracy: 0.8927 - tf_f1: 0.8012 - val_loss: 1.2170 - val_accuracy: 0.5771 - val_tf_f1: 0.8094\n",
      "Epoch 6/50\n",
      "4646/4646 [==============================] - 25s 5ms/step - loss: 0.2476 - accuracy: 0.9042 - tf_f1: 0.8166 - val_loss: 1.1044 - val_accuracy: 0.6703 - val_tf_f1: 0.8233\n",
      "Epoch 7/50\n",
      "4646/4646 [==============================] - 25s 5ms/step - loss: 0.2249 - accuracy: 0.9144 - tf_f1: 0.8294 - val_loss: 1.1060 - val_accuracy: 0.6977 - val_tf_f1: 0.8350\n",
      "Epoch 8/50\n",
      "4646/4646 [==============================] - 25s 5ms/step - loss: 0.2061 - accuracy: 0.9227 - tf_f1: 0.8401 - val_loss: 1.2335 - val_accuracy: 0.6529 - val_tf_f1: 0.8446\n",
      "Epoch 9/50\n",
      "4646/4646 [==============================] - 25s 5ms/step - loss: 0.1921 - accuracy: 0.9290 - tf_f1: 0.8488 - val_loss: 1.2720 - val_accuracy: 0.6618 - val_tf_f1: 0.8526\n",
      "Epoch 10/50\n",
      "4646/4646 [==============================] - 25s 5ms/step - loss: 0.1783 - accuracy: 0.9343 - tf_f1: 0.8562 - val_loss: 1.2829 - val_accuracy: 0.7299 - val_tf_f1: 0.8597\n",
      "Epoch 11/50\n",
      "4646/4646 [==============================] - 25s 5ms/step - loss: 0.1673 - accuracy: 0.9393 - tf_f1: 0.8630 - val_loss: 1.2840 - val_accuracy: 0.7061 - val_tf_f1: 0.8660\n",
      "Epoch 12/50\n",
      "4646/4646 [==============================] - 25s 5ms/step - loss: 0.1587 - accuracy: 0.9424 - tf_f1: 0.8688 - val_loss: 1.3401 - val_accuracy: 0.6805 - val_tf_f1: 0.8714\n",
      "Epoch 13/50\n",
      "4646/4646 [==============================] - 25s 5ms/step - loss: 0.1499 - accuracy: 0.9462 - tf_f1: 0.8738 - val_loss: 1.3804 - val_accuracy: 0.6759 - val_tf_f1: 0.8761\n",
      "Epoch 14/50\n",
      "4646/4646 [==============================] - 25s 5ms/step - loss: 0.1421 - accuracy: 0.9493 - tf_f1: 0.8783 - val_loss: 1.4012 - val_accuracy: 0.6935 - val_tf_f1: 0.8804\n",
      "Epoch 15/50\n",
      "4646/4646 [==============================] - 25s 5ms/step - loss: 0.1367 - accuracy: 0.9512 - tf_f1: 0.8823 - val_loss: 1.4660 - val_accuracy: 0.7202 - val_tf_f1: 0.8843\n",
      "Epoch 16/50\n",
      "4646/4646 [==============================] - 25s 5ms/step - loss: 0.1317 - accuracy: 0.9531 - tf_f1: 0.8861 - val_loss: 1.4762 - val_accuracy: 0.6901 - val_tf_f1: 0.8878\n",
      "Epoch 17/50\n",
      "4646/4646 [==============================] - 25s 5ms/step - loss: 0.1267 - accuracy: 0.9553 - tf_f1: 0.8894 - val_loss: 1.4992 - val_accuracy: 0.6916 - val_tf_f1: 0.8909\n",
      "Epoch 18/50\n",
      "4646/4646 [==============================] - 25s 5ms/step - loss: 0.1214 - accuracy: 0.9572 - tf_f1: 0.8924 - val_loss: 1.5720 - val_accuracy: 0.6601 - val_tf_f1: 0.8938\n",
      "Epoch 19/50\n",
      "4646/4646 [==============================] - 25s 5ms/step - loss: 0.1188 - accuracy: 0.9585 - tf_f1: 0.8951 - val_loss: 1.5506 - val_accuracy: 0.7125 - val_tf_f1: 0.8965\n"
     ]
    },
    {
     "name": "stderr",
     "output_type": "stream",
     "text": [
      "\u001b[32m[I 2022-09-08 06:02:42,867]\u001b[0m Trial 6 finished with value: 0.8964519500732422 and parameters: {'lr': 0.04587025121029349, 'units': 46}. Best is trial 6 with value: 0.8964519500732422.\u001b[0m\n"
     ]
    },
    {
     "name": "stdout",
     "output_type": "stream",
     "text": [
      "Epoch 00019: early stopping\n",
      "Epoch 1/50\n"
     ]
    },
    {
     "name": "stderr",
     "output_type": "stream",
     "text": [
      "c:\\Users\\Lim Jia Hui\\Desktop\\Python\\lib\\site-packages\\tensorflow\\python\\framework\\indexed_slices.py:444: UserWarning: Converting sparse IndexedSlices(IndexedSlices(indices=Tensor(\"gradient_tape/sequential_7/dense_14/embedding_lookup_sparse/Reshape_1:0\", shape=(None,), dtype=int32), values=Tensor(\"gradient_tape/sequential_7/dense_14/embedding_lookup_sparse/Reshape:0\", shape=(None, 42), dtype=float32), dense_shape=Tensor(\"gradient_tape/sequential_7/dense_14/embedding_lookup_sparse/Cast:0\", shape=(2,), dtype=int32))) to a dense Tensor of unknown shape. This may consume a large amount of memory.\n",
      "  warnings.warn(\n"
     ]
    },
    {
     "name": "stdout",
     "output_type": "stream",
     "text": [
      "4646/4646 [==============================] - 26s 5ms/step - loss: 0.9906 - accuracy: 0.6077 - tf_f1: 0.4713 - val_loss: 0.9383 - val_accuracy: 0.6397 - val_tf_f1: 0.6018\n",
      "Epoch 2/50\n",
      "4646/4646 [==============================] - 25s 5ms/step - loss: 0.5498 - accuracy: 0.7850 - tf_f1: 0.6541 - val_loss: 1.0697 - val_accuracy: 0.5463 - val_tf_f1: 0.6906\n"
     ]
    },
    {
     "name": "stderr",
     "output_type": "stream",
     "text": [
      "\u001b[32m[I 2022-09-08 06:03:34,592]\u001b[0m Trial 7 pruned. Trial was pruned at epoch 1.\u001b[0m\n"
     ]
    },
    {
     "name": "stdout",
     "output_type": "stream",
     "text": [
      "Epoch 1/50\n"
     ]
    },
    {
     "name": "stderr",
     "output_type": "stream",
     "text": [
      "c:\\Users\\Lim Jia Hui\\Desktop\\Python\\lib\\site-packages\\tensorflow\\python\\framework\\indexed_slices.py:444: UserWarning: Converting sparse IndexedSlices(IndexedSlices(indices=Tensor(\"gradient_tape/sequential_8/dense_16/embedding_lookup_sparse/Reshape_1:0\", shape=(None,), dtype=int32), values=Tensor(\"gradient_tape/sequential_8/dense_16/embedding_lookup_sparse/Reshape:0\", shape=(None, 41), dtype=float32), dense_shape=Tensor(\"gradient_tape/sequential_8/dense_16/embedding_lookup_sparse/Cast:0\", shape=(2,), dtype=int32))) to a dense Tensor of unknown shape. This may consume a large amount of memory.\n",
      "  warnings.warn(\n"
     ]
    },
    {
     "name": "stdout",
     "output_type": "stream",
     "text": [
      "4646/4646 [==============================] - 26s 5ms/step - loss: 0.7731 - accuracy: 0.6816 - tf_f1: 0.5587 - val_loss: 1.1003 - val_accuracy: 0.5792 - val_tf_f1: 0.6762\n",
      "Epoch 2/50\n",
      "4646/4646 [==============================] - 26s 5ms/step - loss: 0.4337 - accuracy: 0.8217 - tf_f1: 0.7160 - val_loss: 0.9913 - val_accuracy: 0.6469 - val_tf_f1: 0.7462\n",
      "Epoch 3/50\n",
      "4646/4646 [==============================] - 25s 5ms/step - loss: 0.3428 - accuracy: 0.8590 - tf_f1: 0.7660 - val_loss: 1.1710 - val_accuracy: 0.5895 - val_tf_f1: 0.7813\n",
      "Epoch 4/50\n",
      "4646/4646 [==============================] - 26s 5ms/step - loss: 0.2960 - accuracy: 0.8793 - tf_f1: 0.7931 - val_loss: 1.2580 - val_accuracy: 0.5711 - val_tf_f1: 0.8029\n",
      "Epoch 5/50\n",
      "4646/4646 [==============================] - 25s 5ms/step - loss: 0.2668 - accuracy: 0.8928 - tf_f1: 0.8112 - val_loss: 1.1540 - val_accuracy: 0.6468 - val_tf_f1: 0.8187\n",
      "Epoch 6/50\n",
      "4646/4646 [==============================] - 25s 5ms/step - loss: 0.2404 - accuracy: 0.9040 - tf_f1: 0.8253 - val_loss: 1.2237 - val_accuracy: 0.6399 - val_tf_f1: 0.8312\n",
      "Epoch 7/50\n",
      "4646/4646 [==============================] - 25s 5ms/step - loss: 0.2237 - accuracy: 0.9114 - tf_f1: 0.8364 - val_loss: 1.4676 - val_accuracy: 0.5590 - val_tf_f1: 0.8407\n",
      "Epoch 8/50\n",
      "4646/4646 [==============================] - 25s 5ms/step - loss: 0.2103 - accuracy: 0.9176 - tf_f1: 0.8446 - val_loss: 1.3157 - val_accuracy: 0.6620 - val_tf_f1: 0.8486\n",
      "Epoch 9/50\n",
      "4646/4646 [==============================] - 26s 5ms/step - loss: 0.1974 - accuracy: 0.9235 - tf_f1: 0.8522 - val_loss: 1.2943 - val_accuracy: 0.6799 - val_tf_f1: 0.8557\n",
      "Epoch 10/50\n",
      "4646/4646 [==============================] - 26s 5ms/step - loss: 0.1849 - accuracy: 0.9288 - tf_f1: 0.8589 - val_loss: 1.3684 - val_accuracy: 0.6664 - val_tf_f1: 0.8618\n",
      "Epoch 11/50\n",
      "4646/4646 [==============================] - 26s 5ms/step - loss: 0.1752 - accuracy: 0.9332 - tf_f1: 0.8646 - val_loss: 1.3806 - val_accuracy: 0.6681 - val_tf_f1: 0.8672\n",
      "Epoch 12/50\n",
      "4646/4646 [==============================] - 25s 5ms/step - loss: 0.1682 - accuracy: 0.9362 - tf_f1: 0.8696 - val_loss: 1.4556 - val_accuracy: 0.6705 - val_tf_f1: 0.8719\n",
      "Epoch 13/50\n",
      "4646/4646 [==============================] - 25s 5ms/step - loss: 0.1614 - accuracy: 0.9387 - tf_f1: 0.8740 - val_loss: 1.4243 - val_accuracy: 0.7150 - val_tf_f1: 0.8761\n",
      "Epoch 14/50\n",
      "4646/4646 [==============================] - 25s 5ms/step - loss: 0.1554 - accuracy: 0.9416 - tf_f1: 0.8781 - val_loss: 1.4699 - val_accuracy: 0.6664 - val_tf_f1: 0.8799\n",
      "Epoch 15/50\n",
      "4646/4646 [==============================] - 25s 5ms/step - loss: 0.1501 - accuracy: 0.9434 - tf_f1: 0.8816 - val_loss: 1.4822 - val_accuracy: 0.6964 - val_tf_f1: 0.8833\n",
      "Epoch 16/50\n",
      "4646/4646 [==============================] - 26s 5ms/step - loss: 0.1452 - accuracy: 0.9458 - tf_f1: 0.8849 - val_loss: 1.5979 - val_accuracy: 0.6595 - val_tf_f1: 0.8864\n",
      "Epoch 17/50\n",
      "4646/4646 [==============================] - 26s 5ms/step - loss: 0.1403 - accuracy: 0.9481 - tf_f1: 0.8878 - val_loss: 1.6571 - val_accuracy: 0.6245 - val_tf_f1: 0.8891\n"
     ]
    },
    {
     "name": "stderr",
     "output_type": "stream",
     "text": [
      "\u001b[32m[I 2022-09-08 06:10:47,729]\u001b[0m Trial 8 pruned. Trial was pruned at epoch 16.\u001b[0m\n"
     ]
    },
    {
     "name": "stdout",
     "output_type": "stream",
     "text": [
      "Epoch 1/50\n"
     ]
    },
    {
     "name": "stderr",
     "output_type": "stream",
     "text": [
      "c:\\Users\\Lim Jia Hui\\Desktop\\Python\\lib\\site-packages\\tensorflow\\python\\framework\\indexed_slices.py:444: UserWarning: Converting sparse IndexedSlices(IndexedSlices(indices=Tensor(\"gradient_tape/sequential_9/dense_18/embedding_lookup_sparse/Reshape_1:0\", shape=(None,), dtype=int32), values=Tensor(\"gradient_tape/sequential_9/dense_18/embedding_lookup_sparse/Reshape:0\", shape=(None, 22), dtype=float32), dense_shape=Tensor(\"gradient_tape/sequential_9/dense_18/embedding_lookup_sparse/Cast:0\", shape=(2,), dtype=int32))) to a dense Tensor of unknown shape. This may consume a large amount of memory.\n",
      "  warnings.warn(\n"
     ]
    },
    {
     "name": "stdout",
     "output_type": "stream",
     "text": [
      "4646/4646 [==============================] - 28s 6ms/step - loss: 0.9582 - accuracy: 0.6176 - tf_f1: 0.4833 - val_loss: 1.0833 - val_accuracy: 0.5270 - val_tf_f1: 0.6095\n",
      "Epoch 2/50\n",
      "4646/4646 [==============================] - 25s 5ms/step - loss: 0.5455 - accuracy: 0.7853 - tf_f1: 0.6580 - val_loss: 0.9317 - val_accuracy: 0.6445 - val_tf_f1: 0.6944\n"
     ]
    },
    {
     "name": "stderr",
     "output_type": "stream",
     "text": [
      "\u001b[32m[I 2022-09-08 06:11:41,155]\u001b[0m Trial 9 pruned. Trial was pruned at epoch 1.\u001b[0m\n"
     ]
    },
    {
     "name": "stdout",
     "output_type": "stream",
     "text": [
      "Epoch 1/50\n"
     ]
    },
    {
     "name": "stderr",
     "output_type": "stream",
     "text": [
      "c:\\Users\\Lim Jia Hui\\Desktop\\Python\\lib\\site-packages\\tensorflow\\python\\framework\\indexed_slices.py:444: UserWarning: Converting sparse IndexedSlices(IndexedSlices(indices=Tensor(\"gradient_tape/sequential_10/dense_20/embedding_lookup_sparse/Reshape_1:0\", shape=(None,), dtype=int32), values=Tensor(\"gradient_tape/sequential_10/dense_20/embedding_lookup_sparse/Reshape:0\", shape=(None, 50), dtype=float32), dense_shape=Tensor(\"gradient_tape/sequential_10/dense_20/embedding_lookup_sparse/Cast:0\", shape=(2,), dtype=int32))) to a dense Tensor of unknown shape. This may consume a large amount of memory.\n",
      "  warnings.warn(\n"
     ]
    },
    {
     "name": "stdout",
     "output_type": "stream",
     "text": [
      "4646/4646 [==============================] - 26s 5ms/step - loss: 0.8208 - accuracy: 0.6655 - tf_f1: 0.5323 - val_loss: 1.2565 - val_accuracy: 0.4415 - val_tf_f1: 0.6560\n",
      "Epoch 2/50\n",
      "4646/4646 [==============================] - 25s 5ms/step - loss: 0.4395 - accuracy: 0.8221 - tf_f1: 0.6999 - val_loss: 0.9712 - val_accuracy: 0.6506 - val_tf_f1: 0.7345\n",
      "Epoch 3/50\n",
      "4646/4646 [==============================] - 25s 5ms/step - loss: 0.3401 - accuracy: 0.8615 - tf_f1: 0.7568 - val_loss: 0.9806 - val_accuracy: 0.6802 - val_tf_f1: 0.7750\n",
      "Epoch 4/50\n",
      "4646/4646 [==============================] - 26s 5ms/step - loss: 0.2913 - accuracy: 0.8825 - tf_f1: 0.7887 - val_loss: 1.1931 - val_accuracy: 0.5982 - val_tf_f1: 0.7998\n",
      "Epoch 5/50\n",
      "4646/4646 [==============================] - 25s 5ms/step - loss: 0.2596 - accuracy: 0.8967 - tf_f1: 0.8087 - val_loss: 1.2848 - val_accuracy: 0.5841 - val_tf_f1: 0.8166\n"
     ]
    },
    {
     "name": "stderr",
     "output_type": "stream",
     "text": [
      "\u001b[32m[I 2022-09-08 06:13:49,066]\u001b[0m Trial 10 pruned. Trial was pruned at epoch 4.\u001b[0m\n"
     ]
    },
    {
     "name": "stdout",
     "output_type": "stream",
     "text": [
      "Epoch 1/50\n"
     ]
    },
    {
     "name": "stderr",
     "output_type": "stream",
     "text": [
      "c:\\Users\\Lim Jia Hui\\Desktop\\Python\\lib\\site-packages\\tensorflow\\python\\framework\\indexed_slices.py:444: UserWarning: Converting sparse IndexedSlices(IndexedSlices(indices=Tensor(\"gradient_tape/sequential_11/dense_22/embedding_lookup_sparse/Reshape_1:0\", shape=(None,), dtype=int32), values=Tensor(\"gradient_tape/sequential_11/dense_22/embedding_lookup_sparse/Reshape:0\", shape=(None, 50), dtype=float32), dense_shape=Tensor(\"gradient_tape/sequential_11/dense_22/embedding_lookup_sparse/Cast:0\", shape=(2,), dtype=int32))) to a dense Tensor of unknown shape. This may consume a large amount of memory.\n",
      "  warnings.warn(\n"
     ]
    },
    {
     "name": "stdout",
     "output_type": "stream",
     "text": [
      "4646/4646 [==============================] - 26s 5ms/step - loss: 0.8427 - accuracy: 0.6584 - tf_f1: 0.5281 - val_loss: 0.9613 - val_accuracy: 0.6304 - val_tf_f1: 0.6541\n",
      "Epoch 2/50\n",
      "4646/4646 [==============================] - 25s 5ms/step - loss: 0.4557 - accuracy: 0.8162 - tf_f1: 0.7001 - val_loss: 0.9203 - val_accuracy: 0.6831 - val_tf_f1: 0.7334\n"
     ]
    },
    {
     "name": "stderr",
     "output_type": "stream",
     "text": [
      "\u001b[32m[I 2022-09-08 06:14:40,717]\u001b[0m Trial 11 pruned. Trial was pruned at epoch 1.\u001b[0m\n"
     ]
    },
    {
     "name": "stdout",
     "output_type": "stream",
     "text": [
      "Epoch 1/50\n"
     ]
    },
    {
     "name": "stderr",
     "output_type": "stream",
     "text": [
      "c:\\Users\\Lim Jia Hui\\Desktop\\Python\\lib\\site-packages\\tensorflow\\python\\framework\\indexed_slices.py:444: UserWarning: Converting sparse IndexedSlices(IndexedSlices(indices=Tensor(\"gradient_tape/sequential_12/dense_24/embedding_lookup_sparse/Reshape_1:0\", shape=(None,), dtype=int32), values=Tensor(\"gradient_tape/sequential_12/dense_24/embedding_lookup_sparse/Reshape:0\", shape=(None, 32), dtype=float32), dense_shape=Tensor(\"gradient_tape/sequential_12/dense_24/embedding_lookup_sparse/Cast:0\", shape=(2,), dtype=int32))) to a dense Tensor of unknown shape. This may consume a large amount of memory.\n",
      "  warnings.warn(\n"
     ]
    },
    {
     "name": "stdout",
     "output_type": "stream",
     "text": [
      "4646/4646 [==============================] - 26s 5ms/step - loss: 0.8940 - accuracy: 0.6409 - tf_f1: 0.5070 - val_loss: 1.1536 - val_accuracy: 0.5328 - val_tf_f1: 0.6337\n",
      "Epoch 2/50\n",
      "4646/4646 [==============================] - 25s 5ms/step - loss: 0.4868 - accuracy: 0.8064 - tf_f1: 0.6809 - val_loss: 0.9506 - val_accuracy: 0.6555 - val_tf_f1: 0.7167\n"
     ]
    },
    {
     "name": "stderr",
     "output_type": "stream",
     "text": [
      "\u001b[32m[I 2022-09-08 06:15:32,123]\u001b[0m Trial 12 pruned. Trial was pruned at epoch 1.\u001b[0m\n"
     ]
    },
    {
     "name": "stdout",
     "output_type": "stream",
     "text": [
      "Epoch 1/50\n"
     ]
    },
    {
     "name": "stderr",
     "output_type": "stream",
     "text": [
      "c:\\Users\\Lim Jia Hui\\Desktop\\Python\\lib\\site-packages\\tensorflow\\python\\framework\\indexed_slices.py:444: UserWarning: Converting sparse IndexedSlices(IndexedSlices(indices=Tensor(\"gradient_tape/sequential_13/dense_26/embedding_lookup_sparse/Reshape_1:0\", shape=(None,), dtype=int32), values=Tensor(\"gradient_tape/sequential_13/dense_26/embedding_lookup_sparse/Reshape:0\", shape=(None, 37), dtype=float32), dense_shape=Tensor(\"gradient_tape/sequential_13/dense_26/embedding_lookup_sparse/Cast:0\", shape=(2,), dtype=int32))) to a dense Tensor of unknown shape. This may consume a large amount of memory.\n",
      "  warnings.warn(\n"
     ]
    },
    {
     "name": "stdout",
     "output_type": "stream",
     "text": [
      "4646/4646 [==============================] - 26s 5ms/step - loss: 0.7922 - accuracy: 0.6776 - tf_f1: 0.5479 - val_loss: 1.0231 - val_accuracy: 0.6057 - val_tf_f1: 0.6728\n",
      "Epoch 2/50\n",
      "4646/4646 [==============================] - 26s 5ms/step - loss: 0.4180 - accuracy: 0.8305 - tf_f1: 0.7172 - val_loss: 0.9111 - val_accuracy: 0.6929 - val_tf_f1: 0.7497\n",
      "Epoch 3/50\n",
      "4646/4646 [==============================] - 26s 5ms/step - loss: 0.3244 - accuracy: 0.8677 - tf_f1: 0.7709 - val_loss: 1.0448 - val_accuracy: 0.6310 - val_tf_f1: 0.7872\n",
      "Epoch 4/50\n",
      "4646/4646 [==============================] - 25s 5ms/step - loss: 0.2772 - accuracy: 0.8890 - tf_f1: 0.7998 - val_loss: 1.0130 - val_accuracy: 0.6982 - val_tf_f1: 0.8110\n",
      "Epoch 5/50\n",
      "4646/4646 [==============================] - 26s 5ms/step - loss: 0.2467 - accuracy: 0.9025 - tf_f1: 0.8200 - val_loss: 1.0687 - val_accuracy: 0.6884 - val_tf_f1: 0.8278\n",
      "Epoch 6/50\n",
      "4646/4646 [==============================] - 26s 5ms/step - loss: 0.2208 - accuracy: 0.9142 - tf_f1: 0.8347 - val_loss: 1.2846 - val_accuracy: 0.6018 - val_tf_f1: 0.8404\n",
      "Epoch 7/50\n",
      "4646/4646 [==============================] - 25s 5ms/step - loss: 0.2000 - accuracy: 0.9246 - tf_f1: 0.8457 - val_loss: 1.1987 - val_accuracy: 0.6779 - val_tf_f1: 0.8507\n",
      "Epoch 8/50\n",
      "4646/4646 [==============================] - 25s 5ms/step - loss: 0.1841 - accuracy: 0.9309 - tf_f1: 0.8552 - val_loss: 1.2802 - val_accuracy: 0.6776 - val_tf_f1: 0.8593\n",
      "Epoch 9/50\n",
      "4646/4646 [==============================] - 26s 5ms/step - loss: 0.1683 - accuracy: 0.9380 - tf_f1: 0.8632 - val_loss: 1.2840 - val_accuracy: 0.6776 - val_tf_f1: 0.8667\n",
      "Epoch 10/50\n",
      "4646/4646 [==============================] - 25s 5ms/step - loss: 0.1573 - accuracy: 0.9430 - tf_f1: 0.8700 - val_loss: 1.2862 - val_accuracy: 0.6958 - val_tf_f1: 0.8731\n",
      "Epoch 11/50\n",
      "4646/4646 [==============================] - 25s 5ms/step - loss: 0.1493 - accuracy: 0.9460 - tf_f1: 0.8760 - val_loss: 1.3549 - val_accuracy: 0.6682 - val_tf_f1: 0.8786\n",
      "Epoch 12/50\n",
      "4646/4646 [==============================] - 25s 5ms/step - loss: 0.1409 - accuracy: 0.9494 - tf_f1: 0.8810 - val_loss: 1.4157 - val_accuracy: 0.6993 - val_tf_f1: 0.8833\n",
      "Epoch 13/50\n",
      "4646/4646 [==============================] - 26s 5ms/step - loss: 0.1357 - accuracy: 0.9518 - tf_f1: 0.8856 - val_loss: 1.4014 - val_accuracy: 0.7022 - val_tf_f1: 0.8876\n",
      "Epoch 14/50\n",
      "4646/4646 [==============================] - 25s 5ms/step - loss: 0.1290 - accuracy: 0.9540 - tf_f1: 0.8896 - val_loss: 1.4293 - val_accuracy: 0.6787 - val_tf_f1: 0.8914\n",
      "Epoch 15/50\n",
      "4646/4646 [==============================] - 26s 5ms/step - loss: 0.1234 - accuracy: 0.9564 - tf_f1: 0.8932 - val_loss: 1.5877 - val_accuracy: 0.6576 - val_tf_f1: 0.8948\n",
      "Epoch 16/50\n",
      "4646/4646 [==============================] - 26s 5ms/step - loss: 0.1203 - accuracy: 0.9574 - tf_f1: 0.8963 - val_loss: 1.6164 - val_accuracy: 0.6652 - val_tf_f1: 0.8977\n",
      "Epoch 17/50\n",
      "4646/4646 [==============================] - 25s 5ms/step - loss: 0.1157 - accuracy: 0.9589 - tf_f1: 0.8991 - val_loss: 1.5815 - val_accuracy: 0.7004 - val_tf_f1: 0.9004\n"
     ]
    },
    {
     "name": "stderr",
     "output_type": "stream",
     "text": [
      "\u001b[32m[I 2022-09-08 06:22:46,479]\u001b[0m Trial 13 finished with value: 0.9004270434379578 and parameters: {'lr': 0.06864846281726084, 'units': 37}. Best is trial 13 with value: 0.9004270434379578.\u001b[0m\n"
     ]
    },
    {
     "name": "stdout",
     "output_type": "stream",
     "text": [
      "Epoch 00017: early stopping\n",
      "Epoch 1/50\n"
     ]
    },
    {
     "name": "stderr",
     "output_type": "stream",
     "text": [
      "c:\\Users\\Lim Jia Hui\\Desktop\\Python\\lib\\site-packages\\tensorflow\\python\\framework\\indexed_slices.py:444: UserWarning: Converting sparse IndexedSlices(IndexedSlices(indices=Tensor(\"gradient_tape/sequential_14/dense_28/embedding_lookup_sparse/Reshape_1:0\", shape=(None,), dtype=int32), values=Tensor(\"gradient_tape/sequential_14/dense_28/embedding_lookup_sparse/Reshape:0\", shape=(None, 37), dtype=float32), dense_shape=Tensor(\"gradient_tape/sequential_14/dense_28/embedding_lookup_sparse/Cast:0\", shape=(2,), dtype=int32))) to a dense Tensor of unknown shape. This may consume a large amount of memory.\n",
      "  warnings.warn(\n"
     ]
    },
    {
     "name": "stdout",
     "output_type": "stream",
     "text": [
      "4646/4646 [==============================] - 26s 5ms/step - loss: 0.8394 - accuracy: 0.6540 - tf_f1: 0.5198 - val_loss: 1.0469 - val_accuracy: 0.5766 - val_tf_f1: 0.6477\n",
      "Epoch 2/50\n",
      "4646/4646 [==============================] - 25s 5ms/step - loss: 0.4946 - accuracy: 0.7990 - tf_f1: 0.6901 - val_loss: 0.9747 - val_accuracy: 0.6463 - val_tf_f1: 0.7208\n"
     ]
    },
    {
     "name": "stderr",
     "output_type": "stream",
     "text": [
      "\u001b[32m[I 2022-09-08 06:23:38,460]\u001b[0m Trial 14 pruned. Trial was pruned at epoch 1.\u001b[0m\n"
     ]
    },
    {
     "name": "stdout",
     "output_type": "stream",
     "text": [
      "Epoch 1/50\n"
     ]
    },
    {
     "name": "stderr",
     "output_type": "stream",
     "text": [
      "c:\\Users\\Lim Jia Hui\\Desktop\\Python\\lib\\site-packages\\tensorflow\\python\\framework\\indexed_slices.py:444: UserWarning: Converting sparse IndexedSlices(IndexedSlices(indices=Tensor(\"gradient_tape/sequential_15/dense_30/embedding_lookup_sparse/Reshape_1:0\", shape=(None,), dtype=int32), values=Tensor(\"gradient_tape/sequential_15/dense_30/embedding_lookup_sparse/Reshape:0\", shape=(None, 10), dtype=float32), dense_shape=Tensor(\"gradient_tape/sequential_15/dense_30/embedding_lookup_sparse/Cast:0\", shape=(2,), dtype=int32))) to a dense Tensor of unknown shape. This may consume a large amount of memory.\n",
      "  warnings.warn(\n"
     ]
    },
    {
     "name": "stdout",
     "output_type": "stream",
     "text": [
      "4646/4646 [==============================] - 26s 5ms/step - loss: 0.8248 - accuracy: 0.6616 - tf_f1: 0.5390 - val_loss: 1.1588 - val_accuracy: 0.5441 - val_tf_f1: 0.6558\n",
      "Epoch 2/50\n",
      "4646/4646 [==============================] - 26s 5ms/step - loss: 0.5336 - accuracy: 0.7873 - tf_f1: 0.6917 - val_loss: 1.1615 - val_accuracy: 0.5379 - val_tf_f1: 0.7168\n"
     ]
    },
    {
     "name": "stderr",
     "output_type": "stream",
     "text": [
      "\u001b[32m[I 2022-09-08 06:24:30,222]\u001b[0m Trial 15 pruned. Trial was pruned at epoch 1.\u001b[0m\n"
     ]
    },
    {
     "name": "stdout",
     "output_type": "stream",
     "text": [
      "Epoch 1/50\n"
     ]
    },
    {
     "name": "stderr",
     "output_type": "stream",
     "text": [
      "c:\\Users\\Lim Jia Hui\\Desktop\\Python\\lib\\site-packages\\tensorflow\\python\\framework\\indexed_slices.py:444: UserWarning: Converting sparse IndexedSlices(IndexedSlices(indices=Tensor(\"gradient_tape/sequential_16/dense_32/embedding_lookup_sparse/Reshape_1:0\", shape=(None,), dtype=int32), values=Tensor(\"gradient_tape/sequential_16/dense_32/embedding_lookup_sparse/Reshape:0\", shape=(None, 29), dtype=float32), dense_shape=Tensor(\"gradient_tape/sequential_16/dense_32/embedding_lookup_sparse/Cast:0\", shape=(2,), dtype=int32))) to a dense Tensor of unknown shape. This may consume a large amount of memory.\n",
      "  warnings.warn(\n"
     ]
    },
    {
     "name": "stdout",
     "output_type": "stream",
     "text": [
      "4646/4646 [==============================] - 26s 5ms/step - loss: 0.7913 - accuracy: 0.6756 - tf_f1: 0.5492 - val_loss: 1.2145 - val_accuracy: 0.4361 - val_tf_f1: 0.6668\n",
      "Epoch 2/50\n",
      "4646/4646 [==============================] - 26s 5ms/step - loss: 0.4450 - accuracy: 0.8196 - tf_f1: 0.7067 - val_loss: 1.0149 - val_accuracy: 0.6175 - val_tf_f1: 0.7384\n",
      "Epoch 3/50\n",
      "4646/4646 [==============================] - 26s 5ms/step - loss: 0.3507 - accuracy: 0.8567 - tf_f1: 0.7590 - val_loss: 1.1219 - val_accuracy: 0.5948 - val_tf_f1: 0.7751\n",
      "Epoch 4/50\n",
      "4646/4646 [==============================] - 26s 5ms/step - loss: 0.3076 - accuracy: 0.8744 - tf_f1: 0.7873 - val_loss: 1.3593 - val_accuracy: 0.5094 - val_tf_f1: 0.7968\n",
      "Epoch 5/50\n",
      "4646/4646 [==============================] - 25s 5ms/step - loss: 0.2793 - accuracy: 0.8869 - tf_f1: 0.8048 - val_loss: 1.0375 - val_accuracy: 0.7068 - val_tf_f1: 0.8128\n"
     ]
    },
    {
     "name": "stderr",
     "output_type": "stream",
     "text": [
      "\u001b[32m[I 2022-09-08 06:26:39,086]\u001b[0m Trial 16 pruned. Trial was pruned at epoch 4.\u001b[0m\n"
     ]
    },
    {
     "name": "stdout",
     "output_type": "stream",
     "text": [
      "Epoch 1/50\n"
     ]
    },
    {
     "name": "stderr",
     "output_type": "stream",
     "text": [
      "c:\\Users\\Lim Jia Hui\\Desktop\\Python\\lib\\site-packages\\tensorflow\\python\\framework\\indexed_slices.py:444: UserWarning: Converting sparse IndexedSlices(IndexedSlices(indices=Tensor(\"gradient_tape/sequential_17/dense_34/embedding_lookup_sparse/Reshape_1:0\", shape=(None,), dtype=int32), values=Tensor(\"gradient_tape/sequential_17/dense_34/embedding_lookup_sparse/Reshape:0\", shape=(None, 27), dtype=float32), dense_shape=Tensor(\"gradient_tape/sequential_17/dense_34/embedding_lookup_sparse/Cast:0\", shape=(2,), dtype=int32))) to a dense Tensor of unknown shape. This may consume a large amount of memory.\n",
      "  warnings.warn(\n"
     ]
    },
    {
     "name": "stdout",
     "output_type": "stream",
     "text": [
      "4646/4646 [==============================] - 26s 5ms/step - loss: 0.8545 - accuracy: 0.6478 - tf_f1: 0.5119 - val_loss: 1.1169 - val_accuracy: 0.5211 - val_tf_f1: 0.6419\n",
      "Epoch 2/50\n",
      "4646/4646 [==============================] - 25s 5ms/step - loss: 0.4779 - accuracy: 0.8061 - tf_f1: 0.6868 - val_loss: 0.9734 - val_accuracy: 0.6656 - val_tf_f1: 0.7209\n"
     ]
    },
    {
     "name": "stderr",
     "output_type": "stream",
     "text": [
      "\u001b[32m[I 2022-09-08 06:27:30,458]\u001b[0m Trial 17 pruned. Trial was pruned at epoch 1.\u001b[0m\n"
     ]
    },
    {
     "name": "stdout",
     "output_type": "stream",
     "text": [
      "Epoch 1/50\n"
     ]
    },
    {
     "name": "stderr",
     "output_type": "stream",
     "text": [
      "c:\\Users\\Lim Jia Hui\\Desktop\\Python\\lib\\site-packages\\tensorflow\\python\\framework\\indexed_slices.py:444: UserWarning: Converting sparse IndexedSlices(IndexedSlices(indices=Tensor(\"gradient_tape/sequential_18/dense_36/embedding_lookup_sparse/Reshape_1:0\", shape=(None,), dtype=int32), values=Tensor(\"gradient_tape/sequential_18/dense_36/embedding_lookup_sparse/Reshape:0\", shape=(None, 36), dtype=float32), dense_shape=Tensor(\"gradient_tape/sequential_18/dense_36/embedding_lookup_sparse/Cast:0\", shape=(2,), dtype=int32))) to a dense Tensor of unknown shape. This may consume a large amount of memory.\n",
      "  warnings.warn(\n"
     ]
    },
    {
     "name": "stdout",
     "output_type": "stream",
     "text": [
      "4646/4646 [==============================] - 26s 5ms/step - loss: 0.8082 - accuracy: 0.6679 - tf_f1: 0.5413 - val_loss: 1.0178 - val_accuracy: 0.5988 - val_tf_f1: 0.6634\n",
      "Epoch 2/50\n",
      "4646/4646 [==============================] - 25s 5ms/step - loss: 0.4656 - accuracy: 0.8104 - tf_f1: 0.7052 - val_loss: 1.0524 - val_accuracy: 0.6211 - val_tf_f1: 0.7343\n"
     ]
    },
    {
     "name": "stderr",
     "output_type": "stream",
     "text": [
      "\u001b[32m[I 2022-09-08 06:28:21,946]\u001b[0m Trial 18 pruned. Trial was pruned at epoch 1.\u001b[0m\n"
     ]
    },
    {
     "name": "stdout",
     "output_type": "stream",
     "text": [
      "Epoch 1/50\n"
     ]
    },
    {
     "name": "stderr",
     "output_type": "stream",
     "text": [
      "c:\\Users\\Lim Jia Hui\\Desktop\\Python\\lib\\site-packages\\tensorflow\\python\\framework\\indexed_slices.py:444: UserWarning: Converting sparse IndexedSlices(IndexedSlices(indices=Tensor(\"gradient_tape/sequential_19/dense_38/embedding_lookup_sparse/Reshape_1:0\", shape=(None,), dtype=int32), values=Tensor(\"gradient_tape/sequential_19/dense_38/embedding_lookup_sparse/Reshape:0\", shape=(None, 38), dtype=float32), dense_shape=Tensor(\"gradient_tape/sequential_19/dense_38/embedding_lookup_sparse/Cast:0\", shape=(2,), dtype=int32))) to a dense Tensor of unknown shape. This may consume a large amount of memory.\n",
      "  warnings.warn(\n"
     ]
    },
    {
     "name": "stdout",
     "output_type": "stream",
     "text": [
      "4646/4646 [==============================] - 26s 5ms/step - loss: 0.8745 - accuracy: 0.6487 - tf_f1: 0.5201 - val_loss: 0.9366 - val_accuracy: 0.6544 - val_tf_f1: 0.6438\n",
      "Epoch 2/50\n",
      "4646/4646 [==============================] - 26s 5ms/step - loss: 0.4758 - accuracy: 0.8104 - tf_f1: 0.6911 - val_loss: 0.8532 - val_accuracy: 0.7018 - val_tf_f1: 0.7261\n"
     ]
    },
    {
     "name": "stderr",
     "output_type": "stream",
     "text": [
      "\u001b[32m[I 2022-09-08 06:29:13,929]\u001b[0m Trial 19 pruned. Trial was pruned at epoch 1.\u001b[0m\n"
     ]
    },
    {
     "name": "stdout",
     "output_type": "stream",
     "text": [
      "Epoch 1/50\n"
     ]
    },
    {
     "name": "stderr",
     "output_type": "stream",
     "text": [
      "c:\\Users\\Lim Jia Hui\\Desktop\\Python\\lib\\site-packages\\tensorflow\\python\\framework\\indexed_slices.py:444: UserWarning: Converting sparse IndexedSlices(IndexedSlices(indices=Tensor(\"gradient_tape/sequential_20/dense_40/embedding_lookup_sparse/Reshape_1:0\", shape=(None,), dtype=int32), values=Tensor(\"gradient_tape/sequential_20/dense_40/embedding_lookup_sparse/Reshape:0\", shape=(None, 45), dtype=float32), dense_shape=Tensor(\"gradient_tape/sequential_20/dense_40/embedding_lookup_sparse/Cast:0\", shape=(2,), dtype=int32))) to a dense Tensor of unknown shape. This may consume a large amount of memory.\n",
      "  warnings.warn(\n"
     ]
    },
    {
     "name": "stdout",
     "output_type": "stream",
     "text": [
      "4646/4646 [==============================] - 26s 5ms/step - loss: 0.7983 - accuracy: 0.6754 - tf_f1: 0.5490 - val_loss: 1.0618 - val_accuracy: 0.5872 - val_tf_f1: 0.6700\n",
      "Epoch 2/50\n",
      "4646/4646 [==============================] - 25s 5ms/step - loss: 0.4319 - accuracy: 0.8235 - tf_f1: 0.7122 - val_loss: 1.0285 - val_accuracy: 0.6286 - val_tf_f1: 0.7436\n",
      "Epoch 3/50\n",
      "4646/4646 [==============================] - 25s 5ms/step - loss: 0.3347 - accuracy: 0.8625 - tf_f1: 0.7641 - val_loss: 1.0855 - val_accuracy: 0.6174 - val_tf_f1: 0.7807\n",
      "Epoch 4/50\n",
      "4646/4646 [==============================] - 25s 5ms/step - loss: 0.2848 - accuracy: 0.8830 - tf_f1: 0.7933 - val_loss: 1.0229 - val_accuracy: 0.6702 - val_tf_f1: 0.8043\n",
      "Epoch 5/50\n",
      "4646/4646 [==============================] - 26s 5ms/step - loss: 0.2528 - accuracy: 0.8977 - tf_f1: 0.8133 - val_loss: 1.1845 - val_accuracy: 0.6168 - val_tf_f1: 0.8211\n",
      "Epoch 6/50\n",
      "4646/4646 [==============================] - 25s 5ms/step - loss: 0.2274 - accuracy: 0.9097 - tf_f1: 0.8278 - val_loss: 1.2712 - val_accuracy: 0.6218 - val_tf_f1: 0.8338\n",
      "Epoch 7/50\n",
      "4646/4646 [==============================] - 26s 5ms/step - loss: 0.2078 - accuracy: 0.9194 - tf_f1: 0.8392 - val_loss: 1.1425 - val_accuracy: 0.7112 - val_tf_f1: 0.8445\n",
      "Epoch 8/50\n",
      "4646/4646 [==============================] - 25s 5ms/step - loss: 0.1909 - accuracy: 0.9270 - tf_f1: 0.8493 - val_loss: 1.2525 - val_accuracy: 0.6523 - val_tf_f1: 0.8535\n",
      "Epoch 9/50\n",
      "4646/4646 [==============================] - 25s 5ms/step - loss: 0.1732 - accuracy: 0.9346 - tf_f1: 0.8574 - val_loss: 1.2850 - val_accuracy: 0.6832 - val_tf_f1: 0.8611\n",
      "Epoch 10/50\n",
      "4646/4646 [==============================] - 25s 5ms/step - loss: 0.1603 - accuracy: 0.9404 - tf_f1: 0.8646 - val_loss: 1.3121 - val_accuracy: 0.6872 - val_tf_f1: 0.8679\n",
      "Epoch 11/50\n",
      "4646/4646 [==============================] - 26s 5ms/step - loss: 0.1512 - accuracy: 0.9442 - tf_f1: 0.8709 - val_loss: 1.4533 - val_accuracy: 0.6529 - val_tf_f1: 0.8736\n",
      "Epoch 12/50\n",
      "4646/4646 [==============================] - 26s 5ms/step - loss: 0.1417 - accuracy: 0.9480 - tf_f1: 0.8762 - val_loss: 1.5317 - val_accuracy: 0.6249 - val_tf_f1: 0.8785\n",
      "Epoch 13/50\n",
      "4646/4646 [==============================] - 26s 6ms/step - loss: 0.1344 - accuracy: 0.9514 - tf_f1: 0.8807 - val_loss: 1.6039 - val_accuracy: 0.6324 - val_tf_f1: 0.8828\n",
      "Epoch 14/50\n",
      "4646/4646 [==============================] - 26s 5ms/step - loss: 0.1264 - accuracy: 0.9546 - tf_f1: 0.8849 - val_loss: 1.4736 - val_accuracy: 0.7176 - val_tf_f1: 0.8870\n",
      "Epoch 15/50\n",
      "4646/4646 [==============================] - 26s 5ms/step - loss: 0.1208 - accuracy: 0.9569 - tf_f1: 0.8889 - val_loss: 1.6363 - val_accuracy: 0.6301 - val_tf_f1: 0.8906\n",
      "Epoch 16/50\n",
      "4646/4646 [==============================] - 27s 6ms/step - loss: 0.1171 - accuracy: 0.9578 - tf_f1: 0.8923 - val_loss: 1.4830 - val_accuracy: 0.7068 - val_tf_f1: 0.8939\n",
      "Epoch 17/50\n",
      "4646/4646 [==============================] - 26s 5ms/step - loss: 0.1120 - accuracy: 0.9605 - tf_f1: 0.8955 - val_loss: 1.6335 - val_accuracy: 0.6594 - val_tf_f1: 0.8969\n"
     ]
    },
    {
     "name": "stderr",
     "output_type": "stream",
     "text": [
      "\u001b[32m[I 2022-09-08 06:36:30,999]\u001b[0m Trial 20 pruned. Trial was pruned at epoch 16.\u001b[0m\n"
     ]
    },
    {
     "name": "stdout",
     "output_type": "stream",
     "text": [
      "Epoch 1/50\n"
     ]
    },
    {
     "name": "stderr",
     "output_type": "stream",
     "text": [
      "c:\\Users\\Lim Jia Hui\\Desktop\\Python\\lib\\site-packages\\tensorflow\\python\\framework\\indexed_slices.py:444: UserWarning: Converting sparse IndexedSlices(IndexedSlices(indices=Tensor(\"gradient_tape/sequential_21/dense_42/embedding_lookup_sparse/Reshape_1:0\", shape=(None,), dtype=int32), values=Tensor(\"gradient_tape/sequential_21/dense_42/embedding_lookup_sparse/Reshape:0\", shape=(None, 47), dtype=float32), dense_shape=Tensor(\"gradient_tape/sequential_21/dense_42/embedding_lookup_sparse/Cast:0\", shape=(2,), dtype=int32))) to a dense Tensor of unknown shape. This may consume a large amount of memory.\n",
      "  warnings.warn(\n"
     ]
    },
    {
     "name": "stdout",
     "output_type": "stream",
     "text": [
      "4646/4646 [==============================] - 26s 5ms/step - loss: 1.5539 - accuracy: 0.4018 - tf_f1: 0.3171 - val_loss: 1.3550 - val_accuracy: 0.6336 - val_tf_f1: 0.3853\n",
      "Epoch 2/50\n",
      "4646/4646 [==============================] - 26s 5ms/step - loss: 1.3554 - accuracy: 0.4853 - tf_f1: 0.4068 - val_loss: 1.1741 - val_accuracy: 0.6038 - val_tf_f1: 0.4266\n"
     ]
    },
    {
     "name": "stderr",
     "output_type": "stream",
     "text": [
      "\u001b[32m[I 2022-09-08 06:37:22,758]\u001b[0m Trial 21 pruned. Trial was pruned at epoch 1.\u001b[0m\n"
     ]
    },
    {
     "name": "stdout",
     "output_type": "stream",
     "text": [
      "Epoch 1/50\n"
     ]
    },
    {
     "name": "stderr",
     "output_type": "stream",
     "text": [
      "c:\\Users\\Lim Jia Hui\\Desktop\\Python\\lib\\site-packages\\tensorflow\\python\\framework\\indexed_slices.py:444: UserWarning: Converting sparse IndexedSlices(IndexedSlices(indices=Tensor(\"gradient_tape/sequential_22/dense_44/embedding_lookup_sparse/Reshape_1:0\", shape=(None,), dtype=int32), values=Tensor(\"gradient_tape/sequential_22/dense_44/embedding_lookup_sparse/Reshape:0\", shape=(None, 40), dtype=float32), dense_shape=Tensor(\"gradient_tape/sequential_22/dense_44/embedding_lookup_sparse/Cast:0\", shape=(2,), dtype=int32))) to a dense Tensor of unknown shape. This may consume a large amount of memory.\n",
      "  warnings.warn(\n"
     ]
    },
    {
     "name": "stdout",
     "output_type": "stream",
     "text": [
      "4646/4646 [==============================] - 26s 5ms/step - loss: 0.8589 - accuracy: 0.6531 - tf_f1: 0.5200 - val_loss: 0.9179 - val_accuracy: 0.6492 - val_tf_f1: 0.6491\n",
      "Epoch 2/50\n",
      "4646/4646 [==============================] - 25s 5ms/step - loss: 0.4679 - accuracy: 0.8123 - tf_f1: 0.6958 - val_loss: 1.0607 - val_accuracy: 0.6328 - val_tf_f1: 0.7286\n"
     ]
    },
    {
     "name": "stderr",
     "output_type": "stream",
     "text": [
      "\u001b[32m[I 2022-09-08 06:38:14,236]\u001b[0m Trial 22 pruned. Trial was pruned at epoch 1.\u001b[0m\n"
     ]
    },
    {
     "name": "stdout",
     "output_type": "stream",
     "text": [
      "Epoch 1/50\n"
     ]
    },
    {
     "name": "stderr",
     "output_type": "stream",
     "text": [
      "c:\\Users\\Lim Jia Hui\\Desktop\\Python\\lib\\site-packages\\tensorflow\\python\\framework\\indexed_slices.py:444: UserWarning: Converting sparse IndexedSlices(IndexedSlices(indices=Tensor(\"gradient_tape/sequential_23/dense_46/embedding_lookup_sparse/Reshape_1:0\", shape=(None,), dtype=int32), values=Tensor(\"gradient_tape/sequential_23/dense_46/embedding_lookup_sparse/Reshape:0\", shape=(None, 46), dtype=float32), dense_shape=Tensor(\"gradient_tape/sequential_23/dense_46/embedding_lookup_sparse/Cast:0\", shape=(2,), dtype=int32))) to a dense Tensor of unknown shape. This may consume a large amount of memory.\n",
      "  warnings.warn(\n"
     ]
    },
    {
     "name": "stdout",
     "output_type": "stream",
     "text": [
      "4646/4646 [==============================] - 26s 5ms/step - loss: 0.9312 - accuracy: 0.6271 - tf_f1: 0.4900 - val_loss: 1.1572 - val_accuracy: 0.5314 - val_tf_f1: 0.6190\n",
      "Epoch 2/50\n",
      "4646/4646 [==============================] - 26s 5ms/step - loss: 0.5079 - accuracy: 0.7990 - tf_f1: 0.6683 - val_loss: 1.1866 - val_accuracy: 0.5561 - val_tf_f1: 0.7044\n"
     ]
    },
    {
     "name": "stderr",
     "output_type": "stream",
     "text": [
      "\u001b[32m[I 2022-09-08 06:39:06,078]\u001b[0m Trial 23 pruned. Trial was pruned at epoch 1.\u001b[0m\n"
     ]
    },
    {
     "name": "stdout",
     "output_type": "stream",
     "text": [
      "Epoch 1/50\n"
     ]
    },
    {
     "name": "stderr",
     "output_type": "stream",
     "text": [
      "c:\\Users\\Lim Jia Hui\\Desktop\\Python\\lib\\site-packages\\tensorflow\\python\\framework\\indexed_slices.py:444: UserWarning: Converting sparse IndexedSlices(IndexedSlices(indices=Tensor(\"gradient_tape/sequential_24/dense_48/embedding_lookup_sparse/Reshape_1:0\", shape=(None,), dtype=int32), values=Tensor(\"gradient_tape/sequential_24/dense_48/embedding_lookup_sparse/Reshape:0\", shape=(None, 48), dtype=float32), dense_shape=Tensor(\"gradient_tape/sequential_24/dense_48/embedding_lookup_sparse/Cast:0\", shape=(2,), dtype=int32))) to a dense Tensor of unknown shape. This may consume a large amount of memory.\n",
      "  warnings.warn(\n"
     ]
    },
    {
     "name": "stdout",
     "output_type": "stream",
     "text": [
      "4646/4646 [==============================] - 27s 6ms/step - loss: 1.1593 - accuracy: 0.5469 - tf_f1: 0.4228 - val_loss: 1.0245 - val_accuracy: 0.5648 - val_tf_f1: 0.5353\n",
      "Epoch 2/50\n",
      "4646/4646 [==============================] - 26s 5ms/step - loss: 0.6993 - accuracy: 0.7392 - tf_f1: 0.5913 - val_loss: 0.9150 - val_accuracy: 0.6369 - val_tf_f1: 0.6347\n"
     ]
    },
    {
     "name": "stderr",
     "output_type": "stream",
     "text": [
      "\u001b[32m[I 2022-09-08 06:39:58,805]\u001b[0m Trial 24 pruned. Trial was pruned at epoch 1.\u001b[0m\n"
     ]
    },
    {
     "name": "stdout",
     "output_type": "stream",
     "text": [
      "Epoch 1/50\n"
     ]
    },
    {
     "name": "stderr",
     "output_type": "stream",
     "text": [
      "c:\\Users\\Lim Jia Hui\\Desktop\\Python\\lib\\site-packages\\tensorflow\\python\\framework\\indexed_slices.py:444: UserWarning: Converting sparse IndexedSlices(IndexedSlices(indices=Tensor(\"gradient_tape/sequential_25/dense_50/embedding_lookup_sparse/Reshape_1:0\", shape=(None,), dtype=int32), values=Tensor(\"gradient_tape/sequential_25/dense_50/embedding_lookup_sparse/Reshape:0\", shape=(None, 44), dtype=float32), dense_shape=Tensor(\"gradient_tape/sequential_25/dense_50/embedding_lookup_sparse/Cast:0\", shape=(2,), dtype=int32))) to a dense Tensor of unknown shape. This may consume a large amount of memory.\n",
      "  warnings.warn(\n"
     ]
    },
    {
     "name": "stdout",
     "output_type": "stream",
     "text": [
      "4646/4646 [==============================] - 26s 5ms/step - loss: 0.8421 - accuracy: 0.6587 - tf_f1: 0.5244 - val_loss: 0.9168 - val_accuracy: 0.6529 - val_tf_f1: 0.6541\n",
      "Epoch 2/50\n",
      "4646/4646 [==============================] - 26s 5ms/step - loss: 0.4538 - accuracy: 0.8176 - tf_f1: 0.7005 - val_loss: 1.0346 - val_accuracy: 0.6203 - val_tf_f1: 0.7336\n"
     ]
    },
    {
     "name": "stderr",
     "output_type": "stream",
     "text": [
      "\u001b[32m[I 2022-09-08 06:40:50,873]\u001b[0m Trial 25 pruned. Trial was pruned at epoch 1.\u001b[0m\n"
     ]
    },
    {
     "name": "stdout",
     "output_type": "stream",
     "text": [
      "Epoch 1/50\n"
     ]
    },
    {
     "name": "stderr",
     "output_type": "stream",
     "text": [
      "c:\\Users\\Lim Jia Hui\\Desktop\\Python\\lib\\site-packages\\tensorflow\\python\\framework\\indexed_slices.py:444: UserWarning: Converting sparse IndexedSlices(IndexedSlices(indices=Tensor(\"gradient_tape/sequential_26/dense_52/embedding_lookup_sparse/Reshape_1:0\", shape=(None,), dtype=int32), values=Tensor(\"gradient_tape/sequential_26/dense_52/embedding_lookup_sparse/Reshape:0\", shape=(None, 39), dtype=float32), dense_shape=Tensor(\"gradient_tape/sequential_26/dense_52/embedding_lookup_sparse/Cast:0\", shape=(2,), dtype=int32))) to a dense Tensor of unknown shape. This may consume a large amount of memory.\n",
      "  warnings.warn(\n"
     ]
    },
    {
     "name": "stdout",
     "output_type": "stream",
     "text": [
      "4646/4646 [==============================] - 26s 5ms/step - loss: 0.8060 - accuracy: 0.6699 - tf_f1: 0.5405 - val_loss: 1.1135 - val_accuracy: 0.5293 - val_tf_f1: 0.6640\n",
      "Epoch 2/50\n",
      "4646/4646 [==============================] - 26s 5ms/step - loss: 0.4471 - accuracy: 0.8188 - tf_f1: 0.7064 - val_loss: 1.0378 - val_accuracy: 0.6045 - val_tf_f1: 0.7375\n",
      "Epoch 3/50\n",
      "4646/4646 [==============================] - 26s 5ms/step - loss: 0.3621 - accuracy: 0.8529 - tf_f1: 0.7575 - val_loss: 1.3430 - val_accuracy: 0.4720 - val_tf_f1: 0.7721\n",
      "Epoch 4/50\n",
      "4646/4646 [==============================] - 26s 5ms/step - loss: 0.3117 - accuracy: 0.8735 - tf_f1: 0.7834 - val_loss: 1.1998 - val_accuracy: 0.6130 - val_tf_f1: 0.7941\n",
      "Epoch 5/50\n",
      "4646/4646 [==============================] - 25s 5ms/step - loss: 0.2813 - accuracy: 0.8882 - tf_f1: 0.8029 - val_loss: 1.1081 - val_accuracy: 0.6738 - val_tf_f1: 0.8110\n"
     ]
    },
    {
     "name": "stderr",
     "output_type": "stream",
     "text": [
      "\u001b[32m[I 2022-09-08 06:42:59,119]\u001b[0m Trial 26 pruned. Trial was pruned at epoch 4.\u001b[0m\n"
     ]
    },
    {
     "name": "stdout",
     "output_type": "stream",
     "text": [
      "Epoch 1/50\n"
     ]
    },
    {
     "name": "stderr",
     "output_type": "stream",
     "text": [
      "c:\\Users\\Lim Jia Hui\\Desktop\\Python\\lib\\site-packages\\tensorflow\\python\\framework\\indexed_slices.py:444: UserWarning: Converting sparse IndexedSlices(IndexedSlices(indices=Tensor(\"gradient_tape/sequential_27/dense_54/embedding_lookup_sparse/Reshape_1:0\", shape=(None,), dtype=int32), values=Tensor(\"gradient_tape/sequential_27/dense_54/embedding_lookup_sparse/Reshape:0\", shape=(None, 34), dtype=float32), dense_shape=Tensor(\"gradient_tape/sequential_27/dense_54/embedding_lookup_sparse/Cast:0\", shape=(2,), dtype=int32))) to a dense Tensor of unknown shape. This may consume a large amount of memory.\n",
      "  warnings.warn(\n"
     ]
    },
    {
     "name": "stdout",
     "output_type": "stream",
     "text": [
      "4646/4646 [==============================] - 26s 5ms/step - loss: 0.8020 - accuracy: 0.6700 - tf_f1: 0.5442 - val_loss: 1.0832 - val_accuracy: 0.5513 - val_tf_f1: 0.6642\n",
      "Epoch 2/50\n",
      "4646/4646 [==============================] - 25s 5ms/step - loss: 0.4659 - accuracy: 0.8097 - tf_f1: 0.7037 - val_loss: 0.9742 - val_accuracy: 0.6403 - val_tf_f1: 0.7339\n"
     ]
    },
    {
     "name": "stderr",
     "output_type": "stream",
     "text": [
      "\u001b[32m[I 2022-09-08 06:43:50,982]\u001b[0m Trial 27 pruned. Trial was pruned at epoch 1.\u001b[0m\n"
     ]
    },
    {
     "name": "stdout",
     "output_type": "stream",
     "text": [
      "Epoch 1/50\n"
     ]
    },
    {
     "name": "stderr",
     "output_type": "stream",
     "text": [
      "c:\\Users\\Lim Jia Hui\\Desktop\\Python\\lib\\site-packages\\tensorflow\\python\\framework\\indexed_slices.py:444: UserWarning: Converting sparse IndexedSlices(IndexedSlices(indices=Tensor(\"gradient_tape/sequential_28/dense_56/embedding_lookup_sparse/Reshape_1:0\", shape=(None,), dtype=int32), values=Tensor(\"gradient_tape/sequential_28/dense_56/embedding_lookup_sparse/Reshape:0\", shape=(None, 43), dtype=float32), dense_shape=Tensor(\"gradient_tape/sequential_28/dense_56/embedding_lookup_sparse/Cast:0\", shape=(2,), dtype=int32))) to a dense Tensor of unknown shape. This may consume a large amount of memory.\n",
      "  warnings.warn(\n"
     ]
    },
    {
     "name": "stdout",
     "output_type": "stream",
     "text": [
      "4646/4646 [==============================] - 26s 5ms/step - loss: 0.8357 - accuracy: 0.6592 - tf_f1: 0.5301 - val_loss: 0.9948 - val_accuracy: 0.5958 - val_tf_f1: 0.6552\n",
      "Epoch 2/50\n",
      "4646/4646 [==============================] - 26s 5ms/step - loss: 0.4467 - accuracy: 0.8200 - tf_f1: 0.7014 - val_loss: 0.9782 - val_accuracy: 0.6487 - val_tf_f1: 0.7351\n",
      "Epoch 3/50\n",
      "4646/4646 [==============================] - 26s 5ms/step - loss: 0.3473 - accuracy: 0.8595 - tf_f1: 0.7570 - val_loss: 1.0389 - val_accuracy: 0.6557 - val_tf_f1: 0.7745\n",
      "Epoch 4/50\n",
      "4646/4646 [==============================] - 26s 5ms/step - loss: 0.2952 - accuracy: 0.8813 - tf_f1: 0.7879 - val_loss: 1.1777 - val_accuracy: 0.5888 - val_tf_f1: 0.7988\n",
      "Epoch 5/50\n",
      "4646/4646 [==============================] - 26s 5ms/step - loss: 0.2624 - accuracy: 0.8964 - tf_f1: 0.8079 - val_loss: 1.1037 - val_accuracy: 0.6482 - val_tf_f1: 0.8162\n"
     ]
    },
    {
     "name": "stderr",
     "output_type": "stream",
     "text": [
      "\u001b[32m[I 2022-09-08 06:45:59,731]\u001b[0m Trial 28 pruned. Trial was pruned at epoch 4.\u001b[0m\n"
     ]
    },
    {
     "name": "stdout",
     "output_type": "stream",
     "text": [
      "Epoch 1/50\n"
     ]
    },
    {
     "name": "stderr",
     "output_type": "stream",
     "text": [
      "c:\\Users\\Lim Jia Hui\\Desktop\\Python\\lib\\site-packages\\tensorflow\\python\\framework\\indexed_slices.py:444: UserWarning: Converting sparse IndexedSlices(IndexedSlices(indices=Tensor(\"gradient_tape/sequential_29/dense_58/embedding_lookup_sparse/Reshape_1:0\", shape=(None,), dtype=int32), values=Tensor(\"gradient_tape/sequential_29/dense_58/embedding_lookup_sparse/Reshape:0\", shape=(None, 29), dtype=float32), dense_shape=Tensor(\"gradient_tape/sequential_29/dense_58/embedding_lookup_sparse/Cast:0\", shape=(2,), dtype=int32))) to a dense Tensor of unknown shape. This may consume a large amount of memory.\n",
      "  warnings.warn(\n"
     ]
    },
    {
     "name": "stdout",
     "output_type": "stream",
     "text": [
      "4646/4646 [==============================] - 26s 5ms/step - loss: 0.9266 - accuracy: 0.6310 - tf_f1: 0.4980 - val_loss: 1.0314 - val_accuracy: 0.5543 - val_tf_f1: 0.6248\n",
      "Epoch 2/50\n",
      "4646/4646 [==============================] - 26s 5ms/step - loss: 0.5164 - accuracy: 0.7960 - tf_f1: 0.6723 - val_loss: 0.9504 - val_accuracy: 0.6238 - val_tf_f1: 0.7073\n"
     ]
    },
    {
     "name": "stderr",
     "output_type": "stream",
     "text": [
      "\u001b[32m[I 2022-09-08 06:46:52,228]\u001b[0m Trial 29 pruned. Trial was pruned at epoch 1.\u001b[0m\n"
     ]
    },
    {
     "name": "stdout",
     "output_type": "stream",
     "text": [
      "Epoch 1/50\n"
     ]
    },
    {
     "name": "stderr",
     "output_type": "stream",
     "text": [
      "c:\\Users\\Lim Jia Hui\\Desktop\\Python\\lib\\site-packages\\tensorflow\\python\\framework\\indexed_slices.py:444: UserWarning: Converting sparse IndexedSlices(IndexedSlices(indices=Tensor(\"gradient_tape/sequential_30/dense_60/embedding_lookup_sparse/Reshape_1:0\", shape=(None,), dtype=int32), values=Tensor(\"gradient_tape/sequential_30/dense_60/embedding_lookup_sparse/Reshape:0\", shape=(None, 26), dtype=float32), dense_shape=Tensor(\"gradient_tape/sequential_30/dense_60/embedding_lookup_sparse/Cast:0\", shape=(2,), dtype=int32))) to a dense Tensor of unknown shape. This may consume a large amount of memory.\n",
      "  warnings.warn(\n"
     ]
    },
    {
     "name": "stdout",
     "output_type": "stream",
     "text": [
      "4646/4646 [==============================] - 26s 5ms/step - loss: 1.0306 - accuracy: 0.5914 - tf_f1: 0.4551 - val_loss: 0.9207 - val_accuracy: 0.6265 - val_tf_f1: 0.5856\n",
      "Epoch 2/50\n",
      "4646/4646 [==============================] - 26s 5ms/step - loss: 0.5753 - accuracy: 0.7787 - tf_f1: 0.6408 - val_loss: 1.0081 - val_accuracy: 0.5986 - val_tf_f1: 0.6796\n"
     ]
    },
    {
     "name": "stderr",
     "output_type": "stream",
     "text": [
      "\u001b[32m[I 2022-09-08 06:47:44,664]\u001b[0m Trial 30 pruned. Trial was pruned at epoch 1.\u001b[0m\n"
     ]
    },
    {
     "name": "stdout",
     "output_type": "stream",
     "text": [
      "Epoch 1/50\n"
     ]
    },
    {
     "name": "stderr",
     "output_type": "stream",
     "text": [
      "c:\\Users\\Lim Jia Hui\\Desktop\\Python\\lib\\site-packages\\tensorflow\\python\\framework\\indexed_slices.py:444: UserWarning: Converting sparse IndexedSlices(IndexedSlices(indices=Tensor(\"gradient_tape/sequential_31/dense_62/embedding_lookup_sparse/Reshape_1:0\", shape=(None,), dtype=int32), values=Tensor(\"gradient_tape/sequential_31/dense_62/embedding_lookup_sparse/Reshape:0\", shape=(None, 11), dtype=float32), dense_shape=Tensor(\"gradient_tape/sequential_31/dense_62/embedding_lookup_sparse/Cast:0\", shape=(2,), dtype=int32))) to a dense Tensor of unknown shape. This may consume a large amount of memory.\n",
      "  warnings.warn(\n"
     ]
    },
    {
     "name": "stdout",
     "output_type": "stream",
     "text": [
      "4646/4646 [==============================] - 27s 6ms/step - loss: 0.8618 - accuracy: 0.6487 - tf_f1: 0.5170 - val_loss: 1.1589 - val_accuracy: 0.5532 - val_tf_f1: 0.6413\n",
      "Epoch 2/50\n",
      "4646/4646 [==============================] - 26s 5ms/step - loss: 0.5750 - accuracy: 0.7765 - tf_f1: 0.6782 - val_loss: 1.1848 - val_accuracy: 0.4996 - val_tf_f1: 0.7035\n"
     ]
    },
    {
     "name": "stderr",
     "output_type": "stream",
     "text": [
      "\u001b[32m[I 2022-09-08 06:48:37,294]\u001b[0m Trial 31 pruned. Trial was pruned at epoch 1.\u001b[0m\n"
     ]
    },
    {
     "name": "stdout",
     "output_type": "stream",
     "text": [
      "Epoch 1/50\n"
     ]
    },
    {
     "name": "stderr",
     "output_type": "stream",
     "text": [
      "c:\\Users\\Lim Jia Hui\\Desktop\\Python\\lib\\site-packages\\tensorflow\\python\\framework\\indexed_slices.py:444: UserWarning: Converting sparse IndexedSlices(IndexedSlices(indices=Tensor(\"gradient_tape/sequential_32/dense_64/embedding_lookup_sparse/Reshape_1:0\", shape=(None,), dtype=int32), values=Tensor(\"gradient_tape/sequential_32/dense_64/embedding_lookup_sparse/Reshape:0\", shape=(None, 17), dtype=float32), dense_shape=Tensor(\"gradient_tape/sequential_32/dense_64/embedding_lookup_sparse/Cast:0\", shape=(2,), dtype=int32))) to a dense Tensor of unknown shape. This may consume a large amount of memory.\n",
      "  warnings.warn(\n"
     ]
    },
    {
     "name": "stdout",
     "output_type": "stream",
     "text": [
      "4646/4646 [==============================] - 26s 5ms/step - loss: 1.2079 - accuracy: 0.5265 - tf_f1: 0.4171 - val_loss: 1.0440 - val_accuracy: 0.5633 - val_tf_f1: 0.5174\n",
      "Epoch 2/50\n",
      "4646/4646 [==============================] - 26s 5ms/step - loss: 0.7523 - accuracy: 0.7202 - tf_f1: 0.5729 - val_loss: 0.8160 - val_accuracy: 0.6851 - val_tf_f1: 0.6171\n"
     ]
    },
    {
     "name": "stderr",
     "output_type": "stream",
     "text": [
      "\u001b[32m[I 2022-09-08 06:49:29,782]\u001b[0m Trial 32 pruned. Trial was pruned at epoch 1.\u001b[0m\n"
     ]
    },
    {
     "name": "stdout",
     "output_type": "stream",
     "text": [
      "Epoch 1/50\n"
     ]
    },
    {
     "name": "stderr",
     "output_type": "stream",
     "text": [
      "c:\\Users\\Lim Jia Hui\\Desktop\\Python\\lib\\site-packages\\tensorflow\\python\\framework\\indexed_slices.py:444: UserWarning: Converting sparse IndexedSlices(IndexedSlices(indices=Tensor(\"gradient_tape/sequential_33/dense_66/embedding_lookup_sparse/Reshape_1:0\", shape=(None,), dtype=int32), values=Tensor(\"gradient_tape/sequential_33/dense_66/embedding_lookup_sparse/Reshape:0\", shape=(None, 15), dtype=float32), dense_shape=Tensor(\"gradient_tape/sequential_33/dense_66/embedding_lookup_sparse/Cast:0\", shape=(2,), dtype=int32))) to a dense Tensor of unknown shape. This may consume a large amount of memory.\n",
      "  warnings.warn(\n"
     ]
    },
    {
     "name": "stdout",
     "output_type": "stream",
     "text": [
      "4646/4646 [==============================] - 26s 5ms/step - loss: 0.8507 - accuracy: 0.6523 - tf_f1: 0.5287 - val_loss: 1.0312 - val_accuracy: 0.5488 - val_tf_f1: 0.6480\n",
      "Epoch 2/50\n",
      "4646/4646 [==============================] - 26s 5ms/step - loss: 0.5766 - accuracy: 0.7742 - tf_f1: 0.6832 - val_loss: 0.8570 - val_accuracy: 0.6871 - val_tf_f1: 0.7099\n"
     ]
    },
    {
     "name": "stderr",
     "output_type": "stream",
     "text": [
      "\u001b[32m[I 2022-09-08 06:50:22,054]\u001b[0m Trial 33 pruned. Trial was pruned at epoch 1.\u001b[0m\n"
     ]
    },
    {
     "name": "stdout",
     "output_type": "stream",
     "text": [
      "Epoch 1/50\n"
     ]
    },
    {
     "name": "stderr",
     "output_type": "stream",
     "text": [
      "c:\\Users\\Lim Jia Hui\\Desktop\\Python\\lib\\site-packages\\tensorflow\\python\\framework\\indexed_slices.py:444: UserWarning: Converting sparse IndexedSlices(IndexedSlices(indices=Tensor(\"gradient_tape/sequential_34/dense_68/embedding_lookup_sparse/Reshape_1:0\", shape=(None,), dtype=int32), values=Tensor(\"gradient_tape/sequential_34/dense_68/embedding_lookup_sparse/Reshape:0\", shape=(None, 23), dtype=float32), dense_shape=Tensor(\"gradient_tape/sequential_34/dense_68/embedding_lookup_sparse/Cast:0\", shape=(2,), dtype=int32))) to a dense Tensor of unknown shape. This may consume a large amount of memory.\n",
      "  warnings.warn(\n"
     ]
    },
    {
     "name": "stdout",
     "output_type": "stream",
     "text": [
      "4646/4646 [==============================] - 27s 5ms/step - loss: 0.7868 - accuracy: 0.6763 - tf_f1: 0.5462 - val_loss: 1.0132 - val_accuracy: 0.6386 - val_tf_f1: 0.6728\n",
      "Epoch 2/50\n",
      "4646/4646 [==============================] - 26s 5ms/step - loss: 0.4395 - accuracy: 0.8206 - tf_f1: 0.7151 - val_loss: 1.1506 - val_accuracy: 0.5638 - val_tf_f1: 0.7434\n",
      "Epoch 3/50\n",
      "4646/4646 [==============================] - 26s 5ms/step - loss: 0.3584 - accuracy: 0.8528 - tf_f1: 0.7617 - val_loss: 1.1789 - val_accuracy: 0.5908 - val_tf_f1: 0.7766\n",
      "Epoch 4/50\n",
      "4646/4646 [==============================] - 26s 5ms/step - loss: 0.3150 - accuracy: 0.8714 - tf_f1: 0.7881 - val_loss: 1.2127 - val_accuracy: 0.5909 - val_tf_f1: 0.7977\n",
      "Epoch 5/50\n",
      "4646/4646 [==============================] - 26s 5ms/step - loss: 0.2867 - accuracy: 0.8834 - tf_f1: 0.8057 - val_loss: 1.1244 - val_accuracy: 0.6712 - val_tf_f1: 0.8130\n"
     ]
    },
    {
     "name": "stderr",
     "output_type": "stream",
     "text": [
      "\u001b[32m[I 2022-09-08 06:52:32,924]\u001b[0m Trial 34 pruned. Trial was pruned at epoch 4.\u001b[0m\n"
     ]
    },
    {
     "name": "stdout",
     "output_type": "stream",
     "text": [
      "Epoch 1/50\n"
     ]
    },
    {
     "name": "stderr",
     "output_type": "stream",
     "text": [
      "c:\\Users\\Lim Jia Hui\\Desktop\\Python\\lib\\site-packages\\tensorflow\\python\\framework\\indexed_slices.py:444: UserWarning: Converting sparse IndexedSlices(IndexedSlices(indices=Tensor(\"gradient_tape/sequential_35/dense_70/embedding_lookup_sparse/Reshape_1:0\", shape=(None,), dtype=int32), values=Tensor(\"gradient_tape/sequential_35/dense_70/embedding_lookup_sparse/Reshape:0\", shape=(None, 35), dtype=float32), dense_shape=Tensor(\"gradient_tape/sequential_35/dense_70/embedding_lookup_sparse/Cast:0\", shape=(2,), dtype=int32))) to a dense Tensor of unknown shape. This may consume a large amount of memory.\n",
      "  warnings.warn(\n"
     ]
    },
    {
     "name": "stdout",
     "output_type": "stream",
     "text": [
      "4646/4646 [==============================] - 26s 5ms/step - loss: 0.8274 - accuracy: 0.6605 - tf_f1: 0.5273 - val_loss: 0.9086 - val_accuracy: 0.6698 - val_tf_f1: 0.6575\n",
      "Epoch 2/50\n",
      "4646/4646 [==============================] - 26s 5ms/step - loss: 0.4733 - accuracy: 0.8074 - tf_f1: 0.7008 - val_loss: 0.9748 - val_accuracy: 0.6435 - val_tf_f1: 0.7312\n"
     ]
    },
    {
     "name": "stderr",
     "output_type": "stream",
     "text": [
      "\u001b[32m[I 2022-09-08 06:53:25,401]\u001b[0m Trial 35 pruned. Trial was pruned at epoch 1.\u001b[0m\n"
     ]
    },
    {
     "name": "stdout",
     "output_type": "stream",
     "text": [
      "Epoch 1/50\n"
     ]
    },
    {
     "name": "stderr",
     "output_type": "stream",
     "text": [
      "c:\\Users\\Lim Jia Hui\\Desktop\\Python\\lib\\site-packages\\tensorflow\\python\\framework\\indexed_slices.py:444: UserWarning: Converting sparse IndexedSlices(IndexedSlices(indices=Tensor(\"gradient_tape/sequential_36/dense_72/embedding_lookup_sparse/Reshape_1:0\", shape=(None,), dtype=int32), values=Tensor(\"gradient_tape/sequential_36/dense_72/embedding_lookup_sparse/Reshape:0\", shape=(None, 32), dtype=float32), dense_shape=Tensor(\"gradient_tape/sequential_36/dense_72/embedding_lookup_sparse/Cast:0\", shape=(2,), dtype=int32))) to a dense Tensor of unknown shape. This may consume a large amount of memory.\n",
      "  warnings.warn(\n"
     ]
    },
    {
     "name": "stdout",
     "output_type": "stream",
     "text": [
      "4646/4646 [==============================] - 26s 5ms/step - loss: 0.8675 - accuracy: 0.6507 - tf_f1: 0.5188 - val_loss: 0.8945 - val_accuracy: 0.6713 - val_tf_f1: 0.6471\n",
      "Epoch 2/50\n",
      "4646/4646 [==============================] - 26s 5ms/step - loss: 0.4872 - accuracy: 0.8052 - tf_f1: 0.6930 - val_loss: 0.9189 - val_accuracy: 0.6639 - val_tf_f1: 0.7251\n"
     ]
    },
    {
     "name": "stderr",
     "output_type": "stream",
     "text": [
      "\u001b[32m[I 2022-09-08 06:54:17,785]\u001b[0m Trial 36 pruned. Trial was pruned at epoch 1.\u001b[0m\n"
     ]
    },
    {
     "name": "stdout",
     "output_type": "stream",
     "text": [
      "Epoch 1/50\n"
     ]
    },
    {
     "name": "stderr",
     "output_type": "stream",
     "text": [
      "c:\\Users\\Lim Jia Hui\\Desktop\\Python\\lib\\site-packages\\tensorflow\\python\\framework\\indexed_slices.py:444: UserWarning: Converting sparse IndexedSlices(IndexedSlices(indices=Tensor(\"gradient_tape/sequential_37/dense_74/embedding_lookup_sparse/Reshape_1:0\", shape=(None,), dtype=int32), values=Tensor(\"gradient_tape/sequential_37/dense_74/embedding_lookup_sparse/Reshape:0\", shape=(None, 41), dtype=float32), dense_shape=Tensor(\"gradient_tape/sequential_37/dense_74/embedding_lookup_sparse/Cast:0\", shape=(2,), dtype=int32))) to a dense Tensor of unknown shape. This may consume a large amount of memory.\n",
      "  warnings.warn(\n"
     ]
    },
    {
     "name": "stdout",
     "output_type": "stream",
     "text": [
      "4646/4646 [==============================] - 26s 5ms/step - loss: 0.8001 - accuracy: 0.6725 - tf_f1: 0.5421 - val_loss: 0.9242 - val_accuracy: 0.6437 - val_tf_f1: 0.6693\n",
      "Epoch 2/50\n",
      "4646/4646 [==============================] - 26s 5ms/step - loss: 0.4347 - accuracy: 0.8234 - tf_f1: 0.7136 - val_loss: 0.9271 - val_accuracy: 0.6921 - val_tf_f1: 0.7451\n",
      "Epoch 3/50\n",
      "4646/4646 [==============================] - 26s 5ms/step - loss: 0.3430 - accuracy: 0.8594 - tf_f1: 0.7656 - val_loss: 1.0041 - val_accuracy: 0.6799 - val_tf_f1: 0.7819\n",
      "Epoch 4/50\n",
      "4646/4646 [==============================] - 26s 5ms/step - loss: 0.2956 - accuracy: 0.8784 - tf_f1: 0.7941 - val_loss: 1.1056 - val_accuracy: 0.6427 - val_tf_f1: 0.8042\n",
      "Epoch 5/50\n",
      "4646/4646 [==============================] - 26s 5ms/step - loss: 0.2653 - accuracy: 0.8927 - tf_f1: 0.8127 - val_loss: 1.0350 - val_accuracy: 0.7085 - val_tf_f1: 0.8204\n",
      "Epoch 6/50\n",
      "4646/4646 [==============================] - 26s 5ms/step - loss: 0.2405 - accuracy: 0.9046 - tf_f1: 0.8272 - val_loss: 1.3360 - val_accuracy: 0.5677 - val_tf_f1: 0.8327\n",
      "Epoch 7/50\n",
      "4646/4646 [==============================] - 26s 5ms/step - loss: 0.2223 - accuracy: 0.9128 - tf_f1: 0.8376 - val_loss: 1.2001 - val_accuracy: 0.6671 - val_tf_f1: 0.8423\n",
      "Epoch 8/50\n",
      "4646/4646 [==============================] - 26s 5ms/step - loss: 0.2039 - accuracy: 0.9214 - tf_f1: 0.8468 - val_loss: 1.2477 - val_accuracy: 0.6829 - val_tf_f1: 0.8509\n",
      "Epoch 9/50\n",
      "4646/4646 [==============================] - 26s 5ms/step - loss: 0.1908 - accuracy: 0.9275 - tf_f1: 0.8547 - val_loss: 1.2787 - val_accuracy: 0.6717 - val_tf_f1: 0.8582\n",
      "Epoch 10/50\n",
      "4646/4646 [==============================] - 26s 5ms/step - loss: 0.1797 - accuracy: 0.9324 - tf_f1: 0.8614 - val_loss: 1.3568 - val_accuracy: 0.6520 - val_tf_f1: 0.8643\n",
      "Epoch 11/50\n",
      "4646/4646 [==============================] - 26s 5ms/step - loss: 0.1701 - accuracy: 0.9368 - tf_f1: 0.8671 - val_loss: 1.4338 - val_accuracy: 0.6473 - val_tf_f1: 0.8697\n",
      "Epoch 12/50\n",
      "4646/4646 [==============================] - 26s 5ms/step - loss: 0.1595 - accuracy: 0.9411 - tf_f1: 0.8721 - val_loss: 1.4303 - val_accuracy: 0.6795 - val_tf_f1: 0.8745\n",
      "Epoch 13/50\n",
      "4646/4646 [==============================] - 26s 5ms/step - loss: 0.1521 - accuracy: 0.9444 - tf_f1: 0.8768 - val_loss: 1.5428 - val_accuracy: 0.6258 - val_tf_f1: 0.8788\n",
      "Epoch 14/50\n",
      "4646/4646 [==============================] - 26s 5ms/step - loss: 0.1445 - accuracy: 0.9470 - tf_f1: 0.8807 - val_loss: 1.4813 - val_accuracy: 0.6441 - val_tf_f1: 0.8825\n",
      "Epoch 15/50\n",
      "4646/4646 [==============================] - 26s 5ms/step - loss: 0.1391 - accuracy: 0.9494 - tf_f1: 0.8843 - val_loss: 1.5431 - val_accuracy: 0.6707 - val_tf_f1: 0.8860\n",
      "Epoch 16/50\n",
      "4646/4646 [==============================] - 26s 5ms/step - loss: 0.1312 - accuracy: 0.9526 - tf_f1: 0.8877 - val_loss: 1.5307 - val_accuracy: 0.7021 - val_tf_f1: 0.8893\n",
      "Epoch 17/50\n",
      "4646/4646 [==============================] - 26s 5ms/step - loss: 0.1273 - accuracy: 0.9542 - tf_f1: 0.8909 - val_loss: 1.5247 - val_accuracy: 0.6988 - val_tf_f1: 0.8924\n"
     ]
    },
    {
     "name": "stderr",
     "output_type": "stream",
     "text": [
      "\u001b[32m[I 2022-09-08 07:01:35,873]\u001b[0m Trial 37 pruned. Trial was pruned at epoch 16.\u001b[0m\n"
     ]
    },
    {
     "name": "stdout",
     "output_type": "stream",
     "text": [
      "Epoch 1/50\n"
     ]
    },
    {
     "name": "stderr",
     "output_type": "stream",
     "text": [
      "c:\\Users\\Lim Jia Hui\\Desktop\\Python\\lib\\site-packages\\tensorflow\\python\\framework\\indexed_slices.py:444: UserWarning: Converting sparse IndexedSlices(IndexedSlices(indices=Tensor(\"gradient_tape/sequential_38/dense_76/embedding_lookup_sparse/Reshape_1:0\", shape=(None,), dtype=int32), values=Tensor(\"gradient_tape/sequential_38/dense_76/embedding_lookup_sparse/Reshape:0\", shape=(None, 20), dtype=float32), dense_shape=Tensor(\"gradient_tape/sequential_38/dense_76/embedding_lookup_sparse/Cast:0\", shape=(2,), dtype=int32))) to a dense Tensor of unknown shape. This may consume a large amount of memory.\n",
      "  warnings.warn(\n"
     ]
    },
    {
     "name": "stdout",
     "output_type": "stream",
     "text": [
      "4646/4646 [==============================] - 26s 5ms/step - loss: 0.9884 - accuracy: 0.6053 - tf_f1: 0.4731 - val_loss: 1.0073 - val_accuracy: 0.5796 - val_tf_f1: 0.5993\n",
      "Epoch 2/50\n",
      "4646/4646 [==============================] - 26s 5ms/step - loss: 0.5561 - accuracy: 0.7823 - tf_f1: 0.6507 - val_loss: 1.0119 - val_accuracy: 0.6042 - val_tf_f1: 0.6879\n"
     ]
    },
    {
     "name": "stderr",
     "output_type": "stream",
     "text": [
      "\u001b[32m[I 2022-09-08 07:02:28,095]\u001b[0m Trial 38 pruned. Trial was pruned at epoch 1.\u001b[0m\n"
     ]
    },
    {
     "name": "stdout",
     "output_type": "stream",
     "text": [
      "Epoch 1/50\n"
     ]
    },
    {
     "name": "stderr",
     "output_type": "stream",
     "text": [
      "c:\\Users\\Lim Jia Hui\\Desktop\\Python\\lib\\site-packages\\tensorflow\\python\\framework\\indexed_slices.py:444: UserWarning: Converting sparse IndexedSlices(IndexedSlices(indices=Tensor(\"gradient_tape/sequential_39/dense_78/embedding_lookup_sparse/Reshape_1:0\", shape=(None,), dtype=int32), values=Tensor(\"gradient_tape/sequential_39/dense_78/embedding_lookup_sparse/Reshape:0\", shape=(None, 48), dtype=float32), dense_shape=Tensor(\"gradient_tape/sequential_39/dense_78/embedding_lookup_sparse/Cast:0\", shape=(2,), dtype=int32))) to a dense Tensor of unknown shape. This may consume a large amount of memory.\n",
      "  warnings.warn(\n"
     ]
    },
    {
     "name": "stdout",
     "output_type": "stream",
     "text": [
      "4646/4646 [==============================] - 26s 5ms/step - loss: 0.8356 - accuracy: 0.6597 - tf_f1: 0.5203 - val_loss: 0.9861 - val_accuracy: 0.6166 - val_tf_f1: 0.6551\n",
      "Epoch 2/50\n",
      "4646/4646 [==============================] - 26s 5ms/step - loss: 0.4410 - accuracy: 0.8231 - tf_f1: 0.7026 - val_loss: 0.9256 - val_accuracy: 0.6774 - val_tf_f1: 0.7374\n",
      "Epoch 3/50\n",
      "4646/4646 [==============================] - 26s 5ms/step - loss: 0.3379 - accuracy: 0.8634 - tf_f1: 0.7598 - val_loss: 0.9741 - val_accuracy: 0.6775 - val_tf_f1: 0.7779\n",
      "Epoch 4/50\n",
      "4646/4646 [==============================] - 26s 5ms/step - loss: 0.2862 - accuracy: 0.8851 - tf_f1: 0.7916 - val_loss: 1.0227 - val_accuracy: 0.6686 - val_tf_f1: 0.8030\n",
      "Epoch 5/50\n",
      "4646/4646 [==============================] - 26s 5ms/step - loss: 0.2525 - accuracy: 0.9001 - tf_f1: 0.8125 - val_loss: 1.0082 - val_accuracy: 0.7096 - val_tf_f1: 0.8210\n",
      "Epoch 6/50\n",
      "4646/4646 [==============================] - 26s 5ms/step - loss: 0.2265 - accuracy: 0.9116 - tf_f1: 0.8284 - val_loss: 1.1979 - val_accuracy: 0.6259 - val_tf_f1: 0.8345\n",
      "Epoch 7/50\n",
      "4646/4646 [==============================] - 26s 5ms/step - loss: 0.2033 - accuracy: 0.9217 - tf_f1: 0.8401 - val_loss: 1.2866 - val_accuracy: 0.6125 - val_tf_f1: 0.8451\n",
      "Epoch 8/50\n",
      "4646/4646 [==============================] - 26s 5ms/step - loss: 0.1863 - accuracy: 0.9300 - tf_f1: 0.8497 - val_loss: 1.1426 - val_accuracy: 0.7208 - val_tf_f1: 0.8542\n",
      "Epoch 9/50\n",
      "4646/4646 [==============================] - 26s 5ms/step - loss: 0.1721 - accuracy: 0.9362 - tf_f1: 0.8584 - val_loss: 1.1751 - val_accuracy: 0.7186 - val_tf_f1: 0.8623\n",
      "Epoch 10/50\n",
      "4646/4646 [==============================] - 27s 6ms/step - loss: 0.1602 - accuracy: 0.9412 - tf_f1: 0.8659 - val_loss: 1.2619 - val_accuracy: 0.6972 - val_tf_f1: 0.8691\n",
      "Epoch 11/50\n",
      "4646/4646 [==============================] - 29s 6ms/step - loss: 0.1483 - accuracy: 0.9458 - tf_f1: 0.8721 - val_loss: 1.3077 - val_accuracy: 0.6887 - val_tf_f1: 0.8749\n",
      "Epoch 12/50\n",
      "4646/4646 [==============================] - 28s 6ms/step - loss: 0.1412 - accuracy: 0.9489 - tf_f1: 0.8776 - val_loss: 1.3056 - val_accuracy: 0.6982 - val_tf_f1: 0.8800\n",
      "Epoch 13/50\n",
      "4646/4646 [==============================] - 26s 5ms/step - loss: 0.1317 - accuracy: 0.9527 - tf_f1: 0.8824 - val_loss: 1.3920 - val_accuracy: 0.7200 - val_tf_f1: 0.8847\n",
      "Epoch 14/50\n",
      "4646/4646 [==============================] - 26s 5ms/step - loss: 0.1265 - accuracy: 0.9550 - tf_f1: 0.8868 - val_loss: 1.4430 - val_accuracy: 0.6691 - val_tf_f1: 0.8887\n",
      "Epoch 15/50\n",
      "4646/4646 [==============================] - 26s 5ms/step - loss: 0.1215 - accuracy: 0.9571 - tf_f1: 0.8906 - val_loss: 1.4851 - val_accuracy: 0.6800 - val_tf_f1: 0.8923\n",
      "Epoch 16/50\n",
      "4646/4646 [==============================] - 26s 5ms/step - loss: 0.1162 - accuracy: 0.9590 - tf_f1: 0.8940 - val_loss: 1.5793 - val_accuracy: 0.6346 - val_tf_f1: 0.8955\n",
      "Epoch 17/50\n",
      "4646/4646 [==============================] - 26s 5ms/step - loss: 0.1102 - accuracy: 0.9608 - tf_f1: 0.8969 - val_loss: 1.6019 - val_accuracy: 0.6528 - val_tf_f1: 0.8983\n"
     ]
    },
    {
     "name": "stderr",
     "output_type": "stream",
     "text": [
      "\u001b[32m[I 2022-09-08 07:09:52,673]\u001b[0m Trial 39 pruned. Trial was pruned at epoch 16.\u001b[0m\n"
     ]
    },
    {
     "name": "stdout",
     "output_type": "stream",
     "text": [
      "Epoch 1/50\n"
     ]
    },
    {
     "name": "stderr",
     "output_type": "stream",
     "text": [
      "c:\\Users\\Lim Jia Hui\\Desktop\\Python\\lib\\site-packages\\tensorflow\\python\\framework\\indexed_slices.py:444: UserWarning: Converting sparse IndexedSlices(IndexedSlices(indices=Tensor(\"gradient_tape/sequential_40/dense_80/embedding_lookup_sparse/Reshape_1:0\", shape=(None,), dtype=int32), values=Tensor(\"gradient_tape/sequential_40/dense_80/embedding_lookup_sparse/Reshape:0\", shape=(None, 13), dtype=float32), dense_shape=Tensor(\"gradient_tape/sequential_40/dense_80/embedding_lookup_sparse/Cast:0\", shape=(2,), dtype=int32))) to a dense Tensor of unknown shape. This may consume a large amount of memory.\n",
      "  warnings.warn(\n"
     ]
    },
    {
     "name": "stdout",
     "output_type": "stream",
     "text": [
      "4646/4646 [==============================] - 26s 5ms/step - loss: 0.9804 - accuracy: 0.6026 - tf_f1: 0.4642 - val_loss: 0.9260 - val_accuracy: 0.6160 - val_tf_f1: 0.5980\n",
      "Epoch 2/50\n",
      "4646/4646 [==============================] - 26s 5ms/step - loss: 0.5933 - accuracy: 0.7707 - tf_f1: 0.6481 - val_loss: 1.1013 - val_accuracy: 0.5728 - val_tf_f1: 0.6822\n"
     ]
    },
    {
     "name": "stderr",
     "output_type": "stream",
     "text": [
      "\u001b[32m[I 2022-09-08 07:10:45,139]\u001b[0m Trial 40 pruned. Trial was pruned at epoch 1.\u001b[0m\n"
     ]
    },
    {
     "name": "stdout",
     "output_type": "stream",
     "text": [
      "Epoch 1/50\n"
     ]
    },
    {
     "name": "stderr",
     "output_type": "stream",
     "text": [
      "c:\\Users\\Lim Jia Hui\\Desktop\\Python\\lib\\site-packages\\tensorflow\\python\\framework\\indexed_slices.py:444: UserWarning: Converting sparse IndexedSlices(IndexedSlices(indices=Tensor(\"gradient_tape/sequential_41/dense_82/embedding_lookup_sparse/Reshape_1:0\", shape=(None,), dtype=int32), values=Tensor(\"gradient_tape/sequential_41/dense_82/embedding_lookup_sparse/Reshape:0\", shape=(None, 48), dtype=float32), dense_shape=Tensor(\"gradient_tape/sequential_41/dense_82/embedding_lookup_sparse/Cast:0\", shape=(2,), dtype=int32))) to a dense Tensor of unknown shape. This may consume a large amount of memory.\n",
      "  warnings.warn(\n"
     ]
    },
    {
     "name": "stdout",
     "output_type": "stream",
     "text": [
      "4646/4646 [==============================] - 26s 6ms/step - loss: 0.8284 - accuracy: 0.6647 - tf_f1: 0.5350 - val_loss: 0.9178 - val_accuracy: 0.6637 - val_tf_f1: 0.6605\n",
      "Epoch 2/50\n",
      "4646/4646 [==============================] - 26s 5ms/step - loss: 0.4445 - accuracy: 0.8213 - tf_f1: 0.7063 - val_loss: 1.2274 - val_accuracy: 0.4889 - val_tf_f1: 0.7372\n",
      "Epoch 3/50\n",
      "4646/4646 [==============================] - 26s 5ms/step - loss: 0.3391 - accuracy: 0.8634 - tf_f1: 0.7576 - val_loss: 1.0808 - val_accuracy: 0.6011 - val_tf_f1: 0.7754\n",
      "Epoch 4/50\n",
      "4646/4646 [==============================] - 26s 5ms/step - loss: 0.2827 - accuracy: 0.8866 - tf_f1: 0.7890 - val_loss: 1.1894 - val_accuracy: 0.5579 - val_tf_f1: 0.8003\n",
      "Epoch 5/50\n",
      "4646/4646 [==============================] - 26s 5ms/step - loss: 0.2484 - accuracy: 0.9028 - tf_f1: 0.8097 - val_loss: 1.0539 - val_accuracy: 0.6771 - val_tf_f1: 0.8185\n"
     ]
    },
    {
     "name": "stderr",
     "output_type": "stream",
     "text": [
      "\u001b[32m[I 2022-09-08 07:12:54,665]\u001b[0m Trial 41 pruned. Trial was pruned at epoch 4.\u001b[0m\n"
     ]
    },
    {
     "name": "stdout",
     "output_type": "stream",
     "text": [
      "Epoch 1/50\n"
     ]
    },
    {
     "name": "stderr",
     "output_type": "stream",
     "text": [
      "c:\\Users\\Lim Jia Hui\\Desktop\\Python\\lib\\site-packages\\tensorflow\\python\\framework\\indexed_slices.py:444: UserWarning: Converting sparse IndexedSlices(IndexedSlices(indices=Tensor(\"gradient_tape/sequential_42/dense_84/embedding_lookup_sparse/Reshape_1:0\", shape=(None,), dtype=int32), values=Tensor(\"gradient_tape/sequential_42/dense_84/embedding_lookup_sparse/Reshape:0\", shape=(None, 49), dtype=float32), dense_shape=Tensor(\"gradient_tape/sequential_42/dense_84/embedding_lookup_sparse/Cast:0\", shape=(2,), dtype=int32))) to a dense Tensor of unknown shape. This may consume a large amount of memory.\n",
      "  warnings.warn(\n"
     ]
    },
    {
     "name": "stdout",
     "output_type": "stream",
     "text": [
      "4646/4646 [==============================] - 26s 5ms/step - loss: 0.8098 - accuracy: 0.6684 - tf_f1: 0.5303 - val_loss: 0.9647 - val_accuracy: 0.6350 - val_tf_f1: 0.6641\n",
      "Epoch 2/50\n",
      "4646/4646 [==============================] - 26s 5ms/step - loss: 0.4304 - accuracy: 0.8251 - tf_f1: 0.7099 - val_loss: 0.9706 - val_accuracy: 0.6722 - val_tf_f1: 0.7427\n",
      "Epoch 3/50\n",
      "4646/4646 [==============================] - 25s 5ms/step - loss: 0.3326 - accuracy: 0.8649 - tf_f1: 0.7642 - val_loss: 1.1398 - val_accuracy: 0.5816 - val_tf_f1: 0.7809\n",
      "Epoch 4/50\n",
      "4646/4646 [==============================] - 26s 5ms/step - loss: 0.2824 - accuracy: 0.8870 - tf_f1: 0.7937 - val_loss: 1.0068 - val_accuracy: 0.6882 - val_tf_f1: 0.8053\n",
      "Epoch 5/50\n",
      "4646/4646 [==============================] - 25s 5ms/step - loss: 0.2458 - accuracy: 0.9043 - tf_f1: 0.8151 - val_loss: 1.1383 - val_accuracy: 0.6493 - val_tf_f1: 0.8233\n",
      "Epoch 6/50\n",
      "4646/4646 [==============================] - 26s 5ms/step - loss: 0.2181 - accuracy: 0.9165 - tf_f1: 0.8306 - val_loss: 1.1697 - val_accuracy: 0.6589 - val_tf_f1: 0.8370\n",
      "Epoch 7/50\n",
      "4646/4646 [==============================] - 25s 5ms/step - loss: 0.1983 - accuracy: 0.9253 - tf_f1: 0.8428 - val_loss: 1.3016 - val_accuracy: 0.6354 - val_tf_f1: 0.8479\n",
      "Epoch 8/50\n",
      "4646/4646 [==============================] - 26s 5ms/step - loss: 0.1815 - accuracy: 0.9326 - tf_f1: 0.8525 - val_loss: 1.2643 - val_accuracy: 0.6804 - val_tf_f1: 0.8569\n",
      "Epoch 9/50\n",
      "4646/4646 [==============================] - 26s 5ms/step - loss: 0.1660 - accuracy: 0.9395 - tf_f1: 0.8610 - val_loss: 1.7017 - val_accuracy: 0.5337 - val_tf_f1: 0.8642\n",
      "Epoch 10/50\n",
      "4646/4646 [==============================] - 26s 5ms/step - loss: 0.1558 - accuracy: 0.9441 - tf_f1: 0.8673 - val_loss: 1.3905 - val_accuracy: 0.6550 - val_tf_f1: 0.8705\n",
      "Epoch 11/50\n",
      "4646/4646 [==============================] - 26s 5ms/step - loss: 0.1437 - accuracy: 0.9486 - tf_f1: 0.8735 - val_loss: 1.3244 - val_accuracy: 0.6921 - val_tf_f1: 0.8763\n",
      "Epoch 12/50\n",
      "4646/4646 [==============================] - 26s 5ms/step - loss: 0.1377 - accuracy: 0.9513 - tf_f1: 0.8790 - val_loss: 1.3517 - val_accuracy: 0.7048 - val_tf_f1: 0.8815\n",
      "Epoch 13/50\n",
      "4646/4646 [==============================] - 26s 5ms/step - loss: 0.1311 - accuracy: 0.9539 - tf_f1: 0.8839 - val_loss: 1.5020 - val_accuracy: 0.6602 - val_tf_f1: 0.8860\n",
      "Epoch 14/50\n",
      "4646/4646 [==============================] - 25s 5ms/step - loss: 0.1248 - accuracy: 0.9562 - tf_f1: 0.8880 - val_loss: 1.5370 - val_accuracy: 0.6619 - val_tf_f1: 0.8899\n",
      "Epoch 15/50\n",
      "4646/4646 [==============================] - 26s 5ms/step - loss: 0.1196 - accuracy: 0.9586 - tf_f1: 0.8918 - val_loss: 1.7048 - val_accuracy: 0.6088 - val_tf_f1: 0.8934\n",
      "Epoch 16/50\n",
      "4646/4646 [==============================] - 26s 5ms/step - loss: 0.1153 - accuracy: 0.9598 - tf_f1: 0.8949 - val_loss: 1.4752 - val_accuracy: 0.6899 - val_tf_f1: 0.8965\n",
      "Epoch 17/50\n",
      "4646/4646 [==============================] - 26s 5ms/step - loss: 0.1107 - accuracy: 0.9616 - tf_f1: 0.8980 - val_loss: 1.5514 - val_accuracy: 0.6970 - val_tf_f1: 0.8995\n"
     ]
    },
    {
     "name": "stderr",
     "output_type": "stream",
     "text": [
      "\u001b[32m[I 2022-09-08 07:20:10,931]\u001b[0m Trial 42 finished with value: 0.8994843363761902 and parameters: {'lr': 0.06154669343269398, 'units': 49}. Best is trial 13 with value: 0.9004270434379578.\u001b[0m\n"
     ]
    },
    {
     "name": "stdout",
     "output_type": "stream",
     "text": [
      "Epoch 00017: early stopping\n",
      "Epoch 1/50\n"
     ]
    },
    {
     "name": "stderr",
     "output_type": "stream",
     "text": [
      "c:\\Users\\Lim Jia Hui\\Desktop\\Python\\lib\\site-packages\\tensorflow\\python\\framework\\indexed_slices.py:444: UserWarning: Converting sparse IndexedSlices(IndexedSlices(indices=Tensor(\"gradient_tape/sequential_43/dense_86/embedding_lookup_sparse/Reshape_1:0\", shape=(None,), dtype=int32), values=Tensor(\"gradient_tape/sequential_43/dense_86/embedding_lookup_sparse/Reshape:0\", shape=(None, 50), dtype=float32), dense_shape=Tensor(\"gradient_tape/sequential_43/dense_86/embedding_lookup_sparse/Cast:0\", shape=(2,), dtype=int32))) to a dense Tensor of unknown shape. This may consume a large amount of memory.\n",
      "  warnings.warn(\n"
     ]
    },
    {
     "name": "stdout",
     "output_type": "stream",
     "text": [
      "4646/4646 [==============================] - 26s 5ms/step - loss: 0.7920 - accuracy: 0.6757 - tf_f1: 0.5437 - val_loss: 1.4542 - val_accuracy: 0.4489 - val_tf_f1: 0.6670\n",
      "Epoch 2/50\n",
      "4646/4646 [==============================] - 26s 5ms/step - loss: 0.4277 - accuracy: 0.8258 - tf_f1: 0.7083 - val_loss: 1.0701 - val_accuracy: 0.5978 - val_tf_f1: 0.7406\n",
      "Epoch 3/50\n",
      "4646/4646 [==============================] - 26s 5ms/step - loss: 0.3303 - accuracy: 0.8644 - tf_f1: 0.7620 - val_loss: 1.0064 - val_accuracy: 0.6791 - val_tf_f1: 0.7796\n",
      "Epoch 4/50\n",
      "4646/4646 [==============================] - 26s 5ms/step - loss: 0.2868 - accuracy: 0.8838 - tf_f1: 0.7929 - val_loss: 1.2234 - val_accuracy: 0.6034 - val_tf_f1: 0.8035\n",
      "Epoch 5/50\n",
      "4646/4646 [==============================] - 25s 5ms/step - loss: 0.2553 - accuracy: 0.8984 - tf_f1: 0.8124 - val_loss: 1.1675 - val_accuracy: 0.6379 - val_tf_f1: 0.8203\n"
     ]
    },
    {
     "name": "stderr",
     "output_type": "stream",
     "text": [
      "\u001b[32m[I 2022-09-08 07:22:19,584]\u001b[0m Trial 43 pruned. Trial was pruned at epoch 4.\u001b[0m\n"
     ]
    },
    {
     "name": "stdout",
     "output_type": "stream",
     "text": [
      "Epoch 1/50\n"
     ]
    },
    {
     "name": "stderr",
     "output_type": "stream",
     "text": [
      "c:\\Users\\Lim Jia Hui\\Desktop\\Python\\lib\\site-packages\\tensorflow\\python\\framework\\indexed_slices.py:444: UserWarning: Converting sparse IndexedSlices(IndexedSlices(indices=Tensor(\"gradient_tape/sequential_44/dense_88/embedding_lookup_sparse/Reshape_1:0\", shape=(None,), dtype=int32), values=Tensor(\"gradient_tape/sequential_44/dense_88/embedding_lookup_sparse/Reshape:0\", shape=(None, 43), dtype=float32), dense_shape=Tensor(\"gradient_tape/sequential_44/dense_88/embedding_lookup_sparse/Cast:0\", shape=(2,), dtype=int32))) to a dense Tensor of unknown shape. This may consume a large amount of memory.\n",
      "  warnings.warn(\n"
     ]
    },
    {
     "name": "stdout",
     "output_type": "stream",
     "text": [
      "4646/4646 [==============================] - 26s 5ms/step - loss: 0.8243 - accuracy: 0.6631 - tf_f1: 0.5311 - val_loss: 1.0723 - val_accuracy: 0.5901 - val_tf_f1: 0.6583\n",
      "Epoch 2/50\n",
      "4646/4646 [==============================] - 26s 5ms/step - loss: 0.4436 - accuracy: 0.8208 - tf_f1: 0.7036 - val_loss: 1.0121 - val_accuracy: 0.6182 - val_tf_f1: 0.7364\n"
     ]
    },
    {
     "name": "stderr",
     "output_type": "stream",
     "text": [
      "\u001b[32m[I 2022-09-08 07:23:11,637]\u001b[0m Trial 44 pruned. Trial was pruned at epoch 1.\u001b[0m\n"
     ]
    },
    {
     "name": "stdout",
     "output_type": "stream",
     "text": [
      "Epoch 1/50\n"
     ]
    },
    {
     "name": "stderr",
     "output_type": "stream",
     "text": [
      "c:\\Users\\Lim Jia Hui\\Desktop\\Python\\lib\\site-packages\\tensorflow\\python\\framework\\indexed_slices.py:444: UserWarning: Converting sparse IndexedSlices(IndexedSlices(indices=Tensor(\"gradient_tape/sequential_45/dense_90/embedding_lookup_sparse/Reshape_1:0\", shape=(None,), dtype=int32), values=Tensor(\"gradient_tape/sequential_45/dense_90/embedding_lookup_sparse/Reshape:0\", shape=(None, 46), dtype=float32), dense_shape=Tensor(\"gradient_tape/sequential_45/dense_90/embedding_lookup_sparse/Cast:0\", shape=(2,), dtype=int32))) to a dense Tensor of unknown shape. This may consume a large amount of memory.\n",
      "  warnings.warn(\n"
     ]
    },
    {
     "name": "stdout",
     "output_type": "stream",
     "text": [
      "4646/4646 [==============================] - 26s 5ms/step - loss: 0.8165 - accuracy: 0.6666 - tf_f1: 0.5347 - val_loss: 1.0138 - val_accuracy: 0.6381 - val_tf_f1: 0.6626\n",
      "Epoch 2/50\n",
      "4646/4646 [==============================] - 26s 5ms/step - loss: 0.4411 - accuracy: 0.8223 - tf_f1: 0.7075 - val_loss: 1.0694 - val_accuracy: 0.5874 - val_tf_f1: 0.7394\n",
      "Epoch 3/50\n",
      "4646/4646 [==============================] - 26s 5ms/step - loss: 0.3392 - accuracy: 0.8632 - tf_f1: 0.7605 - val_loss: 1.1328 - val_accuracy: 0.5975 - val_tf_f1: 0.7776\n",
      "Epoch 4/50\n",
      "4646/4646 [==============================] - 25s 5ms/step - loss: 0.2877 - accuracy: 0.8855 - tf_f1: 0.7907 - val_loss: 1.1305 - val_accuracy: 0.6395 - val_tf_f1: 0.8022\n",
      "Epoch 5/50\n",
      "4646/4646 [==============================] - 26s 5ms/step - loss: 0.2541 - accuracy: 0.9003 - tf_f1: 0.8116 - val_loss: 1.2499 - val_accuracy: 0.5941 - val_tf_f1: 0.8195\n"
     ]
    },
    {
     "name": "stderr",
     "output_type": "stream",
     "text": [
      "\u001b[32m[I 2022-09-08 07:25:20,234]\u001b[0m Trial 45 pruned. Trial was pruned at epoch 4.\u001b[0m\n"
     ]
    },
    {
     "name": "stdout",
     "output_type": "stream",
     "text": [
      "Epoch 1/50\n"
     ]
    },
    {
     "name": "stderr",
     "output_type": "stream",
     "text": [
      "c:\\Users\\Lim Jia Hui\\Desktop\\Python\\lib\\site-packages\\tensorflow\\python\\framework\\indexed_slices.py:444: UserWarning: Converting sparse IndexedSlices(IndexedSlices(indices=Tensor(\"gradient_tape/sequential_46/dense_92/embedding_lookup_sparse/Reshape_1:0\", shape=(None,), dtype=int32), values=Tensor(\"gradient_tape/sequential_46/dense_92/embedding_lookup_sparse/Reshape:0\", shape=(None, 50), dtype=float32), dense_shape=Tensor(\"gradient_tape/sequential_46/dense_92/embedding_lookup_sparse/Cast:0\", shape=(2,), dtype=int32))) to a dense Tensor of unknown shape. This may consume a large amount of memory.\n",
      "  warnings.warn(\n"
     ]
    },
    {
     "name": "stdout",
     "output_type": "stream",
     "text": [
      "4646/4646 [==============================] - 26s 5ms/step - loss: 0.7765 - accuracy: 0.6804 - tf_f1: 0.5506 - val_loss: 1.0602 - val_accuracy: 0.5939 - val_tf_f1: 0.6758\n",
      "Epoch 2/50\n",
      "4646/4646 [==============================] - 26s 5ms/step - loss: 0.4141 - accuracy: 0.8295 - tf_f1: 0.7184 - val_loss: 0.9598 - val_accuracy: 0.6737 - val_tf_f1: 0.7503\n",
      "Epoch 3/50\n",
      "4646/4646 [==============================] - 26s 5ms/step - loss: 0.3196 - accuracy: 0.8682 - tf_f1: 0.7713 - val_loss: 0.9716 - val_accuracy: 0.7030 - val_tf_f1: 0.7882\n",
      "Epoch 4/50\n",
      "4646/4646 [==============================] - 26s 5ms/step - loss: 0.2730 - accuracy: 0.8891 - tf_f1: 0.8013 - val_loss: 1.1419 - val_accuracy: 0.6264 - val_tf_f1: 0.8116\n",
      "Epoch 5/50\n",
      "4646/4646 [==============================] - 25s 5ms/step - loss: 0.2388 - accuracy: 0.9045 - tf_f1: 0.8203 - val_loss: 1.1056 - val_accuracy: 0.6714 - val_tf_f1: 0.8282\n",
      "Epoch 6/50\n",
      "4646/4646 [==============================] - 26s 5ms/step - loss: 0.2149 - accuracy: 0.9164 - tf_f1: 0.8352 - val_loss: 1.1239 - val_accuracy: 0.7232 - val_tf_f1: 0.8415\n",
      "Epoch 7/50\n",
      "4646/4646 [==============================] - 26s 5ms/step - loss: 0.1924 - accuracy: 0.9272 - tf_f1: 0.8473 - val_loss: 1.2368 - val_accuracy: 0.6799 - val_tf_f1: 0.8524\n",
      "Epoch 8/50\n",
      "4646/4646 [==============================] - 26s 5ms/step - loss: 0.1775 - accuracy: 0.9335 - tf_f1: 0.8569 - val_loss: 1.2914 - val_accuracy: 0.6775 - val_tf_f1: 0.8611\n",
      "Epoch 9/50\n",
      "4646/4646 [==============================] - 25s 5ms/step - loss: 0.1635 - accuracy: 0.9396 - tf_f1: 0.8649 - val_loss: 1.3822 - val_accuracy: 0.6719 - val_tf_f1: 0.8684\n",
      "Epoch 10/50\n",
      "4646/4646 [==============================] - 25s 5ms/step - loss: 0.1507 - accuracy: 0.9448 - tf_f1: 0.8717 - val_loss: 1.3451 - val_accuracy: 0.6955 - val_tf_f1: 0.8748\n",
      "Epoch 11/50\n",
      "4646/4646 [==============================] - 26s 5ms/step - loss: 0.1405 - accuracy: 0.9490 - tf_f1: 0.8777 - val_loss: 1.4634 - val_accuracy: 0.6698 - val_tf_f1: 0.8803\n",
      "Epoch 12/50\n",
      "4646/4646 [==============================] - 26s 5ms/step - loss: 0.1320 - accuracy: 0.9526 - tf_f1: 0.8829 - val_loss: 1.4581 - val_accuracy: 0.6724 - val_tf_f1: 0.8852\n",
      "Epoch 13/50\n",
      "4646/4646 [==============================] - 26s 5ms/step - loss: 0.1272 - accuracy: 0.9549 - tf_f1: 0.8874 - val_loss: 1.4585 - val_accuracy: 0.6732 - val_tf_f1: 0.8894\n",
      "Epoch 14/50\n",
      "4646/4646 [==============================] - 26s 5ms/step - loss: 0.1226 - accuracy: 0.9559 - tf_f1: 0.8914 - val_loss: 1.5744 - val_accuracy: 0.6666 - val_tf_f1: 0.8931\n",
      "Epoch 15/50\n",
      "4646/4646 [==============================] - 26s 5ms/step - loss: 0.1166 - accuracy: 0.9584 - tf_f1: 0.8949 - val_loss: 1.5451 - val_accuracy: 0.7091 - val_tf_f1: 0.8965\n",
      "Epoch 16/50\n",
      "4646/4646 [==============================] - 26s 5ms/step - loss: 0.1129 - accuracy: 0.9595 - tf_f1: 0.8981 - val_loss: 1.5488 - val_accuracy: 0.7205 - val_tf_f1: 0.8997\n",
      "Epoch 17/50\n",
      "4646/4646 [==============================] - 26s 5ms/step - loss: 0.1102 - accuracy: 0.9609 - tf_f1: 0.9011 - val_loss: 1.5667 - val_accuracy: 0.6752 - val_tf_f1: 0.9025\n"
     ]
    },
    {
     "name": "stderr",
     "output_type": "stream",
     "text": [
      "\u001b[32m[I 2022-09-08 07:32:35,962]\u001b[0m Trial 46 finished with value: 0.9024535417556763 and parameters: {'lr': 0.08331671475847134, 'units': 50}. Best is trial 46 with value: 0.9024535417556763.\u001b[0m\n"
     ]
    },
    {
     "name": "stdout",
     "output_type": "stream",
     "text": [
      "Epoch 00017: early stopping\n",
      "Epoch 1/50\n"
     ]
    },
    {
     "name": "stderr",
     "output_type": "stream",
     "text": [
      "c:\\Users\\Lim Jia Hui\\Desktop\\Python\\lib\\site-packages\\tensorflow\\python\\framework\\indexed_slices.py:444: UserWarning: Converting sparse IndexedSlices(IndexedSlices(indices=Tensor(\"gradient_tape/sequential_47/dense_94/embedding_lookup_sparse/Reshape_1:0\", shape=(None,), dtype=int32), values=Tensor(\"gradient_tape/sequential_47/dense_94/embedding_lookup_sparse/Reshape:0\", shape=(None, 50), dtype=float32), dense_shape=Tensor(\"gradient_tape/sequential_47/dense_94/embedding_lookup_sparse/Cast:0\", shape=(2,), dtype=int32))) to a dense Tensor of unknown shape. This may consume a large amount of memory.\n",
      "  warnings.warn(\n"
     ]
    },
    {
     "name": "stdout",
     "output_type": "stream",
     "text": [
      "4646/4646 [==============================] - 26s 5ms/step - loss: 0.7743 - accuracy: 0.6814 - tf_f1: 0.5511 - val_loss: 1.0491 - val_accuracy: 0.5896 - val_tf_f1: 0.6770\n",
      "Epoch 2/50\n",
      "4646/4646 [==============================] - 25s 5ms/step - loss: 0.4138 - accuracy: 0.8303 - tf_f1: 0.7194 - val_loss: 0.8633 - val_accuracy: 0.7184 - val_tf_f1: 0.7520\n",
      "Epoch 3/50\n",
      "4646/4646 [==============================] - 25s 5ms/step - loss: 0.3197 - accuracy: 0.8692 - tf_f1: 0.7734 - val_loss: 1.0180 - val_accuracy: 0.6657 - val_tf_f1: 0.7897\n",
      "Epoch 4/50\n",
      "4646/4646 [==============================] - 25s 5ms/step - loss: 0.2713 - accuracy: 0.8902 - tf_f1: 0.8023 - val_loss: 1.0949 - val_accuracy: 0.6667 - val_tf_f1: 0.8129\n",
      "Epoch 5/50\n",
      "4646/4646 [==============================] - 26s 5ms/step - loss: 0.2398 - accuracy: 0.9047 - tf_f1: 0.8218 - val_loss: 1.1554 - val_accuracy: 0.6254 - val_tf_f1: 0.8292\n",
      "Epoch 6/50\n",
      "4646/4646 [==============================] - 26s 5ms/step - loss: 0.2127 - accuracy: 0.9174 - tf_f1: 0.8360 - val_loss: 1.1512 - val_accuracy: 0.6691 - val_tf_f1: 0.8420\n",
      "Epoch 7/50\n",
      "4646/4646 [==============================] - 26s 5ms/step - loss: 0.1918 - accuracy: 0.9271 - tf_f1: 0.8476 - val_loss: 1.1418 - val_accuracy: 0.7174 - val_tf_f1: 0.8528\n",
      "Epoch 8/50\n",
      "4646/4646 [==============================] - 26s 6ms/step - loss: 0.1754 - accuracy: 0.9351 - tf_f1: 0.8575 - val_loss: 1.2632 - val_accuracy: 0.6876 - val_tf_f1: 0.8617\n",
      "Epoch 9/50\n",
      "4646/4646 [==============================] - 25s 5ms/step - loss: 0.1597 - accuracy: 0.9411 - tf_f1: 0.8657 - val_loss: 1.3711 - val_accuracy: 0.6419 - val_tf_f1: 0.8691\n",
      "Epoch 10/50\n",
      "4646/4646 [==============================] - 26s 5ms/step - loss: 0.1486 - accuracy: 0.9458 - tf_f1: 0.8723 - val_loss: 1.5761 - val_accuracy: 0.5837 - val_tf_f1: 0.8751\n",
      "Epoch 11/50\n",
      "4646/4646 [==============================] - 26s 5ms/step - loss: 0.1402 - accuracy: 0.9495 - tf_f1: 0.8777 - val_loss: 1.4257 - val_accuracy: 0.6790 - val_tf_f1: 0.8804\n",
      "Epoch 12/50\n",
      "4646/4646 [==============================] - 26s 5ms/step - loss: 0.1305 - accuracy: 0.9531 - tf_f1: 0.8830 - val_loss: 1.6551 - val_accuracy: 0.5878 - val_tf_f1: 0.8851\n",
      "Epoch 13/50\n",
      "4646/4646 [==============================] - 26s 5ms/step - loss: 0.1259 - accuracy: 0.9554 - tf_f1: 0.8871 - val_loss: 1.4435 - val_accuracy: 0.7008 - val_tf_f1: 0.8892\n",
      "Epoch 14/50\n",
      "4646/4646 [==============================] - 25s 5ms/step - loss: 0.1187 - accuracy: 0.9576 - tf_f1: 0.8913 - val_loss: 1.5300 - val_accuracy: 0.6639 - val_tf_f1: 0.8931\n",
      "Epoch 15/50\n",
      "4646/4646 [==============================] - 26s 5ms/step - loss: 0.1141 - accuracy: 0.9593 - tf_f1: 0.8948 - val_loss: 1.5391 - val_accuracy: 0.7023 - val_tf_f1: 0.8965\n",
      "Epoch 16/50\n",
      "4646/4646 [==============================] - 26s 5ms/step - loss: 0.1105 - accuracy: 0.9610 - tf_f1: 0.8982 - val_loss: 1.5946 - val_accuracy: 0.7392 - val_tf_f1: 0.8998\n",
      "Epoch 17/50\n",
      "4646/4646 [==============================] - 25s 5ms/step - loss: 0.1055 - accuracy: 0.9629 - tf_f1: 0.9013 - val_loss: 1.6472 - val_accuracy: 0.6482 - val_tf_f1: 0.9026\n"
     ]
    },
    {
     "name": "stderr",
     "output_type": "stream",
     "text": [
      "\u001b[32m[I 2022-09-08 07:39:51,714]\u001b[0m Trial 47 finished with value: 0.9026344418525696 and parameters: {'lr': 0.08323038100711815, 'units': 50}. Best is trial 47 with value: 0.9026344418525696.\u001b[0m\n"
     ]
    },
    {
     "name": "stdout",
     "output_type": "stream",
     "text": [
      "Epoch 00017: early stopping\n",
      "Epoch 1/50\n"
     ]
    },
    {
     "name": "stderr",
     "output_type": "stream",
     "text": [
      "c:\\Users\\Lim Jia Hui\\Desktop\\Python\\lib\\site-packages\\tensorflow\\python\\framework\\indexed_slices.py:444: UserWarning: Converting sparse IndexedSlices(IndexedSlices(indices=Tensor(\"gradient_tape/sequential_48/dense_96/embedding_lookup_sparse/Reshape_1:0\", shape=(None,), dtype=int32), values=Tensor(\"gradient_tape/sequential_48/dense_96/embedding_lookup_sparse/Reshape:0\", shape=(None, 50), dtype=float32), dense_shape=Tensor(\"gradient_tape/sequential_48/dense_96/embedding_lookup_sparse/Cast:0\", shape=(2,), dtype=int32))) to a dense Tensor of unknown shape. This may consume a large amount of memory.\n",
      "  warnings.warn(\n"
     ]
    },
    {
     "name": "stdout",
     "output_type": "stream",
     "text": [
      "4646/4646 [==============================] - 26s 5ms/step - loss: 0.7829 - accuracy: 0.6767 - tf_f1: 0.5469 - val_loss: 0.9196 - val_accuracy: 0.6565 - val_tf_f1: 0.6740\n",
      "Epoch 2/50\n",
      "4646/4646 [==============================] - 25s 5ms/step - loss: 0.4319 - accuracy: 0.8228 - tf_f1: 0.7170 - val_loss: 1.1622 - val_accuracy: 0.5333 - val_tf_f1: 0.7454\n",
      "Epoch 3/50\n",
      "4646/4646 [==============================] - 26s 5ms/step - loss: 0.3451 - accuracy: 0.8580 - tf_f1: 0.7640 - val_loss: 1.1140 - val_accuracy: 0.6044 - val_tf_f1: 0.7797\n",
      "Epoch 4/50\n",
      "4646/4646 [==============================] - 26s 5ms/step - loss: 0.2975 - accuracy: 0.8779 - tf_f1: 0.7917 - val_loss: 1.1717 - val_accuracy: 0.6407 - val_tf_f1: 0.8020\n",
      "Epoch 5/50\n",
      "4646/4646 [==============================] - 26s 5ms/step - loss: 0.2663 - accuracy: 0.8920 - tf_f1: 0.8107 - val_loss: 1.3337 - val_accuracy: 0.5683 - val_tf_f1: 0.8178\n"
     ]
    },
    {
     "name": "stderr",
     "output_type": "stream",
     "text": [
      "\u001b[32m[I 2022-09-08 07:42:00,241]\u001b[0m Trial 48 pruned. Trial was pruned at epoch 4.\u001b[0m\n"
     ]
    },
    {
     "name": "stdout",
     "output_type": "stream",
     "text": [
      "Epoch 1/50\n"
     ]
    },
    {
     "name": "stderr",
     "output_type": "stream",
     "text": [
      "c:\\Users\\Lim Jia Hui\\Desktop\\Python\\lib\\site-packages\\tensorflow\\python\\framework\\indexed_slices.py:444: UserWarning: Converting sparse IndexedSlices(IndexedSlices(indices=Tensor(\"gradient_tape/sequential_49/dense_98/embedding_lookup_sparse/Reshape_1:0\", shape=(None,), dtype=int32), values=Tensor(\"gradient_tape/sequential_49/dense_98/embedding_lookup_sparse/Reshape:0\", shape=(None, 45), dtype=float32), dense_shape=Tensor(\"gradient_tape/sequential_49/dense_98/embedding_lookup_sparse/Cast:0\", shape=(2,), dtype=int32))) to a dense Tensor of unknown shape. This may consume a large amount of memory.\n",
      "  warnings.warn(\n"
     ]
    },
    {
     "name": "stdout",
     "output_type": "stream",
     "text": [
      "4646/4646 [==============================] - 26s 5ms/step - loss: 0.7677 - accuracy: 0.6833 - tf_f1: 0.5571 - val_loss: 1.2191 - val_accuracy: 0.5236 - val_tf_f1: 0.6762\n",
      "Epoch 2/50\n",
      "4646/4646 [==============================] - 26s 5ms/step - loss: 0.4148 - accuracy: 0.8292 - tf_f1: 0.7176 - val_loss: 1.0129 - val_accuracy: 0.6403 - val_tf_f1: 0.7488\n",
      "Epoch 3/50\n",
      "4646/4646 [==============================] - 26s 5ms/step - loss: 0.3344 - accuracy: 0.8609 - tf_f1: 0.7687 - val_loss: 1.0950 - val_accuracy: 0.6366 - val_tf_f1: 0.7840\n",
      "Epoch 4/50\n",
      "4646/4646 [==============================] - 26s 5ms/step - loss: 0.2914 - accuracy: 0.8806 - tf_f1: 0.7961 - val_loss: 1.0827 - val_accuracy: 0.6753 - val_tf_f1: 0.8063\n",
      "Epoch 5/50\n",
      "4646/4646 [==============================] - 26s 5ms/step - loss: 0.2606 - accuracy: 0.8950 - tf_f1: 0.8151 - val_loss: 1.1815 - val_accuracy: 0.6195 - val_tf_f1: 0.8222\n",
      "Epoch 6/50\n",
      "4646/4646 [==============================] - 26s 5ms/step - loss: 0.2399 - accuracy: 0.9056 - tf_f1: 0.8286 - val_loss: 1.2545 - val_accuracy: 0.6250 - val_tf_f1: 0.8342\n",
      "Epoch 7/50\n",
      "4646/4646 [==============================] - 26s 5ms/step - loss: 0.2186 - accuracy: 0.9149 - tf_f1: 0.8394 - val_loss: 1.3507 - val_accuracy: 0.6022 - val_tf_f1: 0.8439\n",
      "Epoch 8/50\n",
      "4646/4646 [==============================] - 26s 5ms/step - loss: 0.2026 - accuracy: 0.9229 - tf_f1: 0.8481 - val_loss: 1.2542 - val_accuracy: 0.6943 - val_tf_f1: 0.8523\n",
      "Epoch 9/50\n",
      "4646/4646 [==============================] - 26s 5ms/step - loss: 0.1864 - accuracy: 0.9289 - tf_f1: 0.8561 - val_loss: 1.4227 - val_accuracy: 0.6268 - val_tf_f1: 0.8594\n",
      "Epoch 10/50\n",
      "4646/4646 [==============================] - 26s 5ms/step - loss: 0.1765 - accuracy: 0.9334 - tf_f1: 0.8625 - val_loss: 1.3064 - val_accuracy: 0.6885 - val_tf_f1: 0.8655\n",
      "Epoch 11/50\n",
      "4646/4646 [==============================] - 26s 5ms/step - loss: 0.1629 - accuracy: 0.9394 - tf_f1: 0.8685 - val_loss: 1.4067 - val_accuracy: 0.6833 - val_tf_f1: 0.8711\n",
      "Epoch 12/50\n",
      "4646/4646 [==============================] - 26s 5ms/step - loss: 0.1561 - accuracy: 0.9428 - tf_f1: 0.8737 - val_loss: 1.3983 - val_accuracy: 0.7160 - val_tf_f1: 0.8761\n",
      "Epoch 13/50\n",
      "4646/4646 [==============================] - 26s 5ms/step - loss: 0.1481 - accuracy: 0.9456 - tf_f1: 0.8784 - val_loss: 1.5384 - val_accuracy: 0.6494 - val_tf_f1: 0.8805\n",
      "Epoch 14/50\n",
      "4646/4646 [==============================] - 26s 5ms/step - loss: 0.1409 - accuracy: 0.9490 - tf_f1: 0.8824 - val_loss: 1.7343 - val_accuracy: 0.6011 - val_tf_f1: 0.8842\n",
      "Epoch 15/50\n",
      "4646/4646 [==============================] - 26s 5ms/step - loss: 0.1358 - accuracy: 0.9512 - tf_f1: 0.8858 - val_loss: 1.5130 - val_accuracy: 0.6936 - val_tf_f1: 0.8876\n",
      "Epoch 16/50\n",
      "4646/4646 [==============================] - 25s 5ms/step - loss: 0.1297 - accuracy: 0.9533 - tf_f1: 0.8893 - val_loss: 1.5970 - val_accuracy: 0.6605 - val_tf_f1: 0.8908\n",
      "Epoch 17/50\n",
      "4646/4646 [==============================] - 25s 5ms/step - loss: 0.1286 - accuracy: 0.9536 - tf_f1: 0.8922 - val_loss: 1.6095 - val_accuracy: 0.6649 - val_tf_f1: 0.8936\n"
     ]
    },
    {
     "name": "stderr",
     "output_type": "stream",
     "text": [
      "\u001b[32m[I 2022-09-08 07:49:17,670]\u001b[0m Trial 49 pruned. Trial was pruned at epoch 16.\u001b[0m\n"
     ]
    },
    {
     "name": "stdout",
     "output_type": "stream",
     "text": [
      "Epoch 1/50\n"
     ]
    },
    {
     "name": "stderr",
     "output_type": "stream",
     "text": [
      "c:\\Users\\Lim Jia Hui\\Desktop\\Python\\lib\\site-packages\\tensorflow\\python\\framework\\indexed_slices.py:444: UserWarning: Converting sparse IndexedSlices(IndexedSlices(indices=Tensor(\"gradient_tape/sequential_50/dense_100/embedding_lookup_sparse/Reshape_1:0\", shape=(None,), dtype=int32), values=Tensor(\"gradient_tape/sequential_50/dense_100/embedding_lookup_sparse/Reshape:0\", shape=(None, 48), dtype=float32), dense_shape=Tensor(\"gradient_tape/sequential_50/dense_100/embedding_lookup_sparse/Cast:0\", shape=(2,), dtype=int32))) to a dense Tensor of unknown shape. This may consume a large amount of memory.\n",
      "  warnings.warn(\n"
     ]
    },
    {
     "name": "stdout",
     "output_type": "stream",
     "text": [
      "4646/4646 [==============================] - 26s 5ms/step - loss: 0.7949 - accuracy: 0.6693 - tf_f1: 0.5411 - val_loss: 1.0404 - val_accuracy: 0.6237 - val_tf_f1: 0.6653\n",
      "Epoch 2/50\n",
      "4646/4646 [==============================] - 26s 5ms/step - loss: 0.4597 - accuracy: 0.8115 - tf_f1: 0.7073 - val_loss: 1.2874 - val_accuracy: 0.4932 - val_tf_f1: 0.7344\n"
     ]
    },
    {
     "name": "stderr",
     "output_type": "stream",
     "text": [
      "\u001b[32m[I 2022-09-08 07:50:09,501]\u001b[0m Trial 50 pruned. Trial was pruned at epoch 1.\u001b[0m\n"
     ]
    },
    {
     "name": "stdout",
     "output_type": "stream",
     "text": [
      "Epoch 1/50\n"
     ]
    },
    {
     "name": "stderr",
     "output_type": "stream",
     "text": [
      "c:\\Users\\Lim Jia Hui\\Desktop\\Python\\lib\\site-packages\\tensorflow\\python\\framework\\indexed_slices.py:444: UserWarning: Converting sparse IndexedSlices(IndexedSlices(indices=Tensor(\"gradient_tape/sequential_51/dense_102/embedding_lookup_sparse/Reshape_1:0\", shape=(None,), dtype=int32), values=Tensor(\"gradient_tape/sequential_51/dense_102/embedding_lookup_sparse/Reshape:0\", shape=(None, 50), dtype=float32), dense_shape=Tensor(\"gradient_tape/sequential_51/dense_102/embedding_lookup_sparse/Cast:0\", shape=(2,), dtype=int32))) to a dense Tensor of unknown shape. This may consume a large amount of memory.\n",
      "  warnings.warn(\n"
     ]
    },
    {
     "name": "stdout",
     "output_type": "stream",
     "text": [
      "4646/4646 [==============================] - 26s 5ms/step - loss: 0.7644 - accuracy: 0.6837 - tf_f1: 0.5556 - val_loss: 0.9139 - val_accuracy: 0.6439 - val_tf_f1: 0.6803\n",
      "Epoch 2/50\n",
      "4646/4646 [==============================] - 25s 5ms/step - loss: 0.4165 - accuracy: 0.8280 - tf_f1: 0.7226 - val_loss: 0.9755 - val_accuracy: 0.6618 - val_tf_f1: 0.7527\n",
      "Epoch 3/50\n",
      "4646/4646 [==============================] - 25s 5ms/step - loss: 0.3276 - accuracy: 0.8658 - tf_f1: 0.7727 - val_loss: 1.1151 - val_accuracy: 0.6184 - val_tf_f1: 0.7881\n",
      "Epoch 4/50\n",
      "4646/4646 [==============================] - 25s 5ms/step - loss: 0.2796 - accuracy: 0.8865 - tf_f1: 0.8001 - val_loss: 1.0807 - val_accuracy: 0.6699 - val_tf_f1: 0.8106\n",
      "Epoch 5/50\n",
      "4646/4646 [==============================] - 26s 5ms/step - loss: 0.2440 - accuracy: 0.9033 - tf_f1: 0.8196 - val_loss: 1.2130 - val_accuracy: 0.6603 - val_tf_f1: 0.8274\n",
      "Epoch 6/50\n",
      "4646/4646 [==============================] - 25s 5ms/step - loss: 0.2178 - accuracy: 0.9154 - tf_f1: 0.8343 - val_loss: 1.1522 - val_accuracy: 0.6963 - val_tf_f1: 0.8405\n",
      "Epoch 7/50\n",
      "4646/4646 [==============================] - 26s 5ms/step - loss: 0.1974 - accuracy: 0.9247 - tf_f1: 0.8461 - val_loss: 1.3718 - val_accuracy: 0.6144 - val_tf_f1: 0.8508\n",
      "Epoch 8/50\n",
      "4646/4646 [==============================] - 25s 5ms/step - loss: 0.1817 - accuracy: 0.9315 - tf_f1: 0.8551 - val_loss: 1.3027 - val_accuracy: 0.6779 - val_tf_f1: 0.8593\n",
      "Epoch 9/50\n",
      "4646/4646 [==============================] - 25s 5ms/step - loss: 0.1681 - accuracy: 0.9379 - tf_f1: 0.8632 - val_loss: 1.5111 - val_accuracy: 0.6182 - val_tf_f1: 0.8665\n",
      "Epoch 10/50\n",
      "4646/4646 [==============================] - 26s 5ms/step - loss: 0.1568 - accuracy: 0.9420 - tf_f1: 0.8696 - val_loss: 1.3538 - val_accuracy: 0.7170 - val_tf_f1: 0.8727\n",
      "Epoch 11/50\n",
      "4646/4646 [==============================] - 25s 5ms/step - loss: 0.1452 - accuracy: 0.9467 - tf_f1: 0.8757 - val_loss: 1.5222 - val_accuracy: 0.6393 - val_tf_f1: 0.8782\n",
      "Epoch 12/50\n",
      "4646/4646 [==============================] - 25s 5ms/step - loss: 0.1388 - accuracy: 0.9491 - tf_f1: 0.8807 - val_loss: 1.6020 - val_accuracy: 0.6429 - val_tf_f1: 0.8829\n",
      "Epoch 13/50\n",
      "4646/4646 [==============================] - 25s 5ms/step - loss: 0.1337 - accuracy: 0.9515 - tf_f1: 0.8850 - val_loss: 1.4715 - val_accuracy: 0.7088 - val_tf_f1: 0.8871\n",
      "Epoch 14/50\n",
      "4646/4646 [==============================] - 26s 5ms/step - loss: 0.1258 - accuracy: 0.9547 - tf_f1: 0.8891 - val_loss: 1.5840 - val_accuracy: 0.6463 - val_tf_f1: 0.8909\n",
      "Epoch 15/50\n",
      "4646/4646 [==============================] - 25s 5ms/step - loss: 0.1220 - accuracy: 0.9565 - tf_f1: 0.8926 - val_loss: 1.5295 - val_accuracy: 0.7047 - val_tf_f1: 0.8943\n",
      "Epoch 16/50\n",
      "4646/4646 [==============================] - 26s 5ms/step - loss: 0.1179 - accuracy: 0.9580 - tf_f1: 0.8959 - val_loss: 1.5962 - val_accuracy: 0.6728 - val_tf_f1: 0.8974\n",
      "Epoch 17/50\n",
      "4646/4646 [==============================] - 25s 5ms/step - loss: 0.1134 - accuracy: 0.9597 - tf_f1: 0.8988 - val_loss: 1.7681 - val_accuracy: 0.6222 - val_tf_f1: 0.9001\n"
     ]
    },
    {
     "name": "stderr",
     "output_type": "stream",
     "text": [
      "\u001b[32m[I 2022-09-08 07:57:23,130]\u001b[0m Trial 51 pruned. Trial was pruned at epoch 16.\u001b[0m\n"
     ]
    },
    {
     "name": "stdout",
     "output_type": "stream",
     "text": [
      "Epoch 1/50\n"
     ]
    },
    {
     "name": "stderr",
     "output_type": "stream",
     "text": [
      "c:\\Users\\Lim Jia Hui\\Desktop\\Python\\lib\\site-packages\\tensorflow\\python\\framework\\indexed_slices.py:444: UserWarning: Converting sparse IndexedSlices(IndexedSlices(indices=Tensor(\"gradient_tape/sequential_52/dense_104/embedding_lookup_sparse/Reshape_1:0\", shape=(None,), dtype=int32), values=Tensor(\"gradient_tape/sequential_52/dense_104/embedding_lookup_sparse/Reshape:0\", shape=(None, 42), dtype=float32), dense_shape=Tensor(\"gradient_tape/sequential_52/dense_104/embedding_lookup_sparse/Cast:0\", shape=(2,), dtype=int32))) to a dense Tensor of unknown shape. This may consume a large amount of memory.\n",
      "  warnings.warn(\n"
     ]
    },
    {
     "name": "stdout",
     "output_type": "stream",
     "text": [
      "4646/4646 [==============================] - 26s 5ms/step - loss: 0.8010 - accuracy: 0.6699 - tf_f1: 0.5373 - val_loss: 1.0767 - val_accuracy: 0.5002 - val_tf_f1: 0.6620\n",
      "Epoch 2/50\n",
      "4646/4646 [==============================] - 25s 5ms/step - loss: 0.4601 - accuracy: 0.8127 - tf_f1: 0.7028 - val_loss: 1.0055 - val_accuracy: 0.6395 - val_tf_f1: 0.7337\n"
     ]
    },
    {
     "name": "stderr",
     "output_type": "stream",
     "text": [
      "\u001b[32m[I 2022-09-08 07:58:14,769]\u001b[0m Trial 52 pruned. Trial was pruned at epoch 1.\u001b[0m\n"
     ]
    },
    {
     "name": "stdout",
     "output_type": "stream",
     "text": [
      "Epoch 1/50\n"
     ]
    },
    {
     "name": "stderr",
     "output_type": "stream",
     "text": [
      "c:\\Users\\Lim Jia Hui\\Desktop\\Python\\lib\\site-packages\\tensorflow\\python\\framework\\indexed_slices.py:444: UserWarning: Converting sparse IndexedSlices(IndexedSlices(indices=Tensor(\"gradient_tape/sequential_53/dense_106/embedding_lookup_sparse/Reshape_1:0\", shape=(None,), dtype=int32), values=Tensor(\"gradient_tape/sequential_53/dense_106/embedding_lookup_sparse/Reshape:0\", shape=(None, 46), dtype=float32), dense_shape=Tensor(\"gradient_tape/sequential_53/dense_106/embedding_lookup_sparse/Cast:0\", shape=(2,), dtype=int32))) to a dense Tensor of unknown shape. This may consume a large amount of memory.\n",
      "  warnings.warn(\n"
     ]
    },
    {
     "name": "stdout",
     "output_type": "stream",
     "text": [
      "4646/4646 [==============================] - 26s 5ms/step - loss: 0.7936 - accuracy: 0.6728 - tf_f1: 0.5405 - val_loss: 1.0586 - val_accuracy: 0.5882 - val_tf_f1: 0.6676\n",
      "Epoch 2/50\n",
      "4646/4646 [==============================] - 25s 5ms/step - loss: 0.4280 - accuracy: 0.8257 - tf_f1: 0.7119 - val_loss: 1.0412 - val_accuracy: 0.6204 - val_tf_f1: 0.7436\n",
      "Epoch 3/50\n",
      "4646/4646 [==============================] - 25s 5ms/step - loss: 0.3368 - accuracy: 0.8628 - tf_f1: 0.7644 - val_loss: 1.0809 - val_accuracy: 0.6200 - val_tf_f1: 0.7808\n",
      "Epoch 4/50\n",
      "4646/4646 [==============================] - 25s 5ms/step - loss: 0.2890 - accuracy: 0.8831 - tf_f1: 0.7935 - val_loss: 1.3060 - val_accuracy: 0.5504 - val_tf_f1: 0.8036\n",
      "Epoch 5/50\n",
      "4646/4646 [==============================] - 25s 5ms/step - loss: 0.2582 - accuracy: 0.8976 - tf_f1: 0.8121 - val_loss: 1.1477 - val_accuracy: 0.6565 - val_tf_f1: 0.8201\n"
     ]
    },
    {
     "name": "stderr",
     "output_type": "stream",
     "text": [
      "\u001b[32m[I 2022-09-08 08:00:22,462]\u001b[0m Trial 53 pruned. Trial was pruned at epoch 4.\u001b[0m\n"
     ]
    },
    {
     "name": "stdout",
     "output_type": "stream",
     "text": [
      "Epoch 1/50\n"
     ]
    },
    {
     "name": "stderr",
     "output_type": "stream",
     "text": [
      "c:\\Users\\Lim Jia Hui\\Desktop\\Python\\lib\\site-packages\\tensorflow\\python\\framework\\indexed_slices.py:444: UserWarning: Converting sparse IndexedSlices(IndexedSlices(indices=Tensor(\"gradient_tape/sequential_54/dense_108/embedding_lookup_sparse/Reshape_1:0\", shape=(None,), dtype=int32), values=Tensor(\"gradient_tape/sequential_54/dense_108/embedding_lookup_sparse/Reshape:0\", shape=(None, 49), dtype=float32), dense_shape=Tensor(\"gradient_tape/sequential_54/dense_108/embedding_lookup_sparse/Cast:0\", shape=(2,), dtype=int32))) to a dense Tensor of unknown shape. This may consume a large amount of memory.\n",
      "  warnings.warn(\n"
     ]
    },
    {
     "name": "stdout",
     "output_type": "stream",
     "text": [
      "4646/4646 [==============================] - 26s 5ms/step - loss: 0.8150 - accuracy: 0.6662 - tf_f1: 0.5313 - val_loss: 0.9766 - val_accuracy: 0.6089 - val_tf_f1: 0.6615\n",
      "Epoch 2/50\n",
      "4646/4646 [==============================] - 25s 5ms/step - loss: 0.4476 - accuracy: 0.8192 - tf_f1: 0.7060 - val_loss: 1.2630 - val_accuracy: 0.4504 - val_tf_f1: 0.7358\n"
     ]
    },
    {
     "name": "stderr",
     "output_type": "stream",
     "text": [
      "\u001b[32m[I 2022-09-08 08:01:14,550]\u001b[0m Trial 54 pruned. Trial was pruned at epoch 1.\u001b[0m\n"
     ]
    },
    {
     "name": "stdout",
     "output_type": "stream",
     "text": [
      "Epoch 1/50\n"
     ]
    },
    {
     "name": "stderr",
     "output_type": "stream",
     "text": [
      "c:\\Users\\Lim Jia Hui\\Desktop\\Python\\lib\\site-packages\\tensorflow\\python\\framework\\indexed_slices.py:444: UserWarning: Converting sparse IndexedSlices(IndexedSlices(indices=Tensor(\"gradient_tape/sequential_55/dense_110/embedding_lookup_sparse/Reshape_1:0\", shape=(None,), dtype=int32), values=Tensor(\"gradient_tape/sequential_55/dense_110/embedding_lookup_sparse/Reshape:0\", shape=(None, 44), dtype=float32), dense_shape=Tensor(\"gradient_tape/sequential_55/dense_110/embedding_lookup_sparse/Cast:0\", shape=(2,), dtype=int32))) to a dense Tensor of unknown shape. This may consume a large amount of memory.\n",
      "  warnings.warn(\n"
     ]
    },
    {
     "name": "stdout",
     "output_type": "stream",
     "text": [
      "4646/4646 [==============================] - 26s 5ms/step - loss: 0.7784 - accuracy: 0.6796 - tf_f1: 0.5478 - val_loss: 0.8786 - val_accuracy: 0.6929 - val_tf_f1: 0.6772\n",
      "Epoch 2/50\n",
      "4646/4646 [==============================] - 26s 5ms/step - loss: 0.4209 - accuracy: 0.8276 - tf_f1: 0.7210 - val_loss: 0.9739 - val_accuracy: 0.6580 - val_tf_f1: 0.7514\n",
      "Epoch 3/50\n",
      "4646/4646 [==============================] - 25s 5ms/step - loss: 0.3306 - accuracy: 0.8648 - tf_f1: 0.7714 - val_loss: 1.1656 - val_accuracy: 0.6246 - val_tf_f1: 0.7870\n",
      "Epoch 4/50\n",
      "4646/4646 [==============================] - 26s 5ms/step - loss: 0.2844 - accuracy: 0.8839 - tf_f1: 0.7987 - val_loss: 1.2873 - val_accuracy: 0.5436 - val_tf_f1: 0.8083\n",
      "Epoch 5/50\n",
      "4646/4646 [==============================] - 26s 5ms/step - loss: 0.2523 - accuracy: 0.8996 - tf_f1: 0.8165 - val_loss: 1.2487 - val_accuracy: 0.5906 - val_tf_f1: 0.8239\n",
      "Epoch 6/50\n",
      "4646/4646 [==============================] - 25s 5ms/step - loss: 0.2286 - accuracy: 0.9110 - tf_f1: 0.8303 - val_loss: 1.2245 - val_accuracy: 0.6472 - val_tf_f1: 0.8363\n",
      "Epoch 7/50\n",
      "4646/4646 [==============================] - 26s 5ms/step - loss: 0.2078 - accuracy: 0.9207 - tf_f1: 0.8418 - val_loss: 1.2124 - val_accuracy: 0.6664 - val_tf_f1: 0.8468\n",
      "Epoch 8/50\n",
      "4646/4646 [==============================] - 26s 5ms/step - loss: 0.1937 - accuracy: 0.9266 - tf_f1: 0.8513 - val_loss: 1.4738 - val_accuracy: 0.5963 - val_tf_f1: 0.8551\n",
      "Epoch 9/50\n",
      "4646/4646 [==============================] - 26s 5ms/step - loss: 0.1807 - accuracy: 0.9331 - tf_f1: 0.8587 - val_loss: 1.3357 - val_accuracy: 0.6592 - val_tf_f1: 0.8621\n",
      "Epoch 10/50\n",
      "4646/4646 [==============================] - 26s 5ms/step - loss: 0.1664 - accuracy: 0.9386 - tf_f1: 0.8654 - val_loss: 1.3433 - val_accuracy: 0.6805 - val_tf_f1: 0.8685\n",
      "Epoch 11/50\n",
      "4646/4646 [==============================] - 25s 5ms/step - loss: 0.1577 - accuracy: 0.9423 - tf_f1: 0.8714 - val_loss: 1.4313 - val_accuracy: 0.6466 - val_tf_f1: 0.8739\n",
      "Epoch 12/50\n",
      "4646/4646 [==============================] - 26s 5ms/step - loss: 0.1513 - accuracy: 0.9453 - tf_f1: 0.8764 - val_loss: 1.4276 - val_accuracy: 0.6721 - val_tf_f1: 0.8787\n",
      "Epoch 13/50\n",
      "4646/4646 [==============================] - 26s 5ms/step - loss: 0.1422 - accuracy: 0.9491 - tf_f1: 0.8810 - val_loss: 1.4693 - val_accuracy: 0.6718 - val_tf_f1: 0.8830\n",
      "Epoch 14/50\n",
      "4646/4646 [==============================] - 26s 5ms/step - loss: 0.1342 - accuracy: 0.9525 - tf_f1: 0.8851 - val_loss: 1.4803 - val_accuracy: 0.6732 - val_tf_f1: 0.8870\n",
      "Epoch 15/50\n",
      "4646/4646 [==============================] - 26s 5ms/step - loss: 0.1288 - accuracy: 0.9543 - tf_f1: 0.8888 - val_loss: 1.5480 - val_accuracy: 0.6568 - val_tf_f1: 0.8905\n",
      "Epoch 16/50\n",
      "4646/4646 [==============================] - 26s 5ms/step - loss: 0.1268 - accuracy: 0.9553 - tf_f1: 0.8921 - val_loss: 1.5675 - val_accuracy: 0.7159 - val_tf_f1: 0.8937\n",
      "Epoch 17/50\n",
      "4646/4646 [==============================] - 26s 5ms/step - loss: 0.1207 - accuracy: 0.9573 - tf_f1: 0.8952 - val_loss: 1.6544 - val_accuracy: 0.6379 - val_tf_f1: 0.8965\n"
     ]
    },
    {
     "name": "stderr",
     "output_type": "stream",
     "text": [
      "\u001b[32m[I 2022-09-08 08:08:30,665]\u001b[0m Trial 55 pruned. Trial was pruned at epoch 16.\u001b[0m\n"
     ]
    },
    {
     "name": "stdout",
     "output_type": "stream",
     "text": [
      "Epoch 1/50\n"
     ]
    },
    {
     "name": "stderr",
     "output_type": "stream",
     "text": [
      "c:\\Users\\Lim Jia Hui\\Desktop\\Python\\lib\\site-packages\\tensorflow\\python\\framework\\indexed_slices.py:444: UserWarning: Converting sparse IndexedSlices(IndexedSlices(indices=Tensor(\"gradient_tape/sequential_56/dense_112/embedding_lookup_sparse/Reshape_1:0\", shape=(None,), dtype=int32), values=Tensor(\"gradient_tape/sequential_56/dense_112/embedding_lookup_sparse/Reshape:0\", shape=(None, 47), dtype=float32), dense_shape=Tensor(\"gradient_tape/sequential_56/dense_112/embedding_lookup_sparse/Cast:0\", shape=(2,), dtype=int32))) to a dense Tensor of unknown shape. This may consume a large amount of memory.\n",
      "  warnings.warn(\n"
     ]
    },
    {
     "name": "stdout",
     "output_type": "stream",
     "text": [
      "4646/4646 [==============================] - 26s 5ms/step - loss: 0.7830 - accuracy: 0.6782 - tf_f1: 0.5521 - val_loss: 1.3140 - val_accuracy: 0.4882 - val_tf_f1: 0.6702\n",
      "Epoch 2/50\n",
      "4646/4646 [==============================] - 26s 5ms/step - loss: 0.4263 - accuracy: 0.8259 - tf_f1: 0.7118 - val_loss: 0.9994 - val_accuracy: 0.6635 - val_tf_f1: 0.7438\n",
      "Epoch 3/50\n",
      "4646/4646 [==============================] - 26s 5ms/step - loss: 0.3329 - accuracy: 0.8632 - tf_f1: 0.7650 - val_loss: 1.2135 - val_accuracy: 0.5548 - val_tf_f1: 0.7809\n",
      "Epoch 4/50\n",
      "4646/4646 [==============================] - 25s 5ms/step - loss: 0.2816 - accuracy: 0.8851 - tf_f1: 0.7932 - val_loss: 1.2221 - val_accuracy: 0.5953 - val_tf_f1: 0.8040\n",
      "Epoch 5/50\n",
      "4646/4646 [==============================] - 26s 5ms/step - loss: 0.2507 - accuracy: 0.9005 - tf_f1: 0.8130 - val_loss: 1.1114 - val_accuracy: 0.6761 - val_tf_f1: 0.8213\n"
     ]
    },
    {
     "name": "stderr",
     "output_type": "stream",
     "text": [
      "\u001b[32m[I 2022-09-08 08:10:39,390]\u001b[0m Trial 56 pruned. Trial was pruned at epoch 4.\u001b[0m\n"
     ]
    },
    {
     "name": "stdout",
     "output_type": "stream",
     "text": [
      "Epoch 1/50\n"
     ]
    },
    {
     "name": "stderr",
     "output_type": "stream",
     "text": [
      "c:\\Users\\Lim Jia Hui\\Desktop\\Python\\lib\\site-packages\\tensorflow\\python\\framework\\indexed_slices.py:444: UserWarning: Converting sparse IndexedSlices(IndexedSlices(indices=Tensor(\"gradient_tape/sequential_57/dense_114/embedding_lookup_sparse/Reshape_1:0\", shape=(None,), dtype=int32), values=Tensor(\"gradient_tape/sequential_57/dense_114/embedding_lookup_sparse/Reshape:0\", shape=(None, 38), dtype=float32), dense_shape=Tensor(\"gradient_tape/sequential_57/dense_114/embedding_lookup_sparse/Cast:0\", shape=(2,), dtype=int32))) to a dense Tensor of unknown shape. This may consume a large amount of memory.\n",
      "  warnings.warn(\n"
     ]
    },
    {
     "name": "stdout",
     "output_type": "stream",
     "text": [
      "4646/4646 [==============================] - 26s 5ms/step - loss: 0.8646 - accuracy: 0.6504 - tf_f1: 0.5126 - val_loss: 0.9291 - val_accuracy: 0.6342 - val_tf_f1: 0.6451\n",
      "Epoch 2/50\n",
      "4646/4646 [==============================] - 25s 5ms/step - loss: 0.4690 - accuracy: 0.8126 - tf_f1: 0.6930 - val_loss: 0.9483 - val_accuracy: 0.6445 - val_tf_f1: 0.7270\n"
     ]
    },
    {
     "name": "stderr",
     "output_type": "stream",
     "text": [
      "\u001b[32m[I 2022-09-08 08:11:31,326]\u001b[0m Trial 57 pruned. Trial was pruned at epoch 1.\u001b[0m\n"
     ]
    },
    {
     "name": "stdout",
     "output_type": "stream",
     "text": [
      "Epoch 1/50\n"
     ]
    },
    {
     "name": "stderr",
     "output_type": "stream",
     "text": [
      "c:\\Users\\Lim Jia Hui\\Desktop\\Python\\lib\\site-packages\\tensorflow\\python\\framework\\indexed_slices.py:444: UserWarning: Converting sparse IndexedSlices(IndexedSlices(indices=Tensor(\"gradient_tape/sequential_58/dense_116/embedding_lookup_sparse/Reshape_1:0\", shape=(None,), dtype=int32), values=Tensor(\"gradient_tape/sequential_58/dense_116/embedding_lookup_sparse/Reshape:0\", shape=(None, 45), dtype=float32), dense_shape=Tensor(\"gradient_tape/sequential_58/dense_116/embedding_lookup_sparse/Cast:0\", shape=(2,), dtype=int32))) to a dense Tensor of unknown shape. This may consume a large amount of memory.\n",
      "  warnings.warn(\n"
     ]
    },
    {
     "name": "stdout",
     "output_type": "stream",
     "text": [
      "4646/4646 [==============================] - 27s 6ms/step - loss: 0.8188 - accuracy: 0.6665 - tf_f1: 0.5391 - val_loss: 1.0057 - val_accuracy: 0.6267 - val_tf_f1: 0.6635\n",
      "Epoch 2/50\n",
      "4646/4646 [==============================] - 26s 5ms/step - loss: 0.4354 - accuracy: 0.8238 - tf_f1: 0.7089 - val_loss: 1.0763 - val_accuracy: 0.5771 - val_tf_f1: 0.7404\n"
     ]
    },
    {
     "name": "stderr",
     "output_type": "stream",
     "text": [
      "\u001b[32m[I 2022-09-08 08:12:24,626]\u001b[0m Trial 58 pruned. Trial was pruned at epoch 1.\u001b[0m\n"
     ]
    },
    {
     "name": "stdout",
     "output_type": "stream",
     "text": [
      "Epoch 1/50\n"
     ]
    },
    {
     "name": "stderr",
     "output_type": "stream",
     "text": [
      "c:\\Users\\Lim Jia Hui\\Desktop\\Python\\lib\\site-packages\\tensorflow\\python\\framework\\indexed_slices.py:444: UserWarning: Converting sparse IndexedSlices(IndexedSlices(indices=Tensor(\"gradient_tape/sequential_59/dense_118/embedding_lookup_sparse/Reshape_1:0\", shape=(None,), dtype=int32), values=Tensor(\"gradient_tape/sequential_59/dense_118/embedding_lookup_sparse/Reshape:0\", shape=(None, 47), dtype=float32), dense_shape=Tensor(\"gradient_tape/sequential_59/dense_118/embedding_lookup_sparse/Cast:0\", shape=(2,), dtype=int32))) to a dense Tensor of unknown shape. This may consume a large amount of memory.\n",
      "  warnings.warn(\n"
     ]
    },
    {
     "name": "stdout",
     "output_type": "stream",
     "text": [
      "4646/4646 [==============================] - 27s 5ms/step - loss: 1.1073 - accuracy: 0.5647 - tf_f1: 0.4399 - val_loss: 1.0589 - val_accuracy: 0.5703 - val_tf_f1: 0.5568\n",
      "Epoch 2/50\n",
      "4646/4646 [==============================] - 25s 5ms/step - loss: 0.6381 - accuracy: 0.7579 - tf_f1: 0.6130 - val_loss: 0.9045 - val_accuracy: 0.6437 - val_tf_f1: 0.6549\n"
     ]
    },
    {
     "name": "stderr",
     "output_type": "stream",
     "text": [
      "\u001b[32m[I 2022-09-08 08:13:17,147]\u001b[0m Trial 59 pruned. Trial was pruned at epoch 1.\u001b[0m\n"
     ]
    },
    {
     "name": "stdout",
     "output_type": "stream",
     "text": [
      "Epoch 1/50\n"
     ]
    },
    {
     "name": "stderr",
     "output_type": "stream",
     "text": [
      "c:\\Users\\Lim Jia Hui\\Desktop\\Python\\lib\\site-packages\\tensorflow\\python\\framework\\indexed_slices.py:444: UserWarning: Converting sparse IndexedSlices(IndexedSlices(indices=Tensor(\"gradient_tape/sequential_60/dense_120/embedding_lookup_sparse/Reshape_1:0\", shape=(None,), dtype=int32), values=Tensor(\"gradient_tape/sequential_60/dense_120/embedding_lookup_sparse/Reshape:0\", shape=(None, 41), dtype=float32), dense_shape=Tensor(\"gradient_tape/sequential_60/dense_120/embedding_lookup_sparse/Cast:0\", shape=(2,), dtype=int32))) to a dense Tensor of unknown shape. This may consume a large amount of memory.\n",
      "  warnings.warn(\n"
     ]
    },
    {
     "name": "stdout",
     "output_type": "stream",
     "text": [
      "4646/4646 [==============================] - 26s 5ms/step - loss: 0.7779 - accuracy: 0.6811 - tf_f1: 0.5527 - val_loss: 0.9907 - val_accuracy: 0.6312 - val_tf_f1: 0.6773\n",
      "Epoch 2/50\n",
      "4646/4646 [==============================] - 26s 5ms/step - loss: 0.4242 - accuracy: 0.8260 - tf_f1: 0.7195 - val_loss: 0.9707 - val_accuracy: 0.6548 - val_tf_f1: 0.7494\n",
      "Epoch 3/50\n",
      "4646/4646 [==============================] - 26s 5ms/step - loss: 0.3347 - accuracy: 0.8628 - tf_f1: 0.7693 - val_loss: 1.0441 - val_accuracy: 0.6689 - val_tf_f1: 0.7854\n",
      "Epoch 4/50\n",
      "4646/4646 [==============================] - 25s 5ms/step - loss: 0.2885 - accuracy: 0.8839 - tf_f1: 0.7979 - val_loss: 1.2038 - val_accuracy: 0.6000 - val_tf_f1: 0.8078\n",
      "Epoch 5/50\n",
      "4646/4646 [==============================] - 26s 5ms/step - loss: 0.2563 - accuracy: 0.8987 - tf_f1: 0.8163 - val_loss: 1.2803 - val_accuracy: 0.5797 - val_tf_f1: 0.8235\n",
      "Epoch 6/50\n",
      "4646/4646 [==============================] - 26s 5ms/step - loss: 0.2303 - accuracy: 0.9113 - tf_f1: 0.8299 - val_loss: 1.2272 - val_accuracy: 0.6375 - val_tf_f1: 0.8359\n",
      "Epoch 7/50\n",
      "4646/4646 [==============================] - 26s 5ms/step - loss: 0.2119 - accuracy: 0.9190 - tf_f1: 0.8413 - val_loss: 1.4097 - val_accuracy: 0.5740 - val_tf_f1: 0.8458\n",
      "Epoch 8/50\n",
      "4646/4646 [==============================] - 26s 5ms/step - loss: 0.1903 - accuracy: 0.9286 - tf_f1: 0.8501 - val_loss: 1.2770 - val_accuracy: 0.6771 - val_tf_f1: 0.8544\n",
      "Epoch 9/50\n",
      "4646/4646 [==============================] - 26s 5ms/step - loss: 0.1795 - accuracy: 0.9331 - tf_f1: 0.8582 - val_loss: 1.3199 - val_accuracy: 0.6760 - val_tf_f1: 0.8618\n",
      "Epoch 10/50\n",
      "4646/4646 [==============================] - 27s 6ms/step - loss: 0.1667 - accuracy: 0.9391 - tf_f1: 0.8652 - val_loss: 1.3421 - val_accuracy: 0.6807 - val_tf_f1: 0.8683\n",
      "Epoch 11/50\n",
      "4646/4646 [==============================] - 26s 5ms/step - loss: 0.1587 - accuracy: 0.9419 - tf_f1: 0.8712 - val_loss: 1.4048 - val_accuracy: 0.6811 - val_tf_f1: 0.8739\n",
      "Epoch 12/50\n",
      "4646/4646 [==============================] - 26s 5ms/step - loss: 0.1518 - accuracy: 0.9447 - tf_f1: 0.8764 - val_loss: 1.3959 - val_accuracy: 0.6922 - val_tf_f1: 0.8787\n",
      "Epoch 13/50\n",
      "4646/4646 [==============================] - 26s 5ms/step - loss: 0.1430 - accuracy: 0.9485 - tf_f1: 0.8810 - val_loss: 1.4521 - val_accuracy: 0.6931 - val_tf_f1: 0.8831\n",
      "Epoch 14/50\n",
      "4646/4646 [==============================] - 26s 5ms/step - loss: 0.1358 - accuracy: 0.9513 - tf_f1: 0.8851 - val_loss: 1.5329 - val_accuracy: 0.6835 - val_tf_f1: 0.8870\n",
      "Epoch 15/50\n",
      "4646/4646 [==============================] - 26s 5ms/step - loss: 0.1326 - accuracy: 0.9526 - tf_f1: 0.8887 - val_loss: 1.5840 - val_accuracy: 0.6805 - val_tf_f1: 0.8904\n",
      "Epoch 16/50\n",
      "4646/4646 [==============================] - 26s 5ms/step - loss: 0.1277 - accuracy: 0.9542 - tf_f1: 0.8920 - val_loss: 1.4802 - val_accuracy: 0.6954 - val_tf_f1: 0.8935\n",
      "Epoch 17/50\n",
      "4646/4646 [==============================] - 25s 5ms/step - loss: 0.1224 - accuracy: 0.9560 - tf_f1: 0.8950 - val_loss: 1.5772 - val_accuracy: 0.6518 - val_tf_f1: 0.8964\n"
     ]
    },
    {
     "name": "stderr",
     "output_type": "stream",
     "text": [
      "\u001b[32m[I 2022-09-08 08:20:34,631]\u001b[0m Trial 60 pruned. Trial was pruned at epoch 16.\u001b[0m\n"
     ]
    },
    {
     "name": "stdout",
     "output_type": "stream",
     "text": [
      "Epoch 1/50\n"
     ]
    },
    {
     "name": "stderr",
     "output_type": "stream",
     "text": [
      "c:\\Users\\Lim Jia Hui\\Desktop\\Python\\lib\\site-packages\\tensorflow\\python\\framework\\indexed_slices.py:444: UserWarning: Converting sparse IndexedSlices(IndexedSlices(indices=Tensor(\"gradient_tape/sequential_61/dense_122/embedding_lookup_sparse/Reshape_1:0\", shape=(None,), dtype=int32), values=Tensor(\"gradient_tape/sequential_61/dense_122/embedding_lookup_sparse/Reshape:0\", shape=(None, 32), dtype=float32), dense_shape=Tensor(\"gradient_tape/sequential_61/dense_122/embedding_lookup_sparse/Cast:0\", shape=(2,), dtype=int32))) to a dense Tensor of unknown shape. This may consume a large amount of memory.\n",
      "  warnings.warn(\n"
     ]
    },
    {
     "name": "stdout",
     "output_type": "stream",
     "text": [
      "4646/4646 [==============================] - 26s 5ms/step - loss: 0.7959 - accuracy: 0.6733 - tf_f1: 0.5430 - val_loss: 0.8841 - val_accuracy: 0.6595 - val_tf_f1: 0.6706\n",
      "Epoch 2/50\n",
      "4646/4646 [==============================] - 25s 5ms/step - loss: 0.4441 - accuracy: 0.8190 - tf_f1: 0.7135 - val_loss: 1.0446 - val_accuracy: 0.6071 - val_tf_f1: 0.7428\n",
      "Epoch 3/50\n",
      "4646/4646 [==============================] - 26s 5ms/step - loss: 0.3630 - accuracy: 0.8527 - tf_f1: 0.7618 - val_loss: 1.0458 - val_accuracy: 0.6543 - val_tf_f1: 0.7772\n",
      "Epoch 4/50\n",
      "4646/4646 [==============================] - 26s 5ms/step - loss: 0.3181 - accuracy: 0.8716 - tf_f1: 0.7890 - val_loss: 1.0803 - val_accuracy: 0.6547 - val_tf_f1: 0.7990\n",
      "Epoch 5/50\n",
      "4646/4646 [==============================] - 25s 5ms/step - loss: 0.2860 - accuracy: 0.8860 - tf_f1: 0.8074 - val_loss: 1.1487 - val_accuracy: 0.6675 - val_tf_f1: 0.8148\n"
     ]
    },
    {
     "name": "stderr",
     "output_type": "stream",
     "text": [
      "\u001b[32m[I 2022-09-08 08:22:43,137]\u001b[0m Trial 61 pruned. Trial was pruned at epoch 4.\u001b[0m\n"
     ]
    },
    {
     "name": "stdout",
     "output_type": "stream",
     "text": [
      "Epoch 1/50\n"
     ]
    },
    {
     "name": "stderr",
     "output_type": "stream",
     "text": [
      "c:\\Users\\Lim Jia Hui\\Desktop\\Python\\lib\\site-packages\\tensorflow\\python\\framework\\indexed_slices.py:444: UserWarning: Converting sparse IndexedSlices(IndexedSlices(indices=Tensor(\"gradient_tape/sequential_62/dense_124/embedding_lookup_sparse/Reshape_1:0\", shape=(None,), dtype=int32), values=Tensor(\"gradient_tape/sequential_62/dense_124/embedding_lookup_sparse/Reshape:0\", shape=(None, 49), dtype=float32), dense_shape=Tensor(\"gradient_tape/sequential_62/dense_124/embedding_lookup_sparse/Cast:0\", shape=(2,), dtype=int32))) to a dense Tensor of unknown shape. This may consume a large amount of memory.\n",
      "  warnings.warn(\n"
     ]
    },
    {
     "name": "stdout",
     "output_type": "stream",
     "text": [
      "4646/4646 [==============================] - 26s 5ms/step - loss: 0.7625 - accuracy: 0.6861 - tf_f1: 0.5608 - val_loss: 1.1102 - val_accuracy: 0.5691 - val_tf_f1: 0.6806\n",
      "Epoch 2/50\n",
      "4646/4646 [==============================] - 26s 5ms/step - loss: 0.4145 - accuracy: 0.8286 - tf_f1: 0.7216 - val_loss: 1.0379 - val_accuracy: 0.6336 - val_tf_f1: 0.7513\n",
      "Epoch 3/50\n",
      "4646/4646 [==============================] - 26s 5ms/step - loss: 0.3290 - accuracy: 0.8639 - tf_f1: 0.7709 - val_loss: 1.1079 - val_accuracy: 0.6401 - val_tf_f1: 0.7865\n",
      "Epoch 4/50\n",
      "4646/4646 [==============================] - 26s 5ms/step - loss: 0.2780 - accuracy: 0.8865 - tf_f1: 0.7988 - val_loss: 1.0280 - val_accuracy: 0.7118 - val_tf_f1: 0.8098\n",
      "Epoch 5/50\n",
      "4646/4646 [==============================] - 26s 5ms/step - loss: 0.2466 - accuracy: 0.9013 - tf_f1: 0.8189 - val_loss: 1.1042 - val_accuracy: 0.6836 - val_tf_f1: 0.8267\n",
      "Epoch 6/50\n",
      "4646/4646 [==============================] - 26s 5ms/step - loss: 0.2233 - accuracy: 0.9123 - tf_f1: 0.8335 - val_loss: 1.1181 - val_accuracy: 0.7172 - val_tf_f1: 0.8397\n",
      "Epoch 7/50\n",
      "4646/4646 [==============================] - 26s 5ms/step - loss: 0.2017 - accuracy: 0.9220 - tf_f1: 0.8453 - val_loss: 1.3717 - val_accuracy: 0.6211 - val_tf_f1: 0.8499\n",
      "Epoch 8/50\n",
      "4646/4646 [==============================] - 26s 5ms/step - loss: 0.1858 - accuracy: 0.9295 - tf_f1: 0.8542 - val_loss: 1.2117 - val_accuracy: 0.7085 - val_tf_f1: 0.8584\n",
      "Epoch 9/50\n",
      "4646/4646 [==============================] - 26s 5ms/step - loss: 0.1686 - accuracy: 0.9370 - tf_f1: 0.8624 - val_loss: 1.3234 - val_accuracy: 0.6626 - val_tf_f1: 0.8658\n",
      "Epoch 10/50\n",
      "4646/4646 [==============================] - 26s 5ms/step - loss: 0.1596 - accuracy: 0.9412 - tf_f1: 0.8691 - val_loss: 1.4061 - val_accuracy: 0.6661 - val_tf_f1: 0.8720\n",
      "Epoch 11/50\n",
      "4646/4646 [==============================] - 25s 5ms/step - loss: 0.1468 - accuracy: 0.9461 - tf_f1: 0.8749 - val_loss: 1.4224 - val_accuracy: 0.6585 - val_tf_f1: 0.8775\n",
      "Epoch 12/50\n",
      "4646/4646 [==============================] - 26s 5ms/step - loss: 0.1393 - accuracy: 0.9496 - tf_f1: 0.8800 - val_loss: 1.4331 - val_accuracy: 0.7061 - val_tf_f1: 0.8824\n",
      "Epoch 13/50\n",
      "4646/4646 [==============================] - 26s 5ms/step - loss: 0.1324 - accuracy: 0.9521 - tf_f1: 0.8847 - val_loss: 1.4220 - val_accuracy: 0.6909 - val_tf_f1: 0.8868\n",
      "Epoch 14/50\n",
      "4646/4646 [==============================] - 26s 5ms/step - loss: 0.1274 - accuracy: 0.9543 - tf_f1: 0.8888 - val_loss: 1.4885 - val_accuracy: 0.6749 - val_tf_f1: 0.8906\n",
      "Epoch 15/50\n",
      "4646/4646 [==============================] - 26s 5ms/step - loss: 0.1209 - accuracy: 0.9563 - tf_f1: 0.8924 - val_loss: 1.5862 - val_accuracy: 0.6627 - val_tf_f1: 0.8940\n",
      "Epoch 16/50\n",
      "4646/4646 [==============================] - 26s 5ms/step - loss: 0.1163 - accuracy: 0.9587 - tf_f1: 0.8956 - val_loss: 1.6369 - val_accuracy: 0.6884 - val_tf_f1: 0.8971\n",
      "Epoch 17/50\n",
      "4646/4646 [==============================] - 26s 5ms/step - loss: 0.1132 - accuracy: 0.9598 - tf_f1: 0.8986 - val_loss: 1.7226 - val_accuracy: 0.6236 - val_tf_f1: 0.8998\n"
     ]
    },
    {
     "name": "stderr",
     "output_type": "stream",
     "text": [
      "\u001b[32m[I 2022-09-08 08:29:59,654]\u001b[0m Trial 62 pruned. Trial was pruned at epoch 16.\u001b[0m\n"
     ]
    },
    {
     "name": "stdout",
     "output_type": "stream",
     "text": [
      "Epoch 1/50\n"
     ]
    },
    {
     "name": "stderr",
     "output_type": "stream",
     "text": [
      "c:\\Users\\Lim Jia Hui\\Desktop\\Python\\lib\\site-packages\\tensorflow\\python\\framework\\indexed_slices.py:444: UserWarning: Converting sparse IndexedSlices(IndexedSlices(indices=Tensor(\"gradient_tape/sequential_63/dense_126/embedding_lookup_sparse/Reshape_1:0\", shape=(None,), dtype=int32), values=Tensor(\"gradient_tape/sequential_63/dense_126/embedding_lookup_sparse/Reshape:0\", shape=(None, 25), dtype=float32), dense_shape=Tensor(\"gradient_tape/sequential_63/dense_126/embedding_lookup_sparse/Cast:0\", shape=(2,), dtype=int32))) to a dense Tensor of unknown shape. This may consume a large amount of memory.\n",
      "  warnings.warn(\n"
     ]
    },
    {
     "name": "stdout",
     "output_type": "stream",
     "text": [
      "4646/4646 [==============================] - 26s 5ms/step - loss: 0.8029 - accuracy: 0.6703 - tf_f1: 0.5426 - val_loss: 1.2856 - val_accuracy: 0.5123 - val_tf_f1: 0.6633\n",
      "Epoch 2/50\n",
      "4646/4646 [==============================] - 26s 5ms/step - loss: 0.4696 - accuracy: 0.8088 - tf_f1: 0.7018 - val_loss: 1.0945 - val_accuracy: 0.5657 - val_tf_f1: 0.7309\n"
     ]
    },
    {
     "name": "stderr",
     "output_type": "stream",
     "text": [
      "\u001b[32m[I 2022-09-08 08:30:51,875]\u001b[0m Trial 63 pruned. Trial was pruned at epoch 1.\u001b[0m\n"
     ]
    },
    {
     "name": "stdout",
     "output_type": "stream",
     "text": [
      "Epoch 1/50\n"
     ]
    },
    {
     "name": "stderr",
     "output_type": "stream",
     "text": [
      "c:\\Users\\Lim Jia Hui\\Desktop\\Python\\lib\\site-packages\\tensorflow\\python\\framework\\indexed_slices.py:444: UserWarning: Converting sparse IndexedSlices(IndexedSlices(indices=Tensor(\"gradient_tape/sequential_64/dense_128/embedding_lookup_sparse/Reshape_1:0\", shape=(None,), dtype=int32), values=Tensor(\"gradient_tape/sequential_64/dense_128/embedding_lookup_sparse/Reshape:0\", shape=(None, 19), dtype=float32), dense_shape=Tensor(\"gradient_tape/sequential_64/dense_128/embedding_lookup_sparse/Cast:0\", shape=(2,), dtype=int32))) to a dense Tensor of unknown shape. This may consume a large amount of memory.\n",
      "  warnings.warn(\n"
     ]
    },
    {
     "name": "stdout",
     "output_type": "stream",
     "text": [
      "4646/4646 [==============================] - 26s 5ms/step - loss: 1.3530 - accuracy: 0.4654 - tf_f1: 0.3743 - val_loss: 1.1268 - val_accuracy: 0.5807 - val_tf_f1: 0.4560\n",
      "Epoch 2/50\n",
      "4646/4646 [==============================] - 26s 5ms/step - loss: 0.9583 - accuracy: 0.6434 - tf_f1: 0.5047 - val_loss: 1.0398 - val_accuracy: 0.5943 - val_tf_f1: 0.5463\n"
     ]
    },
    {
     "name": "stderr",
     "output_type": "stream",
     "text": [
      "\u001b[32m[I 2022-09-08 08:31:44,005]\u001b[0m Trial 64 pruned. Trial was pruned at epoch 1.\u001b[0m\n"
     ]
    },
    {
     "name": "stdout",
     "output_type": "stream",
     "text": [
      "Epoch 1/50\n"
     ]
    },
    {
     "name": "stderr",
     "output_type": "stream",
     "text": [
      "c:\\Users\\Lim Jia Hui\\Desktop\\Python\\lib\\site-packages\\tensorflow\\python\\framework\\indexed_slices.py:444: UserWarning: Converting sparse IndexedSlices(IndexedSlices(indices=Tensor(\"gradient_tape/sequential_65/dense_130/embedding_lookup_sparse/Reshape_1:0\", shape=(None,), dtype=int32), values=Tensor(\"gradient_tape/sequential_65/dense_130/embedding_lookup_sparse/Reshape:0\", shape=(None, 44), dtype=float32), dense_shape=Tensor(\"gradient_tape/sequential_65/dense_130/embedding_lookup_sparse/Cast:0\", shape=(2,), dtype=int32))) to a dense Tensor of unknown shape. This may consume a large amount of memory.\n",
      "  warnings.warn(\n"
     ]
    },
    {
     "name": "stdout",
     "output_type": "stream",
     "text": [
      "4646/4646 [==============================] - 26s 5ms/step - loss: 0.7801 - accuracy: 0.6764 - tf_f1: 0.5414 - val_loss: 0.9894 - val_accuracy: 0.5997 - val_tf_f1: 0.6722\n",
      "Epoch 2/50\n",
      "4646/4646 [==============================] - 25s 5ms/step - loss: 0.4229 - accuracy: 0.8266 - tf_f1: 0.7158 - val_loss: 1.0608 - val_accuracy: 0.6450 - val_tf_f1: 0.7469\n",
      "Epoch 3/50\n",
      "4646/4646 [==============================] - 25s 5ms/step - loss: 0.3431 - accuracy: 0.8581 - tf_f1: 0.7662 - val_loss: 1.0981 - val_accuracy: 0.6356 - val_tf_f1: 0.7817\n",
      "Epoch 4/50\n",
      "4646/4646 [==============================] - 26s 5ms/step - loss: 0.2989 - accuracy: 0.8763 - tf_f1: 0.7933 - val_loss: 1.1312 - val_accuracy: 0.6547 - val_tf_f1: 0.8034\n",
      "Epoch 5/50\n",
      "4646/4646 [==============================] - 26s 5ms/step - loss: 0.2748 - accuracy: 0.8880 - tf_f1: 0.8116 - val_loss: 1.2568 - val_accuracy: 0.5968 - val_tf_f1: 0.8183\n"
     ]
    },
    {
     "name": "stderr",
     "output_type": "stream",
     "text": [
      "\u001b[32m[I 2022-09-08 08:33:51,843]\u001b[0m Trial 65 pruned. Trial was pruned at epoch 4.\u001b[0m\n"
     ]
    },
    {
     "name": "stdout",
     "output_type": "stream",
     "text": [
      "Epoch 1/50\n"
     ]
    },
    {
     "name": "stderr",
     "output_type": "stream",
     "text": [
      "c:\\Users\\Lim Jia Hui\\Desktop\\Python\\lib\\site-packages\\tensorflow\\python\\framework\\indexed_slices.py:444: UserWarning: Converting sparse IndexedSlices(IndexedSlices(indices=Tensor(\"gradient_tape/sequential_66/dense_132/embedding_lookup_sparse/Reshape_1:0\", shape=(None,), dtype=int32), values=Tensor(\"gradient_tape/sequential_66/dense_132/embedding_lookup_sparse/Reshape:0\", shape=(None, 49), dtype=float32), dense_shape=Tensor(\"gradient_tape/sequential_66/dense_132/embedding_lookup_sparse/Cast:0\", shape=(2,), dtype=int32))) to a dense Tensor of unknown shape. This may consume a large amount of memory.\n",
      "  warnings.warn(\n"
     ]
    },
    {
     "name": "stdout",
     "output_type": "stream",
     "text": [
      "4646/4646 [==============================] - 26s 5ms/step - loss: 0.7960 - accuracy: 0.6763 - tf_f1: 0.5494 - val_loss: 0.9590 - val_accuracy: 0.6379 - val_tf_f1: 0.6727\n",
      "Epoch 2/50\n",
      "4646/4646 [==============================] - 26s 5ms/step - loss: 0.4206 - accuracy: 0.8294 - tf_f1: 0.7174 - val_loss: 0.9057 - val_accuracy: 0.6887 - val_tf_f1: 0.7497\n",
      "Epoch 3/50\n",
      "4646/4646 [==============================] - 26s 6ms/step - loss: 0.3296 - accuracy: 0.8657 - tf_f1: 0.7706 - val_loss: 1.0939 - val_accuracy: 0.6188 - val_tf_f1: 0.7864\n",
      "Epoch 4/50\n",
      "4646/4646 [==============================] - 25s 5ms/step - loss: 0.2821 - accuracy: 0.8864 - tf_f1: 0.7986 - val_loss: 1.0148 - val_accuracy: 0.6851 - val_tf_f1: 0.8094\n",
      "Epoch 5/50\n",
      "4646/4646 [==============================] - 26s 6ms/step - loss: 0.2507 - accuracy: 0.9016 - tf_f1: 0.8185 - val_loss: 1.2517 - val_accuracy: 0.5927 - val_tf_f1: 0.8258\n",
      "Epoch 6/50\n",
      "4646/4646 [==============================] - 25s 5ms/step - loss: 0.2255 - accuracy: 0.9127 - tf_f1: 0.8322 - val_loss: 1.0963 - val_accuracy: 0.6939 - val_tf_f1: 0.8384\n",
      "Epoch 7/50\n",
      "4646/4646 [==============================] - 25s 5ms/step - loss: 0.2032 - accuracy: 0.9233 - tf_f1: 0.8441 - val_loss: 1.2203 - val_accuracy: 0.6650 - val_tf_f1: 0.8491\n",
      "Epoch 8/50\n",
      "4646/4646 [==============================] - 25s 5ms/step - loss: 0.1840 - accuracy: 0.9317 - tf_f1: 0.8537 - val_loss: 1.4073 - val_accuracy: 0.6469 - val_tf_f1: 0.8578\n",
      "Epoch 9/50\n",
      "4646/4646 [==============================] - 25s 5ms/step - loss: 0.1688 - accuracy: 0.9382 - tf_f1: 0.8616 - val_loss: 1.2695 - val_accuracy: 0.6831 - val_tf_f1: 0.8653\n",
      "Epoch 10/50\n",
      "4646/4646 [==============================] - 25s 5ms/step - loss: 0.1561 - accuracy: 0.9436 - tf_f1: 0.8687 - val_loss: 1.3582 - val_accuracy: 0.6526 - val_tf_f1: 0.8717\n",
      "Epoch 11/50\n",
      "4646/4646 [==============================] - 25s 5ms/step - loss: 0.1452 - accuracy: 0.9472 - tf_f1: 0.8746 - val_loss: 1.3219 - val_accuracy: 0.7095 - val_tf_f1: 0.8774\n",
      "Epoch 12/50\n",
      "4646/4646 [==============================] - 25s 5ms/step - loss: 0.1354 - accuracy: 0.9516 - tf_f1: 0.8801 - val_loss: 1.3484 - val_accuracy: 0.6941 - val_tf_f1: 0.8825\n",
      "Epoch 13/50\n",
      "4646/4646 [==============================] - 26s 5ms/step - loss: 0.1286 - accuracy: 0.9546 - tf_f1: 0.8849 - val_loss: 1.4732 - val_accuracy: 0.6516 - val_tf_f1: 0.8870\n",
      "Epoch 14/50\n",
      "4646/4646 [==============================] - 25s 5ms/step - loss: 0.1238 - accuracy: 0.9562 - tf_f1: 0.8889 - val_loss: 1.4509 - val_accuracy: 0.7142 - val_tf_f1: 0.8909\n",
      "Epoch 15/50\n",
      "4646/4646 [==============================] - 25s 5ms/step - loss: 0.1169 - accuracy: 0.9589 - tf_f1: 0.8928 - val_loss: 1.8199 - val_accuracy: 0.5779 - val_tf_f1: 0.8943\n",
      "Epoch 16/50\n",
      "4646/4646 [==============================] - 25s 5ms/step - loss: 0.1120 - accuracy: 0.9608 - tf_f1: 0.8958 - val_loss: 1.5290 - val_accuracy: 0.6809 - val_tf_f1: 0.8974\n",
      "Epoch 17/50\n",
      "4646/4646 [==============================] - 25s 5ms/step - loss: 0.1096 - accuracy: 0.9618 - tf_f1: 0.8989 - val_loss: 1.5372 - val_accuracy: 0.6886 - val_tf_f1: 0.9003\n"
     ]
    },
    {
     "name": "stderr",
     "output_type": "stream",
     "text": [
      "\u001b[32m[I 2022-09-08 08:41:07,360]\u001b[0m Trial 66 finished with value: 0.9002766609191895 and parameters: {'lr': 0.0656492665330736, 'units': 49}. Best is trial 47 with value: 0.9026344418525696.\u001b[0m\n"
     ]
    },
    {
     "name": "stdout",
     "output_type": "stream",
     "text": [
      "Epoch 00017: early stopping\n",
      "Epoch 1/50\n"
     ]
    },
    {
     "name": "stderr",
     "output_type": "stream",
     "text": [
      "c:\\Users\\Lim Jia Hui\\Desktop\\Python\\lib\\site-packages\\tensorflow\\python\\framework\\indexed_slices.py:444: UserWarning: Converting sparse IndexedSlices(IndexedSlices(indices=Tensor(\"gradient_tape/sequential_67/dense_134/embedding_lookup_sparse/Reshape_1:0\", shape=(None,), dtype=int32), values=Tensor(\"gradient_tape/sequential_67/dense_134/embedding_lookup_sparse/Reshape:0\", shape=(None, 49), dtype=float32), dense_shape=Tensor(\"gradient_tape/sequential_67/dense_134/embedding_lookup_sparse/Cast:0\", shape=(2,), dtype=int32))) to a dense Tensor of unknown shape. This may consume a large amount of memory.\n",
      "  warnings.warn(\n"
     ]
    },
    {
     "name": "stdout",
     "output_type": "stream",
     "text": [
      "4646/4646 [==============================] - 26s 5ms/step - loss: 0.9066 - accuracy: 0.6365 - tf_f1: 0.5028 - val_loss: 0.9460 - val_accuracy: 0.6102 - val_tf_f1: 0.6321\n",
      "Epoch 2/50\n",
      "4646/4646 [==============================] - 25s 5ms/step - loss: 0.4981 - accuracy: 0.8027 - tf_f1: 0.6804 - val_loss: 1.0636 - val_accuracy: 0.5585 - val_tf_f1: 0.7142\n"
     ]
    },
    {
     "name": "stderr",
     "output_type": "stream",
     "text": [
      "\u001b[32m[I 2022-09-08 08:41:58,950]\u001b[0m Trial 67 pruned. Trial was pruned at epoch 1.\u001b[0m\n"
     ]
    },
    {
     "name": "stdout",
     "output_type": "stream",
     "text": [
      "Epoch 1/50\n"
     ]
    },
    {
     "name": "stderr",
     "output_type": "stream",
     "text": [
      "c:\\Users\\Lim Jia Hui\\Desktop\\Python\\lib\\site-packages\\tensorflow\\python\\framework\\indexed_slices.py:444: UserWarning: Converting sparse IndexedSlices(IndexedSlices(indices=Tensor(\"gradient_tape/sequential_68/dense_136/embedding_lookup_sparse/Reshape_1:0\", shape=(None,), dtype=int32), values=Tensor(\"gradient_tape/sequential_68/dense_136/embedding_lookup_sparse/Reshape:0\", shape=(None, 46), dtype=float32), dense_shape=Tensor(\"gradient_tape/sequential_68/dense_136/embedding_lookup_sparse/Cast:0\", shape=(2,), dtype=int32))) to a dense Tensor of unknown shape. This may consume a large amount of memory.\n",
      "  warnings.warn(\n"
     ]
    },
    {
     "name": "stdout",
     "output_type": "stream",
     "text": [
      "4646/4646 [==============================] - 26s 5ms/step - loss: 0.8267 - accuracy: 0.6638 - tf_f1: 0.5296 - val_loss: 1.0879 - val_accuracy: 0.5315 - val_tf_f1: 0.6578\n",
      "Epoch 2/50\n",
      "4646/4646 [==============================] - 25s 5ms/step - loss: 0.4487 - accuracy: 0.8181 - tf_f1: 0.7017 - val_loss: 0.9660 - val_accuracy: 0.6555 - val_tf_f1: 0.7346\n"
     ]
    },
    {
     "name": "stderr",
     "output_type": "stream",
     "text": [
      "\u001b[32m[I 2022-09-08 08:42:50,517]\u001b[0m Trial 68 pruned. Trial was pruned at epoch 1.\u001b[0m\n"
     ]
    },
    {
     "name": "stdout",
     "output_type": "stream",
     "text": [
      "Epoch 1/50\n"
     ]
    },
    {
     "name": "stderr",
     "output_type": "stream",
     "text": [
      "c:\\Users\\Lim Jia Hui\\Desktop\\Python\\lib\\site-packages\\tensorflow\\python\\framework\\indexed_slices.py:444: UserWarning: Converting sparse IndexedSlices(IndexedSlices(indices=Tensor(\"gradient_tape/sequential_69/dense_138/embedding_lookup_sparse/Reshape_1:0\", shape=(None,), dtype=int32), values=Tensor(\"gradient_tape/sequential_69/dense_138/embedding_lookup_sparse/Reshape:0\", shape=(None, 47), dtype=float32), dense_shape=Tensor(\"gradient_tape/sequential_69/dense_138/embedding_lookup_sparse/Cast:0\", shape=(2,), dtype=int32))) to a dense Tensor of unknown shape. This may consume a large amount of memory.\n",
      "  warnings.warn(\n"
     ]
    },
    {
     "name": "stdout",
     "output_type": "stream",
     "text": [
      "4646/4646 [==============================] - 26s 5ms/step - loss: 0.7972 - accuracy: 0.6746 - tf_f1: 0.5468 - val_loss: 0.8528 - val_accuracy: 0.6956 - val_tf_f1: 0.6721\n",
      "Epoch 2/50\n",
      "4646/4646 [==============================] - 25s 5ms/step - loss: 0.4256 - accuracy: 0.8265 - tf_f1: 0.7169 - val_loss: 0.9923 - val_accuracy: 0.6441 - val_tf_f1: 0.7480\n",
      "Epoch 3/50\n",
      "4646/4646 [==============================] - 25s 5ms/step - loss: 0.3303 - accuracy: 0.8649 - tf_f1: 0.7682 - val_loss: 1.0543 - val_accuracy: 0.6349 - val_tf_f1: 0.7847\n",
      "Epoch 4/50\n",
      "4646/4646 [==============================] - 26s 5ms/step - loss: 0.2782 - accuracy: 0.8879 - tf_f1: 0.7974 - val_loss: 1.0474 - val_accuracy: 0.6770 - val_tf_f1: 0.8086\n",
      "Epoch 5/50\n",
      "4646/4646 [==============================] - 26s 5ms/step - loss: 0.2459 - accuracy: 0.9023 - tf_f1: 0.8178 - val_loss: 1.3860 - val_accuracy: 0.5501 - val_tf_f1: 0.8251\n",
      "Epoch 6/50\n",
      "4646/4646 [==============================] - 26s 5ms/step - loss: 0.2170 - accuracy: 0.9158 - tf_f1: 0.8316 - val_loss: 1.1074 - val_accuracy: 0.6881 - val_tf_f1: 0.8381\n",
      "Epoch 7/50\n",
      "4646/4646 [==============================] - 26s 5ms/step - loss: 0.1948 - accuracy: 0.9262 - tf_f1: 0.8439 - val_loss: 1.2259 - val_accuracy: 0.6538 - val_tf_f1: 0.8491\n",
      "Epoch 8/50\n",
      "4646/4646 [==============================] - 26s 5ms/step - loss: 0.1778 - accuracy: 0.9330 - tf_f1: 0.8537 - val_loss: 1.2446 - val_accuracy: 0.6729 - val_tf_f1: 0.8580\n",
      "Epoch 9/50\n",
      "4646/4646 [==============================] - 26s 5ms/step - loss: 0.1633 - accuracy: 0.9398 - tf_f1: 0.8620 - val_loss: 1.3052 - val_accuracy: 0.6653 - val_tf_f1: 0.8657\n",
      "Epoch 10/50\n",
      "4646/4646 [==============================] - 26s 5ms/step - loss: 0.1508 - accuracy: 0.9449 - tf_f1: 0.8691 - val_loss: 1.3083 - val_accuracy: 0.7138 - val_tf_f1: 0.8724\n",
      "Epoch 11/50\n",
      "4646/4646 [==============================] - 26s 5ms/step - loss: 0.1407 - accuracy: 0.9491 - tf_f1: 0.8755 - val_loss: 1.4429 - val_accuracy: 0.6658 - val_tf_f1: 0.8782\n",
      "Epoch 12/50\n",
      "4646/4646 [==============================] - 26s 5ms/step - loss: 0.1322 - accuracy: 0.9525 - tf_f1: 0.8808 - val_loss: 1.4764 - val_accuracy: 0.7409 - val_tf_f1: 0.8833\n",
      "Epoch 13/50\n",
      "4646/4646 [==============================] - 26s 5ms/step - loss: 0.1254 - accuracy: 0.9552 - tf_f1: 0.8858 - val_loss: 1.4093 - val_accuracy: 0.6915 - val_tf_f1: 0.8879\n",
      "Epoch 14/50\n",
      "4646/4646 [==============================] - 26s 5ms/step - loss: 0.1193 - accuracy: 0.9576 - tf_f1: 0.8900 - val_loss: 1.4753 - val_accuracy: 0.6881 - val_tf_f1: 0.8919\n",
      "Epoch 15/50\n",
      "4646/4646 [==============================] - 26s 5ms/step - loss: 0.1157 - accuracy: 0.9584 - tf_f1: 0.8937 - val_loss: 1.4762 - val_accuracy: 0.7048 - val_tf_f1: 0.8954\n",
      "Epoch 16/50\n",
      "4646/4646 [==============================] - 26s 5ms/step - loss: 0.1104 - accuracy: 0.9606 - tf_f1: 0.8971 - val_loss: 1.6057 - val_accuracy: 0.6591 - val_tf_f1: 0.8986\n",
      "Epoch 17/50\n",
      "4646/4646 [==============================] - 26s 5ms/step - loss: 0.1068 - accuracy: 0.9621 - tf_f1: 0.9000 - val_loss: 1.5260 - val_accuracy: 0.6857 - val_tf_f1: 0.9014\n"
     ]
    },
    {
     "name": "stderr",
     "output_type": "stream",
     "text": [
      "\u001b[32m[I 2022-09-08 08:50:06,454]\u001b[0m Trial 69 finished with value: 0.9014131426811218 and parameters: {'lr': 0.06531612217508238, 'units': 47}. Best is trial 47 with value: 0.9026344418525696.\u001b[0m\n"
     ]
    },
    {
     "name": "stdout",
     "output_type": "stream",
     "text": [
      "Epoch 00017: early stopping\n",
      "Epoch 1/50\n"
     ]
    },
    {
     "name": "stderr",
     "output_type": "stream",
     "text": [
      "c:\\Users\\Lim Jia Hui\\Desktop\\Python\\lib\\site-packages\\tensorflow\\python\\framework\\indexed_slices.py:444: UserWarning: Converting sparse IndexedSlices(IndexedSlices(indices=Tensor(\"gradient_tape/sequential_70/dense_140/embedding_lookup_sparse/Reshape_1:0\", shape=(None,), dtype=int32), values=Tensor(\"gradient_tape/sequential_70/dense_140/embedding_lookup_sparse/Reshape:0\", shape=(None, 48), dtype=float32), dense_shape=Tensor(\"gradient_tape/sequential_70/dense_140/embedding_lookup_sparse/Cast:0\", shape=(2,), dtype=int32))) to a dense Tensor of unknown shape. This may consume a large amount of memory.\n",
      "  warnings.warn(\n"
     ]
    },
    {
     "name": "stdout",
     "output_type": "stream",
     "text": [
      "4646/4646 [==============================] - 26s 5ms/step - loss: 0.8113 - accuracy: 0.6698 - tf_f1: 0.5384 - val_loss: 0.9472 - val_accuracy: 0.6392 - val_tf_f1: 0.6652\n",
      "Epoch 2/50\n",
      "4646/4646 [==============================] - 26s 5ms/step - loss: 0.4469 - accuracy: 0.8187 - tf_f1: 0.7087 - val_loss: 1.0316 - val_accuracy: 0.6068 - val_tf_f1: 0.7395\n"
     ]
    },
    {
     "name": "stderr",
     "output_type": "stream",
     "text": [
      "\u001b[32m[I 2022-09-08 08:50:58,962]\u001b[0m Trial 70 pruned. Trial was pruned at epoch 1.\u001b[0m\n"
     ]
    },
    {
     "name": "stdout",
     "output_type": "stream",
     "text": [
      "Epoch 1/50\n"
     ]
    },
    {
     "name": "stderr",
     "output_type": "stream",
     "text": [
      "c:\\Users\\Lim Jia Hui\\Desktop\\Python\\lib\\site-packages\\tensorflow\\python\\framework\\indexed_slices.py:444: UserWarning: Converting sparse IndexedSlices(IndexedSlices(indices=Tensor(\"gradient_tape/sequential_71/dense_142/embedding_lookup_sparse/Reshape_1:0\", shape=(None,), dtype=int32), values=Tensor(\"gradient_tape/sequential_71/dense_142/embedding_lookup_sparse/Reshape:0\", shape=(None, 50), dtype=float32), dense_shape=Tensor(\"gradient_tape/sequential_71/dense_142/embedding_lookup_sparse/Cast:0\", shape=(2,), dtype=int32))) to a dense Tensor of unknown shape. This may consume a large amount of memory.\n",
      "  warnings.warn(\n"
     ]
    },
    {
     "name": "stdout",
     "output_type": "stream",
     "text": [
      "4646/4646 [==============================] - 26s 5ms/step - loss: 0.7958 - accuracy: 0.6740 - tf_f1: 0.5404 - val_loss: 0.9224 - val_accuracy: 0.6451 - val_tf_f1: 0.6707\n",
      "Epoch 2/50\n",
      "4646/4646 [==============================] - 26s 5ms/step - loss: 0.4357 - accuracy: 0.8228 - tf_f1: 0.7142 - val_loss: 1.0709 - val_accuracy: 0.5912 - val_tf_f1: 0.7442\n",
      "Epoch 3/50\n",
      "4646/4646 [==============================] - 26s 5ms/step - loss: 0.3486 - accuracy: 0.8582 - tf_f1: 0.7637 - val_loss: 1.0139 - val_accuracy: 0.6847 - val_tf_f1: 0.7800\n",
      "Epoch 4/50\n",
      "4646/4646 [==============================] - 26s 5ms/step - loss: 0.3037 - accuracy: 0.8773 - tf_f1: 0.7924 - val_loss: 1.0267 - val_accuracy: 0.7130 - val_tf_f1: 0.8030\n",
      "Epoch 5/50\n",
      "4646/4646 [==============================] - 26s 5ms/step - loss: 0.2713 - accuracy: 0.8913 - tf_f1: 0.8119 - val_loss: 1.1234 - val_accuracy: 0.6789 - val_tf_f1: 0.8194\n"
     ]
    },
    {
     "name": "stderr",
     "output_type": "stream",
     "text": [
      "\u001b[32m[I 2022-09-08 08:53:07,889]\u001b[0m Trial 71 pruned. Trial was pruned at epoch 4.\u001b[0m\n"
     ]
    },
    {
     "name": "stdout",
     "output_type": "stream",
     "text": [
      "Epoch 1/50\n"
     ]
    },
    {
     "name": "stderr",
     "output_type": "stream",
     "text": [
      "c:\\Users\\Lim Jia Hui\\Desktop\\Python\\lib\\site-packages\\tensorflow\\python\\framework\\indexed_slices.py:444: UserWarning: Converting sparse IndexedSlices(IndexedSlices(indices=Tensor(\"gradient_tape/sequential_72/dense_144/embedding_lookup_sparse/Reshape_1:0\", shape=(None,), dtype=int32), values=Tensor(\"gradient_tape/sequential_72/dense_144/embedding_lookup_sparse/Reshape:0\", shape=(None, 47), dtype=float32), dense_shape=Tensor(\"gradient_tape/sequential_72/dense_144/embedding_lookup_sparse/Cast:0\", shape=(2,), dtype=int32))) to a dense Tensor of unknown shape. This may consume a large amount of memory.\n",
      "  warnings.warn(\n"
     ]
    },
    {
     "name": "stdout",
     "output_type": "stream",
     "text": [
      "4646/4646 [==============================] - 26s 5ms/step - loss: 0.8546 - accuracy: 0.6532 - tf_f1: 0.5169 - val_loss: 1.0728 - val_accuracy: 0.5014 - val_tf_f1: 0.6444\n",
      "Epoch 2/50\n",
      "4646/4646 [==============================] - 26s 5ms/step - loss: 0.4557 - accuracy: 0.8176 - tf_f1: 0.6917 - val_loss: 1.1304 - val_accuracy: 0.5537 - val_tf_f1: 0.7262\n"
     ]
    },
    {
     "name": "stderr",
     "output_type": "stream",
     "text": [
      "\u001b[32m[I 2022-09-08 08:54:00,154]\u001b[0m Trial 72 pruned. Trial was pruned at epoch 1.\u001b[0m\n"
     ]
    },
    {
     "name": "stdout",
     "output_type": "stream",
     "text": [
      "Epoch 1/50\n"
     ]
    },
    {
     "name": "stderr",
     "output_type": "stream",
     "text": [
      "c:\\Users\\Lim Jia Hui\\Desktop\\Python\\lib\\site-packages\\tensorflow\\python\\framework\\indexed_slices.py:444: UserWarning: Converting sparse IndexedSlices(IndexedSlices(indices=Tensor(\"gradient_tape/sequential_73/dense_146/embedding_lookup_sparse/Reshape_1:0\", shape=(None,), dtype=int32), values=Tensor(\"gradient_tape/sequential_73/dense_146/embedding_lookup_sparse/Reshape:0\", shape=(None, 49), dtype=float32), dense_shape=Tensor(\"gradient_tape/sequential_73/dense_146/embedding_lookup_sparse/Cast:0\", shape=(2,), dtype=int32))) to a dense Tensor of unknown shape. This may consume a large amount of memory.\n",
      "  warnings.warn(\n"
     ]
    },
    {
     "name": "stdout",
     "output_type": "stream",
     "text": [
      "4646/4646 [==============================] - 26s 5ms/step - loss: 0.7966 - accuracy: 0.6755 - tf_f1: 0.5471 - val_loss: 1.0999 - val_accuracy: 0.4926 - val_tf_f1: 0.6680\n",
      "Epoch 2/50\n",
      "4646/4646 [==============================] - 25s 5ms/step - loss: 0.4281 - accuracy: 0.8262 - tf_f1: 0.7105 - val_loss: 0.9985 - val_accuracy: 0.6316 - val_tf_f1: 0.7429\n"
     ]
    },
    {
     "name": "stderr",
     "output_type": "stream",
     "text": [
      "\u001b[32m[I 2022-09-08 08:54:51,945]\u001b[0m Trial 73 pruned. Trial was pruned at epoch 1.\u001b[0m\n"
     ]
    },
    {
     "name": "stdout",
     "output_type": "stream",
     "text": [
      "Epoch 1/50\n"
     ]
    },
    {
     "name": "stderr",
     "output_type": "stream",
     "text": [
      "c:\\Users\\Lim Jia Hui\\Desktop\\Python\\lib\\site-packages\\tensorflow\\python\\framework\\indexed_slices.py:444: UserWarning: Converting sparse IndexedSlices(IndexedSlices(indices=Tensor(\"gradient_tape/sequential_74/dense_148/embedding_lookup_sparse/Reshape_1:0\", shape=(None,), dtype=int32), values=Tensor(\"gradient_tape/sequential_74/dense_148/embedding_lookup_sparse/Reshape:0\", shape=(None, 43), dtype=float32), dense_shape=Tensor(\"gradient_tape/sequential_74/dense_148/embedding_lookup_sparse/Cast:0\", shape=(2,), dtype=int32))) to a dense Tensor of unknown shape. This may consume a large amount of memory.\n",
      "  warnings.warn(\n"
     ]
    },
    {
     "name": "stdout",
     "output_type": "stream",
     "text": [
      "4646/4646 [==============================] - 26s 5ms/step - loss: 0.8298 - accuracy: 0.6626 - tf_f1: 0.5289 - val_loss: 1.0524 - val_accuracy: 0.5378 - val_tf_f1: 0.6568\n",
      "Epoch 2/50\n",
      "4646/4646 [==============================] - 26s 5ms/step - loss: 0.4456 - accuracy: 0.8201 - tf_f1: 0.7016 - val_loss: 0.9220 - val_accuracy: 0.6668 - val_tf_f1: 0.7356\n"
     ]
    },
    {
     "name": "stderr",
     "output_type": "stream",
     "text": [
      "\u001b[32m[I 2022-09-08 08:55:44,141]\u001b[0m Trial 74 pruned. Trial was pruned at epoch 1.\u001b[0m\n"
     ]
    },
    {
     "name": "stdout",
     "output_type": "stream",
     "text": [
      "Epoch 1/50\n"
     ]
    },
    {
     "name": "stderr",
     "output_type": "stream",
     "text": [
      "c:\\Users\\Lim Jia Hui\\Desktop\\Python\\lib\\site-packages\\tensorflow\\python\\framework\\indexed_slices.py:444: UserWarning: Converting sparse IndexedSlices(IndexedSlices(indices=Tensor(\"gradient_tape/sequential_75/dense_150/embedding_lookup_sparse/Reshape_1:0\", shape=(None,), dtype=int32), values=Tensor(\"gradient_tape/sequential_75/dense_150/embedding_lookup_sparse/Reshape:0\", shape=(None, 45), dtype=float32), dense_shape=Tensor(\"gradient_tape/sequential_75/dense_150/embedding_lookup_sparse/Cast:0\", shape=(2,), dtype=int32))) to a dense Tensor of unknown shape. This may consume a large amount of memory.\n",
      "  warnings.warn(\n"
     ]
    },
    {
     "name": "stdout",
     "output_type": "stream",
     "text": [
      "4646/4646 [==============================] - 26s 5ms/step - loss: 0.8170 - accuracy: 0.6686 - tf_f1: 0.5378 - val_loss: 0.8902 - val_accuracy: 0.6703 - val_tf_f1: 0.6645\n",
      "Epoch 2/50\n",
      "4646/4646 [==============================] - 26s 5ms/step - loss: 0.4496 - accuracy: 0.8175 - tf_f1: 0.7088 - val_loss: 0.9392 - val_accuracy: 0.6543 - val_tf_f1: 0.7396\n"
     ]
    },
    {
     "name": "stderr",
     "output_type": "stream",
     "text": [
      "\u001b[32m[I 2022-09-08 08:56:36,485]\u001b[0m Trial 75 pruned. Trial was pruned at epoch 1.\u001b[0m\n"
     ]
    },
    {
     "name": "stdout",
     "output_type": "stream",
     "text": [
      "Epoch 1/50\n"
     ]
    },
    {
     "name": "stderr",
     "output_type": "stream",
     "text": [
      "c:\\Users\\Lim Jia Hui\\Desktop\\Python\\lib\\site-packages\\tensorflow\\python\\framework\\indexed_slices.py:444: UserWarning: Converting sparse IndexedSlices(IndexedSlices(indices=Tensor(\"gradient_tape/sequential_76/dense_152/embedding_lookup_sparse/Reshape_1:0\", shape=(None,), dtype=int32), values=Tensor(\"gradient_tape/sequential_76/dense_152/embedding_lookup_sparse/Reshape:0\", shape=(None, 47), dtype=float32), dense_shape=Tensor(\"gradient_tape/sequential_76/dense_152/embedding_lookup_sparse/Cast:0\", shape=(2,), dtype=int32))) to a dense Tensor of unknown shape. This may consume a large amount of memory.\n",
      "  warnings.warn(\n"
     ]
    },
    {
     "name": "stdout",
     "output_type": "stream",
     "text": [
      "4646/4646 [==============================] - 26s 5ms/step - loss: 0.8874 - accuracy: 0.6419 - tf_f1: 0.5092 - val_loss: 1.1205 - val_accuracy: 0.5463 - val_tf_f1: 0.6357\n",
      "Epoch 2/50\n",
      "4646/4646 [==============================] - 25s 5ms/step - loss: 0.4823 - accuracy: 0.8083 - tf_f1: 0.6829 - val_loss: 0.9983 - val_accuracy: 0.6126 - val_tf_f1: 0.7182\n"
     ]
    },
    {
     "name": "stderr",
     "output_type": "stream",
     "text": [
      "\u001b[32m[I 2022-09-08 08:57:28,400]\u001b[0m Trial 76 pruned. Trial was pruned at epoch 1.\u001b[0m\n"
     ]
    },
    {
     "name": "stdout",
     "output_type": "stream",
     "text": [
      "Epoch 1/50\n"
     ]
    },
    {
     "name": "stderr",
     "output_type": "stream",
     "text": [
      "c:\\Users\\Lim Jia Hui\\Desktop\\Python\\lib\\site-packages\\tensorflow\\python\\framework\\indexed_slices.py:444: UserWarning: Converting sparse IndexedSlices(IndexedSlices(indices=Tensor(\"gradient_tape/sequential_77/dense_154/embedding_lookup_sparse/Reshape_1:0\", shape=(None,), dtype=int32), values=Tensor(\"gradient_tape/sequential_77/dense_154/embedding_lookup_sparse/Reshape:0\", shape=(None, 42), dtype=float32), dense_shape=Tensor(\"gradient_tape/sequential_77/dense_154/embedding_lookup_sparse/Cast:0\", shape=(2,), dtype=int32))) to a dense Tensor of unknown shape. This may consume a large amount of memory.\n",
      "  warnings.warn(\n"
     ]
    },
    {
     "name": "stdout",
     "output_type": "stream",
     "text": [
      "4646/4646 [==============================] - 26s 5ms/step - loss: 0.7857 - accuracy: 0.6766 - tf_f1: 0.5473 - val_loss: 1.3630 - val_accuracy: 0.5595 - val_tf_f1: 0.6695\n",
      "Epoch 2/50\n",
      "4646/4646 [==============================] - 25s 5ms/step - loss: 0.4378 - accuracy: 0.8220 - tf_f1: 0.7110 - val_loss: 0.9416 - val_accuracy: 0.6831 - val_tf_f1: 0.7428\n"
     ]
    },
    {
     "name": "stderr",
     "output_type": "stream",
     "text": [
      "\u001b[32m[I 2022-09-08 08:58:19,904]\u001b[0m Trial 77 pruned. Trial was pruned at epoch 1.\u001b[0m\n"
     ]
    },
    {
     "name": "stdout",
     "output_type": "stream",
     "text": [
      "Epoch 1/50\n"
     ]
    },
    {
     "name": "stderr",
     "output_type": "stream",
     "text": [
      "c:\\Users\\Lim Jia Hui\\Desktop\\Python\\lib\\site-packages\\tensorflow\\python\\framework\\indexed_slices.py:444: UserWarning: Converting sparse IndexedSlices(IndexedSlices(indices=Tensor(\"gradient_tape/sequential_78/dense_156/embedding_lookup_sparse/Reshape_1:0\", shape=(None,), dtype=int32), values=Tensor(\"gradient_tape/sequential_78/dense_156/embedding_lookup_sparse/Reshape:0\", shape=(None, 49), dtype=float32), dense_shape=Tensor(\"gradient_tape/sequential_78/dense_156/embedding_lookup_sparse/Cast:0\", shape=(2,), dtype=int32))) to a dense Tensor of unknown shape. This may consume a large amount of memory.\n",
      "  warnings.warn(\n"
     ]
    },
    {
     "name": "stdout",
     "output_type": "stream",
     "text": [
      "4646/4646 [==============================] - 26s 5ms/step - loss: 0.8110 - accuracy: 0.6688 - tf_f1: 0.5446 - val_loss: 0.8517 - val_accuracy: 0.6887 - val_tf_f1: 0.6666\n",
      "Epoch 2/50\n",
      "4646/4646 [==============================] - 25s 5ms/step - loss: 0.4393 - accuracy: 0.8209 - tf_f1: 0.7111 - val_loss: 0.9663 - val_accuracy: 0.6499 - val_tf_f1: 0.7425\n"
     ]
    },
    {
     "name": "stderr",
     "output_type": "stream",
     "text": [
      "\u001b[32m[I 2022-09-08 08:59:11,266]\u001b[0m Trial 78 pruned. Trial was pruned at epoch 1.\u001b[0m\n"
     ]
    },
    {
     "name": "stdout",
     "output_type": "stream",
     "text": [
      "Epoch 1/50\n"
     ]
    },
    {
     "name": "stderr",
     "output_type": "stream",
     "text": [
      "c:\\Users\\Lim Jia Hui\\Desktop\\Python\\lib\\site-packages\\tensorflow\\python\\framework\\indexed_slices.py:444: UserWarning: Converting sparse IndexedSlices(IndexedSlices(indices=Tensor(\"gradient_tape/sequential_79/dense_158/embedding_lookup_sparse/Reshape_1:0\", shape=(None,), dtype=int32), values=Tensor(\"gradient_tape/sequential_79/dense_158/embedding_lookup_sparse/Reshape:0\", shape=(None, 46), dtype=float32), dense_shape=Tensor(\"gradient_tape/sequential_79/dense_158/embedding_lookup_sparse/Cast:0\", shape=(2,), dtype=int32))) to a dense Tensor of unknown shape. This may consume a large amount of memory.\n",
      "  warnings.warn(\n"
     ]
    },
    {
     "name": "stdout",
     "output_type": "stream",
     "text": [
      "4646/4646 [==============================] - 26s 5ms/step - loss: 0.8620 - accuracy: 0.6495 - tf_f1: 0.5151 - val_loss: 0.8871 - val_accuracy: 0.6783 - val_tf_f1: 0.6461\n",
      "Epoch 2/50\n",
      "4646/4646 [==============================] - 26s 5ms/step - loss: 0.4697 - accuracy: 0.8120 - tf_f1: 0.6944 - val_loss: 1.0694 - val_accuracy: 0.6049 - val_tf_f1: 0.7270\n"
     ]
    },
    {
     "name": "stderr",
     "output_type": "stream",
     "text": [
      "\u001b[32m[I 2022-09-08 09:00:03,481]\u001b[0m Trial 79 pruned. Trial was pruned at epoch 1.\u001b[0m\n"
     ]
    },
    {
     "name": "stdout",
     "output_type": "stream",
     "text": [
      "Epoch 1/50\n"
     ]
    },
    {
     "name": "stderr",
     "output_type": "stream",
     "text": [
      "c:\\Users\\Lim Jia Hui\\Desktop\\Python\\lib\\site-packages\\tensorflow\\python\\framework\\indexed_slices.py:444: UserWarning: Converting sparse IndexedSlices(IndexedSlices(indices=Tensor(\"gradient_tape/sequential_80/dense_160/embedding_lookup_sparse/Reshape_1:0\", shape=(None,), dtype=int32), values=Tensor(\"gradient_tape/sequential_80/dense_160/embedding_lookup_sparse/Reshape:0\", shape=(None, 40), dtype=float32), dense_shape=Tensor(\"gradient_tape/sequential_80/dense_160/embedding_lookup_sparse/Cast:0\", shape=(2,), dtype=int32))) to a dense Tensor of unknown shape. This may consume a large amount of memory.\n",
      "  warnings.warn(\n"
     ]
    },
    {
     "name": "stdout",
     "output_type": "stream",
     "text": [
      "4646/4646 [==============================] - 26s 5ms/step - loss: 0.9860 - accuracy: 0.6112 - tf_f1: 0.4746 - val_loss: 1.0342 - val_accuracy: 0.6046 - val_tf_f1: 0.6053\n",
      "Epoch 2/50\n",
      "4646/4646 [==============================] - 26s 5ms/step - loss: 0.5422 - accuracy: 0.7891 - tf_f1: 0.6567 - val_loss: 0.8821 - val_accuracy: 0.6675 - val_tf_f1: 0.6953\n"
     ]
    },
    {
     "name": "stderr",
     "output_type": "stream",
     "text": [
      "\u001b[32m[I 2022-09-08 09:00:55,627]\u001b[0m Trial 80 pruned. Trial was pruned at epoch 1.\u001b[0m\n"
     ]
    },
    {
     "name": "stdout",
     "output_type": "stream",
     "text": [
      "Epoch 1/50\n"
     ]
    },
    {
     "name": "stderr",
     "output_type": "stream",
     "text": [
      "c:\\Users\\Lim Jia Hui\\Desktop\\Python\\lib\\site-packages\\tensorflow\\python\\framework\\indexed_slices.py:444: UserWarning: Converting sparse IndexedSlices(IndexedSlices(indices=Tensor(\"gradient_tape/sequential_81/dense_162/embedding_lookup_sparse/Reshape_1:0\", shape=(None,), dtype=int32), values=Tensor(\"gradient_tape/sequential_81/dense_162/embedding_lookup_sparse/Reshape:0\", shape=(None, 49), dtype=float32), dense_shape=Tensor(\"gradient_tape/sequential_81/dense_162/embedding_lookup_sparse/Cast:0\", shape=(2,), dtype=int32))) to a dense Tensor of unknown shape. This may consume a large amount of memory.\n",
      "  warnings.warn(\n"
     ]
    },
    {
     "name": "stdout",
     "output_type": "stream",
     "text": [
      "4646/4646 [==============================] - 26s 5ms/step - loss: 0.7853 - accuracy: 0.6769 - tf_f1: 0.5488 - val_loss: 0.9236 - val_accuracy: 0.6521 - val_tf_f1: 0.6742\n",
      "Epoch 2/50\n",
      "4646/4646 [==============================] - 25s 5ms/step - loss: 0.4252 - accuracy: 0.8260 - tf_f1: 0.7185 - val_loss: 1.1186 - val_accuracy: 0.5685 - val_tf_f1: 0.7474\n",
      "Epoch 3/50\n",
      "4646/4646 [==============================] - 26s 5ms/step - loss: 0.3355 - accuracy: 0.8628 - tf_f1: 0.7666 - val_loss: 1.0371 - val_accuracy: 0.6581 - val_tf_f1: 0.7831\n",
      "Epoch 4/50\n",
      "4646/4646 [==============================] - 26s 5ms/step - loss: 0.2861 - accuracy: 0.8836 - tf_f1: 0.7959 - val_loss: 1.0789 - val_accuracy: 0.6839 - val_tf_f1: 0.8066\n",
      "Epoch 5/50\n",
      "4646/4646 [==============================] - 26s 5ms/step - loss: 0.2540 - accuracy: 0.8985 - tf_f1: 0.8156 - val_loss: 1.2141 - val_accuracy: 0.6173 - val_tf_f1: 0.8231\n"
     ]
    },
    {
     "name": "stderr",
     "output_type": "stream",
     "text": [
      "\u001b[32m[I 2022-09-08 09:03:04,481]\u001b[0m Trial 81 pruned. Trial was pruned at epoch 4.\u001b[0m\n"
     ]
    },
    {
     "name": "stdout",
     "output_type": "stream",
     "text": [
      "Epoch 1/50\n"
     ]
    },
    {
     "name": "stderr",
     "output_type": "stream",
     "text": [
      "c:\\Users\\Lim Jia Hui\\Desktop\\Python\\lib\\site-packages\\tensorflow\\python\\framework\\indexed_slices.py:444: UserWarning: Converting sparse IndexedSlices(IndexedSlices(indices=Tensor(\"gradient_tape/sequential_82/dense_164/embedding_lookup_sparse/Reshape_1:0\", shape=(None,), dtype=int32), values=Tensor(\"gradient_tape/sequential_82/dense_164/embedding_lookup_sparse/Reshape:0\", shape=(None, 23), dtype=float32), dense_shape=Tensor(\"gradient_tape/sequential_82/dense_164/embedding_lookup_sparse/Cast:0\", shape=(2,), dtype=int32))) to a dense Tensor of unknown shape. This may consume a large amount of memory.\n",
      "  warnings.warn(\n"
     ]
    },
    {
     "name": "stdout",
     "output_type": "stream",
     "text": [
      "4646/4646 [==============================] - 26s 5ms/step - loss: 0.8060 - accuracy: 0.6701 - tf_f1: 0.5415 - val_loss: 0.9203 - val_accuracy: 0.6781 - val_tf_f1: 0.6669\n",
      "Epoch 2/50\n",
      "4646/4646 [==============================] - 26s 5ms/step - loss: 0.4535 - accuracy: 0.8163 - tf_f1: 0.7102 - val_loss: 1.2142 - val_accuracy: 0.5154 - val_tf_f1: 0.7385\n"
     ]
    },
    {
     "name": "stderr",
     "output_type": "stream",
     "text": [
      "\u001b[32m[I 2022-09-08 09:03:56,611]\u001b[0m Trial 82 pruned. Trial was pruned at epoch 1.\u001b[0m\n"
     ]
    },
    {
     "name": "stdout",
     "output_type": "stream",
     "text": [
      "Epoch 1/50\n"
     ]
    },
    {
     "name": "stderr",
     "output_type": "stream",
     "text": [
      "c:\\Users\\Lim Jia Hui\\Desktop\\Python\\lib\\site-packages\\tensorflow\\python\\framework\\indexed_slices.py:444: UserWarning: Converting sparse IndexedSlices(IndexedSlices(indices=Tensor(\"gradient_tape/sequential_83/dense_166/embedding_lookup_sparse/Reshape_1:0\", shape=(None,), dtype=int32), values=Tensor(\"gradient_tape/sequential_83/dense_166/embedding_lookup_sparse/Reshape:0\", shape=(None, 36), dtype=float32), dense_shape=Tensor(\"gradient_tape/sequential_83/dense_166/embedding_lookup_sparse/Cast:0\", shape=(2,), dtype=int32))) to a dense Tensor of unknown shape. This may consume a large amount of memory.\n",
      "  warnings.warn(\n"
     ]
    },
    {
     "name": "stdout",
     "output_type": "stream",
     "text": [
      "4646/4646 [==============================] - 26s 5ms/step - loss: 0.7955 - accuracy: 0.6735 - tf_f1: 0.5466 - val_loss: 1.1532 - val_accuracy: 0.5375 - val_tf_f1: 0.6663\n",
      "Epoch 2/50\n",
      "4646/4646 [==============================] - 26s 5ms/step - loss: 0.4362 - accuracy: 0.8215 - tf_f1: 0.7083 - val_loss: 1.1657 - val_accuracy: 0.5466 - val_tf_f1: 0.7389\n"
     ]
    },
    {
     "name": "stderr",
     "output_type": "stream",
     "text": [
      "\u001b[32m[I 2022-09-08 09:04:48,553]\u001b[0m Trial 83 pruned. Trial was pruned at epoch 1.\u001b[0m\n"
     ]
    },
    {
     "name": "stdout",
     "output_type": "stream",
     "text": [
      "Epoch 1/50\n"
     ]
    },
    {
     "name": "stderr",
     "output_type": "stream",
     "text": [
      "c:\\Users\\Lim Jia Hui\\Desktop\\Python\\lib\\site-packages\\tensorflow\\python\\framework\\indexed_slices.py:444: UserWarning: Converting sparse IndexedSlices(IndexedSlices(indices=Tensor(\"gradient_tape/sequential_84/dense_168/embedding_lookup_sparse/Reshape_1:0\", shape=(None,), dtype=int32), values=Tensor(\"gradient_tape/sequential_84/dense_168/embedding_lookup_sparse/Reshape:0\", shape=(None, 34), dtype=float32), dense_shape=Tensor(\"gradient_tape/sequential_84/dense_168/embedding_lookup_sparse/Cast:0\", shape=(2,), dtype=int32))) to a dense Tensor of unknown shape. This may consume a large amount of memory.\n",
      "  warnings.warn(\n"
     ]
    },
    {
     "name": "stdout",
     "output_type": "stream",
     "text": [
      "4646/4646 [==============================] - 27s 6ms/step - loss: 0.8072 - accuracy: 0.6700 - tf_f1: 0.5395 - val_loss: 0.8293 - val_accuracy: 0.7148 - val_tf_f1: 0.6682\n",
      "Epoch 2/50\n",
      "4646/4646 [==============================] - 26s 5ms/step - loss: 0.4459 - accuracy: 0.8198 - tf_f1: 0.7131 - val_loss: 0.9739 - val_accuracy: 0.6627 - val_tf_f1: 0.7434\n",
      "Epoch 3/50\n",
      "4646/4646 [==============================] - 26s 5ms/step - loss: 0.3598 - accuracy: 0.8532 - tf_f1: 0.7628 - val_loss: 0.9836 - val_accuracy: 0.6917 - val_tf_f1: 0.7786\n",
      "Epoch 4/50\n",
      "4646/4646 [==============================] - 26s 5ms/step - loss: 0.3167 - accuracy: 0.8721 - tf_f1: 0.7906 - val_loss: 1.0950 - val_accuracy: 0.6471 - val_tf_f1: 0.8005\n",
      "Epoch 5/50\n",
      "4646/4646 [==============================] - 26s 5ms/step - loss: 0.2870 - accuracy: 0.8845 - tf_f1: 0.8087 - val_loss: 1.1253 - val_accuracy: 0.6631 - val_tf_f1: 0.8157\n"
     ]
    },
    {
     "name": "stderr",
     "output_type": "stream",
     "text": [
      "\u001b[32m[I 2022-09-08 09:06:59,228]\u001b[0m Trial 84 pruned. Trial was pruned at epoch 4.\u001b[0m\n"
     ]
    },
    {
     "name": "stdout",
     "output_type": "stream",
     "text": [
      "Epoch 1/50\n"
     ]
    },
    {
     "name": "stderr",
     "output_type": "stream",
     "text": [
      "c:\\Users\\Lim Jia Hui\\Desktop\\Python\\lib\\site-packages\\tensorflow\\python\\framework\\indexed_slices.py:444: UserWarning: Converting sparse IndexedSlices(IndexedSlices(indices=Tensor(\"gradient_tape/sequential_85/dense_170/embedding_lookup_sparse/Reshape_1:0\", shape=(None,), dtype=int32), values=Tensor(\"gradient_tape/sequential_85/dense_170/embedding_lookup_sparse/Reshape:0\", shape=(None, 30), dtype=float32), dense_shape=Tensor(\"gradient_tape/sequential_85/dense_170/embedding_lookup_sparse/Cast:0\", shape=(2,), dtype=int32))) to a dense Tensor of unknown shape. This may consume a large amount of memory.\n",
      "  warnings.warn(\n"
     ]
    },
    {
     "name": "stdout",
     "output_type": "stream",
     "text": [
      "4646/4646 [==============================] - 26s 6ms/step - loss: 0.9243 - accuracy: 0.6265 - tf_f1: 0.4893 - val_loss: 0.9337 - val_accuracy: 0.6385 - val_tf_f1: 0.6219\n",
      "Epoch 2/50\n",
      "4646/4646 [==============================] - 26s 5ms/step - loss: 0.5136 - accuracy: 0.7957 - tf_f1: 0.6718 - val_loss: 0.8814 - val_accuracy: 0.6814 - val_tf_f1: 0.7076\n"
     ]
    },
    {
     "name": "stderr",
     "output_type": "stream",
     "text": [
      "\u001b[32m[I 2022-09-08 09:07:52,105]\u001b[0m Trial 85 pruned. Trial was pruned at epoch 1.\u001b[0m\n"
     ]
    },
    {
     "name": "stdout",
     "output_type": "stream",
     "text": [
      "Epoch 1/50\n"
     ]
    },
    {
     "name": "stderr",
     "output_type": "stream",
     "text": [
      "c:\\Users\\Lim Jia Hui\\Desktop\\Python\\lib\\site-packages\\tensorflow\\python\\framework\\indexed_slices.py:444: UserWarning: Converting sparse IndexedSlices(IndexedSlices(indices=Tensor(\"gradient_tape/sequential_86/dense_172/embedding_lookup_sparse/Reshape_1:0\", shape=(None,), dtype=int32), values=Tensor(\"gradient_tape/sequential_86/dense_172/embedding_lookup_sparse/Reshape:0\", shape=(None, 48), dtype=float32), dense_shape=Tensor(\"gradient_tape/sequential_86/dense_172/embedding_lookup_sparse/Cast:0\", shape=(2,), dtype=int32))) to a dense Tensor of unknown shape. This may consume a large amount of memory.\n",
      "  warnings.warn(\n"
     ]
    },
    {
     "name": "stdout",
     "output_type": "stream",
     "text": [
      "4646/4646 [==============================] - 26s 6ms/step - loss: 0.7679 - accuracy: 0.6839 - tf_f1: 0.5589 - val_loss: 1.0322 - val_accuracy: 0.5870 - val_tf_f1: 0.6793\n",
      "Epoch 2/50\n",
      "4646/4646 [==============================] - 26s 5ms/step - loss: 0.4048 - accuracy: 0.8332 - tf_f1: 0.7222 - val_loss: 1.0004 - val_accuracy: 0.6685 - val_tf_f1: 0.7536\n",
      "Epoch 3/50\n",
      "4646/4646 [==============================] - 26s 5ms/step - loss: 0.3125 - accuracy: 0.8709 - tf_f1: 0.7743 - val_loss: 1.0072 - val_accuracy: 0.6992 - val_tf_f1: 0.7911\n",
      "Epoch 4/50\n",
      "4646/4646 [==============================] - 26s 5ms/step - loss: 0.2646 - accuracy: 0.8926 - tf_f1: 0.8041 - val_loss: 1.0100 - val_accuracy: 0.7101 - val_tf_f1: 0.8151\n",
      "Epoch 5/50\n",
      "4646/4646 [==============================] - 26s 5ms/step - loss: 0.2304 - accuracy: 0.9093 - tf_f1: 0.8244 - val_loss: 1.1772 - val_accuracy: 0.6522 - val_tf_f1: 0.8323\n",
      "Epoch 6/50\n",
      "4646/4646 [==============================] - 26s 5ms/step - loss: 0.2034 - accuracy: 0.9214 - tf_f1: 0.8392 - val_loss: 1.1234 - val_accuracy: 0.7008 - val_tf_f1: 0.8455\n",
      "Epoch 7/50\n",
      "4646/4646 [==============================] - 26s 5ms/step - loss: 0.1851 - accuracy: 0.9300 - tf_f1: 0.8511 - val_loss: 1.2302 - val_accuracy: 0.6870 - val_tf_f1: 0.8561\n",
      "Epoch 8/50\n",
      "4646/4646 [==============================] - 26s 5ms/step - loss: 0.1656 - accuracy: 0.9391 - tf_f1: 0.8608 - val_loss: 1.2655 - val_accuracy: 0.6870 - val_tf_f1: 0.8650\n",
      "Epoch 9/50\n",
      "4646/4646 [==============================] - 26s 5ms/step - loss: 0.1528 - accuracy: 0.9442 - tf_f1: 0.8689 - val_loss: 1.3319 - val_accuracy: 0.6891 - val_tf_f1: 0.8725\n",
      "Epoch 10/50\n",
      "4646/4646 [==============================] - 26s 5ms/step - loss: 0.1420 - accuracy: 0.9482 - tf_f1: 0.8758 - val_loss: 1.3759 - val_accuracy: 0.7047 - val_tf_f1: 0.8788\n",
      "Epoch 11/50\n",
      "4646/4646 [==============================] - 26s 5ms/step - loss: 0.1339 - accuracy: 0.9509 - tf_f1: 0.8816 - val_loss: 1.3980 - val_accuracy: 0.7031 - val_tf_f1: 0.8843\n",
      "Epoch 12/50\n",
      "4646/4646 [==============================] - 26s 5ms/step - loss: 0.1247 - accuracy: 0.9555 - tf_f1: 0.8868 - val_loss: 1.4702 - val_accuracy: 0.6885 - val_tf_f1: 0.8891\n",
      "Epoch 13/50\n",
      "4646/4646 [==============================] - 26s 5ms/step - loss: 0.1184 - accuracy: 0.9572 - tf_f1: 0.8912 - val_loss: 1.5366 - val_accuracy: 0.6759 - val_tf_f1: 0.8932\n",
      "Epoch 14/50\n",
      "4646/4646 [==============================] - 26s 5ms/step - loss: 0.1145 - accuracy: 0.9595 - tf_f1: 0.8951 - val_loss: 1.4809 - val_accuracy: 0.7162 - val_tf_f1: 0.8970\n",
      "Epoch 15/50\n",
      "4646/4646 [==============================] - 26s 5ms/step - loss: 0.1094 - accuracy: 0.9609 - tf_f1: 0.8987 - val_loss: 1.6647 - val_accuracy: 0.6435 - val_tf_f1: 0.9002\n",
      "Epoch 16/50\n",
      "4646/4646 [==============================] - 26s 5ms/step - loss: 0.1053 - accuracy: 0.9624 - tf_f1: 0.9017 - val_loss: 1.5539 - val_accuracy: 0.7074 - val_tf_f1: 0.9032\n",
      "Epoch 17/50\n",
      "4646/4646 [==============================] - 26s 6ms/step - loss: 0.1021 - accuracy: 0.9636 - tf_f1: 0.9046 - val_loss: 1.6283 - val_accuracy: 0.6880 - val_tf_f1: 0.9059\n"
     ]
    },
    {
     "name": "stderr",
     "output_type": "stream",
     "text": [
      "\u001b[32m[I 2022-09-08 09:15:12,838]\u001b[0m Trial 86 finished with value: 0.9058829545974731 and parameters: {'lr': 0.08598835251713638, 'units': 48}. Best is trial 86 with value: 0.9058829545974731.\u001b[0m\n"
     ]
    },
    {
     "name": "stdout",
     "output_type": "stream",
     "text": [
      "Epoch 00017: early stopping\n",
      "Epoch 1/50\n"
     ]
    },
    {
     "name": "stderr",
     "output_type": "stream",
     "text": [
      "c:\\Users\\Lim Jia Hui\\Desktop\\Python\\lib\\site-packages\\tensorflow\\python\\framework\\indexed_slices.py:444: UserWarning: Converting sparse IndexedSlices(IndexedSlices(indices=Tensor(\"gradient_tape/sequential_87/dense_174/embedding_lookup_sparse/Reshape_1:0\", shape=(None,), dtype=int32), values=Tensor(\"gradient_tape/sequential_87/dense_174/embedding_lookup_sparse/Reshape:0\", shape=(None, 48), dtype=float32), dense_shape=Tensor(\"gradient_tape/sequential_87/dense_174/embedding_lookup_sparse/Cast:0\", shape=(2,), dtype=int32))) to a dense Tensor of unknown shape. This may consume a large amount of memory.\n",
      "  warnings.warn(\n"
     ]
    },
    {
     "name": "stdout",
     "output_type": "stream",
     "text": [
      "4646/4646 [==============================] - 26s 6ms/step - loss: 0.7794 - accuracy: 0.6798 - tf_f1: 0.5483 - val_loss: 1.0328 - val_accuracy: 0.5715 - val_tf_f1: 0.6732\n",
      "Epoch 2/50\n",
      "4646/4646 [==============================] - 26s 5ms/step - loss: 0.4199 - accuracy: 0.8277 - tf_f1: 0.7160 - val_loss: 0.9116 - val_accuracy: 0.7034 - val_tf_f1: 0.7484\n",
      "Epoch 3/50\n",
      "4646/4646 [==============================] - 26s 5ms/step - loss: 0.3291 - accuracy: 0.8644 - tf_f1: 0.7693 - val_loss: 1.1446 - val_accuracy: 0.5825 - val_tf_f1: 0.7850\n",
      "Epoch 4/50\n",
      "4646/4646 [==============================] - 26s 5ms/step - loss: 0.2821 - accuracy: 0.8846 - tf_f1: 0.7970 - val_loss: 0.9855 - val_accuracy: 0.7254 - val_tf_f1: 0.8081\n",
      "Epoch 5/50\n",
      "4646/4646 [==============================] - 26s 5ms/step - loss: 0.2563 - accuracy: 0.8972 - tf_f1: 0.8171 - val_loss: 1.1423 - val_accuracy: 0.6929 - val_tf_f1: 0.8247\n",
      "Epoch 6/50\n",
      "4646/4646 [==============================] - 26s 5ms/step - loss: 0.2342 - accuracy: 0.9071 - tf_f1: 0.8313 - val_loss: 1.3695 - val_accuracy: 0.5565 - val_tf_f1: 0.8365\n",
      "Epoch 7/50\n",
      "4646/4646 [==============================] - 26s 6ms/step - loss: 0.2118 - accuracy: 0.9173 - tf_f1: 0.8413 - val_loss: 1.1869 - val_accuracy: 0.6749 - val_tf_f1: 0.8462\n",
      "Epoch 8/50\n",
      "4646/4646 [==============================] - 26s 5ms/step - loss: 0.1983 - accuracy: 0.9232 - tf_f1: 0.8505 - val_loss: 1.1987 - val_accuracy: 0.6879 - val_tf_f1: 0.8545\n",
      "Epoch 9/50\n",
      "4646/4646 [==============================] - 26s 6ms/step - loss: 0.1841 - accuracy: 0.9304 - tf_f1: 0.8583 - val_loss: 1.3231 - val_accuracy: 0.6603 - val_tf_f1: 0.8617\n",
      "Epoch 10/50\n",
      "4646/4646 [==============================] - 26s 5ms/step - loss: 0.1731 - accuracy: 0.9350 - tf_f1: 0.8648 - val_loss: 1.3094 - val_accuracy: 0.6800 - val_tf_f1: 0.8678\n",
      "Epoch 11/50\n",
      "4646/4646 [==============================] - 26s 5ms/step - loss: 0.1661 - accuracy: 0.9384 - tf_f1: 0.8705 - val_loss: 1.3581 - val_accuracy: 0.6990 - val_tf_f1: 0.8731\n",
      "Epoch 12/50\n",
      "4646/4646 [==============================] - 26s 5ms/step - loss: 0.1560 - accuracy: 0.9423 - tf_f1: 0.8756 - val_loss: 1.3705 - val_accuracy: 0.6904 - val_tf_f1: 0.8779\n",
      "Epoch 13/50\n",
      "4646/4646 [==============================] - 26s 5ms/step - loss: 0.1494 - accuracy: 0.9451 - tf_f1: 0.8801 - val_loss: 1.3892 - val_accuracy: 0.6795 - val_tf_f1: 0.8821\n",
      "Epoch 14/50\n",
      "4646/4646 [==============================] - 26s 5ms/step - loss: 0.1431 - accuracy: 0.9476 - tf_f1: 0.8840 - val_loss: 1.4462 - val_accuracy: 0.7012 - val_tf_f1: 0.8859\n",
      "Epoch 15/50\n",
      "4646/4646 [==============================] - 26s 5ms/step - loss: 0.1377 - accuracy: 0.9499 - tf_f1: 0.8877 - val_loss: 1.4745 - val_accuracy: 0.6706 - val_tf_f1: 0.8892\n",
      "Epoch 16/50\n",
      "4646/4646 [==============================] - 26s 6ms/step - loss: 0.1336 - accuracy: 0.9518 - tf_f1: 0.8908 - val_loss: 1.6884 - val_accuracy: 0.6073 - val_tf_f1: 0.8921\n",
      "Epoch 17/50\n",
      "4646/4646 [==============================] - 26s 5ms/step - loss: 0.1298 - accuracy: 0.9525 - tf_f1: 0.8934 - val_loss: 1.5081 - val_accuracy: 0.6812 - val_tf_f1: 0.8948\n"
     ]
    },
    {
     "name": "stderr",
     "output_type": "stream",
     "text": [
      "\u001b[32m[I 2022-09-08 09:22:34,676]\u001b[0m Trial 87 pruned. Trial was pruned at epoch 16.\u001b[0m\n"
     ]
    },
    {
     "name": "stdout",
     "output_type": "stream",
     "text": [
      "Epoch 1/50\n"
     ]
    },
    {
     "name": "stderr",
     "output_type": "stream",
     "text": [
      "c:\\Users\\Lim Jia Hui\\Desktop\\Python\\lib\\site-packages\\tensorflow\\python\\framework\\indexed_slices.py:444: UserWarning: Converting sparse IndexedSlices(IndexedSlices(indices=Tensor(\"gradient_tape/sequential_88/dense_176/embedding_lookup_sparse/Reshape_1:0\", shape=(None,), dtype=int32), values=Tensor(\"gradient_tape/sequential_88/dense_176/embedding_lookup_sparse/Reshape:0\", shape=(None, 50), dtype=float32), dense_shape=Tensor(\"gradient_tape/sequential_88/dense_176/embedding_lookup_sparse/Cast:0\", shape=(2,), dtype=int32))) to a dense Tensor of unknown shape. This may consume a large amount of memory.\n",
      "  warnings.warn(\n"
     ]
    },
    {
     "name": "stdout",
     "output_type": "stream",
     "text": [
      "4646/4646 [==============================] - 26s 6ms/step - loss: 0.7650 - accuracy: 0.6840 - tf_f1: 0.5549 - val_loss: 1.1415 - val_accuracy: 0.5257 - val_tf_f1: 0.6777\n",
      "Epoch 2/50\n",
      "4646/4646 [==============================] - 26s 5ms/step - loss: 0.4115 - accuracy: 0.8303 - tf_f1: 0.7192 - val_loss: 1.0959 - val_accuracy: 0.5771 - val_tf_f1: 0.7495\n",
      "Epoch 3/50\n",
      "4646/4646 [==============================] - 26s 5ms/step - loss: 0.3209 - accuracy: 0.8674 - tf_f1: 0.7695 - val_loss: 1.0598 - val_accuracy: 0.6490 - val_tf_f1: 0.7860\n",
      "Epoch 4/50\n",
      "4646/4646 [==============================] - 26s 5ms/step - loss: 0.2800 - accuracy: 0.8855 - tf_f1: 0.7984 - val_loss: 1.0749 - val_accuracy: 0.6703 - val_tf_f1: 0.8090\n",
      "Epoch 5/50\n",
      "4646/4646 [==============================] - 26s 5ms/step - loss: 0.2495 - accuracy: 0.8997 - tf_f1: 0.8179 - val_loss: 1.1933 - val_accuracy: 0.6363 - val_tf_f1: 0.8253\n",
      "Epoch 6/50\n",
      "4646/4646 [==============================] - 26s 5ms/step - loss: 0.2246 - accuracy: 0.9117 - tf_f1: 0.8319 - val_loss: 1.2473 - val_accuracy: 0.6475 - val_tf_f1: 0.8379\n",
      "Epoch 7/50\n",
      "4646/4646 [==============================] - 26s 5ms/step - loss: 0.2066 - accuracy: 0.9205 - tf_f1: 0.8432 - val_loss: 1.2366 - val_accuracy: 0.6620 - val_tf_f1: 0.8480\n",
      "Epoch 8/50\n",
      "4646/4646 [==============================] - 26s 5ms/step - loss: 0.1916 - accuracy: 0.9273 - tf_f1: 0.8525 - val_loss: 1.1880 - val_accuracy: 0.7289 - val_tf_f1: 0.8567\n",
      "Epoch 9/50\n",
      "4646/4646 [==============================] - 26s 5ms/step - loss: 0.1800 - accuracy: 0.9320 - tf_f1: 0.8606 - val_loss: 1.2690 - val_accuracy: 0.7004 - val_tf_f1: 0.8640\n",
      "Epoch 10/50\n",
      "4646/4646 [==============================] - 26s 5ms/step - loss: 0.1669 - accuracy: 0.9382 - tf_f1: 0.8674 - val_loss: 1.3316 - val_accuracy: 0.6625 - val_tf_f1: 0.8702\n",
      "Epoch 11/50\n",
      "4646/4646 [==============================] - 26s 5ms/step - loss: 0.1591 - accuracy: 0.9412 - tf_f1: 0.8730 - val_loss: 1.4652 - val_accuracy: 0.6212 - val_tf_f1: 0.8754\n",
      "Epoch 12/50\n",
      "4646/4646 [==============================] - 26s 5ms/step - loss: 0.1505 - accuracy: 0.9451 - tf_f1: 0.8777 - val_loss: 1.3827 - val_accuracy: 0.6988 - val_tf_f1: 0.8800\n",
      "Epoch 13/50\n",
      "4646/4646 [==============================] - 26s 5ms/step - loss: 0.1446 - accuracy: 0.9477 - tf_f1: 0.8822 - val_loss: 1.4537 - val_accuracy: 0.6654 - val_tf_f1: 0.8842\n",
      "Epoch 14/50\n",
      "4646/4646 [==============================] - 26s 5ms/step - loss: 0.1391 - accuracy: 0.9492 - tf_f1: 0.8861 - val_loss: 1.4889 - val_accuracy: 0.6739 - val_tf_f1: 0.8878\n",
      "Epoch 15/50\n",
      "4646/4646 [==============================] - 26s 6ms/step - loss: 0.1352 - accuracy: 0.9513 - tf_f1: 0.8896 - val_loss: 1.6156 - val_accuracy: 0.6300 - val_tf_f1: 0.8910\n",
      "Epoch 16/50\n",
      "4646/4646 [==============================] - 26s 6ms/step - loss: 0.1308 - accuracy: 0.9535 - tf_f1: 0.8925 - val_loss: 1.5445 - val_accuracy: 0.6713 - val_tf_f1: 0.8940\n",
      "Epoch 17/50\n",
      "4646/4646 [==============================] - 26s 5ms/step - loss: 0.1255 - accuracy: 0.9555 - tf_f1: 0.8954 - val_loss: 1.6403 - val_accuracy: 0.6352 - val_tf_f1: 0.8966\n"
     ]
    },
    {
     "name": "stderr",
     "output_type": "stream",
     "text": [
      "\u001b[32m[I 2022-09-08 09:29:56,104]\u001b[0m Trial 88 pruned. Trial was pruned at epoch 16.\u001b[0m\n"
     ]
    },
    {
     "name": "stdout",
     "output_type": "stream",
     "text": [
      "Epoch 1/50\n"
     ]
    },
    {
     "name": "stderr",
     "output_type": "stream",
     "text": [
      "c:\\Users\\Lim Jia Hui\\Desktop\\Python\\lib\\site-packages\\tensorflow\\python\\framework\\indexed_slices.py:444: UserWarning: Converting sparse IndexedSlices(IndexedSlices(indices=Tensor(\"gradient_tape/sequential_89/dense_178/embedding_lookup_sparse/Reshape_1:0\", shape=(None,), dtype=int32), values=Tensor(\"gradient_tape/sequential_89/dense_178/embedding_lookup_sparse/Reshape:0\", shape=(None, 47), dtype=float32), dense_shape=Tensor(\"gradient_tape/sequential_89/dense_178/embedding_lookup_sparse/Cast:0\", shape=(2,), dtype=int32))) to a dense Tensor of unknown shape. This may consume a large amount of memory.\n",
      "  warnings.warn(\n"
     ]
    },
    {
     "name": "stdout",
     "output_type": "stream",
     "text": [
      "4646/4646 [==============================] - 26s 5ms/step - loss: 0.7690 - accuracy: 0.6830 - tf_f1: 0.5547 - val_loss: 0.9619 - val_accuracy: 0.6412 - val_tf_f1: 0.6791\n",
      "Epoch 2/50\n",
      "4646/4646 [==============================] - 26s 5ms/step - loss: 0.4160 - accuracy: 0.8293 - tf_f1: 0.7217 - val_loss: 1.0423 - val_accuracy: 0.6265 - val_tf_f1: 0.7520\n",
      "Epoch 3/50\n",
      "4646/4646 [==============================] - 26s 5ms/step - loss: 0.3237 - accuracy: 0.8673 - tf_f1: 0.7719 - val_loss: 1.1064 - val_accuracy: 0.6310 - val_tf_f1: 0.7879\n",
      "Epoch 4/50\n",
      "4646/4646 [==============================] - 26s 5ms/step - loss: 0.2701 - accuracy: 0.8907 - tf_f1: 0.8006 - val_loss: 1.1322 - val_accuracy: 0.6917 - val_tf_f1: 0.8117\n",
      "Epoch 5/50\n",
      "4646/4646 [==============================] - 26s 5ms/step - loss: 0.2365 - accuracy: 0.9068 - tf_f1: 0.8209 - val_loss: 1.2830 - val_accuracy: 0.6153 - val_tf_f1: 0.8287\n",
      "Epoch 6/50\n",
      "4646/4646 [==============================] - 26s 5ms/step - loss: 0.2097 - accuracy: 0.9192 - tf_f1: 0.8355 - val_loss: 1.1948 - val_accuracy: 0.6732 - val_tf_f1: 0.8418\n",
      "Epoch 7/50\n",
      "4646/4646 [==============================] - 26s 5ms/step - loss: 0.1895 - accuracy: 0.9276 - tf_f1: 0.8474 - val_loss: 1.2845 - val_accuracy: 0.6675 - val_tf_f1: 0.8524\n",
      "Epoch 8/50\n",
      "4646/4646 [==============================] - 26s 5ms/step - loss: 0.1730 - accuracy: 0.9349 - tf_f1: 0.8570 - val_loss: 1.3328 - val_accuracy: 0.6565 - val_tf_f1: 0.8612\n",
      "Epoch 9/50\n",
      "4646/4646 [==============================] - 26s 5ms/step - loss: 0.1590 - accuracy: 0.9409 - tf_f1: 0.8650 - val_loss: 1.3373 - val_accuracy: 0.7107 - val_tf_f1: 0.8687\n",
      "Epoch 10/50\n",
      "4646/4646 [==============================] - 26s 6ms/step - loss: 0.1492 - accuracy: 0.9458 - tf_f1: 0.8721 - val_loss: 1.4491 - val_accuracy: 0.6746 - val_tf_f1: 0.8751\n",
      "Epoch 11/50\n",
      "4646/4646 [==============================] - 26s 5ms/step - loss: 0.1396 - accuracy: 0.9488 - tf_f1: 0.8780 - val_loss: 1.4412 - val_accuracy: 0.6945 - val_tf_f1: 0.8806\n",
      "Epoch 12/50\n",
      "4646/4646 [==============================] - 27s 6ms/step - loss: 0.1310 - accuracy: 0.9524 - tf_f1: 0.8832 - val_loss: 1.6221 - val_accuracy: 0.6356 - val_tf_f1: 0.8854\n",
      "Epoch 13/50\n",
      "4646/4646 [==============================] - 26s 5ms/step - loss: 0.1242 - accuracy: 0.9551 - tf_f1: 0.8875 - val_loss: 1.5396 - val_accuracy: 0.6805 - val_tf_f1: 0.8896\n",
      "Epoch 14/50\n",
      "4646/4646 [==============================] - 26s 6ms/step - loss: 0.1206 - accuracy: 0.9567 - tf_f1: 0.8915 - val_loss: 1.6225 - val_accuracy: 0.6423 - val_tf_f1: 0.8933\n",
      "Epoch 15/50\n",
      "4646/4646 [==============================] - 26s 5ms/step - loss: 0.1130 - accuracy: 0.9595 - tf_f1: 0.8950 - val_loss: 1.6291 - val_accuracy: 0.6715 - val_tf_f1: 0.8966\n",
      "Epoch 16/50\n",
      "4646/4646 [==============================] - 26s 5ms/step - loss: 0.1121 - accuracy: 0.9596 - tf_f1: 0.8982 - val_loss: 1.6655 - val_accuracy: 0.6515 - val_tf_f1: 0.8996\n",
      "Epoch 17/50\n",
      "4646/4646 [==============================] - 26s 5ms/step - loss: 0.1081 - accuracy: 0.9612 - tf_f1: 0.9009 - val_loss: 1.7355 - val_accuracy: 0.6674 - val_tf_f1: 0.9022\n"
     ]
    },
    {
     "name": "stderr",
     "output_type": "stream",
     "text": [
      "\u001b[32m[I 2022-09-08 09:37:16,943]\u001b[0m Trial 89 finished with value: 0.9022337198257446 and parameters: {'lr': 0.0863182015728824, 'units': 47}. Best is trial 86 with value: 0.9058829545974731.\u001b[0m\n"
     ]
    },
    {
     "name": "stdout",
     "output_type": "stream",
     "text": [
      "Epoch 00017: early stopping\n",
      "Epoch 1/50\n"
     ]
    },
    {
     "name": "stderr",
     "output_type": "stream",
     "text": [
      "c:\\Users\\Lim Jia Hui\\Desktop\\Python\\lib\\site-packages\\tensorflow\\python\\framework\\indexed_slices.py:444: UserWarning: Converting sparse IndexedSlices(IndexedSlices(indices=Tensor(\"gradient_tape/sequential_90/dense_180/embedding_lookup_sparse/Reshape_1:0\", shape=(None,), dtype=int32), values=Tensor(\"gradient_tape/sequential_90/dense_180/embedding_lookup_sparse/Reshape:0\", shape=(None, 44), dtype=float32), dense_shape=Tensor(\"gradient_tape/sequential_90/dense_180/embedding_lookup_sparse/Cast:0\", shape=(2,), dtype=int32))) to a dense Tensor of unknown shape. This may consume a large amount of memory.\n",
      "  warnings.warn(\n"
     ]
    },
    {
     "name": "stdout",
     "output_type": "stream",
     "text": [
      "4646/4646 [==============================] - 26s 5ms/step - loss: 0.7685 - accuracy: 0.6847 - tf_f1: 0.5552 - val_loss: 1.1723 - val_accuracy: 0.4972 - val_tf_f1: 0.6766\n",
      "Epoch 2/50\n",
      "4646/4646 [==============================] - 26s 5ms/step - loss: 0.4203 - accuracy: 0.8274 - tf_f1: 0.7168 - val_loss: 0.9596 - val_accuracy: 0.6701 - val_tf_f1: 0.7484\n",
      "Epoch 3/50\n",
      "4646/4646 [==============================] - 26s 5ms/step - loss: 0.3332 - accuracy: 0.8639 - tf_f1: 0.7689 - val_loss: 1.1761 - val_accuracy: 0.5536 - val_tf_f1: 0.7843\n",
      "Epoch 4/50\n",
      "4646/4646 [==============================] - 26s 5ms/step - loss: 0.2880 - accuracy: 0.8829 - tf_f1: 0.7959 - val_loss: 1.0492 - val_accuracy: 0.6838 - val_tf_f1: 0.8066\n",
      "Epoch 5/50\n",
      "4646/4646 [==============================] - 26s 6ms/step - loss: 0.2545 - accuracy: 0.8999 - tf_f1: 0.8158 - val_loss: 1.1528 - val_accuracy: 0.6775 - val_tf_f1: 0.8236\n"
     ]
    },
    {
     "name": "stderr",
     "output_type": "stream",
     "text": [
      "\u001b[32m[I 2022-09-08 09:39:27,482]\u001b[0m Trial 90 pruned. Trial was pruned at epoch 4.\u001b[0m\n"
     ]
    },
    {
     "name": "stdout",
     "output_type": "stream",
     "text": [
      "Epoch 1/50\n"
     ]
    },
    {
     "name": "stderr",
     "output_type": "stream",
     "text": [
      "c:\\Users\\Lim Jia Hui\\Desktop\\Python\\lib\\site-packages\\tensorflow\\python\\framework\\indexed_slices.py:444: UserWarning: Converting sparse IndexedSlices(IndexedSlices(indices=Tensor(\"gradient_tape/sequential_91/dense_182/embedding_lookup_sparse/Reshape_1:0\", shape=(None,), dtype=int32), values=Tensor(\"gradient_tape/sequential_91/dense_182/embedding_lookup_sparse/Reshape:0\", shape=(None, 47), dtype=float32), dense_shape=Tensor(\"gradient_tape/sequential_91/dense_182/embedding_lookup_sparse/Cast:0\", shape=(2,), dtype=int32))) to a dense Tensor of unknown shape. This may consume a large amount of memory.\n",
      "  warnings.warn(\n"
     ]
    },
    {
     "name": "stdout",
     "output_type": "stream",
     "text": [
      "4646/4646 [==============================] - 27s 6ms/step - loss: 0.7703 - accuracy: 0.6816 - tf_f1: 0.5531 - val_loss: 0.9016 - val_accuracy: 0.6742 - val_tf_f1: 0.6793\n",
      "Epoch 2/50\n",
      "4646/4646 [==============================] - 26s 5ms/step - loss: 0.4123 - accuracy: 0.8304 - tf_f1: 0.7231 - val_loss: 1.0508 - val_accuracy: 0.5946 - val_tf_f1: 0.7527\n",
      "Epoch 3/50\n",
      "4646/4646 [==============================] - 26s 5ms/step - loss: 0.3212 - accuracy: 0.8672 - tf_f1: 0.7722 - val_loss: 1.1028 - val_accuracy: 0.6585 - val_tf_f1: 0.7885\n",
      "Epoch 4/50\n",
      "4646/4646 [==============================] - 26s 5ms/step - loss: 0.2789 - accuracy: 0.8865 - tf_f1: 0.8008 - val_loss: 1.3565 - val_accuracy: 0.5437 - val_tf_f1: 0.8103\n",
      "Epoch 5/50\n",
      "4646/4646 [==============================] - 26s 5ms/step - loss: 0.2533 - accuracy: 0.8980 - tf_f1: 0.8181 - val_loss: 1.1024 - val_accuracy: 0.7056 - val_tf_f1: 0.8258\n",
      "Epoch 6/50\n",
      "4646/4646 [==============================] - 26s 5ms/step - loss: 0.2314 - accuracy: 0.9087 - tf_f1: 0.8325 - val_loss: 1.1937 - val_accuracy: 0.6794 - val_tf_f1: 0.8382\n",
      "Epoch 7/50\n",
      "4646/4646 [==============================] - 26s 5ms/step - loss: 0.2127 - accuracy: 0.9167 - tf_f1: 0.8434 - val_loss: 1.2033 - val_accuracy: 0.6757 - val_tf_f1: 0.8480\n",
      "Epoch 8/50\n",
      "4646/4646 [==============================] - 26s 5ms/step - loss: 0.1985 - accuracy: 0.9232 - tf_f1: 0.8523 - val_loss: 1.3433 - val_accuracy: 0.6970 - val_tf_f1: 0.8562\n",
      "Epoch 9/50\n",
      "4646/4646 [==============================] - 26s 5ms/step - loss: 0.1870 - accuracy: 0.9291 - tf_f1: 0.8598 - val_loss: 1.2998 - val_accuracy: 0.7013 - val_tf_f1: 0.8631\n",
      "Epoch 10/50\n",
      "4646/4646 [==============================] - 26s 5ms/step - loss: 0.1764 - accuracy: 0.9334 - tf_f1: 0.8662 - val_loss: 1.4514 - val_accuracy: 0.6231 - val_tf_f1: 0.8689\n",
      "Epoch 11/50\n",
      "4646/4646 [==============================] - 26s 5ms/step - loss: 0.1662 - accuracy: 0.9382 - tf_f1: 0.8714 - val_loss: 1.3970 - val_accuracy: 0.6671 - val_tf_f1: 0.8739\n",
      "Epoch 12/50\n",
      "4646/4646 [==============================] - 26s 5ms/step - loss: 0.1582 - accuracy: 0.9414 - tf_f1: 0.8762 - val_loss: 1.4560 - val_accuracy: 0.6855 - val_tf_f1: 0.8784\n",
      "Epoch 13/50\n",
      "4646/4646 [==============================] - 26s 5ms/step - loss: 0.1521 - accuracy: 0.9447 - tf_f1: 0.8806 - val_loss: 1.6544 - val_accuracy: 0.5863 - val_tf_f1: 0.8824\n",
      "Epoch 14/50\n",
      "4646/4646 [==============================] - 26s 5ms/step - loss: 0.1453 - accuracy: 0.9468 - tf_f1: 0.8841 - val_loss: 1.5120 - val_accuracy: 0.6910 - val_tf_f1: 0.8858\n",
      "Epoch 15/50\n",
      "4646/4646 [==============================] - 26s 5ms/step - loss: 0.1405 - accuracy: 0.9487 - tf_f1: 0.8876 - val_loss: 1.6194 - val_accuracy: 0.6537 - val_tf_f1: 0.8891\n",
      "Epoch 16/50\n",
      "4646/4646 [==============================] - 26s 5ms/step - loss: 0.1358 - accuracy: 0.9510 - tf_f1: 0.8906 - val_loss: 1.8294 - val_accuracy: 0.5764 - val_tf_f1: 0.8919\n"
     ]
    },
    {
     "name": "stderr",
     "output_type": "stream",
     "text": [
      "\u001b[32m[I 2022-09-08 09:46:21,710]\u001b[0m Trial 91 finished with value: 0.8918805718421936 and parameters: {'lr': 0.09395855989044861, 'units': 47}. Best is trial 86 with value: 0.9058829545974731.\u001b[0m\n"
     ]
    },
    {
     "name": "stdout",
     "output_type": "stream",
     "text": [
      "Epoch 00016: early stopping\n",
      "Epoch 1/50\n"
     ]
    },
    {
     "name": "stderr",
     "output_type": "stream",
     "text": [
      "c:\\Users\\Lim Jia Hui\\Desktop\\Python\\lib\\site-packages\\tensorflow\\python\\framework\\indexed_slices.py:444: UserWarning: Converting sparse IndexedSlices(IndexedSlices(indices=Tensor(\"gradient_tape/sequential_92/dense_184/embedding_lookup_sparse/Reshape_1:0\", shape=(None,), dtype=int32), values=Tensor(\"gradient_tape/sequential_92/dense_184/embedding_lookup_sparse/Reshape:0\", shape=(None, 48), dtype=float32), dense_shape=Tensor(\"gradient_tape/sequential_92/dense_184/embedding_lookup_sparse/Cast:0\", shape=(2,), dtype=int32))) to a dense Tensor of unknown shape. This may consume a large amount of memory.\n",
      "  warnings.warn(\n"
     ]
    },
    {
     "name": "stdout",
     "output_type": "stream",
     "text": [
      "4646/4646 [==============================] - 27s 6ms/step - loss: 0.7880 - accuracy: 0.6734 - tf_f1: 0.5440 - val_loss: 0.8133 - val_accuracy: 0.7265 - val_tf_f1: 0.6722\n",
      "Epoch 2/50\n",
      "4646/4646 [==============================] - 26s 5ms/step - loss: 0.4419 - accuracy: 0.8197 - tf_f1: 0.7162 - val_loss: 0.9923 - val_accuracy: 0.6603 - val_tf_f1: 0.7457\n",
      "Epoch 3/50\n",
      "4646/4646 [==============================] - 26s 5ms/step - loss: 0.3522 - accuracy: 0.8567 - tf_f1: 0.7654 - val_loss: 1.1945 - val_accuracy: 0.5764 - val_tf_f1: 0.7803\n",
      "Epoch 4/50\n",
      "4646/4646 [==============================] - 26s 5ms/step - loss: 0.3061 - accuracy: 0.8755 - tf_f1: 0.7917 - val_loss: 1.0521 - val_accuracy: 0.7058 - val_tf_f1: 0.8022\n",
      "Epoch 5/50\n",
      "4646/4646 [==============================] - 26s 6ms/step - loss: 0.2782 - accuracy: 0.8898 - tf_f1: 0.8110 - val_loss: 1.1650 - val_accuracy: 0.6509 - val_tf_f1: 0.8183\n"
     ]
    },
    {
     "name": "stderr",
     "output_type": "stream",
     "text": [
      "\u001b[32m[I 2022-09-08 09:48:32,672]\u001b[0m Trial 92 pruned. Trial was pruned at epoch 4.\u001b[0m\n"
     ]
    },
    {
     "name": "stdout",
     "output_type": "stream",
     "text": [
      "Epoch 1/50\n"
     ]
    },
    {
     "name": "stderr",
     "output_type": "stream",
     "text": [
      "c:\\Users\\Lim Jia Hui\\Desktop\\Python\\lib\\site-packages\\tensorflow\\python\\framework\\indexed_slices.py:444: UserWarning: Converting sparse IndexedSlices(IndexedSlices(indices=Tensor(\"gradient_tape/sequential_93/dense_186/embedding_lookup_sparse/Reshape_1:0\", shape=(None,), dtype=int32), values=Tensor(\"gradient_tape/sequential_93/dense_186/embedding_lookup_sparse/Reshape:0\", shape=(None, 46), dtype=float32), dense_shape=Tensor(\"gradient_tape/sequential_93/dense_186/embedding_lookup_sparse/Cast:0\", shape=(2,), dtype=int32))) to a dense Tensor of unknown shape. This may consume a large amount of memory.\n",
      "  warnings.warn(\n"
     ]
    },
    {
     "name": "stdout",
     "output_type": "stream",
     "text": [
      "4646/4646 [==============================] - 27s 6ms/step - loss: 0.7703 - accuracy: 0.6846 - tf_f1: 0.5581 - val_loss: 0.9982 - val_accuracy: 0.6322 - val_tf_f1: 0.6806\n",
      "Epoch 2/50\n",
      "4646/4646 [==============================] - 26s 6ms/step - loss: 0.4169 - accuracy: 0.8294 - tf_f1: 0.7228 - val_loss: 1.0353 - val_accuracy: 0.6641 - val_tf_f1: 0.7529\n",
      "Epoch 3/50\n",
      "4646/4646 [==============================] - 26s 5ms/step - loss: 0.3295 - accuracy: 0.8656 - tf_f1: 0.7727 - val_loss: 0.9644 - val_accuracy: 0.7103 - val_tf_f1: 0.7890\n",
      "Epoch 4/50\n",
      "4646/4646 [==============================] - 26s 5ms/step - loss: 0.2797 - accuracy: 0.8871 - tf_f1: 0.8017 - val_loss: 1.3000 - val_accuracy: 0.5589 - val_tf_f1: 0.8113\n",
      "Epoch 5/50\n",
      "4646/4646 [==============================] - 26s 5ms/step - loss: 0.2464 - accuracy: 0.9026 - tf_f1: 0.8194 - val_loss: 1.0965 - val_accuracy: 0.6868 - val_tf_f1: 0.8273\n",
      "Epoch 6/50\n",
      "4646/4646 [==============================] - 26s 5ms/step - loss: 0.2201 - accuracy: 0.9148 - tf_f1: 0.8342 - val_loss: 1.2530 - val_accuracy: 0.6425 - val_tf_f1: 0.8402\n",
      "Epoch 7/50\n",
      "4646/4646 [==============================] - 26s 6ms/step - loss: 0.1970 - accuracy: 0.9253 - tf_f1: 0.8457 - val_loss: 1.2160 - val_accuracy: 0.6798 - val_tf_f1: 0.8507\n",
      "Epoch 8/50\n",
      "4646/4646 [==============================] - 26s 5ms/step - loss: 0.1825 - accuracy: 0.9322 - tf_f1: 0.8552 - val_loss: 1.2810 - val_accuracy: 0.6655 - val_tf_f1: 0.8594\n",
      "Epoch 9/50\n",
      "4646/4646 [==============================] - 26s 5ms/step - loss: 0.1670 - accuracy: 0.9386 - tf_f1: 0.8632 - val_loss: 1.3049 - val_accuracy: 0.6713 - val_tf_f1: 0.8667\n",
      "Epoch 10/50\n",
      "4646/4646 [==============================] - 26s 5ms/step - loss: 0.1537 - accuracy: 0.9439 - tf_f1: 0.8701 - val_loss: 1.5011 - val_accuracy: 0.6287 - val_tf_f1: 0.8730\n",
      "Epoch 11/50\n",
      "4646/4646 [==============================] - 26s 5ms/step - loss: 0.1445 - accuracy: 0.9482 - tf_f1: 0.8758 - val_loss: 1.4474 - val_accuracy: 0.7181 - val_tf_f1: 0.8786\n",
      "Epoch 12/50\n",
      "4646/4646 [==============================] - 26s 5ms/step - loss: 0.1376 - accuracy: 0.9506 - tf_f1: 0.8812 - val_loss: 1.4438 - val_accuracy: 0.6797 - val_tf_f1: 0.8835\n",
      "Epoch 13/50\n",
      "4646/4646 [==============================] - 26s 6ms/step - loss: 0.1310 - accuracy: 0.9528 - tf_f1: 0.8857 - val_loss: 1.5411 - val_accuracy: 0.6578 - val_tf_f1: 0.8877\n",
      "Epoch 14/50\n",
      "4646/4646 [==============================] - 26s 6ms/step - loss: 0.1235 - accuracy: 0.9560 - tf_f1: 0.8897 - val_loss: 1.6373 - val_accuracy: 0.6391 - val_tf_f1: 0.8915\n",
      "Epoch 15/50\n",
      "4646/4646 [==============================] - 26s 5ms/step - loss: 0.1200 - accuracy: 0.9576 - tf_f1: 0.8931 - val_loss: 1.5344 - val_accuracy: 0.7131 - val_tf_f1: 0.8949\n",
      "Epoch 16/50\n",
      "4646/4646 [==============================] - 26s 5ms/step - loss: 0.1161 - accuracy: 0.9591 - tf_f1: 0.8966 - val_loss: 1.5585 - val_accuracy: 0.6895 - val_tf_f1: 0.8981\n",
      "Epoch 17/50\n",
      "4646/4646 [==============================] - 26s 5ms/step - loss: 0.1116 - accuracy: 0.9601 - tf_f1: 0.8995 - val_loss: 1.6746 - val_accuracy: 0.6483 - val_tf_f1: 0.9008\n"
     ]
    },
    {
     "name": "stderr",
     "output_type": "stream",
     "text": [
      "\u001b[32m[I 2022-09-08 09:55:54,534]\u001b[0m Trial 93 pruned. Trial was pruned at epoch 16.\u001b[0m\n"
     ]
    },
    {
     "name": "stdout",
     "output_type": "stream",
     "text": [
      "Epoch 1/50\n"
     ]
    },
    {
     "name": "stderr",
     "output_type": "stream",
     "text": [
      "c:\\Users\\Lim Jia Hui\\Desktop\\Python\\lib\\site-packages\\tensorflow\\python\\framework\\indexed_slices.py:444: UserWarning: Converting sparse IndexedSlices(IndexedSlices(indices=Tensor(\"gradient_tape/sequential_94/dense_188/embedding_lookup_sparse/Reshape_1:0\", shape=(None,), dtype=int32), values=Tensor(\"gradient_tape/sequential_94/dense_188/embedding_lookup_sparse/Reshape:0\", shape=(None, 47), dtype=float32), dense_shape=Tensor(\"gradient_tape/sequential_94/dense_188/embedding_lookup_sparse/Cast:0\", shape=(2,), dtype=int32))) to a dense Tensor of unknown shape. This may consume a large amount of memory.\n",
      "  warnings.warn(\n"
     ]
    },
    {
     "name": "stdout",
     "output_type": "stream",
     "text": [
      "4646/4646 [==============================] - 27s 6ms/step - loss: 0.7664 - accuracy: 0.6829 - tf_f1: 0.5580 - val_loss: 1.1887 - val_accuracy: 0.5435 - val_tf_f1: 0.6766\n",
      "Epoch 2/50\n",
      "4646/4646 [==============================] - 26s 5ms/step - loss: 0.4214 - accuracy: 0.8252 - tf_f1: 0.7167 - val_loss: 1.0195 - val_accuracy: 0.6436 - val_tf_f1: 0.7473\n",
      "Epoch 3/50\n",
      "4646/4646 [==============================] - 28s 6ms/step - loss: 0.3295 - accuracy: 0.8627 - tf_f1: 0.7675 - val_loss: 1.2672 - val_accuracy: 0.5385 - val_tf_f1: 0.7828\n",
      "Epoch 4/50\n",
      "4646/4646 [==============================] - 26s 6ms/step - loss: 0.2831 - accuracy: 0.8824 - tf_f1: 0.7945 - val_loss: 1.0838 - val_accuracy: 0.6665 - val_tf_f1: 0.8052\n",
      "Epoch 5/50\n",
      "4646/4646 [==============================] - 26s 5ms/step - loss: 0.2579 - accuracy: 0.8940 - tf_f1: 0.8139 - val_loss: 1.0987 - val_accuracy: 0.6863 - val_tf_f1: 0.8215\n"
     ]
    },
    {
     "name": "stderr",
     "output_type": "stream",
     "text": [
      "\u001b[32m[I 2022-09-08 09:58:07,122]\u001b[0m Trial 94 pruned. Trial was pruned at epoch 4.\u001b[0m\n"
     ]
    },
    {
     "name": "stdout",
     "output_type": "stream",
     "text": [
      "Epoch 1/50\n"
     ]
    },
    {
     "name": "stderr",
     "output_type": "stream",
     "text": [
      "c:\\Users\\Lim Jia Hui\\Desktop\\Python\\lib\\site-packages\\tensorflow\\python\\framework\\indexed_slices.py:444: UserWarning: Converting sparse IndexedSlices(IndexedSlices(indices=Tensor(\"gradient_tape/sequential_95/dense_190/embedding_lookup_sparse/Reshape_1:0\", shape=(None,), dtype=int32), values=Tensor(\"gradient_tape/sequential_95/dense_190/embedding_lookup_sparse/Reshape:0\", shape=(None, 45), dtype=float32), dense_shape=Tensor(\"gradient_tape/sequential_95/dense_190/embedding_lookup_sparse/Cast:0\", shape=(2,), dtype=int32))) to a dense Tensor of unknown shape. This may consume a large amount of memory.\n",
      "  warnings.warn(\n"
     ]
    },
    {
     "name": "stdout",
     "output_type": "stream",
     "text": [
      "4646/4646 [==============================] - 27s 6ms/step - loss: 0.7758 - accuracy: 0.6788 - tf_f1: 0.5500 - val_loss: 0.9555 - val_accuracy: 0.6240 - val_tf_f1: 0.6754\n",
      "Epoch 2/50\n",
      "4646/4646 [==============================] - 26s 5ms/step - loss: 0.4307 - accuracy: 0.8237 - tf_f1: 0.7170 - val_loss: 0.9651 - val_accuracy: 0.6733 - val_tf_f1: 0.7479\n",
      "Epoch 3/50\n",
      "4646/4646 [==============================] - 26s 6ms/step - loss: 0.3480 - accuracy: 0.8571 - tf_f1: 0.7674 - val_loss: 1.1239 - val_accuracy: 0.6125 - val_tf_f1: 0.7823\n",
      "Epoch 4/50\n",
      "4646/4646 [==============================] - 26s 5ms/step - loss: 0.3017 - accuracy: 0.8773 - tf_f1: 0.7939 - val_loss: 1.1278 - val_accuracy: 0.6662 - val_tf_f1: 0.8041\n",
      "Epoch 5/50\n",
      "4646/4646 [==============================] - 26s 5ms/step - loss: 0.2755 - accuracy: 0.8894 - tf_f1: 0.8124 - val_loss: 1.0540 - val_accuracy: 0.7192 - val_tf_f1: 0.8199\n"
     ]
    },
    {
     "name": "stderr",
     "output_type": "stream",
     "text": [
      "\u001b[32m[I 2022-09-08 10:00:18,045]\u001b[0m Trial 95 pruned. Trial was pruned at epoch 4.\u001b[0m\n"
     ]
    },
    {
     "name": "stdout",
     "output_type": "stream",
     "text": [
      "Epoch 1/50\n"
     ]
    },
    {
     "name": "stderr",
     "output_type": "stream",
     "text": [
      "c:\\Users\\Lim Jia Hui\\Desktop\\Python\\lib\\site-packages\\tensorflow\\python\\framework\\indexed_slices.py:444: UserWarning: Converting sparse IndexedSlices(IndexedSlices(indices=Tensor(\"gradient_tape/sequential_96/dense_192/embedding_lookup_sparse/Reshape_1:0\", shape=(None,), dtype=int32), values=Tensor(\"gradient_tape/sequential_96/dense_192/embedding_lookup_sparse/Reshape:0\", shape=(None, 50), dtype=float32), dense_shape=Tensor(\"gradient_tape/sequential_96/dense_192/embedding_lookup_sparse/Cast:0\", shape=(2,), dtype=int32))) to a dense Tensor of unknown shape. This may consume a large amount of memory.\n",
      "  warnings.warn(\n"
     ]
    },
    {
     "name": "stdout",
     "output_type": "stream",
     "text": [
      "4646/4646 [==============================] - 27s 6ms/step - loss: 0.7798 - accuracy: 0.6781 - tf_f1: 0.5483 - val_loss: 1.0894 - val_accuracy: 0.5800 - val_tf_f1: 0.6727\n",
      "Epoch 2/50\n",
      "4646/4646 [==============================] - 26s 6ms/step - loss: 0.4355 - accuracy: 0.8199 - tf_f1: 0.7136 - val_loss: 1.0786 - val_accuracy: 0.5980 - val_tf_f1: 0.7430\n"
     ]
    },
    {
     "name": "stderr",
     "output_type": "stream",
     "text": [
      "\u001b[32m[I 2022-09-08 10:01:10,911]\u001b[0m Trial 96 pruned. Trial was pruned at epoch 1.\u001b[0m\n"
     ]
    },
    {
     "name": "stdout",
     "output_type": "stream",
     "text": [
      "Epoch 1/50\n"
     ]
    },
    {
     "name": "stderr",
     "output_type": "stream",
     "text": [
      "c:\\Users\\Lim Jia Hui\\Desktop\\Python\\lib\\site-packages\\tensorflow\\python\\framework\\indexed_slices.py:444: UserWarning: Converting sparse IndexedSlices(IndexedSlices(indices=Tensor(\"gradient_tape/sequential_97/dense_194/embedding_lookup_sparse/Reshape_1:0\", shape=(None,), dtype=int32), values=Tensor(\"gradient_tape/sequential_97/dense_194/embedding_lookup_sparse/Reshape:0\", shape=(None, 49), dtype=float32), dense_shape=Tensor(\"gradient_tape/sequential_97/dense_194/embedding_lookup_sparse/Cast:0\", shape=(2,), dtype=int32))) to a dense Tensor of unknown shape. This may consume a large amount of memory.\n",
      "  warnings.warn(\n"
     ]
    },
    {
     "name": "stdout",
     "output_type": "stream",
     "text": [
      "4646/4646 [==============================] - 27s 6ms/step - loss: 0.7707 - accuracy: 0.6838 - tf_f1: 0.5570 - val_loss: 1.0349 - val_accuracy: 0.5953 - val_tf_f1: 0.6791\n",
      "Epoch 2/50\n",
      "4646/4646 [==============================] - 26s 5ms/step - loss: 0.4164 - accuracy: 0.8287 - tf_f1: 0.7207 - val_loss: 0.8990 - val_accuracy: 0.7126 - val_tf_f1: 0.7521\n",
      "Epoch 3/50\n",
      "4646/4646 [==============================] - 26s 5ms/step - loss: 0.3266 - accuracy: 0.8648 - tf_f1: 0.7725 - val_loss: 0.9760 - val_accuracy: 0.7143 - val_tf_f1: 0.7887\n",
      "Epoch 4/50\n",
      "4646/4646 [==============================] - 26s 5ms/step - loss: 0.2820 - accuracy: 0.8848 - tf_f1: 0.8011 - val_loss: 1.2802 - val_accuracy: 0.5715 - val_tf_f1: 0.8107\n",
      "Epoch 5/50\n",
      "4646/4646 [==============================] - 26s 5ms/step - loss: 0.2520 - accuracy: 0.8983 - tf_f1: 0.8186 - val_loss: 1.2352 - val_accuracy: 0.6174 - val_tf_f1: 0.8258\n",
      "Epoch 6/50\n",
      "4646/4646 [==============================] - 26s 5ms/step - loss: 0.2323 - accuracy: 0.9077 - tf_f1: 0.8320 - val_loss: 1.3360 - val_accuracy: 0.6033 - val_tf_f1: 0.8373\n",
      "Epoch 7/50\n",
      "4646/4646 [==============================] - 26s 5ms/step - loss: 0.2116 - accuracy: 0.9176 - tf_f1: 0.8423 - val_loss: 1.2565 - val_accuracy: 0.6643 - val_tf_f1: 0.8470\n",
      "Epoch 8/50\n",
      "4646/4646 [==============================] - 26s 6ms/step - loss: 0.1954 - accuracy: 0.9255 - tf_f1: 0.8514 - val_loss: 1.2883 - val_accuracy: 0.6511 - val_tf_f1: 0.8554\n",
      "Epoch 9/50\n",
      "4646/4646 [==============================] - 26s 6ms/step - loss: 0.1828 - accuracy: 0.9307 - tf_f1: 0.8589 - val_loss: 1.3788 - val_accuracy: 0.6384 - val_tf_f1: 0.8622\n",
      "Epoch 10/50\n",
      "4646/4646 [==============================] - 26s 6ms/step - loss: 0.1690 - accuracy: 0.9362 - tf_f1: 0.8653 - val_loss: 1.3481 - val_accuracy: 0.6921 - val_tf_f1: 0.8684\n",
      "Epoch 11/50\n",
      "4646/4646 [==============================] - 26s 6ms/step - loss: 0.1595 - accuracy: 0.9405 - tf_f1: 0.8712 - val_loss: 1.4313 - val_accuracy: 0.6699 - val_tf_f1: 0.8738\n",
      "Epoch 12/50\n",
      "4646/4646 [==============================] - 26s 6ms/step - loss: 0.1523 - accuracy: 0.9437 - tf_f1: 0.8762 - val_loss: 1.3985 - val_accuracy: 0.6968 - val_tf_f1: 0.8785\n",
      "Epoch 13/50\n",
      "4646/4646 [==============================] - 26s 5ms/step - loss: 0.1431 - accuracy: 0.9475 - tf_f1: 0.8808 - val_loss: 1.5078 - val_accuracy: 0.6652 - val_tf_f1: 0.8828\n",
      "Epoch 14/50\n",
      "4646/4646 [==============================] - 26s 6ms/step - loss: 0.1380 - accuracy: 0.9495 - tf_f1: 0.8848 - val_loss: 1.4600 - val_accuracy: 0.7017 - val_tf_f1: 0.8866\n",
      "Epoch 15/50\n",
      "4646/4646 [==============================] - 26s 6ms/step - loss: 0.1330 - accuracy: 0.9519 - tf_f1: 0.8884 - val_loss: 1.4743 - val_accuracy: 0.6958 - val_tf_f1: 0.8901\n",
      "Epoch 16/50\n",
      "4646/4646 [==============================] - 26s 6ms/step - loss: 0.1279 - accuracy: 0.9540 - tf_f1: 0.8918 - val_loss: 1.5447 - val_accuracy: 0.6697 - val_tf_f1: 0.8932\n",
      "Epoch 17/50\n",
      "4646/4646 [==============================] - 26s 6ms/step - loss: 0.1256 - accuracy: 0.9546 - tf_f1: 0.8946 - val_loss: 1.6033 - val_accuracy: 0.6943 - val_tf_f1: 0.8960\n"
     ]
    },
    {
     "name": "stderr",
     "output_type": "stream",
     "text": [
      "\u001b[32m[I 2022-09-08 10:08:33,800]\u001b[0m Trial 97 pruned. Trial was pruned at epoch 16.\u001b[0m\n"
     ]
    },
    {
     "name": "stdout",
     "output_type": "stream",
     "text": [
      "Epoch 1/50\n"
     ]
    },
    {
     "name": "stderr",
     "output_type": "stream",
     "text": [
      "c:\\Users\\Lim Jia Hui\\Desktop\\Python\\lib\\site-packages\\tensorflow\\python\\framework\\indexed_slices.py:444: UserWarning: Converting sparse IndexedSlices(IndexedSlices(indices=Tensor(\"gradient_tape/sequential_98/dense_196/embedding_lookup_sparse/Reshape_1:0\", shape=(None,), dtype=int32), values=Tensor(\"gradient_tape/sequential_98/dense_196/embedding_lookup_sparse/Reshape:0\", shape=(None, 47), dtype=float32), dense_shape=Tensor(\"gradient_tape/sequential_98/dense_196/embedding_lookup_sparse/Cast:0\", shape=(2,), dtype=int32))) to a dense Tensor of unknown shape. This may consume a large amount of memory.\n",
      "  warnings.warn(\n"
     ]
    },
    {
     "name": "stdout",
     "output_type": "stream",
     "text": [
      "4646/4646 [==============================] - 26s 6ms/step - loss: 0.7660 - accuracy: 0.6857 - tf_f1: 0.5586 - val_loss: 0.9577 - val_accuracy: 0.6134 - val_tf_f1: 0.6817\n",
      "Epoch 2/50\n",
      "4646/4646 [==============================] - 26s 5ms/step - loss: 0.4063 - accuracy: 0.8342 - tf_f1: 0.7245 - val_loss: 0.9953 - val_accuracy: 0.6478 - val_tf_f1: 0.7559\n",
      "Epoch 3/50\n",
      "4646/4646 [==============================] - 26s 5ms/step - loss: 0.3124 - accuracy: 0.8718 - tf_f1: 0.7761 - val_loss: 0.9971 - val_accuracy: 0.6988 - val_tf_f1: 0.7928\n",
      "Epoch 4/50\n",
      "4646/4646 [==============================] - 26s 5ms/step - loss: 0.2696 - accuracy: 0.8901 - tf_f1: 0.8052 - val_loss: 1.0690 - val_accuracy: 0.6898 - val_tf_f1: 0.8156\n",
      "Epoch 5/50\n",
      "4646/4646 [==============================] - 26s 5ms/step - loss: 0.2362 - accuracy: 0.9062 - tf_f1: 0.8245 - val_loss: 1.0825 - val_accuracy: 0.7241 - val_tf_f1: 0.8323\n",
      "Epoch 6/50\n",
      "4646/4646 [==============================] - 26s 6ms/step - loss: 0.2116 - accuracy: 0.9176 - tf_f1: 0.8392 - val_loss: 1.4510 - val_accuracy: 0.5704 - val_tf_f1: 0.8446\n",
      "Epoch 7/50\n",
      "4646/4646 [==============================] - 26s 5ms/step - loss: 0.1934 - accuracy: 0.9262 - tf_f1: 0.8495 - val_loss: 1.3616 - val_accuracy: 0.6371 - val_tf_f1: 0.8542\n",
      "Epoch 8/50\n",
      "4646/4646 [==============================] - 26s 6ms/step - loss: 0.1748 - accuracy: 0.9343 - tf_f1: 0.8585 - val_loss: 1.3114 - val_accuracy: 0.6663 - val_tf_f1: 0.8626\n",
      "Epoch 9/50\n",
      "4646/4646 [==============================] - 26s 5ms/step - loss: 0.1625 - accuracy: 0.9393 - tf_f1: 0.8663 - val_loss: 1.4998 - val_accuracy: 0.6013 - val_tf_f1: 0.8695\n",
      "Epoch 10/50\n",
      "4646/4646 [==============================] - 26s 5ms/step - loss: 0.1512 - accuracy: 0.9442 - tf_f1: 0.8724 - val_loss: 1.3162 - val_accuracy: 0.7282 - val_tf_f1: 0.8756\n",
      "Epoch 11/50\n",
      "4646/4646 [==============================] - 26s 5ms/step - loss: 0.1446 - accuracy: 0.9471 - tf_f1: 0.8785 - val_loss: 1.3613 - val_accuracy: 0.7078 - val_tf_f1: 0.8811\n",
      "Epoch 12/50\n",
      "4646/4646 [==============================] - 26s 5ms/step - loss: 0.1362 - accuracy: 0.9506 - tf_f1: 0.8836 - val_loss: 1.4618 - val_accuracy: 0.6705 - val_tf_f1: 0.8858\n",
      "Epoch 13/50\n",
      "4646/4646 [==============================] - 26s 5ms/step - loss: 0.1269 - accuracy: 0.9542 - tf_f1: 0.8879 - val_loss: 1.5079 - val_accuracy: 0.6751 - val_tf_f1: 0.8899\n",
      "Epoch 14/50\n",
      "4646/4646 [==============================] - 26s 5ms/step - loss: 0.1232 - accuracy: 0.9557 - tf_f1: 0.8918 - val_loss: 1.5689 - val_accuracy: 0.6497 - val_tf_f1: 0.8935\n",
      "Epoch 15/50\n",
      "4646/4646 [==============================] - 26s 5ms/step - loss: 0.1190 - accuracy: 0.9573 - tf_f1: 0.8952 - val_loss: 1.5154 - val_accuracy: 0.7102 - val_tf_f1: 0.8968\n",
      "Epoch 16/50\n",
      "4646/4646 [==============================] - 26s 5ms/step - loss: 0.1144 - accuracy: 0.9595 - tf_f1: 0.8984 - val_loss: 1.5613 - val_accuracy: 0.6883 - val_tf_f1: 0.8999\n",
      "Epoch 17/50\n",
      "4646/4646 [==============================] - 26s 5ms/step - loss: 0.1099 - accuracy: 0.9609 - tf_f1: 0.9013 - val_loss: 1.5898 - val_accuracy: 0.7240 - val_tf_f1: 0.9027\n",
      "Epoch 18/50\n",
      "4646/4646 [==============================] - 26s 6ms/step - loss: 0.1079 - accuracy: 0.9616 - tf_f1: 0.9040 - val_loss: 1.6475 - val_accuracy: 0.6833 - val_tf_f1: 0.9052\n"
     ]
    },
    {
     "name": "stderr",
     "output_type": "stream",
     "text": [
      "\u001b[32m[I 2022-09-08 10:16:20,906]\u001b[0m Trial 98 finished with value: 0.9051840305328369 and parameters: {'lr': 0.08694489057433215, 'units': 47}. Best is trial 86 with value: 0.9058829545974731.\u001b[0m\n"
     ]
    },
    {
     "name": "stdout",
     "output_type": "stream",
     "text": [
      "Epoch 00018: early stopping\n",
      "Epoch 1/50\n"
     ]
    },
    {
     "name": "stderr",
     "output_type": "stream",
     "text": [
      "c:\\Users\\Lim Jia Hui\\Desktop\\Python\\lib\\site-packages\\tensorflow\\python\\framework\\indexed_slices.py:444: UserWarning: Converting sparse IndexedSlices(IndexedSlices(indices=Tensor(\"gradient_tape/sequential_99/dense_198/embedding_lookup_sparse/Reshape_1:0\", shape=(None,), dtype=int32), values=Tensor(\"gradient_tape/sequential_99/dense_198/embedding_lookup_sparse/Reshape:0\", shape=(None, 48), dtype=float32), dense_shape=Tensor(\"gradient_tape/sequential_99/dense_198/embedding_lookup_sparse/Cast:0\", shape=(2,), dtype=int32))) to a dense Tensor of unknown shape. This may consume a large amount of memory.\n",
      "  warnings.warn(\n"
     ]
    },
    {
     "name": "stdout",
     "output_type": "stream",
     "text": [
      "4646/4646 [==============================] - 27s 6ms/step - loss: 0.7766 - accuracy: 0.6807 - tf_f1: 0.5549 - val_loss: 0.9583 - val_accuracy: 0.6124 - val_tf_f1: 0.6769\n",
      "Epoch 2/50\n",
      "4646/4646 [==============================] - 26s 6ms/step - loss: 0.4116 - accuracy: 0.8316 - tf_f1: 0.7203 - val_loss: 1.0356 - val_accuracy: 0.6353 - val_tf_f1: 0.7517\n",
      "Epoch 3/50\n",
      "4646/4646 [==============================] - 26s 6ms/step - loss: 0.3249 - accuracy: 0.8678 - tf_f1: 0.7719 - val_loss: 1.1533 - val_accuracy: 0.5872 - val_tf_f1: 0.7876\n",
      "Epoch 4/50\n",
      "4646/4646 [==============================] - 26s 6ms/step - loss: 0.2764 - accuracy: 0.8877 - tf_f1: 0.7996 - val_loss: 1.2221 - val_accuracy: 0.5799 - val_tf_f1: 0.8097\n",
      "Epoch 5/50\n",
      "4646/4646 [==============================] - 26s 5ms/step - loss: 0.2433 - accuracy: 0.9025 - tf_f1: 0.8183 - val_loss: 1.1185 - val_accuracy: 0.6839 - val_tf_f1: 0.8262\n",
      "Epoch 6/50\n",
      "4646/4646 [==============================] - 26s 5ms/step - loss: 0.2176 - accuracy: 0.9154 - tf_f1: 0.8332 - val_loss: 1.1479 - val_accuracy: 0.7268 - val_tf_f1: 0.8397\n",
      "Epoch 7/50\n",
      "4646/4646 [==============================] - 26s 6ms/step - loss: 0.1974 - accuracy: 0.9243 - tf_f1: 0.8455 - val_loss: 1.1699 - val_accuracy: 0.7142 - val_tf_f1: 0.8506\n",
      "Epoch 8/50\n",
      "4646/4646 [==============================] - 26s 5ms/step - loss: 0.1810 - accuracy: 0.9324 - tf_f1: 0.8554 - val_loss: 1.4644 - val_accuracy: 0.5916 - val_tf_f1: 0.8592\n",
      "Epoch 9/50\n",
      "4646/4646 [==============================] - 26s 6ms/step - loss: 0.1650 - accuracy: 0.9392 - tf_f1: 0.8629 - val_loss: 1.3547 - val_accuracy: 0.6421 - val_tf_f1: 0.8664\n",
      "Epoch 10/50\n",
      "4646/4646 [==============================] - 26s 6ms/step - loss: 0.1546 - accuracy: 0.9431 - tf_f1: 0.8696 - val_loss: 1.5893 - val_accuracy: 0.5994 - val_tf_f1: 0.8725\n",
      "Epoch 11/50\n",
      "4646/4646 [==============================] - 26s 6ms/step - loss: 0.1448 - accuracy: 0.9479 - tf_f1: 0.8752 - val_loss: 1.3917 - val_accuracy: 0.7034 - val_tf_f1: 0.8780\n",
      "Epoch 12/50\n",
      "4646/4646 [==============================] - 26s 6ms/step - loss: 0.1355 - accuracy: 0.9512 - tf_f1: 0.8806 - val_loss: 1.4347 - val_accuracy: 0.7030 - val_tf_f1: 0.8830\n",
      "Epoch 13/50\n",
      "4646/4646 [==============================] - 26s 5ms/step - loss: 0.1312 - accuracy: 0.9527 - tf_f1: 0.8853 - val_loss: 1.5110 - val_accuracy: 0.6841 - val_tf_f1: 0.8874\n",
      "Epoch 14/50\n",
      "4646/4646 [==============================] - 26s 5ms/step - loss: 0.1244 - accuracy: 0.9556 - tf_f1: 0.8893 - val_loss: 1.6012 - val_accuracy: 0.6459 - val_tf_f1: 0.8911\n",
      "Epoch 15/50\n",
      "4646/4646 [==============================] - 26s 5ms/step - loss: 0.1188 - accuracy: 0.9580 - tf_f1: 0.8929 - val_loss: 1.5101 - val_accuracy: 0.6861 - val_tf_f1: 0.8946\n",
      "Epoch 16/50\n",
      "4646/4646 [==============================] - 26s 5ms/step - loss: 0.1148 - accuracy: 0.9590 - tf_f1: 0.8962 - val_loss: 1.5480 - val_accuracy: 0.7002 - val_tf_f1: 0.8977\n",
      "Epoch 17/50\n",
      "4646/4646 [==============================] - 26s 6ms/step - loss: 0.1086 - accuracy: 0.9612 - tf_f1: 0.8992 - val_loss: 1.5730 - val_accuracy: 0.6970 - val_tf_f1: 0.9006\n"
     ]
    },
    {
     "name": "stderr",
     "output_type": "stream",
     "text": [
      "\u001b[32m[I 2022-09-08 10:23:44,259]\u001b[0m Trial 99 pruned. Trial was pruned at epoch 16.\u001b[0m\n"
     ]
    },
    {
     "name": "stdout",
     "output_type": "stream",
     "text": [
      "Trial 0 completed rungs: {}\n",
      "Trial 1 completed rungs: {'completed_rung_0': 0.686846137046814, 'completed_rung_1': 0.7862901091575623, 'completed_rung_2': 0.881732702255249}\n",
      "Trial 2 completed rungs: {'completed_rung_0': 0.564076840877533}\n",
      "Trial 3 completed rungs: {'completed_rung_0': 0.6572585701942444}\n",
      "Trial 4 completed rungs: {'completed_rung_0': 0.7101109027862549, 'completed_rung_1': 0.7856671810150146}\n",
      "Trial 5 completed rungs: {'completed_rung_0': 0.6701070070266724}\n",
      "Trial 6 completed rungs: {'completed_rung_0': 0.7254388332366943, 'completed_rung_1': 0.8094363808631897, 'completed_rung_2': 0.890939474105835}\n",
      "Trial 7 completed rungs: {'completed_rung_0': 0.6906159520149231}\n",
      "Trial 8 completed rungs: {'completed_rung_0': 0.7461518049240112, 'completed_rung_1': 0.818694531917572, 'completed_rung_2': 0.8891029953956604}\n",
      "Trial 9 completed rungs: {'completed_rung_0': 0.6943895220756531}\n",
      "Trial 10 completed rungs: {'completed_rung_0': 0.7344533205032349, 'completed_rung_1': 0.8166404366493225}\n",
      "Trial 11 completed rungs: {'completed_rung_0': 0.7334173917770386}\n",
      "Trial 12 completed rungs: {'completed_rung_0': 0.7167029976844788}\n",
      "Trial 13 completed rungs: {'completed_rung_0': 0.7497390508651733, 'completed_rung_1': 0.8278469443321228, 'completed_rung_2': 0.9004270434379578}\n",
      "Trial 14 completed rungs: {'completed_rung_0': 0.720788836479187}\n",
      "Trial 15 completed rungs: {'completed_rung_0': 0.7168121933937073}\n",
      "Trial 16 completed rungs: {'completed_rung_0': 0.7384079098701477, 'completed_rung_1': 0.8127589821815491}\n",
      "Trial 17 completed rungs: {'completed_rung_0': 0.7208538055419922}\n",
      "Trial 18 completed rungs: {'completed_rung_0': 0.7342983484268188}\n",
      "Trial 19 completed rungs: {'completed_rung_0': 0.7261093258857727}\n",
      "Trial 20 completed rungs: {'completed_rung_0': 0.7436142563819885, 'completed_rung_1': 0.8210808634757996, 'completed_rung_2': 0.8969470262527466}\n",
      "Trial 21 completed rungs: {'completed_rung_0': 0.42655041813850403}\n",
      "Trial 22 completed rungs: {'completed_rung_0': 0.7285849452018738}\n",
      "Trial 23 completed rungs: {'completed_rung_0': 0.7044349312782288}\n",
      "Trial 24 completed rungs: {'completed_rung_0': 0.6346632838249207}\n",
      "Trial 25 completed rungs: {'completed_rung_0': 0.7335767149925232}\n",
      "Trial 26 completed rungs: {'completed_rung_0': 0.7375214695930481, 'completed_rung_1': 0.8110269904136658}\n",
      "Trial 27 completed rungs: {'completed_rung_0': 0.7338685989379883}\n",
      "Trial 28 completed rungs: {'completed_rung_0': 0.7350794672966003, 'completed_rung_1': 0.8161777257919312}\n",
      "Trial 29 completed rungs: {'completed_rung_0': 0.707263708114624}\n",
      "Trial 30 completed rungs: {'completed_rung_0': 0.6796330809593201}\n",
      "Trial 31 completed rungs: {'completed_rung_0': 0.7035181522369385}\n",
      "Trial 32 completed rungs: {'completed_rung_0': 0.617139458656311}\n",
      "Trial 33 completed rungs: {'completed_rung_0': 0.7098571062088013}\n",
      "Trial 34 completed rungs: {'completed_rung_0': 0.7433516979217529, 'completed_rung_1': 0.8130123615264893}\n",
      "Trial 35 completed rungs: {'completed_rung_0': 0.7312443852424622}\n",
      "Trial 36 completed rungs: {'completed_rung_0': 0.7251428365707397}\n",
      "Trial 37 completed rungs: {'completed_rung_0': 0.7451088428497314, 'completed_rung_1': 0.8204249739646912, 'completed_rung_2': 0.8923538327217102}\n",
      "Trial 38 completed rungs: {'completed_rung_0': 0.6878790259361267}\n",
      "Trial 39 completed rungs: {'completed_rung_0': 0.7373567223548889, 'completed_rung_1': 0.8210346698760986, 'completed_rung_2': 0.8983332514762878}\n",
      "Trial 40 completed rungs: {'completed_rung_0': 0.6821524500846863}\n",
      "Trial 41 completed rungs: {'completed_rung_0': 0.7371839880943298, 'completed_rung_1': 0.8184753656387329}\n",
      "Trial 42 completed rungs: {'completed_rung_0': 0.7426860928535461, 'completed_rung_1': 0.8233426213264465, 'completed_rung_2': 0.8994843363761902}\n",
      "Trial 43 completed rungs: {'completed_rung_0': 0.7406408786773682, 'completed_rung_1': 0.8203427195549011}\n",
      "Trial 44 completed rungs: {'completed_rung_0': 0.7363571524620056}\n",
      "Trial 45 completed rungs: {'completed_rung_0': 0.7394183278083801, 'completed_rung_1': 0.8195160031318665}\n",
      "Trial 46 completed rungs: {'completed_rung_0': 0.7502529621124268, 'completed_rung_1': 0.8282350897789001, 'completed_rung_2': 0.9024535417556763}\n",
      "Trial 47 completed rungs: {'completed_rung_0': 0.7519665360450745, 'completed_rung_1': 0.8292433023452759, 'completed_rung_2': 0.9026344418525696}\n",
      "Trial 48 completed rungs: {'completed_rung_0': 0.7453978061676025, 'completed_rung_1': 0.8178149461746216}\n",
      "Trial 49 completed rungs: {'completed_rung_0': 0.7488344311714172, 'completed_rung_1': 0.822239339351654, 'completed_rung_2': 0.8936265707015991}\n",
      "Trial 50 completed rungs: {'completed_rung_0': 0.7343775033950806}\n",
      "Trial 51 completed rungs: {'completed_rung_0': 0.7526678442955017, 'completed_rung_1': 0.8273935317993164, 'completed_rung_2': 0.9000547528266907}\n",
      "Trial 52 completed rungs: {'completed_rung_0': 0.7337403893470764}\n",
      "Trial 53 completed rungs: {'completed_rung_0': 0.7436206340789795, 'completed_rung_1': 0.8201223611831665}\n",
      "Trial 54 completed rungs: {'completed_rung_0': 0.7357621192932129}\n",
      "Trial 55 completed rungs: {'completed_rung_0': 0.7514187097549438, 'completed_rung_1': 0.8238542675971985, 'completed_rung_2': 0.8965302109718323}\n",
      "Trial 56 completed rungs: {'completed_rung_0': 0.7438242435455322, 'completed_rung_1': 0.8212910890579224}\n",
      "Trial 57 completed rungs: {'completed_rung_0': 0.7269909381866455}\n",
      "Trial 58 completed rungs: {'completed_rung_0': 0.7404416799545288}\n",
      "Trial 59 completed rungs: {'completed_rung_0': 0.6549089550971985}\n",
      "Trial 60 completed rungs: {'completed_rung_0': 0.7494296431541443, 'completed_rung_1': 0.823470950126648, 'completed_rung_2': 0.8963543176651001}\n",
      "Trial 61 completed rungs: {'completed_rung_0': 0.7428105473518372, 'completed_rung_1': 0.8147839307785034}\n",
      "Trial 62 completed rungs: {'completed_rung_0': 0.7513270378112793, 'completed_rung_1': 0.8267335295677185, 'completed_rung_2': 0.8998376727104187}\n",
      "Trial 63 completed rungs: {'completed_rung_0': 0.7309326529502869}\n",
      "Trial 64 completed rungs: {'completed_rung_0': 0.5462523102760315}\n",
      "Trial 65 completed rungs: {'completed_rung_0': 0.7468846440315247, 'completed_rung_1': 0.8183354735374451}\n",
      "Trial 66 completed rungs: {'completed_rung_0': 0.7496804594993591, 'completed_rung_1': 0.8258064985275269, 'completed_rung_2': 0.9002766609191895}\n",
      "Trial 67 completed rungs: {'completed_rung_0': 0.7141956090927124}\n",
      "Trial 68 completed rungs: {'completed_rung_0': 0.7346347570419312}\n",
      "Trial 69 completed rungs: {'completed_rung_0': 0.7479646801948547, 'completed_rung_1': 0.8250536322593689, 'completed_rung_2': 0.9014131426811218}\n",
      "Trial 70 completed rungs: {'completed_rung_0': 0.7395011186599731}\n",
      "Trial 71 completed rungs: {'completed_rung_0': 0.7442299723625183, 'completed_rung_1': 0.8193798661231995}\n",
      "Trial 72 completed rungs: {'completed_rung_0': 0.7262148261070251}\n",
      "Trial 73 completed rungs: {'completed_rung_0': 0.7429330348968506}\n",
      "Trial 74 completed rungs: {'completed_rung_0': 0.7355956435203552}\n",
      "Trial 75 completed rungs: {'completed_rung_0': 0.7396164536476135}\n",
      "Trial 76 completed rungs: {'completed_rung_0': 0.7181928753852844}\n",
      "Trial 77 completed rungs: {'completed_rung_0': 0.7428088784217834}\n",
      "Trial 78 completed rungs: {'completed_rung_0': 0.7425469160079956}\n",
      "Trial 79 completed rungs: {'completed_rung_0': 0.7269963026046753}\n",
      "Trial 80 completed rungs: {'completed_rung_0': 0.6952975988388062}\n",
      "Trial 81 completed rungs: {'completed_rung_0': 0.747392475605011, 'completed_rung_1': 0.8230924606323242}\n",
      "Trial 82 completed rungs: {'completed_rung_0': 0.7384651303291321}\n",
      "Trial 83 completed rungs: {'completed_rung_0': 0.7389177680015564}\n",
      "Trial 84 completed rungs: {'completed_rung_0': 0.743395209312439, 'completed_rung_1': 0.8157208561897278}\n",
      "Trial 85 completed rungs: {'completed_rung_0': 0.7075791954994202}\n",
      "Trial 86 completed rungs: {'completed_rung_0': 0.7536150217056274, 'completed_rung_1': 0.8322651386260986, 'completed_rung_2': 0.9058829545974731}\n",
      "Trial 87 completed rungs: {'completed_rung_0': 0.7484192252159119, 'completed_rung_1': 0.8247190117835999, 'completed_rung_2': 0.8947532773017883}\n",
      "Trial 88 completed rungs: {'completed_rung_0': 0.7494964003562927, 'completed_rung_1': 0.8252710103988647, 'completed_rung_2': 0.8966494202613831}\n",
      "Trial 89 completed rungs: {'completed_rung_0': 0.7520151138305664, 'completed_rung_1': 0.8286781907081604, 'completed_rung_2': 0.9022337198257446}\n",
      "Trial 90 completed rungs: {'completed_rung_0': 0.7484225034713745, 'completed_rung_1': 0.8236389756202698}\n",
      "Trial 91 completed rungs: {'completed_rung_0': 0.7527015209197998, 'completed_rung_1': 0.8257744908332825}\n",
      "Trial 92 completed rungs: {'completed_rung_0': 0.7456824779510498, 'completed_rung_1': 0.8182765245437622}\n",
      "Trial 93 completed rungs: {'completed_rung_0': 0.7529445290565491, 'completed_rung_1': 0.8273217082023621, 'completed_rung_2': 0.900798499584198}\n",
      "Trial 94 completed rungs: {'completed_rung_0': 0.7472839951515198, 'completed_rung_1': 0.8214637637138367}\n",
      "Trial 95 completed rungs: {'completed_rung_0': 0.7478622198104858, 'completed_rung_1': 0.8198773860931396}\n",
      "Trial 96 completed rungs: {'completed_rung_0': 0.7430112957954407}\n",
      "Trial 97 completed rungs: {'completed_rung_0': 0.7521055340766907, 'completed_rung_1': 0.8257526159286499, 'completed_rung_2': 0.8960121870040894}\n",
      "Trial 98 completed rungs: {'completed_rung_0': 0.7558967471122742, 'completed_rung_1': 0.8323415517807007, 'completed_rung_2': 0.9026792645454407}\n",
      "Trial 99 completed rungs: {'completed_rung_0': 0.7517237067222595, 'completed_rung_1': 0.8261795043945312, 'completed_rung_2': 0.9006311297416687}\n",
      "Study statistics: \n",
      "  Number of finished trials:  100\n",
      "  Number of pruned trials:  87\n",
      "  Number of complete trials:  13\n",
      "Best trial:\n",
      "  Value:  0.9058829545974731\n",
      "  Params: \n",
      "    lr: 0.08598835251713638\n",
      "    units: 48\n"
     ]
    }
   ],
   "source": [
    "import tensorflow as tf\n",
    "from tensorflow.python.keras import Sequential\n",
    "from tensorflow.python.keras.callbacks import EarlyStopping\n",
    "from tensorflow.python.keras.layers import Dense\n",
    "from tensorflow.python.keras.optimizer_v2.gradient_descent import SGD\n",
    "from scikeras.wrappers import KerasClassifier\n",
    "from imblearn.over_sampling import RandomOverSampler\n",
    "import optuna\n",
    "from optuna.samplers import TPESampler\n",
    "from optuna.pruners import SuccessiveHalvingPruner\n",
    "from optuna.integration import TFKerasPruningCallback\n",
    "from optuna.trial import TrialState\n",
    "from tensorflow_addons.metrics import F1Score\n",
    "from keras.utils import to_categorical\n",
    "import scipy\n",
    "\n",
    "\n",
    "\n",
    "def convert_sparse_matrix_to_sparse_tensor(X):\n",
    "    coo = X.tocoo()\n",
    "    indices = np.mat([coo.row, coo.col]).transpose()\n",
    "    return tf.SparseTensor(indices, coo.data, coo.shape)\n",
    "\n",
    "tf_x_val_trainvec = convert_sparse_matrix_to_sparse_tensor(x_val_trainvec)\n",
    "\n",
    "tf_x_val_testvec = convert_sparse_matrix_to_sparse_tensor(x_val_testvec)\n",
    "\n",
    "tf_x_trainvec = convert_sparse_matrix_to_sparse_tensor(x_trainvec)\n",
    "\n",
    "def create_model(trial, X):\n",
    "    lr = trial.suggest_uniform('lr', 0.00001, 0.1)\n",
    "    units = trial.suggest_int('units', 10, 50)\n",
    "    input_dim = X\n",
    "\n",
    "    model = Sequential()\n",
    "    model.add(Dense(units, input_dim=input_dim, activation = 'relu', kernel_initializer='he_uniform'))\n",
    "    model.add(Dense(5, activation='softmax'))\n",
    "\n",
    "    optimizer = SGD(learning_rate=lr, momentum=0.9)\n",
    "\n",
    "    \n",
    "\n",
    "    model.compile(loss='categorical_crossentropy', \n",
    "                    optimizer=optimizer, \n",
    "                    metrics=['accuracy', F1Score(num_classes=5, average= 'macro', name='tf_f1')])\n",
    "    return model\n",
    "            \n",
    "\n",
    "def objective_mlp(trial):\n",
    "\n",
    "    model = create_model(trial, x_val_trainvec.shape[1])\n",
    "\n",
    "    callbacks = [EarlyStopping(monitor='val_tf_f1', mode='max', min_delta=0.01, patience=3, verbose=1), TFKerasPruningCallback(trial,'val_tf_f1')]\n",
    "\n",
    "    fit_model = model.fit(x=tf_x_val_trainvec, y=to_categorical(y_val_train.sub(1)), epochs =50, verbose=1, batch_size= 50, callbacks=callbacks, validation_data=(tf_x_val_testvec,to_categorical(y_val_test.sub(1))))\n",
    "\n",
    "    return fit_model.history['val_tf_f1'][-1]\n",
    "\n",
    "def show_result(study):\n",
    "\n",
    "    pruned_trials = study.get_trials(deepcopy=False, states=[TrialState.PRUNED])\n",
    "    complete_trials = study.get_trials(deepcopy=False, states=[TrialState.COMPLETE])\n",
    "\n",
    "    trial_idx = 0\n",
    "    for frozen_trial in study.get_trials(deepcopy=False):\n",
    "\n",
    "        print(\"Trial {} completed rungs: {}\".format(trial_idx, frozen_trial.system_attrs))\n",
    "        trial_idx +=1\n",
    "\n",
    "    print(\"Study statistics: \")\n",
    "    print(\"  Number of finished trials: \", len(study.trials))\n",
    "    print(\"  Number of pruned trials: \", len(pruned_trials))\n",
    "    print(\"  Number of complete trials: \", len(complete_trials))\n",
    "\n",
    "    print(\"Best trial:\")\n",
    "    trial = study.best_trial\n",
    "\n",
    "    print(\"  Value: \", trial.value)\n",
    "\n",
    "    print(\"  Params: \")\n",
    "    for key, value in trial.params.items():\n",
    "        print(\"    {}: {}\".format(key, value))\n",
    "\n",
    "study = optuna.create_study(\n",
    "    direction=\"maximize\",sampler= TPESampler(),  pruner=SuccessiveHalvingPruner()\n",
    ")\n",
    "study.optimize(objective_mlp, n_trials=100)\n",
    "\n",
    "show_result(study)\n",
    "\n"
   ]
  },
  {
   "cell_type": "markdown",
   "metadata": {},
   "source": [
    "### Training the MLP with best params"
   ]
  },
  {
   "cell_type": "code",
   "execution_count": 15,
   "metadata": {},
   "outputs": [
    {
     "name": "stdout",
     "output_type": "stream",
     "text": [
      "Epoch 1/50\n"
     ]
    },
    {
     "name": "stderr",
     "output_type": "stream",
     "text": [
      "c:\\Users\\Lim Jia Hui\\Desktop\\Python\\lib\\site-packages\\tensorflow\\python\\framework\\indexed_slices.py:444: UserWarning: Converting sparse IndexedSlices(IndexedSlices(indices=Tensor(\"gradient_tape/sequential_102/dense_204/embedding_lookup_sparse/Reshape_1:0\", shape=(None,), dtype=int32), values=Tensor(\"gradient_tape/sequential_102/dense_204/embedding_lookup_sparse/Reshape:0\", shape=(None, 48), dtype=float32), dense_shape=Tensor(\"gradient_tape/sequential_102/dense_204/embedding_lookup_sparse/Cast:0\", shape=(2,), dtype=int32))) to a dense Tensor of unknown shape. This may consume a large amount of memory.\n",
      "  warnings.warn(\n"
     ]
    },
    {
     "name": "stdout",
     "output_type": "stream",
     "text": [
      "4646/4646 [==============================] - 24s 5ms/step - loss: 0.7879 - accuracy: 0.6746 - tf_f1: 0.5413\n",
      "Epoch 2/50\n",
      "4646/4646 [==============================] - 23s 5ms/step - loss: 0.4343 - accuracy: 0.8207 - tf_f1: 0.7131\n",
      "Epoch 3/50\n",
      "4646/4646 [==============================] - 22s 5ms/step - loss: 0.3451 - accuracy: 0.8574 - tf_f1: 0.7652\n",
      "Epoch 4/50\n",
      "4646/4646 [==============================] - 23s 5ms/step - loss: 0.2979 - accuracy: 0.8776 - tf_f1: 0.7949\n",
      "Epoch 5/50\n",
      "4646/4646 [==============================] - 23s 5ms/step - loss: 0.2708 - accuracy: 0.8898 - tf_f1: 0.8146\n",
      "Epoch 6/50\n",
      "4646/4646 [==============================] - 23s 5ms/step - loss: 0.2481 - accuracy: 0.9006 - tf_f1: 0.8294\n",
      "Epoch 7/50\n",
      "4646/4646 [==============================] - 23s 5ms/step - loss: 0.2294 - accuracy: 0.9086 - tf_f1: 0.8409\n",
      "Epoch 8/50\n",
      "4646/4646 [==============================] - 23s 5ms/step - loss: 0.2151 - accuracy: 0.9155 - tf_f1: 0.8505\n",
      "Epoch 9/50\n",
      "4646/4646 [==============================] - 23s 5ms/step - loss: 0.2032 - accuracy: 0.9210 - tf_f1: 0.8584\n",
      "Epoch 10/50\n",
      "4646/4646 [==============================] - 23s 5ms/step - loss: 0.1916 - accuracy: 0.9264 - tf_f1: 0.8653\n",
      "Epoch 11/50\n",
      "4646/4646 [==============================] - 24s 5ms/step - loss: 0.1795 - accuracy: 0.9320 - tf_f1: 0.8714\n",
      "Epoch 12/50\n",
      "4646/4646 [==============================] - 28s 6ms/step - loss: 0.1726 - accuracy: 0.9345 - tf_f1: 0.8767\n",
      "Epoch 13/50\n",
      "4646/4646 [==============================] - 23s 5ms/step - loss: 0.1641 - accuracy: 0.9388 - tf_f1: 0.8816\n",
      "Epoch 14/50\n",
      "4646/4646 [==============================] - 23s 5ms/step - loss: 0.1572 - accuracy: 0.9414 - tf_f1: 0.8859\n",
      "Epoch 15/50\n",
      "4646/4646 [==============================] - 23s 5ms/step - loss: 0.1488 - accuracy: 0.9451 - tf_f1: 0.8898\n",
      "Epoch 16/50\n",
      "4646/4646 [==============================] - 23s 5ms/step - loss: 0.1462 - accuracy: 0.9460 - tf_f1: 0.8935\n",
      "Epoch 17/50\n",
      "4646/4646 [==============================] - 23s 5ms/step - loss: 0.1413 - accuracy: 0.9481 - tf_f1: 0.8967\n",
      "Epoch 18/50\n",
      "4646/4646 [==============================] - 23s 5ms/step - loss: 0.1362 - accuracy: 0.9499 - tf_f1: 0.8997\n",
      "Epoch 19/50\n",
      "4646/4646 [==============================] - 23s 5ms/step - loss: 0.1331 - accuracy: 0.9516 - tf_f1: 0.9024\n",
      "Epoch 00019: early stopping\n",
      "Epoch 1/50\n"
     ]
    },
    {
     "name": "stderr",
     "output_type": "stream",
     "text": [
      "c:\\Users\\Lim Jia Hui\\Desktop\\Python\\lib\\site-packages\\tensorflow\\python\\framework\\indexed_slices.py:444: UserWarning: Converting sparse IndexedSlices(IndexedSlices(indices=Tensor(\"gradient_tape/sequential_103/dense_206/embedding_lookup_sparse/Reshape_1:0\", shape=(None,), dtype=int32), values=Tensor(\"gradient_tape/sequential_103/dense_206/embedding_lookup_sparse/Reshape:0\", shape=(None, 48), dtype=float32), dense_shape=Tensor(\"gradient_tape/sequential_103/dense_206/embedding_lookup_sparse/Cast:0\", shape=(2,), dtype=int32))) to a dense Tensor of unknown shape. This may consume a large amount of memory.\n",
      "  warnings.warn(\n"
     ]
    },
    {
     "name": "stdout",
     "output_type": "stream",
     "text": [
      "5808/5808 [==============================] - 31s 5ms/step - loss: 0.7746 - accuracy: 0.6808 - tf_f1: 0.5621\n",
      "Epoch 2/50\n",
      "5808/5808 [==============================] - 29s 5ms/step - loss: 0.4315 - accuracy: 0.8224 - tf_f1: 0.7183\n",
      "Epoch 3/50\n",
      "5808/5808 [==============================] - 29s 5ms/step - loss: 0.3414 - accuracy: 0.8580 - tf_f1: 0.7688\n",
      "Epoch 4/50\n",
      "5808/5808 [==============================] - 29s 5ms/step - loss: 0.2974 - accuracy: 0.8780 - tf_f1: 0.7976\n",
      "Epoch 5/50\n",
      "5808/5808 [==============================] - 29s 5ms/step - loss: 0.2669 - accuracy: 0.8918 - tf_f1: 0.8171\n",
      "Epoch 6/50\n",
      "5808/5808 [==============================] - 29s 5ms/step - loss: 0.2407 - accuracy: 0.9049 - tf_f1: 0.8319\n",
      "Epoch 7/50\n",
      "5808/5808 [==============================] - 29s 5ms/step - loss: 0.2213 - accuracy: 0.9143 - tf_f1: 0.8439\n",
      "Epoch 8/50\n",
      "5808/5808 [==============================] - 29s 5ms/step - loss: 0.2029 - accuracy: 0.9223 - tf_f1: 0.8539\n",
      "Epoch 9/50\n",
      "5808/5808 [==============================] - 29s 5ms/step - loss: 0.1890 - accuracy: 0.9285 - tf_f1: 0.8623\n",
      "Epoch 10/50\n",
      "5808/5808 [==============================] - 29s 5ms/step - loss: 0.1756 - accuracy: 0.9351 - tf_f1: 0.8696\n",
      "Epoch 11/50\n",
      "5808/5808 [==============================] - 29s 5ms/step - loss: 0.1665 - accuracy: 0.9386 - tf_f1: 0.8760\n",
      "Epoch 12/50\n",
      "5808/5808 [==============================] - 29s 5ms/step - loss: 0.1568 - accuracy: 0.9427 - tf_f1: 0.8816\n",
      "Epoch 13/50\n",
      "5808/5808 [==============================] - 29s 5ms/step - loss: 0.1490 - accuracy: 0.9458 - tf_f1: 0.8867\n",
      "Epoch 14/50\n",
      "5808/5808 [==============================] - 30s 5ms/step - loss: 0.1431 - accuracy: 0.9479 - tf_f1: 0.8911\n",
      "Epoch 15/50\n",
      "5808/5808 [==============================] - 29s 5ms/step - loss: 0.1366 - accuracy: 0.9507 - tf_f1: 0.8951\n",
      "Epoch 16/50\n",
      "5808/5808 [==============================] - 29s 5ms/step - loss: 0.1320 - accuracy: 0.9523 - tf_f1: 0.8988\n",
      "Epoch 17/50\n",
      "5808/5808 [==============================] - 29s 5ms/step - loss: 0.1286 - accuracy: 0.9540 - tf_f1: 0.9021\n",
      "Epoch 18/50\n",
      "5808/5808 [==============================] - 29s 5ms/step - loss: 0.1242 - accuracy: 0.9549 - tf_f1: 0.9051\n",
      "Epoch 00018: early stopping\n"
     ]
    }
   ],
   "source": [
    "from sklearn.metrics import accuracy_score\n",
    "from sklearn.metrics import f1_score\n",
    "from sklearn.metrics import confusion_matrix\n",
    "from sklearn.metrics import classification_report\n",
    "\n",
    "best_mlp_model_val = create_model(study.best_trial, x_val_trainvec.shape[1])\n",
    "best_mlp_model_test = create_model(study.best_trial, x_trainvec.shape[1])\n",
    "\n",
    "best_mlp_model_val.fit(x=x_val_trainvec, y=to_categorical(y_val_train.sub(1)), epochs =50, verbose=1, batch_size= 50, callbacks=EarlyStopping(monitor='tf_f1', mode='max', min_delta=0.01, patience=3, verbose=1))\n",
    "best_mlp_model_test.fit(x=x_trainvec, y=to_categorical(y_train.sub(1)), epochs =50, verbose=1, batch_size= 50, callbacks=EarlyStopping(monitor='tf_f1', mode='max', min_delta=0.01, patience=3, verbose=1))\n",
    "\n",
    "mlp_val_train_predictions = np.argmax(best_mlp_model_val.predict(x_val_trainvec),axis=1)+(1)\n",
    "mlp_val_test_predictions = np.argmax(best_mlp_model_val.predict(x_val_testvec),axis=1)+(1)\n",
    "mlp_test_predictions = np.argmax(best_mlp_model_test.predict(x_testvec),axis=1)+(1)"
   ]
  },
  {
   "cell_type": "markdown",
   "metadata": {},
   "source": [
    "### MLP Validation Set Evaluation"
   ]
  },
  {
   "cell_type": "code",
   "execution_count": 18,
   "metadata": {},
   "outputs": [
    {
     "name": "stdout",
     "output_type": "stream",
     "text": [
      "MLP Validation Train Accuracy Score : 0.9600964332608649\n",
      "MLP Validation Test Accuracy Score : 0.6645346125657938\n",
      "MLP Validation Train F1 Score : 0.9600258693689732\n",
      "MLP Validation Test F1 Score : 0.36296778494657334\n",
      "MLP Validation Confusion matrix:\n",
      "[[  91   18   22   38   68]\n",
      " [  37   41   42   56   57]\n",
      " [  29   46  188  217  225]\n",
      " [  41   35  167  755 1221]\n",
      " [ 167  117  327 2105 8899]]\n",
      "MLP Validation Classification report:\n",
      "               precision    recall  f1-score   support\n",
      "\n",
      "           1       0.25      0.38      0.30       237\n",
      "           2       0.16      0.18      0.17       233\n",
      "           3       0.25      0.27      0.26       705\n",
      "           4       0.24      0.34      0.28      2219\n",
      "           5       0.85      0.77      0.81     11615\n",
      "\n",
      "    accuracy                           0.66     15009\n",
      "   macro avg       0.35      0.39      0.36     15009\n",
      "weighted avg       0.71      0.66      0.68     15009\n",
      "\n"
     ]
    }
   ],
   "source": [
    "print(\"MLP Validation Train Accuracy Score :\",accuracy_score(y_pred=mlp_val_train_predictions, y_true=y_val_train.to_numpy().ravel()))\n",
    "print(\"MLP Validation Test Accuracy Score :\",accuracy_score(y_pred=mlp_val_test_predictions, y_true= y_val_test.to_numpy().ravel()))\n",
    "\n",
    "print(\"MLP Validation Train F1 Score :\",f1_score(y_pred=mlp_val_train_predictions, y_true=y_val_train.to_numpy().ravel(), average = 'macro'))\n",
    "print(\"MLP Validation Test F1 Score :\",f1_score(y_pred=mlp_val_test_predictions, y_true=y_val_test.to_numpy().ravel(), average = 'macro'))\n",
    "\n",
    "print(\"MLP Validation Confusion matrix:\\n{}\".format(confusion_matrix(y_pred=mlp_val_test_predictions,y_true= y_val_test.to_numpy().ravel())))\n",
    "print(\"MLP Validation Classification report:\\n\",classification_report(y_pred=mlp_val_test_predictions,  y_true= y_val_test.to_numpy().ravel()))"
   ]
  },
  {
   "cell_type": "markdown",
   "metadata": {},
   "source": [
    "### Random Forest Classifier"
   ]
  },
  {
   "cell_type": "markdown",
   "metadata": {},
   "source": [
    "A sklearn Random Forest Classifier hyperparameter tuned with sklearn's Successive Halving Grid Search Cross Validation that does oversampling for each stratified Validation Train Set for each Cross Validation split. "
   ]
  },
  {
   "cell_type": "code",
   "execution_count": 19,
   "metadata": {},
   "outputs": [
    {
     "name": "stdout",
     "output_type": "stream",
     "text": [
      "n_iterations: 3\n",
      "n_required_iterations: 3\n",
      "n_possible_iterations: 3\n",
      "min_resources_: 11614\n",
      "max_resources_: 290360\n",
      "aggressive_elimination: False\n",
      "factor: 5\n",
      "----------\n",
      "iter: 0\n",
      "n_candidates: 100\n",
      "n_resources: 11614\n",
      "Fitting 5 folds for each of 100 candidates, totalling 500 fits\n",
      "[CV 1/5; 1/100] START rfc__max_depth=1, rfc__n_estimators=1.....................\n",
      "[CV 1/5; 1/100] END rfc__max_depth=1, rfc__n_estimators=1;, score=(train=0.067, test=0.066) total time=   4.2s\n",
      "[CV 2/5; 1/100] START rfc__max_depth=1, rfc__n_estimators=1.....................\n",
      "[CV 2/5; 1/100] END rfc__max_depth=1, rfc__n_estimators=1;, score=(train=0.069, test=0.066) total time=   0.5s\n",
      "[CV 3/5; 1/100] START rfc__max_depth=1, rfc__n_estimators=1.....................\n",
      "[CV 3/5; 1/100] END rfc__max_depth=1, rfc__n_estimators=1;, score=(train=0.071, test=0.070) total time=   0.5s\n",
      "[CV 4/5; 1/100] START rfc__max_depth=1, rfc__n_estimators=1.....................\n",
      "[CV 4/5; 1/100] END rfc__max_depth=1, rfc__n_estimators=1;, score=(train=0.067, test=0.067) total time=   0.5s\n",
      "[CV 5/5; 1/100] START rfc__max_depth=1, rfc__n_estimators=1.....................\n",
      "[CV 5/5; 1/100] END rfc__max_depth=1, rfc__n_estimators=1;, score=(train=0.074, test=0.076) total time=   0.6s\n",
      "[CV 1/5; 2/100] START rfc__max_depth=1, rfc__n_estimators=51....................\n",
      "[CV 1/5; 2/100] END rfc__max_depth=1, rfc__n_estimators=51;, score=(train=0.260, test=0.254) total time=   1.5s\n",
      "[CV 2/5; 2/100] START rfc__max_depth=1, rfc__n_estimators=51....................\n",
      "[CV 2/5; 2/100] END rfc__max_depth=1, rfc__n_estimators=51;, score=(train=0.313, test=0.308) total time=   0.5s\n",
      "[CV 3/5; 2/100] START rfc__max_depth=1, rfc__n_estimators=51....................\n",
      "[CV 3/5; 2/100] END rfc__max_depth=1, rfc__n_estimators=51;, score=(train=0.272, test=0.260) total time=   0.5s\n",
      "[CV 4/5; 2/100] START rfc__max_depth=1, rfc__n_estimators=51....................\n",
      "[CV 4/5; 2/100] END rfc__max_depth=1, rfc__n_estimators=51;, score=(train=0.263, test=0.275) total time=   0.5s\n",
      "[CV 5/5; 2/100] START rfc__max_depth=1, rfc__n_estimators=51....................\n",
      "[CV 5/5; 2/100] END rfc__max_depth=1, rfc__n_estimators=51;, score=(train=0.308, test=0.293) total time=   0.5s\n",
      "[CV 1/5; 3/100] START rfc__max_depth=1, rfc__n_estimators=101...................\n",
      "[CV 1/5; 3/100] END rfc__max_depth=1, rfc__n_estimators=101;, score=(train=0.312, test=0.279) total time=   0.7s\n",
      "[CV 2/5; 3/100] START rfc__max_depth=1, rfc__n_estimators=101...................\n",
      "[CV 2/5; 3/100] END rfc__max_depth=1, rfc__n_estimators=101;, score=(train=0.361, test=0.344) total time=   0.7s\n",
      "[CV 3/5; 3/100] START rfc__max_depth=1, rfc__n_estimators=101...................\n",
      "[CV 3/5; 3/100] END rfc__max_depth=1, rfc__n_estimators=101;, score=(train=0.342, test=0.324) total time=   0.6s\n",
      "[CV 4/5; 3/100] START rfc__max_depth=1, rfc__n_estimators=101...................\n",
      "[CV 4/5; 3/100] END rfc__max_depth=1, rfc__n_estimators=101;, score=(train=0.322, test=0.311) total time=   0.6s\n",
      "[CV 5/5; 3/100] START rfc__max_depth=1, rfc__n_estimators=101...................\n",
      "[CV 5/5; 3/100] END rfc__max_depth=1, rfc__n_estimators=101;, score=(train=0.328, test=0.320) total time=   0.7s\n",
      "[CV 1/5; 4/100] START rfc__max_depth=1, rfc__n_estimators=151...................\n",
      "[CV 1/5; 4/100] END rfc__max_depth=1, rfc__n_estimators=151;, score=(train=0.330, test=0.301) total time=   1.1s\n",
      "[CV 2/5; 4/100] START rfc__max_depth=1, rfc__n_estimators=151...................\n",
      "[CV 2/5; 4/100] END rfc__max_depth=1, rfc__n_estimators=151;, score=(train=0.380, test=0.357) total time=   1.0s\n",
      "[CV 3/5; 4/100] START rfc__max_depth=1, rfc__n_estimators=151...................\n",
      "[CV 3/5; 4/100] END rfc__max_depth=1, rfc__n_estimators=151;, score=(train=0.353, test=0.335) total time=   1.0s\n",
      "[CV 4/5; 4/100] START rfc__max_depth=1, rfc__n_estimators=151...................\n",
      "[CV 4/5; 4/100] END rfc__max_depth=1, rfc__n_estimators=151;, score=(train=0.344, test=0.314) total time=   1.0s\n",
      "[CV 5/5; 4/100] START rfc__max_depth=1, rfc__n_estimators=151...................\n",
      "[CV 5/5; 4/100] END rfc__max_depth=1, rfc__n_estimators=151;, score=(train=0.330, test=0.320) total time=   1.2s\n",
      "[CV 1/5; 5/100] START rfc__max_depth=1, rfc__n_estimators=201...................\n",
      "[CV 1/5; 5/100] END rfc__max_depth=1, rfc__n_estimators=201;, score=(train=0.335, test=0.321) total time=   1.5s\n",
      "[CV 2/5; 5/100] START rfc__max_depth=1, rfc__n_estimators=201...................\n",
      "[CV 2/5; 5/100] END rfc__max_depth=1, rfc__n_estimators=201;, score=(train=0.395, test=0.363) total time=   1.4s\n",
      "[CV 3/5; 5/100] START rfc__max_depth=1, rfc__n_estimators=201...................\n",
      "[CV 3/5; 5/100] END rfc__max_depth=1, rfc__n_estimators=201;, score=(train=0.356, test=0.344) total time=   1.2s\n",
      "[CV 4/5; 5/100] START rfc__max_depth=1, rfc__n_estimators=201...................\n",
      "[CV 4/5; 5/100] END rfc__max_depth=1, rfc__n_estimators=201;, score=(train=0.347, test=0.317) total time=   1.1s\n",
      "[CV 5/5; 5/100] START rfc__max_depth=1, rfc__n_estimators=201...................\n",
      "[CV 5/5; 5/100] END rfc__max_depth=1, rfc__n_estimators=201;, score=(train=0.339, test=0.326) total time=   1.1s\n",
      "[CV 1/5; 6/100] START rfc__max_depth=1, rfc__n_estimators=251...................\n",
      "[CV 1/5; 6/100] END rfc__max_depth=1, rfc__n_estimators=251;, score=(train=0.339, test=0.318) total time=   1.5s\n",
      "[CV 2/5; 6/100] START rfc__max_depth=1, rfc__n_estimators=251...................\n",
      "[CV 2/5; 6/100] END rfc__max_depth=1, rfc__n_estimators=251;, score=(train=0.403, test=0.368) total time=   1.7s\n",
      "[CV 3/5; 6/100] START rfc__max_depth=1, rfc__n_estimators=251...................\n",
      "[CV 3/5; 6/100] END rfc__max_depth=1, rfc__n_estimators=251;, score=(train=0.367, test=0.334) total time=   1.7s\n",
      "[CV 4/5; 6/100] START rfc__max_depth=1, rfc__n_estimators=251...................\n",
      "[CV 4/5; 6/100] END rfc__max_depth=1, rfc__n_estimators=251;, score=(train=0.356, test=0.326) total time=   1.7s\n",
      "[CV 5/5; 6/100] START rfc__max_depth=1, rfc__n_estimators=251...................\n",
      "[CV 5/5; 6/100] END rfc__max_depth=1, rfc__n_estimators=251;, score=(train=0.352, test=0.327) total time=   1.9s\n",
      "[CV 1/5; 7/100] START rfc__max_depth=1, rfc__n_estimators=301...................\n",
      "[CV 1/5; 7/100] END rfc__max_depth=1, rfc__n_estimators=301;, score=(train=0.346, test=0.316) total time=   1.7s\n",
      "[CV 2/5; 7/100] START rfc__max_depth=1, rfc__n_estimators=301...................\n",
      "[CV 2/5; 7/100] END rfc__max_depth=1, rfc__n_estimators=301;, score=(train=0.408, test=0.378) total time=   1.7s\n",
      "[CV 3/5; 7/100] START rfc__max_depth=1, rfc__n_estimators=301...................\n",
      "[CV 3/5; 7/100] END rfc__max_depth=1, rfc__n_estimators=301;, score=(train=0.391, test=0.364) total time=   1.7s\n",
      "[CV 4/5; 7/100] START rfc__max_depth=1, rfc__n_estimators=301...................\n",
      "[CV 4/5; 7/100] END rfc__max_depth=1, rfc__n_estimators=301;, score=(train=0.367, test=0.347) total time=   1.6s\n",
      "[CV 5/5; 7/100] START rfc__max_depth=1, rfc__n_estimators=301...................\n",
      "[CV 5/5; 7/100] END rfc__max_depth=1, rfc__n_estimators=301;, score=(train=0.351, test=0.333) total time=   1.7s\n",
      "[CV 1/5; 8/100] START rfc__max_depth=1, rfc__n_estimators=351...................\n",
      "[CV 1/5; 8/100] END rfc__max_depth=1, rfc__n_estimators=351;, score=(train=0.350, test=0.328) total time=   2.1s\n",
      "[CV 2/5; 8/100] START rfc__max_depth=1, rfc__n_estimators=351...................\n",
      "[CV 2/5; 8/100] END rfc__max_depth=1, rfc__n_estimators=351;, score=(train=0.421, test=0.391) total time=   2.0s\n",
      "[CV 3/5; 8/100] START rfc__max_depth=1, rfc__n_estimators=351...................\n",
      "[CV 3/5; 8/100] END rfc__max_depth=1, rfc__n_estimators=351;, score=(train=0.392, test=0.372) total time=   2.0s\n",
      "[CV 4/5; 8/100] START rfc__max_depth=1, rfc__n_estimators=351...................\n",
      "[CV 4/5; 8/100] END rfc__max_depth=1, rfc__n_estimators=351;, score=(train=0.384, test=0.364) total time=   2.0s\n",
      "[CV 5/5; 8/100] START rfc__max_depth=1, rfc__n_estimators=351...................\n",
      "[CV 5/5; 8/100] END rfc__max_depth=1, rfc__n_estimators=351;, score=(train=0.356, test=0.336) total time=   2.0s\n",
      "[CV 1/5; 9/100] START rfc__max_depth=1, rfc__n_estimators=401...................\n",
      "[CV 1/5; 9/100] END rfc__max_depth=1, rfc__n_estimators=401;, score=(train=0.359, test=0.336) total time=   1.8s\n",
      "[CV 2/5; 9/100] START rfc__max_depth=1, rfc__n_estimators=401...................\n",
      "[CV 2/5; 9/100] END rfc__max_depth=1, rfc__n_estimators=401;, score=(train=0.424, test=0.393) total time=   1.9s\n",
      "[CV 3/5; 9/100] START rfc__max_depth=1, rfc__n_estimators=401...................\n",
      "[CV 3/5; 9/100] END rfc__max_depth=1, rfc__n_estimators=401;, score=(train=0.398, test=0.369) total time=   1.8s\n",
      "[CV 4/5; 9/100] START rfc__max_depth=1, rfc__n_estimators=401...................\n",
      "[CV 4/5; 9/100] END rfc__max_depth=1, rfc__n_estimators=401;, score=(train=0.379, test=0.356) total time=   1.8s\n",
      "[CV 5/5; 9/100] START rfc__max_depth=1, rfc__n_estimators=401...................\n",
      "[CV 5/5; 9/100] END rfc__max_depth=1, rfc__n_estimators=401;, score=(train=0.352, test=0.331) total time=   1.8s\n",
      "[CV 1/5; 10/100] START rfc__max_depth=1, rfc__n_estimators=451..................\n",
      "[CV 1/5; 10/100] END rfc__max_depth=1, rfc__n_estimators=451;, score=(train=0.364, test=0.339) total time=   2.2s\n",
      "[CV 2/5; 10/100] START rfc__max_depth=1, rfc__n_estimators=451..................\n",
      "[CV 2/5; 10/100] END rfc__max_depth=1, rfc__n_estimators=451;, score=(train=0.420, test=0.384) total time=   2.2s\n",
      "[CV 3/5; 10/100] START rfc__max_depth=1, rfc__n_estimators=451..................\n",
      "[CV 3/5; 10/100] END rfc__max_depth=1, rfc__n_estimators=451;, score=(train=0.406, test=0.385) total time=   2.2s\n",
      "[CV 4/5; 10/100] START rfc__max_depth=1, rfc__n_estimators=451..................\n",
      "[CV 4/5; 10/100] END rfc__max_depth=1, rfc__n_estimators=451;, score=(train=0.383, test=0.357) total time=   2.0s\n",
      "[CV 5/5; 10/100] START rfc__max_depth=1, rfc__n_estimators=451..................\n",
      "[CV 5/5; 10/100] END rfc__max_depth=1, rfc__n_estimators=451;, score=(train=0.354, test=0.332) total time=   2.2s\n",
      "[CV 1/5; 11/100] START rfc__max_depth=6, rfc__n_estimators=1....................\n",
      "[CV 1/5; 11/100] END rfc__max_depth=6, rfc__n_estimators=1;, score=(train=0.104, test=0.096) total time=   0.0s\n",
      "[CV 2/5; 11/100] START rfc__max_depth=6, rfc__n_estimators=1....................\n",
      "[CV 2/5; 11/100] END rfc__max_depth=6, rfc__n_estimators=1;, score=(train=0.178, test=0.173) total time=   0.0s\n",
      "[CV 3/5; 11/100] START rfc__max_depth=6, rfc__n_estimators=1....................\n",
      "[CV 3/5; 11/100] END rfc__max_depth=6, rfc__n_estimators=1;, score=(train=0.105, test=0.104) total time=   0.0s\n",
      "[CV 4/5; 11/100] START rfc__max_depth=6, rfc__n_estimators=1....................\n",
      "[CV 4/5; 11/100] END rfc__max_depth=6, rfc__n_estimators=1;, score=(train=0.123, test=0.114) total time=   0.0s\n",
      "[CV 5/5; 11/100] START rfc__max_depth=6, rfc__n_estimators=1....................\n",
      "[CV 5/5; 11/100] END rfc__max_depth=6, rfc__n_estimators=1;, score=(train=0.120, test=0.115) total time=   0.0s\n",
      "[CV 1/5; 12/100] START rfc__max_depth=6, rfc__n_estimators=51...................\n",
      "[CV 1/5; 12/100] END rfc__max_depth=6, rfc__n_estimators=51;, score=(train=0.463, test=0.408) total time=   0.4s\n",
      "[CV 2/5; 12/100] START rfc__max_depth=6, rfc__n_estimators=51...................\n",
      "[CV 2/5; 12/100] END rfc__max_depth=6, rfc__n_estimators=51;, score=(train=0.462, test=0.401) total time=   0.4s\n",
      "[CV 3/5; 12/100] START rfc__max_depth=6, rfc__n_estimators=51...................\n",
      "[CV 3/5; 12/100] END rfc__max_depth=6, rfc__n_estimators=51;, score=(train=0.454, test=0.384) total time=   0.4s\n",
      "[CV 4/5; 12/100] START rfc__max_depth=6, rfc__n_estimators=51...................\n",
      "[CV 4/5; 12/100] END rfc__max_depth=6, rfc__n_estimators=51;, score=(train=0.455, test=0.387) total time=   0.4s\n",
      "[CV 5/5; 12/100] START rfc__max_depth=6, rfc__n_estimators=51...................\n",
      "[CV 5/5; 12/100] END rfc__max_depth=6, rfc__n_estimators=51;, score=(train=0.460, test=0.391) total time=   0.4s\n",
      "[CV 1/5; 13/100] START rfc__max_depth=6, rfc__n_estimators=101..................\n",
      "[CV 1/5; 13/100] END rfc__max_depth=6, rfc__n_estimators=101;, score=(train=0.487, test=0.419) total time=   0.6s\n",
      "[CV 2/5; 13/100] START rfc__max_depth=6, rfc__n_estimators=101..................\n",
      "[CV 2/5; 13/100] END rfc__max_depth=6, rfc__n_estimators=101;, score=(train=0.503, test=0.427) total time=   0.6s\n",
      "[CV 3/5; 13/100] START rfc__max_depth=6, rfc__n_estimators=101..................\n",
      "[CV 3/5; 13/100] END rfc__max_depth=6, rfc__n_estimators=101;, score=(train=0.479, test=0.403) total time=   0.6s\n",
      "[CV 4/5; 13/100] START rfc__max_depth=6, rfc__n_estimators=101..................\n",
      "[CV 4/5; 13/100] END rfc__max_depth=6, rfc__n_estimators=101;, score=(train=0.492, test=0.414) total time=   0.6s\n",
      "[CV 5/5; 13/100] START rfc__max_depth=6, rfc__n_estimators=101..................\n",
      "[CV 5/5; 13/100] END rfc__max_depth=6, rfc__n_estimators=101;, score=(train=0.488, test=0.402) total time=   0.6s\n",
      "[CV 1/5; 14/100] START rfc__max_depth=6, rfc__n_estimators=151..................\n",
      "[CV 1/5; 14/100] END rfc__max_depth=6, rfc__n_estimators=151;, score=(train=0.494, test=0.420) total time=   1.0s\n",
      "[CV 2/5; 14/100] START rfc__max_depth=6, rfc__n_estimators=151..................\n",
      "[CV 2/5; 14/100] END rfc__max_depth=6, rfc__n_estimators=151;, score=(train=0.509, test=0.424) total time=   1.0s\n",
      "[CV 3/5; 14/100] START rfc__max_depth=6, rfc__n_estimators=151..................\n",
      "[CV 3/5; 14/100] END rfc__max_depth=6, rfc__n_estimators=151;, score=(train=0.498, test=0.402) total time=   1.0s\n",
      "[CV 4/5; 14/100] START rfc__max_depth=6, rfc__n_estimators=151..................\n",
      "[CV 4/5; 14/100] END rfc__max_depth=6, rfc__n_estimators=151;, score=(train=0.504, test=0.415) total time=   1.0s\n",
      "[CV 5/5; 14/100] START rfc__max_depth=6, rfc__n_estimators=151..................\n",
      "[CV 5/5; 14/100] END rfc__max_depth=6, rfc__n_estimators=151;, score=(train=0.495, test=0.409) total time=   0.9s\n",
      "[CV 1/5; 15/100] START rfc__max_depth=6, rfc__n_estimators=201..................\n",
      "[CV 1/5; 15/100] END rfc__max_depth=6, rfc__n_estimators=201;, score=(train=0.496, test=0.417) total time=   1.1s\n",
      "[CV 2/5; 15/100] START rfc__max_depth=6, rfc__n_estimators=201..................\n",
      "[CV 2/5; 15/100] END rfc__max_depth=6, rfc__n_estimators=201;, score=(train=0.520, test=0.431) total time=   1.1s\n",
      "[CV 3/5; 15/100] START rfc__max_depth=6, rfc__n_estimators=201..................\n",
      "[CV 3/5; 15/100] END rfc__max_depth=6, rfc__n_estimators=201;, score=(train=0.505, test=0.408) total time=   1.1s\n",
      "[CV 4/5; 15/100] START rfc__max_depth=6, rfc__n_estimators=201..................\n",
      "[CV 4/5; 15/100] END rfc__max_depth=6, rfc__n_estimators=201;, score=(train=0.512, test=0.426) total time=   1.1s\n",
      "[CV 5/5; 15/100] START rfc__max_depth=6, rfc__n_estimators=201..................\n",
      "[CV 5/5; 15/100] END rfc__max_depth=6, rfc__n_estimators=201;, score=(train=0.511, test=0.408) total time=   1.1s\n",
      "[CV 1/5; 16/100] START rfc__max_depth=6, rfc__n_estimators=251..................\n",
      "[CV 1/5; 16/100] END rfc__max_depth=6, rfc__n_estimators=251;, score=(train=0.501, test=0.417) total time=   1.5s\n",
      "[CV 2/5; 16/100] START rfc__max_depth=6, rfc__n_estimators=251..................\n",
      "[CV 2/5; 16/100] END rfc__max_depth=6, rfc__n_estimators=251;, score=(train=0.527, test=0.440) total time=   1.3s\n",
      "[CV 3/5; 16/100] START rfc__max_depth=6, rfc__n_estimators=251..................\n",
      "[CV 3/5; 16/100] END rfc__max_depth=6, rfc__n_estimators=251;, score=(train=0.508, test=0.415) total time=   1.3s\n",
      "[CV 4/5; 16/100] START rfc__max_depth=6, rfc__n_estimators=251..................\n",
      "[CV 4/5; 16/100] END rfc__max_depth=6, rfc__n_estimators=251;, score=(train=0.513, test=0.429) total time=   1.2s\n",
      "[CV 5/5; 16/100] START rfc__max_depth=6, rfc__n_estimators=251..................\n",
      "[CV 5/5; 16/100] END rfc__max_depth=6, rfc__n_estimators=251;, score=(train=0.510, test=0.410) total time=   1.3s\n",
      "[CV 1/5; 17/100] START rfc__max_depth=6, rfc__n_estimators=301..................\n",
      "[CV 1/5; 17/100] END rfc__max_depth=6, rfc__n_estimators=301;, score=(train=0.509, test=0.429) total time=   1.6s\n",
      "[CV 2/5; 17/100] START rfc__max_depth=6, rfc__n_estimators=301..................\n",
      "[CV 2/5; 17/100] END rfc__max_depth=6, rfc__n_estimators=301;, score=(train=0.522, test=0.431) total time=   1.7s\n",
      "[CV 3/5; 17/100] START rfc__max_depth=6, rfc__n_estimators=301..................\n",
      "[CV 3/5; 17/100] END rfc__max_depth=6, rfc__n_estimators=301;, score=(train=0.509, test=0.423) total time=   1.4s\n",
      "[CV 4/5; 17/100] START rfc__max_depth=6, rfc__n_estimators=301..................\n",
      "[CV 4/5; 17/100] END rfc__max_depth=6, rfc__n_estimators=301;, score=(train=0.512, test=0.434) total time=   1.4s\n",
      "[CV 5/5; 17/100] START rfc__max_depth=6, rfc__n_estimators=301..................\n",
      "[CV 5/5; 17/100] END rfc__max_depth=6, rfc__n_estimators=301;, score=(train=0.518, test=0.418) total time=   1.5s\n",
      "[CV 1/5; 18/100] START rfc__max_depth=6, rfc__n_estimators=351..................\n",
      "[CV 1/5; 18/100] END rfc__max_depth=6, rfc__n_estimators=351;, score=(train=0.511, test=0.432) total time=   1.8s\n",
      "[CV 2/5; 18/100] START rfc__max_depth=6, rfc__n_estimators=351..................\n",
      "[CV 2/5; 18/100] END rfc__max_depth=6, rfc__n_estimators=351;, score=(train=0.525, test=0.432) total time=   1.8s\n",
      "[CV 3/5; 18/100] START rfc__max_depth=6, rfc__n_estimators=351..................\n",
      "[CV 3/5; 18/100] END rfc__max_depth=6, rfc__n_estimators=351;, score=(train=0.515, test=0.418) total time=   1.8s\n",
      "[CV 4/5; 18/100] START rfc__max_depth=6, rfc__n_estimators=351..................\n",
      "[CV 4/5; 18/100] END rfc__max_depth=6, rfc__n_estimators=351;, score=(train=0.509, test=0.429) total time=   1.8s\n",
      "[CV 5/5; 18/100] START rfc__max_depth=6, rfc__n_estimators=351..................\n",
      "[CV 5/5; 18/100] END rfc__max_depth=6, rfc__n_estimators=351;, score=(train=0.522, test=0.421) total time=   1.8s\n",
      "[CV 1/5; 19/100] START rfc__max_depth=6, rfc__n_estimators=401..................\n",
      "[CV 1/5; 19/100] END rfc__max_depth=6, rfc__n_estimators=401;, score=(train=0.515, test=0.433) total time=   1.9s\n",
      "[CV 2/5; 19/100] START rfc__max_depth=6, rfc__n_estimators=401..................\n",
      "[CV 2/5; 19/100] END rfc__max_depth=6, rfc__n_estimators=401;, score=(train=0.524, test=0.434) total time=   1.9s\n",
      "[CV 3/5; 19/100] START rfc__max_depth=6, rfc__n_estimators=401..................\n",
      "[CV 3/5; 19/100] END rfc__max_depth=6, rfc__n_estimators=401;, score=(train=0.521, test=0.429) total time=   1.9s\n",
      "[CV 4/5; 19/100] START rfc__max_depth=6, rfc__n_estimators=401..................\n",
      "[CV 4/5; 19/100] END rfc__max_depth=6, rfc__n_estimators=401;, score=(train=0.515, test=0.433) total time=   1.9s\n",
      "[CV 5/5; 19/100] START rfc__max_depth=6, rfc__n_estimators=401..................\n",
      "[CV 5/5; 19/100] END rfc__max_depth=6, rfc__n_estimators=401;, score=(train=0.526, test=0.421) total time=   2.0s\n",
      "[CV 1/5; 20/100] START rfc__max_depth=6, rfc__n_estimators=451..................\n",
      "[CV 1/5; 20/100] END rfc__max_depth=6, rfc__n_estimators=451;, score=(train=0.518, test=0.429) total time=   2.1s\n",
      "[CV 2/5; 20/100] START rfc__max_depth=6, rfc__n_estimators=451..................\n",
      "[CV 2/5; 20/100] END rfc__max_depth=6, rfc__n_estimators=451;, score=(train=0.526, test=0.430) total time=   2.0s\n",
      "[CV 3/5; 20/100] START rfc__max_depth=6, rfc__n_estimators=451..................\n",
      "[CV 3/5; 20/100] END rfc__max_depth=6, rfc__n_estimators=451;, score=(train=0.522, test=0.428) total time=   2.1s\n",
      "[CV 4/5; 20/100] START rfc__max_depth=6, rfc__n_estimators=451..................\n",
      "[CV 4/5; 20/100] END rfc__max_depth=6, rfc__n_estimators=451;, score=(train=0.514, test=0.431) total time=   2.1s\n",
      "[CV 5/5; 20/100] START rfc__max_depth=6, rfc__n_estimators=451..................\n",
      "[CV 5/5; 20/100] END rfc__max_depth=6, rfc__n_estimators=451;, score=(train=0.526, test=0.417) total time=   2.1s\n",
      "[CV 1/5; 21/100] START rfc__max_depth=11, rfc__n_estimators=1...................\n",
      "[CV 1/5; 21/100] END rfc__max_depth=11, rfc__n_estimators=1;, score=(train=0.191, test=0.160) total time=   0.0s\n",
      "[CV 2/5; 21/100] START rfc__max_depth=11, rfc__n_estimators=1...................\n",
      "[CV 2/5; 21/100] END rfc__max_depth=11, rfc__n_estimators=1;, score=(train=0.200, test=0.180) total time=   0.0s\n",
      "[CV 3/5; 21/100] START rfc__max_depth=11, rfc__n_estimators=1...................\n",
      "[CV 3/5; 21/100] END rfc__max_depth=11, rfc__n_estimators=1;, score=(train=0.162, test=0.151) total time=   0.0s\n",
      "[CV 4/5; 21/100] START rfc__max_depth=11, rfc__n_estimators=1...................\n",
      "[CV 4/5; 21/100] END rfc__max_depth=11, rfc__n_estimators=1;, score=(train=0.211, test=0.188) total time=   0.0s\n",
      "[CV 5/5; 21/100] START rfc__max_depth=11, rfc__n_estimators=1...................\n",
      "[CV 5/5; 21/100] END rfc__max_depth=11, rfc__n_estimators=1;, score=(train=0.151, test=0.137) total time=   0.0s\n",
      "[CV 1/5; 22/100] START rfc__max_depth=11, rfc__n_estimators=51..................\n",
      "[CV 1/5; 22/100] END rfc__max_depth=11, rfc__n_estimators=51;, score=(train=0.580, test=0.447) total time=   0.4s\n",
      "[CV 2/5; 22/100] START rfc__max_depth=11, rfc__n_estimators=51..................\n",
      "[CV 2/5; 22/100] END rfc__max_depth=11, rfc__n_estimators=51;, score=(train=0.569, test=0.439) total time=   0.4s\n",
      "[CV 3/5; 22/100] START rfc__max_depth=11, rfc__n_estimators=51..................\n",
      "[CV 3/5; 22/100] END rfc__max_depth=11, rfc__n_estimators=51;, score=(train=0.562, test=0.443) total time=   0.4s\n",
      "[CV 4/5; 22/100] START rfc__max_depth=11, rfc__n_estimators=51..................\n",
      "[CV 4/5; 22/100] END rfc__max_depth=11, rfc__n_estimators=51;, score=(train=0.565, test=0.451) total time=   0.4s\n",
      "[CV 5/5; 22/100] START rfc__max_depth=11, rfc__n_estimators=51..................\n",
      "[CV 5/5; 22/100] END rfc__max_depth=11, rfc__n_estimators=51;, score=(train=0.574, test=0.460) total time=   0.4s\n",
      "[CV 1/5; 23/100] START rfc__max_depth=11, rfc__n_estimators=101.................\n",
      "[CV 1/5; 23/100] END rfc__max_depth=11, rfc__n_estimators=101;, score=(train=0.611, test=0.474) total time=   0.6s\n",
      "[CV 2/5; 23/100] START rfc__max_depth=11, rfc__n_estimators=101.................\n",
      "[CV 2/5; 23/100] END rfc__max_depth=11, rfc__n_estimators=101;, score=(train=0.598, test=0.472) total time=   0.6s\n",
      "[CV 3/5; 23/100] START rfc__max_depth=11, rfc__n_estimators=101.................\n",
      "[CV 3/5; 23/100] END rfc__max_depth=11, rfc__n_estimators=101;, score=(train=0.591, test=0.456) total time=   0.6s\n",
      "[CV 4/5; 23/100] START rfc__max_depth=11, rfc__n_estimators=101.................\n",
      "[CV 4/5; 23/100] END rfc__max_depth=11, rfc__n_estimators=101;, score=(train=0.606, test=0.481) total time=   0.6s\n",
      "[CV 5/5; 23/100] START rfc__max_depth=11, rfc__n_estimators=101.................\n",
      "[CV 5/5; 23/100] END rfc__max_depth=11, rfc__n_estimators=101;, score=(train=0.603, test=0.470) total time=   0.6s\n",
      "[CV 1/5; 24/100] START rfc__max_depth=11, rfc__n_estimators=151.................\n",
      "[CV 1/5; 24/100] END rfc__max_depth=11, rfc__n_estimators=151;, score=(train=0.621, test=0.482) total time=   0.9s\n",
      "[CV 2/5; 24/100] START rfc__max_depth=11, rfc__n_estimators=151.................\n",
      "[CV 2/5; 24/100] END rfc__max_depth=11, rfc__n_estimators=151;, score=(train=0.615, test=0.484) total time=   0.9s\n",
      "[CV 3/5; 24/100] START rfc__max_depth=11, rfc__n_estimators=151.................\n",
      "[CV 3/5; 24/100] END rfc__max_depth=11, rfc__n_estimators=151;, score=(train=0.607, test=0.465) total time=   0.9s\n",
      "[CV 4/5; 24/100] START rfc__max_depth=11, rfc__n_estimators=151.................\n",
      "[CV 4/5; 24/100] END rfc__max_depth=11, rfc__n_estimators=151;, score=(train=0.620, test=0.489) total time=   0.9s\n",
      "[CV 5/5; 24/100] START rfc__max_depth=11, rfc__n_estimators=151.................\n",
      "[CV 5/5; 24/100] END rfc__max_depth=11, rfc__n_estimators=151;, score=(train=0.622, test=0.490) total time=   0.9s\n",
      "[CV 1/5; 25/100] START rfc__max_depth=11, rfc__n_estimators=201.................\n",
      "[CV 1/5; 25/100] END rfc__max_depth=11, rfc__n_estimators=201;, score=(train=0.627, test=0.479) total time=   1.2s\n",
      "[CV 2/5; 25/100] START rfc__max_depth=11, rfc__n_estimators=201.................\n",
      "[CV 2/5; 25/100] END rfc__max_depth=11, rfc__n_estimators=201;, score=(train=0.622, test=0.491) total time=   1.2s\n",
      "[CV 3/5; 25/100] START rfc__max_depth=11, rfc__n_estimators=201.................\n",
      "[CV 3/5; 25/100] END rfc__max_depth=11, rfc__n_estimators=201;, score=(train=0.615, test=0.478) total time=   1.2s\n",
      "[CV 4/5; 25/100] START rfc__max_depth=11, rfc__n_estimators=201.................\n",
      "[CV 4/5; 25/100] END rfc__max_depth=11, rfc__n_estimators=201;, score=(train=0.626, test=0.487) total time=   1.1s\n",
      "[CV 5/5; 25/100] START rfc__max_depth=11, rfc__n_estimators=201.................\n",
      "[CV 5/5; 25/100] END rfc__max_depth=11, rfc__n_estimators=201;, score=(train=0.633, test=0.493) total time=   1.2s\n",
      "[CV 1/5; 26/100] START rfc__max_depth=11, rfc__n_estimators=251.................\n",
      "[CV 1/5; 26/100] END rfc__max_depth=11, rfc__n_estimators=251;, score=(train=0.628, test=0.482) total time=   1.5s\n",
      "[CV 2/5; 26/100] START rfc__max_depth=11, rfc__n_estimators=251.................\n",
      "[CV 2/5; 26/100] END rfc__max_depth=11, rfc__n_estimators=251;, score=(train=0.635, test=0.492) total time=   1.5s\n",
      "[CV 3/5; 26/100] START rfc__max_depth=11, rfc__n_estimators=251.................\n",
      "[CV 3/5; 26/100] END rfc__max_depth=11, rfc__n_estimators=251;, score=(train=0.615, test=0.485) total time=   1.5s\n",
      "[CV 4/5; 26/100] START rfc__max_depth=11, rfc__n_estimators=251.................\n",
      "[CV 4/5; 26/100] END rfc__max_depth=11, rfc__n_estimators=251;, score=(train=0.633, test=0.497) total time=   1.5s\n",
      "[CV 5/5; 26/100] START rfc__max_depth=11, rfc__n_estimators=251.................\n",
      "[CV 5/5; 26/100] END rfc__max_depth=11, rfc__n_estimators=251;, score=(train=0.633, test=0.497) total time=   1.5s\n",
      "[CV 1/5; 27/100] START rfc__max_depth=11, rfc__n_estimators=301.................\n",
      "[CV 1/5; 27/100] END rfc__max_depth=11, rfc__n_estimators=301;, score=(train=0.633, test=0.486) total time=   1.7s\n",
      "[CV 2/5; 27/100] START rfc__max_depth=11, rfc__n_estimators=301.................\n",
      "[CV 2/5; 27/100] END rfc__max_depth=11, rfc__n_estimators=301;, score=(train=0.637, test=0.497) total time=   1.7s\n",
      "[CV 3/5; 27/100] START rfc__max_depth=11, rfc__n_estimators=301.................\n",
      "[CV 3/5; 27/100] END rfc__max_depth=11, rfc__n_estimators=301;, score=(train=0.619, test=0.490) total time=   1.7s\n",
      "[CV 4/5; 27/100] START rfc__max_depth=11, rfc__n_estimators=301.................\n",
      "[CV 4/5; 27/100] END rfc__max_depth=11, rfc__n_estimators=301;, score=(train=0.631, test=0.494) total time=   1.7s\n",
      "[CV 5/5; 27/100] START rfc__max_depth=11, rfc__n_estimators=301.................\n",
      "[CV 5/5; 27/100] END rfc__max_depth=11, rfc__n_estimators=301;, score=(train=0.638, test=0.496) total time=   1.7s\n",
      "[CV 1/5; 28/100] START rfc__max_depth=11, rfc__n_estimators=351.................\n",
      "[CV 1/5; 28/100] END rfc__max_depth=11, rfc__n_estimators=351;, score=(train=0.631, test=0.491) total time=   2.0s\n",
      "[CV 2/5; 28/100] START rfc__max_depth=11, rfc__n_estimators=351.................\n",
      "[CV 2/5; 28/100] END rfc__max_depth=11, rfc__n_estimators=351;, score=(train=0.637, test=0.491) total time=   2.0s\n",
      "[CV 3/5; 28/100] START rfc__max_depth=11, rfc__n_estimators=351.................\n",
      "[CV 3/5; 28/100] END rfc__max_depth=11, rfc__n_estimators=351;, score=(train=0.626, test=0.494) total time=   2.0s\n",
      "[CV 4/5; 28/100] START rfc__max_depth=11, rfc__n_estimators=351.................\n",
      "[CV 4/5; 28/100] END rfc__max_depth=11, rfc__n_estimators=351;, score=(train=0.636, test=0.497) total time=   2.0s\n",
      "[CV 5/5; 28/100] START rfc__max_depth=11, rfc__n_estimators=351.................\n",
      "[CV 5/5; 28/100] END rfc__max_depth=11, rfc__n_estimators=351;, score=(train=0.639, test=0.491) total time=   2.0s\n",
      "[CV 1/5; 29/100] START rfc__max_depth=11, rfc__n_estimators=401.................\n",
      "[CV 1/5; 29/100] END rfc__max_depth=11, rfc__n_estimators=401;, score=(train=0.631, test=0.486) total time=   2.2s\n",
      "[CV 2/5; 29/100] START rfc__max_depth=11, rfc__n_estimators=401.................\n",
      "[CV 2/5; 29/100] END rfc__max_depth=11, rfc__n_estimators=401;, score=(train=0.640, test=0.494) total time=   2.2s\n",
      "[CV 3/5; 29/100] START rfc__max_depth=11, rfc__n_estimators=401.................\n",
      "[CV 3/5; 29/100] END rfc__max_depth=11, rfc__n_estimators=401;, score=(train=0.628, test=0.498) total time=   2.3s\n",
      "[CV 4/5; 29/100] START rfc__max_depth=11, rfc__n_estimators=401.................\n",
      "[CV 4/5; 29/100] END rfc__max_depth=11, rfc__n_estimators=401;, score=(train=0.637, test=0.494) total time=   2.2s\n",
      "[CV 5/5; 29/100] START rfc__max_depth=11, rfc__n_estimators=401.................\n",
      "[CV 5/5; 29/100] END rfc__max_depth=11, rfc__n_estimators=401;, score=(train=0.642, test=0.497) total time=   2.2s\n",
      "[CV 1/5; 30/100] START rfc__max_depth=11, rfc__n_estimators=451.................\n",
      "[CV 1/5; 30/100] END rfc__max_depth=11, rfc__n_estimators=451;, score=(train=0.632, test=0.486) total time=   2.4s\n",
      "[CV 2/5; 30/100] START rfc__max_depth=11, rfc__n_estimators=451.................\n",
      "[CV 2/5; 30/100] END rfc__max_depth=11, rfc__n_estimators=451;, score=(train=0.640, test=0.493) total time=   2.5s\n",
      "[CV 3/5; 30/100] START rfc__max_depth=11, rfc__n_estimators=451.................\n",
      "[CV 3/5; 30/100] END rfc__max_depth=11, rfc__n_estimators=451;, score=(train=0.630, test=0.500) total time=   2.6s\n",
      "[CV 4/5; 30/100] START rfc__max_depth=11, rfc__n_estimators=451.................\n",
      "[CV 4/5; 30/100] END rfc__max_depth=11, rfc__n_estimators=451;, score=(train=0.640, test=0.498) total time=   2.4s\n",
      "[CV 5/5; 30/100] START rfc__max_depth=11, rfc__n_estimators=451.................\n",
      "[CV 5/5; 30/100] END rfc__max_depth=11, rfc__n_estimators=451;, score=(train=0.641, test=0.491) total time=   2.4s\n",
      "[CV 1/5; 31/100] START rfc__max_depth=16, rfc__n_estimators=1...................\n",
      "[CV 1/5; 31/100] END rfc__max_depth=16, rfc__n_estimators=1;, score=(train=0.223, test=0.188) total time=   0.0s\n",
      "[CV 2/5; 31/100] START rfc__max_depth=16, rfc__n_estimators=1...................\n",
      "[CV 2/5; 31/100] END rfc__max_depth=16, rfc__n_estimators=1;, score=(train=0.238, test=0.220) total time=   0.0s\n",
      "[CV 3/5; 31/100] START rfc__max_depth=16, rfc__n_estimators=1...................\n",
      "[CV 3/5; 31/100] END rfc__max_depth=16, rfc__n_estimators=1;, score=(train=0.232, test=0.211) total time=   0.0s\n",
      "[CV 4/5; 31/100] START rfc__max_depth=16, rfc__n_estimators=1...................\n",
      "[CV 4/5; 31/100] END rfc__max_depth=16, rfc__n_estimators=1;, score=(train=0.251, test=0.231) total time=   0.0s\n",
      "[CV 5/5; 31/100] START rfc__max_depth=16, rfc__n_estimators=1...................\n",
      "[CV 5/5; 31/100] END rfc__max_depth=16, rfc__n_estimators=1;, score=(train=0.187, test=0.156) total time=   0.0s\n",
      "[CV 1/5; 32/100] START rfc__max_depth=16, rfc__n_estimators=51..................\n",
      "[CV 1/5; 32/100] END rfc__max_depth=16, rfc__n_estimators=51;, score=(train=0.666, test=0.508) total time=   0.4s\n",
      "[CV 2/5; 32/100] START rfc__max_depth=16, rfc__n_estimators=51..................\n",
      "[CV 2/5; 32/100] END rfc__max_depth=16, rfc__n_estimators=51;, score=(train=0.657, test=0.489) total time=   0.4s\n",
      "[CV 3/5; 32/100] START rfc__max_depth=16, rfc__n_estimators=51..................\n",
      "[CV 3/5; 32/100] END rfc__max_depth=16, rfc__n_estimators=51;, score=(train=0.655, test=0.499) total time=   0.4s\n",
      "[CV 4/5; 32/100] START rfc__max_depth=16, rfc__n_estimators=51..................\n",
      "[CV 4/5; 32/100] END rfc__max_depth=16, rfc__n_estimators=51;, score=(train=0.658, test=0.508) total time=   0.4s\n",
      "[CV 5/5; 32/100] START rfc__max_depth=16, rfc__n_estimators=51..................\n",
      "[CV 5/5; 32/100] END rfc__max_depth=16, rfc__n_estimators=51;, score=(train=0.663, test=0.493) total time=   0.4s\n",
      "[CV 1/5; 33/100] START rfc__max_depth=16, rfc__n_estimators=101.................\n",
      "[CV 1/5; 33/100] END rfc__max_depth=16, rfc__n_estimators=101;, score=(train=0.695, test=0.521) total time=   0.6s\n",
      "[CV 2/5; 33/100] START rfc__max_depth=16, rfc__n_estimators=101.................\n",
      "[CV 2/5; 33/100] END rfc__max_depth=16, rfc__n_estimators=101;, score=(train=0.680, test=0.520) total time=   0.6s\n",
      "[CV 3/5; 33/100] START rfc__max_depth=16, rfc__n_estimators=101.................\n",
      "[CV 3/5; 33/100] END rfc__max_depth=16, rfc__n_estimators=101;, score=(train=0.679, test=0.501) total time=   0.6s\n",
      "[CV 4/5; 33/100] START rfc__max_depth=16, rfc__n_estimators=101.................\n",
      "[CV 4/5; 33/100] END rfc__max_depth=16, rfc__n_estimators=101;, score=(train=0.690, test=0.519) total time=   0.6s\n",
      "[CV 5/5; 33/100] START rfc__max_depth=16, rfc__n_estimators=101.................\n",
      "[CV 5/5; 33/100] END rfc__max_depth=16, rfc__n_estimators=101;, score=(train=0.687, test=0.516) total time=   0.6s\n",
      "[CV 1/5; 34/100] START rfc__max_depth=16, rfc__n_estimators=151.................\n",
      "[CV 1/5; 34/100] END rfc__max_depth=16, rfc__n_estimators=151;, score=(train=0.707, test=0.529) total time=   0.9s\n",
      "[CV 2/5; 34/100] START rfc__max_depth=16, rfc__n_estimators=151.................\n",
      "[CV 2/5; 34/100] END rfc__max_depth=16, rfc__n_estimators=151;, score=(train=0.694, test=0.522) total time=   0.9s\n",
      "[CV 3/5; 34/100] START rfc__max_depth=16, rfc__n_estimators=151.................\n",
      "[CV 3/5; 34/100] END rfc__max_depth=16, rfc__n_estimators=151;, score=(train=0.692, test=0.508) total time=   0.9s\n",
      "[CV 4/5; 34/100] START rfc__max_depth=16, rfc__n_estimators=151.................\n",
      "[CV 4/5; 34/100] END rfc__max_depth=16, rfc__n_estimators=151;, score=(train=0.698, test=0.524) total time=   0.9s\n",
      "[CV 5/5; 34/100] START rfc__max_depth=16, rfc__n_estimators=151.................\n",
      "[CV 5/5; 34/100] END rfc__max_depth=16, rfc__n_estimators=151;, score=(train=0.700, test=0.522) total time=   0.9s\n",
      "[CV 1/5; 35/100] START rfc__max_depth=16, rfc__n_estimators=201.................\n",
      "[CV 1/5; 35/100] END rfc__max_depth=16, rfc__n_estimators=201;, score=(train=0.713, test=0.530) total time=   1.1s\n",
      "[CV 2/5; 35/100] START rfc__max_depth=16, rfc__n_estimators=201.................\n",
      "[CV 2/5; 35/100] END rfc__max_depth=16, rfc__n_estimators=201;, score=(train=0.700, test=0.521) total time=   1.1s\n",
      "[CV 3/5; 35/100] START rfc__max_depth=16, rfc__n_estimators=201.................\n",
      "[CV 3/5; 35/100] END rfc__max_depth=16, rfc__n_estimators=201;, score=(train=0.693, test=0.520) total time=   1.1s\n",
      "[CV 4/5; 35/100] START rfc__max_depth=16, rfc__n_estimators=201.................\n",
      "[CV 4/5; 35/100] END rfc__max_depth=16, rfc__n_estimators=201;, score=(train=0.700, test=0.525) total time=   1.1s\n",
      "[CV 5/5; 35/100] START rfc__max_depth=16, rfc__n_estimators=201.................\n",
      "[CV 5/5; 35/100] END rfc__max_depth=16, rfc__n_estimators=201;, score=(train=0.702, test=0.525) total time=   1.1s\n",
      "[CV 1/5; 36/100] START rfc__max_depth=16, rfc__n_estimators=251.................\n",
      "[CV 1/5; 36/100] END rfc__max_depth=16, rfc__n_estimators=251;, score=(train=0.716, test=0.529) total time=   1.4s\n",
      "[CV 2/5; 36/100] START rfc__max_depth=16, rfc__n_estimators=251.................\n",
      "[CV 2/5; 36/100] END rfc__max_depth=16, rfc__n_estimators=251;, score=(train=0.705, test=0.523) total time=   1.3s\n",
      "[CV 3/5; 36/100] START rfc__max_depth=16, rfc__n_estimators=251.................\n",
      "[CV 3/5; 36/100] END rfc__max_depth=16, rfc__n_estimators=251;, score=(train=0.697, test=0.522) total time=   1.3s\n",
      "[CV 4/5; 36/100] START rfc__max_depth=16, rfc__n_estimators=251.................\n",
      "[CV 4/5; 36/100] END rfc__max_depth=16, rfc__n_estimators=251;, score=(train=0.708, test=0.523) total time=   1.3s\n",
      "[CV 5/5; 36/100] START rfc__max_depth=16, rfc__n_estimators=251.................\n",
      "[CV 5/5; 36/100] END rfc__max_depth=16, rfc__n_estimators=251;, score=(train=0.706, test=0.524) total time=   1.3s\n",
      "[CV 1/5; 37/100] START rfc__max_depth=16, rfc__n_estimators=301.................\n",
      "[CV 1/5; 37/100] END rfc__max_depth=16, rfc__n_estimators=301;, score=(train=0.717, test=0.536) total time=   1.5s\n",
      "[CV 2/5; 37/100] START rfc__max_depth=16, rfc__n_estimators=301.................\n",
      "[CV 2/5; 37/100] END rfc__max_depth=16, rfc__n_estimators=301;, score=(train=0.707, test=0.532) total time=   1.5s\n",
      "[CV 3/5; 37/100] START rfc__max_depth=16, rfc__n_estimators=301.................\n",
      "[CV 3/5; 37/100] END rfc__max_depth=16, rfc__n_estimators=301;, score=(train=0.701, test=0.532) total time=   1.5s\n",
      "[CV 4/5; 37/100] START rfc__max_depth=16, rfc__n_estimators=301.................\n",
      "[CV 4/5; 37/100] END rfc__max_depth=16, rfc__n_estimators=301;, score=(train=0.709, test=0.526) total time=   1.5s\n",
      "[CV 5/5; 37/100] START rfc__max_depth=16, rfc__n_estimators=301.................\n",
      "[CV 5/5; 37/100] END rfc__max_depth=16, rfc__n_estimators=301;, score=(train=0.710, test=0.535) total time=   1.5s\n",
      "[CV 1/5; 38/100] START rfc__max_depth=16, rfc__n_estimators=351.................\n",
      "[CV 1/5; 38/100] END rfc__max_depth=16, rfc__n_estimators=351;, score=(train=0.717, test=0.540) total time=   1.8s\n",
      "[CV 2/5; 38/100] START rfc__max_depth=16, rfc__n_estimators=351.................\n",
      "[CV 2/5; 38/100] END rfc__max_depth=16, rfc__n_estimators=351;, score=(train=0.712, test=0.528) total time=   1.7s\n",
      "[CV 3/5; 38/100] START rfc__max_depth=16, rfc__n_estimators=351.................\n",
      "[CV 3/5; 38/100] END rfc__max_depth=16, rfc__n_estimators=351;, score=(train=0.707, test=0.537) total time=   1.7s\n",
      "[CV 4/5; 38/100] START rfc__max_depth=16, rfc__n_estimators=351.................\n",
      "[CV 4/5; 38/100] END rfc__max_depth=16, rfc__n_estimators=351;, score=(train=0.712, test=0.534) total time=   1.7s\n",
      "[CV 5/5; 38/100] START rfc__max_depth=16, rfc__n_estimators=351.................\n",
      "[CV 5/5; 38/100] END rfc__max_depth=16, rfc__n_estimators=351;, score=(train=0.711, test=0.535) total time=   1.8s\n",
      "[CV 1/5; 39/100] START rfc__max_depth=16, rfc__n_estimators=401.................\n",
      "[CV 1/5; 39/100] END rfc__max_depth=16, rfc__n_estimators=401;, score=(train=0.718, test=0.538) total time=   1.8s\n",
      "[CV 2/5; 39/100] START rfc__max_depth=16, rfc__n_estimators=401.................\n",
      "[CV 2/5; 39/100] END rfc__max_depth=16, rfc__n_estimators=401;, score=(train=0.709, test=0.531) total time=   1.9s\n",
      "[CV 3/5; 39/100] START rfc__max_depth=16, rfc__n_estimators=401.................\n",
      "[CV 3/5; 39/100] END rfc__max_depth=16, rfc__n_estimators=401;, score=(train=0.707, test=0.535) total time=   1.9s\n",
      "[CV 4/5; 39/100] START rfc__max_depth=16, rfc__n_estimators=401.................\n",
      "[CV 4/5; 39/100] END rfc__max_depth=16, rfc__n_estimators=401;, score=(train=0.714, test=0.537) total time=   2.0s\n",
      "[CV 5/5; 39/100] START rfc__max_depth=16, rfc__n_estimators=401.................\n",
      "[CV 5/5; 39/100] END rfc__max_depth=16, rfc__n_estimators=401;, score=(train=0.716, test=0.529) total time=   2.0s\n",
      "[CV 1/5; 40/100] START rfc__max_depth=16, rfc__n_estimators=451.................\n",
      "[CV 1/5; 40/100] END rfc__max_depth=16, rfc__n_estimators=451;, score=(train=0.718, test=0.536) total time=   2.1s\n",
      "[CV 2/5; 40/100] START rfc__max_depth=16, rfc__n_estimators=451.................\n",
      "[CV 2/5; 40/100] END rfc__max_depth=16, rfc__n_estimators=451;, score=(train=0.710, test=0.530) total time=   2.2s\n",
      "[CV 3/5; 40/100] START rfc__max_depth=16, rfc__n_estimators=451.................\n",
      "[CV 3/5; 40/100] END rfc__max_depth=16, rfc__n_estimators=451;, score=(train=0.707, test=0.541) total time=   2.1s\n",
      "[CV 4/5; 40/100] START rfc__max_depth=16, rfc__n_estimators=451.................\n",
      "[CV 4/5; 40/100] END rfc__max_depth=16, rfc__n_estimators=451;, score=(train=0.715, test=0.539) total time=   2.1s\n",
      "[CV 5/5; 40/100] START rfc__max_depth=16, rfc__n_estimators=451.................\n",
      "[CV 5/5; 40/100] END rfc__max_depth=16, rfc__n_estimators=451;, score=(train=0.716, test=0.529) total time=   2.1s\n",
      "[CV 1/5; 41/100] START rfc__max_depth=21, rfc__n_estimators=1...................\n",
      "[CV 1/5; 41/100] END rfc__max_depth=21, rfc__n_estimators=1;, score=(train=0.278, test=0.235) total time=   0.0s\n",
      "[CV 2/5; 41/100] START rfc__max_depth=21, rfc__n_estimators=1...................\n",
      "[CV 2/5; 41/100] END rfc__max_depth=21, rfc__n_estimators=1;, score=(train=0.266, test=0.217) total time=   0.0s\n",
      "[CV 3/5; 41/100] START rfc__max_depth=21, rfc__n_estimators=1...................\n",
      "[CV 3/5; 41/100] END rfc__max_depth=21, rfc__n_estimators=1;, score=(train=0.256, test=0.206) total time=   0.0s\n",
      "[CV 4/5; 41/100] START rfc__max_depth=21, rfc__n_estimators=1...................\n",
      "[CV 4/5; 41/100] END rfc__max_depth=21, rfc__n_estimators=1;, score=(train=0.292, test=0.255) total time=   0.0s\n",
      "[CV 5/5; 41/100] START rfc__max_depth=21, rfc__n_estimators=1...................\n",
      "[CV 5/5; 41/100] END rfc__max_depth=21, rfc__n_estimators=1;, score=(train=0.239, test=0.200) total time=   0.0s\n",
      "[CV 1/5; 42/100] START rfc__max_depth=21, rfc__n_estimators=51..................\n",
      "[CV 1/5; 42/100] END rfc__max_depth=21, rfc__n_estimators=51;, score=(train=0.724, test=0.537) total time=   0.3s\n",
      "[CV 2/5; 42/100] START rfc__max_depth=21, rfc__n_estimators=51..................\n",
      "[CV 2/5; 42/100] END rfc__max_depth=21, rfc__n_estimators=51;, score=(train=0.721, test=0.525) total time=   0.4s\n",
      "[CV 3/5; 42/100] START rfc__max_depth=21, rfc__n_estimators=51..................\n",
      "[CV 3/5; 42/100] END rfc__max_depth=21, rfc__n_estimators=51;, score=(train=0.722, test=0.531) total time=   0.4s\n",
      "[CV 4/5; 42/100] START rfc__max_depth=21, rfc__n_estimators=51..................\n",
      "[CV 4/5; 42/100] END rfc__max_depth=21, rfc__n_estimators=51;, score=(train=0.717, test=0.538) total time=   0.4s\n",
      "[CV 5/5; 42/100] START rfc__max_depth=21, rfc__n_estimators=51..................\n",
      "[CV 5/5; 42/100] END rfc__max_depth=21, rfc__n_estimators=51;, score=(train=0.721, test=0.527) total time=   0.4s\n",
      "[CV 1/5; 43/100] START rfc__max_depth=21, rfc__n_estimators=101.................\n",
      "[CV 1/5; 43/100] END rfc__max_depth=21, rfc__n_estimators=101;, score=(train=0.752, test=0.553) total time=   0.7s\n",
      "[CV 2/5; 43/100] START rfc__max_depth=21, rfc__n_estimators=101.................\n",
      "[CV 2/5; 43/100] END rfc__max_depth=21, rfc__n_estimators=101;, score=(train=0.744, test=0.549) total time=   0.7s\n",
      "[CV 3/5; 43/100] START rfc__max_depth=21, rfc__n_estimators=101.................\n",
      "[CV 3/5; 43/100] END rfc__max_depth=21, rfc__n_estimators=101;, score=(train=0.743, test=0.547) total time=   0.7s\n",
      "[CV 4/5; 43/100] START rfc__max_depth=21, rfc__n_estimators=101.................\n",
      "[CV 4/5; 43/100] END rfc__max_depth=21, rfc__n_estimators=101;, score=(train=0.746, test=0.551) total time=   0.7s\n",
      "[CV 5/5; 43/100] START rfc__max_depth=21, rfc__n_estimators=101.................\n",
      "[CV 5/5; 43/100] END rfc__max_depth=21, rfc__n_estimators=101;, score=(train=0.741, test=0.546) total time=   0.7s\n",
      "[CV 1/5; 44/100] START rfc__max_depth=21, rfc__n_estimators=151.................\n",
      "[CV 1/5; 44/100] END rfc__max_depth=21, rfc__n_estimators=151;, score=(train=0.759, test=0.557) total time=   1.1s\n",
      "[CV 2/5; 44/100] START rfc__max_depth=21, rfc__n_estimators=151.................\n",
      "[CV 2/5; 44/100] END rfc__max_depth=21, rfc__n_estimators=151;, score=(train=0.752, test=0.559) total time=   1.1s\n",
      "[CV 3/5; 44/100] START rfc__max_depth=21, rfc__n_estimators=151.................\n",
      "[CV 3/5; 44/100] END rfc__max_depth=21, rfc__n_estimators=151;, score=(train=0.755, test=0.555) total time=   1.1s\n",
      "[CV 4/5; 44/100] START rfc__max_depth=21, rfc__n_estimators=151.................\n",
      "[CV 4/5; 44/100] END rfc__max_depth=21, rfc__n_estimators=151;, score=(train=0.753, test=0.553) total time=   1.0s\n",
      "[CV 5/5; 44/100] START rfc__max_depth=21, rfc__n_estimators=151.................\n",
      "[CV 5/5; 44/100] END rfc__max_depth=21, rfc__n_estimators=151;, score=(train=0.752, test=0.554) total time=   1.1s\n",
      "[CV 1/5; 45/100] START rfc__max_depth=21, rfc__n_estimators=201.................\n",
      "[CV 1/5; 45/100] END rfc__max_depth=21, rfc__n_estimators=201;, score=(train=0.763, test=0.559) total time=   1.3s\n",
      "[CV 2/5; 45/100] START rfc__max_depth=21, rfc__n_estimators=201.................\n",
      "[CV 2/5; 45/100] END rfc__max_depth=21, rfc__n_estimators=201;, score=(train=0.754, test=0.562) total time=   1.3s\n",
      "[CV 3/5; 45/100] START rfc__max_depth=21, rfc__n_estimators=201.................\n",
      "[CV 3/5; 45/100] END rfc__max_depth=21, rfc__n_estimators=201;, score=(train=0.758, test=0.549) total time=   1.3s\n",
      "[CV 4/5; 45/100] START rfc__max_depth=21, rfc__n_estimators=201.................\n",
      "[CV 4/5; 45/100] END rfc__max_depth=21, rfc__n_estimators=201;, score=(train=0.759, test=0.557) total time=   1.3s\n",
      "[CV 5/5; 45/100] START rfc__max_depth=21, rfc__n_estimators=201.................\n",
      "[CV 5/5; 45/100] END rfc__max_depth=21, rfc__n_estimators=201;, score=(train=0.753, test=0.550) total time=   1.3s\n",
      "[CV 1/5; 46/100] START rfc__max_depth=21, rfc__n_estimators=251.................\n",
      "[CV 1/5; 46/100] END rfc__max_depth=21, rfc__n_estimators=251;, score=(train=0.763, test=0.562) total time=   1.6s\n",
      "[CV 2/5; 46/100] START rfc__max_depth=21, rfc__n_estimators=251.................\n",
      "[CV 2/5; 46/100] END rfc__max_depth=21, rfc__n_estimators=251;, score=(train=0.757, test=0.563) total time=   1.6s\n",
      "[CV 3/5; 46/100] START rfc__max_depth=21, rfc__n_estimators=251.................\n",
      "[CV 3/5; 46/100] END rfc__max_depth=21, rfc__n_estimators=251;, score=(train=0.759, test=0.554) total time=   1.7s\n",
      "[CV 4/5; 46/100] START rfc__max_depth=21, rfc__n_estimators=251.................\n",
      "[CV 4/5; 46/100] END rfc__max_depth=21, rfc__n_estimators=251;, score=(train=0.763, test=0.554) total time=   1.6s\n",
      "[CV 5/5; 46/100] START rfc__max_depth=21, rfc__n_estimators=251.................\n",
      "[CV 5/5; 46/100] END rfc__max_depth=21, rfc__n_estimators=251;, score=(train=0.759, test=0.554) total time=   1.6s\n",
      "[CV 1/5; 47/100] START rfc__max_depth=21, rfc__n_estimators=301.................\n",
      "[CV 1/5; 47/100] END rfc__max_depth=21, rfc__n_estimators=301;, score=(train=0.769, test=0.570) total time=   1.9s\n",
      "[CV 2/5; 47/100] START rfc__max_depth=21, rfc__n_estimators=301.................\n",
      "[CV 2/5; 47/100] END rfc__max_depth=21, rfc__n_estimators=301;, score=(train=0.760, test=0.563) total time=   1.9s\n",
      "[CV 3/5; 47/100] START rfc__max_depth=21, rfc__n_estimators=301.................\n",
      "[CV 3/5; 47/100] END rfc__max_depth=21, rfc__n_estimators=301;, score=(train=0.759, test=0.552) total time=   1.9s\n",
      "[CV 4/5; 47/100] START rfc__max_depth=21, rfc__n_estimators=301.................\n",
      "[CV 4/5; 47/100] END rfc__max_depth=21, rfc__n_estimators=301;, score=(train=0.761, test=0.557) total time=   1.8s\n",
      "[CV 5/5; 47/100] START rfc__max_depth=21, rfc__n_estimators=301.................\n",
      "[CV 5/5; 47/100] END rfc__max_depth=21, rfc__n_estimators=301;, score=(train=0.762, test=0.558) total time=   1.9s\n",
      "[CV 1/5; 48/100] START rfc__max_depth=21, rfc__n_estimators=351.................\n",
      "[CV 1/5; 48/100] END rfc__max_depth=21, rfc__n_estimators=351;, score=(train=0.770, test=0.578) total time=   2.2s\n",
      "[CV 2/5; 48/100] START rfc__max_depth=21, rfc__n_estimators=351.................\n",
      "[CV 2/5; 48/100] END rfc__max_depth=21, rfc__n_estimators=351;, score=(train=0.761, test=0.563) total time=   2.1s\n",
      "[CV 3/5; 48/100] START rfc__max_depth=21, rfc__n_estimators=351.................\n",
      "[CV 3/5; 48/100] END rfc__max_depth=21, rfc__n_estimators=351;, score=(train=0.761, test=0.561) total time=   2.1s\n",
      "[CV 4/5; 48/100] START rfc__max_depth=21, rfc__n_estimators=351.................\n",
      "[CV 4/5; 48/100] END rfc__max_depth=21, rfc__n_estimators=351;, score=(train=0.766, test=0.563) total time=   2.1s\n",
      "[CV 5/5; 48/100] START rfc__max_depth=21, rfc__n_estimators=351.................\n",
      "[CV 5/5; 48/100] END rfc__max_depth=21, rfc__n_estimators=351;, score=(train=0.764, test=0.558) total time=   2.2s\n",
      "[CV 1/5; 49/100] START rfc__max_depth=21, rfc__n_estimators=401.................\n",
      "[CV 1/5; 49/100] END rfc__max_depth=21, rfc__n_estimators=401;, score=(train=0.769, test=0.570) total time=   2.4s\n",
      "[CV 2/5; 49/100] START rfc__max_depth=21, rfc__n_estimators=401.................\n",
      "[CV 2/5; 49/100] END rfc__max_depth=21, rfc__n_estimators=401;, score=(train=0.759, test=0.566) total time=   2.4s\n",
      "[CV 3/5; 49/100] START rfc__max_depth=21, rfc__n_estimators=401.................\n",
      "[CV 3/5; 49/100] END rfc__max_depth=21, rfc__n_estimators=401;, score=(train=0.762, test=0.557) total time=   2.4s\n",
      "[CV 4/5; 49/100] START rfc__max_depth=21, rfc__n_estimators=401.................\n",
      "[CV 4/5; 49/100] END rfc__max_depth=21, rfc__n_estimators=401;, score=(train=0.765, test=0.568) total time=   2.3s\n",
      "[CV 5/5; 49/100] START rfc__max_depth=21, rfc__n_estimators=401.................\n",
      "[CV 5/5; 49/100] END rfc__max_depth=21, rfc__n_estimators=401;, score=(train=0.764, test=0.555) total time=   2.4s\n",
      "[CV 1/5; 50/100] START rfc__max_depth=21, rfc__n_estimators=451.................\n",
      "[CV 1/5; 50/100] END rfc__max_depth=21, rfc__n_estimators=451;, score=(train=0.770, test=0.573) total time=   2.7s\n",
      "[CV 2/5; 50/100] START rfc__max_depth=21, rfc__n_estimators=451.................\n",
      "[CV 2/5; 50/100] END rfc__max_depth=21, rfc__n_estimators=451;, score=(train=0.761, test=0.563) total time=   2.7s\n",
      "[CV 3/5; 50/100] START rfc__max_depth=21, rfc__n_estimators=451.................\n",
      "[CV 3/5; 50/100] END rfc__max_depth=21, rfc__n_estimators=451;, score=(train=0.761, test=0.559) total time=   2.6s\n",
      "[CV 4/5; 50/100] START rfc__max_depth=21, rfc__n_estimators=451.................\n",
      "[CV 4/5; 50/100] END rfc__max_depth=21, rfc__n_estimators=451;, score=(train=0.766, test=0.563) total time=   2.6s\n",
      "[CV 5/5; 50/100] START rfc__max_depth=21, rfc__n_estimators=451.................\n",
      "[CV 5/5; 50/100] END rfc__max_depth=21, rfc__n_estimators=451;, score=(train=0.765, test=0.555) total time=   2.6s\n",
      "[CV 1/5; 51/100] START rfc__max_depth=26, rfc__n_estimators=1...................\n",
      "[CV 1/5; 51/100] END rfc__max_depth=26, rfc__n_estimators=1;, score=(train=0.320, test=0.245) total time=   0.0s\n",
      "[CV 2/5; 51/100] START rfc__max_depth=26, rfc__n_estimators=1...................\n",
      "[CV 2/5; 51/100] END rfc__max_depth=26, rfc__n_estimators=1;, score=(train=0.291, test=0.247) total time=   0.0s\n",
      "[CV 3/5; 51/100] START rfc__max_depth=26, rfc__n_estimators=1...................\n",
      "[CV 3/5; 51/100] END rfc__max_depth=26, rfc__n_estimators=1;, score=(train=0.297, test=0.242) total time=   0.0s\n",
      "[CV 4/5; 51/100] START rfc__max_depth=26, rfc__n_estimators=1...................\n",
      "[CV 4/5; 51/100] END rfc__max_depth=26, rfc__n_estimators=1;, score=(train=0.332, test=0.274) total time=   0.0s\n",
      "[CV 5/5; 51/100] START rfc__max_depth=26, rfc__n_estimators=1...................\n",
      "[CV 5/5; 51/100] END rfc__max_depth=26, rfc__n_estimators=1;, score=(train=0.274, test=0.212) total time=   0.0s\n",
      "[CV 1/5; 52/100] START rfc__max_depth=26, rfc__n_estimators=51..................\n",
      "[CV 1/5; 52/100] END rfc__max_depth=26, rfc__n_estimators=51;, score=(train=0.776, test=0.564) total time=   0.4s\n",
      "[CV 2/5; 52/100] START rfc__max_depth=26, rfc__n_estimators=51..................\n",
      "[CV 2/5; 52/100] END rfc__max_depth=26, rfc__n_estimators=51;, score=(train=0.759, test=0.557) total time=   0.4s\n",
      "[CV 3/5; 52/100] START rfc__max_depth=26, rfc__n_estimators=51..................\n",
      "[CV 3/5; 52/100] END rfc__max_depth=26, rfc__n_estimators=51;, score=(train=0.772, test=0.565) total time=   0.4s\n",
      "[CV 4/5; 52/100] START rfc__max_depth=26, rfc__n_estimators=51..................\n",
      "[CV 4/5; 52/100] END rfc__max_depth=26, rfc__n_estimators=51;, score=(train=0.766, test=0.554) total time=   0.4s\n",
      "[CV 5/5; 52/100] START rfc__max_depth=26, rfc__n_estimators=51..................\n",
      "[CV 5/5; 52/100] END rfc__max_depth=26, rfc__n_estimators=51;, score=(train=0.758, test=0.550) total time=   0.4s\n",
      "[CV 1/5; 53/100] START rfc__max_depth=26, rfc__n_estimators=101.................\n",
      "[CV 1/5; 53/100] END rfc__max_depth=26, rfc__n_estimators=101;, score=(train=0.794, test=0.585) total time=   0.8s\n",
      "[CV 2/5; 53/100] START rfc__max_depth=26, rfc__n_estimators=101.................\n",
      "[CV 2/5; 53/100] END rfc__max_depth=26, rfc__n_estimators=101;, score=(train=0.785, test=0.581) total time=   0.8s\n",
      "[CV 3/5; 53/100] START rfc__max_depth=26, rfc__n_estimators=101.................\n",
      "[CV 3/5; 53/100] END rfc__max_depth=26, rfc__n_estimators=101;, score=(train=0.787, test=0.571) total time=   0.8s\n",
      "[CV 4/5; 53/100] START rfc__max_depth=26, rfc__n_estimators=101.................\n",
      "[CV 4/5; 53/100] END rfc__max_depth=26, rfc__n_estimators=101;, score=(train=0.786, test=0.575) total time=   0.8s\n",
      "[CV 5/5; 53/100] START rfc__max_depth=26, rfc__n_estimators=101.................\n",
      "[CV 5/5; 53/100] END rfc__max_depth=26, rfc__n_estimators=101;, score=(train=0.780, test=0.565) total time=   0.8s\n",
      "[CV 1/5; 54/100] START rfc__max_depth=26, rfc__n_estimators=151.................\n",
      "[CV 1/5; 54/100] END rfc__max_depth=26, rfc__n_estimators=151;, score=(train=0.802, test=0.590) total time=   1.2s\n",
      "[CV 2/5; 54/100] START rfc__max_depth=26, rfc__n_estimators=151.................\n",
      "[CV 2/5; 54/100] END rfc__max_depth=26, rfc__n_estimators=151;, score=(train=0.791, test=0.585) total time=   1.1s\n",
      "[CV 3/5; 54/100] START rfc__max_depth=26, rfc__n_estimators=151.................\n",
      "[CV 3/5; 54/100] END rfc__max_depth=26, rfc__n_estimators=151;, score=(train=0.794, test=0.583) total time=   1.1s\n",
      "[CV 4/5; 54/100] START rfc__max_depth=26, rfc__n_estimators=151.................\n",
      "[CV 4/5; 54/100] END rfc__max_depth=26, rfc__n_estimators=151;, score=(train=0.793, test=0.580) total time=   1.1s\n",
      "[CV 5/5; 54/100] START rfc__max_depth=26, rfc__n_estimators=151.................\n",
      "[CV 5/5; 54/100] END rfc__max_depth=26, rfc__n_estimators=151;, score=(train=0.785, test=0.566) total time=   1.2s\n",
      "[CV 1/5; 55/100] START rfc__max_depth=26, rfc__n_estimators=201.................\n",
      "[CV 1/5; 55/100] END rfc__max_depth=26, rfc__n_estimators=201;, score=(train=0.801, test=0.592) total time=   1.5s\n",
      "[CV 2/5; 55/100] START rfc__max_depth=26, rfc__n_estimators=201.................\n",
      "[CV 2/5; 55/100] END rfc__max_depth=26, rfc__n_estimators=201;, score=(train=0.796, test=0.595) total time=   1.5s\n",
      "[CV 3/5; 55/100] START rfc__max_depth=26, rfc__n_estimators=201.................\n",
      "[CV 3/5; 55/100] END rfc__max_depth=26, rfc__n_estimators=201;, score=(train=0.799, test=0.584) total time=   1.5s\n",
      "[CV 4/5; 55/100] START rfc__max_depth=26, rfc__n_estimators=201.................\n",
      "[CV 4/5; 55/100] END rfc__max_depth=26, rfc__n_estimators=201;, score=(train=0.795, test=0.585) total time=   1.4s\n",
      "[CV 5/5; 55/100] START rfc__max_depth=26, rfc__n_estimators=201.................\n",
      "[CV 5/5; 55/100] END rfc__max_depth=26, rfc__n_estimators=201;, score=(train=0.790, test=0.578) total time=   1.5s\n",
      "[CV 1/5; 56/100] START rfc__max_depth=26, rfc__n_estimators=251.................\n",
      "[CV 1/5; 56/100] END rfc__max_depth=26, rfc__n_estimators=251;, score=(train=0.803, test=0.594) total time=   1.8s\n",
      "[CV 2/5; 56/100] START rfc__max_depth=26, rfc__n_estimators=251.................\n",
      "[CV 2/5; 56/100] END rfc__max_depth=26, rfc__n_estimators=251;, score=(train=0.797, test=0.589) total time=   1.8s\n",
      "[CV 3/5; 56/100] START rfc__max_depth=26, rfc__n_estimators=251.................\n",
      "[CV 3/5; 56/100] END rfc__max_depth=26, rfc__n_estimators=251;, score=(train=0.801, test=0.585) total time=   1.8s\n",
      "[CV 4/5; 56/100] START rfc__max_depth=26, rfc__n_estimators=251.................\n",
      "[CV 4/5; 56/100] END rfc__max_depth=26, rfc__n_estimators=251;, score=(train=0.795, test=0.587) total time=   1.8s\n",
      "[CV 5/5; 56/100] START rfc__max_depth=26, rfc__n_estimators=251.................\n",
      "[CV 5/5; 56/100] END rfc__max_depth=26, rfc__n_estimators=251;, score=(train=0.792, test=0.573) total time=   1.9s\n",
      "[CV 1/5; 57/100] START rfc__max_depth=26, rfc__n_estimators=301.................\n",
      "[CV 1/5; 57/100] END rfc__max_depth=26, rfc__n_estimators=301;, score=(train=0.806, test=0.595) total time=   2.1s\n",
      "[CV 2/5; 57/100] START rfc__max_depth=26, rfc__n_estimators=301.................\n",
      "[CV 2/5; 57/100] END rfc__max_depth=26, rfc__n_estimators=301;, score=(train=0.797, test=0.589) total time=   2.2s\n",
      "[CV 3/5; 57/100] START rfc__max_depth=26, rfc__n_estimators=301.................\n",
      "[CV 3/5; 57/100] END rfc__max_depth=26, rfc__n_estimators=301;, score=(train=0.801, test=0.590) total time=   2.1s\n",
      "[CV 4/5; 57/100] START rfc__max_depth=26, rfc__n_estimators=301.................\n",
      "[CV 4/5; 57/100] END rfc__max_depth=26, rfc__n_estimators=301;, score=(train=0.801, test=0.588) total time=   2.2s\n",
      "[CV 5/5; 57/100] START rfc__max_depth=26, rfc__n_estimators=301.................\n",
      "[CV 5/5; 57/100] END rfc__max_depth=26, rfc__n_estimators=301;, score=(train=0.797, test=0.573) total time=   2.2s\n",
      "[CV 1/5; 58/100] START rfc__max_depth=26, rfc__n_estimators=351.................\n",
      "[CV 1/5; 58/100] END rfc__max_depth=26, rfc__n_estimators=351;, score=(train=0.809, test=0.604) total time=   2.5s\n",
      "[CV 2/5; 58/100] START rfc__max_depth=26, rfc__n_estimators=351.................\n",
      "[CV 2/5; 58/100] END rfc__max_depth=26, rfc__n_estimators=351;, score=(train=0.800, test=0.593) total time=   2.6s\n",
      "[CV 3/5; 58/100] START rfc__max_depth=26, rfc__n_estimators=351.................\n",
      "[CV 3/5; 58/100] END rfc__max_depth=26, rfc__n_estimators=351;, score=(train=0.803, test=0.590) total time=   2.5s\n",
      "[CV 4/5; 58/100] START rfc__max_depth=26, rfc__n_estimators=351.................\n",
      "[CV 4/5; 58/100] END rfc__max_depth=26, rfc__n_estimators=351;, score=(train=0.804, test=0.591) total time=   2.5s\n",
      "[CV 5/5; 58/100] START rfc__max_depth=26, rfc__n_estimators=351.................\n",
      "[CV 5/5; 58/100] END rfc__max_depth=26, rfc__n_estimators=351;, score=(train=0.798, test=0.579) total time=   2.5s\n",
      "[CV 1/5; 59/100] START rfc__max_depth=26, rfc__n_estimators=401.................\n",
      "[CV 1/5; 59/100] END rfc__max_depth=26, rfc__n_estimators=401;, score=(train=0.809, test=0.602) total time=   2.9s\n",
      "[CV 2/5; 59/100] START rfc__max_depth=26, rfc__n_estimators=401.................\n",
      "[CV 2/5; 59/100] END rfc__max_depth=26, rfc__n_estimators=401;, score=(train=0.801, test=0.593) total time=   2.9s\n",
      "[CV 3/5; 59/100] START rfc__max_depth=26, rfc__n_estimators=401.................\n",
      "[CV 3/5; 59/100] END rfc__max_depth=26, rfc__n_estimators=401;, score=(train=0.802, test=0.586) total time=   2.8s\n",
      "[CV 4/5; 59/100] START rfc__max_depth=26, rfc__n_estimators=401.................\n",
      "[CV 4/5; 59/100] END rfc__max_depth=26, rfc__n_estimators=401;, score=(train=0.804, test=0.590) total time=   2.8s\n",
      "[CV 5/5; 59/100] START rfc__max_depth=26, rfc__n_estimators=401.................\n",
      "[CV 5/5; 59/100] END rfc__max_depth=26, rfc__n_estimators=401;, score=(train=0.799, test=0.572) total time=   2.9s\n",
      "[CV 1/5; 60/100] START rfc__max_depth=26, rfc__n_estimators=451.................\n",
      "[CV 1/5; 60/100] END rfc__max_depth=26, rfc__n_estimators=451;, score=(train=0.808, test=0.603) total time=   3.2s\n",
      "[CV 2/5; 60/100] START rfc__max_depth=26, rfc__n_estimators=451.................\n",
      "[CV 2/5; 60/100] END rfc__max_depth=26, rfc__n_estimators=451;, score=(train=0.801, test=0.598) total time=   3.3s\n",
      "[CV 3/5; 60/100] START rfc__max_depth=26, rfc__n_estimators=451.................\n",
      "[CV 3/5; 60/100] END rfc__max_depth=26, rfc__n_estimators=451;, score=(train=0.802, test=0.593) total time=   3.2s\n",
      "[CV 4/5; 60/100] START rfc__max_depth=26, rfc__n_estimators=451.................\n",
      "[CV 4/5; 60/100] END rfc__max_depth=26, rfc__n_estimators=451;, score=(train=0.808, test=0.591) total time=   3.2s\n",
      "[CV 5/5; 60/100] START rfc__max_depth=26, rfc__n_estimators=451.................\n",
      "[CV 5/5; 60/100] END rfc__max_depth=26, rfc__n_estimators=451;, score=(train=0.802, test=0.578) total time=   3.2s\n",
      "[CV 1/5; 61/100] START rfc__max_depth=31, rfc__n_estimators=1...................\n",
      "[CV 1/5; 61/100] END rfc__max_depth=31, rfc__n_estimators=1;, score=(train=0.356, test=0.277) total time=   0.0s\n",
      "[CV 2/5; 61/100] START rfc__max_depth=31, rfc__n_estimators=1...................\n",
      "[CV 2/5; 61/100] END rfc__max_depth=31, rfc__n_estimators=1;, score=(train=0.333, test=0.266) total time=   0.0s\n",
      "[CV 3/5; 61/100] START rfc__max_depth=31, rfc__n_estimators=1...................\n",
      "[CV 3/5; 61/100] END rfc__max_depth=31, rfc__n_estimators=1;, score=(train=0.334, test=0.260) total time=   0.0s\n",
      "[CV 4/5; 61/100] START rfc__max_depth=31, rfc__n_estimators=1...................\n",
      "[CV 4/5; 61/100] END rfc__max_depth=31, rfc__n_estimators=1;, score=(train=0.361, test=0.297) total time=   0.0s\n",
      "[CV 5/5; 61/100] START rfc__max_depth=31, rfc__n_estimators=1...................\n",
      "[CV 5/5; 61/100] END rfc__max_depth=31, rfc__n_estimators=1;, score=(train=0.335, test=0.288) total time=   0.0s\n",
      "[CV 1/5; 62/100] START rfc__max_depth=31, rfc__n_estimators=51..................\n",
      "[CV 1/5; 62/100] END rfc__max_depth=31, rfc__n_estimators=51;, score=(train=0.818, test=0.584) total time=   0.4s\n",
      "[CV 2/5; 62/100] START rfc__max_depth=31, rfc__n_estimators=51..................\n",
      "[CV 2/5; 62/100] END rfc__max_depth=31, rfc__n_estimators=51;, score=(train=0.802, test=0.590) total time=   0.5s\n",
      "[CV 3/5; 62/100] START rfc__max_depth=31, rfc__n_estimators=51..................\n",
      "[CV 3/5; 62/100] END rfc__max_depth=31, rfc__n_estimators=51;, score=(train=0.807, test=0.580) total time=   0.5s\n",
      "[CV 4/5; 62/100] START rfc__max_depth=31, rfc__n_estimators=51..................\n",
      "[CV 4/5; 62/100] END rfc__max_depth=31, rfc__n_estimators=51;, score=(train=0.801, test=0.585) total time=   0.5s\n",
      "[CV 5/5; 62/100] START rfc__max_depth=31, rfc__n_estimators=51..................\n",
      "[CV 5/5; 62/100] END rfc__max_depth=31, rfc__n_estimators=51;, score=(train=0.802, test=0.576) total time=   0.5s\n",
      "[CV 1/5; 63/100] START rfc__max_depth=31, rfc__n_estimators=101.................\n",
      "[CV 1/5; 63/100] END rfc__max_depth=31, rfc__n_estimators=101;, score=(train=0.827, test=0.602) total time=   0.9s\n",
      "[CV 2/5; 63/100] START rfc__max_depth=31, rfc__n_estimators=101.................\n",
      "[CV 2/5; 63/100] END rfc__max_depth=31, rfc__n_estimators=101;, score=(train=0.825, test=0.614) total time=   0.9s\n",
      "[CV 3/5; 63/100] START rfc__max_depth=31, rfc__n_estimators=101.................\n",
      "[CV 3/5; 63/100] END rfc__max_depth=31, rfc__n_estimators=101;, score=(train=0.821, test=0.588) total time=   0.9s\n",
      "[CV 4/5; 63/100] START rfc__max_depth=31, rfc__n_estimators=101.................\n",
      "[CV 4/5; 63/100] END rfc__max_depth=31, rfc__n_estimators=101;, score=(train=0.822, test=0.599) total time=   0.9s\n",
      "[CV 5/5; 63/100] START rfc__max_depth=31, rfc__n_estimators=101.................\n",
      "[CV 5/5; 63/100] END rfc__max_depth=31, rfc__n_estimators=101;, score=(train=0.814, test=0.601) total time=   0.9s\n",
      "[CV 1/5; 64/100] START rfc__max_depth=31, rfc__n_estimators=151.................\n",
      "[CV 1/5; 64/100] END rfc__max_depth=31, rfc__n_estimators=151;, score=(train=0.832, test=0.605) total time=   1.3s\n",
      "[CV 2/5; 64/100] START rfc__max_depth=31, rfc__n_estimators=151.................\n",
      "[CV 2/5; 64/100] END rfc__max_depth=31, rfc__n_estimators=151;, score=(train=0.825, test=0.609) total time=   1.4s\n",
      "[CV 3/5; 64/100] START rfc__max_depth=31, rfc__n_estimators=151.................\n",
      "[CV 3/5; 64/100] END rfc__max_depth=31, rfc__n_estimators=151;, score=(train=0.830, test=0.600) total time=   1.3s\n",
      "[CV 4/5; 64/100] START rfc__max_depth=31, rfc__n_estimators=151.................\n",
      "[CV 4/5; 64/100] END rfc__max_depth=31, rfc__n_estimators=151;, score=(train=0.823, test=0.602) total time=   1.3s\n",
      "[CV 5/5; 64/100] START rfc__max_depth=31, rfc__n_estimators=151.................\n",
      "[CV 5/5; 64/100] END rfc__max_depth=31, rfc__n_estimators=151;, score=(train=0.819, test=0.599) total time=   1.4s\n",
      "[CV 1/5; 65/100] START rfc__max_depth=31, rfc__n_estimators=201.................\n",
      "[CV 1/5; 65/100] END rfc__max_depth=31, rfc__n_estimators=201;, score=(train=0.834, test=0.614) total time=   1.8s\n",
      "[CV 2/5; 65/100] START rfc__max_depth=31, rfc__n_estimators=201.................\n",
      "[CV 2/5; 65/100] END rfc__max_depth=31, rfc__n_estimators=201;, score=(train=0.828, test=0.619) total time=   1.8s\n",
      "[CV 3/5; 65/100] START rfc__max_depth=31, rfc__n_estimators=201.................\n",
      "[CV 3/5; 65/100] END rfc__max_depth=31, rfc__n_estimators=201;, score=(train=0.830, test=0.605) total time=   1.7s\n",
      "[CV 4/5; 65/100] START rfc__max_depth=31, rfc__n_estimators=201.................\n",
      "[CV 4/5; 65/100] END rfc__max_depth=31, rfc__n_estimators=201;, score=(train=0.826, test=0.604) total time=   1.7s\n",
      "[CV 5/5; 65/100] START rfc__max_depth=31, rfc__n_estimators=201.................\n",
      "[CV 5/5; 65/100] END rfc__max_depth=31, rfc__n_estimators=201;, score=(train=0.822, test=0.606) total time=   1.8s\n",
      "[CV 1/5; 66/100] START rfc__max_depth=31, rfc__n_estimators=251.................\n",
      "[CV 1/5; 66/100] END rfc__max_depth=31, rfc__n_estimators=251;, score=(train=0.836, test=0.614) total time=   2.2s\n",
      "[CV 2/5; 66/100] START rfc__max_depth=31, rfc__n_estimators=251.................\n",
      "[CV 2/5; 66/100] END rfc__max_depth=31, rfc__n_estimators=251;, score=(train=0.829, test=0.618) total time=   2.3s\n",
      "[CV 3/5; 66/100] START rfc__max_depth=31, rfc__n_estimators=251.................\n",
      "[CV 3/5; 66/100] END rfc__max_depth=31, rfc__n_estimators=251;, score=(train=0.828, test=0.603) total time=   2.2s\n",
      "[CV 4/5; 66/100] START rfc__max_depth=31, rfc__n_estimators=251.................\n",
      "[CV 4/5; 66/100] END rfc__max_depth=31, rfc__n_estimators=251;, score=(train=0.826, test=0.606) total time=   2.2s\n",
      "[CV 5/5; 66/100] START rfc__max_depth=31, rfc__n_estimators=251.................\n",
      "[CV 5/5; 66/100] END rfc__max_depth=31, rfc__n_estimators=251;, score=(train=0.821, test=0.600) total time=   2.2s\n",
      "[CV 1/5; 67/100] START rfc__max_depth=31, rfc__n_estimators=301.................\n",
      "[CV 1/5; 67/100] END rfc__max_depth=31, rfc__n_estimators=301;, score=(train=0.837, test=0.616) total time=   2.6s\n",
      "[CV 2/5; 67/100] START rfc__max_depth=31, rfc__n_estimators=301.................\n",
      "[CV 2/5; 67/100] END rfc__max_depth=31, rfc__n_estimators=301;, score=(train=0.834, test=0.626) total time=   2.7s\n",
      "[CV 3/5; 67/100] START rfc__max_depth=31, rfc__n_estimators=301.................\n",
      "[CV 3/5; 67/100] END rfc__max_depth=31, rfc__n_estimators=301;, score=(train=0.830, test=0.604) total time=   2.6s\n",
      "[CV 4/5; 67/100] START rfc__max_depth=31, rfc__n_estimators=301.................\n",
      "[CV 4/5; 67/100] END rfc__max_depth=31, rfc__n_estimators=301;, score=(train=0.829, test=0.603) total time=   2.6s\n",
      "[CV 5/5; 67/100] START rfc__max_depth=31, rfc__n_estimators=301.................\n",
      "[CV 5/5; 67/100] END rfc__max_depth=31, rfc__n_estimators=301;, score=(train=0.823, test=0.603) total time=   2.7s\n",
      "[CV 1/5; 68/100] START rfc__max_depth=31, rfc__n_estimators=351.................\n",
      "[CV 1/5; 68/100] END rfc__max_depth=31, rfc__n_estimators=351;, score=(train=0.836, test=0.619) total time=   3.2s\n",
      "[CV 2/5; 68/100] START rfc__max_depth=31, rfc__n_estimators=351.................\n",
      "[CV 2/5; 68/100] END rfc__max_depth=31, rfc__n_estimators=351;, score=(train=0.834, test=0.619) total time=   3.2s\n",
      "[CV 3/5; 68/100] START rfc__max_depth=31, rfc__n_estimators=351.................\n",
      "[CV 3/5; 68/100] END rfc__max_depth=31, rfc__n_estimators=351;, score=(train=0.830, test=0.607) total time=   3.1s\n",
      "[CV 4/5; 68/100] START rfc__max_depth=31, rfc__n_estimators=351.................\n",
      "[CV 4/5; 68/100] END rfc__max_depth=31, rfc__n_estimators=351;, score=(train=0.831, test=0.611) total time=   3.1s\n",
      "[CV 5/5; 68/100] START rfc__max_depth=31, rfc__n_estimators=351.................\n",
      "[CV 5/5; 68/100] END rfc__max_depth=31, rfc__n_estimators=351;, score=(train=0.825, test=0.604) total time=   3.1s\n",
      "[CV 1/5; 69/100] START rfc__max_depth=31, rfc__n_estimators=401.................\n",
      "[CV 1/5; 69/100] END rfc__max_depth=31, rfc__n_estimators=401;, score=(train=0.835, test=0.617) total time=   3.5s\n",
      "[CV 2/5; 69/100] START rfc__max_depth=31, rfc__n_estimators=401.................\n",
      "[CV 2/5; 69/100] END rfc__max_depth=31, rfc__n_estimators=401;, score=(train=0.836, test=0.621) total time=   3.6s\n",
      "[CV 3/5; 69/100] START rfc__max_depth=31, rfc__n_estimators=401.................\n",
      "[CV 3/5; 69/100] END rfc__max_depth=31, rfc__n_estimators=401;, score=(train=0.830, test=0.603) total time=   3.5s\n",
      "[CV 4/5; 69/100] START rfc__max_depth=31, rfc__n_estimators=401.................\n",
      "[CV 4/5; 69/100] END rfc__max_depth=31, rfc__n_estimators=401;, score=(train=0.832, test=0.608) total time=   3.5s\n",
      "[CV 5/5; 69/100] START rfc__max_depth=31, rfc__n_estimators=401.................\n",
      "[CV 5/5; 69/100] END rfc__max_depth=31, rfc__n_estimators=401;, score=(train=0.824, test=0.602) total time=   3.6s\n",
      "[CV 1/5; 70/100] START rfc__max_depth=31, rfc__n_estimators=451.................\n",
      "[CV 1/5; 70/100] END rfc__max_depth=31, rfc__n_estimators=451;, score=(train=0.837, test=0.618) total time=   4.0s\n",
      "[CV 2/5; 70/100] START rfc__max_depth=31, rfc__n_estimators=451.................\n",
      "[CV 2/5; 70/100] END rfc__max_depth=31, rfc__n_estimators=451;, score=(train=0.832, test=0.623) total time=   4.1s\n",
      "[CV 3/5; 70/100] START rfc__max_depth=31, rfc__n_estimators=451.................\n",
      "[CV 3/5; 70/100] END rfc__max_depth=31, rfc__n_estimators=451;, score=(train=0.832, test=0.605) total time=   3.9s\n",
      "[CV 4/5; 70/100] START rfc__max_depth=31, rfc__n_estimators=451.................\n",
      "[CV 4/5; 70/100] END rfc__max_depth=31, rfc__n_estimators=451;, score=(train=0.833, test=0.606) total time=   4.0s\n",
      "[CV 5/5; 70/100] START rfc__max_depth=31, rfc__n_estimators=451.................\n",
      "[CV 5/5; 70/100] END rfc__max_depth=31, rfc__n_estimators=451;, score=(train=0.826, test=0.603) total time=   4.0s\n",
      "[CV 1/5; 71/100] START rfc__max_depth=36, rfc__n_estimators=1...................\n",
      "[CV 1/5; 71/100] END rfc__max_depth=36, rfc__n_estimators=1;, score=(train=0.379, test=0.283) total time=   0.0s\n",
      "[CV 2/5; 71/100] START rfc__max_depth=36, rfc__n_estimators=1...................\n",
      "[CV 2/5; 71/100] END rfc__max_depth=36, rfc__n_estimators=1;, score=(train=0.356, test=0.275) total time=   0.0s\n",
      "[CV 3/5; 71/100] START rfc__max_depth=36, rfc__n_estimators=1...................\n",
      "[CV 3/5; 71/100] END rfc__max_depth=36, rfc__n_estimators=1;, score=(train=0.377, test=0.302) total time=   0.0s\n",
      "[CV 4/5; 71/100] START rfc__max_depth=36, rfc__n_estimators=1...................\n",
      "[CV 4/5; 71/100] END rfc__max_depth=36, rfc__n_estimators=1;, score=(train=0.396, test=0.302) total time=   0.0s\n",
      "[CV 5/5; 71/100] START rfc__max_depth=36, rfc__n_estimators=1...................\n",
      "[CV 5/5; 71/100] END rfc__max_depth=36, rfc__n_estimators=1;, score=(train=0.358, test=0.286) total time=   0.0s\n",
      "[CV 1/5; 72/100] START rfc__max_depth=36, rfc__n_estimators=51..................\n",
      "[CV 1/5; 72/100] END rfc__max_depth=36, rfc__n_estimators=51;, score=(train=0.845, test=0.608) total time=   0.6s\n",
      "[CV 2/5; 72/100] START rfc__max_depth=36, rfc__n_estimators=51..................\n",
      "[CV 2/5; 72/100] END rfc__max_depth=36, rfc__n_estimators=51;, score=(train=0.836, test=0.606) total time=   0.6s\n",
      "[CV 3/5; 72/100] START rfc__max_depth=36, rfc__n_estimators=51..................\n",
      "[CV 3/5; 72/100] END rfc__max_depth=36, rfc__n_estimators=51;, score=(train=0.835, test=0.607) total time=   0.5s\n",
      "[CV 4/5; 72/100] START rfc__max_depth=36, rfc__n_estimators=51..................\n",
      "[CV 4/5; 72/100] END rfc__max_depth=36, rfc__n_estimators=51;, score=(train=0.830, test=0.597) total time=   0.5s\n",
      "[CV 5/5; 72/100] START rfc__max_depth=36, rfc__n_estimators=51..................\n",
      "[CV 5/5; 72/100] END rfc__max_depth=36, rfc__n_estimators=51;, score=(train=0.826, test=0.594) total time=   0.6s\n",
      "[CV 1/5; 73/100] START rfc__max_depth=36, rfc__n_estimators=101.................\n",
      "[CV 1/5; 73/100] END rfc__max_depth=36, rfc__n_estimators=101;, score=(train=0.855, test=0.610) total time=   1.1s\n",
      "[CV 2/5; 73/100] START rfc__max_depth=36, rfc__n_estimators=101.................\n",
      "[CV 2/5; 73/100] END rfc__max_depth=36, rfc__n_estimators=101;, score=(train=0.850, test=0.624) total time=   1.1s\n",
      "[CV 3/5; 73/100] START rfc__max_depth=36, rfc__n_estimators=101.................\n",
      "[CV 3/5; 73/100] END rfc__max_depth=36, rfc__n_estimators=101;, score=(train=0.848, test=0.610) total time=   1.1s\n",
      "[CV 4/5; 73/100] START rfc__max_depth=36, rfc__n_estimators=101.................\n",
      "[CV 4/5; 73/100] END rfc__max_depth=36, rfc__n_estimators=101;, score=(train=0.843, test=0.614) total time=   1.1s\n",
      "[CV 5/5; 73/100] START rfc__max_depth=36, rfc__n_estimators=101.................\n",
      "[CV 5/5; 73/100] END rfc__max_depth=36, rfc__n_estimators=101;, score=(train=0.842, test=0.604) total time=   1.1s\n",
      "[CV 1/5; 74/100] START rfc__max_depth=36, rfc__n_estimators=151.................\n",
      "[CV 1/5; 74/100] END rfc__max_depth=36, rfc__n_estimators=151;, score=(train=0.856, test=0.622) total time=   1.7s\n",
      "[CV 2/5; 74/100] START rfc__max_depth=36, rfc__n_estimators=151.................\n",
      "[CV 2/5; 74/100] END rfc__max_depth=36, rfc__n_estimators=151;, score=(train=0.852, test=0.634) total time=   1.6s\n",
      "[CV 3/5; 74/100] START rfc__max_depth=36, rfc__n_estimators=151.................\n",
      "[CV 3/5; 74/100] END rfc__max_depth=36, rfc__n_estimators=151;, score=(train=0.857, test=0.617) total time=   1.7s\n",
      "[CV 4/5; 74/100] START rfc__max_depth=36, rfc__n_estimators=151.................\n",
      "[CV 4/5; 74/100] END rfc__max_depth=36, rfc__n_estimators=151;, score=(train=0.848, test=0.620) total time=   1.6s\n",
      "[CV 5/5; 74/100] START rfc__max_depth=36, rfc__n_estimators=151.................\n",
      "[CV 5/5; 74/100] END rfc__max_depth=36, rfc__n_estimators=151;, score=(train=0.847, test=0.611) total time=   1.7s\n",
      "[CV 1/5; 75/100] START rfc__max_depth=36, rfc__n_estimators=201.................\n",
      "[CV 1/5; 75/100] END rfc__max_depth=36, rfc__n_estimators=201;, score=(train=0.857, test=0.625) total time=   2.2s\n",
      "[CV 2/5; 75/100] START rfc__max_depth=36, rfc__n_estimators=201.................\n",
      "[CV 2/5; 75/100] END rfc__max_depth=36, rfc__n_estimators=201;, score=(train=0.855, test=0.640) total time=   2.2s\n",
      "[CV 3/5; 75/100] START rfc__max_depth=36, rfc__n_estimators=201.................\n",
      "[CV 3/5; 75/100] END rfc__max_depth=36, rfc__n_estimators=201;, score=(train=0.855, test=0.622) total time=   2.2s\n",
      "[CV 4/5; 75/100] START rfc__max_depth=36, rfc__n_estimators=201.................\n",
      "[CV 4/5; 75/100] END rfc__max_depth=36, rfc__n_estimators=201;, score=(train=0.852, test=0.620) total time=   2.1s\n",
      "[CV 5/5; 75/100] START rfc__max_depth=36, rfc__n_estimators=201.................\n",
      "[CV 5/5; 75/100] END rfc__max_depth=36, rfc__n_estimators=201;, score=(train=0.848, test=0.619) total time=   2.2s\n",
      "[CV 1/5; 76/100] START rfc__max_depth=36, rfc__n_estimators=251.................\n",
      "[CV 1/5; 76/100] END rfc__max_depth=36, rfc__n_estimators=251;, score=(train=0.858, test=0.627) total time=   2.7s\n",
      "[CV 2/5; 76/100] START rfc__max_depth=36, rfc__n_estimators=251.................\n",
      "[CV 2/5; 76/100] END rfc__max_depth=36, rfc__n_estimators=251;, score=(train=0.854, test=0.636) total time=   2.7s\n",
      "[CV 3/5; 76/100] START rfc__max_depth=36, rfc__n_estimators=251.................\n",
      "[CV 3/5; 76/100] END rfc__max_depth=36, rfc__n_estimators=251;, score=(train=0.855, test=0.620) total time=   2.7s\n",
      "[CV 4/5; 76/100] START rfc__max_depth=36, rfc__n_estimators=251.................\n",
      "[CV 4/5; 76/100] END rfc__max_depth=36, rfc__n_estimators=251;, score=(train=0.851, test=0.626) total time=   2.7s\n",
      "[CV 5/5; 76/100] START rfc__max_depth=36, rfc__n_estimators=251.................\n",
      "[CV 5/5; 76/100] END rfc__max_depth=36, rfc__n_estimators=251;, score=(train=0.850, test=0.625) total time=   2.7s\n",
      "[CV 1/5; 77/100] START rfc__max_depth=36, rfc__n_estimators=301.................\n",
      "[CV 1/5; 77/100] END rfc__max_depth=36, rfc__n_estimators=301;, score=(train=0.860, test=0.633) total time=   3.2s\n",
      "[CV 2/5; 77/100] START rfc__max_depth=36, rfc__n_estimators=301.................\n",
      "[CV 2/5; 77/100] END rfc__max_depth=36, rfc__n_estimators=301;, score=(train=0.856, test=0.637) total time=   3.3s\n",
      "[CV 3/5; 77/100] START rfc__max_depth=36, rfc__n_estimators=301.................\n",
      "[CV 3/5; 77/100] END rfc__max_depth=36, rfc__n_estimators=301;, score=(train=0.855, test=0.623) total time=   3.2s\n",
      "[CV 4/5; 77/100] START rfc__max_depth=36, rfc__n_estimators=301.................\n",
      "[CV 4/5; 77/100] END rfc__max_depth=36, rfc__n_estimators=301;, score=(train=0.852, test=0.628) total time=   3.2s\n",
      "[CV 5/5; 77/100] START rfc__max_depth=36, rfc__n_estimators=301.................\n",
      "[CV 5/5; 77/100] END rfc__max_depth=36, rfc__n_estimators=301;, score=(train=0.851, test=0.620) total time=   3.3s\n",
      "[CV 1/5; 78/100] START rfc__max_depth=36, rfc__n_estimators=351.................\n",
      "[CV 1/5; 78/100] END rfc__max_depth=36, rfc__n_estimators=351;, score=(train=0.859, test=0.630) total time=   3.8s\n",
      "[CV 2/5; 78/100] START rfc__max_depth=36, rfc__n_estimators=351.................\n",
      "[CV 2/5; 78/100] END rfc__max_depth=36, rfc__n_estimators=351;, score=(train=0.859, test=0.633) total time=   3.9s\n",
      "[CV 3/5; 78/100] START rfc__max_depth=36, rfc__n_estimators=351.................\n",
      "[CV 3/5; 78/100] END rfc__max_depth=36, rfc__n_estimators=351;, score=(train=0.856, test=0.619) total time=   3.8s\n",
      "[CV 4/5; 78/100] START rfc__max_depth=36, rfc__n_estimators=351.................\n",
      "[CV 4/5; 78/100] END rfc__max_depth=36, rfc__n_estimators=351;, score=(train=0.855, test=0.629) total time=   3.8s\n",
      "[CV 5/5; 78/100] START rfc__max_depth=36, rfc__n_estimators=351.................\n",
      "[CV 5/5; 78/100] END rfc__max_depth=36, rfc__n_estimators=351;, score=(train=0.849, test=0.619) total time=   3.9s\n",
      "[CV 1/5; 79/100] START rfc__max_depth=36, rfc__n_estimators=401.................\n",
      "[CV 1/5; 79/100] END rfc__max_depth=36, rfc__n_estimators=401;, score=(train=0.858, test=0.634) total time=   4.3s\n",
      "[CV 2/5; 79/100] START rfc__max_depth=36, rfc__n_estimators=401.................\n",
      "[CV 2/5; 79/100] END rfc__max_depth=36, rfc__n_estimators=401;, score=(train=0.860, test=0.638) total time=   4.4s\n",
      "[CV 3/5; 79/100] START rfc__max_depth=36, rfc__n_estimators=401.................\n",
      "[CV 3/5; 79/100] END rfc__max_depth=36, rfc__n_estimators=401;, score=(train=0.856, test=0.616) total time=   4.4s\n",
      "[CV 4/5; 79/100] START rfc__max_depth=36, rfc__n_estimators=401.................\n",
      "[CV 4/5; 79/100] END rfc__max_depth=36, rfc__n_estimators=401;, score=(train=0.856, test=0.629) total time=   4.3s\n",
      "[CV 5/5; 79/100] START rfc__max_depth=36, rfc__n_estimators=401.................\n",
      "[CV 5/5; 79/100] END rfc__max_depth=36, rfc__n_estimators=401;, score=(train=0.851, test=0.621) total time=   4.5s\n",
      "[CV 1/5; 80/100] START rfc__max_depth=36, rfc__n_estimators=451.................\n",
      "[CV 1/5; 80/100] END rfc__max_depth=36, rfc__n_estimators=451;, score=(train=0.860, test=0.630) total time=   4.9s\n",
      "[CV 2/5; 80/100] START rfc__max_depth=36, rfc__n_estimators=451.................\n",
      "[CV 2/5; 80/100] END rfc__max_depth=36, rfc__n_estimators=451;, score=(train=0.862, test=0.639) total time=   5.1s\n",
      "[CV 3/5; 80/100] START rfc__max_depth=36, rfc__n_estimators=451.................\n",
      "[CV 3/5; 80/100] END rfc__max_depth=36, rfc__n_estimators=451;, score=(train=0.856, test=0.620) total time=   5.0s\n",
      "[CV 4/5; 80/100] START rfc__max_depth=36, rfc__n_estimators=451.................\n",
      "[CV 4/5; 80/100] END rfc__max_depth=36, rfc__n_estimators=451;, score=(train=0.855, test=0.632) total time=   4.9s\n",
      "[CV 5/5; 80/100] START rfc__max_depth=36, rfc__n_estimators=451.................\n",
      "[CV 5/5; 80/100] END rfc__max_depth=36, rfc__n_estimators=451;, score=(train=0.851, test=0.622) total time=   5.1s\n",
      "[CV 1/5; 81/100] START rfc__max_depth=41, rfc__n_estimators=1...................\n",
      "[CV 1/5; 81/100] END rfc__max_depth=41, rfc__n_estimators=1;, score=(train=0.401, test=0.295) total time=   0.0s\n",
      "[CV 2/5; 81/100] START rfc__max_depth=41, rfc__n_estimators=1...................\n",
      "[CV 2/5; 81/100] END rfc__max_depth=41, rfc__n_estimators=1;, score=(train=0.369, test=0.285) total time=   0.0s\n",
      "[CV 3/5; 81/100] START rfc__max_depth=41, rfc__n_estimators=1...................\n",
      "[CV 3/5; 81/100] END rfc__max_depth=41, rfc__n_estimators=1;, score=(train=0.394, test=0.317) total time=   0.0s\n",
      "[CV 4/5; 81/100] START rfc__max_depth=41, rfc__n_estimators=1...................\n",
      "[CV 4/5; 81/100] END rfc__max_depth=41, rfc__n_estimators=1;, score=(train=0.414, test=0.310) total time=   0.0s\n",
      "[CV 5/5; 81/100] START rfc__max_depth=41, rfc__n_estimators=1...................\n",
      "[CV 5/5; 81/100] END rfc__max_depth=41, rfc__n_estimators=1;, score=(train=0.381, test=0.290) total time=   0.0s\n",
      "[CV 1/5; 82/100] START rfc__max_depth=41, rfc__n_estimators=51..................\n",
      "[CV 1/5; 82/100] END rfc__max_depth=41, rfc__n_estimators=51;, score=(train=0.864, test=0.634) total time=   0.7s\n",
      "[CV 2/5; 82/100] START rfc__max_depth=41, rfc__n_estimators=51..................\n",
      "[CV 2/5; 82/100] END rfc__max_depth=41, rfc__n_estimators=51;, score=(train=0.857, test=0.625) total time=   0.7s\n",
      "[CV 3/5; 82/100] START rfc__max_depth=41, rfc__n_estimators=51..................\n",
      "[CV 3/5; 82/100] END rfc__max_depth=41, rfc__n_estimators=51;, score=(train=0.857, test=0.623) total time=   0.7s\n",
      "[CV 4/5; 82/100] START rfc__max_depth=41, rfc__n_estimators=51..................\n",
      "[CV 4/5; 82/100] END rfc__max_depth=41, rfc__n_estimators=51;, score=(train=0.857, test=0.621) total time=   0.7s\n",
      "[CV 5/5; 82/100] START rfc__max_depth=41, rfc__n_estimators=51..................\n",
      "[CV 5/5; 82/100] END rfc__max_depth=41, rfc__n_estimators=51;, score=(train=0.850, test=0.611) total time=   0.7s\n",
      "[CV 1/5; 83/100] START rfc__max_depth=41, rfc__n_estimators=101.................\n",
      "[CV 1/5; 83/100] END rfc__max_depth=41, rfc__n_estimators=101;, score=(train=0.877, test=0.644) total time=   1.3s\n",
      "[CV 2/5; 83/100] START rfc__max_depth=41, rfc__n_estimators=101.................\n",
      "[CV 2/5; 83/100] END rfc__max_depth=41, rfc__n_estimators=101;, score=(train=0.867, test=0.636) total time=   1.3s\n",
      "[CV 3/5; 83/100] START rfc__max_depth=41, rfc__n_estimators=101.................\n",
      "[CV 3/5; 83/100] END rfc__max_depth=41, rfc__n_estimators=101;, score=(train=0.867, test=0.627) total time=   1.3s\n",
      "[CV 4/5; 83/100] START rfc__max_depth=41, rfc__n_estimators=101.................\n",
      "[CV 4/5; 83/100] END rfc__max_depth=41, rfc__n_estimators=101;, score=(train=0.865, test=0.629) total time=   1.4s\n",
      "[CV 5/5; 83/100] START rfc__max_depth=41, rfc__n_estimators=101.................\n",
      "[CV 5/5; 83/100] END rfc__max_depth=41, rfc__n_estimators=101;, score=(train=0.863, test=0.622) total time=   1.3s\n",
      "[CV 1/5; 84/100] START rfc__max_depth=41, rfc__n_estimators=151.................\n",
      "[CV 1/5; 84/100] END rfc__max_depth=41, rfc__n_estimators=151;, score=(train=0.880, test=0.655) total time=   2.0s\n",
      "[CV 2/5; 84/100] START rfc__max_depth=41, rfc__n_estimators=151.................\n",
      "[CV 2/5; 84/100] END rfc__max_depth=41, rfc__n_estimators=151;, score=(train=0.872, test=0.642) total time=   2.0s\n",
      "[CV 3/5; 84/100] START rfc__max_depth=41, rfc__n_estimators=151.................\n",
      "[CV 3/5; 84/100] END rfc__max_depth=41, rfc__n_estimators=151;, score=(train=0.870, test=0.632) total time=   1.9s\n",
      "[CV 4/5; 84/100] START rfc__max_depth=41, rfc__n_estimators=151.................\n",
      "[CV 4/5; 84/100] END rfc__max_depth=41, rfc__n_estimators=151;, score=(train=0.866, test=0.634) total time=   2.0s\n",
      "[CV 5/5; 84/100] START rfc__max_depth=41, rfc__n_estimators=151.................\n",
      "[CV 5/5; 84/100] END rfc__max_depth=41, rfc__n_estimators=151;, score=(train=0.865, test=0.626) total time=   2.0s\n",
      "[CV 1/5; 85/100] START rfc__max_depth=41, rfc__n_estimators=201.................\n",
      "[CV 1/5; 85/100] END rfc__max_depth=41, rfc__n_estimators=201;, score=(train=0.880, test=0.652) total time=   2.6s\n",
      "[CV 2/5; 85/100] START rfc__max_depth=41, rfc__n_estimators=201.................\n",
      "[CV 2/5; 85/100] END rfc__max_depth=41, rfc__n_estimators=201;, score=(train=0.873, test=0.648) total time=   2.6s\n",
      "[CV 3/5; 85/100] START rfc__max_depth=41, rfc__n_estimators=201.................\n",
      "[CV 3/5; 85/100] END rfc__max_depth=41, rfc__n_estimators=201;, score=(train=0.873, test=0.630) total time=   2.5s\n",
      "[CV 4/5; 85/100] START rfc__max_depth=41, rfc__n_estimators=201.................\n",
      "[CV 4/5; 85/100] END rfc__max_depth=41, rfc__n_estimators=201;, score=(train=0.870, test=0.633) total time=   2.6s\n",
      "[CV 5/5; 85/100] START rfc__max_depth=41, rfc__n_estimators=201.................\n",
      "[CV 5/5; 85/100] END rfc__max_depth=41, rfc__n_estimators=201;, score=(train=0.866, test=0.633) total time=   2.6s\n",
      "[CV 1/5; 86/100] START rfc__max_depth=41, rfc__n_estimators=251.................\n",
      "[CV 1/5; 86/100] END rfc__max_depth=41, rfc__n_estimators=251;, score=(train=0.882, test=0.652) total time=   3.2s\n",
      "[CV 2/5; 86/100] START rfc__max_depth=41, rfc__n_estimators=251.................\n",
      "[CV 2/5; 86/100] END rfc__max_depth=41, rfc__n_estimators=251;, score=(train=0.875, test=0.648) total time=   3.3s\n",
      "[CV 3/5; 86/100] START rfc__max_depth=41, rfc__n_estimators=251.................\n",
      "[CV 3/5; 86/100] END rfc__max_depth=41, rfc__n_estimators=251;, score=(train=0.870, test=0.631) total time=   3.2s\n",
      "[CV 4/5; 86/100] START rfc__max_depth=41, rfc__n_estimators=251.................\n",
      "[CV 4/5; 86/100] END rfc__max_depth=41, rfc__n_estimators=251;, score=(train=0.871, test=0.638) total time=   3.2s\n",
      "[CV 5/5; 86/100] START rfc__max_depth=41, rfc__n_estimators=251.................\n",
      "[CV 5/5; 86/100] END rfc__max_depth=41, rfc__n_estimators=251;, score=(train=0.867, test=0.633) total time=   3.4s\n",
      "[CV 1/5; 87/100] START rfc__max_depth=41, rfc__n_estimators=301.................\n",
      "[CV 1/5; 87/100] END rfc__max_depth=41, rfc__n_estimators=301;, score=(train=0.881, test=0.651) total time=   3.9s\n",
      "[CV 2/5; 87/100] START rfc__max_depth=41, rfc__n_estimators=301.................\n",
      "[CV 2/5; 87/100] END rfc__max_depth=41, rfc__n_estimators=301;, score=(train=0.874, test=0.647) total time=   3.9s\n",
      "[CV 3/5; 87/100] START rfc__max_depth=41, rfc__n_estimators=301.................\n",
      "[CV 3/5; 87/100] END rfc__max_depth=41, rfc__n_estimators=301;, score=(train=0.873, test=0.636) total time=   3.9s\n",
      "[CV 4/5; 87/100] START rfc__max_depth=41, rfc__n_estimators=301.................\n",
      "[CV 4/5; 87/100] END rfc__max_depth=41, rfc__n_estimators=301;, score=(train=0.872, test=0.640) total time=   3.8s\n",
      "[CV 5/5; 87/100] START rfc__max_depth=41, rfc__n_estimators=301.................\n",
      "[CV 5/5; 87/100] END rfc__max_depth=41, rfc__n_estimators=301;, score=(train=0.869, test=0.635) total time=   4.0s\n",
      "[CV 1/5; 88/100] START rfc__max_depth=41, rfc__n_estimators=351.................\n",
      "[CV 1/5; 88/100] END rfc__max_depth=41, rfc__n_estimators=351;, score=(train=0.881, test=0.648) total time=   4.6s\n",
      "[CV 2/5; 88/100] START rfc__max_depth=41, rfc__n_estimators=351.................\n",
      "[CV 2/5; 88/100] END rfc__max_depth=41, rfc__n_estimators=351;, score=(train=0.877, test=0.644) total time=   6.2s\n",
      "[CV 3/5; 88/100] START rfc__max_depth=41, rfc__n_estimators=351.................\n",
      "[CV 3/5; 88/100] END rfc__max_depth=41, rfc__n_estimators=351;, score=(train=0.871, test=0.635) total time=   4.8s\n",
      "[CV 4/5; 88/100] START rfc__max_depth=41, rfc__n_estimators=351.................\n",
      "[CV 4/5; 88/100] END rfc__max_depth=41, rfc__n_estimators=351;, score=(train=0.874, test=0.645) total time=   4.8s\n",
      "[CV 5/5; 88/100] START rfc__max_depth=41, rfc__n_estimators=351.................\n",
      "[CV 5/5; 88/100] END rfc__max_depth=41, rfc__n_estimators=351;, score=(train=0.868, test=0.633) total time=   5.0s\n",
      "[CV 1/5; 89/100] START rfc__max_depth=41, rfc__n_estimators=401.................\n",
      "[CV 1/5; 89/100] END rfc__max_depth=41, rfc__n_estimators=401;, score=(train=0.880, test=0.650) total time=   5.5s\n",
      "[CV 2/5; 89/100] START rfc__max_depth=41, rfc__n_estimators=401.................\n",
      "[CV 2/5; 89/100] END rfc__max_depth=41, rfc__n_estimators=401;, score=(train=0.879, test=0.646) total time=   5.6s\n",
      "[CV 3/5; 89/100] START rfc__max_depth=41, rfc__n_estimators=401.................\n",
      "[CV 3/5; 89/100] END rfc__max_depth=41, rfc__n_estimators=401;, score=(train=0.870, test=0.630) total time=   5.5s\n",
      "[CV 4/5; 89/100] START rfc__max_depth=41, rfc__n_estimators=401.................\n",
      "[CV 4/5; 89/100] END rfc__max_depth=41, rfc__n_estimators=401;, score=(train=0.871, test=0.645) total time=   5.5s\n",
      "[CV 5/5; 89/100] START rfc__max_depth=41, rfc__n_estimators=401.................\n",
      "[CV 5/5; 89/100] END rfc__max_depth=41, rfc__n_estimators=401;, score=(train=0.869, test=0.629) total time=   5.7s\n",
      "[CV 1/5; 90/100] START rfc__max_depth=41, rfc__n_estimators=451.................\n",
      "[CV 1/5; 90/100] END rfc__max_depth=41, rfc__n_estimators=451;, score=(train=0.880, test=0.646) total time=   6.2s\n",
      "[CV 2/5; 90/100] START rfc__max_depth=41, rfc__n_estimators=451.................\n",
      "[CV 2/5; 90/100] END rfc__max_depth=41, rfc__n_estimators=451;, score=(train=0.879, test=0.649) total time=   6.3s\n",
      "[CV 3/5; 90/100] START rfc__max_depth=41, rfc__n_estimators=451.................\n",
      "[CV 3/5; 90/100] END rfc__max_depth=41, rfc__n_estimators=451;, score=(train=0.870, test=0.633) total time=   6.1s\n",
      "[CV 4/5; 90/100] START rfc__max_depth=41, rfc__n_estimators=451.................\n",
      "[CV 4/5; 90/100] END rfc__max_depth=41, rfc__n_estimators=451;, score=(train=0.872, test=0.646) total time=   6.1s\n",
      "[CV 5/5; 90/100] START rfc__max_depth=41, rfc__n_estimators=451.................\n",
      "[CV 5/5; 90/100] END rfc__max_depth=41, rfc__n_estimators=451;, score=(train=0.870, test=0.636) total time=   6.2s\n",
      "[CV 1/5; 91/100] START rfc__max_depth=46, rfc__n_estimators=1...................\n",
      "[CV 1/5; 91/100] END rfc__max_depth=46, rfc__n_estimators=1;, score=(train=0.434, test=0.315) total time=   0.0s\n",
      "[CV 2/5; 91/100] START rfc__max_depth=46, rfc__n_estimators=1...................\n",
      "[CV 2/5; 91/100] END rfc__max_depth=46, rfc__n_estimators=1;, score=(train=0.400, test=0.296) total time=   0.0s\n",
      "[CV 3/5; 91/100] START rfc__max_depth=46, rfc__n_estimators=1...................\n",
      "[CV 3/5; 91/100] END rfc__max_depth=46, rfc__n_estimators=1;, score=(train=0.433, test=0.343) total time=   0.0s\n",
      "[CV 4/5; 91/100] START rfc__max_depth=46, rfc__n_estimators=1...................\n",
      "[CV 4/5; 91/100] END rfc__max_depth=46, rfc__n_estimators=1;, score=(train=0.444, test=0.333) total time=   0.0s\n",
      "[CV 5/5; 91/100] START rfc__max_depth=46, rfc__n_estimators=1...................\n",
      "[CV 5/5; 91/100] END rfc__max_depth=46, rfc__n_estimators=1;, score=(train=0.410, test=0.314) total time=   0.0s\n",
      "[CV 1/5; 92/100] START rfc__max_depth=46, rfc__n_estimators=51..................\n",
      "[CV 1/5; 92/100] END rfc__max_depth=46, rfc__n_estimators=51;, score=(train=0.886, test=0.629) total time=   0.9s\n",
      "[CV 2/5; 92/100] START rfc__max_depth=46, rfc__n_estimators=51..................\n",
      "[CV 2/5; 92/100] END rfc__max_depth=46, rfc__n_estimators=51;, score=(train=0.870, test=0.622) total time=   0.9s\n",
      "[CV 3/5; 92/100] START rfc__max_depth=46, rfc__n_estimators=51..................\n",
      "[CV 3/5; 92/100] END rfc__max_depth=46, rfc__n_estimators=51;, score=(train=0.875, test=0.618) total time=   0.9s\n",
      "[CV 4/5; 92/100] START rfc__max_depth=46, rfc__n_estimators=51..................\n",
      "[CV 4/5; 92/100] END rfc__max_depth=46, rfc__n_estimators=51;, score=(train=0.870, test=0.626) total time=   0.9s\n",
      "[CV 5/5; 92/100] START rfc__max_depth=46, rfc__n_estimators=51..................\n",
      "[CV 5/5; 92/100] END rfc__max_depth=46, rfc__n_estimators=51;, score=(train=0.870, test=0.610) total time=   0.9s\n",
      "[CV 1/5; 93/100] START rfc__max_depth=46, rfc__n_estimators=101.................\n",
      "[CV 1/5; 93/100] END rfc__max_depth=46, rfc__n_estimators=101;, score=(train=0.891, test=0.640) total time=   1.6s\n",
      "[CV 2/5; 93/100] START rfc__max_depth=46, rfc__n_estimators=101.................\n",
      "[CV 2/5; 93/100] END rfc__max_depth=46, rfc__n_estimators=101;, score=(train=0.885, test=0.649) total time=   1.7s\n",
      "[CV 3/5; 93/100] START rfc__max_depth=46, rfc__n_estimators=101.................\n",
      "[CV 3/5; 93/100] END rfc__max_depth=46, rfc__n_estimators=101;, score=(train=0.881, test=0.626) total time=   1.6s\n",
      "[CV 4/5; 93/100] START rfc__max_depth=46, rfc__n_estimators=101.................\n",
      "[CV 4/5; 93/100] END rfc__max_depth=46, rfc__n_estimators=101;, score=(train=0.883, test=0.637) total time=   1.7s\n",
      "[CV 5/5; 93/100] START rfc__max_depth=46, rfc__n_estimators=101.................\n",
      "[CV 5/5; 93/100] END rfc__max_depth=46, rfc__n_estimators=101;, score=(train=0.880, test=0.635) total time=   1.7s\n",
      "[CV 1/5; 94/100] START rfc__max_depth=46, rfc__n_estimators=151.................\n",
      "[CV 1/5; 94/100] END rfc__max_depth=46, rfc__n_estimators=151;, score=(train=0.891, test=0.652) total time=   2.5s\n",
      "[CV 2/5; 94/100] START rfc__max_depth=46, rfc__n_estimators=151.................\n",
      "[CV 2/5; 94/100] END rfc__max_depth=46, rfc__n_estimators=151;, score=(train=0.890, test=0.656) total time=   2.5s\n",
      "[CV 3/5; 94/100] START rfc__max_depth=46, rfc__n_estimators=151.................\n",
      "[CV 3/5; 94/100] END rfc__max_depth=46, rfc__n_estimators=151;, score=(train=0.889, test=0.639) total time=   2.4s\n",
      "[CV 4/5; 94/100] START rfc__max_depth=46, rfc__n_estimators=151.................\n",
      "[CV 4/5; 94/100] END rfc__max_depth=46, rfc__n_estimators=151;, score=(train=0.885, test=0.646) total time=   2.4s\n",
      "[CV 5/5; 94/100] START rfc__max_depth=46, rfc__n_estimators=151.................\n",
      "[CV 5/5; 94/100] END rfc__max_depth=46, rfc__n_estimators=151;, score=(train=0.884, test=0.639) total time=   2.5s\n",
      "[CV 1/5; 95/100] START rfc__max_depth=46, rfc__n_estimators=201.................\n",
      "[CV 1/5; 95/100] END rfc__max_depth=46, rfc__n_estimators=201;, score=(train=0.892, test=0.656) total time=   3.2s\n",
      "[CV 2/5; 95/100] START rfc__max_depth=46, rfc__n_estimators=201.................\n",
      "[CV 2/5; 95/100] END rfc__max_depth=46, rfc__n_estimators=201;, score=(train=0.890, test=0.653) total time=   3.2s\n",
      "[CV 3/5; 95/100] START rfc__max_depth=46, rfc__n_estimators=201.................\n",
      "[CV 3/5; 95/100] END rfc__max_depth=46, rfc__n_estimators=201;, score=(train=0.889, test=0.637) total time=   3.3s\n",
      "[CV 4/5; 95/100] START rfc__max_depth=46, rfc__n_estimators=201.................\n",
      "[CV 4/5; 95/100] END rfc__max_depth=46, rfc__n_estimators=201;, score=(train=0.889, test=0.646) total time=   3.3s\n",
      "[CV 5/5; 95/100] START rfc__max_depth=46, rfc__n_estimators=201.................\n",
      "[CV 5/5; 95/100] END rfc__max_depth=46, rfc__n_estimators=201;, score=(train=0.883, test=0.641) total time=   3.3s\n",
      "[CV 1/5; 96/100] START rfc__max_depth=46, rfc__n_estimators=251.................\n",
      "[CV 1/5; 96/100] END rfc__max_depth=46, rfc__n_estimators=251;, score=(train=0.892, test=0.657) total time=   4.1s\n",
      "[CV 2/5; 96/100] START rfc__max_depth=46, rfc__n_estimators=251.................\n",
      "[CV 2/5; 96/100] END rfc__max_depth=46, rfc__n_estimators=251;, score=(train=0.891, test=0.661) total time=   4.0s\n",
      "[CV 3/5; 96/100] START rfc__max_depth=46, rfc__n_estimators=251.................\n",
      "[CV 3/5; 96/100] END rfc__max_depth=46, rfc__n_estimators=251;, score=(train=0.886, test=0.631) total time=   4.0s\n",
      "[CV 4/5; 96/100] START rfc__max_depth=46, rfc__n_estimators=251.................\n",
      "[CV 4/5; 96/100] END rfc__max_depth=46, rfc__n_estimators=251;, score=(train=0.889, test=0.646) total time=   3.9s\n",
      "[CV 5/5; 96/100] START rfc__max_depth=46, rfc__n_estimators=251.................\n",
      "[CV 5/5; 96/100] END rfc__max_depth=46, rfc__n_estimators=251;, score=(train=0.884, test=0.646) total time=   4.1s\n",
      "[CV 1/5; 97/100] START rfc__max_depth=46, rfc__n_estimators=301.................\n",
      "[CV 1/5; 97/100] END rfc__max_depth=46, rfc__n_estimators=301;, score=(train=0.894, test=0.660) total time=   4.7s\n",
      "[CV 2/5; 97/100] START rfc__max_depth=46, rfc__n_estimators=301.................\n",
      "[CV 2/5; 97/100] END rfc__max_depth=46, rfc__n_estimators=301;, score=(train=0.894, test=0.664) total time=   4.8s\n",
      "[CV 3/5; 97/100] START rfc__max_depth=46, rfc__n_estimators=301.................\n",
      "[CV 3/5; 97/100] END rfc__max_depth=46, rfc__n_estimators=301;, score=(train=0.885, test=0.638) total time=   5.0s\n",
      "[CV 4/5; 97/100] START rfc__max_depth=46, rfc__n_estimators=301.................\n",
      "[CV 4/5; 97/100] END rfc__max_depth=46, rfc__n_estimators=301;, score=(train=0.891, test=0.647) total time=   4.7s\n",
      "[CV 5/5; 97/100] START rfc__max_depth=46, rfc__n_estimators=301.................\n",
      "[CV 5/5; 97/100] END rfc__max_depth=46, rfc__n_estimators=301;, score=(train=0.885, test=0.639) total time=   4.8s\n",
      "[CV 1/5; 98/100] START rfc__max_depth=46, rfc__n_estimators=351.................\n",
      "[CV 1/5; 98/100] END rfc__max_depth=46, rfc__n_estimators=351;, score=(train=0.894, test=0.659) total time=   5.9s\n",
      "[CV 2/5; 98/100] START rfc__max_depth=46, rfc__n_estimators=351.................\n",
      "[CV 2/5; 98/100] END rfc__max_depth=46, rfc__n_estimators=351;, score=(train=0.892, test=0.661) total time=   5.9s\n",
      "[CV 3/5; 98/100] START rfc__max_depth=46, rfc__n_estimators=351.................\n",
      "[CV 3/5; 98/100] END rfc__max_depth=46, rfc__n_estimators=351;, score=(train=0.885, test=0.641) total time=   5.4s\n",
      "[CV 4/5; 98/100] START rfc__max_depth=46, rfc__n_estimators=351.................\n",
      "[CV 4/5; 98/100] END rfc__max_depth=46, rfc__n_estimators=351;, score=(train=0.891, test=0.652) total time=   5.7s\n",
      "[CV 5/5; 98/100] START rfc__max_depth=46, rfc__n_estimators=351.................\n",
      "[CV 5/5; 98/100] END rfc__max_depth=46, rfc__n_estimators=351;, score=(train=0.886, test=0.640) total time=   5.6s\n",
      "[CV 1/5; 99/100] START rfc__max_depth=46, rfc__n_estimators=401.................\n",
      "[CV 1/5; 99/100] END rfc__max_depth=46, rfc__n_estimators=401;, score=(train=0.895, test=0.660) total time=   6.5s\n",
      "[CV 2/5; 99/100] START rfc__max_depth=46, rfc__n_estimators=401.................\n",
      "[CV 2/5; 99/100] END rfc__max_depth=46, rfc__n_estimators=401;, score=(train=0.893, test=0.657) total time=   6.4s\n",
      "[CV 3/5; 99/100] START rfc__max_depth=46, rfc__n_estimators=401.................\n",
      "[CV 3/5; 99/100] END rfc__max_depth=46, rfc__n_estimators=401;, score=(train=0.885, test=0.637) total time=   6.3s\n",
      "[CV 4/5; 99/100] START rfc__max_depth=46, rfc__n_estimators=401.................\n",
      "[CV 4/5; 99/100] END rfc__max_depth=46, rfc__n_estimators=401;, score=(train=0.892, test=0.654) total time=   6.2s\n",
      "[CV 5/5; 99/100] START rfc__max_depth=46, rfc__n_estimators=401.................\n",
      "[CV 5/5; 99/100] END rfc__max_depth=46, rfc__n_estimators=401;, score=(train=0.886, test=0.646) total time=   6.4s\n",
      "[CV 1/5; 100/100] START rfc__max_depth=46, rfc__n_estimators=451................\n",
      "[CV 1/5; 100/100] END rfc__max_depth=46, rfc__n_estimators=451;, score=(train=0.895, test=0.661) total time=   7.4s\n",
      "[CV 2/5; 100/100] START rfc__max_depth=46, rfc__n_estimators=451................\n",
      "[CV 2/5; 100/100] END rfc__max_depth=46, rfc__n_estimators=451;, score=(train=0.893, test=0.658) total time=   7.3s\n",
      "[CV 3/5; 100/100] START rfc__max_depth=46, rfc__n_estimators=451................\n",
      "[CV 3/5; 100/100] END rfc__max_depth=46, rfc__n_estimators=451;, score=(train=0.886, test=0.634) total time=   7.1s\n",
      "[CV 4/5; 100/100] START rfc__max_depth=46, rfc__n_estimators=451................\n",
      "[CV 4/5; 100/100] END rfc__max_depth=46, rfc__n_estimators=451;, score=(train=0.893, test=0.657) total time=   7.0s\n",
      "[CV 5/5; 100/100] START rfc__max_depth=46, rfc__n_estimators=451................\n",
      "[CV 5/5; 100/100] END rfc__max_depth=46, rfc__n_estimators=451;, score=(train=0.887, test=0.645) total time=   7.2s\n",
      "----------\n",
      "iter: 1\n",
      "n_candidates: 20\n",
      "n_resources: 58070\n",
      "Fitting 5 folds for each of 20 candidates, totalling 100 fits\n",
      "[CV 1/5; 1/20] START rfc__max_depth=36, rfc__n_estimators=251...................\n",
      "[CV 1/5; 1/20] END rfc__max_depth=36, rfc__n_estimators=251;, score=(train=0.819, test=0.748) total time=  10.2s\n",
      "[CV 2/5; 1/20] START rfc__max_depth=36, rfc__n_estimators=251...................\n",
      "[CV 2/5; 1/20] END rfc__max_depth=36, rfc__n_estimators=251;, score=(train=0.818, test=0.748) total time=  10.3s\n",
      "[CV 3/5; 1/20] START rfc__max_depth=36, rfc__n_estimators=251...................\n",
      "[CV 3/5; 1/20] END rfc__max_depth=36, rfc__n_estimators=251;, score=(train=0.816, test=0.738) total time=  10.5s\n",
      "[CV 4/5; 1/20] START rfc__max_depth=36, rfc__n_estimators=251...................\n",
      "[CV 4/5; 1/20] END rfc__max_depth=36, rfc__n_estimators=251;, score=(train=0.814, test=0.739) total time=  10.3s\n",
      "[CV 5/5; 1/20] START rfc__max_depth=36, rfc__n_estimators=251...................\n",
      "[CV 5/5; 1/20] END rfc__max_depth=36, rfc__n_estimators=251;, score=(train=0.812, test=0.740) total time=  10.3s\n",
      "[CV 1/5; 2/20] START rfc__max_depth=36, rfc__n_estimators=401...................\n",
      "[CV 1/5; 2/20] END rfc__max_depth=36, rfc__n_estimators=401;, score=(train=0.820, test=0.748) total time=  16.2s\n",
      "[CV 2/5; 2/20] START rfc__max_depth=36, rfc__n_estimators=401...................\n",
      "[CV 2/5; 2/20] END rfc__max_depth=36, rfc__n_estimators=401;, score=(train=0.820, test=0.748) total time=  16.3s\n",
      "[CV 3/5; 2/20] START rfc__max_depth=36, rfc__n_estimators=401...................\n",
      "[CV 3/5; 2/20] END rfc__max_depth=36, rfc__n_estimators=401;, score=(train=0.819, test=0.742) total time=  16.7s\n",
      "[CV 4/5; 2/20] START rfc__max_depth=36, rfc__n_estimators=401...................\n",
      "[CV 4/5; 2/20] END rfc__max_depth=36, rfc__n_estimators=401;, score=(train=0.814, test=0.739) total time=  16.4s\n",
      "[CV 5/5; 2/20] START rfc__max_depth=36, rfc__n_estimators=401...................\n",
      "[CV 5/5; 2/20] END rfc__max_depth=36, rfc__n_estimators=401;, score=(train=0.813, test=0.740) total time=  16.3s\n",
      "[CV 1/5; 3/20] START rfc__max_depth=36, rfc__n_estimators=301...................\n",
      "[CV 1/5; 3/20] END rfc__max_depth=36, rfc__n_estimators=301;, score=(train=0.820, test=0.748) total time=  12.3s\n",
      "[CV 2/5; 3/20] START rfc__max_depth=36, rfc__n_estimators=301...................\n",
      "[CV 2/5; 3/20] END rfc__max_depth=36, rfc__n_estimators=301;, score=(train=0.818, test=0.746) total time=  12.4s\n",
      "[CV 3/5; 3/20] START rfc__max_depth=36, rfc__n_estimators=301...................\n",
      "[CV 3/5; 3/20] END rfc__max_depth=36, rfc__n_estimators=301;, score=(train=0.816, test=0.739) total time=  12.6s\n",
      "[CV 4/5; 3/20] START rfc__max_depth=36, rfc__n_estimators=301...................\n",
      "[CV 4/5; 3/20] END rfc__max_depth=36, rfc__n_estimators=301;, score=(train=0.814, test=0.740) total time=  12.4s\n",
      "[CV 5/5; 3/20] START rfc__max_depth=36, rfc__n_estimators=301...................\n",
      "[CV 5/5; 3/20] END rfc__max_depth=36, rfc__n_estimators=301;, score=(train=0.811, test=0.742) total time=  12.3s\n",
      "[CV 1/5; 4/20] START rfc__max_depth=36, rfc__n_estimators=451...................\n",
      "[CV 1/5; 4/20] END rfc__max_depth=36, rfc__n_estimators=451;, score=(train=0.820, test=0.749) total time=  18.1s\n",
      "[CV 2/5; 4/20] START rfc__max_depth=36, rfc__n_estimators=451...................\n",
      "[CV 2/5; 4/20] END rfc__max_depth=36, rfc__n_estimators=451;, score=(train=0.819, test=0.748) total time=  18.5s\n",
      "[CV 3/5; 4/20] START rfc__max_depth=36, rfc__n_estimators=451...................\n",
      "[CV 3/5; 4/20] END rfc__max_depth=36, rfc__n_estimators=451;, score=(train=0.819, test=0.743) total time=  18.6s\n",
      "[CV 4/5; 4/20] START rfc__max_depth=36, rfc__n_estimators=451...................\n",
      "[CV 4/5; 4/20] END rfc__max_depth=36, rfc__n_estimators=451;, score=(train=0.814, test=0.739) total time=  18.4s\n",
      "[CV 5/5; 4/20] START rfc__max_depth=36, rfc__n_estimators=451...................\n",
      "[CV 5/5; 4/20] END rfc__max_depth=36, rfc__n_estimators=451;, score=(train=0.812, test=0.742) total time=  18.4s\n",
      "[CV 1/5; 5/20] START rfc__max_depth=41, rfc__n_estimators=101...................\n",
      "[CV 1/5; 5/20] END rfc__max_depth=41, rfc__n_estimators=101;, score=(train=0.829, test=0.756) total time=   5.2s\n",
      "[CV 2/5; 5/20] START rfc__max_depth=41, rfc__n_estimators=101...................\n",
      "[CV 2/5; 5/20] END rfc__max_depth=41, rfc__n_estimators=101;, score=(train=0.831, test=0.751) total time=   5.3s\n",
      "[CV 3/5; 5/20] START rfc__max_depth=41, rfc__n_estimators=101...................\n",
      "[CV 3/5; 5/20] END rfc__max_depth=41, rfc__n_estimators=101;, score=(train=0.834, test=0.757) total time=   5.3s\n",
      "[CV 4/5; 5/20] START rfc__max_depth=41, rfc__n_estimators=101...................\n",
      "[CV 4/5; 5/20] END rfc__max_depth=41, rfc__n_estimators=101;, score=(train=0.831, test=0.751) total time=   5.2s\n",
      "[CV 5/5; 5/20] START rfc__max_depth=41, rfc__n_estimators=101...................\n",
      "[CV 5/5; 5/20] END rfc__max_depth=41, rfc__n_estimators=101;, score=(train=0.824, test=0.748) total time=   5.2s\n",
      "[CV 1/5; 6/20] START rfc__max_depth=46, rfc__n_estimators=101...................\n",
      "[CV 1/5; 6/20] END rfc__max_depth=46, rfc__n_estimators=101;, score=(train=0.849, test=0.775) total time=   6.0s\n",
      "[CV 2/5; 6/20] START rfc__max_depth=46, rfc__n_estimators=101...................\n",
      "[CV 2/5; 6/20] END rfc__max_depth=46, rfc__n_estimators=101;, score=(train=0.851, test=0.770) total time=   6.1s\n",
      "[CV 3/5; 6/20] START rfc__max_depth=46, rfc__n_estimators=101...................\n",
      "[CV 3/5; 6/20] END rfc__max_depth=46, rfc__n_estimators=101;, score=(train=0.853, test=0.769) total time=   6.3s\n",
      "[CV 4/5; 6/20] START rfc__max_depth=46, rfc__n_estimators=101...................\n",
      "[CV 4/5; 6/20] END rfc__max_depth=46, rfc__n_estimators=101;, score=(train=0.847, test=0.766) total time=   6.0s\n",
      "[CV 5/5; 6/20] START rfc__max_depth=46, rfc__n_estimators=101...................\n",
      "[CV 5/5; 6/20] END rfc__max_depth=46, rfc__n_estimators=101;, score=(train=0.847, test=0.763) total time=   6.1s\n",
      "[CV 1/5; 7/20] START rfc__max_depth=41, rfc__n_estimators=151...................\n",
      "[CV 1/5; 7/20] END rfc__max_depth=41, rfc__n_estimators=151;, score=(train=0.835, test=0.761) total time=   7.5s\n",
      "[CV 2/5; 7/20] START rfc__max_depth=41, rfc__n_estimators=151...................\n",
      "[CV 2/5; 7/20] END rfc__max_depth=41, rfc__n_estimators=151;, score=(train=0.833, test=0.761) total time=   7.5s\n",
      "[CV 3/5; 7/20] START rfc__max_depth=41, rfc__n_estimators=151...................\n",
      "[CV 3/5; 7/20] END rfc__max_depth=41, rfc__n_estimators=151;, score=(train=0.832, test=0.754) total time=   7.7s\n",
      "[CV 4/5; 7/20] START rfc__max_depth=41, rfc__n_estimators=151...................\n",
      "[CV 4/5; 7/20] END rfc__max_depth=41, rfc__n_estimators=151;, score=(train=0.833, test=0.754) total time=   7.6s\n",
      "[CV 5/5; 7/20] START rfc__max_depth=41, rfc__n_estimators=151...................\n",
      "[CV 5/5; 7/20] END rfc__max_depth=41, rfc__n_estimators=151;, score=(train=0.828, test=0.749) total time=   7.6s\n",
      "[CV 1/5; 8/20] START rfc__max_depth=41, rfc__n_estimators=201...................\n",
      "[CV 1/5; 8/20] END rfc__max_depth=41, rfc__n_estimators=201;, score=(train=0.837, test=0.761) total time=   9.9s\n",
      "[CV 2/5; 8/20] START rfc__max_depth=41, rfc__n_estimators=201...................\n",
      "[CV 2/5; 8/20] END rfc__max_depth=41, rfc__n_estimators=201;, score=(train=0.835, test=0.763) total time=   9.9s\n",
      "[CV 3/5; 8/20] START rfc__max_depth=41, rfc__n_estimators=201...................\n",
      "[CV 3/5; 8/20] END rfc__max_depth=41, rfc__n_estimators=201;, score=(train=0.835, test=0.757) total time=  10.1s\n",
      "[CV 4/5; 8/20] START rfc__max_depth=41, rfc__n_estimators=201...................\n",
      "[CV 4/5; 8/20] END rfc__max_depth=41, rfc__n_estimators=201;, score=(train=0.833, test=0.756) total time=  10.0s\n",
      "[CV 5/5; 8/20] START rfc__max_depth=41, rfc__n_estimators=201...................\n",
      "[CV 5/5; 8/20] END rfc__max_depth=41, rfc__n_estimators=201;, score=(train=0.832, test=0.754) total time=  10.1s\n",
      "[CV 1/5; 9/20] START rfc__max_depth=41, rfc__n_estimators=401...................\n",
      "[CV 1/5; 9/20] END rfc__max_depth=41, rfc__n_estimators=401;, score=(train=0.840, test=0.763) total time=  19.5s\n",
      "[CV 2/5; 9/20] START rfc__max_depth=41, rfc__n_estimators=401...................\n",
      "[CV 2/5; 9/20] END rfc__max_depth=41, rfc__n_estimators=401;, score=(train=0.839, test=0.766) total time=  19.7s\n",
      "[CV 3/5; 9/20] START rfc__max_depth=41, rfc__n_estimators=401...................\n",
      "[CV 3/5; 9/20] END rfc__max_depth=41, rfc__n_estimators=401;, score=(train=0.840, test=0.764) total time=  20.1s\n",
      "[CV 4/5; 9/20] START rfc__max_depth=41, rfc__n_estimators=401...................\n",
      "[CV 4/5; 9/20] END rfc__max_depth=41, rfc__n_estimators=401;, score=(train=0.838, test=0.762) total time=  19.7s\n",
      "[CV 5/5; 9/20] START rfc__max_depth=41, rfc__n_estimators=401...................\n",
      "[CV 5/5; 9/20] END rfc__max_depth=41, rfc__n_estimators=401;, score=(train=0.836, test=0.758) total time=  19.6s\n",
      "[CV 1/5; 10/20] START rfc__max_depth=41, rfc__n_estimators=251..................\n",
      "[CV 1/5; 10/20] END rfc__max_depth=41, rfc__n_estimators=251;, score=(train=0.839, test=0.764) total time=  12.6s\n",
      "[CV 2/5; 10/20] START rfc__max_depth=41, rfc__n_estimators=251..................\n",
      "[CV 2/5; 10/20] END rfc__max_depth=41, rfc__n_estimators=251;, score=(train=0.837, test=0.764) total time=  13.0s\n",
      "[CV 3/5; 10/20] START rfc__max_depth=41, rfc__n_estimators=251..................\n",
      "[CV 3/5; 10/20] END rfc__max_depth=41, rfc__n_estimators=251;, score=(train=0.837, test=0.761) total time=  12.6s\n",
      "[CV 4/5; 10/20] START rfc__max_depth=41, rfc__n_estimators=251..................\n",
      "[CV 4/5; 10/20] END rfc__max_depth=41, rfc__n_estimators=251;, score=(train=0.835, test=0.760) total time=  12.4s\n",
      "[CV 5/5; 10/20] START rfc__max_depth=41, rfc__n_estimators=251..................\n",
      "[CV 5/5; 10/20] END rfc__max_depth=41, rfc__n_estimators=251;, score=(train=0.835, test=0.757) total time=  12.5s\n",
      "[CV 1/5; 11/20] START rfc__max_depth=41, rfc__n_estimators=351..................\n",
      "[CV 1/5; 11/20] END rfc__max_depth=41, rfc__n_estimators=351;, score=(train=0.838, test=0.764) total time=  17.2s\n",
      "[CV 2/5; 11/20] START rfc__max_depth=41, rfc__n_estimators=351..................\n",
      "[CV 2/5; 11/20] END rfc__max_depth=41, rfc__n_estimators=351;, score=(train=0.838, test=0.767) total time=  17.4s\n",
      "[CV 3/5; 11/20] START rfc__max_depth=41, rfc__n_estimators=351..................\n",
      "[CV 3/5; 11/20] END rfc__max_depth=41, rfc__n_estimators=351;, score=(train=0.839, test=0.764) total time=  17.5s\n",
      "[CV 4/5; 11/20] START rfc__max_depth=41, rfc__n_estimators=351..................\n",
      "[CV 4/5; 11/20] END rfc__max_depth=41, rfc__n_estimators=351;, score=(train=0.837, test=0.761) total time=  17.3s\n",
      "[CV 5/5; 11/20] START rfc__max_depth=41, rfc__n_estimators=351..................\n",
      "[CV 5/5; 11/20] END rfc__max_depth=41, rfc__n_estimators=351;, score=(train=0.834, test=0.756) total time=  17.2s\n",
      "[CV 1/5; 12/20] START rfc__max_depth=41, rfc__n_estimators=301..................\n",
      "[CV 1/5; 12/20] END rfc__max_depth=41, rfc__n_estimators=301;, score=(train=0.839, test=0.765) total time=  14.8s\n",
      "[CV 2/5; 12/20] START rfc__max_depth=41, rfc__n_estimators=301..................\n",
      "[CV 2/5; 12/20] END rfc__max_depth=41, rfc__n_estimators=301;, score=(train=0.838, test=0.766) total time=  14.9s\n",
      "[CV 3/5; 12/20] START rfc__max_depth=41, rfc__n_estimators=301..................\n",
      "[CV 3/5; 12/20] END rfc__max_depth=41, rfc__n_estimators=301;, score=(train=0.839, test=0.763) total time=  15.2s\n",
      "[CV 4/5; 12/20] START rfc__max_depth=41, rfc__n_estimators=301..................\n",
      "[CV 4/5; 12/20] END rfc__max_depth=41, rfc__n_estimators=301;, score=(train=0.837, test=0.760) total time=  14.9s\n",
      "[CV 5/5; 12/20] START rfc__max_depth=41, rfc__n_estimators=301..................\n",
      "[CV 5/5; 12/20] END rfc__max_depth=41, rfc__n_estimators=301;, score=(train=0.833, test=0.756) total time=  15.1s\n",
      "[CV 1/5; 13/20] START rfc__max_depth=41, rfc__n_estimators=451..................\n",
      "[CV 1/5; 13/20] END rfc__max_depth=41, rfc__n_estimators=451;, score=(train=0.840, test=0.763) total time=  22.2s\n",
      "[CV 2/5; 13/20] START rfc__max_depth=41, rfc__n_estimators=451..................\n",
      "[CV 2/5; 13/20] END rfc__max_depth=41, rfc__n_estimators=451;, score=(train=0.839, test=0.766) total time=  22.3s\n",
      "[CV 3/5; 13/20] START rfc__max_depth=41, rfc__n_estimators=451..................\n",
      "[CV 3/5; 13/20] END rfc__max_depth=41, rfc__n_estimators=451;, score=(train=0.840, test=0.764) total time=  22.5s\n",
      "[CV 4/5; 13/20] START rfc__max_depth=41, rfc__n_estimators=451..................\n",
      "[CV 4/5; 13/20] END rfc__max_depth=41, rfc__n_estimators=451;, score=(train=0.837, test=0.761) total time=  22.3s\n",
      "[CV 5/5; 13/20] START rfc__max_depth=41, rfc__n_estimators=451..................\n",
      "[CV 5/5; 13/20] END rfc__max_depth=41, rfc__n_estimators=451;, score=(train=0.836, test=0.760) total time=  22.2s\n",
      "[CV 1/5; 14/20] START rfc__max_depth=46, rfc__n_estimators=151..................\n",
      "[CV 1/5; 14/20] END rfc__max_depth=46, rfc__n_estimators=151;, score=(train=0.851, test=0.778) total time=   8.9s\n",
      "[CV 2/5; 14/20] START rfc__max_depth=46, rfc__n_estimators=151..................\n",
      "[CV 2/5; 14/20] END rfc__max_depth=46, rfc__n_estimators=151;, score=(train=0.852, test=0.775) total time=   9.0s\n",
      "[CV 3/5; 14/20] START rfc__max_depth=46, rfc__n_estimators=151..................\n",
      "[CV 3/5; 14/20] END rfc__max_depth=46, rfc__n_estimators=151;, score=(train=0.851, test=0.771) total time=   9.1s\n",
      "[CV 4/5; 14/20] START rfc__max_depth=46, rfc__n_estimators=151..................\n",
      "[CV 4/5; 14/20] END rfc__max_depth=46, rfc__n_estimators=151;, score=(train=0.850, test=0.770) total time=   8.9s\n",
      "[CV 5/5; 14/20] START rfc__max_depth=46, rfc__n_estimators=151..................\n",
      "[CV 5/5; 14/20] END rfc__max_depth=46, rfc__n_estimators=151;, score=(train=0.849, test=0.769) total time=   9.0s\n",
      "[CV 1/5; 15/20] START rfc__max_depth=46, rfc__n_estimators=201..................\n",
      "[CV 1/5; 15/20] END rfc__max_depth=46, rfc__n_estimators=201;, score=(train=0.855, test=0.778) total time=  11.7s\n",
      "[CV 2/5; 15/20] START rfc__max_depth=46, rfc__n_estimators=201..................\n",
      "[CV 2/5; 15/20] END rfc__max_depth=46, rfc__n_estimators=201;, score=(train=0.854, test=0.778) total time=  11.8s\n",
      "[CV 3/5; 15/20] START rfc__max_depth=46, rfc__n_estimators=201..................\n",
      "[CV 3/5; 15/20] END rfc__max_depth=46, rfc__n_estimators=201;, score=(train=0.853, test=0.772) total time=  12.1s\n",
      "[CV 4/5; 15/20] START rfc__max_depth=46, rfc__n_estimators=201..................\n",
      "[CV 4/5; 15/20] END rfc__max_depth=46, rfc__n_estimators=201;, score=(train=0.849, test=0.771) total time=  11.7s\n",
      "[CV 5/5; 15/20] START rfc__max_depth=46, rfc__n_estimators=201..................\n",
      "[CV 5/5; 15/20] END rfc__max_depth=46, rfc__n_estimators=201;, score=(train=0.851, test=0.771) total time=  11.8s\n",
      "[CV 1/5; 16/20] START rfc__max_depth=46, rfc__n_estimators=251..................\n",
      "[CV 1/5; 16/20] END rfc__max_depth=46, rfc__n_estimators=251;, score=(train=0.855, test=0.780) total time=  14.7s\n",
      "[CV 2/5; 16/20] START rfc__max_depth=46, rfc__n_estimators=251..................\n",
      "[CV 2/5; 16/20] END rfc__max_depth=46, rfc__n_estimators=251;, score=(train=0.855, test=0.780) total time=  14.7s\n",
      "[CV 3/5; 16/20] START rfc__max_depth=46, rfc__n_estimators=251..................\n",
      "[CV 3/5; 16/20] END rfc__max_depth=46, rfc__n_estimators=251;, score=(train=0.854, test=0.775) total time=  15.0s\n",
      "[CV 4/5; 16/20] START rfc__max_depth=46, rfc__n_estimators=251..................\n",
      "[CV 4/5; 16/20] END rfc__max_depth=46, rfc__n_estimators=251;, score=(train=0.850, test=0.772) total time=  14.7s\n",
      "[CV 5/5; 16/20] START rfc__max_depth=46, rfc__n_estimators=251..................\n",
      "[CV 5/5; 16/20] END rfc__max_depth=46, rfc__n_estimators=251;, score=(train=0.849, test=0.770) total time=  14.7s\n",
      "[CV 1/5; 17/20] START rfc__max_depth=46, rfc__n_estimators=301..................\n",
      "[CV 1/5; 17/20] END rfc__max_depth=46, rfc__n_estimators=301;, score=(train=0.855, test=0.780) total time=  17.4s\n",
      "[CV 2/5; 17/20] START rfc__max_depth=46, rfc__n_estimators=301..................\n",
      "[CV 2/5; 17/20] END rfc__max_depth=46, rfc__n_estimators=301;, score=(train=0.854, test=0.777) total time=  17.6s\n",
      "[CV 3/5; 17/20] START rfc__max_depth=46, rfc__n_estimators=301..................\n",
      "[CV 3/5; 17/20] END rfc__max_depth=46, rfc__n_estimators=301;, score=(train=0.856, test=0.776) total time=  17.9s\n",
      "[CV 4/5; 17/20] START rfc__max_depth=46, rfc__n_estimators=301..................\n",
      "[CV 4/5; 17/20] END rfc__max_depth=46, rfc__n_estimators=301;, score=(train=0.851, test=0.773) total time=  17.5s\n",
      "[CV 5/5; 17/20] START rfc__max_depth=46, rfc__n_estimators=301..................\n",
      "[CV 5/5; 17/20] END rfc__max_depth=46, rfc__n_estimators=301;, score=(train=0.851, test=0.772) total time=  17.5s\n",
      "[CV 1/5; 18/20] START rfc__max_depth=46, rfc__n_estimators=351..................\n",
      "[CV 1/5; 18/20] END rfc__max_depth=46, rfc__n_estimators=351;, score=(train=0.856, test=0.780) total time=  20.2s\n",
      "[CV 2/5; 18/20] START rfc__max_depth=46, rfc__n_estimators=351..................\n",
      "[CV 2/5; 18/20] END rfc__max_depth=46, rfc__n_estimators=351;, score=(train=0.856, test=0.780) total time=  20.4s\n",
      "[CV 3/5; 18/20] START rfc__max_depth=46, rfc__n_estimators=351..................\n",
      "[CV 3/5; 18/20] END rfc__max_depth=46, rfc__n_estimators=351;, score=(train=0.857, test=0.778) total time=  20.8s\n",
      "[CV 4/5; 18/20] START rfc__max_depth=46, rfc__n_estimators=351..................\n",
      "[CV 4/5; 18/20] END rfc__max_depth=46, rfc__n_estimators=351;, score=(train=0.852, test=0.774) total time=  20.3s\n",
      "[CV 5/5; 18/20] START rfc__max_depth=46, rfc__n_estimators=351..................\n",
      "[CV 5/5; 18/20] END rfc__max_depth=46, rfc__n_estimators=351;, score=(train=0.851, test=0.772) total time=  20.5s\n",
      "[CV 1/5; 19/20] START rfc__max_depth=46, rfc__n_estimators=401..................\n",
      "[CV 1/5; 19/20] END rfc__max_depth=46, rfc__n_estimators=401;, score=(train=0.856, test=0.781) total time=  23.1s\n",
      "[CV 2/5; 19/20] START rfc__max_depth=46, rfc__n_estimators=401..................\n",
      "[CV 2/5; 19/20] END rfc__max_depth=46, rfc__n_estimators=401;, score=(train=0.855, test=0.780) total time=  23.4s\n",
      "[CV 3/5; 19/20] START rfc__max_depth=46, rfc__n_estimators=401..................\n",
      "[CV 3/5; 19/20] END rfc__max_depth=46, rfc__n_estimators=401;, score=(train=0.857, test=0.778) total time=  23.9s\n",
      "[CV 4/5; 19/20] START rfc__max_depth=46, rfc__n_estimators=401..................\n",
      "[CV 4/5; 19/20] END rfc__max_depth=46, rfc__n_estimators=401;, score=(train=0.852, test=0.773) total time=  23.2s\n",
      "[CV 5/5; 19/20] START rfc__max_depth=46, rfc__n_estimators=401..................\n",
      "[CV 5/5; 19/20] END rfc__max_depth=46, rfc__n_estimators=401;, score=(train=0.851, test=0.772) total time=  23.2s\n",
      "[CV 1/5; 20/20] START rfc__max_depth=46, rfc__n_estimators=451..................\n",
      "[CV 1/5; 20/20] END rfc__max_depth=46, rfc__n_estimators=451;, score=(train=0.856, test=0.780) total time=  25.9s\n",
      "[CV 2/5; 20/20] START rfc__max_depth=46, rfc__n_estimators=451..................\n",
      "[CV 2/5; 20/20] END rfc__max_depth=46, rfc__n_estimators=451;, score=(train=0.854, test=0.779) total time=  26.3s\n",
      "[CV 3/5; 20/20] START rfc__max_depth=46, rfc__n_estimators=451..................\n",
      "[CV 3/5; 20/20] END rfc__max_depth=46, rfc__n_estimators=451;, score=(train=0.857, test=0.779) total time=  28.9s\n",
      "[CV 4/5; 20/20] START rfc__max_depth=46, rfc__n_estimators=451..................\n",
      "[CV 4/5; 20/20] END rfc__max_depth=46, rfc__n_estimators=451;, score=(train=0.854, test=0.776) total time=  26.1s\n",
      "[CV 5/5; 20/20] START rfc__max_depth=46, rfc__n_estimators=451..................\n",
      "[CV 5/5; 20/20] END rfc__max_depth=46, rfc__n_estimators=451;, score=(train=0.851, test=0.773) total time=  26.3s\n",
      "----------\n",
      "iter: 2\n",
      "n_candidates: 4\n",
      "n_resources: 290350\n",
      "Fitting 5 folds for each of 4 candidates, totalling 20 fits\n",
      "[CV 1/5; 1/4] START rfc__max_depth=46, rfc__n_estimators=301....................\n",
      "[CV 1/5; 1/4] END rfc__max_depth=46, rfc__n_estimators=301;, score=(train=0.840, test=0.822) total time= 2.0min\n",
      "[CV 2/5; 1/4] START rfc__max_depth=46, rfc__n_estimators=301....................\n",
      "[CV 2/5; 1/4] END rfc__max_depth=46, rfc__n_estimators=301;, score=(train=0.840, test=0.825) total time= 2.0min\n",
      "[CV 3/5; 1/4] START rfc__max_depth=46, rfc__n_estimators=301....................\n",
      "[CV 3/5; 1/4] END rfc__max_depth=46, rfc__n_estimators=301;, score=(train=0.843, test=0.825) total time= 2.0min\n",
      "[CV 4/5; 1/4] START rfc__max_depth=46, rfc__n_estimators=301....................\n",
      "[CV 4/5; 1/4] END rfc__max_depth=46, rfc__n_estimators=301;, score=(train=0.839, test=0.820) total time= 2.0min\n",
      "[CV 5/5; 1/4] START rfc__max_depth=46, rfc__n_estimators=301....................\n",
      "[CV 5/5; 1/4] END rfc__max_depth=46, rfc__n_estimators=301;, score=(train=0.842, test=0.823) total time= 2.0min\n",
      "[CV 1/5; 2/4] START rfc__max_depth=46, rfc__n_estimators=351....................\n",
      "[CV 1/5; 2/4] END rfc__max_depth=46, rfc__n_estimators=351;, score=(train=0.841, test=0.822) total time= 2.3min\n",
      "[CV 2/5; 2/4] START rfc__max_depth=46, rfc__n_estimators=351....................\n",
      "[CV 2/5; 2/4] END rfc__max_depth=46, rfc__n_estimators=351;, score=(train=0.841, test=0.825) total time= 2.4min\n",
      "[CV 3/5; 2/4] START rfc__max_depth=46, rfc__n_estimators=351....................\n",
      "[CV 3/5; 2/4] END rfc__max_depth=46, rfc__n_estimators=351;, score=(train=0.843, test=0.826) total time= 2.4min\n",
      "[CV 4/5; 2/4] START rfc__max_depth=46, rfc__n_estimators=351....................\n",
      "[CV 4/5; 2/4] END rfc__max_depth=46, rfc__n_estimators=351;, score=(train=0.839, test=0.821) total time= 2.4min\n",
      "[CV 5/5; 2/4] START rfc__max_depth=46, rfc__n_estimators=351....................\n",
      "[CV 5/5; 2/4] END rfc__max_depth=46, rfc__n_estimators=351;, score=(train=0.841, test=0.822) total time= 2.3min\n",
      "[CV 1/5; 3/4] START rfc__max_depth=46, rfc__n_estimators=401....................\n",
      "[CV 1/5; 3/4] END rfc__max_depth=46, rfc__n_estimators=401;, score=(train=0.841, test=0.821) total time= 2.7min\n",
      "[CV 2/5; 3/4] START rfc__max_depth=46, rfc__n_estimators=401....................\n",
      "[CV 2/5; 3/4] END rfc__max_depth=46, rfc__n_estimators=401;, score=(train=0.841, test=0.824) total time= 2.7min\n",
      "[CV 3/5; 3/4] START rfc__max_depth=46, rfc__n_estimators=401....................\n",
      "[CV 3/5; 3/4] END rfc__max_depth=46, rfc__n_estimators=401;, score=(train=0.842, test=0.824) total time= 2.7min\n",
      "[CV 4/5; 3/4] START rfc__max_depth=46, rfc__n_estimators=401....................\n",
      "[CV 4/5; 3/4] END rfc__max_depth=46, rfc__n_estimators=401;, score=(train=0.838, test=0.820) total time= 2.7min\n",
      "[CV 5/5; 3/4] START rfc__max_depth=46, rfc__n_estimators=401....................\n",
      "[CV 5/5; 3/4] END rfc__max_depth=46, rfc__n_estimators=401;, score=(train=0.841, test=0.822) total time= 2.7min\n",
      "[CV 1/5; 4/4] START rfc__max_depth=46, rfc__n_estimators=451....................\n",
      "[CV 1/5; 4/4] END rfc__max_depth=46, rfc__n_estimators=451;, score=(train=0.841, test=0.821) total time= 3.0min\n",
      "[CV 2/5; 4/4] START rfc__max_depth=46, rfc__n_estimators=451....................\n",
      "[CV 2/5; 4/4] END rfc__max_depth=46, rfc__n_estimators=451;, score=(train=0.839, test=0.823) total time= 3.0min\n",
      "[CV 3/5; 4/4] START rfc__max_depth=46, rfc__n_estimators=451....................\n",
      "[CV 3/5; 4/4] END rfc__max_depth=46, rfc__n_estimators=451;, score=(train=0.842, test=0.824) total time= 3.1min\n",
      "[CV 4/5; 4/4] START rfc__max_depth=46, rfc__n_estimators=451....................\n",
      "[CV 4/5; 4/4] END rfc__max_depth=46, rfc__n_estimators=451;, score=(train=0.840, test=0.822) total time= 3.0min\n",
      "[CV 5/5; 4/4] START rfc__max_depth=46, rfc__n_estimators=451....................\n",
      "[CV 5/5; 4/4] END rfc__max_depth=46, rfc__n_estimators=451;, score=(train=0.841, test=0.821) total time= 3.0min\n",
      "0.823059969030177\n",
      "{'rfc__max_depth': 46, 'rfc__n_estimators': 351}\n"
     ]
    }
   ],
   "source": [
    "from sklearn.ensemble import RandomForestClassifier\n",
    "from sklearn.metrics import make_scorer\n",
    "from sklearn.metrics import f1_score\n",
    "from sklearn.experimental import enable_halving_search_cv\n",
    "from sklearn.model_selection import HalvingGridSearchCV\n",
    "from imblearn.over_sampling import RandomOverSampler\n",
    "from imblearn.pipeline import Pipeline\n",
    "\n",
    "\n",
    "rfc = RandomForestClassifier(random_state=0, n_jobs=-1)\n",
    "\n",
    "rfcgrid = {\n",
    "    'rfc__max_depth' : list(range(1,50,5)),\n",
    "    'rfc__n_estimators' : list(range(1,500,50)),\n",
    "}\n",
    "\n",
    "f1 = make_scorer(f1_score, average='macro') \n",
    "\n",
    "imba_pipe_rfc = Pipeline([\n",
    "    ('sampling', RandomOverSampler(random_state=0)), \n",
    "    ('rfc', rfc)\n",
    "    ])\n",
    "\n",
    "\n",
    "rfcrs = HalvingGridSearchCV(estimator=imba_pipe_rfc, param_grid=rfcgrid, factor=5, cv=5, scoring=f1, verbose=10)\n",
    "\n",
    "rfcrs.fit(x_trainvec, y_train.to_numpy().ravel())\n",
    "\n",
    "print(rfcrs.best_score_)\n",
    "print(rfcrs.best_params_)"
   ]
  },
  {
   "cell_type": "markdown",
   "metadata": {},
   "source": [
    "### RFC Validation Set Evaluation"
   ]
  },
  {
   "cell_type": "code",
   "execution_count": 26,
   "metadata": {},
   "outputs": [
    {
     "name": "stdout",
     "output_type": "stream",
     "text": [
      "{'rfc__max_depth': 46, 'rfc__n_estimators': 351}\n"
     ]
    }
   ],
   "source": [
    "print(rfcrs.best_params_)\n",
    "\n",
    "rfcrs.best_params_['max_depth']=rfcrs.best_params_['rfc__max_depth']\n",
    "rfcrs.best_params_['n_estimators']=rfcrs.best_params_['rfc__n_estimators']"
   ]
  },
  {
   "cell_type": "code",
   "execution_count": 28,
   "metadata": {},
   "outputs": [
    {
     "name": "stdout",
     "output_type": "stream",
     "text": [
      "{'rfc__max_depth': 46, 'rfc__n_estimators': 351, 'max_depth': 46, 'n_estimators': 351}\n"
     ]
    }
   ],
   "source": [
    "del rfcrs.best_params_['rfc__max_depth']\n",
    "del rfcrs.best_params_['rfc__n_estimators']"
   ]
  },
  {
   "cell_type": "code",
   "execution_count": 29,
   "metadata": {},
   "outputs": [
    {
     "name": "stdout",
     "output_type": "stream",
     "text": [
      "{'max_depth': 46, 'n_estimators': 351}\n"
     ]
    }
   ],
   "source": [
    "print(rfcrs.best_params_)"
   ]
  },
  {
   "cell_type": "code",
   "execution_count": 31,
   "metadata": {},
   "outputs": [
    {
     "name": "stdout",
     "output_type": "stream",
     "text": [
      "RFC Validation Train Accuracy Score : 0.8387842521040962\n",
      "RFC Validation Test Accuracy Score : 0.755080285162236\n",
      "RFC Validation Train F1 Score : 0.8457918333291445\n",
      "RFC Validation Test F1 Score : 0.41752657993717734\n",
      "RFC Validation Confusion matrix:\n",
      "[[   86     4     7    14   126]\n",
      " [   27    36    25    36   109]\n",
      " [   21     4   143   175   362]\n",
      " [   16     0    61   671  1471]\n",
      " [   86     1    84  1047 10397]]\n",
      "RFC Validation Classification report:\n",
      "               precision    recall  f1-score   support\n",
      "\n",
      "           1       0.36      0.36      0.36       237\n",
      "           2       0.80      0.15      0.26       233\n",
      "           3       0.45      0.20      0.28       705\n",
      "           4       0.35      0.30      0.32      2219\n",
      "           5       0.83      0.90      0.86     11615\n",
      "\n",
      "    accuracy                           0.76     15009\n",
      "   macro avg       0.56      0.38      0.42     15009\n",
      "weighted avg       0.74      0.76      0.74     15009\n",
      "\n"
     ]
    }
   ],
   "source": [
    "best_rfc_model_val = RandomForestClassifier(random_state=0, n_jobs=3).set_params(**rfcrs.best_params_)\n",
    "best_rfc_model_test = RandomForestClassifier(random_state=0, n_jobs=3).set_params(**rfcrs.best_params_)\n",
    "\n",
    "best_rfc_model_val.fit(x_val_trainvec, y_val_train.to_numpy().ravel())\n",
    "best_rfc_model_test.fit(x_trainvec, y_train.to_numpy().ravel())\n",
    "\n",
    "rfc_val_train_predictions = best_rfc_model_val.predict(x_val_trainvec)\n",
    "rfc_val_test_predictions = best_rfc_model_val.predict(x_val_testvec)\n",
    "rfc_test_predictions = best_rfc_model_test.predict(x_testvec)\n",
    "\n",
    "print(\"RFC Validation Train Accuracy Score :\",accuracy_score(y_pred=rfc_val_train_predictions, y_true=y_val_train.to_numpy().ravel()))\n",
    "print(\"RFC Validation Test Accuracy Score :\",accuracy_score(y_pred=rfc_val_test_predictions, y_true= y_val_test.to_numpy().ravel()))\n",
    "\n",
    "print(\"RFC Validation Train F1 Score :\",f1_score(y_pred=rfc_val_train_predictions, y_true=y_val_train.to_numpy().ravel(), average = 'macro'))\n",
    "print(\"RFC Validation Test F1 Score :\",f1_score(y_pred=rfc_val_test_predictions, y_true=y_val_test.to_numpy().ravel(), average = 'macro'))\n",
    "\n",
    "print(\"RFC Validation Confusion matrix:\\n{}\".format(confusion_matrix(y_pred=rfc_val_test_predictions, y_true=y_val_test.to_numpy().ravel())))\n",
    "print(\"RFC Validation Classification report:\\n\",classification_report(y_pred=rfc_val_test_predictions, y_true= y_val_test.to_numpy().ravel()))"
   ]
  },
  {
   "cell_type": "markdown",
   "metadata": {},
   "source": [
    "### Multinomial Naive Bayes Classifier"
   ]
  },
  {
   "cell_type": "markdown",
   "metadata": {},
   "source": [
    "A sklearn Multinomial Naive Bayes Classifier simply hyperparameter tuned with sklearn's Grid Search Cross Validation with similarly oversampled Validation Train Set for each stratified Cross Validation split."
   ]
  },
  {
   "cell_type": "code",
   "execution_count": 32,
   "metadata": {},
   "outputs": [
    {
     "name": "stdout",
     "output_type": "stream",
     "text": [
      "Fitting 5 folds for each of 20 candidates, totalling 100 fits\n",
      "[CV 1/5; 1/20] START mnbc__alpha=0.1, mnbc__fit_prior=True......................\n",
      "[CV 1/5; 1/20] END mnbc__alpha=0.1, mnbc__fit_prior=True;, score=0.732 total time=   0.2s\n",
      "[CV 2/5; 1/20] START mnbc__alpha=0.1, mnbc__fit_prior=True......................\n",
      "[CV 2/5; 1/20] END mnbc__alpha=0.1, mnbc__fit_prior=True;, score=0.734 total time=   0.1s\n",
      "[CV 3/5; 1/20] START mnbc__alpha=0.1, mnbc__fit_prior=True......................\n",
      "[CV 3/5; 1/20] END mnbc__alpha=0.1, mnbc__fit_prior=True;, score=0.730 total time=   0.1s\n",
      "[CV 4/5; 1/20] START mnbc__alpha=0.1, mnbc__fit_prior=True......................\n",
      "[CV 4/5; 1/20] END mnbc__alpha=0.1, mnbc__fit_prior=True;, score=0.732 total time=   0.1s\n",
      "[CV 5/5; 1/20] START mnbc__alpha=0.1, mnbc__fit_prior=True......................\n",
      "[CV 5/5; 1/20] END mnbc__alpha=0.1, mnbc__fit_prior=True;, score=0.730 total time=   0.1s\n",
      "[CV 1/5; 2/20] START mnbc__alpha=0.1, mnbc__fit_prior=False.....................\n",
      "[CV 1/5; 2/20] END mnbc__alpha=0.1, mnbc__fit_prior=False;, score=0.732 total time=   0.1s\n",
      "[CV 2/5; 2/20] START mnbc__alpha=0.1, mnbc__fit_prior=False.....................\n",
      "[CV 2/5; 2/20] END mnbc__alpha=0.1, mnbc__fit_prior=False;, score=0.734 total time=   0.1s\n",
      "[CV 3/5; 2/20] START mnbc__alpha=0.1, mnbc__fit_prior=False.....................\n",
      "[CV 3/5; 2/20] END mnbc__alpha=0.1, mnbc__fit_prior=False;, score=0.730 total time=   0.1s\n",
      "[CV 4/5; 2/20] START mnbc__alpha=0.1, mnbc__fit_prior=False.....................\n",
      "[CV 4/5; 2/20] END mnbc__alpha=0.1, mnbc__fit_prior=False;, score=0.732 total time=   0.2s\n",
      "[CV 5/5; 2/20] START mnbc__alpha=0.1, mnbc__fit_prior=False.....................\n",
      "[CV 5/5; 2/20] END mnbc__alpha=0.1, mnbc__fit_prior=False;, score=0.730 total time=   0.1s\n",
      "[CV 1/5; 3/20] START mnbc__alpha=0.2, mnbc__fit_prior=True......................\n",
      "[CV 1/5; 3/20] END mnbc__alpha=0.2, mnbc__fit_prior=True;, score=0.729 total time=   0.1s\n",
      "[CV 2/5; 3/20] START mnbc__alpha=0.2, mnbc__fit_prior=True......................\n",
      "[CV 2/5; 3/20] END mnbc__alpha=0.2, mnbc__fit_prior=True;, score=0.731 total time=   0.1s\n",
      "[CV 3/5; 3/20] START mnbc__alpha=0.2, mnbc__fit_prior=True......................\n",
      "[CV 3/5; 3/20] END mnbc__alpha=0.2, mnbc__fit_prior=True;, score=0.728 total time=   0.1s\n",
      "[CV 4/5; 3/20] START mnbc__alpha=0.2, mnbc__fit_prior=True......................\n",
      "[CV 4/5; 3/20] END mnbc__alpha=0.2, mnbc__fit_prior=True;, score=0.730 total time=   0.1s\n",
      "[CV 5/5; 3/20] START mnbc__alpha=0.2, mnbc__fit_prior=True......................\n",
      "[CV 5/5; 3/20] END mnbc__alpha=0.2, mnbc__fit_prior=True;, score=0.728 total time=   0.1s\n",
      "[CV 1/5; 4/20] START mnbc__alpha=0.2, mnbc__fit_prior=False.....................\n",
      "[CV 1/5; 4/20] END mnbc__alpha=0.2, mnbc__fit_prior=False;, score=0.729 total time=   0.1s\n",
      "[CV 2/5; 4/20] START mnbc__alpha=0.2, mnbc__fit_prior=False.....................\n",
      "[CV 2/5; 4/20] END mnbc__alpha=0.2, mnbc__fit_prior=False;, score=0.731 total time=   0.1s\n",
      "[CV 3/5; 4/20] START mnbc__alpha=0.2, mnbc__fit_prior=False.....................\n",
      "[CV 3/5; 4/20] END mnbc__alpha=0.2, mnbc__fit_prior=False;, score=0.728 total time=   0.1s\n",
      "[CV 4/5; 4/20] START mnbc__alpha=0.2, mnbc__fit_prior=False.....................\n",
      "[CV 4/5; 4/20] END mnbc__alpha=0.2, mnbc__fit_prior=False;, score=0.730 total time=   0.1s\n",
      "[CV 5/5; 4/20] START mnbc__alpha=0.2, mnbc__fit_prior=False.....................\n",
      "[CV 5/5; 4/20] END mnbc__alpha=0.2, mnbc__fit_prior=False;, score=0.728 total time=   0.1s\n",
      "[CV 1/5; 5/20] START mnbc__alpha=0.3, mnbc__fit_prior=True......................\n",
      "[CV 1/5; 5/20] END mnbc__alpha=0.3, mnbc__fit_prior=True;, score=0.728 total time=   0.1s\n",
      "[CV 2/5; 5/20] START mnbc__alpha=0.3, mnbc__fit_prior=True......................\n",
      "[CV 2/5; 5/20] END mnbc__alpha=0.3, mnbc__fit_prior=True;, score=0.729 total time=   0.1s\n",
      "[CV 3/5; 5/20] START mnbc__alpha=0.3, mnbc__fit_prior=True......................\n",
      "[CV 3/5; 5/20] END mnbc__alpha=0.3, mnbc__fit_prior=True;, score=0.726 total time=   0.2s\n",
      "[CV 4/5; 5/20] START mnbc__alpha=0.3, mnbc__fit_prior=True......................\n",
      "[CV 4/5; 5/20] END mnbc__alpha=0.3, mnbc__fit_prior=True;, score=0.727 total time=   0.1s\n",
      "[CV 5/5; 5/20] START mnbc__alpha=0.3, mnbc__fit_prior=True......................\n",
      "[CV 5/5; 5/20] END mnbc__alpha=0.3, mnbc__fit_prior=True;, score=0.725 total time=   0.1s\n",
      "[CV 1/5; 6/20] START mnbc__alpha=0.3, mnbc__fit_prior=False.....................\n",
      "[CV 1/5; 6/20] END mnbc__alpha=0.3, mnbc__fit_prior=False;, score=0.728 total time=   0.1s\n",
      "[CV 2/5; 6/20] START mnbc__alpha=0.3, mnbc__fit_prior=False.....................\n",
      "[CV 2/5; 6/20] END mnbc__alpha=0.3, mnbc__fit_prior=False;, score=0.729 total time=   0.1s\n",
      "[CV 3/5; 6/20] START mnbc__alpha=0.3, mnbc__fit_prior=False.....................\n",
      "[CV 3/5; 6/20] END mnbc__alpha=0.3, mnbc__fit_prior=False;, score=0.726 total time=   0.1s\n",
      "[CV 4/5; 6/20] START mnbc__alpha=0.3, mnbc__fit_prior=False.....................\n",
      "[CV 4/5; 6/20] END mnbc__alpha=0.3, mnbc__fit_prior=False;, score=0.727 total time=   0.1s\n",
      "[CV 5/5; 6/20] START mnbc__alpha=0.3, mnbc__fit_prior=False.....................\n",
      "[CV 5/5; 6/20] END mnbc__alpha=0.3, mnbc__fit_prior=False;, score=0.725 total time=   0.1s\n",
      "[CV 1/5; 7/20] START mnbc__alpha=0.4, mnbc__fit_prior=True......................\n",
      "[CV 1/5; 7/20] END mnbc__alpha=0.4, mnbc__fit_prior=True;, score=0.726 total time=   0.1s\n",
      "[CV 2/5; 7/20] START mnbc__alpha=0.4, mnbc__fit_prior=True......................\n",
      "[CV 2/5; 7/20] END mnbc__alpha=0.4, mnbc__fit_prior=True;, score=0.727 total time=   0.1s\n",
      "[CV 3/5; 7/20] START mnbc__alpha=0.4, mnbc__fit_prior=True......................\n",
      "[CV 3/5; 7/20] END mnbc__alpha=0.4, mnbc__fit_prior=True;, score=0.723 total time=   0.1s\n",
      "[CV 4/5; 7/20] START mnbc__alpha=0.4, mnbc__fit_prior=True......................\n",
      "[CV 4/5; 7/20] END mnbc__alpha=0.4, mnbc__fit_prior=True;, score=0.726 total time=   0.1s\n",
      "[CV 5/5; 7/20] START mnbc__alpha=0.4, mnbc__fit_prior=True......................\n",
      "[CV 5/5; 7/20] END mnbc__alpha=0.4, mnbc__fit_prior=True;, score=0.723 total time=   0.1s\n",
      "[CV 1/5; 8/20] START mnbc__alpha=0.4, mnbc__fit_prior=False.....................\n",
      "[CV 1/5; 8/20] END mnbc__alpha=0.4, mnbc__fit_prior=False;, score=0.726 total time=   0.1s\n",
      "[CV 2/5; 8/20] START mnbc__alpha=0.4, mnbc__fit_prior=False.....................\n",
      "[CV 2/5; 8/20] END mnbc__alpha=0.4, mnbc__fit_prior=False;, score=0.727 total time=   0.1s\n",
      "[CV 3/5; 8/20] START mnbc__alpha=0.4, mnbc__fit_prior=False.....................\n",
      "[CV 3/5; 8/20] END mnbc__alpha=0.4, mnbc__fit_prior=False;, score=0.723 total time=   0.1s\n",
      "[CV 4/5; 8/20] START mnbc__alpha=0.4, mnbc__fit_prior=False.....................\n",
      "[CV 4/5; 8/20] END mnbc__alpha=0.4, mnbc__fit_prior=False;, score=0.726 total time=   0.1s\n",
      "[CV 5/5; 8/20] START mnbc__alpha=0.4, mnbc__fit_prior=False.....................\n",
      "[CV 5/5; 8/20] END mnbc__alpha=0.4, mnbc__fit_prior=False;, score=0.723 total time=   0.1s\n",
      "[CV 1/5; 9/20] START mnbc__alpha=0.5, mnbc__fit_prior=True......................\n",
      "[CV 1/5; 9/20] END mnbc__alpha=0.5, mnbc__fit_prior=True;, score=0.724 total time=   0.1s\n",
      "[CV 2/5; 9/20] START mnbc__alpha=0.5, mnbc__fit_prior=True......................\n",
      "[CV 2/5; 9/20] END mnbc__alpha=0.5, mnbc__fit_prior=True;, score=0.725 total time=   0.1s\n",
      "[CV 3/5; 9/20] START mnbc__alpha=0.5, mnbc__fit_prior=True......................\n",
      "[CV 3/5; 9/20] END mnbc__alpha=0.5, mnbc__fit_prior=True;, score=0.722 total time=   0.1s\n",
      "[CV 4/5; 9/20] START mnbc__alpha=0.5, mnbc__fit_prior=True......................\n",
      "[CV 4/5; 9/20] END mnbc__alpha=0.5, mnbc__fit_prior=True;, score=0.724 total time=   0.1s\n",
      "[CV 5/5; 9/20] START mnbc__alpha=0.5, mnbc__fit_prior=True......................\n",
      "[CV 5/5; 9/20] END mnbc__alpha=0.5, mnbc__fit_prior=True;, score=0.721 total time=   0.1s\n",
      "[CV 1/5; 10/20] START mnbc__alpha=0.5, mnbc__fit_prior=False....................\n",
      "[CV 1/5; 10/20] END mnbc__alpha=0.5, mnbc__fit_prior=False;, score=0.724 total time=   0.1s\n",
      "[CV 2/5; 10/20] START mnbc__alpha=0.5, mnbc__fit_prior=False....................\n",
      "[CV 2/5; 10/20] END mnbc__alpha=0.5, mnbc__fit_prior=False;, score=0.725 total time=   0.1s\n",
      "[CV 3/5; 10/20] START mnbc__alpha=0.5, mnbc__fit_prior=False....................\n",
      "[CV 3/5; 10/20] END mnbc__alpha=0.5, mnbc__fit_prior=False;, score=0.722 total time=   0.1s\n",
      "[CV 4/5; 10/20] START mnbc__alpha=0.5, mnbc__fit_prior=False....................\n",
      "[CV 4/5; 10/20] END mnbc__alpha=0.5, mnbc__fit_prior=False;, score=0.724 total time=   0.1s\n",
      "[CV 5/5; 10/20] START mnbc__alpha=0.5, mnbc__fit_prior=False....................\n",
      "[CV 5/5; 10/20] END mnbc__alpha=0.5, mnbc__fit_prior=False;, score=0.721 total time=   0.1s\n",
      "[CV 1/5; 11/20] START mnbc__alpha=0.6, mnbc__fit_prior=True.....................\n",
      "[CV 1/5; 11/20] END mnbc__alpha=0.6, mnbc__fit_prior=True;, score=0.723 total time=   0.2s\n",
      "[CV 2/5; 11/20] START mnbc__alpha=0.6, mnbc__fit_prior=True.....................\n",
      "[CV 2/5; 11/20] END mnbc__alpha=0.6, mnbc__fit_prior=True;, score=0.723 total time=   0.1s\n",
      "[CV 3/5; 11/20] START mnbc__alpha=0.6, mnbc__fit_prior=True.....................\n",
      "[CV 3/5; 11/20] END mnbc__alpha=0.6, mnbc__fit_prior=True;, score=0.720 total time=   0.1s\n",
      "[CV 4/5; 11/20] START mnbc__alpha=0.6, mnbc__fit_prior=True.....................\n",
      "[CV 4/5; 11/20] END mnbc__alpha=0.6, mnbc__fit_prior=True;, score=0.722 total time=   0.2s\n",
      "[CV 5/5; 11/20] START mnbc__alpha=0.6, mnbc__fit_prior=True.....................\n",
      "[CV 5/5; 11/20] END mnbc__alpha=0.6, mnbc__fit_prior=True;, score=0.720 total time=   0.1s\n",
      "[CV 1/5; 12/20] START mnbc__alpha=0.6, mnbc__fit_prior=False....................\n",
      "[CV 1/5; 12/20] END mnbc__alpha=0.6, mnbc__fit_prior=False;, score=0.723 total time=   0.1s\n",
      "[CV 2/5; 12/20] START mnbc__alpha=0.6, mnbc__fit_prior=False....................\n",
      "[CV 2/5; 12/20] END mnbc__alpha=0.6, mnbc__fit_prior=False;, score=0.723 total time=   0.1s\n",
      "[CV 3/5; 12/20] START mnbc__alpha=0.6, mnbc__fit_prior=False....................\n",
      "[CV 3/5; 12/20] END mnbc__alpha=0.6, mnbc__fit_prior=False;, score=0.720 total time=   0.1s\n",
      "[CV 4/5; 12/20] START mnbc__alpha=0.6, mnbc__fit_prior=False....................\n",
      "[CV 4/5; 12/20] END mnbc__alpha=0.6, mnbc__fit_prior=False;, score=0.722 total time=   0.1s\n",
      "[CV 5/5; 12/20] START mnbc__alpha=0.6, mnbc__fit_prior=False....................\n",
      "[CV 5/5; 12/20] END mnbc__alpha=0.6, mnbc__fit_prior=False;, score=0.720 total time=   0.1s\n",
      "[CV 1/5; 13/20] START mnbc__alpha=0.7, mnbc__fit_prior=True.....................\n",
      "[CV 1/5; 13/20] END mnbc__alpha=0.7, mnbc__fit_prior=True;, score=0.721 total time=   0.1s\n",
      "[CV 2/5; 13/20] START mnbc__alpha=0.7, mnbc__fit_prior=True.....................\n",
      "[CV 2/5; 13/20] END mnbc__alpha=0.7, mnbc__fit_prior=True;, score=0.722 total time=   0.1s\n",
      "[CV 3/5; 13/20] START mnbc__alpha=0.7, mnbc__fit_prior=True.....................\n",
      "[CV 3/5; 13/20] END mnbc__alpha=0.7, mnbc__fit_prior=True;, score=0.718 total time=   0.1s\n",
      "[CV 4/5; 13/20] START mnbc__alpha=0.7, mnbc__fit_prior=True.....................\n",
      "[CV 4/5; 13/20] END mnbc__alpha=0.7, mnbc__fit_prior=True;, score=0.720 total time=   0.1s\n",
      "[CV 5/5; 13/20] START mnbc__alpha=0.7, mnbc__fit_prior=True.....................\n",
      "[CV 5/5; 13/20] END mnbc__alpha=0.7, mnbc__fit_prior=True;, score=0.718 total time=   0.1s\n",
      "[CV 1/5; 14/20] START mnbc__alpha=0.7, mnbc__fit_prior=False....................\n",
      "[CV 1/5; 14/20] END mnbc__alpha=0.7, mnbc__fit_prior=False;, score=0.721 total time=   0.1s\n",
      "[CV 2/5; 14/20] START mnbc__alpha=0.7, mnbc__fit_prior=False....................\n",
      "[CV 2/5; 14/20] END mnbc__alpha=0.7, mnbc__fit_prior=False;, score=0.722 total time=   0.1s\n",
      "[CV 3/5; 14/20] START mnbc__alpha=0.7, mnbc__fit_prior=False....................\n",
      "[CV 3/5; 14/20] END mnbc__alpha=0.7, mnbc__fit_prior=False;, score=0.718 total time=   0.1s\n",
      "[CV 4/5; 14/20] START mnbc__alpha=0.7, mnbc__fit_prior=False....................\n",
      "[CV 4/5; 14/20] END mnbc__alpha=0.7, mnbc__fit_prior=False;, score=0.720 total time=   0.1s\n",
      "[CV 5/5; 14/20] START mnbc__alpha=0.7, mnbc__fit_prior=False....................\n",
      "[CV 5/5; 14/20] END mnbc__alpha=0.7, mnbc__fit_prior=False;, score=0.718 total time=   0.1s\n",
      "[CV 1/5; 15/20] START mnbc__alpha=0.8, mnbc__fit_prior=True.....................\n",
      "[CV 1/5; 15/20] END mnbc__alpha=0.8, mnbc__fit_prior=True;, score=0.720 total time=   0.1s\n",
      "[CV 2/5; 15/20] START mnbc__alpha=0.8, mnbc__fit_prior=True.....................\n",
      "[CV 2/5; 15/20] END mnbc__alpha=0.8, mnbc__fit_prior=True;, score=0.720 total time=   0.1s\n",
      "[CV 3/5; 15/20] START mnbc__alpha=0.8, mnbc__fit_prior=True.....................\n",
      "[CV 3/5; 15/20] END mnbc__alpha=0.8, mnbc__fit_prior=True;, score=0.717 total time=   0.1s\n",
      "[CV 4/5; 15/20] START mnbc__alpha=0.8, mnbc__fit_prior=True.....................\n",
      "[CV 4/5; 15/20] END mnbc__alpha=0.8, mnbc__fit_prior=True;, score=0.718 total time=   0.1s\n",
      "[CV 5/5; 15/20] START mnbc__alpha=0.8, mnbc__fit_prior=True.....................\n",
      "[CV 5/5; 15/20] END mnbc__alpha=0.8, mnbc__fit_prior=True;, score=0.716 total time=   0.1s\n",
      "[CV 1/5; 16/20] START mnbc__alpha=0.8, mnbc__fit_prior=False....................\n",
      "[CV 1/5; 16/20] END mnbc__alpha=0.8, mnbc__fit_prior=False;, score=0.720 total time=   0.1s\n",
      "[CV 2/5; 16/20] START mnbc__alpha=0.8, mnbc__fit_prior=False....................\n",
      "[CV 2/5; 16/20] END mnbc__alpha=0.8, mnbc__fit_prior=False;, score=0.720 total time=   0.1s\n",
      "[CV 3/5; 16/20] START mnbc__alpha=0.8, mnbc__fit_prior=False....................\n",
      "[CV 3/5; 16/20] END mnbc__alpha=0.8, mnbc__fit_prior=False;, score=0.717 total time=   0.1s\n",
      "[CV 4/5; 16/20] START mnbc__alpha=0.8, mnbc__fit_prior=False....................\n",
      "[CV 4/5; 16/20] END mnbc__alpha=0.8, mnbc__fit_prior=False;, score=0.718 total time=   0.2s\n",
      "[CV 5/5; 16/20] START mnbc__alpha=0.8, mnbc__fit_prior=False....................\n",
      "[CV 5/5; 16/20] END mnbc__alpha=0.8, mnbc__fit_prior=False;, score=0.716 total time=   0.2s\n",
      "[CV 1/5; 17/20] START mnbc__alpha=0.9, mnbc__fit_prior=True.....................\n",
      "[CV 1/5; 17/20] END mnbc__alpha=0.9, mnbc__fit_prior=True;, score=0.718 total time=   0.2s\n",
      "[CV 2/5; 17/20] START mnbc__alpha=0.9, mnbc__fit_prior=True.....................\n",
      "[CV 2/5; 17/20] END mnbc__alpha=0.9, mnbc__fit_prior=True;, score=0.718 total time=   0.2s\n",
      "[CV 3/5; 17/20] START mnbc__alpha=0.9, mnbc__fit_prior=True.....................\n",
      "[CV 3/5; 17/20] END mnbc__alpha=0.9, mnbc__fit_prior=True;, score=0.715 total time=   0.2s\n",
      "[CV 4/5; 17/20] START mnbc__alpha=0.9, mnbc__fit_prior=True.....................\n",
      "[CV 4/5; 17/20] END mnbc__alpha=0.9, mnbc__fit_prior=True;, score=0.717 total time=   0.1s\n",
      "[CV 5/5; 17/20] START mnbc__alpha=0.9, mnbc__fit_prior=True.....................\n",
      "[CV 5/5; 17/20] END mnbc__alpha=0.9, mnbc__fit_prior=True;, score=0.715 total time=   0.2s\n",
      "[CV 1/5; 18/20] START mnbc__alpha=0.9, mnbc__fit_prior=False....................\n",
      "[CV 1/5; 18/20] END mnbc__alpha=0.9, mnbc__fit_prior=False;, score=0.718 total time=   0.2s\n",
      "[CV 2/5; 18/20] START mnbc__alpha=0.9, mnbc__fit_prior=False....................\n",
      "[CV 2/5; 18/20] END mnbc__alpha=0.9, mnbc__fit_prior=False;, score=0.718 total time=   0.2s\n",
      "[CV 3/5; 18/20] START mnbc__alpha=0.9, mnbc__fit_prior=False....................\n",
      "[CV 3/5; 18/20] END mnbc__alpha=0.9, mnbc__fit_prior=False;, score=0.715 total time=   0.2s\n",
      "[CV 4/5; 18/20] START mnbc__alpha=0.9, mnbc__fit_prior=False....................\n",
      "[CV 4/5; 18/20] END mnbc__alpha=0.9, mnbc__fit_prior=False;, score=0.717 total time=   0.2s\n",
      "[CV 5/5; 18/20] START mnbc__alpha=0.9, mnbc__fit_prior=False....................\n",
      "[CV 5/5; 18/20] END mnbc__alpha=0.9, mnbc__fit_prior=False;, score=0.715 total time=   0.2s\n",
      "[CV 1/5; 19/20] START mnbc__alpha=1, mnbc__fit_prior=True.......................\n",
      "[CV 1/5; 19/20] END mnbc__alpha=1, mnbc__fit_prior=True;, score=0.716 total time=   0.2s\n",
      "[CV 2/5; 19/20] START mnbc__alpha=1, mnbc__fit_prior=True.......................\n",
      "[CV 2/5; 19/20] END mnbc__alpha=1, mnbc__fit_prior=True;, score=0.717 total time=   0.1s\n",
      "[CV 3/5; 19/20] START mnbc__alpha=1, mnbc__fit_prior=True.......................\n",
      "[CV 3/5; 19/20] END mnbc__alpha=1, mnbc__fit_prior=True;, score=0.713 total time=   0.2s\n",
      "[CV 4/5; 19/20] START mnbc__alpha=1, mnbc__fit_prior=True.......................\n",
      "[CV 4/5; 19/20] END mnbc__alpha=1, mnbc__fit_prior=True;, score=0.717 total time=   0.2s\n",
      "[CV 5/5; 19/20] START mnbc__alpha=1, mnbc__fit_prior=True.......................\n",
      "[CV 5/5; 19/20] END mnbc__alpha=1, mnbc__fit_prior=True;, score=0.713 total time=   0.2s\n",
      "[CV 1/5; 20/20] START mnbc__alpha=1, mnbc__fit_prior=False......................\n",
      "[CV 1/5; 20/20] END mnbc__alpha=1, mnbc__fit_prior=False;, score=0.716 total time=   0.2s\n",
      "[CV 2/5; 20/20] START mnbc__alpha=1, mnbc__fit_prior=False......................\n",
      "[CV 2/5; 20/20] END mnbc__alpha=1, mnbc__fit_prior=False;, score=0.717 total time=   0.2s\n",
      "[CV 3/5; 20/20] START mnbc__alpha=1, mnbc__fit_prior=False......................\n",
      "[CV 3/5; 20/20] END mnbc__alpha=1, mnbc__fit_prior=False;, score=0.713 total time=   0.2s\n",
      "[CV 4/5; 20/20] START mnbc__alpha=1, mnbc__fit_prior=False......................\n",
      "[CV 4/5; 20/20] END mnbc__alpha=1, mnbc__fit_prior=False;, score=0.717 total time=   0.2s\n",
      "[CV 5/5; 20/20] START mnbc__alpha=1, mnbc__fit_prior=False......................\n",
      "[CV 5/5; 20/20] END mnbc__alpha=1, mnbc__fit_prior=False;, score=0.713 total time=   0.2s\n",
      "0.7318472338370012\n",
      "{'mnbc__alpha': 0.1, 'mnbc__fit_prior': True}\n"
     ]
    }
   ],
   "source": [
    "from sklearn.naive_bayes import MultinomialNB\n",
    "from sklearn.model_selection import GridSearchCV\n",
    "\n",
    "mnbc = MultinomialNB()\n",
    "\n",
    "mnbc.get_params()\n",
    "\n",
    "mnbc_grid = {\n",
    "    'mnbc__alpha' : [0.1,0.2,0.3,0.4,0.5,0.6,0.7,0.8,0.9,1],\n",
    "    'mnbc__fit_prior' : [True, False]\n",
    "}\n",
    "\n",
    "imba_pipe_mnbc = Pipeline([\n",
    "    ('sampling', RandomOverSampler(random_state=0)), \n",
    "    ('mnbc', mnbc)\n",
    "    ])\n",
    "\n",
    "mnbcgs = GridSearchCV(estimator=imba_pipe_mnbc, param_grid=mnbc_grid, cv=5, scoring=f1, verbose=10)\n",
    "\n",
    "mnbcgs.fit(x_trainvec, y_train.to_numpy().ravel())\n",
    "\n",
    "print(mnbcgs.best_score_)\n",
    "print(mnbcgs.best_params_)"
   ]
  },
  {
   "cell_type": "markdown",
   "metadata": {},
   "source": [
    "### MNBC Validation Set Evaluation"
   ]
  },
  {
   "cell_type": "code",
   "execution_count": 33,
   "metadata": {},
   "outputs": [
    {
     "name": "stdout",
     "output_type": "stream",
     "text": [
      "{'mnbc__alpha': 0.1, 'mnbc__fit_prior': True}\n"
     ]
    }
   ],
   "source": [
    "print(mnbcgs.best_params_)\n",
    "\n",
    "mnbcgs.best_params_['alpha']= mnbcgs.best_params_['mnbc__alpha']\n",
    "mnbcgs.best_params_['fit_prior']= mnbcgs.best_params_['mnbc__fit_prior']"
   ]
  },
  {
   "cell_type": "code",
   "execution_count": 34,
   "metadata": {},
   "outputs": [],
   "source": [
    "del mnbcgs.best_params_['mnbc__alpha']\n",
    "del mnbcgs.best_params_['mnbc__fit_prior']"
   ]
  },
  {
   "cell_type": "code",
   "execution_count": 35,
   "metadata": {},
   "outputs": [
    {
     "name": "stdout",
     "output_type": "stream",
     "text": [
      "{'alpha': 0.1, 'fit_prior': True}\n"
     ]
    }
   ],
   "source": [
    "print(mnbcgs.best_params_)"
   ]
  },
  {
   "cell_type": "code",
   "execution_count": 36,
   "metadata": {},
   "outputs": [
    {
     "name": "stdout",
     "output_type": "stream",
     "text": [
      "MNBC Validation Train Accuracy Score : 0.7686850205566438\n",
      "MNBC Validation Test Accuracy Score : 0.5976414151509094\n",
      "MNBC Validation Train F1 Score : 0.7667395253449028\n",
      "MNBC Validation Test F1 Score : 0.3230306457693316\n",
      "MNBC Validation Confusion matrix:\n",
      "[[ 100   29   37   32   39]\n",
      " [  38   70   68   36   21]\n",
      " [  68   72  231  200  134]\n",
      " [ 121  120  312  842  824]\n",
      " [ 490  452  783 2163 7727]]\n",
      "MNBC Validation Classification report:\n",
      "               precision    recall  f1-score   support\n",
      "\n",
      "           1       0.12      0.42      0.19       237\n",
      "           2       0.09      0.30      0.14       233\n",
      "           3       0.16      0.33      0.22       705\n",
      "           4       0.26      0.38      0.31      2219\n",
      "           5       0.88      0.67      0.76     11615\n",
      "\n",
      "    accuracy                           0.60     15009\n",
      "   macro avg       0.30      0.42      0.32     15009\n",
      "weighted avg       0.73      0.60      0.65     15009\n",
      "\n"
     ]
    }
   ],
   "source": [
    "best_mnbc_model_val = MultinomialNB().set_params(**mnbcgs.best_params_)\n",
    "best_mnbc_model_test = MultinomialNB().set_params(**mnbcgs.best_params_)\n",
    "\n",
    "best_mnbc_model_val.fit(x_val_trainvec, y_val_train.to_numpy().ravel())\n",
    "best_mnbc_model_test.fit(x_trainvec, y_train.to_numpy().ravel())\n",
    "\n",
    "mnbc_val_train_predictions = best_mnbc_model_val.predict(x_val_trainvec)\n",
    "mnbc_val_test_predictions = best_mnbc_model_val.predict(x_val_testvec)\n",
    "mnbc_train_predictions = best_mnbc_model_test.predict(x_trainvec)\n",
    "mnbc_test_predictions = best_mnbc_model_test.predict(x_testvec)\n",
    "\n",
    "print(\"MNBC Validation Train Accuracy Score :\",accuracy_score(y_pred=mnbc_val_train_predictions, y_true=y_val_train.to_numpy().ravel()))\n",
    "print(\"MNBC Validation Test Accuracy Score :\",accuracy_score(y_pred=mnbc_val_test_predictions, y_true= y_val_test.to_numpy().ravel()))\n",
    "\n",
    "print(\"MNBC Validation Train F1 Score :\",f1_score(y_pred=mnbc_val_train_predictions, y_true=y_val_train.to_numpy().ravel(), average = 'macro'))\n",
    "print(\"MNBC Validation Test F1 Score :\",f1_score(y_pred=mnbc_val_test_predictions, y_true=y_val_test.to_numpy().ravel(), average = 'macro'))\n",
    "\n",
    "print(\"MNBC Validation Confusion matrix:\\n{}\".format(confusion_matrix(y_pred=mnbc_val_test_predictions, y_true=y_val_test.to_numpy().ravel())))\n",
    "print(\"MNBC Validation Classification report:\\n\",classification_report(y_pred=mnbc_val_test_predictions, y_true= y_val_test.to_numpy().ravel()))"
   ]
  },
  {
   "cell_type": "markdown",
   "metadata": {},
   "source": [
    "### Dataset for Stacking Classifier"
   ]
  },
  {
   "cell_type": "markdown",
   "metadata": {},
   "source": [
    "For stacking models, it is recommended to use the probabilites as the outputs of the base models as seen here."
   ]
  },
  {
   "cell_type": "code",
   "execution_count": 38,
   "metadata": {},
   "outputs": [
    {
     "name": "stdout",
     "output_type": "stream",
     "text": [
      "          mlp_1         mlp_2         mlp_3     mlp_4     mlp_5     rfc_1  \\\n",
      "0  2.205868e-06  4.874783e-13  3.278769e-08  0.914985  0.085013  0.129628   \n",
      "1  1.194601e-08  9.527622e-17  2.681781e-05  0.010190  0.989783  0.183078   \n",
      "2  5.615244e-09  7.535296e-09  7.586806e-10  0.000016  0.999984  0.123413   \n",
      "3  3.241734e-05  2.114988e-03  5.316937e-05  0.000028  0.997772  0.169212   \n",
      "4  1.060207e-03  2.619458e-08  8.026155e-05  0.688696  0.310163  0.144509   \n",
      "\n",
      "      rfc_2     rfc_3     rfc_4     rfc_5    mnbc_1    mnbc_2    mnbc_3  \\\n",
      "0  0.111886  0.212679  0.313601  0.232206  0.016358  0.100228  0.018099   \n",
      "1  0.101923  0.189667  0.185609  0.339722  0.258434  0.062714  0.174160   \n",
      "2  0.098085  0.153162  0.228776  0.396564  0.240355  0.114623  0.057645   \n",
      "3  0.139502  0.177479  0.214203  0.299604  0.189183  0.142387  0.140509   \n",
      "4  0.111511  0.199906  0.324960  0.219114  0.151654  0.096038  0.201555   \n",
      "\n",
      "     mnbc_4    mnbc_5  \n",
      "0  0.469488  0.395826  \n",
      "1  0.139850  0.364842  \n",
      "2  0.102533  0.484843  \n",
      "3  0.186193  0.341729  \n",
      "4  0.321569  0.229184  \n"
     ]
    }
   ],
   "source": [
    "def get_predict_probas(trainortest,data):\n",
    "    if trainortest =='train':\n",
    "        mlp_probas = best_mlp_model_val.predict(data)\n",
    "        rfc_probas = best_rfc_model_val.predict_proba(data)\n",
    "        mnbc_probas = best_mnbc_model_val.predict_proba(data)\n",
    "        mlp_probas_df = pd.DataFrame(mlp_probas,columns=['mlp_1','mlp_2','mlp_3','mlp_4','mlp_5'])\n",
    "        rfc_probas_df = pd.DataFrame(rfc_probas,columns=['rfc_1','rfc_2','rfc_3','rfc_4','rfc_5'])\n",
    "        mnbc_probas_df = pd.DataFrame(mnbc_probas,columns=['mnbc_1','mnbc_2','mnbc_3','mnbc_4','mnbc_5'])\n",
    "        \n",
    "    if trainortest == 'test':\n",
    "        mlp_probas = best_mlp_model_test.predict(data)\n",
    "        rfc_probas = best_rfc_model_test.predict_proba(data)\n",
    "        mnbc_probas = best_mnbc_model_test.predict_proba(data)\n",
    "        mlp_probas_df = pd.DataFrame(mlp_probas,columns=['mlp_1','mlp_2','mlp_3','mlp_4','mlp_5'])\n",
    "        rfc_probas_df = pd.DataFrame(rfc_probas,columns=['rfc_1','rfc_2','rfc_3','rfc_4','rfc_5'])\n",
    "        mnbc_probas_df = pd.DataFrame(mnbc_probas,columns=['mnbc_1','mnbc_2','mnbc_3','mnbc_4','mnbc_5']) \n",
    "          \n",
    "    return pd.concat([mlp_probas_df,rfc_probas_df,mnbc_probas_df],axis=1)\n",
    "\n",
    "x_val_trainvec_stack = get_predict_probas('train',x_val_trainvec)\n",
    "x_val_testvec_stack = get_predict_probas('train',x_val_testvec)\n",
    "x_trainvec_stack = get_predict_probas('test',x_trainvec)\n",
    "x_testvec_stack = get_predict_probas('test',x_testvec)\n",
    "\n",
    "print(x_val_trainvec_stack.head())"
   ]
  },
  {
   "cell_type": "markdown",
   "metadata": {},
   "source": [
    "### Stacking Classifier(Logistic Regression)"
   ]
  },
  {
   "cell_type": "markdown",
   "metadata": {},
   "source": [
    "A sklearn Logistic Regression Classifier as the meta-model hyperparameter tuned the same way as the Random Forest Classifier. Chosen because simple meta-models are known to perform better."
   ]
  },
  {
   "cell_type": "code",
   "execution_count": 39,
   "metadata": {},
   "outputs": [
    {
     "name": "stdout",
     "output_type": "stream",
     "text": [
      "n_iterations: 2\n",
      "n_required_iterations: 2\n",
      "n_possible_iterations: 2\n",
      "min_resources_: 58072\n",
      "max_resources_: 290360\n",
      "aggressive_elimination: False\n",
      "factor: 5\n",
      "----------\n",
      "iter: 0\n",
      "n_candidates: 10\n",
      "n_resources: 58072\n",
      "Fitting 5 folds for each of 10 candidates, totalling 50 fits\n"
     ]
    },
    {
     "name": "stderr",
     "output_type": "stream",
     "text": [
      "c:\\Users\\Lim Jia Hui\\Desktop\\Python\\lib\\site-packages\\sklearn\\linear_model\\_logistic.py:444: ConvergenceWarning: lbfgs failed to converge (status=1):\n",
      "STOP: TOTAL NO. of ITERATIONS REACHED LIMIT.\n",
      "\n",
      "Increase the number of iterations (max_iter) or scale the data as shown in:\n",
      "    https://scikit-learn.org/stable/modules/preprocessing.html\n",
      "Please also refer to the documentation for alternative solver options:\n",
      "    https://scikit-learn.org/stable/modules/linear_model.html#logistic-regression\n",
      "  n_iter_i = _check_optimize_result(\n",
      "c:\\Users\\Lim Jia Hui\\Desktop\\Python\\lib\\site-packages\\sklearn\\linear_model\\_logistic.py:444: ConvergenceWarning: lbfgs failed to converge (status=1):\n",
      "STOP: TOTAL NO. of ITERATIONS REACHED LIMIT.\n",
      "\n",
      "Increase the number of iterations (max_iter) or scale the data as shown in:\n",
      "    https://scikit-learn.org/stable/modules/preprocessing.html\n",
      "Please also refer to the documentation for alternative solver options:\n",
      "    https://scikit-learn.org/stable/modules/linear_model.html#logistic-regression\n",
      "  n_iter_i = _check_optimize_result(\n",
      "c:\\Users\\Lim Jia Hui\\Desktop\\Python\\lib\\site-packages\\sklearn\\linear_model\\_logistic.py:444: ConvergenceWarning: lbfgs failed to converge (status=1):\n",
      "STOP: TOTAL NO. of ITERATIONS REACHED LIMIT.\n",
      "\n",
      "Increase the number of iterations (max_iter) or scale the data as shown in:\n",
      "    https://scikit-learn.org/stable/modules/preprocessing.html\n",
      "Please also refer to the documentation for alternative solver options:\n",
      "    https://scikit-learn.org/stable/modules/linear_model.html#logistic-regression\n",
      "  n_iter_i = _check_optimize_result(\n",
      "c:\\Users\\Lim Jia Hui\\Desktop\\Python\\lib\\site-packages\\sklearn\\linear_model\\_logistic.py:444: ConvergenceWarning: lbfgs failed to converge (status=1):\n",
      "STOP: TOTAL NO. of ITERATIONS REACHED LIMIT.\n",
      "\n",
      "Increase the number of iterations (max_iter) or scale the data as shown in:\n",
      "    https://scikit-learn.org/stable/modules/preprocessing.html\n",
      "Please also refer to the documentation for alternative solver options:\n",
      "    https://scikit-learn.org/stable/modules/linear_model.html#logistic-regression\n",
      "  n_iter_i = _check_optimize_result(\n",
      "c:\\Users\\Lim Jia Hui\\Desktop\\Python\\lib\\site-packages\\sklearn\\linear_model\\_logistic.py:444: ConvergenceWarning: lbfgs failed to converge (status=1):\n",
      "STOP: TOTAL NO. of ITERATIONS REACHED LIMIT.\n",
      "\n",
      "Increase the number of iterations (max_iter) or scale the data as shown in:\n",
      "    https://scikit-learn.org/stable/modules/preprocessing.html\n",
      "Please also refer to the documentation for alternative solver options:\n",
      "    https://scikit-learn.org/stable/modules/linear_model.html#logistic-regression\n",
      "  n_iter_i = _check_optimize_result(\n",
      "c:\\Users\\Lim Jia Hui\\Desktop\\Python\\lib\\site-packages\\sklearn\\linear_model\\_logistic.py:444: ConvergenceWarning: lbfgs failed to converge (status=1):\n",
      "STOP: TOTAL NO. of ITERATIONS REACHED LIMIT.\n",
      "\n",
      "Increase the number of iterations (max_iter) or scale the data as shown in:\n",
      "    https://scikit-learn.org/stable/modules/preprocessing.html\n",
      "Please also refer to the documentation for alternative solver options:\n",
      "    https://scikit-learn.org/stable/modules/linear_model.html#logistic-regression\n",
      "  n_iter_i = _check_optimize_result(\n",
      "c:\\Users\\Lim Jia Hui\\Desktop\\Python\\lib\\site-packages\\sklearn\\linear_model\\_logistic.py:444: ConvergenceWarning: lbfgs failed to converge (status=1):\n",
      "STOP: TOTAL NO. of ITERATIONS REACHED LIMIT.\n",
      "\n",
      "Increase the number of iterations (max_iter) or scale the data as shown in:\n",
      "    https://scikit-learn.org/stable/modules/preprocessing.html\n",
      "Please also refer to the documentation for alternative solver options:\n",
      "    https://scikit-learn.org/stable/modules/linear_model.html#logistic-regression\n",
      "  n_iter_i = _check_optimize_result(\n",
      "c:\\Users\\Lim Jia Hui\\Desktop\\Python\\lib\\site-packages\\sklearn\\linear_model\\_logistic.py:444: ConvergenceWarning: lbfgs failed to converge (status=1):\n",
      "STOP: TOTAL NO. of ITERATIONS REACHED LIMIT.\n",
      "\n",
      "Increase the number of iterations (max_iter) or scale the data as shown in:\n",
      "    https://scikit-learn.org/stable/modules/preprocessing.html\n",
      "Please also refer to the documentation for alternative solver options:\n",
      "    https://scikit-learn.org/stable/modules/linear_model.html#logistic-regression\n",
      "  n_iter_i = _check_optimize_result(\n",
      "c:\\Users\\Lim Jia Hui\\Desktop\\Python\\lib\\site-packages\\sklearn\\linear_model\\_logistic.py:444: ConvergenceWarning: lbfgs failed to converge (status=1):\n",
      "STOP: TOTAL NO. of ITERATIONS REACHED LIMIT.\n",
      "\n",
      "Increase the number of iterations (max_iter) or scale the data as shown in:\n",
      "    https://scikit-learn.org/stable/modules/preprocessing.html\n",
      "Please also refer to the documentation for alternative solver options:\n",
      "    https://scikit-learn.org/stable/modules/linear_model.html#logistic-regression\n",
      "  n_iter_i = _check_optimize_result(\n",
      "c:\\Users\\Lim Jia Hui\\Desktop\\Python\\lib\\site-packages\\sklearn\\linear_model\\_logistic.py:444: ConvergenceWarning: lbfgs failed to converge (status=1):\n",
      "STOP: TOTAL NO. of ITERATIONS REACHED LIMIT.\n",
      "\n",
      "Increase the number of iterations (max_iter) or scale the data as shown in:\n",
      "    https://scikit-learn.org/stable/modules/preprocessing.html\n",
      "Please also refer to the documentation for alternative solver options:\n",
      "    https://scikit-learn.org/stable/modules/linear_model.html#logistic-regression\n",
      "  n_iter_i = _check_optimize_result(\n",
      "c:\\Users\\Lim Jia Hui\\Desktop\\Python\\lib\\site-packages\\sklearn\\linear_model\\_logistic.py:444: ConvergenceWarning: lbfgs failed to converge (status=1):\n",
      "STOP: TOTAL NO. of ITERATIONS REACHED LIMIT.\n",
      "\n",
      "Increase the number of iterations (max_iter) or scale the data as shown in:\n",
      "    https://scikit-learn.org/stable/modules/preprocessing.html\n",
      "Please also refer to the documentation for alternative solver options:\n",
      "    https://scikit-learn.org/stable/modules/linear_model.html#logistic-regression\n",
      "  n_iter_i = _check_optimize_result(\n",
      "c:\\Users\\Lim Jia Hui\\Desktop\\Python\\lib\\site-packages\\sklearn\\linear_model\\_logistic.py:444: ConvergenceWarning: lbfgs failed to converge (status=1):\n",
      "STOP: TOTAL NO. of ITERATIONS REACHED LIMIT.\n",
      "\n",
      "Increase the number of iterations (max_iter) or scale the data as shown in:\n",
      "    https://scikit-learn.org/stable/modules/preprocessing.html\n",
      "Please also refer to the documentation for alternative solver options:\n",
      "    https://scikit-learn.org/stable/modules/linear_model.html#logistic-regression\n",
      "  n_iter_i = _check_optimize_result(\n",
      "c:\\Users\\Lim Jia Hui\\Desktop\\Python\\lib\\site-packages\\sklearn\\linear_model\\_logistic.py:444: ConvergenceWarning: lbfgs failed to converge (status=1):\n",
      "STOP: TOTAL NO. of ITERATIONS REACHED LIMIT.\n",
      "\n",
      "Increase the number of iterations (max_iter) or scale the data as shown in:\n",
      "    https://scikit-learn.org/stable/modules/preprocessing.html\n",
      "Please also refer to the documentation for alternative solver options:\n",
      "    https://scikit-learn.org/stable/modules/linear_model.html#logistic-regression\n",
      "  n_iter_i = _check_optimize_result(\n",
      "c:\\Users\\Lim Jia Hui\\Desktop\\Python\\lib\\site-packages\\sklearn\\linear_model\\_logistic.py:444: ConvergenceWarning: lbfgs failed to converge (status=1):\n",
      "STOP: TOTAL NO. of ITERATIONS REACHED LIMIT.\n",
      "\n",
      "Increase the number of iterations (max_iter) or scale the data as shown in:\n",
      "    https://scikit-learn.org/stable/modules/preprocessing.html\n",
      "Please also refer to the documentation for alternative solver options:\n",
      "    https://scikit-learn.org/stable/modules/linear_model.html#logistic-regression\n",
      "  n_iter_i = _check_optimize_result(\n",
      "c:\\Users\\Lim Jia Hui\\Desktop\\Python\\lib\\site-packages\\sklearn\\linear_model\\_logistic.py:444: ConvergenceWarning: lbfgs failed to converge (status=1):\n",
      "STOP: TOTAL NO. of ITERATIONS REACHED LIMIT.\n",
      "\n",
      "Increase the number of iterations (max_iter) or scale the data as shown in:\n",
      "    https://scikit-learn.org/stable/modules/preprocessing.html\n",
      "Please also refer to the documentation for alternative solver options:\n",
      "    https://scikit-learn.org/stable/modules/linear_model.html#logistic-regression\n",
      "  n_iter_i = _check_optimize_result(\n"
     ]
    },
    {
     "name": "stdout",
     "output_type": "stream",
     "text": [
      "----------\n",
      "iter: 1\n",
      "n_candidates: 2\n",
      "n_resources: 290360\n",
      "Fitting 5 folds for each of 2 candidates, totalling 10 fits\n"
     ]
    },
    {
     "name": "stderr",
     "output_type": "stream",
     "text": [
      "c:\\Users\\Lim Jia Hui\\Desktop\\Python\\lib\\site-packages\\sklearn\\linear_model\\_logistic.py:444: ConvergenceWarning: lbfgs failed to converge (status=1):\n",
      "STOP: TOTAL NO. of ITERATIONS REACHED LIMIT.\n",
      "\n",
      "Increase the number of iterations (max_iter) or scale the data as shown in:\n",
      "    https://scikit-learn.org/stable/modules/preprocessing.html\n",
      "Please also refer to the documentation for alternative solver options:\n",
      "    https://scikit-learn.org/stable/modules/linear_model.html#logistic-regression\n",
      "  n_iter_i = _check_optimize_result(\n",
      "c:\\Users\\Lim Jia Hui\\Desktop\\Python\\lib\\site-packages\\sklearn\\linear_model\\_logistic.py:444: ConvergenceWarning: lbfgs failed to converge (status=1):\n",
      "STOP: TOTAL NO. of ITERATIONS REACHED LIMIT.\n",
      "\n",
      "Increase the number of iterations (max_iter) or scale the data as shown in:\n",
      "    https://scikit-learn.org/stable/modules/preprocessing.html\n",
      "Please also refer to the documentation for alternative solver options:\n",
      "    https://scikit-learn.org/stable/modules/linear_model.html#logistic-regression\n",
      "  n_iter_i = _check_optimize_result(\n",
      "c:\\Users\\Lim Jia Hui\\Desktop\\Python\\lib\\site-packages\\sklearn\\linear_model\\_logistic.py:444: ConvergenceWarning: lbfgs failed to converge (status=1):\n",
      "STOP: TOTAL NO. of ITERATIONS REACHED LIMIT.\n",
      "\n",
      "Increase the number of iterations (max_iter) or scale the data as shown in:\n",
      "    https://scikit-learn.org/stable/modules/preprocessing.html\n",
      "Please also refer to the documentation for alternative solver options:\n",
      "    https://scikit-learn.org/stable/modules/linear_model.html#logistic-regression\n",
      "  n_iter_i = _check_optimize_result(\n",
      "c:\\Users\\Lim Jia Hui\\Desktop\\Python\\lib\\site-packages\\sklearn\\linear_model\\_logistic.py:444: ConvergenceWarning: lbfgs failed to converge (status=1):\n",
      "STOP: TOTAL NO. of ITERATIONS REACHED LIMIT.\n",
      "\n",
      "Increase the number of iterations (max_iter) or scale the data as shown in:\n",
      "    https://scikit-learn.org/stable/modules/preprocessing.html\n",
      "Please also refer to the documentation for alternative solver options:\n",
      "    https://scikit-learn.org/stable/modules/linear_model.html#logistic-regression\n",
      "  n_iter_i = _check_optimize_result(\n",
      "c:\\Users\\Lim Jia Hui\\Desktop\\Python\\lib\\site-packages\\sklearn\\linear_model\\_logistic.py:444: ConvergenceWarning: lbfgs failed to converge (status=1):\n",
      "STOP: TOTAL NO. of ITERATIONS REACHED LIMIT.\n",
      "\n",
      "Increase the number of iterations (max_iter) or scale the data as shown in:\n",
      "    https://scikit-learn.org/stable/modules/preprocessing.html\n",
      "Please also refer to the documentation for alternative solver options:\n",
      "    https://scikit-learn.org/stable/modules/linear_model.html#logistic-regression\n",
      "  n_iter_i = _check_optimize_result(\n"
     ]
    },
    {
     "data": {
      "text/html": [
       "<style>#sk-container-id-1 {color: black;background-color: white;}#sk-container-id-1 pre{padding: 0;}#sk-container-id-1 div.sk-toggleable {background-color: white;}#sk-container-id-1 label.sk-toggleable__label {cursor: pointer;display: block;width: 100%;margin-bottom: 0;padding: 0.3em;box-sizing: border-box;text-align: center;}#sk-container-id-1 label.sk-toggleable__label-arrow:before {content: \"▸\";float: left;margin-right: 0.25em;color: #696969;}#sk-container-id-1 label.sk-toggleable__label-arrow:hover:before {color: black;}#sk-container-id-1 div.sk-estimator:hover label.sk-toggleable__label-arrow:before {color: black;}#sk-container-id-1 div.sk-toggleable__content {max-height: 0;max-width: 0;overflow: hidden;text-align: left;background-color: #f0f8ff;}#sk-container-id-1 div.sk-toggleable__content pre {margin: 0.2em;color: black;border-radius: 0.25em;background-color: #f0f8ff;}#sk-container-id-1 input.sk-toggleable__control:checked~div.sk-toggleable__content {max-height: 200px;max-width: 100%;overflow: auto;}#sk-container-id-1 input.sk-toggleable__control:checked~label.sk-toggleable__label-arrow:before {content: \"▾\";}#sk-container-id-1 div.sk-estimator input.sk-toggleable__control:checked~label.sk-toggleable__label {background-color: #d4ebff;}#sk-container-id-1 div.sk-label input.sk-toggleable__control:checked~label.sk-toggleable__label {background-color: #d4ebff;}#sk-container-id-1 input.sk-hidden--visually {border: 0;clip: rect(1px 1px 1px 1px);clip: rect(1px, 1px, 1px, 1px);height: 1px;margin: -1px;overflow: hidden;padding: 0;position: absolute;width: 1px;}#sk-container-id-1 div.sk-estimator {font-family: monospace;background-color: #f0f8ff;border: 1px dotted black;border-radius: 0.25em;box-sizing: border-box;margin-bottom: 0.5em;}#sk-container-id-1 div.sk-estimator:hover {background-color: #d4ebff;}#sk-container-id-1 div.sk-parallel-item::after {content: \"\";width: 100%;border-bottom: 1px solid gray;flex-grow: 1;}#sk-container-id-1 div.sk-label:hover label.sk-toggleable__label {background-color: #d4ebff;}#sk-container-id-1 div.sk-serial::before {content: \"\";position: absolute;border-left: 1px solid gray;box-sizing: border-box;top: 0;bottom: 0;left: 50%;z-index: 0;}#sk-container-id-1 div.sk-serial {display: flex;flex-direction: column;align-items: center;background-color: white;padding-right: 0.2em;padding-left: 0.2em;position: relative;}#sk-container-id-1 div.sk-item {position: relative;z-index: 1;}#sk-container-id-1 div.sk-parallel {display: flex;align-items: stretch;justify-content: center;background-color: white;position: relative;}#sk-container-id-1 div.sk-item::before, #sk-container-id-1 div.sk-parallel-item::before {content: \"\";position: absolute;border-left: 1px solid gray;box-sizing: border-box;top: 0;bottom: 0;left: 50%;z-index: -1;}#sk-container-id-1 div.sk-parallel-item {display: flex;flex-direction: column;z-index: 1;position: relative;background-color: white;}#sk-container-id-1 div.sk-parallel-item:first-child::after {align-self: flex-end;width: 50%;}#sk-container-id-1 div.sk-parallel-item:last-child::after {align-self: flex-start;width: 50%;}#sk-container-id-1 div.sk-parallel-item:only-child::after {width: 0;}#sk-container-id-1 div.sk-dashed-wrapped {border: 1px dashed gray;margin: 0 0.4em 0.5em 0.4em;box-sizing: border-box;padding-bottom: 0.4em;background-color: white;}#sk-container-id-1 div.sk-label label {font-family: monospace;font-weight: bold;display: inline-block;line-height: 1.2em;}#sk-container-id-1 div.sk-label-container {text-align: center;}#sk-container-id-1 div.sk-container {/* jupyter's `normalize.less` sets `[hidden] { display: none; }` but bootstrap.min.css set `[hidden] { display: none !important; }` so we also need the `!important` here to be able to override the default hidden behavior on the sphinx rendered scikit-learn.org. See: https://github.com/scikit-learn/scikit-learn/issues/21755 */display: inline-block !important;position: relative;}#sk-container-id-1 div.sk-text-repr-fallback {display: none;}</style><div id=\"sk-container-id-1\" class=\"sk-top-container\"><div class=\"sk-text-repr-fallback\"><pre>HalvingGridSearchCV(estimator=Pipeline(steps=[(&#x27;sampling&#x27;,\n",
       "                                               RandomOverSampler(random_state=0)),\n",
       "                                              (&#x27;sclf&#x27;,\n",
       "                                               LogisticRegression(random_state=0))]),\n",
       "                    factor=5,\n",
       "                    param_grid={&#x27;sclf__C&#x27;: [100, 10, 1.0, 0.1, 0.01],\n",
       "                                &#x27;sclf__solver&#x27;: [&#x27;newton-cg&#x27;, &#x27;lbfgs&#x27;]},\n",
       "                    scoring=make_scorer(f1_score, average=macro), verbose=1)</pre><b>In a Jupyter environment, please rerun this cell to show the HTML representation or trust the notebook. <br />On GitHub, the HTML representation is unable to render, please try loading this page with nbviewer.org.</b></div><div class=\"sk-container\" hidden><div class=\"sk-item sk-dashed-wrapped\"><div class=\"sk-label-container\"><div class=\"sk-label sk-toggleable\"><input class=\"sk-toggleable__control sk-hidden--visually\" id=\"sk-estimator-id-1\" type=\"checkbox\" ><label for=\"sk-estimator-id-1\" class=\"sk-toggleable__label sk-toggleable__label-arrow\">HalvingGridSearchCV</label><div class=\"sk-toggleable__content\"><pre>HalvingGridSearchCV(estimator=Pipeline(steps=[(&#x27;sampling&#x27;,\n",
       "                                               RandomOverSampler(random_state=0)),\n",
       "                                              (&#x27;sclf&#x27;,\n",
       "                                               LogisticRegression(random_state=0))]),\n",
       "                    factor=5,\n",
       "                    param_grid={&#x27;sclf__C&#x27;: [100, 10, 1.0, 0.1, 0.01],\n",
       "                                &#x27;sclf__solver&#x27;: [&#x27;newton-cg&#x27;, &#x27;lbfgs&#x27;]},\n",
       "                    scoring=make_scorer(f1_score, average=macro), verbose=1)</pre></div></div></div><div class=\"sk-parallel\"><div class=\"sk-parallel-item\"><div class=\"sk-item\"><div class=\"sk-label-container\"><div class=\"sk-label sk-toggleable\"><input class=\"sk-toggleable__control sk-hidden--visually\" id=\"sk-estimator-id-2\" type=\"checkbox\" ><label for=\"sk-estimator-id-2\" class=\"sk-toggleable__label sk-toggleable__label-arrow\">estimator: Pipeline</label><div class=\"sk-toggleable__content\"><pre>Pipeline(steps=[(&#x27;sampling&#x27;, RandomOverSampler(random_state=0)),\n",
       "                (&#x27;sclf&#x27;, LogisticRegression(random_state=0))])</pre></div></div></div><div class=\"sk-serial\"><div class=\"sk-item\"><div class=\"sk-serial\"><div class=\"sk-item\"><div class=\"sk-estimator sk-toggleable\"><input class=\"sk-toggleable__control sk-hidden--visually\" id=\"sk-estimator-id-3\" type=\"checkbox\" ><label for=\"sk-estimator-id-3\" class=\"sk-toggleable__label sk-toggleable__label-arrow\">RandomOverSampler</label><div class=\"sk-toggleable__content\"><pre>RandomOverSampler(random_state=0)</pre></div></div></div><div class=\"sk-item\"><div class=\"sk-estimator sk-toggleable\"><input class=\"sk-toggleable__control sk-hidden--visually\" id=\"sk-estimator-id-4\" type=\"checkbox\" ><label for=\"sk-estimator-id-4\" class=\"sk-toggleable__label sk-toggleable__label-arrow\">LogisticRegression</label><div class=\"sk-toggleable__content\"><pre>LogisticRegression(random_state=0)</pre></div></div></div></div></div></div></div></div></div></div></div></div>"
      ],
      "text/plain": [
       "HalvingGridSearchCV(estimator=Pipeline(steps=[('sampling',\n",
       "                                               RandomOverSampler(random_state=0)),\n",
       "                                              ('sclf',\n",
       "                                               LogisticRegression(random_state=0))]),\n",
       "                    factor=5,\n",
       "                    param_grid={'sclf__C': [100, 10, 1.0, 0.1, 0.01],\n",
       "                                'sclf__solver': ['newton-cg', 'lbfgs']},\n",
       "                    scoring=make_scorer(f1_score, average=macro), verbose=1)"
      ]
     },
     "execution_count": 39,
     "metadata": {},
     "output_type": "execute_result"
    }
   ],
   "source": [
    "from sklearn.linear_model import LogisticRegression\n",
    "\n",
    "sclf = LogisticRegression(random_state=0)\n",
    "\n",
    "sclf_param_grid = {\n",
    "    'sclf__solver' : ['newton-cg', 'lbfgs'],\n",
    "    'sclf__C': [100, 10, 1.0, 0.1, 0.01]\n",
    "}\n",
    "\n",
    "imba_pipe_stack = Pipeline([\n",
    "    ('sampling', RandomOverSampler(random_state=0)), \n",
    "    ('sclf', sclf)\n",
    "    ])\n",
    "\n",
    "\n",
    "sclfgs = HalvingGridSearchCV(estimator=imba_pipe_stack , param_grid=sclf_param_grid, factor=5, cv=5, scoring=f1, verbose=1)\n",
    "\n",
    "sclfgs.fit(x_trainvec_stack, y_train.to_numpy().ravel())"
   ]
  },
  {
   "cell_type": "markdown",
   "metadata": {},
   "source": [
    "### Stacking Classifier Validation Set Classifier"
   ]
  },
  {
   "cell_type": "code",
   "execution_count": 40,
   "metadata": {},
   "outputs": [
    {
     "name": "stdout",
     "output_type": "stream",
     "text": [
      "{'sclf__C': 100, 'sclf__solver': 'newton-cg'}\n"
     ]
    }
   ],
   "source": [
    "print(sclfgs.best_params_)\n",
    "sclfgs.best_params_['solver']=sclfgs.best_params_['sclf__solver']\n",
    "sclfgs.best_params_['C']=sclfgs.best_params_['sclf__C']"
   ]
  },
  {
   "cell_type": "code",
   "execution_count": 41,
   "metadata": {},
   "outputs": [],
   "source": [
    "del sclfgs.best_params_['sclf__solver']\n",
    "del sclfgs.best_params_['sclf__C']"
   ]
  },
  {
   "cell_type": "code",
   "execution_count": 42,
   "metadata": {},
   "outputs": [
    {
     "name": "stdout",
     "output_type": "stream",
     "text": [
      "{'solver': 'newton-cg', 'C': 100}\n"
     ]
    }
   ],
   "source": [
    "print(sclfgs.best_params_)"
   ]
  },
  {
   "cell_type": "code",
   "execution_count": 44,
   "metadata": {},
   "outputs": [
    {
     "name": "stdout",
     "output_type": "stream",
     "text": [
      "Stacked Classifier Validation Train Accuracy Score : 0.9658522935187378\n",
      "Stacked Classifier Validation Test Accuracy Score : 0.6955826504097542\n",
      "Stacked Classifier Validation Train F1 Score : 0.9658408248422639\n",
      "Stacked Classifier Validation Test F1 Score : 0.37893678438642553\n",
      "Stacked Classifier Validation Confusion matrix:\n",
      "[[  90   17   20   27   83]\n",
      " [  29   50   37   47   70]\n",
      " [  26   52  179  172  276]\n",
      " [  39   31  157  691 1301]\n",
      " [ 153   97  299 1636 9430]]\n",
      "Stacked Classifier Validation Classification report:\n",
      "               precision    recall  f1-score   support\n",
      "\n",
      "           1       0.27      0.38      0.31       237\n",
      "           2       0.20      0.21      0.21       233\n",
      "           3       0.26      0.25      0.26       705\n",
      "           4       0.27      0.31      0.29      2219\n",
      "           5       0.84      0.81      0.83     11615\n",
      "\n",
      "    accuracy                           0.70     15009\n",
      "   macro avg       0.37      0.39      0.38     15009\n",
      "weighted avg       0.71      0.70      0.70     15009\n",
      "\n"
     ]
    }
   ],
   "source": [
    "best_stacked_model_val = LogisticRegression(random_state=0).set_params(**sclfgs.best_params_)\n",
    "best_stacked_model_test = LogisticRegression(random_state=0).set_params(**sclfgs.best_params_)\n",
    "\n",
    "best_stacked_model_val.fit(x_val_trainvec_stack, y_val_train.to_numpy().ravel())\n",
    "best_stacked_model_test.fit(x_trainvec_stack, y_train.to_numpy().ravel())\n",
    "\n",
    "stacked_val_train_predictions = best_stacked_model_val.predict(x_val_trainvec_stack)\n",
    "stacked_val_test_predictions = best_stacked_model_val.predict(x_val_testvec_stack)\n",
    "stacked_train_predictions = best_stacked_model_test.predict(x_trainvec_stack)\n",
    "stacked_test_predictions = best_stacked_model_test.predict(x_testvec_stack)\n",
    "\n",
    "print(\"Stacked Classifier Validation Train Accuracy Score :\",accuracy_score(y_pred=stacked_val_train_predictions, y_true=y_val_train.to_numpy().ravel()))\n",
    "print(\"Stacked Classifier Validation Test Accuracy Score :\",accuracy_score(y_pred=stacked_val_test_predictions, y_true= y_val_test.to_numpy().ravel()))\n",
    "\n",
    "print(\"Stacked Classifier Validation Train F1 Score :\",f1_score(y_pred=stacked_val_train_predictions, y_true=y_val_train.to_numpy().ravel(), average = 'macro'))\n",
    "print(\"Stacked Classifier Validation Test F1 Score :\",f1_score(y_pred=stacked_val_test_predictions, y_true=y_val_test.to_numpy().ravel(), average = 'macro'))\n",
    "\n",
    "print(\"Stacked Classifier Validation Confusion matrix:\\n{}\".format(confusion_matrix(y_pred=stacked_val_test_predictions, y_true=y_val_test.to_numpy().ravel())))\n",
    "print(\"Stacked Classifier Validation Classification report:\\n\",classification_report(y_pred=stacked_val_test_predictions, y_true= y_val_test.to_numpy().ravel()))"
   ]
  },
  {
   "cell_type": "markdown",
   "metadata": {},
   "source": [
    "## Evaluating"
   ]
  },
  {
   "cell_type": "markdown",
   "metadata": {},
   "source": [
    "Final evaluation of the models across a variety of metrics."
   ]
  },
  {
   "cell_type": "code",
   "execution_count": 45,
   "metadata": {},
   "outputs": [
    {
     "name": "stdout",
     "output_type": "stream",
     "text": [
      "MLP Test Accuracy Score : 0.7228292734928842\n",
      "RFC Test Accuracy Score : 0.7532114492830873\n",
      "MNBC Model Test Accuracy Score : 0.5983156548158414\n",
      "Stacked Model Test Accuracy Score : 0.7147806620116198\n"
     ]
    }
   ],
   "source": [
    "print(\"MLP Test Accuracy Score :\",accuracy_score(y_pred=mlp_test_predictions, y_true= y_test.to_numpy().ravel()))\n",
    "print(\"RFC Test Accuracy Score :\",accuracy_score(y_pred=rfc_test_predictions, y_true= y_test.to_numpy().ravel()))\n",
    "print(\"MNBC Model Test Accuracy Score :\",accuracy_score(y_pred=mnbc_test_predictions,y_true= y_test.to_numpy().ravel()))\n",
    "print(\"Stacked Model Test Accuracy Score :\",accuracy_score(y_pred=stacked_test_predictions,y_true= y_test.to_numpy().ravel()))"
   ]
  },
  {
   "cell_type": "code",
   "execution_count": 47,
   "metadata": {},
   "outputs": [
    {
     "name": "stdout",
     "output_type": "stream",
     "text": [
      "MLP Test F1 Score : 0.353831077030663\n",
      "RFC Test F1 Score : 0.39592991162161006\n",
      "MNBC Model Test F1 Score : 0.3246329856327226\n",
      "Stacked Model Test F1 Score : 0.37470836716792777\n"
     ]
    }
   ],
   "source": [
    "print(\"MLP Test F1 Score :\",f1_score(y_pred=mlp_test_predictions, y_true=y_test.to_numpy().ravel(), average = 'macro'))\n",
    "print(\"RFC Test F1 Score :\",f1_score(y_pred=rfc_test_predictions, y_true=y_test.to_numpy().ravel(), average = 'macro'))\n",
    "print(\"MNBC Model Test F1 Score :\",f1_score(mnbc_test_predictions, y_test.to_numpy().ravel(), average = 'macro'))\n",
    "print(\"Stacked Model Test F1 Score :\",f1_score(stacked_test_predictions, y_test.to_numpy().ravel(),average='macro'))"
   ]
  },
  {
   "cell_type": "code",
   "execution_count": 48,
   "metadata": {},
   "outputs": [
    {
     "name": "stdout",
     "output_type": "stream",
     "text": [
      "MLP Confusion matrix:\n",
      "[[  121    49    67    84   207]\n",
      " [   13    36    35    35    57]\n",
      " [   31    71   236   249   524]\n",
      " [   16    28   121   513  1031]\n",
      " [  109    92   427  1954 12655]]\n",
      "RFC Confusion matrix:\n",
      "[[   92    25    30    35   111]\n",
      " [    7    31     4     0     1]\n",
      " [   21    36   190   105   119]\n",
      " [   24    47   228   858  1283]\n",
      " [  146   137   434  1837 12960]]\n",
      "MNBC Confusion matrix:\n",
      "[[ 133   39   90  134  592]\n",
      " [  37   90   99  148  602]\n",
      " [  54   77  278  403  939]\n",
      " [  38   40  268 1028 2645]\n",
      " [  28   30  151 1122 9696]]\n",
      "Stacked Confusion matrix:\n",
      "[[  113    40    51    65   164]\n",
      " [   19    50    44    33    57]\n",
      " [   29    61   220   217   467]\n",
      " [   23    33   156   722  1481]\n",
      " [  106    92   415  1798 12305]]\n"
     ]
    }
   ],
   "source": [
    "print(\"MLP Confusion matrix:\\n{}\".format(confusion_matrix(y_pred=y_test.to_numpy().ravel(),y_true= mlp_test_predictions)))\n",
    "print(\"RFC Confusion matrix:\\n{}\".format(confusion_matrix(y_pred=y_test.to_numpy().ravel(),y_true= rfc_test_predictions)))\n",
    "print(\"MNBC Confusion matrix:\\n{}\".format(confusion_matrix(y_pred=y_test.to_numpy().ravel(),y_true= mnbc_test_predictions)))\n",
    "print(\"Stacked Confusion matrix:\\n{}\".format(confusion_matrix(y_pred=y_test.to_numpy().ravel(),y_true= stacked_test_predictions)))"
   ]
  },
  {
   "cell_type": "code",
   "execution_count": 49,
   "metadata": {},
   "outputs": [
    {
     "name": "stdout",
     "output_type": "stream",
     "text": [
      "MLP Classification report:\n",
      "               precision    recall  f1-score   support\n",
      "\n",
      "           1       0.23      0.42      0.30       290\n",
      "           2       0.20      0.13      0.16       276\n",
      "           3       0.21      0.27      0.24       886\n",
      "           4       0.30      0.18      0.23      2835\n",
      "           5       0.83      0.87      0.85     14474\n",
      "\n",
      "    accuracy                           0.72     18761\n",
      "   macro avg       0.36      0.37      0.35     18761\n",
      "weighted avg       0.70      0.72      0.71     18761\n",
      "\n",
      "RFC Classification report:\n",
      "               precision    recall  f1-score   support\n",
      "\n",
      "           1       0.31      0.32      0.32       290\n",
      "           2       0.72      0.11      0.19       276\n",
      "           3       0.40      0.21      0.28       886\n",
      "           4       0.35      0.30      0.33      2835\n",
      "           5       0.84      0.90      0.86     14474\n",
      "\n",
      "    accuracy                           0.75     18761\n",
      "   macro avg       0.53      0.37      0.40     18761\n",
      "weighted avg       0.73      0.75      0.74     18761\n",
      "\n"
     ]
    }
   ],
   "source": [
    "print(\"MLP Classification report:\\n\",classification_report(y_pred=mlp_test_predictions,  y_true= y_test.to_numpy().ravel()))\n",
    "print(\"RFC Classification report:\\n\",classification_report(y_pred=rfc_test_predictions,  y_true= y_test.to_numpy().ravel()))"
   ]
  },
  {
   "cell_type": "code",
   "execution_count": 50,
   "metadata": {},
   "outputs": [
    {
     "name": "stdout",
     "output_type": "stream",
     "text": [
      "MNBC Classification report:\n",
      "               precision    recall  f1-score   support\n",
      "\n",
      "           1       0.13      0.46      0.21       290\n",
      "           2       0.09      0.33      0.14       276\n",
      "           3       0.16      0.31      0.21       886\n",
      "           4       0.26      0.36      0.30      2835\n",
      "           5       0.88      0.67      0.76     14474\n",
      "\n",
      "    accuracy                           0.60     18761\n",
      "   macro avg       0.30      0.43      0.32     18761\n",
      "weighted avg       0.73      0.60      0.65     18761\n",
      "\n",
      "Stacked Classification report:\n",
      "               precision    recall  f1-score   support\n",
      "\n",
      "           1       0.26      0.39      0.31       290\n",
      "           2       0.25      0.18      0.21       276\n",
      "           3       0.22      0.25      0.23       886\n",
      "           4       0.30      0.25      0.28      2835\n",
      "           5       0.84      0.85      0.84     14474\n",
      "\n",
      "    accuracy                           0.71     18761\n",
      "   macro avg       0.37      0.38      0.37     18761\n",
      "weighted avg       0.71      0.71      0.71     18761\n",
      "\n"
     ]
    }
   ],
   "source": [
    "print(\"MNBC Classification report:\\n\",classification_report(y_pred=mnbc_test_predictions,  y_true= y_test.to_numpy().ravel()))\n",
    "print(\"Stacked Classification report:\\n\",classification_report(y_pred=stacked_test_predictions,  y_true= y_test.to_numpy().ravel()))"
   ]
  },
  {
   "cell_type": "markdown",
   "metadata": {},
   "source": [
    "## Visual Evaluation"
   ]
  },
  {
   "cell_type": "markdown",
   "metadata": {},
   "source": [
    "### Validation Set Visual Evaluation"
   ]
  },
  {
   "cell_type": "markdown",
   "metadata": {},
   "source": [
    "Transforming the classification report info into pandas dataframes so seaborn can interpret it."
   ]
  },
  {
   "cell_type": "code",
   "execution_count": 59,
   "metadata": {},
   "outputs": [
    {
     "name": "stdout",
     "output_type": "stream",
     "text": [
      "           Accuracy Macro_Precision Macro_Recall Macro_F1 Weighted_Precision  \\\n",
      "Train_MLP      0.66            0.35         0.39     0.36               0.71   \n",
      "Train_RFC      0.76            0.56         0.38     0.42               0.74   \n",
      "Train_MNBC     0.60            0.30         0.42     0.32               0.73   \n",
      "Train_SCLF     0.70            0.37         0.39     0.38               0.71   \n",
      "\n",
      "           Weighted_Recalls Weighted_F1s  \n",
      "Train_MLP              0.66         0.68  \n",
      "Train_RFC              0.76         0.74  \n",
      "Train_MNBC             0.60         0.65  \n",
      "Train_SCLF             0.70         0.70  \n",
      "           Precision Recall    F1\n",
      "Train_MLP       0.25   0.38  0.30\n",
      "Train_RFC       0.36   0.36  0.36\n",
      "Train_MNBC      0.12   0.42  0.19\n",
      "Train_SCLF      0.27   0.38  0.31\n",
      "           Precision Recall    F1\n",
      "Train_MLP       0.16   0.18  0.17\n",
      "Train_RFC       0.80   0.15  0.26\n",
      "Train_MNBC      0.09   0.30  0.14\n",
      "Train_SCLF      0.20   0.21  0.21\n",
      "           Precision Recall    F1\n",
      "Train_MLP       0.25   0.27  0.26\n",
      "Train_RFC       0.45   0.20  0.28\n",
      "Train_MNBC      0.16   0.33  0.22\n",
      "Train_SCLF      0.26   0.25  0.26\n",
      "           Precision Recall    F1\n",
      "Train_MLP       0.24   0.34  0.28\n",
      "Train_RFC       0.35   0.30  0.32\n",
      "Train_MNBC      0.26   0.38  0.31\n",
      "Train_SCLF      0.27   0.31  0.29\n",
      "           Precision Recall    F1\n",
      "Train_MLP       0.85   0.77  0.81\n",
      "Train_RFC       0.83   0.90  0.86\n",
      "Train_MNBC      0.88   0.67  0.76\n",
      "Train_SCLF      0.84   0.81  0.83\n"
     ]
    }
   ],
   "source": [
    "model_names =[]\n",
    "labels= []\n",
    "accuracies = []\n",
    "precisions = []\n",
    "recalls = []\n",
    "f1s = []\n",
    "macro_precisions = []\n",
    "macro_recalls = []\n",
    "macro_f1s = []\n",
    "weighted_precisions = []\n",
    "weighted_recalls = []\n",
    "weighted_f1s = []\n",
    "\n",
    "def classification_report_to_df(report, num_labels, model_name):\n",
    "\n",
    "    report = report.split('\\n')\n",
    "    model_names.append(model_name)\n",
    "    a = 0\n",
    "    for line in report:\n",
    "        t = line.strip().split() \n",
    "        if len(t)>0:\n",
    "            a +=1\n",
    "            if a == 1:\n",
    "                pass\n",
    "            if a == 2+num_labels:\n",
    "                accuracies.append(t[1])\n",
    "            if a == 3+num_labels:\n",
    "                macro_precisions.append(t[2])\n",
    "                macro_recalls.append(t[3])\n",
    "                macro_f1s.append(t[4])\n",
    "\n",
    "            if a == 4+num_labels:\n",
    "                weighted_precisions.append(t[2])\n",
    "                weighted_recalls.append(t[3])\n",
    "                weighted_f1s.append(t[4])\n",
    "        \n",
    "            if a>1 and a< 2+num_labels:\n",
    "                labels.append(t[0])\n",
    "                precisions.append(t[1])\n",
    "                recalls.append(t[2])\n",
    "                f1s.append(t[3])\n",
    "#dictionary of lists-> append dict values -> df dic -> df\n",
    "    precision_dic = {}\n",
    "    recall_dic = {}\n",
    "    f1_dic = {}\n",
    "    for a_Label in range(num_labels):\n",
    "        precision_dic['Label {}'.format(a_Label)] = []\n",
    "        recall_dic['Label {}'.format(a_Label)] = []\n",
    "        f1_dic['Label {}'.format(a_Label)] = []\n",
    "        for num_models in range(len(model_names)):\n",
    "            precision_dic['Label {}'.format(a_Label)].append(precisions[num_labels*num_models+a_Label])\n",
    "            recall_dic['Label {}'.format(a_Label)].append(recalls[num_labels*num_models+a_Label])\n",
    "            f1_dic['Label {}'.format(a_Label)].append(f1s[num_labels*num_models+a_Label])\n",
    "        \n",
    "    labels_df_dic = {}\n",
    "    for a_Label in range(num_labels):\n",
    "        labels_df_dic['Label{} df'.format(a_Label)]=pd.DataFrame(data=\n",
    "        {'Precision': precision_dic['Label {}'.format(a_Label)],\n",
    "        'Recall': recall_dic['Label {}'.format(a_Label)],\n",
    "        'F1': f1_dic['Label {}'.format(a_Label)]}, index=model_names)\n",
    "\n",
    "    macro_and_weighted_df = pd.DataFrame(data=\n",
    "    {'Accuracy': accuracies,\n",
    "    'Macro_Precision': macro_precisions,\n",
    "    'Macro_Recall': macro_recalls,\n",
    "    'Macro_F1': macro_f1s,\n",
    "    'Weighted_Precision': weighted_precisions,\n",
    "    'Weighted_Recalls': weighted_recalls,\n",
    "    'Weighted_F1s': weighted_f1s}, index=model_names)\n",
    "\n",
    "    return_list = []\n",
    "    return_list.append(macro_and_weighted_df)\n",
    "    \n",
    "    for Label_df in range(len(labels_df_dic)):\n",
    "        return_list.append(labels_df_dic['Label{} df'.format(Label_df)])\n",
    "\n",
    "    return return_list\n",
    "\n",
    "classification_report_to_df(classification_report(y_pred=mlp_val_test_predictions,  y_true= y_val_test.to_numpy().ravel()), 5, 'Train_MLP')\n",
    "classification_report_to_df(classification_report(y_pred=rfc_val_test_predictions, y_true= y_val_test.to_numpy().ravel()), 5, 'Train_RFC')\n",
    "classification_report_to_df(classification_report(y_pred=mnbc_val_test_predictions, y_true= y_val_test.to_numpy().ravel()), 5, 'Train_MNBC')\n",
    "classification_reports_train_df = classification_report_to_df(classification_report(y_pred=stacked_val_test_predictions, y_true= y_val_test.to_numpy().ravel()), 5, 'Train_SCLF')\n",
    "\n",
    "def printer(reports):\n",
    "    for dataframe in reports:\n",
    "        print(dataframe)\n",
    "\n",
    "printer(classification_reports_train_df)"
   ]
  },
  {
   "cell_type": "code",
   "execution_count": 60,
   "metadata": {},
   "outputs": [
    {
     "data": {
      "image/png": "[encoded data removed]",
      "text/plain": [
       "<Figure size 432x288 with 1 Axes>"
      ]
     },
     "metadata": {
      "needs_background": "light"
     },
     "output_type": "display_data"
    },
    {
     "data": {
      "image/png": "[encoded data removed]",
      "text/plain": [
       "<Figure size 432x288 with 1 Axes>"
      ]
     },
     "metadata": {
      "needs_background": "light"
     },
     "output_type": "display_data"
    },
    {
     "data": {
      "image/png": "[encoded data removed]",
      "text/plain": [
       "<Figure size 432x288 with 1 Axes>"
      ]
     },
     "metadata": {
      "needs_background": "light"
     },
     "output_type": "display_data"
    },
    {
     "data": {
      "image/png": "[encoded data removed]",
      "text/plain": [
       "<Figure size 432x288 with 1 Axes>"
      ]
     },
     "metadata": {
      "needs_background": "light"
     },
     "output_type": "display_data"
    },
    {
     "data": {
      "image/png": "[encoded data removed]",
      "text/plain": [
       "<Figure size 432x288 with 1 Axes>"
      ]
     },
     "metadata": {
      "needs_background": "light"
     },
     "output_type": "display_data"
    },
    {
     "data": {
      "image/png": "[encoded data removed]",
      "text/plain": [
       "<Figure size 432x288 with 1 Axes>"
      ]
     },
     "metadata": {
      "needs_background": "light"
     },
     "output_type": "display_data"
    },
    {
     "data": {
      "image/png": "[encoded data removed]",
      "text/plain": [
       "<Figure size 432x288 with 1 Axes>"
      ]
     },
     "metadata": {
      "needs_background": "light"
     },
     "output_type": "display_data"
    },
    {
     "data": {
      "image/png": "[encoded data removed]",
      "text/plain": [
       "<Figure size 432x288 with 1 Axes>"
      ]
     },
     "metadata": {
      "needs_background": "light"
     },
     "output_type": "display_data"
    },
    {
     "data": {
      "image/png": "[encoded data removed]",
      "text/plain": [
       "<Figure size 432x288 with 1 Axes>"
      ]
     },
     "metadata": {
      "needs_background": "light"
     },
     "output_type": "display_data"
    },
    {
     "data": {
      "image/png": "[encoded data removed]",
      "text/plain": [
       "<Figure size 432x288 with 1 Axes>"
      ]
     },
     "metadata": {
      "needs_background": "light"
     },
     "output_type": "display_data"
    },
    {
     "data": {
      "image/png": "[encoded data removed]",
      "text/plain": [
       "<Figure size 432x288 with 1 Axes>"
      ]
     },
     "metadata": {
      "needs_background": "light"
     },
     "output_type": "display_data"
    },
    {
     "data": {
      "image/png": "[encoded data removed]",
      "text/plain": [
       "<Figure size 432x288 with 1 Axes>"
      ]
     },
     "metadata": {
      "needs_background": "light"
     },
     "output_type": "display_data"
    },
    {
     "data": {
      "image/png": "[encoded data removed]",
      "text/plain": [
       "<Figure size 432x288 with 1 Axes>"
      ]
     },
     "metadata": {
      "needs_background": "light"
     },
     "output_type": "display_data"
    },
    {
     "data": {
      "image/png": "[encoded data removed]",
      "text/plain": [
       "<Figure size 432x288 with 1 Axes>"
      ]
     },
     "metadata": {
      "needs_background": "light"
     },
     "output_type": "display_data"
    },
    {
     "data": {
      "image/png": "[encoded data removed]",
      "text/plain": [
       "<Figure size 432x288 with 1 Axes>"
      ]
     },
     "metadata": {
      "needs_background": "light"
     },
     "output_type": "display_data"
    },
    {
     "data": {
      "image/png": "[encoded data removed]",
      "text/plain": [
       "<Figure size 432x288 with 1 Axes>"
      ]
     },
     "metadata": {
      "needs_background": "light"
     },
     "output_type": "display_data"
    },
    {
     "data": {
      "image/png": "[encoded data removed]",
      "text/plain": [
       "<Figure size 432x288 with 1 Axes>"
      ]
     },
     "metadata": {
      "needs_background": "light"
     },
     "output_type": "display_data"
    },
    {
     "data": {
      "image/png": "[encoded data removed]",
      "text/plain": [
       "<Figure size 432x288 with 1 Axes>"
      ]
     },
     "metadata": {
      "needs_background": "light"
     },
     "output_type": "display_data"
    },
    {
     "data": {
      "image/png": "[encoded data removed]",
      "text/plain": [
       "<Figure size 432x288 with 1 Axes>"
      ]
     },
     "metadata": {
      "needs_background": "light"
     },
     "output_type": "display_data"
    },
    {
     "data": {
      "image/png": "[encoded data removed]",
      "text/plain": [
       "<Figure size 432x288 with 1 Axes>"
      ]
     },
     "metadata": {
      "needs_background": "light"
     },
     "output_type": "display_data"
    },
    {
     "data": {
      "image/png": "[encoded data removed]",
      "text/plain": [
       "<Figure size 432x288 with 1 Axes>"
      ]
     },
     "metadata": {
      "needs_background": "light"
     },
     "output_type": "display_data"
    },
    {
     "data": {
      "image/png": "[encoded data removed]",
      "text/plain": [
       "<Figure size 432x288 with 1 Axes>"
      ]
     },
     "metadata": {
      "needs_background": "light"
     },
     "output_type": "display_data"
    }
   ],
   "source": [
    "def plotter(df_list):\n",
    "    for dataframeidx in range(len(df_list)):\n",
    "        if dataframeidx == 0:\n",
    "            for metric in df_list[dataframeidx].columns:\n",
    "                sns.barplot(y=df_list[dataframeidx][str(metric)].astype('float'), x=df_list[0].index).set_title(str(metric) + ' by Models')\n",
    "                plt.show()\n",
    "        else: \n",
    "            for metric in df_list[dataframeidx].columns:\n",
    "                sns.barplot(y=df_list[dataframeidx][str(metric)].astype('float'), x=df_list[0].index).set_title(str(metric) + ' by Models ' + 'for Label {}'.format(labels[dataframeidx-1]))\n",
    "                plt.show()\n",
    "\n",
    "plotter(classification_reports_train_df)"
   ]
  },
  {
   "cell_type": "markdown",
   "metadata": {},
   "source": [
    "### Test Set Visual Evaluation"
   ]
  },
  {
   "cell_type": "code",
   "execution_count": 61,
   "metadata": {},
   "outputs": [
    {
     "name": "stdout",
     "output_type": "stream",
     "text": [
      "          Accuracy Macro_Precision Macro_Recall Macro_F1 Weighted_Precision  \\\n",
      "Test_MLP      0.72            0.36         0.37     0.35               0.70   \n",
      "Test_RFC      0.75            0.53         0.37     0.40               0.73   \n",
      "Test_MNBC     0.60            0.30         0.43     0.32               0.73   \n",
      "Test_SCLF     0.71            0.37         0.38     0.37               0.71   \n",
      "\n",
      "          Weighted_Recalls Weighted_F1s  \n",
      "Test_MLP              0.72         0.71  \n",
      "Test_RFC              0.75         0.74  \n",
      "Test_MNBC             0.60         0.65  \n",
      "Test_SCLF             0.71         0.71  \n",
      "          Precision Recall    F1\n",
      "Test_MLP       0.23   0.42  0.30\n",
      "Test_RFC       0.31   0.32  0.32\n",
      "Test_MNBC      0.13   0.46  0.21\n",
      "Test_SCLF      0.26   0.39  0.31\n",
      "          Precision Recall    F1\n",
      "Test_MLP       0.20   0.13  0.16\n",
      "Test_RFC       0.72   0.11  0.19\n",
      "Test_MNBC      0.09   0.33  0.14\n",
      "Test_SCLF      0.25   0.18  0.21\n",
      "          Precision Recall    F1\n",
      "Test_MLP       0.21   0.27  0.24\n",
      "Test_RFC       0.40   0.21  0.28\n",
      "Test_MNBC      0.16   0.31  0.21\n",
      "Test_SCLF      0.22   0.25  0.23\n",
      "          Precision Recall    F1\n",
      "Test_MLP       0.30   0.18  0.23\n",
      "Test_RFC       0.35   0.30  0.33\n",
      "Test_MNBC      0.26   0.36  0.30\n",
      "Test_SCLF      0.30   0.25  0.28\n",
      "          Precision Recall    F1\n",
      "Test_MLP       0.83   0.87  0.85\n",
      "Test_RFC       0.84   0.90  0.86\n",
      "Test_MNBC      0.88   0.67  0.76\n",
      "Test_SCLF      0.84   0.85  0.84\n"
     ]
    }
   ],
   "source": [
    "model_names =[]\n",
    "labels= []\n",
    "accuracies = []\n",
    "precisions = []\n",
    "recalls = []\n",
    "f1s = []\n",
    "macro_precisions = []\n",
    "macro_recalls = []\n",
    "macro_f1s = []\n",
    "weighted_precisions = []\n",
    "weighted_recalls = []\n",
    "weighted_f1s = []\n",
    "\n",
    "classification_report_to_df(classification_report(y_pred=mlp_test_predictions,  y_true= y_test.to_numpy().ravel()), 5, 'Test_MLP')\n",
    "classification_report_to_df(classification_report(y_pred=rfc_test_predictions, y_true= y_test.to_numpy().ravel()), 5, 'Test_RFC')\n",
    "classification_report_to_df(classification_report(y_pred=mnbc_test_predictions, y_true= y_test.to_numpy().ravel()), 5, 'Test_MNBC')\n",
    "classification_reports_test_df = classification_report_to_df(classification_report(y_pred=stacked_test_predictions, y_true= y_test.to_numpy().ravel()), 5, 'Test_SCLF')\n",
    "\n",
    "printer(classification_reports_test_df)"
   ]
  },
  {
   "cell_type": "code",
   "execution_count": 62,
   "metadata": {},
   "outputs": [
    {
     "data": {
      "image/png": "[encoded data removed]",
      "text/plain": [
       "<Figure size 432x288 with 1 Axes>"
      ]
     },
     "metadata": {
      "needs_background": "light"
     },
     "output_type": "display_data"
    },
    {
     "data": {
      "image/png": "[encoded data removed]",
      "text/plain": [
       "<Figure size 432x288 with 1 Axes>"
      ]
     },
     "metadata": {
      "needs_background": "light"
     },
     "output_type": "display_data"
    },
    {
     "data": {
      "image/png": "[encoded data removed]",
      "text/plain": [
       "<Figure size 432x288 with 1 Axes>"
      ]
     },
     "metadata": {
      "needs_background": "light"
     },
     "output_type": "display_data"
    },
    {
     "data": {
      "image/png": "[encoded data removed]",
      "text/plain": [
       "<Figure size 432x288 with 1 Axes>"
      ]
     },
     "metadata": {
      "needs_background": "light"
     },
     "output_type": "display_data"
    },
    {
     "data": {
      "image/png": "[encoded data removed]",
      "text/plain": [
       "<Figure size 432x288 with 1 Axes>"
      ]
     },
     "metadata": {
      "needs_background": "light"
     },
     "output_type": "display_data"
    },
    {
     "data": {
      "image/png": "[encoded data removed]",
      "text/plain": [
       "<Figure size 432x288 with 1 Axes>"
      ]
     },
     "metadata": {
      "needs_background": "light"
     },
     "output_type": "display_data"
    },
    {
     "data": {
      "image/png": "[encoded data removed]",
      "text/plain": [
       "<Figure size 432x288 with 1 Axes>"
      ]
     },
     "metadata": {
      "needs_background": "light"
     },
     "output_type": "display_data"
    },
    {
     "data": {
      "image/png": "[encoded data removed]",
      "text/plain": [
       "<Figure size 432x288 with 1 Axes>"
      ]
     },
     "metadata": {
      "needs_background": "light"
     },
     "output_type": "display_data"
    },
    {
     "data": {
      "image/png": "[encoded data removed]",
      "text/plain": [
       "<Figure size 432x288 with 1 Axes>"
      ]
     },
     "metadata": {
      "needs_background": "light"
     },
     "output_type": "display_data"
    },
    {
     "data": {
      "image/png": "[encoded data removed]",
      "text/plain": [
       "<Figure size 432x288 with 1 Axes>"
      ]
     },
     "metadata": {
      "needs_background": "light"
     },
     "output_type": "display_data"
    },
    {
     "data": {
      "image/png": "[encoded data removed]",
      "text/plain": [
       "<Figure size 432x288 with 1 Axes>"
      ]
     },
     "metadata": {
      "needs_background": "light"
     },
     "output_type": "display_data"
    },
    {
     "data": {
      "image/png": "[encoded data removed]",
      "text/plain": [
       "<Figure size 432x288 with 1 Axes>"
      ]
     },
     "metadata": {
      "needs_background": "light"
     },
     "output_type": "display_data"
    },
    {
     "data": {
      "image/png": "[encoded data removed]",
      "text/plain": [
       "<Figure size 432x288 with 1 Axes>"
      ]
     },
     "metadata": {
      "needs_background": "light"
     },
     "output_type": "display_data"
    },
    {
     "data": {
      "image/png": "[encoded data removed]",
      "text/plain": [
       "<Figure size 432x288 with 1 Axes>"
      ]
     },
     "metadata": {
      "needs_background": "light"
     },
     "output_type": "display_data"
    },
    {
     "data": {
      "image/png": "[encoded data removed]",
      "text/plain": [
       "<Figure size 432x288 with 1 Axes>"
      ]
     },
     "metadata": {
      "needs_background": "light"
     },
     "output_type": "display_data"
    },
    {
     "data": {
      "image/png": "[encoded data removed]",
      "text/plain": [
       "<Figure size 432x288 with 1 Axes>"
      ]
     },
     "metadata": {
      "needs_background": "light"
     },
     "output_type": "display_data"
    },
    {
     "data": {
      "image/png": "[encoded data removed]",
      "text/plain": [
       "<Figure size 432x288 with 1 Axes>"
      ]
     },
     "metadata": {
      "needs_background": "light"
     },
     "output_type": "display_data"
    },
    {
     "data": {
      "image/png": "[encoded data removed]",
      "text/plain": [
       "<Figure size 432x288 with 1 Axes>"
      ]
     },
     "metadata": {
      "needs_background": "light"
     },
     "output_type": "display_data"
    },
    {
     "data": {
      "image/png": "[encoded data removed]",
      "text/plain": [
       "<Figure size 432x288 with 1 Axes>"
      ]
     },
     "metadata": {
      "needs_background": "light"
     },
     "output_type": "display_data"
    },
    {
     "data": {
      "image/png": "[encoded data removed]",
      "text/plain": [
       "<Figure size 432x288 with 1 Axes>"
      ]
     },
     "metadata": {
      "needs_background": "light"
     },
     "output_type": "display_data"
    },
    {
     "data": {
      "image/png": "[encoded data removed]",
      "text/plain": [
       "<Figure size 432x288 with 1 Axes>"
      ]
     },
     "metadata": {
      "needs_background": "light"
     },
     "output_type": "display_data"
    },
    {
     "data": {
      "image/png": "[encoded data removed]",
      "text/plain": [
       "<Figure size 432x288 with 1 Axes>"
      ]
     },
     "metadata": {
      "needs_background": "light"
     },
     "output_type": "display_data"
    }
   ],
   "source": [
    "plotter(classification_reports_test_df)"
   ]
  },
  {
   "cell_type": "markdown",
   "metadata": {},
   "source": [
    "Conclusion: The best performing model overall was the Random Forest Classifier, with the Stacked Logisitic Regression Model trailing behind and the Multinomial Naive Bayes Model performing the worse. In this case, the stacked model did not perform as well as the base models, this can be understood by the base models' better-than-weak results, which goes against the main purpose and use case of stacked models."
   ]
  },
  {
   "cell_type": "markdown",
   "metadata": {},
   "source": [
    "Future work: More EDA (i.e. matplotlib/seaborn/wordcloud), more advanced MLP techniques such as convolutions, recurrence, and Transformers, the last of which could also be used in the Feature Extraction part, more metrics(cohen's kappa, MCC, ROC) and boosting models like XGBoost or LightGBM."
   ]
  }
 ],
 "metadata": {
  "kernelspec": {
   "display_name": "Python 3.9.4 64-bit",
   "language": "python",
   "name": "python3"
  },
  "language_info": {
   "codemirror_mode": {
    "name": "ipython",
    "version": 3
   },
   "file_extension": ".py",
   "mimetype": "text/x-python",
   "name": "python",
   "nbconvert_exporter": "python",
   "pygments_lexer": "ipython3",
   "version": "3.9.4"
  },
  "orig_nbformat": 4,
  "vscode": {
   "interpreter": {
    "hash": "11a3d9b85d5ef9eb303a3e0d0718105e342595a43d68d297ee0965f43b786655"
   }
  }
 },
 "nbformat": 4,
 "nbformat_minor": 2
}
